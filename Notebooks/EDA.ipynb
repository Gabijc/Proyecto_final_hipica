{
 "cells": [
  {
   "cell_type": "markdown",
   "id": "a2cb9e03",
   "metadata": {},
   "source": [
    "# EDA"
   ]
  },
  {
   "cell_type": "code",
   "execution_count": 4,
   "id": "7df2e218",
   "metadata": {},
   "outputs": [],
   "source": [
    "import psycopg2 as ps\n",
    "import pandas as pd\n",
    "import matplotlib.pyplot as plt\n",
    "import seaborn as sns\n",
    "import plotly.express as px"
   ]
  },
  {
   "cell_type": "code",
   "execution_count": null,
   "id": "e7d9ce1b",
   "metadata": {},
   "outputs": [],
   "source": [
    "conn = ps.connect(\n",
    "    dbname = \"BBDD_Hipica\", # base a la que nos queremos conectar\n",
    "    user = \"postgres\",\n",
    "    password = \"admin\",\n",
    "    host = \"localhost\",\n",
    "    port = \"5432\" # puerto en el que s eencuentra postgres\n",
    ")"
   ]
  },
  {
   "cell_type": "code",
   "execution_count": null,
   "id": "5dd0380f",
   "metadata": {},
   "outputs": [],
   "source": [
    "cur = conn.cursor()"
   ]
  },
  {
   "cell_type": "code",
   "execution_count": null,
   "id": "bb0dd57a",
   "metadata": {},
   "outputs": [
    {
     "data": {
      "text/plain": [
       "('PostgreSQL 16.4, compiled by Visual C++ build 1940, 64-bit',)"
      ]
     },
     "metadata": {},
     "output_type": "display_data"
    }
   ],
   "source": [
    "# COmprobamos que la conexión está creada y conectada\n",
    "cur.execute(\"SELECT version();\")\n",
    "cur.fetchone() "
   ]
  },
  {
   "cell_type": "markdown",
   "id": "d2309f64",
   "metadata": {},
   "source": [
    "## Análisis de concursos"
   ]
  },
  {
   "cell_type": "code",
   "execution_count": null,
   "id": "996fdc05",
   "metadata": {},
   "outputs": [],
   "source": [
    "query1 = \"\"\"\n",
    "        SELECT \n",
    "            r.puesto,\n",
    "            r.estado,\n",
    "            j.nombre_jinete,\n",
    "            c2.nombre_caballo,\n",
    "            r.dinero_premio,\n",
    "            rs.puntos_obs_r1,\n",
    "            rs.puntos_tmp_r1,\n",
    "            rs.tiempo_r1,\n",
    "            rs.puntos_obs_r2,\n",
    "            rs.puntos_tmp_r2,\n",
    "            rs.tiempo_r2\n",
    "        FROM resultados r\n",
    "            JOIN concursos c ON r.id_concurso = c.id_concurso\n",
    "            JOIN pruebas p ON r.id_prueba = p.id_prueba\n",
    "            JOIN JINETES j ON r.id_jinete = j.id_jinete\n",
    "            JOIN caballos c2 ON r.id_caballo = c2.id_caballo\n",
    "            JOIN resultados_salto rs on r.id_resultado = rs.id_resultado\n",
    "        WHERE c.nombre_concurso = 'SPRING MET III 2025 - CSI3* GOLD' AND c.fecha_inicio_concurso = DATE '2025-03-20' AND p.nombre_prueba = '1,30 - Dos Fases (274.1.5.3)';\n",
    "\"\"\"\n",
    "cur.execute(query1)\n",
    "cosita = pd.DataFrame(cur.fetchall())\n",
    "cosita"
   ]
  },
  {
   "cell_type": "markdown",
   "id": "dd137c0e",
   "metadata": {},
   "source": [
    "## Análisis de jinetes"
   ]
  },
  {
   "cell_type": "markdown",
   "id": "a5745a34",
   "metadata": {},
   "source": [
    "## Análisis de caballos"
   ]
  },
  {
   "cell_type": "markdown",
   "id": "972ec7bd",
   "metadata": {},
   "source": [
    "## Análisis de pruebas"
   ]
  },
  {
   "cell_type": "markdown",
   "id": "d86f66fa",
   "metadata": {},
   "source": [
    "## Análisis de resultados"
   ]
  }
 ],
 "metadata": {
  "kernelspec": {
   "display_name": "venv",
   "language": "python",
   "name": "python3"
  },
  "language_info": {
   "codemirror_mode": {
    "name": "ipython",
    "version": 3
   },
   "file_extension": ".py",
   "mimetype": "text/x-python",
   "name": "python",
   "nbconvert_exporter": "python",
   "pygments_lexer": "ipython3",
   "version": "3.12.4"
  }
 },
 "nbformat": 4,
 "nbformat_minor": 5
}
