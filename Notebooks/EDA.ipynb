{
 "cells": [
  {
   "cell_type": "markdown",
   "id": "a2cb9e03",
   "metadata": {},
   "source": [
    "# EDA"
   ]
  },
  {
   "cell_type": "code",
   "execution_count": 99,
   "id": "7df2e218",
   "metadata": {},
   "outputs": [],
   "source": [
    "import psycopg2 as ps\n",
    "import pandas as pd\n",
    "import matplotlib.pyplot as plt\n",
    "import seaborn as sns\n",
    "import plotly.express as px\n",
    "import re\n",
    "import numpy as np"
   ]
  },
  {
   "cell_type": "code",
   "execution_count": 2,
   "id": "e8abdc84",
   "metadata": {},
   "outputs": [],
   "source": [
    "def conexion_BBDD(nombre_BBDD, usuario, contraseña, anfitrion, puerto):\n",
    "\n",
    "    conn = ps.connect(\n",
    "                    dbname = nombre_BBDD, \n",
    "                    user = usuario,\n",
    "                    password = contraseña,\n",
    "                    host = anfitrion,\n",
    "                    port = puerto)\n",
    "\n",
    "    return conn"
   ]
  },
  {
   "cell_type": "code",
   "execution_count": 3,
   "id": "8cc3abc1",
   "metadata": {},
   "outputs": [],
   "source": [
    "dbname = \"BBDD_Hipica\", # base a la que nos queremos conectar\n",
    "user = \"postgres\",\n",
    "password = \"admin\",\n",
    "host = \"localhost\",\n",
    "port = \"5432\" # puerto en el que s eencuentra postgres"
   ]
  },
  {
   "cell_type": "code",
   "execution_count": 4,
   "id": "e7d9ce1b",
   "metadata": {},
   "outputs": [
    {
     "data": {
      "text/plain": [
       "('PostgreSQL 16.4, compiled by Visual C++ build 1940, 64-bit',)"
      ]
     },
     "execution_count": 4,
     "metadata": {},
     "output_type": "execute_result"
    }
   ],
   "source": [
    "conn = conexion_BBDD(dbname[0], user[0], password[0], host[0], port)\n",
    "cur = conn.cursor()\n",
    "# COmprobamos que la conexión está creada y conectada\n",
    "cur.execute(\"SELECT version();\")\n",
    "cur.fetchone() "
   ]
  },
  {
   "cell_type": "markdown",
   "id": "d2309f64",
   "metadata": {},
   "source": [
    "## Análisis de concursos y pruebas"
   ]
  },
  {
   "cell_type": "code",
   "execution_count": 5,
   "id": "51f9999e",
   "metadata": {},
   "outputs": [],
   "source": [
    "def ejecutor_querys(cur, query):\n",
    "    cur.execute(query)\n",
    "    return cur.fetchall()"
   ]
  },
  {
   "cell_type": "code",
   "execution_count": 6,
   "id": "e9a744d8",
   "metadata": {},
   "outputs": [],
   "source": [
    "conn.rollback()"
   ]
  },
  {
   "cell_type": "code",
   "execution_count": 63,
   "id": "6749e209",
   "metadata": {},
   "outputs": [
    {
     "data": {
      "text/plain": [
       "[('caloua quick ps',),\n",
       " ('casaspezia',),\n",
       " ('el especal particular kc z',),\n",
       " ('idiego van het kapoelhof z',),\n",
       " ('juno de llamosas',),\n",
       " ('milme',),\n",
       " ('o-tanagra',),\n",
       " ('oswald b',),\n",
       " ('pillot bmg',),\n",
       " ('thunderbird van de derkes lp',),\n",
       " (\"umbreo van d'abdijhoeve\",),\n",
       " ('usus dc',)]"
      ]
     },
     "execution_count": 63,
     "metadata": {},
     "output_type": "execute_result"
    }
   ],
   "source": [
    "def concursos_seleccionado(jinete):\n",
    "    query = f\"\"\" \n",
    "                SELECT \n",
    "                    DISTINCT c.nombre_caballo\n",
    "                FROM resultados r\n",
    "                    JOIN caballos c ON r.id_caballo = c.id_caballo\n",
    "                    JOIN jinetes j ON r.id_jinete = j.id_jinete\n",
    "                WHERE j.nombre_jinete = '{jinete}';\n",
    "        \"\"\"\n",
    "    return ejecutor_querys(cur, query)\n",
    "\n",
    "caballos = list(concursos_seleccionado('hugo álvarez amaro'))\n",
    "caballos"
   ]
  },
  {
   "cell_type": "code",
   "execution_count": 87,
   "id": "174a3b31",
   "metadata": {},
   "outputs": [],
   "source": [
    "import re\n",
    "def extraer_altura_y_edad(texto):\n",
    "    altura = None\n",
    "    edad = None\n",
    "\n",
    "    match_altura = re.search(r'(\\d{1,2}[,.]\\d{2})\\s?(?:m\\.?)?', texto)\n",
    "    if match_altura:\n",
    "        altura = match_altura.group(1).replace(',', '.')\n",
    "\n",
    "    match_edad = re.search(r'\\b([5-8])\\s?años\\b', texto, flags=re.IGNORECASE)\n",
    "    if match_edad:\n",
    "        edad = f\"{match_edad.group(1)} años\"\n",
    "\n",
    "    return altura, edad\n"
   ]
  },
  {
   "cell_type": "code",
   "execution_count": 56,
   "id": "5e6c0c17",
   "metadata": {},
   "outputs": [],
   "source": [
    "conn.rollback()"
   ]
  },
  {
   "cell_type": "code",
   "execution_count": 129,
   "id": "c57ba974",
   "metadata": {},
   "outputs": [
    {
     "data": {
      "text/plain": [
       "(4, 50.0, ['1.45', '1.50', '1.55', '1.35'], [], 6, 14, 7)"
      ]
     },
     "execution_count": 129,
     "metadata": {},
     "output_type": "execute_result"
    }
   ],
   "source": [
    "query_prueba = \"\"\" \n",
    "        SELECT \n",
    "            j.nombre_jinete,\n",
    "            c.nombre_caballo,\n",
    "            rs.puntos_obs_r1,\n",
    "            rs.puntos_tmp_r1,\n",
    "            rs.tiempo_r1,\n",
    "            rs.puntos_obs_r2,\n",
    "            rs.puntos_tmp_r2,\n",
    "            rs.tiempo_r2,\n",
    "            rs.puntos_obs_r3,\n",
    "            rs.puntos_tmp_r3,\n",
    "            rs.tiempo_r3,\n",
    "            p.nombre_prueba,\n",
    "            co.nombre_concurso,\n",
    "            r.estado,\n",
    "            p.fecha_prueba,\n",
    "            r.puesto\n",
    "        FROM resultados r\n",
    "            JOIN caballos c ON r.id_caballo = c.id_caballo\n",
    "            JOIN jinetes j ON r.id_jinete = j.id_jinete\n",
    "            JOIN resultados_salto rs ON r.id_resultado = rs.id_resultado\n",
    "            JOIN pruebas p ON r.id_prueba = p.id_prueba\n",
    "            JOIN concursos co ON r.id_concurso = co.id_concurso\n",
    "        WHERE j.nombre_jinete = 'hugo álvarez amaro' AND c.nombre_caballo = 'casaspezia';\n",
    "\"\"\"\n",
    "binomio = pd.DataFrame(ejecutor_querys(cur, query_prueba)).rename(columns = {0: 'jinete', 1: 'caballo', 2: 'puntos_obs_r1', 3: 'puntos_tmp_r1', 4: 'tiempo_r1',\n",
    "                                                                   5: 'puntos_obs_r2', 6: 'puntos_tmp_r2', 7: 'tiempo_r2',\n",
    "                                                                   8: 'puntos_obs_r3', 9: 'puntos_tmp_r3', 10: 'tiempo_r3',\n",
    "                                                                   11: 'prueba', 12: 'concurso', 13: 'estado', 14: 'fecha_prueba', 15: 'puesto'})\n",
    "# METRICAS\n",
    "n_concursos = len(binomio['concurso'].unique()) # numero de concursos en los que el caballo ha competido con el jinete seleccionado\n",
    "n_caballos_corridos = len(caballos) # numero de cabllos que el jinete seleccionado corre actualmente/ha corrido este año\n",
    "porcentaje_recorridos_finalizados = round(len(binomio[binomio[\"estado\"] == \"FIN\"])/len(binomio) * 100, 2) # porcentaje de pruebas finalizadas\n",
    "\n",
    "tipos_pruebas_altura = binomio['prueba'].apply(extraer_altura_y_edad)\n",
    "alturas = []\n",
    "edad = []\n",
    "for elemento in tipos_pruebas_altura:\n",
    "    if pd.notna(elemento[0]):\n",
    "        alturas.append(elemento[0])\n",
    "    if pd.notna(elemento[1]):\n",
    "        edad.append(elemento[1])\n",
    "    else:\n",
    "        continue\n",
    "alturas_buenas = list(set(alturas)) # alturas en las que el jinete ha competido con el caballo seleccionado\n",
    "edad_bueno = list(set(edad)) # si es caballo joven o no \n",
    "\n",
    "\n",
    "tiempos = binomio[['tiempo_r1', 'tiempo_r2', 'tiempo_r3']].apply(pd.to_numeric, errors='coerce')\n",
    "promedio_tiempo = round(tiempos.stack().mean(), 2) # promedio de tiempo que realiza el caballo en un recorrido\n",
    "\n",
    "# Solo filas con estado FIN (salida a pista válida)\n",
    "df_fin = binomio[binomio['estado'] == 'FIN']\n",
    "\n",
    "# Vamos a revisar todas las rondas para contar las salidas y calcular puntos\n",
    "rondas = ['r1', 'r2', 'r3']\n",
    "\n",
    "# Creamos listas para guardar resultados de cada salida a pista (cada ronda válida)\n",
    "salidas_pista = []\n",
    "\n",
    "for _, fila in df_fin.iterrows():\n",
    "    for r in rondas:\n",
    "        p_obs = fila[f'puntos_obs_{r}']\n",
    "        p_tmp = fila[f'puntos_tmp_{r}']\n",
    "        tiempo = fila[f'tiempo_{r}']\n",
    "        \n",
    "        # Comprobar si salió a pista: alguna de estas 3 columnas tiene un valor numérico válido\n",
    "        if pd.notna(p_obs) or pd.notna(p_tmp) or pd.notna(tiempo):\n",
    "            # Asegurarnos que p_obs sea número, sino 0 para contar correctamente\n",
    "            p_obs_val = p_obs if pd.notna(p_obs) else 0\n",
    "            salidas_pista.append(p_obs_val)\n",
    "\n",
    "# Número de salidas a pista\n",
    "num_salidas = len(salidas_pista) # numero de recorridos/salidas a pista que ha realizado el cabllo con el jinete seleccionado\n",
    "\n",
    "# Promedio de puntos en obstáculos por salida\n",
    "promedio_puntos_obs = round(np.mean(salidas_pista)) # promedio de puntos de obstaculos que realiza el caballo en una salida a pista \n",
    "\n",
    "# Porcentaje de salidas con 0 puntos en obstáculos\n",
    "veces_cero = sum(1 for x in salidas_pista if x == 0) # numero de veces que el caballo ha hecho cero puntos en obstaculos\n",
    "promedio_veces_cero = (veces_cero / num_salidas if num_salidas > 0 else np.nan)*100\n",
    "jinete = binomio['jinete'].unique()[0]\n",
    "caballo = binomio['caballo'].unique()[0]\n",
    "edad_caballo = edad_bueno[0] if edad_bueno else \"No joven\"\n",
    "promedio_puntos_obs, promedio_veces_cero, alturas_buenas, edad_bueno, n_concursos, num_salidas, veces_cero\n"
   ]
  },
  {
   "cell_type": "code",
   "execution_count": 128,
   "id": "a95d2947",
   "metadata": {},
   "outputs": [
    {
     "name": "stdout",
     "output_type": "stream",
     "text": [
      "\n",
      "| Métrica               | Valor                        |\n",
      "|-----------------------|------------------------------|\n",
      "| Jinete                | hugo álvarez amaro                     |\n",
      "| Caballo               | casaspezia                    |\n",
      "| Edad caballo          | No joven               |\n",
      "| Concursos realizados  | 6                |\n",
      "| Altura óbstaculos     | ['1.45', '1.50', '1.55', '1.35']             |\n",
      "| Pots_medios_salida    | 4        |\n",
      "| Promedio_cero_obs     | 50.0        |\n",
      "\n"
     ]
    }
   ],
   "source": [
    "tabla_md = f\"\"\"\n",
    "| Métrica               | Valor                        |\n",
    "|-----------------------|------------------------------|\n",
    "| Jinete                | {jinete}                     |\n",
    "| Caballo               | {caballo}                    |\n",
    "| Edad caballo          | {edad_caballo}               |\n",
    "| Concursos realizados  | {n_concursos}                |\n",
    "| Altura óbstaculos     | {alturas_buenas}             |\n",
    "| Pots_medios_salida    | {promedio_puntos_obs}        |\n",
    "| Promedio_cero_obs     | {promedio_veces_cero}        |\n",
    "\"\"\"\n",
    "\n",
    "print(tabla_md)\n"
   ]
  },
  {
   "cell_type": "code",
   "execution_count": 130,
   "id": "dc03641c",
   "metadata": {},
   "outputs": [
    {
     "data": {
      "application/vnd.plotly.v1+json": {
       "config": {
        "plotlyServerURL": "https://plot.ly"
       },
       "data": [
        {
         "domain": {
          "x": [
           0,
           1
          ],
          "y": [
           0,
           1
          ]
         },
         "hovertemplate": "estado=%{label}<br>count=%{value}<extra></extra>",
         "labels": [
          "FIN",
          "RET"
         ],
         "legendgroup": "",
         "name": "",
         "showlegend": true,
         "textfont": {
          "color": "white"
         },
         "textinfo": "percent",
         "type": "pie",
         "values": {
          "bdata": "DQI=",
          "dtype": "i1"
         }
        }
       ],
       "layout": {
        "height": 400,
        "legend": {
         "tracegroupgap": 0
        },
        "piecolorway": [
         "#4c78a8",
         "#54a24b"
        ],
        "template": {
         "data": {
          "bar": [
           {
            "error_x": {
             "color": "#2a3f5f"
            },
            "error_y": {
             "color": "#2a3f5f"
            },
            "marker": {
             "line": {
              "color": "#E5ECF6",
              "width": 0.5
             },
             "pattern": {
              "fillmode": "overlay",
              "size": 10,
              "solidity": 0.2
             }
            },
            "type": "bar"
           }
          ],
          "barpolar": [
           {
            "marker": {
             "line": {
              "color": "#E5ECF6",
              "width": 0.5
             },
             "pattern": {
              "fillmode": "overlay",
              "size": 10,
              "solidity": 0.2
             }
            },
            "type": "barpolar"
           }
          ],
          "carpet": [
           {
            "aaxis": {
             "endlinecolor": "#2a3f5f",
             "gridcolor": "white",
             "linecolor": "white",
             "minorgridcolor": "white",
             "startlinecolor": "#2a3f5f"
            },
            "baxis": {
             "endlinecolor": "#2a3f5f",
             "gridcolor": "white",
             "linecolor": "white",
             "minorgridcolor": "white",
             "startlinecolor": "#2a3f5f"
            },
            "type": "carpet"
           }
          ],
          "choropleth": [
           {
            "colorbar": {
             "outlinewidth": 0,
             "ticks": ""
            },
            "type": "choropleth"
           }
          ],
          "contour": [
           {
            "colorbar": {
             "outlinewidth": 0,
             "ticks": ""
            },
            "colorscale": [
             [
              0,
              "#0d0887"
             ],
             [
              0.1111111111111111,
              "#46039f"
             ],
             [
              0.2222222222222222,
              "#7201a8"
             ],
             [
              0.3333333333333333,
              "#9c179e"
             ],
             [
              0.4444444444444444,
              "#bd3786"
             ],
             [
              0.5555555555555556,
              "#d8576b"
             ],
             [
              0.6666666666666666,
              "#ed7953"
             ],
             [
              0.7777777777777778,
              "#fb9f3a"
             ],
             [
              0.8888888888888888,
              "#fdca26"
             ],
             [
              1,
              "#f0f921"
             ]
            ],
            "type": "contour"
           }
          ],
          "contourcarpet": [
           {
            "colorbar": {
             "outlinewidth": 0,
             "ticks": ""
            },
            "type": "contourcarpet"
           }
          ],
          "heatmap": [
           {
            "colorbar": {
             "outlinewidth": 0,
             "ticks": ""
            },
            "colorscale": [
             [
              0,
              "#0d0887"
             ],
             [
              0.1111111111111111,
              "#46039f"
             ],
             [
              0.2222222222222222,
              "#7201a8"
             ],
             [
              0.3333333333333333,
              "#9c179e"
             ],
             [
              0.4444444444444444,
              "#bd3786"
             ],
             [
              0.5555555555555556,
              "#d8576b"
             ],
             [
              0.6666666666666666,
              "#ed7953"
             ],
             [
              0.7777777777777778,
              "#fb9f3a"
             ],
             [
              0.8888888888888888,
              "#fdca26"
             ],
             [
              1,
              "#f0f921"
             ]
            ],
            "type": "heatmap"
           }
          ],
          "histogram": [
           {
            "marker": {
             "pattern": {
              "fillmode": "overlay",
              "size": 10,
              "solidity": 0.2
             }
            },
            "type": "histogram"
           }
          ],
          "histogram2d": [
           {
            "colorbar": {
             "outlinewidth": 0,
             "ticks": ""
            },
            "colorscale": [
             [
              0,
              "#0d0887"
             ],
             [
              0.1111111111111111,
              "#46039f"
             ],
             [
              0.2222222222222222,
              "#7201a8"
             ],
             [
              0.3333333333333333,
              "#9c179e"
             ],
             [
              0.4444444444444444,
              "#bd3786"
             ],
             [
              0.5555555555555556,
              "#d8576b"
             ],
             [
              0.6666666666666666,
              "#ed7953"
             ],
             [
              0.7777777777777778,
              "#fb9f3a"
             ],
             [
              0.8888888888888888,
              "#fdca26"
             ],
             [
              1,
              "#f0f921"
             ]
            ],
            "type": "histogram2d"
           }
          ],
          "histogram2dcontour": [
           {
            "colorbar": {
             "outlinewidth": 0,
             "ticks": ""
            },
            "colorscale": [
             [
              0,
              "#0d0887"
             ],
             [
              0.1111111111111111,
              "#46039f"
             ],
             [
              0.2222222222222222,
              "#7201a8"
             ],
             [
              0.3333333333333333,
              "#9c179e"
             ],
             [
              0.4444444444444444,
              "#bd3786"
             ],
             [
              0.5555555555555556,
              "#d8576b"
             ],
             [
              0.6666666666666666,
              "#ed7953"
             ],
             [
              0.7777777777777778,
              "#fb9f3a"
             ],
             [
              0.8888888888888888,
              "#fdca26"
             ],
             [
              1,
              "#f0f921"
             ]
            ],
            "type": "histogram2dcontour"
           }
          ],
          "mesh3d": [
           {
            "colorbar": {
             "outlinewidth": 0,
             "ticks": ""
            },
            "type": "mesh3d"
           }
          ],
          "parcoords": [
           {
            "line": {
             "colorbar": {
              "outlinewidth": 0,
              "ticks": ""
             }
            },
            "type": "parcoords"
           }
          ],
          "pie": [
           {
            "automargin": true,
            "type": "pie"
           }
          ],
          "scatter": [
           {
            "fillpattern": {
             "fillmode": "overlay",
             "size": 10,
             "solidity": 0.2
            },
            "type": "scatter"
           }
          ],
          "scatter3d": [
           {
            "line": {
             "colorbar": {
              "outlinewidth": 0,
              "ticks": ""
             }
            },
            "marker": {
             "colorbar": {
              "outlinewidth": 0,
              "ticks": ""
             }
            },
            "type": "scatter3d"
           }
          ],
          "scattercarpet": [
           {
            "marker": {
             "colorbar": {
              "outlinewidth": 0,
              "ticks": ""
             }
            },
            "type": "scattercarpet"
           }
          ],
          "scattergeo": [
           {
            "marker": {
             "colorbar": {
              "outlinewidth": 0,
              "ticks": ""
             }
            },
            "type": "scattergeo"
           }
          ],
          "scattergl": [
           {
            "marker": {
             "colorbar": {
              "outlinewidth": 0,
              "ticks": ""
             }
            },
            "type": "scattergl"
           }
          ],
          "scattermap": [
           {
            "marker": {
             "colorbar": {
              "outlinewidth": 0,
              "ticks": ""
             }
            },
            "type": "scattermap"
           }
          ],
          "scattermapbox": [
           {
            "marker": {
             "colorbar": {
              "outlinewidth": 0,
              "ticks": ""
             }
            },
            "type": "scattermapbox"
           }
          ],
          "scatterpolar": [
           {
            "marker": {
             "colorbar": {
              "outlinewidth": 0,
              "ticks": ""
             }
            },
            "type": "scatterpolar"
           }
          ],
          "scatterpolargl": [
           {
            "marker": {
             "colorbar": {
              "outlinewidth": 0,
              "ticks": ""
             }
            },
            "type": "scatterpolargl"
           }
          ],
          "scatterternary": [
           {
            "marker": {
             "colorbar": {
              "outlinewidth": 0,
              "ticks": ""
             }
            },
            "type": "scatterternary"
           }
          ],
          "surface": [
           {
            "colorbar": {
             "outlinewidth": 0,
             "ticks": ""
            },
            "colorscale": [
             [
              0,
              "#0d0887"
             ],
             [
              0.1111111111111111,
              "#46039f"
             ],
             [
              0.2222222222222222,
              "#7201a8"
             ],
             [
              0.3333333333333333,
              "#9c179e"
             ],
             [
              0.4444444444444444,
              "#bd3786"
             ],
             [
              0.5555555555555556,
              "#d8576b"
             ],
             [
              0.6666666666666666,
              "#ed7953"
             ],
             [
              0.7777777777777778,
              "#fb9f3a"
             ],
             [
              0.8888888888888888,
              "#fdca26"
             ],
             [
              1,
              "#f0f921"
             ]
            ],
            "type": "surface"
           }
          ],
          "table": [
           {
            "cells": {
             "fill": {
              "color": "#EBF0F8"
             },
             "line": {
              "color": "white"
             }
            },
            "header": {
             "fill": {
              "color": "#C8D4E3"
             },
             "line": {
              "color": "white"
             }
            },
            "type": "table"
           }
          ]
         },
         "layout": {
          "annotationdefaults": {
           "arrowcolor": "#2a3f5f",
           "arrowhead": 0,
           "arrowwidth": 1
          },
          "autotypenumbers": "strict",
          "coloraxis": {
           "colorbar": {
            "outlinewidth": 0,
            "ticks": ""
           }
          },
          "colorscale": {
           "diverging": [
            [
             0,
             "#8e0152"
            ],
            [
             0.1,
             "#c51b7d"
            ],
            [
             0.2,
             "#de77ae"
            ],
            [
             0.3,
             "#f1b6da"
            ],
            [
             0.4,
             "#fde0ef"
            ],
            [
             0.5,
             "#f7f7f7"
            ],
            [
             0.6,
             "#e6f5d0"
            ],
            [
             0.7,
             "#b8e186"
            ],
            [
             0.8,
             "#7fbc41"
            ],
            [
             0.9,
             "#4d9221"
            ],
            [
             1,
             "#276419"
            ]
           ],
           "sequential": [
            [
             0,
             "#0d0887"
            ],
            [
             0.1111111111111111,
             "#46039f"
            ],
            [
             0.2222222222222222,
             "#7201a8"
            ],
            [
             0.3333333333333333,
             "#9c179e"
            ],
            [
             0.4444444444444444,
             "#bd3786"
            ],
            [
             0.5555555555555556,
             "#d8576b"
            ],
            [
             0.6666666666666666,
             "#ed7953"
            ],
            [
             0.7777777777777778,
             "#fb9f3a"
            ],
            [
             0.8888888888888888,
             "#fdca26"
            ],
            [
             1,
             "#f0f921"
            ]
           ],
           "sequentialminus": [
            [
             0,
             "#0d0887"
            ],
            [
             0.1111111111111111,
             "#46039f"
            ],
            [
             0.2222222222222222,
             "#7201a8"
            ],
            [
             0.3333333333333333,
             "#9c179e"
            ],
            [
             0.4444444444444444,
             "#bd3786"
            ],
            [
             0.5555555555555556,
             "#d8576b"
            ],
            [
             0.6666666666666666,
             "#ed7953"
            ],
            [
             0.7777777777777778,
             "#fb9f3a"
            ],
            [
             0.8888888888888888,
             "#fdca26"
            ],
            [
             1,
             "#f0f921"
            ]
           ]
          },
          "colorway": [
           "#636efa",
           "#EF553B",
           "#00cc96",
           "#ab63fa",
           "#FFA15A",
           "#19d3f3",
           "#FF6692",
           "#B6E880",
           "#FF97FF",
           "#FECB52"
          ],
          "font": {
           "color": "#2a3f5f"
          },
          "geo": {
           "bgcolor": "white",
           "lakecolor": "white",
           "landcolor": "#E5ECF6",
           "showlakes": true,
           "showland": true,
           "subunitcolor": "white"
          },
          "hoverlabel": {
           "align": "left"
          },
          "hovermode": "closest",
          "mapbox": {
           "style": "light"
          },
          "paper_bgcolor": "white",
          "plot_bgcolor": "#E5ECF6",
          "polar": {
           "angularaxis": {
            "gridcolor": "white",
            "linecolor": "white",
            "ticks": ""
           },
           "bgcolor": "#E5ECF6",
           "radialaxis": {
            "gridcolor": "white",
            "linecolor": "white",
            "ticks": ""
           }
          },
          "scene": {
           "xaxis": {
            "backgroundcolor": "#E5ECF6",
            "gridcolor": "white",
            "gridwidth": 2,
            "linecolor": "white",
            "showbackground": true,
            "ticks": "",
            "zerolinecolor": "white"
           },
           "yaxis": {
            "backgroundcolor": "#E5ECF6",
            "gridcolor": "white",
            "gridwidth": 2,
            "linecolor": "white",
            "showbackground": true,
            "ticks": "",
            "zerolinecolor": "white"
           },
           "zaxis": {
            "backgroundcolor": "#E5ECF6",
            "gridcolor": "white",
            "gridwidth": 2,
            "linecolor": "white",
            "showbackground": true,
            "ticks": "",
            "zerolinecolor": "white"
           }
          },
          "shapedefaults": {
           "line": {
            "color": "#2a3f5f"
           }
          },
          "ternary": {
           "aaxis": {
            "gridcolor": "white",
            "linecolor": "white",
            "ticks": ""
           },
           "baxis": {
            "gridcolor": "white",
            "linecolor": "white",
            "ticks": ""
           },
           "bgcolor": "#E5ECF6",
           "caxis": {
            "gridcolor": "white",
            "linecolor": "white",
            "ticks": ""
           }
          },
          "title": {
           "x": 0.05
          },
          "xaxis": {
           "automargin": true,
           "gridcolor": "white",
           "linecolor": "white",
           "ticks": "",
           "title": {
            "standoff": 15
           },
           "zerolinecolor": "white",
           "zerolinewidth": 2
          },
          "yaxis": {
           "automargin": true,
           "gridcolor": "white",
           "linecolor": "white",
           "ticks": "",
           "title": {
            "standoff": 15
           },
           "zerolinecolor": "white",
           "zerolinewidth": 2
          }
         }
        },
        "title": {
         "font": {
          "size": 16,
          "weight": "bold"
         },
         "text": "Porcentaje de finalización pruebas",
         "x": 0.5
        },
        "width": 600
       }
      }
     },
     "metadata": {},
     "output_type": "display_data"
    }
   ],
   "source": [
    "colores = ['#4c78a8', '#54a24b']\n",
    "estado_counts = binomio['estado'].value_counts().reset_index()\n",
    "estado_counts.columns = ['estado', 'count']\n",
    "fig = px.pie(estado_counts, values=\"count\", names=\"estado\", title='Porcentaje de finalización pruebas', color_discrete_sequence=colores)\n",
    "fig.update_traces(textinfo='percent', textfont_color='white')\n",
    "fig.update_layout(width=600, height=400, title_x=0.5, title_font=dict(size = 16, weight='bold'))\n",
    "fig.show()"
   ]
  },
  {
   "cell_type": "code",
   "execution_count": 133,
   "id": "337efa7f",
   "metadata": {},
   "outputs": [
    {
     "name": "stderr",
     "output_type": "stream",
     "text": [
      "C:\\Users\\gabri\\AppData\\Local\\Temp\\ipykernel_24840\\4008578131.py:5: FutureWarning:\n",
      "\n",
      "Downcasting object dtype arrays on .fillna, .ffill, .bfill is deprecated and will change in a future version. Call result.infer_objects(copy=False) instead. To opt-in to the future behavior, set `pd.set_option('future.no_silent_downcasting', True)`\n",
      "\n"
     ]
    },
    {
     "data": {
      "application/vnd.plotly.v1+json": {
       "config": {
        "plotlyServerURL": "https://plot.ly"
       },
       "data": [
        {
         "hovertemplate": "Fecha de prueba=%{x}<br>Puntos por obstáculos=%{marker.color}<extra></extra>",
         "legendgroup": "",
         "marker": {
          "color": {
           "bdata": "AAAAAAAAAAAAAAAAAAAoQAAAAAAAABBAAAAAAAAAIEAAAAAAAAAQQAAAAAAAAAAAAAAAAAAAAAAAAAAAAAAAAAAAAAAAAAAAAAAAAAAAEEAAAAAAAAAAAAAAAAAAAAAAAAAAAAAAKEAAAAAAAAAgQAAAAAAAAAAA",
           "dtype": "f8"
          },
          "coloraxis": "coloraxis",
          "pattern": {
           "shape": ""
          }
         },
         "name": "",
         "orientation": "v",
         "showlegend": false,
         "textposition": "auto",
         "type": "bar",
         "x": [
          "2025-02-06T00:00:00.000000000",
          "2025-02-07T00:00:00.000000000",
          "2025-02-09T00:00:00.000000000",
          "2025-02-14T00:00:00.000000000",
          "2025-02-16T00:00:00.000000000",
          "2025-02-21T00:00:00.000000000",
          "2025-02-22T00:00:00.000000000",
          "2025-03-13T00:00:00.000000000",
          "2025-03-14T00:00:00.000000000",
          "2025-03-16T00:00:00.000000000",
          "2025-03-20T00:00:00.000000000",
          "2025-03-21T00:00:00.000000000",
          "2025-04-25T00:00:00.000000000",
          "2025-04-26T00:00:00.000000000",
          "2025-04-27T00:00:00.000000000"
         ],
         "xaxis": "x",
         "y": {
          "bdata": "AAAAAAAAAAAAAAAAAAAoQAAAAAAAABBAAAAAAAAAIEAAAAAAAAAQQAAAAAAAAAAAAAAAAAAAAAAAAAAAAAAAAAAAAAAAAAAAAAAAAAAAEEAAAAAAAAAAAAAAAAAAAAAAAAAAAAAAKEAAAAAAAAAgQAAAAAAAAAAA",
          "dtype": "f8"
         },
         "yaxis": "y"
        }
       ],
       "layout": {
        "barmode": "relative",
        "coloraxis": {
         "colorbar": {
          "title": {
           "text": "Puntos por obstáculos"
          }
         },
         "colorscale": [
          [
           0,
           "rgb(255,245,240)"
          ],
          [
           0.125,
           "rgb(254,224,210)"
          ],
          [
           0.25,
           "rgb(252,187,161)"
          ],
          [
           0.375,
           "rgb(252,146,114)"
          ],
          [
           0.5,
           "rgb(251,106,74)"
          ],
          [
           0.625,
           "rgb(239,59,44)"
          ],
          [
           0.75,
           "rgb(203,24,29)"
          ],
          [
           0.875,
           "rgb(165,15,21)"
          ],
          [
           1,
           "rgb(103,0,13)"
          ]
         ]
        },
        "legend": {
         "tracegroupgap": 0
        },
        "template": {
         "data": {
          "bar": [
           {
            "error_x": {
             "color": "#2a3f5f"
            },
            "error_y": {
             "color": "#2a3f5f"
            },
            "marker": {
             "line": {
              "color": "#E5ECF6",
              "width": 0.5
             },
             "pattern": {
              "fillmode": "overlay",
              "size": 10,
              "solidity": 0.2
             }
            },
            "type": "bar"
           }
          ],
          "barpolar": [
           {
            "marker": {
             "line": {
              "color": "#E5ECF6",
              "width": 0.5
             },
             "pattern": {
              "fillmode": "overlay",
              "size": 10,
              "solidity": 0.2
             }
            },
            "type": "barpolar"
           }
          ],
          "carpet": [
           {
            "aaxis": {
             "endlinecolor": "#2a3f5f",
             "gridcolor": "white",
             "linecolor": "white",
             "minorgridcolor": "white",
             "startlinecolor": "#2a3f5f"
            },
            "baxis": {
             "endlinecolor": "#2a3f5f",
             "gridcolor": "white",
             "linecolor": "white",
             "minorgridcolor": "white",
             "startlinecolor": "#2a3f5f"
            },
            "type": "carpet"
           }
          ],
          "choropleth": [
           {
            "colorbar": {
             "outlinewidth": 0,
             "ticks": ""
            },
            "type": "choropleth"
           }
          ],
          "contour": [
           {
            "colorbar": {
             "outlinewidth": 0,
             "ticks": ""
            },
            "colorscale": [
             [
              0,
              "#0d0887"
             ],
             [
              0.1111111111111111,
              "#46039f"
             ],
             [
              0.2222222222222222,
              "#7201a8"
             ],
             [
              0.3333333333333333,
              "#9c179e"
             ],
             [
              0.4444444444444444,
              "#bd3786"
             ],
             [
              0.5555555555555556,
              "#d8576b"
             ],
             [
              0.6666666666666666,
              "#ed7953"
             ],
             [
              0.7777777777777778,
              "#fb9f3a"
             ],
             [
              0.8888888888888888,
              "#fdca26"
             ],
             [
              1,
              "#f0f921"
             ]
            ],
            "type": "contour"
           }
          ],
          "contourcarpet": [
           {
            "colorbar": {
             "outlinewidth": 0,
             "ticks": ""
            },
            "type": "contourcarpet"
           }
          ],
          "heatmap": [
           {
            "colorbar": {
             "outlinewidth": 0,
             "ticks": ""
            },
            "colorscale": [
             [
              0,
              "#0d0887"
             ],
             [
              0.1111111111111111,
              "#46039f"
             ],
             [
              0.2222222222222222,
              "#7201a8"
             ],
             [
              0.3333333333333333,
              "#9c179e"
             ],
             [
              0.4444444444444444,
              "#bd3786"
             ],
             [
              0.5555555555555556,
              "#d8576b"
             ],
             [
              0.6666666666666666,
              "#ed7953"
             ],
             [
              0.7777777777777778,
              "#fb9f3a"
             ],
             [
              0.8888888888888888,
              "#fdca26"
             ],
             [
              1,
              "#f0f921"
             ]
            ],
            "type": "heatmap"
           }
          ],
          "histogram": [
           {
            "marker": {
             "pattern": {
              "fillmode": "overlay",
              "size": 10,
              "solidity": 0.2
             }
            },
            "type": "histogram"
           }
          ],
          "histogram2d": [
           {
            "colorbar": {
             "outlinewidth": 0,
             "ticks": ""
            },
            "colorscale": [
             [
              0,
              "#0d0887"
             ],
             [
              0.1111111111111111,
              "#46039f"
             ],
             [
              0.2222222222222222,
              "#7201a8"
             ],
             [
              0.3333333333333333,
              "#9c179e"
             ],
             [
              0.4444444444444444,
              "#bd3786"
             ],
             [
              0.5555555555555556,
              "#d8576b"
             ],
             [
              0.6666666666666666,
              "#ed7953"
             ],
             [
              0.7777777777777778,
              "#fb9f3a"
             ],
             [
              0.8888888888888888,
              "#fdca26"
             ],
             [
              1,
              "#f0f921"
             ]
            ],
            "type": "histogram2d"
           }
          ],
          "histogram2dcontour": [
           {
            "colorbar": {
             "outlinewidth": 0,
             "ticks": ""
            },
            "colorscale": [
             [
              0,
              "#0d0887"
             ],
             [
              0.1111111111111111,
              "#46039f"
             ],
             [
              0.2222222222222222,
              "#7201a8"
             ],
             [
              0.3333333333333333,
              "#9c179e"
             ],
             [
              0.4444444444444444,
              "#bd3786"
             ],
             [
              0.5555555555555556,
              "#d8576b"
             ],
             [
              0.6666666666666666,
              "#ed7953"
             ],
             [
              0.7777777777777778,
              "#fb9f3a"
             ],
             [
              0.8888888888888888,
              "#fdca26"
             ],
             [
              1,
              "#f0f921"
             ]
            ],
            "type": "histogram2dcontour"
           }
          ],
          "mesh3d": [
           {
            "colorbar": {
             "outlinewidth": 0,
             "ticks": ""
            },
            "type": "mesh3d"
           }
          ],
          "parcoords": [
           {
            "line": {
             "colorbar": {
              "outlinewidth": 0,
              "ticks": ""
             }
            },
            "type": "parcoords"
           }
          ],
          "pie": [
           {
            "automargin": true,
            "type": "pie"
           }
          ],
          "scatter": [
           {
            "fillpattern": {
             "fillmode": "overlay",
             "size": 10,
             "solidity": 0.2
            },
            "type": "scatter"
           }
          ],
          "scatter3d": [
           {
            "line": {
             "colorbar": {
              "outlinewidth": 0,
              "ticks": ""
             }
            },
            "marker": {
             "colorbar": {
              "outlinewidth": 0,
              "ticks": ""
             }
            },
            "type": "scatter3d"
           }
          ],
          "scattercarpet": [
           {
            "marker": {
             "colorbar": {
              "outlinewidth": 0,
              "ticks": ""
             }
            },
            "type": "scattercarpet"
           }
          ],
          "scattergeo": [
           {
            "marker": {
             "colorbar": {
              "outlinewidth": 0,
              "ticks": ""
             }
            },
            "type": "scattergeo"
           }
          ],
          "scattergl": [
           {
            "marker": {
             "colorbar": {
              "outlinewidth": 0,
              "ticks": ""
             }
            },
            "type": "scattergl"
           }
          ],
          "scattermap": [
           {
            "marker": {
             "colorbar": {
              "outlinewidth": 0,
              "ticks": ""
             }
            },
            "type": "scattermap"
           }
          ],
          "scattermapbox": [
           {
            "marker": {
             "colorbar": {
              "outlinewidth": 0,
              "ticks": ""
             }
            },
            "type": "scattermapbox"
           }
          ],
          "scatterpolar": [
           {
            "marker": {
             "colorbar": {
              "outlinewidth": 0,
              "ticks": ""
             }
            },
            "type": "scatterpolar"
           }
          ],
          "scatterpolargl": [
           {
            "marker": {
             "colorbar": {
              "outlinewidth": 0,
              "ticks": ""
             }
            },
            "type": "scatterpolargl"
           }
          ],
          "scatterternary": [
           {
            "marker": {
             "colorbar": {
              "outlinewidth": 0,
              "ticks": ""
             }
            },
            "type": "scatterternary"
           }
          ],
          "surface": [
           {
            "colorbar": {
             "outlinewidth": 0,
             "ticks": ""
            },
            "colorscale": [
             [
              0,
              "#0d0887"
             ],
             [
              0.1111111111111111,
              "#46039f"
             ],
             [
              0.2222222222222222,
              "#7201a8"
             ],
             [
              0.3333333333333333,
              "#9c179e"
             ],
             [
              0.4444444444444444,
              "#bd3786"
             ],
             [
              0.5555555555555556,
              "#d8576b"
             ],
             [
              0.6666666666666666,
              "#ed7953"
             ],
             [
              0.7777777777777778,
              "#fb9f3a"
             ],
             [
              0.8888888888888888,
              "#fdca26"
             ],
             [
              1,
              "#f0f921"
             ]
            ],
            "type": "surface"
           }
          ],
          "table": [
           {
            "cells": {
             "fill": {
              "color": "#EBF0F8"
             },
             "line": {
              "color": "white"
             }
            },
            "header": {
             "fill": {
              "color": "#C8D4E3"
             },
             "line": {
              "color": "white"
             }
            },
            "type": "table"
           }
          ]
         },
         "layout": {
          "annotationdefaults": {
           "arrowcolor": "#2a3f5f",
           "arrowhead": 0,
           "arrowwidth": 1
          },
          "autotypenumbers": "strict",
          "coloraxis": {
           "colorbar": {
            "outlinewidth": 0,
            "ticks": ""
           }
          },
          "colorscale": {
           "diverging": [
            [
             0,
             "#8e0152"
            ],
            [
             0.1,
             "#c51b7d"
            ],
            [
             0.2,
             "#de77ae"
            ],
            [
             0.3,
             "#f1b6da"
            ],
            [
             0.4,
             "#fde0ef"
            ],
            [
             0.5,
             "#f7f7f7"
            ],
            [
             0.6,
             "#e6f5d0"
            ],
            [
             0.7,
             "#b8e186"
            ],
            [
             0.8,
             "#7fbc41"
            ],
            [
             0.9,
             "#4d9221"
            ],
            [
             1,
             "#276419"
            ]
           ],
           "sequential": [
            [
             0,
             "#0d0887"
            ],
            [
             0.1111111111111111,
             "#46039f"
            ],
            [
             0.2222222222222222,
             "#7201a8"
            ],
            [
             0.3333333333333333,
             "#9c179e"
            ],
            [
             0.4444444444444444,
             "#bd3786"
            ],
            [
             0.5555555555555556,
             "#d8576b"
            ],
            [
             0.6666666666666666,
             "#ed7953"
            ],
            [
             0.7777777777777778,
             "#fb9f3a"
            ],
            [
             0.8888888888888888,
             "#fdca26"
            ],
            [
             1,
             "#f0f921"
            ]
           ],
           "sequentialminus": [
            [
             0,
             "#0d0887"
            ],
            [
             0.1111111111111111,
             "#46039f"
            ],
            [
             0.2222222222222222,
             "#7201a8"
            ],
            [
             0.3333333333333333,
             "#9c179e"
            ],
            [
             0.4444444444444444,
             "#bd3786"
            ],
            [
             0.5555555555555556,
             "#d8576b"
            ],
            [
             0.6666666666666666,
             "#ed7953"
            ],
            [
             0.7777777777777778,
             "#fb9f3a"
            ],
            [
             0.8888888888888888,
             "#fdca26"
            ],
            [
             1,
             "#f0f921"
            ]
           ]
          },
          "colorway": [
           "#636efa",
           "#EF553B",
           "#00cc96",
           "#ab63fa",
           "#FFA15A",
           "#19d3f3",
           "#FF6692",
           "#B6E880",
           "#FF97FF",
           "#FECB52"
          ],
          "font": {
           "color": "#2a3f5f"
          },
          "geo": {
           "bgcolor": "white",
           "lakecolor": "white",
           "landcolor": "#E5ECF6",
           "showlakes": true,
           "showland": true,
           "subunitcolor": "white"
          },
          "hoverlabel": {
           "align": "left"
          },
          "hovermode": "closest",
          "mapbox": {
           "style": "light"
          },
          "paper_bgcolor": "white",
          "plot_bgcolor": "#E5ECF6",
          "polar": {
           "angularaxis": {
            "gridcolor": "white",
            "linecolor": "white",
            "ticks": ""
           },
           "bgcolor": "#E5ECF6",
           "radialaxis": {
            "gridcolor": "white",
            "linecolor": "white",
            "ticks": ""
           }
          },
          "scene": {
           "xaxis": {
            "backgroundcolor": "#E5ECF6",
            "gridcolor": "white",
            "gridwidth": 2,
            "linecolor": "white",
            "showbackground": true,
            "ticks": "",
            "zerolinecolor": "white"
           },
           "yaxis": {
            "backgroundcolor": "#E5ECF6",
            "gridcolor": "white",
            "gridwidth": 2,
            "linecolor": "white",
            "showbackground": true,
            "ticks": "",
            "zerolinecolor": "white"
           },
           "zaxis": {
            "backgroundcolor": "#E5ECF6",
            "gridcolor": "white",
            "gridwidth": 2,
            "linecolor": "white",
            "showbackground": true,
            "ticks": "",
            "zerolinecolor": "white"
           }
          },
          "shapedefaults": {
           "line": {
            "color": "#2a3f5f"
           }
          },
          "ternary": {
           "aaxis": {
            "gridcolor": "white",
            "linecolor": "white",
            "ticks": ""
           },
           "baxis": {
            "gridcolor": "white",
            "linecolor": "white",
            "ticks": ""
           },
           "bgcolor": "#E5ECF6",
           "caxis": {
            "gridcolor": "white",
            "linecolor": "white",
            "ticks": ""
           }
          },
          "title": {
           "x": 0.05
          },
          "xaxis": {
           "automargin": true,
           "gridcolor": "white",
           "linecolor": "white",
           "ticks": "",
           "title": {
            "standoff": 15
           },
           "zerolinecolor": "white",
           "zerolinewidth": 2
          },
          "yaxis": {
           "automargin": true,
           "gridcolor": "white",
           "linecolor": "white",
           "ticks": "",
           "title": {
            "standoff": 15
           },
           "zerolinecolor": "white",
           "zerolinewidth": 2
          }
         }
        },
        "title": {
         "text": "Puntos en obstáculos por fecha de prueba"
        },
        "xaxis": {
         "anchor": "y",
         "domain": [
          0,
          1
         ],
         "title": {
          "text": "Fecha"
         }
        },
        "yaxis": {
         "anchor": "x",
         "domain": [
          0,
          1
         ],
         "title": {
          "text": "Puntos de obstáculos"
         }
        }
       }
      }
     },
     "metadata": {},
     "output_type": "display_data"
    }
   ],
   "source": [
    "\n",
    "\n",
    "# Nos aseguramos de que la fecha sea tipo datetime\n",
    "binomio['fecha_prueba'] = pd.to_datetime(binomio['fecha_prueba'])\n",
    "\n",
    "# Creamos una nueva columna con la suma total de puntos por obstáculos\n",
    "binomio['puntos_obs_totales'] = binomio[['puntos_obs_r1', 'puntos_obs_r2', 'puntos_obs_r3']].fillna(0).sum(axis=1)\n",
    "\n",
    "# Agrupamos por fecha de prueba y sumamos los puntos de obstáculos por día\n",
    "df_grouped = binomio.groupby('fecha_prueba', as_index=False)['puntos_obs_totales'].sum()\n",
    "\n",
    "# Ordenamos por fecha\n",
    "df_grouped = df_grouped.sort_values('fecha_prueba')\n",
    "\n",
    "# Creamos el gráfico de barras\n",
    "fig = px.bar(\n",
    "    df_grouped,\n",
    "    x='fecha_prueba',\n",
    "    y='puntos_obs_totales',\n",
    "    title='Puntos en obstáculos por fecha de prueba',\n",
    "    labels={\n",
    "        'fecha_prueba': 'Fecha de prueba',\n",
    "        'puntos_obs_totales': 'Puntos por obstáculos'\n",
    "    },\n",
    "    color='puntos_obs_totales',\n",
    "    color_continuous_scale='Reds'\n",
    ")\n",
    "\n",
    "fig.update_layout(xaxis_title='Fecha', yaxis_title='Puntos de obstáculos')\n",
    "fig.show()"
   ]
  },
  {
   "cell_type": "code",
   "execution_count": 118,
   "id": "0f4fd4d7",
   "metadata": {},
   "outputs": [
    {
     "data": {
      "text/html": [
       "<div>\n",
       "<style scoped>\n",
       "    .dataframe tbody tr th:only-of-type {\n",
       "        vertical-align: middle;\n",
       "    }\n",
       "\n",
       "    .dataframe tbody tr th {\n",
       "        vertical-align: top;\n",
       "    }\n",
       "\n",
       "    .dataframe thead th {\n",
       "        text-align: right;\n",
       "    }\n",
       "</style>\n",
       "<table border=\"1\" class=\"dataframe\">\n",
       "  <thead>\n",
       "    <tr style=\"text-align: right;\">\n",
       "      <th></th>\n",
       "      <th>jinete</th>\n",
       "      <th>caballo</th>\n",
       "      <th>puntos_obs_r1</th>\n",
       "      <th>puntos_tmp_r1</th>\n",
       "      <th>tiempo_r1</th>\n",
       "      <th>puntos_obs_r2</th>\n",
       "      <th>puntos_tmp_r2</th>\n",
       "      <th>tiempo_r2</th>\n",
       "      <th>puntos_obs_r3</th>\n",
       "      <th>puntos_tmp_r3</th>\n",
       "      <th>tiempo_r3</th>\n",
       "      <th>prueba</th>\n",
       "      <th>concurso</th>\n",
       "      <th>estado</th>\n",
       "      <th>fecha_prueba</th>\n",
       "      <th>puesto</th>\n",
       "    </tr>\n",
       "  </thead>\n",
       "  <tbody>\n",
       "    <tr>\n",
       "      <th>0</th>\n",
       "      <td>hugo álvarez amaro</td>\n",
       "      <td>casaspezia</td>\n",
       "      <td>0.0</td>\n",
       "      <td>NaN</td>\n",
       "      <td>67.78</td>\n",
       "      <td>NaN</td>\n",
       "      <td>None</td>\n",
       "      <td>NaN</td>\n",
       "      <td>None</td>\n",
       "      <td>None</td>\n",
       "      <td>None</td>\n",
       "      <td>1,50 (G) - A c.c. (238.2.1)</td>\n",
       "      <td>CSI4* - 1st Week XXXI Andalucía Sunshine Tour ...</td>\n",
       "      <td>FIN</td>\n",
       "      <td>2025-02-06</td>\n",
       "      <td>14.0</td>\n",
       "    </tr>\n",
       "    <tr>\n",
       "      <th>1</th>\n",
       "      <td>hugo álvarez amaro</td>\n",
       "      <td>casaspezia</td>\n",
       "      <td>12.0</td>\n",
       "      <td>0.0</td>\n",
       "      <td>70.51</td>\n",
       "      <td>NaN</td>\n",
       "      <td>None</td>\n",
       "      <td>NaN</td>\n",
       "      <td>None</td>\n",
       "      <td>None</td>\n",
       "      <td>None</td>\n",
       "      <td>1,50 (G) - A c.c. (238.2.1)</td>\n",
       "      <td>CSI4* - 1st Week XXXI Andalucía Sunshine Tour ...</td>\n",
       "      <td>FIN</td>\n",
       "      <td>2025-02-07</td>\n",
       "      <td>42.0</td>\n",
       "    </tr>\n",
       "    <tr>\n",
       "      <th>2</th>\n",
       "      <td>hugo álvarez amaro</td>\n",
       "      <td>casaspezia</td>\n",
       "      <td>4.0</td>\n",
       "      <td>0.0</td>\n",
       "      <td>75.78</td>\n",
       "      <td>NaN</td>\n",
       "      <td>None</td>\n",
       "      <td>NaN</td>\n",
       "      <td>None</td>\n",
       "      <td>None</td>\n",
       "      <td>None</td>\n",
       "      <td>1,55 (GP) - A.c.c. y desempate (238.2.2)</td>\n",
       "      <td>CSI4* - 1st Week XXXI Andalucía Sunshine Tour ...</td>\n",
       "      <td>FIN</td>\n",
       "      <td>2025-02-09</td>\n",
       "      <td>12.0</td>\n",
       "    </tr>\n",
       "    <tr>\n",
       "      <th>3</th>\n",
       "      <td>hugo álvarez amaro</td>\n",
       "      <td>casaspezia</td>\n",
       "      <td>8.0</td>\n",
       "      <td>0.0</td>\n",
       "      <td>70.99</td>\n",
       "      <td>NaN</td>\n",
       "      <td>None</td>\n",
       "      <td>NaN</td>\n",
       "      <td>None</td>\n",
       "      <td>None</td>\n",
       "      <td>None</td>\n",
       "      <td>1,50 (GP) - A.c.c. y desempate (238.2.2)</td>\n",
       "      <td>CSI4* - 2nd Week XXXI Andalucía Sunshine Tour ...</td>\n",
       "      <td>FIN</td>\n",
       "      <td>2025-02-14</td>\n",
       "      <td>52.0</td>\n",
       "    </tr>\n",
       "    <tr>\n",
       "      <th>4</th>\n",
       "      <td>hugo álvarez amaro</td>\n",
       "      <td>casaspezia</td>\n",
       "      <td>4.0</td>\n",
       "      <td>0.0</td>\n",
       "      <td>79.24</td>\n",
       "      <td>NaN</td>\n",
       "      <td>None</td>\n",
       "      <td>NaN</td>\n",
       "      <td>None</td>\n",
       "      <td>None</td>\n",
       "      <td>None</td>\n",
       "      <td>1,50 (GP) - A.c.c. y desempate (238.2.2)</td>\n",
       "      <td>CSI4* - 2nd Week XXXI Andalucía Sunshine Tour ...</td>\n",
       "      <td>FIN</td>\n",
       "      <td>2025-02-16</td>\n",
       "      <td>27.0</td>\n",
       "    </tr>\n",
       "    <tr>\n",
       "      <th>5</th>\n",
       "      <td>hugo álvarez amaro</td>\n",
       "      <td>casaspezia</td>\n",
       "      <td>NaN</td>\n",
       "      <td>NaN</td>\n",
       "      <td>NaN</td>\n",
       "      <td>NaN</td>\n",
       "      <td>None</td>\n",
       "      <td>NaN</td>\n",
       "      <td>None</td>\n",
       "      <td>None</td>\n",
       "      <td>None</td>\n",
       "      <td>1,50 (G) - A c.c. (238.2.1)</td>\n",
       "      <td>CSI4* - 3rd Week XXXI Andalucía Sunshine Tour ...</td>\n",
       "      <td>RET</td>\n",
       "      <td>2025-02-21</td>\n",
       "      <td>NaN</td>\n",
       "    </tr>\n",
       "    <tr>\n",
       "      <th>6</th>\n",
       "      <td>hugo álvarez amaro</td>\n",
       "      <td>casaspezia</td>\n",
       "      <td>NaN</td>\n",
       "      <td>NaN</td>\n",
       "      <td>NaN</td>\n",
       "      <td>NaN</td>\n",
       "      <td>None</td>\n",
       "      <td>NaN</td>\n",
       "      <td>None</td>\n",
       "      <td>None</td>\n",
       "      <td>None</td>\n",
       "      <td>1,45 (GP) - A.c.c. y desempate (238.2.2)</td>\n",
       "      <td>CSI4* - 3rd Week XXXI Andalucía Sunshine Tour ...</td>\n",
       "      <td>RET</td>\n",
       "      <td>2025-02-22</td>\n",
       "      <td>NaN</td>\n",
       "    </tr>\n",
       "    <tr>\n",
       "      <th>7</th>\n",
       "      <td>hugo álvarez amaro</td>\n",
       "      <td>casaspezia</td>\n",
       "      <td>0.0</td>\n",
       "      <td>NaN</td>\n",
       "      <td>61.33</td>\n",
       "      <td>NaN</td>\n",
       "      <td>None</td>\n",
       "      <td>NaN</td>\n",
       "      <td>None</td>\n",
       "      <td>None</td>\n",
       "      <td>None</td>\n",
       "      <td>1,35 (G) - A c.c. (238.2.1)</td>\n",
       "      <td>CSI4* - 6th Week XXXI Andalucía Sunshine Tour ...</td>\n",
       "      <td>FIN</td>\n",
       "      <td>2025-03-13</td>\n",
       "      <td>1.0</td>\n",
       "    </tr>\n",
       "    <tr>\n",
       "      <th>8</th>\n",
       "      <td>hugo álvarez amaro</td>\n",
       "      <td>casaspezia</td>\n",
       "      <td>0.0</td>\n",
       "      <td>NaN</td>\n",
       "      <td>74.20</td>\n",
       "      <td>NaN</td>\n",
       "      <td>None</td>\n",
       "      <td>NaN</td>\n",
       "      <td>None</td>\n",
       "      <td>None</td>\n",
       "      <td>None</td>\n",
       "      <td>1,50 (GP) - Dos Mangas (273.3.4)</td>\n",
       "      <td>CSI4* - 6th Week XXXI Andalucía Sunshine Tour ...</td>\n",
       "      <td>FIN</td>\n",
       "      <td>2025-03-14</td>\n",
       "      <td>10.0</td>\n",
       "    </tr>\n",
       "    <tr>\n",
       "      <th>9</th>\n",
       "      <td>hugo álvarez amaro</td>\n",
       "      <td>casaspezia</td>\n",
       "      <td>4.0</td>\n",
       "      <td>0.0</td>\n",
       "      <td>77.29</td>\n",
       "      <td>NaN</td>\n",
       "      <td>None</td>\n",
       "      <td>NaN</td>\n",
       "      <td>None</td>\n",
       "      <td>None</td>\n",
       "      <td>None</td>\n",
       "      <td>1,55 (GP) - A.c.c. y desempate (238.2.2)</td>\n",
       "      <td>CSI4* - 6th Week XXXI Andalucía Sunshine Tour ...</td>\n",
       "      <td>FIN</td>\n",
       "      <td>2025-03-16</td>\n",
       "      <td>23.0</td>\n",
       "    </tr>\n",
       "    <tr>\n",
       "      <th>10</th>\n",
       "      <td>hugo álvarez amaro</td>\n",
       "      <td>casaspezia</td>\n",
       "      <td>0.0</td>\n",
       "      <td>NaN</td>\n",
       "      <td>64.66</td>\n",
       "      <td>NaN</td>\n",
       "      <td>None</td>\n",
       "      <td>NaN</td>\n",
       "      <td>None</td>\n",
       "      <td>None</td>\n",
       "      <td>None</td>\n",
       "      <td>1,45 (M) - A con cronometro sin desempate (238...</td>\n",
       "      <td>CSI4* - 7th Week XXXI Andalucía Sunshine Tour ...</td>\n",
       "      <td>FIN</td>\n",
       "      <td>2025-03-20</td>\n",
       "      <td>4.0</td>\n",
       "    </tr>\n",
       "    <tr>\n",
       "      <th>11</th>\n",
       "      <td>hugo álvarez amaro</td>\n",
       "      <td>casaspezia</td>\n",
       "      <td>0.0</td>\n",
       "      <td>NaN</td>\n",
       "      <td>65.41</td>\n",
       "      <td>NaN</td>\n",
       "      <td>None</td>\n",
       "      <td>NaN</td>\n",
       "      <td>None</td>\n",
       "      <td>None</td>\n",
       "      <td>None</td>\n",
       "      <td>1,50 (GP) - Dos Mangas (273.3.4)</td>\n",
       "      <td>CSI4* - 7th Week XXXI Andalucía Sunshine Tour ...</td>\n",
       "      <td>FIN</td>\n",
       "      <td>2025-03-21</td>\n",
       "      <td>6.0</td>\n",
       "    </tr>\n",
       "    <tr>\n",
       "      <th>12</th>\n",
       "      <td>hugo álvarez amaro</td>\n",
       "      <td>casaspezia</td>\n",
       "      <td>12.0</td>\n",
       "      <td>0.0</td>\n",
       "      <td>64.81</td>\n",
       "      <td>NaN</td>\n",
       "      <td>None</td>\n",
       "      <td>NaN</td>\n",
       "      <td>None</td>\n",
       "      <td>None</td>\n",
       "      <td>None</td>\n",
       "      <td>1,45 (G) - A c.c. (238.2.1)</td>\n",
       "      <td>SPRING MET IV - CSI3* GOLD</td>\n",
       "      <td>FIN</td>\n",
       "      <td>2025-04-25</td>\n",
       "      <td>66.0</td>\n",
       "    </tr>\n",
       "    <tr>\n",
       "      <th>13</th>\n",
       "      <td>hugo álvarez amaro</td>\n",
       "      <td>casaspezia</td>\n",
       "      <td>8.0</td>\n",
       "      <td>0.0</td>\n",
       "      <td>74.91</td>\n",
       "      <td>NaN</td>\n",
       "      <td>None</td>\n",
       "      <td>NaN</td>\n",
       "      <td>None</td>\n",
       "      <td>None</td>\n",
       "      <td>None</td>\n",
       "      <td>1,50 (G) - A.c.c. y desempate (238.2.2)</td>\n",
       "      <td>SPRING MET IV - CSI3* GOLD</td>\n",
       "      <td>FIN</td>\n",
       "      <td>2025-04-26</td>\n",
       "      <td>28.0</td>\n",
       "    </tr>\n",
       "    <tr>\n",
       "      <th>14</th>\n",
       "      <td>hugo álvarez amaro</td>\n",
       "      <td>casaspezia</td>\n",
       "      <td>0.0</td>\n",
       "      <td>NaN</td>\n",
       "      <td>74.04</td>\n",
       "      <td>0.0</td>\n",
       "      <td>None</td>\n",
       "      <td>39.57</td>\n",
       "      <td>None</td>\n",
       "      <td>None</td>\n",
       "      <td>None</td>\n",
       "      <td>1,50 (GP) - A.c.c. y desempate (238.2.2)</td>\n",
       "      <td>SPRING MET IV - CSI3* GOLD</td>\n",
       "      <td>FIN</td>\n",
       "      <td>2025-04-27</td>\n",
       "      <td>5.0</td>\n",
       "    </tr>\n",
       "  </tbody>\n",
       "</table>\n",
       "</div>"
      ],
      "text/plain": [
       "                jinete     caballo  puntos_obs_r1  puntos_tmp_r1  tiempo_r1  \\\n",
       "0   hugo álvarez amaro  casaspezia            0.0            NaN      67.78   \n",
       "1   hugo álvarez amaro  casaspezia           12.0            0.0      70.51   \n",
       "2   hugo álvarez amaro  casaspezia            4.0            0.0      75.78   \n",
       "3   hugo álvarez amaro  casaspezia            8.0            0.0      70.99   \n",
       "4   hugo álvarez amaro  casaspezia            4.0            0.0      79.24   \n",
       "5   hugo álvarez amaro  casaspezia            NaN            NaN        NaN   \n",
       "6   hugo álvarez amaro  casaspezia            NaN            NaN        NaN   \n",
       "7   hugo álvarez amaro  casaspezia            0.0            NaN      61.33   \n",
       "8   hugo álvarez amaro  casaspezia            0.0            NaN      74.20   \n",
       "9   hugo álvarez amaro  casaspezia            4.0            0.0      77.29   \n",
       "10  hugo álvarez amaro  casaspezia            0.0            NaN      64.66   \n",
       "11  hugo álvarez amaro  casaspezia            0.0            NaN      65.41   \n",
       "12  hugo álvarez amaro  casaspezia           12.0            0.0      64.81   \n",
       "13  hugo álvarez amaro  casaspezia            8.0            0.0      74.91   \n",
       "14  hugo álvarez amaro  casaspezia            0.0            NaN      74.04   \n",
       "\n",
       "    puntos_obs_r2 puntos_tmp_r2  tiempo_r2 puntos_obs_r3 puntos_tmp_r3  \\\n",
       "0             NaN          None        NaN          None          None   \n",
       "1             NaN          None        NaN          None          None   \n",
       "2             NaN          None        NaN          None          None   \n",
       "3             NaN          None        NaN          None          None   \n",
       "4             NaN          None        NaN          None          None   \n",
       "5             NaN          None        NaN          None          None   \n",
       "6             NaN          None        NaN          None          None   \n",
       "7             NaN          None        NaN          None          None   \n",
       "8             NaN          None        NaN          None          None   \n",
       "9             NaN          None        NaN          None          None   \n",
       "10            NaN          None        NaN          None          None   \n",
       "11            NaN          None        NaN          None          None   \n",
       "12            NaN          None        NaN          None          None   \n",
       "13            NaN          None        NaN          None          None   \n",
       "14            0.0          None      39.57          None          None   \n",
       "\n",
       "   tiempo_r3                                             prueba  \\\n",
       "0       None                        1,50 (G) - A c.c. (238.2.1)   \n",
       "1       None                        1,50 (G) - A c.c. (238.2.1)   \n",
       "2       None           1,55 (GP) - A.c.c. y desempate (238.2.2)   \n",
       "3       None           1,50 (GP) - A.c.c. y desempate (238.2.2)   \n",
       "4       None           1,50 (GP) - A.c.c. y desempate (238.2.2)   \n",
       "5       None                        1,50 (G) - A c.c. (238.2.1)   \n",
       "6       None           1,45 (GP) - A.c.c. y desempate (238.2.2)   \n",
       "7       None                        1,35 (G) - A c.c. (238.2.1)   \n",
       "8       None                   1,50 (GP) - Dos Mangas (273.3.4)   \n",
       "9       None           1,55 (GP) - A.c.c. y desempate (238.2.2)   \n",
       "10      None  1,45 (M) - A con cronometro sin desempate (238...   \n",
       "11      None                   1,50 (GP) - Dos Mangas (273.3.4)   \n",
       "12      None                        1,45 (G) - A c.c. (238.2.1)   \n",
       "13      None            1,50 (G) - A.c.c. y desempate (238.2.2)   \n",
       "14      None           1,50 (GP) - A.c.c. y desempate (238.2.2)   \n",
       "\n",
       "                                             concurso estado fecha_prueba  \\\n",
       "0   CSI4* - 1st Week XXXI Andalucía Sunshine Tour ...    FIN   2025-02-06   \n",
       "1   CSI4* - 1st Week XXXI Andalucía Sunshine Tour ...    FIN   2025-02-07   \n",
       "2   CSI4* - 1st Week XXXI Andalucía Sunshine Tour ...    FIN   2025-02-09   \n",
       "3   CSI4* - 2nd Week XXXI Andalucía Sunshine Tour ...    FIN   2025-02-14   \n",
       "4   CSI4* - 2nd Week XXXI Andalucía Sunshine Tour ...    FIN   2025-02-16   \n",
       "5   CSI4* - 3rd Week XXXI Andalucía Sunshine Tour ...    RET   2025-02-21   \n",
       "6   CSI4* - 3rd Week XXXI Andalucía Sunshine Tour ...    RET   2025-02-22   \n",
       "7   CSI4* - 6th Week XXXI Andalucía Sunshine Tour ...    FIN   2025-03-13   \n",
       "8   CSI4* - 6th Week XXXI Andalucía Sunshine Tour ...    FIN   2025-03-14   \n",
       "9   CSI4* - 6th Week XXXI Andalucía Sunshine Tour ...    FIN   2025-03-16   \n",
       "10  CSI4* - 7th Week XXXI Andalucía Sunshine Tour ...    FIN   2025-03-20   \n",
       "11  CSI4* - 7th Week XXXI Andalucía Sunshine Tour ...    FIN   2025-03-21   \n",
       "12                         SPRING MET IV - CSI3* GOLD    FIN   2025-04-25   \n",
       "13                         SPRING MET IV - CSI3* GOLD    FIN   2025-04-26   \n",
       "14                         SPRING MET IV - CSI3* GOLD    FIN   2025-04-27   \n",
       "\n",
       "    puesto  \n",
       "0     14.0  \n",
       "1     42.0  \n",
       "2     12.0  \n",
       "3     52.0  \n",
       "4     27.0  \n",
       "5      NaN  \n",
       "6      NaN  \n",
       "7      1.0  \n",
       "8     10.0  \n",
       "9     23.0  \n",
       "10     4.0  \n",
       "11     6.0  \n",
       "12    66.0  \n",
       "13    28.0  \n",
       "14     5.0  "
      ]
     },
     "execution_count": 118,
     "metadata": {},
     "output_type": "execute_result"
    }
   ],
   "source": [
    "binomio"
   ]
  },
  {
   "cell_type": "code",
   "execution_count": 68,
   "id": "13507608",
   "metadata": {},
   "outputs": [
    {
     "data": {
      "text/plain": [
       "[('1,30 - A.s.c. y desempate al cronómetro (238.1.2)',),\n",
       " ('1,20 - Velocidad y Manejabilidad (263)',),\n",
       " ('Ch - 1,30 m. - Dos Fases (274.1.5.3)',),\n",
       " ('Ch - 1,25 m. - 2 fases Asc / Acc (274.1.5.2)',),\n",
       " ('J - 1,35 m. - 2 fases Asc / Acc (274.1.5.2)',),\n",
       " ('CLASSIC TOUR A - 2 fases Asc / Acc (274.1.5.2)',),\n",
       " ('6 años - 1,25 - A.c.c. y desempate (238.2.2)',),\n",
       " ('7 años - 1,30 - Dos Fases Especial (274.2)',),\n",
       " ('Ch - 1,30 m. - A.c.c. y desempate (238.2.2)',),\n",
       " ('J - 1,35 m. - Dos Fases (274.1.5.3)',),\n",
       " ('1,30 (P) - A c.c. (238.2.1)',),\n",
       " ('6 años - 1,30 - A c.c. (238.2.1)',),\n",
       " ('1,45 - Dos Fases Especial (274.2)',),\n",
       " ('1,25 - Dos Fases (274.1.5.3)',),\n",
       " ('5 años - 1,10 - A c.c. (238.2.1)',),\n",
       " ('J - 1,35 m. - A c.c. (238.2.1)',),\n",
       " ('1,30 - A.c.c. y desempate al cronómetro (238.2.2)',),\n",
       " ('YR - 1,40 m. - 2 fases Asc / Acc (274.1.5.2)',),\n",
       " ('1,10 - A.c.c. y desempate (238.2.2)',),\n",
       " ('1,40 (G) - A.c.c. y desempate (238.2.2)',),\n",
       " ('1,20 - Dos Fases (274.1.5.3)',),\n",
       " ('1,40 (G) - A c.c. (238.2.1)',),\n",
       " ('1,35 (P) - DOS FASES (A c/c - A c/c) (274.1.5.3)',),\n",
       " ('1,35 - A.c.c. y desempate al cronómetro (238.2.2)',),\n",
       " ('1,10 - Dos Fases (274.1.5.3)',),\n",
       " ('1,45 (M) - A con cronometro sin desempate (238.2.1)',),\n",
       " ('7 años - 8 años - Dos Fases (274.1.5.3)',),\n",
       " ('1,30 - Dos fases Especial (Art. 274.2) (274.2)',),\n",
       " ('5 años - 1,10 - Dos Fases Especial (274.2)',),\n",
       " ('1,35 - A c.c. (238.2.1)',),\n",
       " ('7 años - 1,30 - A c.c. (238.2.1)',),\n",
       " ('1,40 - A.c.c. y desempate al cronómetro (238.2.2)',),\n",
       " ('6 años - 1,25 - Dos Fases (274.1.5.3)',),\n",
       " ('1,40 (M) - A c.c. (238.2.1)',),\n",
       " ('1,30 GP - Dos Mangas (A.c.c. - A.c.c.) sin desempate (273.3.3.1)',),\n",
       " ('1.35 GP - Acc y desempate (238.2.2)',),\n",
       " ('7 años - 1,35 - Dos Fases (274.1.5.3)',),\n",
       " ('1,30 (GP) - A.c.c. y desempate al cronómetro (238.2.2)',),\n",
       " ('7 años - 1,35 - A c.c. (238.2.1)',),\n",
       " ('1,45 (G) - Dos Fases (274.1.5.3)',),\n",
       " ('1.15 - Acc (238.2.1)',),\n",
       " ('1,45 (G) - A c.c. (238.2.1)',),\n",
       " ('1,40 (G) - DOS FASES (A c/c - A c/c) (274.1.5.3)',),\n",
       " ('1,45 (GP) - A.c.c. y desempate al cronómetro (238.2.2)',),\n",
       " ('1,40 (G) - Dos Fases (274.1.5.3)',),\n",
       " ('1,10 - Acc (238.2.1)',),\n",
       " ('7 años - 1,30 - Dos Fases (274.1.5.3)',),\n",
       " ('1,45 (G) - A.c.c. y desempate (238.2.2)',),\n",
       " ('1,30 - Accumulator (269.3.2)',),\n",
       " ('1,20 - C (239)',),\n",
       " ('1,30 - Caza (239)',),\n",
       " ('1.20 - DOS FASES (274.1.5.3)',),\n",
       " ('1,30 - Dos Fases (274.1.5.3)',),\n",
       " ('5 años - 1,15 - A sin cronómetro (238.1.1)',),\n",
       " ('1,20 - Dos Fases Especial (274.2)',),\n",
       " ('6 años - 1,15 - Dos Fases (274.1.5.3)',),\n",
       " ('1,45 (G) - 2 fases Asc / Acc (274.1.5.2)',),\n",
       " ('8 años - 1,40 - Dos Fases Especial (274.2)',),\n",
       " ('1,40 (M) - 2 fases Asc / Acc (274.1.5.2)',),\n",
       " ('1,45 (P) - DOS FASES (A c/c - A c/c) (274.1.5.3)',),\n",
       " ('J - 1,40 m. - A.c.c. y desempate (238.2.2)',),\n",
       " ('1,35 (G) - Dos Fases (274.1.5.3)',),\n",
       " ('5 años - 1,05 - A sin cronómetro (238.1.1)',),\n",
       " ('YR - 1,45 m. - A.c.c. y desempate (238.2.2)',),\n",
       " ('1,10 - Acc y desempate (238.2.1)',),\n",
       " ('5 años - 1,05 - A c.c. (238.2.1)',),\n",
       " ('7 años - 1,40 - A.c.c. y desempate (238.2.2)',),\n",
       " ('7 años - 1,30 - Acc y desempate (238.2.2)',),\n",
       " ('1,40 (GP) - GRAN PREMIO - A c/c y un desempate (238.2.2)',),\n",
       " ('1,20 - A c.c. (238.2.1)',),\n",
       " ('YR - 1,45 m. - A c.c. (238.2.1)',),\n",
       " ('1,50 (G) - DOS FASES (A c/c - A c/c) (274.1.5.3)',),\n",
       " ('1,20 - Dos fases Especial (Art. 274.2) (274.2)',),\n",
       " ('1,40 (GP) - A.c.c. y desempate (238.2.2)',),\n",
       " ('6 años - 1,20 - A sin cronómetro (238.1.1)',),\n",
       " ('1,45 (GP) - A.c.c. y desempate (238.2.2)',),\n",
       " ('5 años - 1,10 - Dos Fases (274.1.5.3)',),\n",
       " ('1,10 - A c.c. (238.2.1)',),\n",
       " ('6 años - 1,25 - A sin cronómetro (238.1.1)',),\n",
       " ('1,20 - Dificultades Progresivas (269.3.2)',),\n",
       " ('1,45 (GP) - Dos Mangas (273.3.4)',),\n",
       " ('5 años - 1,15 - A.c.c. y desempate (238.2.2)',),\n",
       " ('1,40 (P) - A c.c. (238.2.1)',),\n",
       " ('1,25 - Dificultades Progresivas (269.3.2)',),\n",
       " ('1,45 - A c.c. (238.2.1)',),\n",
       " ('1,10 - Dos Fases Especial (274.2)',),\n",
       " ('CLASSIC TOUR A - A c.c. (238.2.1)',),\n",
       " ('1,15 - Acc (238.1.1)',),\n",
       " ('1,40 (G) - 2 fases Asc / Acc (274.1.5.2)',),\n",
       " ('5 años - 1,20 - A.c.c. y desempate (238.2.2)',),\n",
       " ('1,25 - A c.c. (238.2.1)',),\n",
       " ('1,15 - Dos Fases Especial (274.2)',),\n",
       " ('1,40 (P) - DOS FASES (A c/c - A c/c) (274.1.5.3)',),\n",
       " ('1,35 - Dos fases Especial (Art. 274.2) (274.2)',),\n",
       " ('6 años - 1,20 - Dos Fases (274.1.5.3)',),\n",
       " ('1,40 - Dos Fases Especial (274.2)',),\n",
       " ('YR - 1,40 m. - A c.c. (238.2.1)',),\n",
       " ('5 años - 1,10 - A sin cronómetro (238.1.1)',),\n",
       " ('1,20 - A.c.c. y desempate al cronómetro (238.2.2)',),\n",
       " ('1,35 - Dos Fases Especial (274.2)',),\n",
       " ('1,05 - A sin cronómetro (238.1.1)',),\n",
       " ('8 años - 1,45 - A.c.c. (238.2.1)',),\n",
       " ('1,40 gp - A.c.c. y desempate al cronómetro (238.2.2)',),\n",
       " ('1.20 - Acc (238.2.1)',),\n",
       " ('6 años - 1,15 - A sin cronómetro (238.1.1)',),\n",
       " ('7 años - 1,25 - A c.c. (238.2.1)',),\n",
       " ('1.45 GP - Acc con desempate (238.2.2)',),\n",
       " ('7 años - 1,30 - A sin cronómetro (238.1.1)',),\n",
       " ('1,50 (G) - A.c.c. y desempate (238.2.2)',),\n",
       " ('6 años - 1,20 - 2 fases Asc / Acc (274.1.5.2)',),\n",
       " ('6 años - 1,20 - Dos Fases Especial (274.2)',),\n",
       " ('1,35 - Dos Fases (274.1.5.3)',),\n",
       " ('1,30 - Dos Fases Especial (274.2)',),\n",
       " ('1,35 (G) - 2 fases Asc / Acc (274.1.5.2)',),\n",
       " ('1,10 - A con cronómetro (238.2.1)',),\n",
       " ('1,45 (M) - Dos Fases (274.1.5.3)',),\n",
       " ('8 años - 1,45 - A.c.c y desempate (238.2.2)',),\n",
       " ('1,10 - A.c.c (238.2.1)',),\n",
       " ('1,35 (P) - A c.c. (238.2.1)',),\n",
       " ('1,30 - Dificultades Progresivas (269.3.2)',),\n",
       " ('7 años - 1,35 - A.c.c. y desempate (238.2.2)',),\n",
       " ('1,50 (G) - A con cronometro sin desempate (238.2.1)',),\n",
       " ('1,50 (G) - A c.c. (238.2.1)',),\n",
       " ('1,30 - Manga Ganadora (276.2)',),\n",
       " ('1,50 (GP) - Dos Mangas (273.3.4)',),\n",
       " ('7 años - 8 años - A.c.c (238.2.1)',),\n",
       " ('7 años - 1,35 - A sin cronómetro (238.1.1)',),\n",
       " ('1.20 - 2 FASES (274.1.5.2)',),\n",
       " ('1,40 (P) - A.c.c. y desempate (238.2.2)',),\n",
       " ('7 años - 8 años - A.c.c y desempate (238.2.2)',),\n",
       " ('1,55 (GP) - A.c.c. y desempate (238.2.2)',),\n",
       " ('7 años - 1,40 - A c.c. (238.2.1)',),\n",
       " ('1,00 - A sin cronómetro (238.1.1)',),\n",
       " ('1,35 (G) - A c.c. (238.2.1)',),\n",
       " ('Ch - CN - C.N. (264)',),\n",
       " ('1,30 - A.c.c. y desempate (238.2.2)',),\n",
       " ('YR - CN - C.N. (264)',),\n",
       " ('5 años - 1,15 - Dos Fases (274.1.5.3)',),\n",
       " ('8 años - 1,40 - A.c.c. (238.2.1)',),\n",
       " ('5 años - 1,20 - A sin cronómetro (238.1.1)',),\n",
       " ('1,05 - Dos Fases Especial (274.2)',),\n",
       " ('1,50 (GP) - A.c.c. y desempate (238.2.2)',),\n",
       " ('1,25 - Velocidad y Manejabilidad (263)',),\n",
       " ('1,35 (M) - A c.c. (238.2.1)',),\n",
       " ('1,30 - 2 fases Asc / Acc (274.1.5.2)',),\n",
       " ('6 años - 1,20 - A.c.c. y desempate (238.2.2)',),\n",
       " ('7 años - 1,35 - Dos Fases Especial (274.2)',),\n",
       " ('1,25 - Dos Fases Especial (274.2)',),\n",
       " ('1,35 GP - Dos Mangas (A c/c - A c/c) (273.3.3.1)',),\n",
       " ('1,15 - A c.c. (238.2.1)',),\n",
       " ('6 años - 1,30 - A.c.c. y desempate (238.2.2)',),\n",
       " ('1,20 - A.c.c. y desempate (238.2.2)',),\n",
       " ('5 años - 1,15 - Dos Fases Especial (274.2)',),\n",
       " ('Ch - 1,25 m. - A c.c. (238.2.1)',),\n",
       " ('1,35 GP - A.c.c. y desempate (238.2.2)',),\n",
       " ('6 años - 1,25 - A c.c. (238.2.1)',),\n",
       " ('1,40 (G) - A.c.c. y desempate al cronómetro (238.2.2)',),\n",
       " ('6 años - 1,25 - Dos Fases Especial (274.2)',),\n",
       " ('1,30 - A c.c. (238.2.1)',),\n",
       " ('Ch - 1,30 m. - A c.c. (238.2.1)',),\n",
       " ('1,40 - A c.c. (238.2.1)',),\n",
       " ('6 años - 1,20 - A c.c. (238.2.1)',),\n",
       " ('1,30 GP - A.c.c. y desempate (238.2.2)',),\n",
       " ('1,35 (G) - A.c.c. y desempate (238.2.2)',),\n",
       " ('J - 1,40 m. - A c.c. (238.2.1)',),\n",
       " ('1,45 (P) - A c.c. (238.2.1)',),\n",
       " ('1,30 - Velocidad y Manejabilidad (263)',)]"
      ]
     },
     "execution_count": 68,
     "metadata": {},
     "output_type": "execute_result"
    }
   ],
   "source": [
    "query_pruebas = \"\"\"\n",
    "        \n",
    "        SELECT DISTINCT\n",
    "            nombre_prueba\n",
    "        FROM pruebas p; \n",
    "\n",
    "\"\"\"\n",
    "ejecutor_querys(cur, query_pruebas)"
   ]
  },
  {
   "cell_type": "code",
   "execution_count": 8,
   "id": "16942a0d",
   "metadata": {},
   "outputs": [],
   "source": [
    "query_concursos_completos = \"\"\"\n",
    "        SELECT *\n",
    "        FROM concursos c;\n",
    "\"\"\"\n",
    "query_n_concursos = \"\"\"\n",
    "        SELECT COUNT(id_concurso)\n",
    "        FROM concursos c;\n",
    "\"\"\"\n",
    "query_fechas_concursos = \"\"\"\n",
    "        SELECT \n",
    "                MIN(fecha_inicio_concurso),\n",
    "                MAX(fecha_fin_concurso)\n",
    "        FROM concursos c;\n",
    "\"\"\"\n",
    "query_concursos_mes = \"\"\"\n",
    "        SELECT \n",
    "                EXTRACT(MONTH FROM fecha_inicio_concurso),\n",
    "                COUNT(id_concurso)\n",
    "        FROM concursos c\n",
    "        GROUP BY EXTRACT(MONTH FROM fecha_inicio_concurso)\n",
    "        ORDER BY COUNT(id_concurso) DESC;\n",
    "\"\"\"\n",
    "query_concursos_ambito = \"\"\"\n",
    "        SELECT \n",
    "                ambito_concurso,\n",
    "                CONCAT((COUNT(id_concurso)) * 100 / (SELECT COUNT(id_concurso) FROM concursos c), ' ', '%')\n",
    "        FROM concursos c\n",
    "        GROUP BY ambito_concurso\n",
    "        ORDER BY COUNT(id_concurso) DESC;\n",
    "\"\"\"\n",
    "query_concursos_federacion = \"\"\"\n",
    "        SELECT \n",
    "                federacion_concurso,\n",
    "                COUNT(id_concurso)\n",
    "        FROM concursos c\n",
    "        GROUP BY federacion_concurso\n",
    "        ORDER BY COUNT(id_concurso) DESC;\n",
    "\"\"\"\n",
    "query_concursos_provincia = \"\"\"\n",
    "        SELECT \n",
    "                provincia_concurso,\n",
    "                COUNT(id_concurso)\n",
    "        FROM concursos c\n",
    "        GROUP BY provincia_concurso\n",
    "        ORDER BY COUNT(id_concurso) DESC;\n",
    "\"\"\"\n",
    "\n",
    "query_concursos_localidad = \"\"\"\n",
    "        SELECT \n",
    "                localidad_concurso,\n",
    "                COUNT(id_concurso)\n",
    "        FROM concursos c\n",
    "        GROUP BY localidad_concurso\n",
    "        ORDER BY COUNT(id_concurso) DESC;\n",
    "\"\"\"\n",
    "\n",
    "query_concursos_localidad = \"\"\"\n",
    "        SELECT \n",
    "                localidad_concurso,\n",
    "                COUNT(id_concurso)\n",
    "        FROM concursos c\n",
    "        GROUP BY localidad_concurso\n",
    "        ORDER BY COUNT(id_concurso) DESC;\n",
    "\"\"\"\n",
    "query_concursos_pruebas_concurso = \"\"\"\n",
    "        \n",
    "        WITH pruebas_concurso AS (\n",
    "                SELECT \n",
    "                        c.id_concurso,\n",
    "                        COUNT(DISTINCT p.id_prueba) as n_pruebas_concurso\n",
    "                FROM resultados r\n",
    "                        JOIN concursos c ON r.id_concurso = c.id_concurso\n",
    "                        JOIN pruebas p ON r.id_prueba = p.id_prueba\n",
    "                GROUP BY c.id_concurso\n",
    "        )\n",
    "        SELECT \n",
    "                ROUND(AVG(n_pruebas_concurso), 0)\n",
    "        FROM pruebas_concurso;\n",
    "\n",
    "\"\"\"\n",
    "\n",
    "query_pruebas = \"\"\"\n",
    "        \n",
    "        SELECT \n",
    "                DISTINCT SUBSTRING(\n",
    "                         nombre_prueba \n",
    "                         FROM POSITION('(2' IN nombre_prueba)\n",
    "                         ) as tipo_prueba, \n",
    "                COUNT(id_prueba)\n",
    "        FROM pruebas p\n",
    "        GROUP BY tipo_prueba\n",
    "        ORDER BY 2 DESC; \n",
    "\n",
    "\"\"\"\n",
    "query_duracion_concursos = \"\"\"\n",
    "        \n",
    "        SELECT \n",
    "                ROUND(AVG(fecha_fin_concurso::date - fecha_inicio_concurso::date), 0)\n",
    "        FROM concursos c; \n",
    "\n",
    "\"\"\"\n",
    "\n",
    "query_dinero_repartido_concursos = \"\"\"\n",
    "        \n",
    "        WITH ConteoJinetesCaballosPorConcurso AS (\n",
    "        SELECT\n",
    "                r.id_concurso,\n",
    "                COUNT(DISTINCT r.id_jinete) AS conteo_jinetes,\n",
    "                COUNT(DISTINCT r.id_caballo) AS conteo_caballos\n",
    "        FROM resultados r\n",
    "        GROUP BY r.id_concurso\n",
    "        ),\n",
    "        DineroTotalPorConcurso AS (\n",
    "        SELECT\n",
    "                r.id_concurso,\n",
    "                SUM(r.dinero_premio) AS total_premio_concurso\n",
    "        FROM resultados r\n",
    "        GROUP BY r.id_concurso\n",
    "        )\n",
    "        SELECT\n",
    "                c.categoria_concurso,\n",
    "                AVG(cjcc.conteo_jinetes) AS media_jinetes,\n",
    "                AVG(cjcc.conteo_caballos) AS media_caballos,\n",
    "                AVG(dtpc.total_premio_concurso) AS media_dinero_premio_por_concurso\n",
    "        FROM concursos c\n",
    "                JOIN ConteoJinetesCaballosPorConcurso cjcc ON c.id_concurso = cjcc.id_concurso\n",
    "                JOIN resultados r ON c.id_concurso = r.id_concurso\n",
    "                JOIN DineroTotalPorConcurso dtpc ON c.id_concurso = dtpc.id_concurso\n",
    "        GROUP BY c.categoria_concurso\n",
    "        ORDER BY 4 DESC;\n",
    "\n",
    "\"\"\""
   ]
  },
  {
   "cell_type": "code",
   "execution_count": 9,
   "id": "81921080",
   "metadata": {},
   "outputs": [],
   "source": [
    "meses = {\n",
    "    1: \"enero\",\n",
    "    2: \"febrero\",\n",
    "    3: \"marzo\",\n",
    "    4: \"abril\",\n",
    "    5: \"mayo\",\n",
    "    6: \"junio\",\n",
    "    7: \"julio\",\n",
    "    8: \"agosto\",\n",
    "    9: \"septiembre\",\n",
    "    10: \"octubre\",\n",
    "    11: \"noviembre\",\n",
    "    12: \"diciembre\"\n",
    "}\n",
    "prueba_norma = {\n",
    "    '(238.2.1)': 'Baremo A con cronómetro',\n",
    "    '(238.2.2)': 'Baremo A con cronómetro y desempate',\n",
    "    '(274.1.5.3)': 'Dos fases, ambas con cronómetro',\n",
    "    '(274.2)': 'Dos fases especial',\n",
    "    '(238.1.1)': 'Baremo A sin cronómetro',\n",
    "    '(274.1.5.2)': 'Dos fases, primera sin cronómetro, segunda con cronómetro',\n",
    "    '(269.3.2)': 'Prueba de potencia',\n",
    "    '(263)': 'Baremo C',\n",
    "    '(273.3.4)': 'Prueba con dos mangas y desempate',\n",
    "    '(239)': 'Baremo A juzgado como Baremo C',\n",
    "    '(264)': 'Prueba de caza',\n",
    "    '(273.3.3.1)': 'Prueba con dos mangas sin desempate',\n",
    "    '(276.2)': 'Prueba con puntuación progresiva',\n",
    "    '(238.1.2)': 'Baremo A sin cronómetro con desempate'\n",
    "}\n",
    "\n"
   ]
  },
  {
   "cell_type": "code",
   "execution_count": 10,
   "id": "b8291366",
   "metadata": {},
   "outputs": [],
   "source": [
    "conn.rollback()"
   ]
  },
  {
   "cell_type": "markdown",
   "id": "0309f095",
   "metadata": {},
   "source": [
    "cuantos caballos por categoría, media de caballos por concurso, y por categoría, concursos que mas caballos han atraído, dinero repartido en premios de media en un concurso de cada categoría, "
   ]
  },
  {
   "cell_type": "code",
   "execution_count": 11,
   "id": "b6921d2b",
   "metadata": {},
   "outputs": [
    {
     "data": {
      "text/html": [
       "<div>\n",
       "<style scoped>\n",
       "    .dataframe tbody tr th:only-of-type {\n",
       "        vertical-align: middle;\n",
       "    }\n",
       "\n",
       "    .dataframe tbody tr th {\n",
       "        vertical-align: top;\n",
       "    }\n",
       "\n",
       "    .dataframe thead th {\n",
       "        text-align: right;\n",
       "    }\n",
       "</style>\n",
       "<table border=\"1\" class=\"dataframe\">\n",
       "  <thead>\n",
       "    <tr style=\"text-align: right;\">\n",
       "      <th></th>\n",
       "      <th>categoria</th>\n",
       "      <th>jinetes</th>\n",
       "      <th>caballos</th>\n",
       "      <th>dinero_medio</th>\n",
       "    </tr>\n",
       "  </thead>\n",
       "  <tbody>\n",
       "    <tr>\n",
       "      <th>0</th>\n",
       "      <td>CSI****</td>\n",
       "      <td>335.25</td>\n",
       "      <td>809.76</td>\n",
       "      <td>393141.89</td>\n",
       "    </tr>\n",
       "    <tr>\n",
       "      <th>1</th>\n",
       "      <td>CSI***</td>\n",
       "      <td>113.11</td>\n",
       "      <td>270.81</td>\n",
       "      <td>262111.37</td>\n",
       "    </tr>\n",
       "    <tr>\n",
       "      <th>2</th>\n",
       "      <td>CSI**</td>\n",
       "      <td>121.86</td>\n",
       "      <td>286.88</td>\n",
       "      <td>91725.00</td>\n",
       "    </tr>\n",
       "    <tr>\n",
       "      <th>3</th>\n",
       "      <td>CSI*</td>\n",
       "      <td>143.44</td>\n",
       "      <td>244.70</td>\n",
       "      <td>83613.54</td>\n",
       "    </tr>\n",
       "    <tr>\n",
       "      <th>4</th>\n",
       "      <td>CSI YH*</td>\n",
       "      <td>154.20</td>\n",
       "      <td>348.28</td>\n",
       "      <td>53165.94</td>\n",
       "    </tr>\n",
       "    <tr>\n",
       "      <th>5</th>\n",
       "      <td>CSN*****</td>\n",
       "      <td>175.92</td>\n",
       "      <td>286.92</td>\n",
       "      <td>37879.63</td>\n",
       "    </tr>\n",
       "    <tr>\n",
       "      <th>6</th>\n",
       "      <td>CSN****</td>\n",
       "      <td>129.00</td>\n",
       "      <td>237.00</td>\n",
       "      <td>26215.00</td>\n",
       "    </tr>\n",
       "    <tr>\n",
       "      <th>7</th>\n",
       "      <td>CSIO Ch/J/Y</td>\n",
       "      <td>77.00</td>\n",
       "      <td>108.00</td>\n",
       "      <td>22900.00</td>\n",
       "    </tr>\n",
       "    <tr>\n",
       "      <th>8</th>\n",
       "      <td>CSN***</td>\n",
       "      <td>77.33</td>\n",
       "      <td>134.87</td>\n",
       "      <td>13119.28</td>\n",
       "    </tr>\n",
       "    <tr>\n",
       "      <th>9</th>\n",
       "      <td>CSN**</td>\n",
       "      <td>124.69</td>\n",
       "      <td>179.20</td>\n",
       "      <td>6156.57</td>\n",
       "    </tr>\n",
       "    <tr>\n",
       "      <th>10</th>\n",
       "      <td>CSNCJ</td>\n",
       "      <td>35.56</td>\n",
       "      <td>44.72</td>\n",
       "      <td>2011.43</td>\n",
       "    </tr>\n",
       "    <tr>\n",
       "      <th>11</th>\n",
       "      <td>CSN*</td>\n",
       "      <td>31.84</td>\n",
       "      <td>37.01</td>\n",
       "      <td>1074.78</td>\n",
       "    </tr>\n",
       "  </tbody>\n",
       "</table>\n",
       "</div>"
      ],
      "text/plain": [
       "      categoria jinetes caballos  dinero_medio\n",
       "0       CSI****  335.25   809.76     393141.89\n",
       "1        CSI***  113.11   270.81     262111.37\n",
       "2         CSI**  121.86   286.88      91725.00\n",
       "3          CSI*  143.44   244.70      83613.54\n",
       "4       CSI YH*  154.20   348.28      53165.94\n",
       "5      CSN*****  175.92   286.92      37879.63\n",
       "6       CSN****  129.00   237.00      26215.00\n",
       "7   CSIO Ch/J/Y   77.00   108.00      22900.00\n",
       "8        CSN***   77.33   134.87      13119.28\n",
       "9         CSN**  124.69   179.20       6156.57\n",
       "10        CSNCJ   35.56    44.72       2011.43\n",
       "11         CSN*   31.84    37.01       1074.78"
      ]
     },
     "execution_count": 11,
     "metadata": {},
     "output_type": "execute_result"
    }
   ],
   "source": [
    "caballos_jinetes_categoria = pd.DataFrame(ejecutor_querys(cur, query_dinero_repartido_concursos))\n",
    "caballos_jinetes_categoria[1] = caballos_jinetes_categoria[1].apply(lambda x: round(x, 2))\n",
    "caballos_jinetes_categoria[2] = caballos_jinetes_categoria[2].apply(lambda x: round(x, 2))\n",
    "caballos_jinetes_categoria[3] = caballos_jinetes_categoria[3].apply(lambda x: round(x, 2))\n",
    "caballos_jinetes_categoria = caballos_jinetes_categoria.rename(columns = {0: \"categoria\", 1: \"jinetes\", 2: \"caballos\", 3: \"dinero_medio\"})\n",
    "caballos_jinetes_categoria"
   ]
  },
  {
   "cell_type": "code",
   "execution_count": 12,
   "id": "7c23c0ec",
   "metadata": {},
   "outputs": [
    {
     "data": {
      "text/plain": [
       "[('(238.2.1)', 450),\n",
       " ('(238.2.2)', 205),\n",
       " ('(274.1.5.3)', 198),\n",
       " ('(274.2)', 126),\n",
       " ('(238.1.1)', 87),\n",
       " ('(274.1.5.2)', 33),\n",
       " ('(269.3.2)', 15),\n",
       " ('(263)', 9),\n",
       " ('(273.3.4)', 9),\n",
       " ('(239)', 2),\n",
       " ('(264)', 2),\n",
       " ('(273.3.3.1)', 2),\n",
       " ('(276.2)', 2),\n",
       " ('(238.1.2)', 1)]"
      ]
     },
     "execution_count": 12,
     "metadata": {},
     "output_type": "execute_result"
    }
   ],
   "source": [
    "tipos_pruebas = ejecutor_querys(cur, query_pruebas)\n",
    "tipos_pruebas "
   ]
  },
  {
   "cell_type": "code",
   "execution_count": 13,
   "id": "fbf7815c",
   "metadata": {},
   "outputs": [],
   "source": [
    "federaciones = ejecutor_querys(cur, query_concursos_federacion)"
   ]
  },
  {
   "cell_type": "code",
   "execution_count": 14,
   "id": "0bff85d4",
   "metadata": {},
   "outputs": [
    {
     "data": {
      "text/html": [
       "<div>\n",
       "<style scoped>\n",
       "    .dataframe tbody tr th:only-of-type {\n",
       "        vertical-align: middle;\n",
       "    }\n",
       "\n",
       "    .dataframe tbody tr th {\n",
       "        vertical-align: top;\n",
       "    }\n",
       "\n",
       "    .dataframe thead th {\n",
       "        text-align: right;\n",
       "    }\n",
       "</style>\n",
       "<table border=\"1\" class=\"dataframe\">\n",
       "  <thead>\n",
       "    <tr style=\"text-align: right;\">\n",
       "      <th></th>\n",
       "      <th>0</th>\n",
       "      <th>1</th>\n",
       "      <th>2</th>\n",
       "    </tr>\n",
       "  </thead>\n",
       "  <tbody>\n",
       "    <tr>\n",
       "      <th>0</th>\n",
       "      <td>Valencia</td>\n",
       "      <td>75</td>\n",
       "      <td>61.48</td>\n",
       "    </tr>\n",
       "    <tr>\n",
       "      <th>1</th>\n",
       "      <td>Cádiz</td>\n",
       "      <td>19</td>\n",
       "      <td>15.57</td>\n",
       "    </tr>\n",
       "    <tr>\n",
       "      <th>2</th>\n",
       "      <td>Madrid</td>\n",
       "      <td>7</td>\n",
       "      <td>5.74</td>\n",
       "    </tr>\n",
       "    <tr>\n",
       "      <th>3</th>\n",
       "      <td>Sevilla</td>\n",
       "      <td>4</td>\n",
       "      <td>3.28</td>\n",
       "    </tr>\n",
       "    <tr>\n",
       "      <th>4</th>\n",
       "      <td>Barcelona</td>\n",
       "      <td>4</td>\n",
       "      <td>3.28</td>\n",
       "    </tr>\n",
       "    <tr>\n",
       "      <th>5</th>\n",
       "      <td>Tenerife</td>\n",
       "      <td>3</td>\n",
       "      <td>2.46</td>\n",
       "    </tr>\n",
       "    <tr>\n",
       "      <th>6</th>\n",
       "      <td>Granada</td>\n",
       "      <td>2</td>\n",
       "      <td>1.64</td>\n",
       "    </tr>\n",
       "    <tr>\n",
       "      <th>7</th>\n",
       "      <td>Cantabria</td>\n",
       "      <td>2</td>\n",
       "      <td>1.64</td>\n",
       "    </tr>\n",
       "    <tr>\n",
       "      <th>8</th>\n",
       "      <td>Zamora</td>\n",
       "      <td>2</td>\n",
       "      <td>1.64</td>\n",
       "    </tr>\n",
       "    <tr>\n",
       "      <th>9</th>\n",
       "      <td>Asturias</td>\n",
       "      <td>1</td>\n",
       "      <td>0.82</td>\n",
       "    </tr>\n",
       "    <tr>\n",
       "      <th>10</th>\n",
       "      <td>Murcia</td>\n",
       "      <td>1</td>\n",
       "      <td>0.82</td>\n",
       "    </tr>\n",
       "    <tr>\n",
       "      <th>11</th>\n",
       "      <td>Segovia</td>\n",
       "      <td>1</td>\n",
       "      <td>0.82</td>\n",
       "    </tr>\n",
       "    <tr>\n",
       "      <th>12</th>\n",
       "      <td>Córdoba</td>\n",
       "      <td>1</td>\n",
       "      <td>0.82</td>\n",
       "    </tr>\n",
       "  </tbody>\n",
       "</table>\n",
       "</div>"
      ],
      "text/plain": [
       "            0   1      2\n",
       "0    Valencia  75  61.48\n",
       "1       Cádiz  19  15.57\n",
       "2      Madrid   7   5.74\n",
       "3     Sevilla   4   3.28\n",
       "4   Barcelona   4   3.28\n",
       "5    Tenerife   3   2.46\n",
       "6     Granada   2   1.64\n",
       "7   Cantabria   2   1.64\n",
       "8      Zamora   2   1.64\n",
       "9    Asturias   1   0.82\n",
       "10     Murcia   1   0.82\n",
       "11    Segovia   1   0.82\n",
       "12    Córdoba   1   0.82"
      ]
     },
     "execution_count": 14,
     "metadata": {},
     "output_type": "execute_result"
    }
   ],
   "source": [
    "concursos_provincias = ejecutor_querys(cur, query_concursos_provincia)\n",
    "concursos = pd.DataFrame(concursos_provincias)\n",
    "concursos[2] = round((concursos[1]/concursos[1].sum())*100, 2)\n",
    "concursos"
   ]
  },
  {
   "cell_type": "code",
   "execution_count": 15,
   "id": "fb052889",
   "metadata": {},
   "outputs": [
    {
     "data": {
      "application/vnd.plotly.v1+json": {
       "config": {
        "plotlyServerURL": "https://plot.ly"
       },
       "data": [
        {
         "hovertemplate": "Provincia=%{x}<br>Nº concursos=%{y}<extra></extra>",
         "legendgroup": "",
         "marker": {
          "color": "#636efa",
          "pattern": {
           "shape": ""
          }
         },
         "name": "",
         "orientation": "v",
         "showlegend": false,
         "textposition": "auto",
         "type": "bar",
         "x": [
          "Valencia",
          "Cádiz",
          "Madrid",
          "Sevilla",
          "Barcelona",
          "Tenerife",
          "Granada",
          "Cantabria",
          "Zamora",
          "Asturias",
          "Murcia",
          "Segovia",
          "Córdoba"
         ],
         "xaxis": "x",
         "y": {
          "bdata": "SxMHBAQDAgICAQEBAQ==",
          "dtype": "i1"
         },
         "yaxis": "y"
        }
       ],
       "layout": {
        "barmode": "relative",
        "height": 400,
        "legend": {
         "tracegroupgap": 0
        },
        "plot_bgcolor": "white",
        "template": {
         "data": {
          "bar": [
           {
            "error_x": {
             "color": "#2a3f5f"
            },
            "error_y": {
             "color": "#2a3f5f"
            },
            "marker": {
             "line": {
              "color": "#E5ECF6",
              "width": 0.5
             },
             "pattern": {
              "fillmode": "overlay",
              "size": 10,
              "solidity": 0.2
             }
            },
            "type": "bar"
           }
          ],
          "barpolar": [
           {
            "marker": {
             "line": {
              "color": "#E5ECF6",
              "width": 0.5
             },
             "pattern": {
              "fillmode": "overlay",
              "size": 10,
              "solidity": 0.2
             }
            },
            "type": "barpolar"
           }
          ],
          "carpet": [
           {
            "aaxis": {
             "endlinecolor": "#2a3f5f",
             "gridcolor": "white",
             "linecolor": "white",
             "minorgridcolor": "white",
             "startlinecolor": "#2a3f5f"
            },
            "baxis": {
             "endlinecolor": "#2a3f5f",
             "gridcolor": "white",
             "linecolor": "white",
             "minorgridcolor": "white",
             "startlinecolor": "#2a3f5f"
            },
            "type": "carpet"
           }
          ],
          "choropleth": [
           {
            "colorbar": {
             "outlinewidth": 0,
             "ticks": ""
            },
            "type": "choropleth"
           }
          ],
          "contour": [
           {
            "colorbar": {
             "outlinewidth": 0,
             "ticks": ""
            },
            "colorscale": [
             [
              0,
              "#0d0887"
             ],
             [
              0.1111111111111111,
              "#46039f"
             ],
             [
              0.2222222222222222,
              "#7201a8"
             ],
             [
              0.3333333333333333,
              "#9c179e"
             ],
             [
              0.4444444444444444,
              "#bd3786"
             ],
             [
              0.5555555555555556,
              "#d8576b"
             ],
             [
              0.6666666666666666,
              "#ed7953"
             ],
             [
              0.7777777777777778,
              "#fb9f3a"
             ],
             [
              0.8888888888888888,
              "#fdca26"
             ],
             [
              1,
              "#f0f921"
             ]
            ],
            "type": "contour"
           }
          ],
          "contourcarpet": [
           {
            "colorbar": {
             "outlinewidth": 0,
             "ticks": ""
            },
            "type": "contourcarpet"
           }
          ],
          "heatmap": [
           {
            "colorbar": {
             "outlinewidth": 0,
             "ticks": ""
            },
            "colorscale": [
             [
              0,
              "#0d0887"
             ],
             [
              0.1111111111111111,
              "#46039f"
             ],
             [
              0.2222222222222222,
              "#7201a8"
             ],
             [
              0.3333333333333333,
              "#9c179e"
             ],
             [
              0.4444444444444444,
              "#bd3786"
             ],
             [
              0.5555555555555556,
              "#d8576b"
             ],
             [
              0.6666666666666666,
              "#ed7953"
             ],
             [
              0.7777777777777778,
              "#fb9f3a"
             ],
             [
              0.8888888888888888,
              "#fdca26"
             ],
             [
              1,
              "#f0f921"
             ]
            ],
            "type": "heatmap"
           }
          ],
          "histogram": [
           {
            "marker": {
             "pattern": {
              "fillmode": "overlay",
              "size": 10,
              "solidity": 0.2
             }
            },
            "type": "histogram"
           }
          ],
          "histogram2d": [
           {
            "colorbar": {
             "outlinewidth": 0,
             "ticks": ""
            },
            "colorscale": [
             [
              0,
              "#0d0887"
             ],
             [
              0.1111111111111111,
              "#46039f"
             ],
             [
              0.2222222222222222,
              "#7201a8"
             ],
             [
              0.3333333333333333,
              "#9c179e"
             ],
             [
              0.4444444444444444,
              "#bd3786"
             ],
             [
              0.5555555555555556,
              "#d8576b"
             ],
             [
              0.6666666666666666,
              "#ed7953"
             ],
             [
              0.7777777777777778,
              "#fb9f3a"
             ],
             [
              0.8888888888888888,
              "#fdca26"
             ],
             [
              1,
              "#f0f921"
             ]
            ],
            "type": "histogram2d"
           }
          ],
          "histogram2dcontour": [
           {
            "colorbar": {
             "outlinewidth": 0,
             "ticks": ""
            },
            "colorscale": [
             [
              0,
              "#0d0887"
             ],
             [
              0.1111111111111111,
              "#46039f"
             ],
             [
              0.2222222222222222,
              "#7201a8"
             ],
             [
              0.3333333333333333,
              "#9c179e"
             ],
             [
              0.4444444444444444,
              "#bd3786"
             ],
             [
              0.5555555555555556,
              "#d8576b"
             ],
             [
              0.6666666666666666,
              "#ed7953"
             ],
             [
              0.7777777777777778,
              "#fb9f3a"
             ],
             [
              0.8888888888888888,
              "#fdca26"
             ],
             [
              1,
              "#f0f921"
             ]
            ],
            "type": "histogram2dcontour"
           }
          ],
          "mesh3d": [
           {
            "colorbar": {
             "outlinewidth": 0,
             "ticks": ""
            },
            "type": "mesh3d"
           }
          ],
          "parcoords": [
           {
            "line": {
             "colorbar": {
              "outlinewidth": 0,
              "ticks": ""
             }
            },
            "type": "parcoords"
           }
          ],
          "pie": [
           {
            "automargin": true,
            "type": "pie"
           }
          ],
          "scatter": [
           {
            "fillpattern": {
             "fillmode": "overlay",
             "size": 10,
             "solidity": 0.2
            },
            "type": "scatter"
           }
          ],
          "scatter3d": [
           {
            "line": {
             "colorbar": {
              "outlinewidth": 0,
              "ticks": ""
             }
            },
            "marker": {
             "colorbar": {
              "outlinewidth": 0,
              "ticks": ""
             }
            },
            "type": "scatter3d"
           }
          ],
          "scattercarpet": [
           {
            "marker": {
             "colorbar": {
              "outlinewidth": 0,
              "ticks": ""
             }
            },
            "type": "scattercarpet"
           }
          ],
          "scattergeo": [
           {
            "marker": {
             "colorbar": {
              "outlinewidth": 0,
              "ticks": ""
             }
            },
            "type": "scattergeo"
           }
          ],
          "scattergl": [
           {
            "marker": {
             "colorbar": {
              "outlinewidth": 0,
              "ticks": ""
             }
            },
            "type": "scattergl"
           }
          ],
          "scattermap": [
           {
            "marker": {
             "colorbar": {
              "outlinewidth": 0,
              "ticks": ""
             }
            },
            "type": "scattermap"
           }
          ],
          "scattermapbox": [
           {
            "marker": {
             "colorbar": {
              "outlinewidth": 0,
              "ticks": ""
             }
            },
            "type": "scattermapbox"
           }
          ],
          "scatterpolar": [
           {
            "marker": {
             "colorbar": {
              "outlinewidth": 0,
              "ticks": ""
             }
            },
            "type": "scatterpolar"
           }
          ],
          "scatterpolargl": [
           {
            "marker": {
             "colorbar": {
              "outlinewidth": 0,
              "ticks": ""
             }
            },
            "type": "scatterpolargl"
           }
          ],
          "scatterternary": [
           {
            "marker": {
             "colorbar": {
              "outlinewidth": 0,
              "ticks": ""
             }
            },
            "type": "scatterternary"
           }
          ],
          "surface": [
           {
            "colorbar": {
             "outlinewidth": 0,
             "ticks": ""
            },
            "colorscale": [
             [
              0,
              "#0d0887"
             ],
             [
              0.1111111111111111,
              "#46039f"
             ],
             [
              0.2222222222222222,
              "#7201a8"
             ],
             [
              0.3333333333333333,
              "#9c179e"
             ],
             [
              0.4444444444444444,
              "#bd3786"
             ],
             [
              0.5555555555555556,
              "#d8576b"
             ],
             [
              0.6666666666666666,
              "#ed7953"
             ],
             [
              0.7777777777777778,
              "#fb9f3a"
             ],
             [
              0.8888888888888888,
              "#fdca26"
             ],
             [
              1,
              "#f0f921"
             ]
            ],
            "type": "surface"
           }
          ],
          "table": [
           {
            "cells": {
             "fill": {
              "color": "#EBF0F8"
             },
             "line": {
              "color": "white"
             }
            },
            "header": {
             "fill": {
              "color": "#C8D4E3"
             },
             "line": {
              "color": "white"
             }
            },
            "type": "table"
           }
          ]
         },
         "layout": {
          "annotationdefaults": {
           "arrowcolor": "#2a3f5f",
           "arrowhead": 0,
           "arrowwidth": 1
          },
          "autotypenumbers": "strict",
          "coloraxis": {
           "colorbar": {
            "outlinewidth": 0,
            "ticks": ""
           }
          },
          "colorscale": {
           "diverging": [
            [
             0,
             "#8e0152"
            ],
            [
             0.1,
             "#c51b7d"
            ],
            [
             0.2,
             "#de77ae"
            ],
            [
             0.3,
             "#f1b6da"
            ],
            [
             0.4,
             "#fde0ef"
            ],
            [
             0.5,
             "#f7f7f7"
            ],
            [
             0.6,
             "#e6f5d0"
            ],
            [
             0.7,
             "#b8e186"
            ],
            [
             0.8,
             "#7fbc41"
            ],
            [
             0.9,
             "#4d9221"
            ],
            [
             1,
             "#276419"
            ]
           ],
           "sequential": [
            [
             0,
             "#0d0887"
            ],
            [
             0.1111111111111111,
             "#46039f"
            ],
            [
             0.2222222222222222,
             "#7201a8"
            ],
            [
             0.3333333333333333,
             "#9c179e"
            ],
            [
             0.4444444444444444,
             "#bd3786"
            ],
            [
             0.5555555555555556,
             "#d8576b"
            ],
            [
             0.6666666666666666,
             "#ed7953"
            ],
            [
             0.7777777777777778,
             "#fb9f3a"
            ],
            [
             0.8888888888888888,
             "#fdca26"
            ],
            [
             1,
             "#f0f921"
            ]
           ],
           "sequentialminus": [
            [
             0,
             "#0d0887"
            ],
            [
             0.1111111111111111,
             "#46039f"
            ],
            [
             0.2222222222222222,
             "#7201a8"
            ],
            [
             0.3333333333333333,
             "#9c179e"
            ],
            [
             0.4444444444444444,
             "#bd3786"
            ],
            [
             0.5555555555555556,
             "#d8576b"
            ],
            [
             0.6666666666666666,
             "#ed7953"
            ],
            [
             0.7777777777777778,
             "#fb9f3a"
            ],
            [
             0.8888888888888888,
             "#fdca26"
            ],
            [
             1,
             "#f0f921"
            ]
           ]
          },
          "colorway": [
           "#636efa",
           "#EF553B",
           "#00cc96",
           "#ab63fa",
           "#FFA15A",
           "#19d3f3",
           "#FF6692",
           "#B6E880",
           "#FF97FF",
           "#FECB52"
          ],
          "font": {
           "color": "#2a3f5f"
          },
          "geo": {
           "bgcolor": "white",
           "lakecolor": "white",
           "landcolor": "#E5ECF6",
           "showlakes": true,
           "showland": true,
           "subunitcolor": "white"
          },
          "hoverlabel": {
           "align": "left"
          },
          "hovermode": "closest",
          "mapbox": {
           "style": "light"
          },
          "paper_bgcolor": "white",
          "plot_bgcolor": "#E5ECF6",
          "polar": {
           "angularaxis": {
            "gridcolor": "white",
            "linecolor": "white",
            "ticks": ""
           },
           "bgcolor": "#E5ECF6",
           "radialaxis": {
            "gridcolor": "white",
            "linecolor": "white",
            "ticks": ""
           }
          },
          "scene": {
           "xaxis": {
            "backgroundcolor": "#E5ECF6",
            "gridcolor": "white",
            "gridwidth": 2,
            "linecolor": "white",
            "showbackground": true,
            "ticks": "",
            "zerolinecolor": "white"
           },
           "yaxis": {
            "backgroundcolor": "#E5ECF6",
            "gridcolor": "white",
            "gridwidth": 2,
            "linecolor": "white",
            "showbackground": true,
            "ticks": "",
            "zerolinecolor": "white"
           },
           "zaxis": {
            "backgroundcolor": "#E5ECF6",
            "gridcolor": "white",
            "gridwidth": 2,
            "linecolor": "white",
            "showbackground": true,
            "ticks": "",
            "zerolinecolor": "white"
           }
          },
          "shapedefaults": {
           "line": {
            "color": "#2a3f5f"
           }
          },
          "ternary": {
           "aaxis": {
            "gridcolor": "white",
            "linecolor": "white",
            "ticks": ""
           },
           "baxis": {
            "gridcolor": "white",
            "linecolor": "white",
            "ticks": ""
           },
           "bgcolor": "#E5ECF6",
           "caxis": {
            "gridcolor": "white",
            "linecolor": "white",
            "ticks": ""
           }
          },
          "title": {
           "x": 0.05
          },
          "xaxis": {
           "automargin": true,
           "gridcolor": "white",
           "linecolor": "white",
           "ticks": "",
           "title": {
            "standoff": 15
           },
           "zerolinecolor": "white",
           "zerolinewidth": 2
          },
          "yaxis": {
           "automargin": true,
           "gridcolor": "white",
           "linecolor": "white",
           "ticks": "",
           "title": {
            "standoff": 15
           },
           "zerolinecolor": "white",
           "zerolinewidth": 2
          }
         }
        },
        "title": {
         "font": {
          "size": 15,
          "weight": "bold"
         },
         "text": "Concursos por provincia",
         "x": 0.5
        },
        "width": 800,
        "xaxis": {
         "anchor": "y",
         "domain": [
          0,
          1
         ],
         "title": {
          "font": {
           "size": 12,
           "weight": "bold"
          },
          "text": "Provincia"
         }
        },
        "yaxis": {
         "anchor": "x",
         "domain": [
          0,
          1
         ],
         "title": {
          "font": {
           "size": 12,
           "weight": "bold"
          },
          "text": "Nº concursos"
         }
        }
       }
      }
     },
     "metadata": {},
     "output_type": "display_data"
    }
   ],
   "source": [
    "# Convert concursos_provincias to DataFrame for plotting\n",
    "df_provincias = pd.DataFrame(concursos_provincias, columns=['Provincia', 'Nº concursos'])\n",
    "\n",
    "fig = px.bar(df_provincias, x='Provincia', y='Nº concursos', title = \"Concursos por provincia\")\n",
    "fig.update_layout(\n",
    "    width=800, \n",
    "    height=400,\n",
    "    title_font=dict(size = 15, weight='bold'),\n",
    "    title_x=0.5,\n",
    "    xaxis_title=dict(text='Provincia', font=dict(size = 12, weight='bold')),\n",
    "    yaxis_title=dict(text='Nº concursos', font=dict(size = 12, weight='bold')),\n",
    "    plot_bgcolor='white'\n",
    ")\n",
    "fig.show()"
   ]
  },
  {
   "cell_type": "code",
   "execution_count": 16,
   "id": "998f3132",
   "metadata": {},
   "outputs": [],
   "source": [
    "localidades = ejecutor_querys(cur, query_concursos_localidad)"
   ]
  },
  {
   "cell_type": "code",
   "execution_count": 17,
   "id": "fde03789",
   "metadata": {},
   "outputs": [
    {
     "data": {
      "text/html": [
       "<div>\n",
       "<style scoped>\n",
       "    .dataframe tbody tr th:only-of-type {\n",
       "        vertical-align: middle;\n",
       "    }\n",
       "\n",
       "    .dataframe tbody tr th {\n",
       "        vertical-align: top;\n",
       "    }\n",
       "\n",
       "    .dataframe thead th {\n",
       "        text-align: right;\n",
       "    }\n",
       "</style>\n",
       "<table border=\"1\" class=\"dataframe\">\n",
       "  <thead>\n",
       "    <tr style=\"text-align: right;\">\n",
       "      <th></th>\n",
       "      <th>0</th>\n",
       "      <th>1</th>\n",
       "    </tr>\n",
       "  </thead>\n",
       "  <tbody>\n",
       "    <tr>\n",
       "      <th>2</th>\n",
       "      <td>enero</td>\n",
       "      <td>27</td>\n",
       "    </tr>\n",
       "    <tr>\n",
       "      <th>0</th>\n",
       "      <td>febrero</td>\n",
       "      <td>41</td>\n",
       "    </tr>\n",
       "    <tr>\n",
       "      <th>1</th>\n",
       "      <td>marzo</td>\n",
       "      <td>33</td>\n",
       "    </tr>\n",
       "    <tr>\n",
       "      <th>3</th>\n",
       "      <td>abril</td>\n",
       "      <td>21</td>\n",
       "    </tr>\n",
       "  </tbody>\n",
       "</table>\n",
       "</div>"
      ],
      "text/plain": [
       "         0   1\n",
       "2    enero  27\n",
       "0  febrero  41\n",
       "1    marzo  33\n",
       "3    abril  21"
      ]
     },
     "execution_count": 17,
     "metadata": {},
     "output_type": "execute_result"
    }
   ],
   "source": [
    "df_mes = ejecutor_querys(cur, query_concursos_mes)\n",
    "df = pd.DataFrame(df_mes)\n",
    "df = df.sort_values(by=0, ascending=True)\n",
    "df[0] = df[0].apply(lambda x: meses[int(x)])\n",
    "df\n",
    "# cosita = pd.DataFrame(cosos)\n",
    "# pd.DataFrame(cosita.groupby(8)[0].count())"
   ]
  },
  {
   "cell_type": "code",
   "execution_count": 18,
   "id": "44730b8c",
   "metadata": {},
   "outputs": [],
   "source": [
    "import plotly.graph_objects as go"
   ]
  },
  {
   "cell_type": "code",
   "execution_count": 19,
   "id": "077c48dc",
   "metadata": {},
   "outputs": [
    {
     "data": {
      "application/vnd.plotly.v1+json": {
       "config": {
        "plotlyServerURL": "https://plot.ly"
       },
       "data": [
        {
         "hovertemplate": "0=%{x}<br>1=%{y}<extra></extra>",
         "legendgroup": "",
         "line": {
          "color": "#636efa",
          "dash": "solid"
         },
         "marker": {
          "symbol": "circle"
         },
         "mode": "lines",
         "name": "",
         "orientation": "v",
         "showlegend": false,
         "type": "scatter",
         "x": [
          "enero",
          "febrero",
          "marzo",
          "abril"
         ],
         "xaxis": "x",
         "y": {
          "bdata": "GykhFQ==",
          "dtype": "i1"
         },
         "yaxis": "y"
        },
        {
         "mode": "text",
         "showlegend": false,
         "text": {
          "bdata": "AAAAAAAAO0AAAAAAAIBEQAAAAAAAgEBAAAAAAAAANUA=",
          "dtype": "f8"
         },
         "textfont": {
          "weight": "bold"
         },
         "textposition": "top center",
         "type": "scatter",
         "x": [
          "enero",
          "febrero",
          "marzo",
          "abril"
         ],
         "y": {
          "bdata": "GykhFQ==",
          "dtype": "i1"
         }
        }
       ],
       "layout": {
        "legend": {
         "orientation": "h",
         "tracegroupgap": 0,
         "x": 1,
         "xanchor": "right",
         "y": 1.02,
         "yanchor": "bottom"
        },
        "plot_bgcolor": "white",
        "template": {
         "data": {
          "bar": [
           {
            "error_x": {
             "color": "#2a3f5f"
            },
            "error_y": {
             "color": "#2a3f5f"
            },
            "marker": {
             "line": {
              "color": "#E5ECF6",
              "width": 0.5
             },
             "pattern": {
              "fillmode": "overlay",
              "size": 10,
              "solidity": 0.2
             }
            },
            "type": "bar"
           }
          ],
          "barpolar": [
           {
            "marker": {
             "line": {
              "color": "#E5ECF6",
              "width": 0.5
             },
             "pattern": {
              "fillmode": "overlay",
              "size": 10,
              "solidity": 0.2
             }
            },
            "type": "barpolar"
           }
          ],
          "carpet": [
           {
            "aaxis": {
             "endlinecolor": "#2a3f5f",
             "gridcolor": "white",
             "linecolor": "white",
             "minorgridcolor": "white",
             "startlinecolor": "#2a3f5f"
            },
            "baxis": {
             "endlinecolor": "#2a3f5f",
             "gridcolor": "white",
             "linecolor": "white",
             "minorgridcolor": "white",
             "startlinecolor": "#2a3f5f"
            },
            "type": "carpet"
           }
          ],
          "choropleth": [
           {
            "colorbar": {
             "outlinewidth": 0,
             "ticks": ""
            },
            "type": "choropleth"
           }
          ],
          "contour": [
           {
            "colorbar": {
             "outlinewidth": 0,
             "ticks": ""
            },
            "colorscale": [
             [
              0,
              "#0d0887"
             ],
             [
              0.1111111111111111,
              "#46039f"
             ],
             [
              0.2222222222222222,
              "#7201a8"
             ],
             [
              0.3333333333333333,
              "#9c179e"
             ],
             [
              0.4444444444444444,
              "#bd3786"
             ],
             [
              0.5555555555555556,
              "#d8576b"
             ],
             [
              0.6666666666666666,
              "#ed7953"
             ],
             [
              0.7777777777777778,
              "#fb9f3a"
             ],
             [
              0.8888888888888888,
              "#fdca26"
             ],
             [
              1,
              "#f0f921"
             ]
            ],
            "type": "contour"
           }
          ],
          "contourcarpet": [
           {
            "colorbar": {
             "outlinewidth": 0,
             "ticks": ""
            },
            "type": "contourcarpet"
           }
          ],
          "heatmap": [
           {
            "colorbar": {
             "outlinewidth": 0,
             "ticks": ""
            },
            "colorscale": [
             [
              0,
              "#0d0887"
             ],
             [
              0.1111111111111111,
              "#46039f"
             ],
             [
              0.2222222222222222,
              "#7201a8"
             ],
             [
              0.3333333333333333,
              "#9c179e"
             ],
             [
              0.4444444444444444,
              "#bd3786"
             ],
             [
              0.5555555555555556,
              "#d8576b"
             ],
             [
              0.6666666666666666,
              "#ed7953"
             ],
             [
              0.7777777777777778,
              "#fb9f3a"
             ],
             [
              0.8888888888888888,
              "#fdca26"
             ],
             [
              1,
              "#f0f921"
             ]
            ],
            "type": "heatmap"
           }
          ],
          "histogram": [
           {
            "marker": {
             "pattern": {
              "fillmode": "overlay",
              "size": 10,
              "solidity": 0.2
             }
            },
            "type": "histogram"
           }
          ],
          "histogram2d": [
           {
            "colorbar": {
             "outlinewidth": 0,
             "ticks": ""
            },
            "colorscale": [
             [
              0,
              "#0d0887"
             ],
             [
              0.1111111111111111,
              "#46039f"
             ],
             [
              0.2222222222222222,
              "#7201a8"
             ],
             [
              0.3333333333333333,
              "#9c179e"
             ],
             [
              0.4444444444444444,
              "#bd3786"
             ],
             [
              0.5555555555555556,
              "#d8576b"
             ],
             [
              0.6666666666666666,
              "#ed7953"
             ],
             [
              0.7777777777777778,
              "#fb9f3a"
             ],
             [
              0.8888888888888888,
              "#fdca26"
             ],
             [
              1,
              "#f0f921"
             ]
            ],
            "type": "histogram2d"
           }
          ],
          "histogram2dcontour": [
           {
            "colorbar": {
             "outlinewidth": 0,
             "ticks": ""
            },
            "colorscale": [
             [
              0,
              "#0d0887"
             ],
             [
              0.1111111111111111,
              "#46039f"
             ],
             [
              0.2222222222222222,
              "#7201a8"
             ],
             [
              0.3333333333333333,
              "#9c179e"
             ],
             [
              0.4444444444444444,
              "#bd3786"
             ],
             [
              0.5555555555555556,
              "#d8576b"
             ],
             [
              0.6666666666666666,
              "#ed7953"
             ],
             [
              0.7777777777777778,
              "#fb9f3a"
             ],
             [
              0.8888888888888888,
              "#fdca26"
             ],
             [
              1,
              "#f0f921"
             ]
            ],
            "type": "histogram2dcontour"
           }
          ],
          "mesh3d": [
           {
            "colorbar": {
             "outlinewidth": 0,
             "ticks": ""
            },
            "type": "mesh3d"
           }
          ],
          "parcoords": [
           {
            "line": {
             "colorbar": {
              "outlinewidth": 0,
              "ticks": ""
             }
            },
            "type": "parcoords"
           }
          ],
          "pie": [
           {
            "automargin": true,
            "type": "pie"
           }
          ],
          "scatter": [
           {
            "fillpattern": {
             "fillmode": "overlay",
             "size": 10,
             "solidity": 0.2
            },
            "type": "scatter"
           }
          ],
          "scatter3d": [
           {
            "line": {
             "colorbar": {
              "outlinewidth": 0,
              "ticks": ""
             }
            },
            "marker": {
             "colorbar": {
              "outlinewidth": 0,
              "ticks": ""
             }
            },
            "type": "scatter3d"
           }
          ],
          "scattercarpet": [
           {
            "marker": {
             "colorbar": {
              "outlinewidth": 0,
              "ticks": ""
             }
            },
            "type": "scattercarpet"
           }
          ],
          "scattergeo": [
           {
            "marker": {
             "colorbar": {
              "outlinewidth": 0,
              "ticks": ""
             }
            },
            "type": "scattergeo"
           }
          ],
          "scattergl": [
           {
            "marker": {
             "colorbar": {
              "outlinewidth": 0,
              "ticks": ""
             }
            },
            "type": "scattergl"
           }
          ],
          "scattermap": [
           {
            "marker": {
             "colorbar": {
              "outlinewidth": 0,
              "ticks": ""
             }
            },
            "type": "scattermap"
           }
          ],
          "scattermapbox": [
           {
            "marker": {
             "colorbar": {
              "outlinewidth": 0,
              "ticks": ""
             }
            },
            "type": "scattermapbox"
           }
          ],
          "scatterpolar": [
           {
            "marker": {
             "colorbar": {
              "outlinewidth": 0,
              "ticks": ""
             }
            },
            "type": "scatterpolar"
           }
          ],
          "scatterpolargl": [
           {
            "marker": {
             "colorbar": {
              "outlinewidth": 0,
              "ticks": ""
             }
            },
            "type": "scatterpolargl"
           }
          ],
          "scatterternary": [
           {
            "marker": {
             "colorbar": {
              "outlinewidth": 0,
              "ticks": ""
             }
            },
            "type": "scatterternary"
           }
          ],
          "surface": [
           {
            "colorbar": {
             "outlinewidth": 0,
             "ticks": ""
            },
            "colorscale": [
             [
              0,
              "#0d0887"
             ],
             [
              0.1111111111111111,
              "#46039f"
             ],
             [
              0.2222222222222222,
              "#7201a8"
             ],
             [
              0.3333333333333333,
              "#9c179e"
             ],
             [
              0.4444444444444444,
              "#bd3786"
             ],
             [
              0.5555555555555556,
              "#d8576b"
             ],
             [
              0.6666666666666666,
              "#ed7953"
             ],
             [
              0.7777777777777778,
              "#fb9f3a"
             ],
             [
              0.8888888888888888,
              "#fdca26"
             ],
             [
              1,
              "#f0f921"
             ]
            ],
            "type": "surface"
           }
          ],
          "table": [
           {
            "cells": {
             "fill": {
              "color": "#EBF0F8"
             },
             "line": {
              "color": "white"
             }
            },
            "header": {
             "fill": {
              "color": "#C8D4E3"
             },
             "line": {
              "color": "white"
             }
            },
            "type": "table"
           }
          ]
         },
         "layout": {
          "annotationdefaults": {
           "arrowcolor": "#2a3f5f",
           "arrowhead": 0,
           "arrowwidth": 1
          },
          "autotypenumbers": "strict",
          "coloraxis": {
           "colorbar": {
            "outlinewidth": 0,
            "ticks": ""
           }
          },
          "colorscale": {
           "diverging": [
            [
             0,
             "#8e0152"
            ],
            [
             0.1,
             "#c51b7d"
            ],
            [
             0.2,
             "#de77ae"
            ],
            [
             0.3,
             "#f1b6da"
            ],
            [
             0.4,
             "#fde0ef"
            ],
            [
             0.5,
             "#f7f7f7"
            ],
            [
             0.6,
             "#e6f5d0"
            ],
            [
             0.7,
             "#b8e186"
            ],
            [
             0.8,
             "#7fbc41"
            ],
            [
             0.9,
             "#4d9221"
            ],
            [
             1,
             "#276419"
            ]
           ],
           "sequential": [
            [
             0,
             "#0d0887"
            ],
            [
             0.1111111111111111,
             "#46039f"
            ],
            [
             0.2222222222222222,
             "#7201a8"
            ],
            [
             0.3333333333333333,
             "#9c179e"
            ],
            [
             0.4444444444444444,
             "#bd3786"
            ],
            [
             0.5555555555555556,
             "#d8576b"
            ],
            [
             0.6666666666666666,
             "#ed7953"
            ],
            [
             0.7777777777777778,
             "#fb9f3a"
            ],
            [
             0.8888888888888888,
             "#fdca26"
            ],
            [
             1,
             "#f0f921"
            ]
           ],
           "sequentialminus": [
            [
             0,
             "#0d0887"
            ],
            [
             0.1111111111111111,
             "#46039f"
            ],
            [
             0.2222222222222222,
             "#7201a8"
            ],
            [
             0.3333333333333333,
             "#9c179e"
            ],
            [
             0.4444444444444444,
             "#bd3786"
            ],
            [
             0.5555555555555556,
             "#d8576b"
            ],
            [
             0.6666666666666666,
             "#ed7953"
            ],
            [
             0.7777777777777778,
             "#fb9f3a"
            ],
            [
             0.8888888888888888,
             "#fdca26"
            ],
            [
             1,
             "#f0f921"
            ]
           ]
          },
          "colorway": [
           "#636efa",
           "#EF553B",
           "#00cc96",
           "#ab63fa",
           "#FFA15A",
           "#19d3f3",
           "#FF6692",
           "#B6E880",
           "#FF97FF",
           "#FECB52"
          ],
          "font": {
           "color": "#2a3f5f"
          },
          "geo": {
           "bgcolor": "white",
           "lakecolor": "white",
           "landcolor": "#E5ECF6",
           "showlakes": true,
           "showland": true,
           "subunitcolor": "white"
          },
          "hoverlabel": {
           "align": "left"
          },
          "hovermode": "closest",
          "mapbox": {
           "style": "light"
          },
          "paper_bgcolor": "white",
          "plot_bgcolor": "#E5ECF6",
          "polar": {
           "angularaxis": {
            "gridcolor": "white",
            "linecolor": "white",
            "ticks": ""
           },
           "bgcolor": "#E5ECF6",
           "radialaxis": {
            "gridcolor": "white",
            "linecolor": "white",
            "ticks": ""
           }
          },
          "scene": {
           "xaxis": {
            "backgroundcolor": "#E5ECF6",
            "gridcolor": "white",
            "gridwidth": 2,
            "linecolor": "white",
            "showbackground": true,
            "ticks": "",
            "zerolinecolor": "white"
           },
           "yaxis": {
            "backgroundcolor": "#E5ECF6",
            "gridcolor": "white",
            "gridwidth": 2,
            "linecolor": "white",
            "showbackground": true,
            "ticks": "",
            "zerolinecolor": "white"
           },
           "zaxis": {
            "backgroundcolor": "#E5ECF6",
            "gridcolor": "white",
            "gridwidth": 2,
            "linecolor": "white",
            "showbackground": true,
            "ticks": "",
            "zerolinecolor": "white"
           }
          },
          "shapedefaults": {
           "line": {
            "color": "#2a3f5f"
           }
          },
          "ternary": {
           "aaxis": {
            "gridcolor": "white",
            "linecolor": "white",
            "ticks": ""
           },
           "baxis": {
            "gridcolor": "white",
            "linecolor": "white",
            "ticks": ""
           },
           "bgcolor": "#E5ECF6",
           "caxis": {
            "gridcolor": "white",
            "linecolor": "white",
            "ticks": ""
           }
          },
          "title": {
           "x": 0.05
          },
          "xaxis": {
           "automargin": true,
           "gridcolor": "white",
           "linecolor": "white",
           "ticks": "",
           "title": {
            "standoff": 15
           },
           "zerolinecolor": "white",
           "zerolinewidth": 2
          },
          "yaxis": {
           "automargin": true,
           "gridcolor": "white",
           "linecolor": "white",
           "ticks": "",
           "title": {
            "standoff": 15
           },
           "zerolinecolor": "white",
           "zerolinewidth": 2
          }
         }
        },
        "title": {
         "font": {
          "size": 20,
          "weight": "bold"
         },
         "text": "Concursos por mes",
         "x": 0.45
        },
        "xaxis": {
         "anchor": "y",
         "domain": [
          0,
          1
         ],
         "title": {
          "font": {
           "weight": "bold"
          },
          "text": "Fecha"
         }
        },
        "yaxis": {
         "anchor": "x",
         "domain": [
          0,
          1
         ],
         "gridcolor": "lightgray",
         "showgrid": true,
         "showticklabels": false,
         "title": {
          "font": {
           "weight": "bold"
          },
          "text": "Valor"
         }
        }
       }
      }
     },
     "metadata": {},
     "output_type": "display_data"
    }
   ],
   "source": [
    "fig = px.line(df, x=0, y=1, title='Concursos por mes')\n",
    "fig.update_layout(\n",
    "    title_font=dict(size = 20, weight='bold'),\n",
    "    title_x=0.45,\n",
    "    xaxis_title=dict(text='Fecha', font=dict(weight='bold')),\n",
    "    yaxis_title=dict(text='Valor', font=dict(weight='bold')),\n",
    "    plot_bgcolor='white',\n",
    "    yaxis=dict(showgrid=True, gridcolor='lightgray', showticklabels=False),\n",
    "    # xaxis=dict(showline=True, tickfont=dict(weight='bold')),\n",
    "    legend=dict(orientation=\"h\", yanchor=\"bottom\", y=1.02, xanchor=\"right\", x=1)\n",
    ")\n",
    "x_data = fig.data[0]['x']\n",
    "y_data = fig.data[0]['y']\n",
    "\n",
    "# Añade una nueva traza con los números\n",
    "fig.add_trace(go.Scatter(x=x_data, y=y_data,\n",
    "                         mode='text',\n",
    "                         text=y_data,\n",
    "                         textposition=\"top center\",\n",
    "                         showlegend=False,\n",
    "                         textfont=dict(weight='bold')))\n",
    "fig.show()"
   ]
  },
  {
   "cell_type": "code",
   "execution_count": 20,
   "id": "990d4675",
   "metadata": {},
   "outputs": [
    {
     "name": "stdout",
     "output_type": "stream",
     "text": [
      "\n",
      "      Se han celebrado un total de 122 concursos, entre el 2025-01-10 y el 2025-04-27. Un 73 % de los concursos han sido de \n",
      "      ámbito internacional, frente a los de ámbito nacional, que representan un 26 % del total. La duración media de los concursos \n",
      "      es de 3 días. \n",
      "\n",
      "      El mes que más concursos se han realizado ha sido febrero, con un total de 41 concursos, y el mes que menos concursos se han realizado ha sido el mes de abril, \n",
      "      con un total de 21 concursos. La provincia en la que más concursos se han realizado ha sido Valencia, y la provincia en la que menos se han realizado ha sido Córdoba.\n",
      "\n",
      "      De media en un concurso se realizan 13 pruebas. Nos encontramos con 14 tipos de pruebas diferentes, siendo las más comunes las siguientes: \n",
      "      - Baremo A con cronómetro\n",
      "      - Baremo A con cronómetro y desempate\n",
      "      - Dos fases, ambas con cronómetro\n",
      "      - Dos fases especial\n",
      "\n",
      "      de media \n",
      "\n",
      "      \n"
     ]
    }
   ],
   "source": [
    "n_concursos = ejecutor_querys(cur, query_n_concursos)\n",
    "fechas_concursos_25 = ejecutor_querys(cur, query_fechas_concursos)\n",
    "n_concursos_mes = ejecutor_querys(cur, query_concursos_mes)\n",
    "n_concursos_ambito= ejecutor_querys(cur, query_concursos_ambito)\n",
    "media_pruebas_concurso = ejecutor_querys(cur, query_concursos_pruebas_concurso)\n",
    "tipos_pruebas = ejecutor_querys(cur, query_pruebas)\n",
    "\n",
    "print(f\"\"\"\n",
    "      Se han celebrado un total de {n_concursos[0][0]} concursos, entre el {str(fechas_concursos_25[0][0])} y el {str(fechas_concursos_25[0][1])}. Un {n_concursos_ambito[0][1]} de los concursos han sido de \n",
    "      ámbito {str(n_concursos_ambito[0][0]).lower()}, frente a los de ámbito {str(n_concursos_ambito[1][0]).lower()}, que representan un {n_concursos_ambito[1][1]} del total. La duración media de los concursos \n",
    "      es de {int(ejecutor_querys(cur, query_duracion_concursos)[0][0])} días. \n",
    "      \n",
    "      El mes que más concursos se han realizado ha sido {meses[int(n_concursos_mes[0][0])]}, con un total de {n_concursos_mes[0][1]} concursos, y el mes que menos concursos se han realizado ha sido el mes de {meses[int(n_concursos_mes[-1][0])]}, \n",
    "      con un total de {n_concursos_mes[-1][1]} concursos. La provincia en la que más concursos se han realizado ha sido {concursos_provincias[0][0]}, y la provincia en la que menos se han realizado ha sido {concursos_provincias[-1][0]}.\n",
    "      \n",
    "      De media en un concurso se realizan {str(media_pruebas_concurso[0][0]).replace('.', ',')} pruebas. Nos encontramos con {len(tipos_pruebas)} tipos de pruebas diferentes, siendo las más comunes las siguientes: \n",
    "      - {prueba_norma[tipos_pruebas[0][0]]}\n",
    "      - {prueba_norma[tipos_pruebas[1][0]]}\n",
    "      - {prueba_norma[tipos_pruebas[2][0]]}\n",
    "      - {prueba_norma[tipos_pruebas[3][0]]}\n",
    "      \n",
    "      de media \n",
    "\n",
    "      \"\"\")\n",
    "\n"
   ]
  },
  {
   "cell_type": "code",
   "execution_count": 21,
   "id": "5b95aecb",
   "metadata": {},
   "outputs": [
    {
     "data": {
      "text/html": [
       "<div>\n",
       "<style scoped>\n",
       "    .dataframe tbody tr th:only-of-type {\n",
       "        vertical-align: middle;\n",
       "    }\n",
       "\n",
       "    .dataframe tbody tr th {\n",
       "        vertical-align: top;\n",
       "    }\n",
       "\n",
       "    .dataframe thead th {\n",
       "        text-align: right;\n",
       "    }\n",
       "</style>\n",
       "<table border=\"1\" class=\"dataframe\">\n",
       "  <thead>\n",
       "    <tr style=\"text-align: right;\">\n",
       "      <th></th>\n",
       "      <th>id_concurso</th>\n",
       "      <th>nombre_concurso</th>\n",
       "      <th>categoria_concurso</th>\n",
       "      <th>pais_concurso</th>\n",
       "      <th>provincia_concurso</th>\n",
       "      <th>localidad_concurso</th>\n",
       "      <th>ambito_concurso</th>\n",
       "      <th>federacion_concurso</th>\n",
       "      <th>fecha_inicio_concurso</th>\n",
       "      <th>fecha_fin_concurso</th>\n",
       "    </tr>\n",
       "  </thead>\n",
       "  <tbody>\n",
       "    <tr>\n",
       "      <th>0</th>\n",
       "      <td>1</td>\n",
       "      <td>CSN3* Invierno</td>\n",
       "      <td>CSN***</td>\n",
       "      <td>Epaña</td>\n",
       "      <td>Sevilla</td>\n",
       "      <td>Real Club Pineda</td>\n",
       "      <td>Nacional</td>\n",
       "      <td>Federación Hípica Andaluza</td>\n",
       "      <td>2025-01-10</td>\n",
       "      <td>2025-01-12</td>\n",
       "    </tr>\n",
       "    <tr>\n",
       "      <th>1</th>\n",
       "      <td>2</td>\n",
       "      <td>SPRING MET I 2025 YH*</td>\n",
       "      <td>CSI YH*</td>\n",
       "      <td>Epaña</td>\n",
       "      <td>Valencia</td>\n",
       "      <td>Centro Ecuestre Oliva Nova</td>\n",
       "      <td>Internacional</td>\n",
       "      <td>Federación Hípica Comunidad Valenciana</td>\n",
       "      <td>2025-01-14</td>\n",
       "      <td>2025-01-16</td>\n",
       "    </tr>\n",
       "    <tr>\n",
       "      <th>2</th>\n",
       "      <td>3</td>\n",
       "      <td>MOURA TOURS VALENCIA - SPRING TOUR</td>\n",
       "      <td>CSI*</td>\n",
       "      <td>Epaña</td>\n",
       "      <td>Valencia</td>\n",
       "      <td>Moura Tours</td>\n",
       "      <td>Internacional</td>\n",
       "      <td>Federación Hípica Comunidad Valenciana</td>\n",
       "      <td>2025-01-20</td>\n",
       "      <td>2025-01-26</td>\n",
       "    </tr>\n",
       "    <tr>\n",
       "      <th>3</th>\n",
       "      <td>4</td>\n",
       "      <td>SPRING MET I 2025 - SILVER 1*</td>\n",
       "      <td>CSI*</td>\n",
       "      <td>Epaña</td>\n",
       "      <td>Valencia</td>\n",
       "      <td>Centro Ecuestre Oliva Nova</td>\n",
       "      <td>Internacional</td>\n",
       "      <td>Federación Hípica Comunidad Valenciana</td>\n",
       "      <td>2025-01-16</td>\n",
       "      <td>2025-01-18</td>\n",
       "    </tr>\n",
       "    <tr>\n",
       "      <th>4</th>\n",
       "      <td>5</td>\n",
       "      <td>SPRING MET I 2025 - GOLD 2*</td>\n",
       "      <td>CSI**</td>\n",
       "      <td>Epaña</td>\n",
       "      <td>Valencia</td>\n",
       "      <td>Centro Ecuestre Oliva Nova</td>\n",
       "      <td>Internacional</td>\n",
       "      <td>Federación Hípica Comunidad Valenciana</td>\n",
       "      <td>2025-01-16</td>\n",
       "      <td>2025-01-19</td>\n",
       "    </tr>\n",
       "  </tbody>\n",
       "</table>\n",
       "</div>"
      ],
      "text/plain": [
       "   id_concurso                     nombre_concurso categoria_concurso  \\\n",
       "0            1                      CSN3* Invierno             CSN***   \n",
       "1            2               SPRING MET I 2025 YH*            CSI YH*   \n",
       "2            3  MOURA TOURS VALENCIA - SPRING TOUR               CSI*   \n",
       "3            4       SPRING MET I 2025 - SILVER 1*               CSI*   \n",
       "4            5         SPRING MET I 2025 - GOLD 2*              CSI**   \n",
       "\n",
       "  pais_concurso provincia_concurso          localidad_concurso  \\\n",
       "0         Epaña            Sevilla            Real Club Pineda   \n",
       "1         Epaña           Valencia  Centro Ecuestre Oliva Nova   \n",
       "2         Epaña           Valencia                 Moura Tours   \n",
       "3         Epaña           Valencia  Centro Ecuestre Oliva Nova   \n",
       "4         Epaña           Valencia  Centro Ecuestre Oliva Nova   \n",
       "\n",
       "  ambito_concurso                     federacion_concurso  \\\n",
       "0        Nacional              Federación Hípica Andaluza   \n",
       "1   Internacional  Federación Hípica Comunidad Valenciana   \n",
       "2   Internacional  Federación Hípica Comunidad Valenciana   \n",
       "3   Internacional  Federación Hípica Comunidad Valenciana   \n",
       "4   Internacional  Federación Hípica Comunidad Valenciana   \n",
       "\n",
       "  fecha_inicio_concurso fecha_fin_concurso  \n",
       "0            2025-01-10         2025-01-12  \n",
       "1            2025-01-14         2025-01-16  \n",
       "2            2025-01-20         2025-01-26  \n",
       "3            2025-01-16         2025-01-18  \n",
       "4            2025-01-16         2025-01-19  "
      ]
     },
     "execution_count": 21,
     "metadata": {},
     "output_type": "execute_result"
    }
   ],
   "source": [
    "concursos = pd.DataFrame(ejecutor_querys(cur, query_concursos_completos)).rename(columns = {0: \"id_concurso\", 1: \"nombre_concurso\", 2: \"categoria_concurso\", 3: \"pais_concurso\", 4: \"provincia_concurso\", 5: \"localidad_concurso\", 6: \"ambito_concurso\", 7: \"federacion_concurso\", 8: \"fecha_inicio_concurso\", 9: \"fecha_fin_concurso\"})\n",
    "concursos.head()"
   ]
  },
  {
   "cell_type": "code",
   "execution_count": 22,
   "id": "02bd568c",
   "metadata": {},
   "outputs": [
    {
     "data": {
      "application/vnd.plotly.v1+json": {
       "config": {
        "plotlyServerURL": "https://plot.ly"
       },
       "data": [
        {
         "domain": {
          "x": [
           0,
           1
          ],
          "y": [
           0,
           1
          ]
         },
         "hovertemplate": "0=%{label}<br>1=%{value}<extra></extra>",
         "labels": [
          "Internacional",
          "Nacional"
         ],
         "legendgroup": "",
         "name": "",
         "showlegend": true,
         "textfont": {
          "color": "white"
         },
         "textinfo": "percent",
         "type": "pie",
         "values": {
          "bdata": "SRo=",
          "dtype": "i1"
         }
        }
       ],
       "layout": {
        "height": 400,
        "legend": {
         "tracegroupgap": 0
        },
        "piecolorway": [
         "#4c78a8",
         "#54a24b"
        ],
        "template": {
         "data": {
          "bar": [
           {
            "error_x": {
             "color": "#2a3f5f"
            },
            "error_y": {
             "color": "#2a3f5f"
            },
            "marker": {
             "line": {
              "color": "#E5ECF6",
              "width": 0.5
             },
             "pattern": {
              "fillmode": "overlay",
              "size": 10,
              "solidity": 0.2
             }
            },
            "type": "bar"
           }
          ],
          "barpolar": [
           {
            "marker": {
             "line": {
              "color": "#E5ECF6",
              "width": 0.5
             },
             "pattern": {
              "fillmode": "overlay",
              "size": 10,
              "solidity": 0.2
             }
            },
            "type": "barpolar"
           }
          ],
          "carpet": [
           {
            "aaxis": {
             "endlinecolor": "#2a3f5f",
             "gridcolor": "white",
             "linecolor": "white",
             "minorgridcolor": "white",
             "startlinecolor": "#2a3f5f"
            },
            "baxis": {
             "endlinecolor": "#2a3f5f",
             "gridcolor": "white",
             "linecolor": "white",
             "minorgridcolor": "white",
             "startlinecolor": "#2a3f5f"
            },
            "type": "carpet"
           }
          ],
          "choropleth": [
           {
            "colorbar": {
             "outlinewidth": 0,
             "ticks": ""
            },
            "type": "choropleth"
           }
          ],
          "contour": [
           {
            "colorbar": {
             "outlinewidth": 0,
             "ticks": ""
            },
            "colorscale": [
             [
              0,
              "#0d0887"
             ],
             [
              0.1111111111111111,
              "#46039f"
             ],
             [
              0.2222222222222222,
              "#7201a8"
             ],
             [
              0.3333333333333333,
              "#9c179e"
             ],
             [
              0.4444444444444444,
              "#bd3786"
             ],
             [
              0.5555555555555556,
              "#d8576b"
             ],
             [
              0.6666666666666666,
              "#ed7953"
             ],
             [
              0.7777777777777778,
              "#fb9f3a"
             ],
             [
              0.8888888888888888,
              "#fdca26"
             ],
             [
              1,
              "#f0f921"
             ]
            ],
            "type": "contour"
           }
          ],
          "contourcarpet": [
           {
            "colorbar": {
             "outlinewidth": 0,
             "ticks": ""
            },
            "type": "contourcarpet"
           }
          ],
          "heatmap": [
           {
            "colorbar": {
             "outlinewidth": 0,
             "ticks": ""
            },
            "colorscale": [
             [
              0,
              "#0d0887"
             ],
             [
              0.1111111111111111,
              "#46039f"
             ],
             [
              0.2222222222222222,
              "#7201a8"
             ],
             [
              0.3333333333333333,
              "#9c179e"
             ],
             [
              0.4444444444444444,
              "#bd3786"
             ],
             [
              0.5555555555555556,
              "#d8576b"
             ],
             [
              0.6666666666666666,
              "#ed7953"
             ],
             [
              0.7777777777777778,
              "#fb9f3a"
             ],
             [
              0.8888888888888888,
              "#fdca26"
             ],
             [
              1,
              "#f0f921"
             ]
            ],
            "type": "heatmap"
           }
          ],
          "histogram": [
           {
            "marker": {
             "pattern": {
              "fillmode": "overlay",
              "size": 10,
              "solidity": 0.2
             }
            },
            "type": "histogram"
           }
          ],
          "histogram2d": [
           {
            "colorbar": {
             "outlinewidth": 0,
             "ticks": ""
            },
            "colorscale": [
             [
              0,
              "#0d0887"
             ],
             [
              0.1111111111111111,
              "#46039f"
             ],
             [
              0.2222222222222222,
              "#7201a8"
             ],
             [
              0.3333333333333333,
              "#9c179e"
             ],
             [
              0.4444444444444444,
              "#bd3786"
             ],
             [
              0.5555555555555556,
              "#d8576b"
             ],
             [
              0.6666666666666666,
              "#ed7953"
             ],
             [
              0.7777777777777778,
              "#fb9f3a"
             ],
             [
              0.8888888888888888,
              "#fdca26"
             ],
             [
              1,
              "#f0f921"
             ]
            ],
            "type": "histogram2d"
           }
          ],
          "histogram2dcontour": [
           {
            "colorbar": {
             "outlinewidth": 0,
             "ticks": ""
            },
            "colorscale": [
             [
              0,
              "#0d0887"
             ],
             [
              0.1111111111111111,
              "#46039f"
             ],
             [
              0.2222222222222222,
              "#7201a8"
             ],
             [
              0.3333333333333333,
              "#9c179e"
             ],
             [
              0.4444444444444444,
              "#bd3786"
             ],
             [
              0.5555555555555556,
              "#d8576b"
             ],
             [
              0.6666666666666666,
              "#ed7953"
             ],
             [
              0.7777777777777778,
              "#fb9f3a"
             ],
             [
              0.8888888888888888,
              "#fdca26"
             ],
             [
              1,
              "#f0f921"
             ]
            ],
            "type": "histogram2dcontour"
           }
          ],
          "mesh3d": [
           {
            "colorbar": {
             "outlinewidth": 0,
             "ticks": ""
            },
            "type": "mesh3d"
           }
          ],
          "parcoords": [
           {
            "line": {
             "colorbar": {
              "outlinewidth": 0,
              "ticks": ""
             }
            },
            "type": "parcoords"
           }
          ],
          "pie": [
           {
            "automargin": true,
            "type": "pie"
           }
          ],
          "scatter": [
           {
            "fillpattern": {
             "fillmode": "overlay",
             "size": 10,
             "solidity": 0.2
            },
            "type": "scatter"
           }
          ],
          "scatter3d": [
           {
            "line": {
             "colorbar": {
              "outlinewidth": 0,
              "ticks": ""
             }
            },
            "marker": {
             "colorbar": {
              "outlinewidth": 0,
              "ticks": ""
             }
            },
            "type": "scatter3d"
           }
          ],
          "scattercarpet": [
           {
            "marker": {
             "colorbar": {
              "outlinewidth": 0,
              "ticks": ""
             }
            },
            "type": "scattercarpet"
           }
          ],
          "scattergeo": [
           {
            "marker": {
             "colorbar": {
              "outlinewidth": 0,
              "ticks": ""
             }
            },
            "type": "scattergeo"
           }
          ],
          "scattergl": [
           {
            "marker": {
             "colorbar": {
              "outlinewidth": 0,
              "ticks": ""
             }
            },
            "type": "scattergl"
           }
          ],
          "scattermap": [
           {
            "marker": {
             "colorbar": {
              "outlinewidth": 0,
              "ticks": ""
             }
            },
            "type": "scattermap"
           }
          ],
          "scattermapbox": [
           {
            "marker": {
             "colorbar": {
              "outlinewidth": 0,
              "ticks": ""
             }
            },
            "type": "scattermapbox"
           }
          ],
          "scatterpolar": [
           {
            "marker": {
             "colorbar": {
              "outlinewidth": 0,
              "ticks": ""
             }
            },
            "type": "scatterpolar"
           }
          ],
          "scatterpolargl": [
           {
            "marker": {
             "colorbar": {
              "outlinewidth": 0,
              "ticks": ""
             }
            },
            "type": "scatterpolargl"
           }
          ],
          "scatterternary": [
           {
            "marker": {
             "colorbar": {
              "outlinewidth": 0,
              "ticks": ""
             }
            },
            "type": "scatterternary"
           }
          ],
          "surface": [
           {
            "colorbar": {
             "outlinewidth": 0,
             "ticks": ""
            },
            "colorscale": [
             [
              0,
              "#0d0887"
             ],
             [
              0.1111111111111111,
              "#46039f"
             ],
             [
              0.2222222222222222,
              "#7201a8"
             ],
             [
              0.3333333333333333,
              "#9c179e"
             ],
             [
              0.4444444444444444,
              "#bd3786"
             ],
             [
              0.5555555555555556,
              "#d8576b"
             ],
             [
              0.6666666666666666,
              "#ed7953"
             ],
             [
              0.7777777777777778,
              "#fb9f3a"
             ],
             [
              0.8888888888888888,
              "#fdca26"
             ],
             [
              1,
              "#f0f921"
             ]
            ],
            "type": "surface"
           }
          ],
          "table": [
           {
            "cells": {
             "fill": {
              "color": "#EBF0F8"
             },
             "line": {
              "color": "white"
             }
            },
            "header": {
             "fill": {
              "color": "#C8D4E3"
             },
             "line": {
              "color": "white"
             }
            },
            "type": "table"
           }
          ]
         },
         "layout": {
          "annotationdefaults": {
           "arrowcolor": "#2a3f5f",
           "arrowhead": 0,
           "arrowwidth": 1
          },
          "autotypenumbers": "strict",
          "coloraxis": {
           "colorbar": {
            "outlinewidth": 0,
            "ticks": ""
           }
          },
          "colorscale": {
           "diverging": [
            [
             0,
             "#8e0152"
            ],
            [
             0.1,
             "#c51b7d"
            ],
            [
             0.2,
             "#de77ae"
            ],
            [
             0.3,
             "#f1b6da"
            ],
            [
             0.4,
             "#fde0ef"
            ],
            [
             0.5,
             "#f7f7f7"
            ],
            [
             0.6,
             "#e6f5d0"
            ],
            [
             0.7,
             "#b8e186"
            ],
            [
             0.8,
             "#7fbc41"
            ],
            [
             0.9,
             "#4d9221"
            ],
            [
             1,
             "#276419"
            ]
           ],
           "sequential": [
            [
             0,
             "#0d0887"
            ],
            [
             0.1111111111111111,
             "#46039f"
            ],
            [
             0.2222222222222222,
             "#7201a8"
            ],
            [
             0.3333333333333333,
             "#9c179e"
            ],
            [
             0.4444444444444444,
             "#bd3786"
            ],
            [
             0.5555555555555556,
             "#d8576b"
            ],
            [
             0.6666666666666666,
             "#ed7953"
            ],
            [
             0.7777777777777778,
             "#fb9f3a"
            ],
            [
             0.8888888888888888,
             "#fdca26"
            ],
            [
             1,
             "#f0f921"
            ]
           ],
           "sequentialminus": [
            [
             0,
             "#0d0887"
            ],
            [
             0.1111111111111111,
             "#46039f"
            ],
            [
             0.2222222222222222,
             "#7201a8"
            ],
            [
             0.3333333333333333,
             "#9c179e"
            ],
            [
             0.4444444444444444,
             "#bd3786"
            ],
            [
             0.5555555555555556,
             "#d8576b"
            ],
            [
             0.6666666666666666,
             "#ed7953"
            ],
            [
             0.7777777777777778,
             "#fb9f3a"
            ],
            [
             0.8888888888888888,
             "#fdca26"
            ],
            [
             1,
             "#f0f921"
            ]
           ]
          },
          "colorway": [
           "#636efa",
           "#EF553B",
           "#00cc96",
           "#ab63fa",
           "#FFA15A",
           "#19d3f3",
           "#FF6692",
           "#B6E880",
           "#FF97FF",
           "#FECB52"
          ],
          "font": {
           "color": "#2a3f5f"
          },
          "geo": {
           "bgcolor": "white",
           "lakecolor": "white",
           "landcolor": "#E5ECF6",
           "showlakes": true,
           "showland": true,
           "subunitcolor": "white"
          },
          "hoverlabel": {
           "align": "left"
          },
          "hovermode": "closest",
          "mapbox": {
           "style": "light"
          },
          "paper_bgcolor": "white",
          "plot_bgcolor": "#E5ECF6",
          "polar": {
           "angularaxis": {
            "gridcolor": "white",
            "linecolor": "white",
            "ticks": ""
           },
           "bgcolor": "#E5ECF6",
           "radialaxis": {
            "gridcolor": "white",
            "linecolor": "white",
            "ticks": ""
           }
          },
          "scene": {
           "xaxis": {
            "backgroundcolor": "#E5ECF6",
            "gridcolor": "white",
            "gridwidth": 2,
            "linecolor": "white",
            "showbackground": true,
            "ticks": "",
            "zerolinecolor": "white"
           },
           "yaxis": {
            "backgroundcolor": "#E5ECF6",
            "gridcolor": "white",
            "gridwidth": 2,
            "linecolor": "white",
            "showbackground": true,
            "ticks": "",
            "zerolinecolor": "white"
           },
           "zaxis": {
            "backgroundcolor": "#E5ECF6",
            "gridcolor": "white",
            "gridwidth": 2,
            "linecolor": "white",
            "showbackground": true,
            "ticks": "",
            "zerolinecolor": "white"
           }
          },
          "shapedefaults": {
           "line": {
            "color": "#2a3f5f"
           }
          },
          "ternary": {
           "aaxis": {
            "gridcolor": "white",
            "linecolor": "white",
            "ticks": ""
           },
           "baxis": {
            "gridcolor": "white",
            "linecolor": "white",
            "ticks": ""
           },
           "bgcolor": "#E5ECF6",
           "caxis": {
            "gridcolor": "white",
            "linecolor": "white",
            "ticks": ""
           }
          },
          "title": {
           "x": 0.05
          },
          "xaxis": {
           "automargin": true,
           "gridcolor": "white",
           "linecolor": "white",
           "ticks": "",
           "title": {
            "standoff": 15
           },
           "zerolinecolor": "white",
           "zerolinewidth": 2
          },
          "yaxis": {
           "automargin": true,
           "gridcolor": "white",
           "linecolor": "white",
           "ticks": "",
           "title": {
            "standoff": 15
           },
           "zerolinecolor": "white",
           "zerolinewidth": 2
          }
         }
        },
        "title": {
         "font": {
          "size": 16,
          "weight": "bold"
         },
         "text": "Porcentaje de concursos por ámbito",
         "x": 0.5
        },
        "width": 600
       }
      }
     },
     "metadata": {},
     "output_type": "display_data"
    }
   ],
   "source": [
    "df = pd.DataFrame(n_concursos_ambito)\n",
    "# Convert percentage strings to integers\n",
    "df[1] = df[1].str.replace('%', '').str.strip().astype(int)\n",
    "colores = ['#4c78a8', '#54a24b']\n",
    "fig = px.pie(df, values=1, names=0, title='Porcentaje de concursos por ámbito', color_discrete_sequence=colores)\n",
    "fig.update_traces(textinfo='percent', textfont_color='white')\n",
    "fig.update_layout(width=600, height=400, title_x=0.5, title_font=dict(size = 16, weight='bold'))\n",
    "fig.write_image(\"concursos_por_ambito.png\")\n",
    "fig.show()"
   ]
  },
  {
   "cell_type": "code",
   "execution_count": 23,
   "id": "adf195a7",
   "metadata": {},
   "outputs": [
    {
     "data": {
      "text/plain": [
       "{'Asturias': ['Club Hipico Astur'],\n",
       " 'Barcelona': ['Real Club De Polo De Barcelona', 'Open Sports Club'],\n",
       " 'Cantabria': ['Heras Horses & Events'],\n",
       " 'Cádiz': ['Dehesa Montenmedio'],\n",
       " 'Córdoba': ['Palma Del Rio'],\n",
       " 'Granada': ['Granada'],\n",
       " 'Madrid': ['Club Hipico Las Cadenas',\n",
       "  'R.A.C.E.',\n",
       "  'Las Cadenas',\n",
       "  'R.S.H.E.C.C.'],\n",
       " 'Murcia': ['Club Aros'],\n",
       " 'Segovia': ['Cenro Ecuestre De Castilla Y León'],\n",
       " 'Sevilla': ['Real Club Pineda'],\n",
       " 'Tenerife': ['C.H Nueva Atalaya', 'C.H. Del Sur Los Migueles'],\n",
       " 'Valencia': ['Centro Ecuestre Oliva Nova',\n",
       "  'Moura Tours',\n",
       "  'Ceon',\n",
       "  'Mouratours Valencia',\n",
       "  'Mouratours'],\n",
       " 'Zamora': ['Equus Duri']}"
      ]
     },
     "execution_count": 23,
     "metadata": {},
     "output_type": "execute_result"
    }
   ],
   "source": [
    "# Suponiendo que tu DataFrame se llama df\n",
    "diccionario = concursos.groupby('provincia_concurso')['localidad_concurso'].unique().apply(list).to_dict()\n",
    "diccionario"
   ]
  },
  {
   "cell_type": "code",
   "execution_count": 24,
   "id": "fd4c3925",
   "metadata": {},
   "outputs": [
    {
     "data": {
      "text/html": [
       "<div>\n",
       "<style scoped>\n",
       "    .dataframe tbody tr th:only-of-type {\n",
       "        vertical-align: middle;\n",
       "    }\n",
       "\n",
       "    .dataframe tbody tr th {\n",
       "        vertical-align: top;\n",
       "    }\n",
       "\n",
       "    .dataframe thead th {\n",
       "        text-align: right;\n",
       "    }\n",
       "</style>\n",
       "<table border=\"1\" class=\"dataframe\">\n",
       "  <thead>\n",
       "    <tr style=\"text-align: right;\">\n",
       "      <th></th>\n",
       "      <th>0</th>\n",
       "      <th>1</th>\n",
       "      <th>2</th>\n",
       "      <th>3</th>\n",
       "      <th>4</th>\n",
       "      <th>5</th>\n",
       "      <th>6</th>\n",
       "      <th>7</th>\n",
       "      <th>8</th>\n",
       "      <th>9</th>\n",
       "    </tr>\n",
       "  </thead>\n",
       "  <tbody>\n",
       "    <tr>\n",
       "      <th>0</th>\n",
       "      <td>20</td>\n",
       "      <td>CSN2* LAS CADENAS</td>\n",
       "      <td>CSN**</td>\n",
       "      <td>Epaña</td>\n",
       "      <td>Madrid</td>\n",
       "      <td>Club Hipico Las Cadenas</td>\n",
       "      <td>Nacional</td>\n",
       "      <td>Federación Hípica de Madrid</td>\n",
       "      <td>2025-01-25</td>\n",
       "      <td>2025-01-26</td>\n",
       "    </tr>\n",
       "    <tr>\n",
       "      <th>1</th>\n",
       "      <td>46</td>\n",
       "      <td>CSN2* LAS CADENAS</td>\n",
       "      <td>CSN**</td>\n",
       "      <td>Epaña</td>\n",
       "      <td>Madrid</td>\n",
       "      <td>Las Cadenas</td>\n",
       "      <td>Nacional</td>\n",
       "      <td>Federación Hípica de Madrid</td>\n",
       "      <td>2025-02-15</td>\n",
       "      <td>2025-02-16</td>\n",
       "    </tr>\n",
       "    <tr>\n",
       "      <th>2</th>\n",
       "      <td>100</td>\n",
       "      <td>CSN2* LAS CADENAS</td>\n",
       "      <td>CSN**</td>\n",
       "      <td>Epaña</td>\n",
       "      <td>Madrid</td>\n",
       "      <td>Club Hipico Las Cadenas</td>\n",
       "      <td>Nacional</td>\n",
       "      <td>Federación Hípica de Madrid</td>\n",
       "      <td>2025-03-29</td>\n",
       "      <td>2025-03-30</td>\n",
       "    </tr>\n",
       "  </tbody>\n",
       "</table>\n",
       "</div>"
      ],
      "text/plain": [
       "     0                  1      2      3       4                        5  \\\n",
       "0   20  CSN2* LAS CADENAS  CSN**  Epaña  Madrid  Club Hipico Las Cadenas   \n",
       "1   46  CSN2* LAS CADENAS  CSN**  Epaña  Madrid              Las Cadenas   \n",
       "2  100  CSN2* LAS CADENAS  CSN**  Epaña  Madrid  Club Hipico Las Cadenas   \n",
       "\n",
       "          6                            7           8           9  \n",
       "0  Nacional  Federación Hípica de Madrid  2025-01-25  2025-01-26  \n",
       "1  Nacional  Federación Hípica de Madrid  2025-02-15  2025-02-16  \n",
       "2  Nacional  Federación Hípica de Madrid  2025-03-29  2025-03-30  "
      ]
     },
     "execution_count": 24,
     "metadata": {},
     "output_type": "execute_result"
    }
   ],
   "source": [
    "query1 = \"\"\"\n",
    "        SELECT *\n",
    "        FROM concursos c\n",
    "        WHERE c.nombre_concurso = 'CSN2* LAS CADENAS';\n",
    "\"\"\"\n",
    "cur.execute(query1)\n",
    "cosita = pd.DataFrame(cur.fetchall())\n",
    "cosita"
   ]
  },
  {
   "cell_type": "markdown",
   "id": "dd137c0e",
   "metadata": {},
   "source": [
    "## Análisis de jinetes y caballos (binomios)"
   ]
  },
  {
   "cell_type": "code",
   "execution_count": 25,
   "id": "1c70da08",
   "metadata": {},
   "outputs": [],
   "source": [
    "query_jinetes = \"\"\"\n",
    "        \n",
    "        SELECT \n",
    "            DISTINCT COUNT(id_jinete)\n",
    "        FROM jinetes j; \n",
    "\n",
    "\"\"\"\n",
    "query_caballos = \"\"\"\n",
    "        \n",
    "        SELECT \n",
    "            DISTINCT COUNT(id_caballo)\n",
    "        FROM caballos c; \n",
    "\n",
    "\"\"\"\n",
    "\n",
    "query_binomios = \"\"\"\n",
    "\n",
    "        SELECT \n",
    "            DISTINCT COUNT(CONCAT(j.id_jinete, '-', c.id_caballo))\n",
    "        FROM resultados r\n",
    "            JOIN jinetes j ON r.id_jinete = j.id_jinete\n",
    "            JOIN caballos c ON r.id_caballo = c.id_caballo\n",
    "\"\"\"\n",
    "\n",
    "query_resultados_jinete = \"\"\"\n",
    "\n",
    "        SELECT \n",
    "            j.nombre_jinete,\n",
    "            ROUND(AVG(r.puesto))\n",
    "        FROM resultados r\n",
    "            JOIN jinetes j ON r.id_jinete = j.id_jinete\n",
    "            JOIN resultados_salto rs ON r.id_resultado = rs.id_resultado\n",
    "        GROUP BY j.nombre_jinete\n",
    "        ORDER BY 2 ASC;\n",
    "\n",
    "\"\"\"\n",
    "tipos_categorias = \"\"\"\n",
    "        SELECT \n",
    "            DISTINCT categoria_concurso\n",
    "        FROM concursos c;\n",
    "\"\"\"\n",
    "\n",
    "query_resultados_jinete_2 = \"\"\"\n",
    "        SELECT \n",
    "            c.categoria_concurso,\n",
    "            p.nombre_prueba\n",
    "\n",
    "        FROM resultados r\n",
    "        JOIN jinetes j ON r.id_jinete = j.id_jinete\n",
    "        JOIN concursos c ON r.id_concurso = c.id_concurso\n",
    "        JOIN resultados_salto rs ON r.id_resultado = rs.id_resultado\n",
    "        JOIN pruebas p ON r.id_prueba = p.id_prueba\n",
    "        GROUP BY c.categoria_concurso, p.nombre_prueba\n",
    "\n",
    "        ;\n",
    "\"\"\"\n",
    "dinero_concurso_categoria = \"\"\"\n",
    "        WITH DineroTotalPorConcurso AS (\n",
    "        SELECT\n",
    "            r.id_concurso,\n",
    "            SUM(r.dinero_premio) AS total_premio_concurso\n",
    "        FROM resultados r\n",
    "        GROUP BY r.id_concurso\n",
    "        )\n",
    "        SELECT\n",
    "            c.categoria_concurso,\n",
    "            AVG(dtpc.total_premio_concurso) AS media_dinero_premio_por_concurso\n",
    "        FROM concursos c\n",
    "            JOIN DineroTotalPorConcurso dtpc ON c.id_concurso = dtpc.id_concurso\n",
    "        GROUP BY c.categoria_concurso\n",
    "        ORDER BY c.categoria_concurso ;\n",
    "        \"\"\"\n",
    "caballos_medios_jinete = \"\"\" \n",
    "    SELECT\n",
    "    AVG(caballos_distintos) AS promedio_caballos_por_jinete\n",
    "    FROM (\n",
    "        SELECT\n",
    "            j.id_jinete,\n",
    "            COUNT(DISTINCT r.id_caballo) AS caballos_distintos\n",
    "        FROM\n",
    "            resultados r\n",
    "        JOIN\n",
    "            jinetes j ON r.id_jinete = j.id_jinete\n",
    "        GROUP BY\n",
    "            j.id_jinete\n",
    "    );\n",
    "\"\"\"\n"
   ]
  },
  {
   "cell_type": "code",
   "execution_count": 26,
   "id": "d1b4e5c0",
   "metadata": {},
   "outputs": [],
   "source": [
    "conn.rollback()"
   ]
  },
  {
   "cell_type": "markdown",
   "id": "b59886c5",
   "metadata": {},
   "source": [
    "en cada tipo de prueba, que jinete es mejor/ al revés, y ver que jinete como overall es mejor y el mejor caballo, hacer un top 10. Ver si hay correlacion entre ganar y haber sido/mas rapido/tener mas o menos puntos en cada tipo de prueba. Dividir por categoría"
   ]
  },
  {
   "cell_type": "code",
   "execution_count": 27,
   "id": "097e1bb1",
   "metadata": {},
   "outputs": [
    {
     "data": {
      "text/plain": [
       "3"
      ]
     },
     "execution_count": 27,
     "metadata": {},
     "output_type": "execute_result"
    }
   ],
   "source": [
    "coso = ejecutor_querys(cur, caballos_medios_jinete)\n",
    "round(coso[0][0])"
   ]
  },
  {
   "cell_type": "code",
   "execution_count": 28,
   "id": "0bef456d",
   "metadata": {},
   "outputs": [
    {
     "data": {
      "text/html": [
       "<div>\n",
       "<style scoped>\n",
       "    .dataframe tbody tr th:only-of-type {\n",
       "        vertical-align: middle;\n",
       "    }\n",
       "\n",
       "    .dataframe tbody tr th {\n",
       "        vertical-align: top;\n",
       "    }\n",
       "\n",
       "    .dataframe thead th {\n",
       "        text-align: right;\n",
       "    }\n",
       "</style>\n",
       "<table border=\"1\" class=\"dataframe\">\n",
       "  <thead>\n",
       "    <tr style=\"text-align: right;\">\n",
       "      <th></th>\n",
       "      <th>categoria</th>\n",
       "      <th>premio_medio_repartido</th>\n",
       "    </tr>\n",
       "  </thead>\n",
       "  <tbody>\n",
       "    <tr>\n",
       "      <th>4</th>\n",
       "      <td>CSI****</td>\n",
       "      <td>375993.00</td>\n",
       "    </tr>\n",
       "    <tr>\n",
       "      <th>3</th>\n",
       "      <td>CSI***</td>\n",
       "      <td>191423.87</td>\n",
       "    </tr>\n",
       "    <tr>\n",
       "      <th>2</th>\n",
       "      <td>CSI**</td>\n",
       "      <td>95267.17</td>\n",
       "    </tr>\n",
       "    <tr>\n",
       "      <th>10</th>\n",
       "      <td>CSN*****</td>\n",
       "      <td>37170.00</td>\n",
       "    </tr>\n",
       "    <tr>\n",
       "      <th>1</th>\n",
       "      <td>CSI*</td>\n",
       "      <td>30654.96</td>\n",
       "    </tr>\n",
       "    <tr>\n",
       "      <th>0</th>\n",
       "      <td>CSI YH*</td>\n",
       "      <td>27653.00</td>\n",
       "    </tr>\n",
       "    <tr>\n",
       "      <th>9</th>\n",
       "      <td>CSN****</td>\n",
       "      <td>26215.00</td>\n",
       "    </tr>\n",
       "    <tr>\n",
       "      <th>5</th>\n",
       "      <td>CSIO Ch/J/Y</td>\n",
       "      <td>22900.00</td>\n",
       "    </tr>\n",
       "    <tr>\n",
       "      <th>8</th>\n",
       "      <td>CSN***</td>\n",
       "      <td>11167.21</td>\n",
       "    </tr>\n",
       "    <tr>\n",
       "      <th>7</th>\n",
       "      <td>CSN**</td>\n",
       "      <td>5542.94</td>\n",
       "    </tr>\n",
       "    <tr>\n",
       "      <th>11</th>\n",
       "      <td>CSNCJ</td>\n",
       "      <td>1585.33</td>\n",
       "    </tr>\n",
       "    <tr>\n",
       "      <th>6</th>\n",
       "      <td>CSN*</td>\n",
       "      <td>515.00</td>\n",
       "    </tr>\n",
       "  </tbody>\n",
       "</table>\n",
       "</div>"
      ],
      "text/plain": [
       "      categoria  premio_medio_repartido\n",
       "4       CSI****               375993.00\n",
       "3        CSI***               191423.87\n",
       "2         CSI**                95267.17\n",
       "10     CSN*****                37170.00\n",
       "1          CSI*                30654.96\n",
       "0       CSI YH*                27653.00\n",
       "9       CSN****                26215.00\n",
       "5   CSIO Ch/J/Y                22900.00\n",
       "8        CSN***                11167.21\n",
       "7         CSN**                 5542.94\n",
       "11        CSNCJ                 1585.33\n",
       "6          CSN*                  515.00"
      ]
     },
     "execution_count": 28,
     "metadata": {},
     "output_type": "execute_result"
    }
   ],
   "source": [
    "categorias_premios = pd.DataFrame(ejecutor_querys(cur , dinero_concurso_categoria))\n",
    "categorias_premios[1] = categorias_premios[1].apply(lambda x: round(x, 2))\n",
    "categorias_premios = categorias_premios.rename(columns = {0: \"categoria\", 1: \"premio_medio_repartido\"})\n",
    "categorias_premios.sort_values(by = \"premio_medio_repartido\", ascending = False, inplace = True)\n",
    "categorias_premios"
   ]
  },
  {
   "cell_type": "code",
   "execution_count": 29,
   "id": "4b36fd29",
   "metadata": {},
   "outputs": [],
   "source": [
    "query_binomios = \"\"\"\n",
    "    SELECT \n",
    "        COUNT(DISTINCT (id_jinete, id_caballo))\n",
    "    FROM resultados r\n",
    "\"\"\"\n"
   ]
  },
  {
   "cell_type": "code",
   "execution_count": 30,
   "id": "b1ef1810",
   "metadata": {},
   "outputs": [],
   "source": [
    "conn.rollback()"
   ]
  },
  {
   "cell_type": "code",
   "execution_count": 31,
   "id": "d75cce52",
   "metadata": {},
   "outputs": [
    {
     "data": {
      "text/plain": [
       "[(9012,)]"
      ]
     },
     "execution_count": 31,
     "metadata": {},
     "output_type": "execute_result"
    }
   ],
   "source": [
    "ejecutor_querys(cur, query_binomios)"
   ]
  },
  {
   "cell_type": "code",
   "execution_count": 32,
   "id": "e785bb6d",
   "metadata": {},
   "outputs": [
    {
     "name": "stdout",
     "output_type": "stream",
     "text": [
      "\n",
      "      Ha habido una participación de un total de 9012 binomios en los concursos. A continuación realizamos un análisis de los binomios, en función\n",
      "      de los resultados obtenidos en los concursos.\n",
      "      \n"
     ]
    }
   ],
   "source": [
    "print(f\"\"\"\n",
    "      Ha habido una participación de un total de {ejecutor_querys(cur, query_binomios)[0][0]} binomios en los concursos. A continuación realizamos un análisis de los binomios, en función\n",
    "      de los resultados obtenidos en los concursos.\n",
    "      \"\"\")"
   ]
  },
  {
   "cell_type": "code",
   "execution_count": 33,
   "id": "f54477ac",
   "metadata": {},
   "outputs": [],
   "source": [
    "pd.set_option('display.max_columns', None)"
   ]
  },
  {
   "cell_type": "markdown",
   "id": "cd05e695",
   "metadata": {},
   "source": [
    "- CSNCJ:nacional caballos jovenes\n",
    "- CSIO Ch/J/Y: internacional children, junior, young rider\n",
    "- CSI YH: internacional young horse"
   ]
  },
  {
   "cell_type": "markdown",
   "id": "57eeb6c1",
   "metadata": {},
   "source": [
    "## Dividimos entre categorías nacionales e internacionales"
   ]
  },
  {
   "cell_type": "code",
   "execution_count": 34,
   "id": "e76a44a4",
   "metadata": {},
   "outputs": [],
   "source": [
    "conn.rollback()"
   ]
  },
  {
   "cell_type": "code",
   "execution_count": 35,
   "id": "56de9877",
   "metadata": {},
   "outputs": [],
   "source": [
    "df = pd.DataFrame(ejecutor_querys(cur, query_resultados_jinete_2))\n",
    "diccionario_agrupado = df.groupby(0)[1].apply(list).to_dict()"
   ]
  },
  {
   "cell_type": "markdown",
   "id": "52ddc54e",
   "metadata": {},
   "source": [
    "- uno general, que selecciono el concurso y puedo ver métricas del mismo, puedo ver los resultados por ej, y métricas. En esta página tendré una visión general de los concursos, y luego por concurso, los filtros serán concurso y fecha, de manera que puedo filtrar por concurso y por fecha. \n",
    "- uno de binomios, en el que elijo el jinete con x caballo, y otro jinete con x caballo para comparar rendimientos. calculo por binomio la media de puntos de obstáculos que hacen en una salida a pista, la media de puntos de tiempo que hacen en una salida a pista, y el tiempo. mirar si filtrar por ronda. \n"
   ]
  },
  {
   "cell_type": "code",
   "execution_count": 36,
   "id": "59f621c3",
   "metadata": {},
   "outputs": [
    {
     "data": {
      "text/plain": [
       "{'CSI YH*': ['5 años - 1,20 - A.c.c. y desempate (238.2.2)',\n",
       "  '6 años - 1,30 - A c.c. (238.2.1)',\n",
       "  '1,10 - A c.c. (238.2.1)',\n",
       "  '1,35 (G) - Dos Fases (274.1.5.3)',\n",
       "  '6 años - 1,20 - 2 fases Asc / Acc (274.1.5.2)',\n",
       "  '5 años - 1,15 - A.c.c. y desempate (238.2.2)',\n",
       "  '7 años - 1,30 - A c.c. (238.2.1)',\n",
       "  '8 años - 1,45 - A.c.c y desempate (238.2.2)',\n",
       "  '8 años - 1,45 - A.c.c. (238.2.1)',\n",
       "  '6 años - 1,25 - Dos Fases Especial (274.2)',\n",
       "  '1,40 (G) - Dos Fases (274.1.5.3)',\n",
       "  '7 años - 1,25 - A c.c. (238.2.1)',\n",
       "  '1,20 - A c.c. (238.2.1)',\n",
       "  '7 años - 1,30 - Dos Fases (274.1.5.3)',\n",
       "  '7 años - 1,35 - A sin cronómetro (238.1.1)',\n",
       "  '5 años - 1,10 - Dos Fases (274.1.5.3)',\n",
       "  '5 años - 1,15 - Dos Fases (274.1.5.3)',\n",
       "  '6 años - 1,25 - A.c.c. y desempate (238.2.2)',\n",
       "  '7 años - 1,35 - Dos Fases (274.1.5.3)',\n",
       "  '1,20 - A.c.c. y desempate (238.2.2)',\n",
       "  '7 años - 8 años - A.c.c (238.2.1)',\n",
       "  '1,35 (G) - A.c.c. y desempate (238.2.2)',\n",
       "  '8 años - 1,40 - A.c.c. (238.2.1)',\n",
       "  '5 años - 1,05 - A sin cronómetro (238.1.1)',\n",
       "  '7 años - 1,35 - Dos Fases Especial (274.2)',\n",
       "  '6 años - 1,25 - A sin cronómetro (238.1.1)',\n",
       "  '5 años - 1,20 - A sin cronómetro (238.1.1)',\n",
       "  '7 años - 1,40 - A.c.c. y desempate (238.2.2)',\n",
       "  '6 años - 1,15 - A sin cronómetro (238.1.1)',\n",
       "  '6 años - 1,15 - Dos Fases (274.1.5.3)',\n",
       "  '8 años - 1,40 - Dos Fases Especial (274.2)',\n",
       "  '7 años - 1,30 - Acc y desempate (238.2.2)',\n",
       "  '7 años - 1,35 - A.c.c. y desempate (238.2.2)',\n",
       "  '5 años - 1,15 - Dos Fases Especial (274.2)',\n",
       "  '6 años - 1,25 - A c.c. (238.2.1)',\n",
       "  '6 años - 1,20 - Dos Fases (274.1.5.3)',\n",
       "  '7 años - 1,30 - A sin cronómetro (238.1.1)',\n",
       "  '6 años - 1,30 - A.c.c. y desempate (238.2.2)',\n",
       "  '6 años - 1,20 - A.c.c. y desempate (238.2.2)',\n",
       "  '1,50 (GP) - A.c.c. y desempate (238.2.2)',\n",
       "  '6 años - 1,20 - A sin cronómetro (238.1.1)',\n",
       "  '1,20 - Dos Fases Especial (274.2)',\n",
       "  '1,40 (GP) - A.c.c. y desempate (238.2.2)',\n",
       "  '1,35 (G) - A c.c. (238.2.1)',\n",
       "  '1,10 - Dos Fases (274.1.5.3)',\n",
       "  '7 años - 1,40 - A c.c. (238.2.1)',\n",
       "  '1,45 (G) - A c.c. (238.2.1)',\n",
       "  '5 años - 1,15 - A sin cronómetro (238.1.1)',\n",
       "  '1,40 (G) - A.c.c. y desempate (238.2.2)',\n",
       "  '1,30 - Dos Fases Especial (274.2)',\n",
       "  '6 años - 1,25 - Dos Fases (274.1.5.3)',\n",
       "  '7 años - 8 años - Dos Fases (274.1.5.3)',\n",
       "  '1,30 - A c.c. (238.2.1)',\n",
       "  '1,40 (G) - A c.c. (238.2.1)',\n",
       "  '7 años - 1,35 - A c.c. (238.2.1)',\n",
       "  '7 años - 8 años - A.c.c y desempate (238.2.2)',\n",
       "  '5 años - 1,10 - A sin cronómetro (238.1.1)',\n",
       "  '5 años - 1,05 - A c.c. (238.2.1)',\n",
       "  '1,45 (G) - A.c.c. y desempate (238.2.2)',\n",
       "  '6 años - 1,20 - A c.c. (238.2.1)'],\n",
       " 'CSI*': ['5 años - 1,10 - Dos Fases (274.1.5.3)',\n",
       "  '1,30 - Dos Fases Especial (274.2)',\n",
       "  '1,10 - Dos Fases (274.1.5.3)',\n",
       "  '7 años - 1,30 - Acc y desempate (238.2.2)',\n",
       "  '1,10 - A.c.c. y desempate (238.2.2)',\n",
       "  '1,20 - Dos Fases (274.1.5.3)',\n",
       "  '1,35 (G) - Dos Fases (274.1.5.3)',\n",
       "  '1,25 - Dos Fases (274.1.5.3)',\n",
       "  '1,40 (G) - Dos Fases (274.1.5.3)',\n",
       "  '7 años - 1,30 - Dos Fases (274.1.5.3)',\n",
       "  '7 años - 1,30 - A c.c. (238.2.1)',\n",
       "  '1,30 - A.c.c. y desempate (238.2.2)',\n",
       "  '1,20 - A.c.c. y desempate (238.2.2)',\n",
       "  '1,30 - A c.c. (238.2.1)',\n",
       "  '1,20 - A c.c. (238.2.1)',\n",
       "  '5 años - 1,10 - A sin cronómetro (238.1.1)',\n",
       "  '1,40 (GP) - A.c.c. y desempate (238.2.2)',\n",
       "  '6 años - 1,20 - A c.c. (238.2.1)',\n",
       "  '1,35 (G) - A.c.c. y desempate (238.2.2)',\n",
       "  '1,10 - A c.c. (238.2.1)',\n",
       "  '1,50 (GP) - A.c.c. y desempate (238.2.2)',\n",
       "  '1,40 (G) - A.c.c. y desempate al cronómetro (238.2.2)',\n",
       "  '1,40 (G) - A c.c. (238.2.1)',\n",
       "  '1,25 - Velocidad y Manejabilidad (263)',\n",
       "  '1,40 (G) - DOS FASES (A c/c - A c/c) (274.1.5.3)',\n",
       "  '1,45 (G) - A c.c. (238.2.1)',\n",
       "  '1,30 - Dificultades Progresivas (269.3.2)',\n",
       "  '1,20 - Dos Fases Especial (274.2)',\n",
       "  '6 años - 1,20 - A.c.c. y desempate (238.2.2)',\n",
       "  '1,45 (G) - A.c.c. y desempate (238.2.2)',\n",
       "  '1,35 (G) - A c.c. (238.2.1)',\n",
       "  '1,40 (G) - A.c.c. y desempate (238.2.2)',\n",
       "  '1,25 - A c.c. (238.2.1)',\n",
       "  '6 años - 1,20 - Dos Fases (274.1.5.3)'],\n",
       " 'CSI**': ['1,25 - A c.c. (238.2.1)',\n",
       "  '1,45 (G) - Dos Fases (274.1.5.3)',\n",
       "  '1,10 - Dos Fases (274.1.5.3)',\n",
       "  '1,20 - A c.c. (238.2.1)',\n",
       "  '1,45 (G) - A c.c. (238.2.1)',\n",
       "  '1,10 - A c.c. (238.2.1)',\n",
       "  '1,45 (GP) - A.c.c. y desempate (238.2.2)',\n",
       "  '1,45 (G) - A.c.c. y desempate (238.2.2)',\n",
       "  '1,20 - Dos Fases (274.1.5.3)',\n",
       "  '1,35 (G) - A c.c. (238.2.1)',\n",
       "  '1,15 - A c.c. (238.2.1)',\n",
       "  '1,30 - A c.c. (238.2.1)',\n",
       "  '1,40 (G) - A c.c. (238.2.1)',\n",
       "  '1,40 (G) - A.c.c. y desempate (238.2.2)',\n",
       "  '1,35 (G) - Dos Fases (274.1.5.3)',\n",
       "  '1,30 - Dos Fases (274.1.5.3)',\n",
       "  '1,40 (G) - Dos Fases (274.1.5.3)'],\n",
       " 'CSI***': ['5 años - 1,10 - Dos Fases (274.1.5.3)',\n",
       "  '1,10 - Dos Fases (274.1.5.3)',\n",
       "  '1,40 (G) - Dos Fases (274.1.5.3)',\n",
       "  '1,40 (G) - A.c.c. y desempate al cronómetro (238.2.2)',\n",
       "  '1,50 (GP) - A.c.c. y desempate (238.2.2)',\n",
       "  '1,35 (G) - A.c.c. y desempate (238.2.2)',\n",
       "  '1,45 (G) - A.c.c. y desempate (238.2.2)',\n",
       "  '6 años - 1,20 - A.c.c. y desempate (238.2.2)',\n",
       "  '1,20 - A.c.c. y desempate (238.2.2)',\n",
       "  '1,40 (GP) - GRAN PREMIO - A c/c y un desempate (238.2.2)',\n",
       "  '1,35 (P) - A c.c. (238.2.1)',\n",
       "  '6 años - 1,20 - A c.c. (238.2.1)',\n",
       "  '1,30 - Dos Fases Especial (274.2)',\n",
       "  '1,20 - A c.c. (238.2.1)',\n",
       "  '1,20 - Dos Fases Especial (274.2)',\n",
       "  '1,45 (G) - A c.c. (238.2.1)',\n",
       "  '1,35 (G) - A c.c. (238.2.1)',\n",
       "  '1,30 (P) - A c.c. (238.2.1)',\n",
       "  '1,40 (GP) - A.c.c. y desempate (238.2.2)',\n",
       "  '1,15 - A c.c. (238.2.1)',\n",
       "  '1,30 - Dos Fases (274.1.5.3)',\n",
       "  '1,40 (P) - A.c.c. y desempate (238.2.2)',\n",
       "  '1,45 (G) - Dos Fases (274.1.5.3)',\n",
       "  '1,50 (G) - A.c.c. y desempate (238.2.2)',\n",
       "  '7 años - 1,30 - A c.c. (238.2.1)',\n",
       "  '1,20 - Dos Fases (274.1.5.3)',\n",
       "  '1,10 - A c.c. (238.2.1)',\n",
       "  '1,40 (G) - A c.c. (238.2.1)',\n",
       "  '5 años - 1,10 - A sin cronómetro (238.1.1)',\n",
       "  '1,35 (M) - A c.c. (238.2.1)',\n",
       "  '1,25 - A c.c. (238.2.1)',\n",
       "  '1,35 (G) - Dos Fases (274.1.5.3)',\n",
       "  '6 años - 1,20 - Dos Fases (274.1.5.3)',\n",
       "  '7 años - 1,30 - Acc y desempate (238.2.2)',\n",
       "  '1,45 (P) - A c.c. (238.2.1)',\n",
       "  '1,30 - A.c.c. y desempate (238.2.2)',\n",
       "  '1,40 (G) - A.c.c. y desempate (238.2.2)',\n",
       "  '1,30 - A c.c. (238.2.1)',\n",
       "  '7 años - 1,30 - Dos Fases (274.1.5.3)'],\n",
       " 'CSI****': ['1,45 (M) - Dos Fases (274.1.5.3)',\n",
       "  '1,20 - A c.c. (238.2.1)',\n",
       "  '1.15 - Acc (238.2.1)',\n",
       "  '1,40 (G) - A c.c. (238.2.1)',\n",
       "  '1,50 (G) - A c.c. (238.2.1)',\n",
       "  '1,20 - Dos Fases Especial (274.2)',\n",
       "  '1.20 - Acc (238.2.1)',\n",
       "  '1,10 - A c.c. (238.2.1)',\n",
       "  '1,45 (G) - A c.c. (238.2.1)',\n",
       "  '5 años - 1,10 - Dos Fases (274.1.5.3)',\n",
       "  '1,35 (P) - A c.c. (238.2.1)',\n",
       "  '1,50 (G) - DOS FASES (A c/c - A c/c) (274.1.5.3)',\n",
       "  '1,40 (GP) - A.c.c. y desempate (238.2.2)',\n",
       "  '1,55 (GP) - A.c.c. y desempate (238.2.2)',\n",
       "  '1,45 (P) - A c.c. (238.2.1)',\n",
       "  '1,40 (G) - A.c.c. y desempate (238.2.2)',\n",
       "  '1,35 (P) - DOS FASES (A c/c - A c/c) (274.1.5.3)',\n",
       "  '1,35 (M) - A c.c. (238.2.1)',\n",
       "  '1,35 (G) - Dos Fases (274.1.5.3)',\n",
       "  '1,40 (P) - DOS FASES (A c/c - A c/c) (274.1.5.3)',\n",
       "  'CLASSIC TOUR A - 2 fases Asc / Acc (274.1.5.2)',\n",
       "  '1,20 - A.c.c. y desempate (238.2.2)',\n",
       "  '1,30 - Dos Fases (274.1.5.3)',\n",
       "  '1,45 (P) - DOS FASES (A c/c - A c/c) (274.1.5.3)',\n",
       "  '1,40 (G) - 2 fases Asc / Acc (274.1.5.2)',\n",
       "  '6 años - 1,20 - A.c.c. y desempate (238.2.2)',\n",
       "  '1,40 (M) - 2 fases Asc / Acc (274.1.5.2)',\n",
       "  '1,35 (G) - A c.c. (238.2.1)',\n",
       "  '1,40 (M) - A c.c. (238.2.1)',\n",
       "  '1,30 - 2 fases Asc / Acc (274.1.5.2)',\n",
       "  '7 años - 1,30 - A c.c. (238.2.1)',\n",
       "  '1,30 - Accumulator (269.3.2)',\n",
       "  '1,50 (G) - A con cronometro sin desempate (238.2.1)',\n",
       "  '1,40 (G) - Dos Fases (274.1.5.3)',\n",
       "  '1,50 (G) - A.c.c. y desempate (238.2.2)',\n",
       "  '1,50 (GP) - A.c.c. y desempate (238.2.2)',\n",
       "  '1,35 (G) - 2 fases Asc / Acc (274.1.5.2)',\n",
       "  '1,45 (M) - A con cronometro sin desempate (238.2.1)',\n",
       "  '1.20 - DOS FASES (274.1.5.3)',\n",
       "  '1.20 - 2 FASES (274.1.5.2)',\n",
       "  '1,45 (GP) - Dos Mangas (273.3.4)',\n",
       "  'CLASSIC TOUR A - A c.c. (238.2.1)',\n",
       "  '1,45 (G) - 2 fases Asc / Acc (274.1.5.2)',\n",
       "  '1,30 - A c.c. (238.2.1)',\n",
       "  '1,10 - Dos Fases (274.1.5.3)',\n",
       "  '7 años - 1,30 - Acc y desempate (238.2.2)',\n",
       "  '5 años - 1,10 - A sin cronómetro (238.1.1)',\n",
       "  '1,45 (G) - Dos Fases (274.1.5.3)',\n",
       "  '1,45 (GP) - A.c.c. y desempate (238.2.2)',\n",
       "  '1,40 (P) - A c.c. (238.2.1)',\n",
       "  '6 años - 1,20 - A c.c. (238.2.1)',\n",
       "  '1,35 (G) - A.c.c. y desempate (238.2.2)',\n",
       "  '1,50 (GP) - Dos Mangas (273.3.4)'],\n",
       " 'CSIO Ch/J/Y': ['J - 1,40 m. - A c.c. (238.2.1)',\n",
       "  'YR - CN - C.N. (264)',\n",
       "  'Ch - 1,30 m. - A.c.c. y desempate (238.2.2)',\n",
       "  'YR - 1,40 m. - 2 fases Asc / Acc (274.1.5.2)',\n",
       "  'Ch - 1,30 m. - A c.c. (238.2.1)',\n",
       "  'YR - 1,45 m. - A c.c. (238.2.1)',\n",
       "  'J - 1,35 m. - 2 fases Asc / Acc (274.1.5.2)',\n",
       "  'Ch - 1,25 m. - A c.c. (238.2.1)',\n",
       "  'YR - 1,45 m. - A.c.c. y desempate (238.2.2)',\n",
       "  'J - 1,40 m. - A.c.c. y desempate (238.2.2)',\n",
       "  'Ch - CN - C.N. (264)',\n",
       "  'Ch - 1,30 m. - Dos Fases (274.1.5.3)',\n",
       "  'YR - 1,40 m. - A c.c. (238.2.1)',\n",
       "  'J - 1,35 m. - Dos Fases (274.1.5.3)',\n",
       "  'Ch - 1,25 m. - 2 fases Asc / Acc (274.1.5.2)',\n",
       "  'J - 1,35 m. - A c.c. (238.2.1)'],\n",
       " 'CSN*': ['1,20 - Dificultades Progresivas (269.3.2)',\n",
       "  '1,30 GP - Dos Mangas (A.c.c. - A.c.c.) sin desempate (273.3.3.1)',\n",
       "  '1,30 - Caza (239)',\n",
       "  '1,20 - A c.c. (238.2.1)',\n",
       "  '1,20 - C (239)',\n",
       "  '1,30 GP - A.c.c. y desempate (238.2.2)',\n",
       "  '1,30 - Dificultades Progresivas (269.3.2)',\n",
       "  '1,10 - Acc (238.2.1)',\n",
       "  '1,20 - Dos Fases Especial (274.2)',\n",
       "  '1,30 - A c.c. (238.2.1)',\n",
       "  '1,20 - A.c.c. y desempate (238.2.2)'],\n",
       " 'CSN**': ['1,00 - A sin cronómetro (238.1.1)',\n",
       "  '1,30 - A c.c. (238.2.1)',\n",
       "  '1,15 - Dos Fases Especial (274.2)',\n",
       "  '1,05 - A sin cronómetro (238.1.1)',\n",
       "  '1,20 - A.c.c. y desempate al cronómetro (238.2.2)',\n",
       "  '1,20 - Velocidad y Manejabilidad (263)',\n",
       "  '1,25 - Velocidad y Manejabilidad (263)',\n",
       "  '1,20 - A c.c. (238.2.1)',\n",
       "  '1,10 - Dos Fases Especial (274.2)',\n",
       "  '1,20 - Dos Fases Especial (274.2)',\n",
       "  '1,30 - Dificultades Progresivas (269.3.2)',\n",
       "  '1,30 (GP) - A.c.c. y desempate al cronómetro (238.2.2)',\n",
       "  '1,30 - Dos Fases Especial (274.2)',\n",
       "  '1,35 - A.c.c. y desempate al cronómetro (238.2.2)',\n",
       "  '1,35 GP - Dos Mangas (A c/c - A c/c) (273.3.3.1)',\n",
       "  '1,15 - Acc (238.1.1)',\n",
       "  '1,25 - A c.c. (238.2.1)',\n",
       "  '1,30 - Velocidad y Manejabilidad (263)',\n",
       "  '1,35 GP - A.c.c. y desempate (238.2.2)',\n",
       "  '1,10 - Dos Fases (274.1.5.3)',\n",
       "  '1,10 - Acc (238.2.1)',\n",
       "  '1,05 - Dos Fases Especial (274.2)',\n",
       "  '1,15 - A c.c. (238.2.1)',\n",
       "  '1,10 - Acc y desempate (238.2.1)'],\n",
       " 'CSN***': ['1,25 - Dos Fases Especial (274.2)',\n",
       "  '1,30 - Velocidad y Manejabilidad (263)',\n",
       "  '1,30 - A.s.c. y desempate al cronómetro (238.1.2)',\n",
       "  '1,40 - A.c.c. y desempate al cronómetro (238.2.2)',\n",
       "  '1,20 - A c.c. (238.2.1)',\n",
       "  '1,10 - Dos Fases Especial (274.2)',\n",
       "  '1,35 - Dos fases Especial (Art. 274.2) (274.2)',\n",
       "  '1,25 - Dificultades Progresivas (269.3.2)',\n",
       "  '1,30 - A c.c. (238.2.1)',\n",
       "  '1,40 gp - A.c.c. y desempate al cronómetro (238.2.2)',\n",
       "  '1,20 - Dificultades Progresivas (269.3.2)',\n",
       "  '1,10 - A con cronómetro (238.2.1)',\n",
       "  '1,40 - A c.c. (238.2.1)',\n",
       "  '1,30 - Manga Ganadora (276.2)',\n",
       "  '1,30 - Dos fases Especial (Art. 274.2) (274.2)',\n",
       "  '1.35 GP - Acc y desempate (238.2.2)',\n",
       "  '1,35 - A c.c. (238.2.1)',\n",
       "  '1,35 - Dos Fases (274.1.5.3)',\n",
       "  '1,20 - Dos fases Especial (Art. 274.2) (274.2)',\n",
       "  '1,30 - A.c.c. y desempate al cronómetro (238.2.2)'],\n",
       " 'CSN****': ['1,25 - Dos Fases Especial (274.2)',\n",
       "  '1,30 - Dos Fases Especial (274.2)',\n",
       "  '1,35 GP - A.c.c. y desempate (238.2.2)',\n",
       "  '1,45 (GP) - A.c.c. y desempate al cronómetro (238.2.2)',\n",
       "  '1,40 - A c.c. (238.2.1)',\n",
       "  '1,20 - A c.c. (238.2.1)',\n",
       "  '1,30 - A c.c. (238.2.1)',\n",
       "  '1,40 - Dos Fases Especial (274.2)'],\n",
       " 'CSN*****': ['1,20 - A c.c. (238.2.1)',\n",
       "  '1,30 - Dos Fases Especial (274.2)',\n",
       "  '1,45 - A c.c. (238.2.1)',\n",
       "  '1,35 - A c.c. (238.2.1)',\n",
       "  '1,35 - A.c.c. y desempate al cronómetro (238.2.2)',\n",
       "  '1,30 - A c.c. (238.2.1)',\n",
       "  '1,40 gp - A.c.c. y desempate al cronómetro (238.2.2)',\n",
       "  '1,40 - Dos Fases Especial (274.2)',\n",
       "  '1.45 GP - Acc con desempate (238.2.2)',\n",
       "  '1,10 - Dos Fases Especial (274.2)',\n",
       "  '1,20 - Dos Fases Especial (274.2)',\n",
       "  '1,50 (GP) - A.c.c. y desempate (238.2.2)',\n",
       "  '1,45 - Dos Fases Especial (274.2)',\n",
       "  '1,35 - Dos Fases Especial (274.2)',\n",
       "  '1,40 - A c.c. (238.2.1)',\n",
       "  '1,10 - A.c.c (238.2.1)'],\n",
       " 'CSNCJ': ['7 años - 1,30 - A c.c. (238.2.1)',\n",
       "  '7 años - 1,30 - Dos Fases Especial (274.2)',\n",
       "  '6 años - 1,20 - A c.c. (238.2.1)',\n",
       "  '6 años - 1,20 - Dos Fases Especial (274.2)',\n",
       "  '7 años - 1,35 - A c.c. (238.2.1)',\n",
       "  '5 años - 1,10 - Dos Fases Especial (274.2)',\n",
       "  '5 años - 1,10 - A sin cronómetro (238.1.1)',\n",
       "  '5 años - 1,15 - A sin cronómetro (238.1.1)',\n",
       "  '5 años - 1,10 - A c.c. (238.2.1)',\n",
       "  '6 años - 1,25 - A c.c. (238.2.1)']}"
      ]
     },
     "execution_count": 36,
     "metadata": {},
     "output_type": "execute_result"
    }
   ],
   "source": [
    "diccionario_agrupado"
   ]
  },
  {
   "cell_type": "markdown",
   "id": "17052a96",
   "metadata": {},
   "source": [
    "\n",
    "\n",
    "caballos y jinetes, categoría en los que han participado, y altura de obstáculos, cantidad de veces que pasa a jump off, top caballos por edad, 5, 6, 7, años (nº rounds hechos, cantidad de doble 0s y ya sacar %). top caballos x competicion: 1,40, 1,50, 1,60, 5*, 6*.\n",
    "\n",
    "comparar performance de un jinete con diferentes caballos"
   ]
  },
  {
   "cell_type": "markdown",
   "id": "9b42e5df",
   "metadata": {},
   "source": [
    "### Análisis caballos 5 años\n",
    "\n",
    "Dentro de las pruebas de caballos de 5 años nos encontramos solo con las siguientes:\n",
    "- A.c.c. y desempate (238.2.2)',\n",
    "- Dos Fases Especial (274.2)',\n",
    "- A sin cronómetro (238.1.1)',\n",
    "- A c.c. (238.2.1)',\n",
    "- Dos Fases (274.1.5.3)',\n",
    "- A.c.c. y desempate (238.2.2)',\n",
    "\n",
    "Son pruebas que tendrán solo dos rondas como mucho, ya sea con desempate o sin desempate. Las alturas de los obstáculos se encuentran entre 1,05 y 1,20. "
   ]
  },
  {
   "cell_type": "code",
   "execution_count": 37,
   "id": "499afc99",
   "metadata": {},
   "outputs": [],
   "source": [
    "query = \"\"\" \n",
    "    SELECT \n",
    "        j.nombre_jinete,\n",
    "        c.nombre_caballo,\n",
    "        COUNT(r.id_resultado)\n",
    "    FROM resultados r\n",
    "        JOIN pruebas p ON r.id_prueba = p.id_prueba\n",
    "        JOIN jinetes j ON r.id_jinete = j.id_jinete\n",
    "        JOIN caballos c ON r.id_caballo = c.id_caballo\n",
    "        JOIN resultados_salto rs ON r.id_resultado = rs.id_resultado\n",
    "    GROUP BY j.nombre_jinete, c.nombre_caballo;\n",
    "\"\"\"\n",
    "query_2 = \"\"\" \n",
    "\n",
    "    SELECT \n",
    "        nombre_prueba\n",
    "    FROM pruebas\n",
    "    WHERE nombre_prueba LIKE '%5 años%';\n",
    "\"\"\"\n",
    "\n",
    "query_4 = \"\"\" \n",
    "    SELECT \n",
    "        COUNT(DISTINCT c.id_caballo)\n",
    "    FROM resultados r\n",
    "        JOIN pruebas p ON r.id_prueba = p.id_prueba\n",
    "        JOIN jinetes j ON r.id_jinete = j.id_jinete\n",
    "        JOIN caballos c ON r.id_caballo = c.id_caballo\n",
    "        JOIN resultados_salto rs ON r.id_resultado = rs.id_resultado\n",
    "    WHERE p.nombre_prueba LIKE '%5 años%';\n",
    "\"\"\"\n",
    "\n",
    "query_5 = \"\"\"\n",
    "    SELECT\n",
    "        CASE\n",
    "            WHEN p.nombre_prueba LIKE '%5 años%' THEN '5 años'\n",
    "            WHEN p.nombre_prueba LIKE '%6 años%' THEN '6 años'\n",
    "            WHEN p.nombre_prueba LIKE '%7 años%' THEN '7 años'\n",
    "            ELSE 'Otra edad'\n",
    "        END AS edad_referenciada,\n",
    "        COUNT(DISTINCT c.id_caballo) AS numero_caballos\n",
    "    FROM resultados r\n",
    "        JOIN pruebas p ON r.id_prueba = p.id_prueba\n",
    "        JOIN caballos c ON r.id_caballo = c.id_caballo\n",
    "    GROUP BY\n",
    "        edad_referenciada;\n",
    "\"\"\""
   ]
  },
  {
   "cell_type": "code",
   "execution_count": 38,
   "id": "18a0e3c1",
   "metadata": {},
   "outputs": [],
   "source": [
    "conn.rollback()"
   ]
  },
  {
   "cell_type": "code",
   "execution_count": 39,
   "id": "ad2ec4ca",
   "metadata": {},
   "outputs": [],
   "source": [
    "import numpy as np"
   ]
  },
  {
   "cell_type": "code",
   "execution_count": 40,
   "id": "74d199f1",
   "metadata": {},
   "outputs": [],
   "source": [
    "query_cinco = \"\"\" \n",
    "    SELECT \n",
    "        COUNT(DISTINCT c.id_caballo)\n",
    "    FROM resultados r\n",
    "        JOIN pruebas p ON r.id_prueba = p.id_prueba\n",
    "        JOIN jinetes j ON r.id_jinete = j.id_jinete\n",
    "        JOIN caballos c ON r.id_caballo = c.id_caballo\n",
    "        JOIN resultados_salto rs ON r.id_resultado = rs.id_resultado\n",
    "    WHERE p.nombre_prueba LIKE '%5 años%';\n",
    "\"\"\"\n",
    "query_6 = \"\"\" \n",
    "    SELECT \n",
    "        COUNT(DISTINCT c.id_caballo)\n",
    "    FROM resultados r\n",
    "        JOIN pruebas p ON r.id_prueba = p.id_prueba\n",
    "        JOIN jinetes j ON r.id_jinete = j.id_jinete\n",
    "        JOIN caballos c ON r.id_caballo = c.id_caballo\n",
    "        JOIN resultados_salto rs ON r.id_resultado = rs.id_resultado\n",
    "    WHERE p.nombre_prueba LIKE '%6 años%';\n",
    "\"\"\"\n",
    "query_7 = \"\"\" \n",
    "    SELECT \n",
    "        COUNT(DISTINCT c.id_caballo)\n",
    "    FROM resultados r\n",
    "        JOIN pruebas p ON r.id_prueba = p.id_prueba\n",
    "        JOIN jinetes j ON r.id_jinete = j.id_jinete\n",
    "        JOIN caballos c ON r.id_caballo = c.id_caballo\n",
    "        JOIN resultados_salto rs ON r.id_resultado = rs.id_resultado\n",
    "    WHERE p.nombre_prueba LIKE '%7 años%';\n",
    "\"\"\"\n",
    "query_todos = \"\"\" \n",
    "    SELECT \n",
    "        COUNT(DISTINCT c.id_caballo)\n",
    "    FROM resultados r\n",
    "        JOIN pruebas p ON r.id_prueba = p.id_prueba\n",
    "        JOIN jinetes j ON r.id_jinete = j.id_jinete\n",
    "        JOIN caballos c ON r.id_caballo = c.id_caballo\n",
    "        JOIN resultados_salto rs ON r.id_resultado = rs.id_resultado;\n",
    "\"\"\""
   ]
  },
  {
   "cell_type": "code",
   "execution_count": 41,
   "id": "fc7f4eb8",
   "metadata": {},
   "outputs": [],
   "source": [
    "conn.rollback()"
   ]
  },
  {
   "cell_type": "code",
   "execution_count": 42,
   "id": "7a8b4a48",
   "metadata": {},
   "outputs": [
    {
     "name": "stdout",
     "output_type": "stream",
     "text": [
      "[(347,)] [(701,)] [(738,)] [(8332,)] 1786 21.44\n"
     ]
    }
   ],
   "source": [
    "cinco_años = ejecutor_querys(cur, query_cinco)\n",
    "seis_años = ejecutor_querys(cur, query_6)\n",
    "siete_años = ejecutor_querys(cur, query_7)\n",
    "todos = ejecutor_querys(cur, query_todos)\n",
    "caballos_jovenes = sum([cinco_años[0][0], seis_años[0][0], siete_años[0][0]])\n",
    "porcentaje_caballos_jovenes = round((caballos_jovenes / todos[0][0]) * 100, 2)\n",
    "print(cinco_años, seis_años, siete_años, todos, caballos_jovenes, porcentaje_caballos_jovenes)"
   ]
  },
  {
   "cell_type": "code",
   "execution_count": 43,
   "id": "1f18a0e3",
   "metadata": {},
   "outputs": [],
   "source": [
    "query_top_10_5_años = \"\"\" \n",
    "    SELECT \n",
    "        j.nombre_jinete,\n",
    "        c.nombre_caballo,\n",
    "        COUNT(r.id_resultado),\n",
    "        SUM(CASE WHEN r.puesto BETWEEN 1 AND 3 THEN 1 ELSE 0 END)\n",
    "    FROM resultados r\n",
    "        JOIN pruebas p ON r.id_prueba = p.id_prueba\n",
    "        JOIN jinetes j ON r.id_jinete = j.id_jinete\n",
    "        JOIN caballos c ON r.id_caballo = c.id_caballo\n",
    "        JOIN resultados_salto rs ON r.id_resultado = rs.id_resultado\n",
    "    WHERE p.nombre_prueba LIKE '%5 años%'\n",
    "    GROUP BY j.nombre_jinete, c.nombre_caballo\n",
    "    ORDER BY 4 DESC;\n",
    "\"\"\"\n",
    "\n",
    "\n",
    "query_top_10_6_años = \"\"\" \n",
    "    SELECT \n",
    "        j.nombre_jinete,\n",
    "        c.nombre_caballo,\n",
    "        COUNT(r.id_resultado),\n",
    "        SUM(CASE WHEN r.puesto BETWEEN 1 AND 3 THEN 1 ELSE 0 END)\n",
    "    FROM resultados r\n",
    "        JOIN pruebas p ON r.id_prueba = p.id_prueba\n",
    "        JOIN jinetes j ON r.id_jinete = j.id_jinete\n",
    "        JOIN caballos c ON r.id_caballo = c.id_caballo\n",
    "        JOIN resultados_salto rs ON r.id_resultado = rs.id_resultado\n",
    "    WHERE p.nombre_prueba LIKE '%6 años%'\n",
    "    GROUP BY j.nombre_jinete, c.nombre_caballo\n",
    "    ORDER BY 4 DESC;\n",
    "\"\"\"\n",
    "\n",
    "\n",
    "query_top_10_7_años = \"\"\" \n",
    "    SELECT \n",
    "        j.nombre_jinete,\n",
    "        c.nombre_caballo,\n",
    "        COUNT(r.id_resultado),\n",
    "        SUM(CASE WHEN r.puesto BETWEEN 1 AND 3 THEN 1 ELSE 0 END)\n",
    "    FROM resultados r\n",
    "        JOIN pruebas p ON r.id_prueba = p.id_prueba\n",
    "        JOIN jinetes j ON r.id_jinete = j.id_jinete\n",
    "        JOIN caballos c ON r.id_caballo = c.id_caballo\n",
    "        JOIN resultados_salto rs ON r.id_resultado = rs.id_resultado\n",
    "    WHERE p.nombre_prueba LIKE '%7 años%'\n",
    "    GROUP BY j.nombre_jinete, c.nombre_caballo\n",
    "    ORDER BY 4 DESC;\n",
    "\"\"\"\n",
    "\n",
    "query_top_10 = \"\"\" \n",
    "    SELECT \n",
    "        j.nombre_jinete,\n",
    "        c.nombre_caballo,\n",
    "        COUNT(r.id_resultado),\n",
    "        SUM(CASE WHEN r.puesto BETWEEN 1 AND 3 THEN 1 ELSE 0 END)\n",
    "    FROM resultados r\n",
    "        JOIN pruebas p ON r.id_prueba = p.id_prueba\n",
    "        JOIN jinetes j ON r.id_jinete = j.id_jinete\n",
    "        JOIN caballos c ON r.id_caballo = c.id_caballo\n",
    "        JOIN resultados_salto rs ON r.id_resultado = rs.id_resultado\n",
    "    WHERE p.nombre_prueba NOT LIKE '%7 años%' AND p.nombre_prueba NOT LIKE '%5 años%' AND p.nombre_prueba NOT LIKE '%6 años%'\n",
    "    GROUP BY j.nombre_jinete, c.nombre_caballo\n",
    "    ORDER BY 4 DESC;\n",
    "\"\"\"\n"
   ]
  },
  {
   "cell_type": "code",
   "execution_count": 44,
   "id": "dd932a1f",
   "metadata": {},
   "outputs": [
    {
     "data": {
      "text/html": [
       "<div>\n",
       "<style scoped>\n",
       "    .dataframe tbody tr th:only-of-type {\n",
       "        vertical-align: middle;\n",
       "    }\n",
       "\n",
       "    .dataframe tbody tr th {\n",
       "        vertical-align: top;\n",
       "    }\n",
       "\n",
       "    .dataframe thead th {\n",
       "        text-align: right;\n",
       "    }\n",
       "</style>\n",
       "<table border=\"1\" class=\"dataframe\">\n",
       "  <thead>\n",
       "    <tr style=\"text-align: right;\">\n",
       "      <th></th>\n",
       "      <th>0</th>\n",
       "      <th>1</th>\n",
       "      <th>2</th>\n",
       "      <th>3</th>\n",
       "    </tr>\n",
       "  </thead>\n",
       "  <tbody>\n",
       "    <tr>\n",
       "      <th>0</th>\n",
       "      <td>oliver fletcher</td>\n",
       "      <td>krack bleu c</td>\n",
       "      <td>18</td>\n",
       "      <td>15</td>\n",
       "    </tr>\n",
       "    <tr>\n",
       "      <th>1</th>\n",
       "      <td>james smith</td>\n",
       "      <td>dominican 2000 z</td>\n",
       "      <td>47</td>\n",
       "      <td>15</td>\n",
       "    </tr>\n",
       "    <tr>\n",
       "      <th>2</th>\n",
       "      <td>charlotte bevan</td>\n",
       "      <td>cupido quality z</td>\n",
       "      <td>24</td>\n",
       "      <td>15</td>\n",
       "    </tr>\n",
       "    <tr>\n",
       "      <th>3</th>\n",
       "      <td>sabine comet</td>\n",
       "      <td>flipper du chateau</td>\n",
       "      <td>18</td>\n",
       "      <td>15</td>\n",
       "    </tr>\n",
       "    <tr>\n",
       "      <th>4</th>\n",
       "      <td>james smith</td>\n",
       "      <td>juno rose 23</td>\n",
       "      <td>33</td>\n",
       "      <td>14</td>\n",
       "    </tr>\n",
       "    <tr>\n",
       "      <th>...</th>\n",
       "      <td>...</td>\n",
       "      <td>...</td>\n",
       "      <td>...</td>\n",
       "      <td>...</td>\n",
       "    </tr>\n",
       "    <tr>\n",
       "      <th>7422</th>\n",
       "      <td>jackson reed stephenson</td>\n",
       "      <td>domination f z</td>\n",
       "      <td>17</td>\n",
       "      <td>0</td>\n",
       "    </tr>\n",
       "    <tr>\n",
       "      <th>7423</th>\n",
       "      <td>leigh ofer -</td>\n",
       "      <td>carambola</td>\n",
       "      <td>5</td>\n",
       "      <td>0</td>\n",
       "    </tr>\n",
       "    <tr>\n",
       "      <th>7424</th>\n",
       "      <td>georgie tiplady</td>\n",
       "      <td>premier george</td>\n",
       "      <td>8</td>\n",
       "      <td>0</td>\n",
       "    </tr>\n",
       "    <tr>\n",
       "      <th>7425</th>\n",
       "      <td>ugo berrittella</td>\n",
       "      <td>cornetto quality z</td>\n",
       "      <td>9</td>\n",
       "      <td>0</td>\n",
       "    </tr>\n",
       "    <tr>\n",
       "      <th>7426</th>\n",
       "      <td>luis márquez méndez</td>\n",
       "      <td>maxime</td>\n",
       "      <td>10</td>\n",
       "      <td>0</td>\n",
       "    </tr>\n",
       "  </tbody>\n",
       "</table>\n",
       "<p>7427 rows × 4 columns</p>\n",
       "</div>"
      ],
      "text/plain": [
       "                            0                   1   2   3\n",
       "0             oliver fletcher        krack bleu c  18  15\n",
       "1                 james smith    dominican 2000 z  47  15\n",
       "2             charlotte bevan    cupido quality z  24  15\n",
       "3                sabine comet  flipper du chateau  18  15\n",
       "4                 james smith        juno rose 23  33  14\n",
       "...                       ...                 ...  ..  ..\n",
       "7422  jackson reed stephenson      domination f z  17   0\n",
       "7423             leigh ofer -           carambola   5   0\n",
       "7424          georgie tiplady      premier george   8   0\n",
       "7425          ugo berrittella  cornetto quality z   9   0\n",
       "7426      luis márquez méndez              maxime  10   0\n",
       "\n",
       "[7427 rows x 4 columns]"
      ]
     },
     "execution_count": 44,
     "metadata": {},
     "output_type": "execute_result"
    }
   ],
   "source": [
    "resultados = pd.DataFrame(ejecutor_querys(cur, query_top_10))\n",
    "# resultados_5_años[\"coso\"] = round((resultados_5_años[3]/resultados_5_años[2])*100, 2)\n",
    "resultados\n"
   ]
  },
  {
   "cell_type": "code",
   "execution_count": 45,
   "id": "271bb54c",
   "metadata": {},
   "outputs": [
    {
     "ename": "NameError",
     "evalue": "name 'query_3' is not defined",
     "output_type": "error",
     "traceback": [
      "\u001b[31m---------------------------------------------------------------------------\u001b[39m",
      "\u001b[31mNameError\u001b[39m                                 Traceback (most recent call last)",
      "\u001b[36mCell\u001b[39m\u001b[36m \u001b[39m\u001b[32mIn[45]\u001b[39m\u001b[32m, line 1\u001b[39m\n\u001b[32m----> \u001b[39m\u001b[32m1\u001b[39m resultados_5_años = pd.DataFrame(ejecutor_querys(cur, \u001b[43mquery_3\u001b[49m))\n\u001b[32m      2\u001b[39m resultados_5_años[\u001b[33m\"\u001b[39m\u001b[33mdoble_cero\u001b[39m\u001b[33m\"\u001b[39m] = resultados_5_años.apply(\u001b[38;5;28;01mlambda\u001b[39;00m x: \u001b[32m1\u001b[39m \u001b[38;5;28;01mif\u001b[39;00m  ((pd.isna(x[\u001b[32m2\u001b[39m]) \u001b[38;5;129;01mor\u001b[39;00m x[\u001b[32m2\u001b[39m] == \u001b[32m0\u001b[39m) \u001b[38;5;129;01mand\u001b[39;00m (pd.isna(x[\u001b[32m3\u001b[39m]) \u001b[38;5;129;01mor\u001b[39;00m x[\u001b[32m3\u001b[39m] == \u001b[32m0\u001b[39m)) \u001b[38;5;28;01melse\u001b[39;00m \u001b[32m0\u001b[39m,axis=\u001b[32m1\u001b[39m)\n\u001b[32m      3\u001b[39m resultados_5_años[pd.isna(resultados_5_años[\u001b[32m2\u001b[39m])]\n",
      "\u001b[31mNameError\u001b[39m: name 'query_3' is not defined"
     ]
    }
   ],
   "source": [
    "resultados_5_años = pd.DataFrame(ejecutor_querys(cur, query_3))\n",
    "resultados_5_años[\"doble_cero\"] = resultados_5_años.apply(lambda x: 1 if  ((pd.isna(x[2]) or x[2] == 0) and (pd.isna(x[3]) or x[3] == 0)) else 0,axis=1)\n",
    "resultados_5_años[pd.isna(resultados_5_años[2])]"
   ]
  },
  {
   "cell_type": "code",
   "execution_count": null,
   "id": "2ecbff2e",
   "metadata": {},
   "outputs": [
    {
     "data": {
      "text/html": [
       "<div>\n",
       "<style scoped>\n",
       "    .dataframe tbody tr th:only-of-type {\n",
       "        vertical-align: middle;\n",
       "    }\n",
       "\n",
       "    .dataframe tbody tr th {\n",
       "        vertical-align: top;\n",
       "    }\n",
       "\n",
       "    .dataframe thead th {\n",
       "        text-align: right;\n",
       "    }\n",
       "</style>\n",
       "<table border=\"1\" class=\"dataframe\">\n",
       "  <thead>\n",
       "    <tr style=\"text-align: right;\">\n",
       "      <th></th>\n",
       "      <th>0</th>\n",
       "      <th>1</th>\n",
       "      <th>doble_cero</th>\n",
       "      <th>4</th>\n",
       "    </tr>\n",
       "  </thead>\n",
       "  <tbody>\n",
       "    <tr>\n",
       "      <th>318</th>\n",
       "      <td>rudie wallerbosch</td>\n",
       "      <td>cosi celeste du perchet</td>\n",
       "      <td>25</td>\n",
       "      <td>25</td>\n",
       "    </tr>\n",
       "    <tr>\n",
       "      <th>49</th>\n",
       "      <td>bernardo moura</td>\n",
       "      <td>extasy de vilamoura z</td>\n",
       "      <td>13</td>\n",
       "      <td>22</td>\n",
       "    </tr>\n",
       "    <tr>\n",
       "      <th>29</th>\n",
       "      <td>ana gonzález menéndez</td>\n",
       "      <td>diamant de chalina</td>\n",
       "      <td>8</td>\n",
       "      <td>21</td>\n",
       "    </tr>\n",
       "    <tr>\n",
       "      <th>7</th>\n",
       "      <td>alejandro fernández sanchez</td>\n",
       "      <td>quiron del amor</td>\n",
       "      <td>16</td>\n",
       "      <td>20</td>\n",
       "    </tr>\n",
       "    <tr>\n",
       "      <th>40</th>\n",
       "      <td>aurelia pollet</td>\n",
       "      <td>kamelia gesmeray</td>\n",
       "      <td>18</td>\n",
       "      <td>18</td>\n",
       "    </tr>\n",
       "    <tr>\n",
       "      <th>...</th>\n",
       "      <td>...</td>\n",
       "      <td>...</td>\n",
       "      <td>...</td>\n",
       "      <td>...</td>\n",
       "    </tr>\n",
       "    <tr>\n",
       "      <th>245</th>\n",
       "      <td>marco pellegrino</td>\n",
       "      <td>kemerald de kreisker</td>\n",
       "      <td>1</td>\n",
       "      <td>1</td>\n",
       "    </tr>\n",
       "    <tr>\n",
       "      <th>237</th>\n",
       "      <td>luis mateos bernaldez</td>\n",
       "      <td>perry</td>\n",
       "      <td>1</td>\n",
       "      <td>1</td>\n",
       "    </tr>\n",
       "    <tr>\n",
       "      <th>229</th>\n",
       "      <td>lorenzo pradas freire</td>\n",
       "      <td>hermes van’t keijtershof z</td>\n",
       "      <td>1</td>\n",
       "      <td>1</td>\n",
       "    </tr>\n",
       "    <tr>\n",
       "      <th>78</th>\n",
       "      <td>christopher smith</td>\n",
       "      <td>billy becks</td>\n",
       "      <td>1</td>\n",
       "      <td>1</td>\n",
       "    </tr>\n",
       "    <tr>\n",
       "      <th>25</th>\n",
       "      <td>alvaro mateos bernaldez</td>\n",
       "      <td>perry</td>\n",
       "      <td>1</td>\n",
       "      <td>1</td>\n",
       "    </tr>\n",
       "  </tbody>\n",
       "</table>\n",
       "<p>364 rows × 4 columns</p>\n",
       "</div>"
      ],
      "text/plain": [
       "                               0                           1  doble_cero   4\n",
       "318            rudie wallerbosch     cosi celeste du perchet          25  25\n",
       "49                bernardo moura       extasy de vilamoura z          13  22\n",
       "29         ana gonzález menéndez          diamant de chalina           8  21\n",
       "7    alejandro fernández sanchez             quiron del amor          16  20\n",
       "40                aurelia pollet            kamelia gesmeray          18  18\n",
       "..                           ...                         ...         ...  ..\n",
       "245             marco pellegrino        kemerald de kreisker           1   1\n",
       "237        luis mateos bernaldez                       perry           1   1\n",
       "229        lorenzo pradas freire  hermes van’t keijtershof z           1   1\n",
       "78             christopher smith                 billy becks           1   1\n",
       "25       alvaro mateos bernaldez                       perry           1   1\n",
       "\n",
       "[364 rows x 4 columns]"
      ]
     },
     "execution_count": 88,
     "metadata": {},
     "output_type": "execute_result"
    }
   ],
   "source": [
    "resultados_5_años_unicos = resultados_5_años.groupby([0, 1]).agg({\"doble_cero\": \"sum\", 4: \"count\"}).reset_index()\n",
    "resultados_5_años_unicos.sort_values(by = 4, ascending= False)"
   ]
  },
  {
   "cell_type": "code",
   "execution_count": null,
   "id": "9c56b2f6",
   "metadata": {},
   "outputs": [
    {
     "data": {
      "text/plain": [
       "347"
      ]
     },
     "execution_count": 79,
     "metadata": {},
     "output_type": "execute_result"
    }
   ],
   "source": [
    "len(resultados_5_años[1].unique())"
   ]
  },
  {
   "cell_type": "code",
   "execution_count": null,
   "id": "665d01ca",
   "metadata": {},
   "outputs": [
    {
     "ename": "GroupingError",
     "evalue": "la columna «p.nombre_prueba» debe aparecer en la cláusula GROUP BY o ser usada en una función de agregación\nLINE 5:         p.nombre_prueba,\n                ^\n",
     "output_type": "error",
     "traceback": [
      "\u001b[31m---------------------------------------------------------------------------\u001b[39m",
      "\u001b[31mGroupingError\u001b[39m                             Traceback (most recent call last)",
      "\u001b[36mCell\u001b[39m\u001b[36m \u001b[39m\u001b[32mIn[70]\u001b[39m\u001b[32m, line 1\u001b[39m\n\u001b[32m----> \u001b[39m\u001b[32m1\u001b[39m resultados_5_años = pd.DataFrame(\u001b[43mejecutor_querys\u001b[49m\u001b[43m(\u001b[49m\u001b[43mcur\u001b[49m\u001b[43m,\u001b[49m\u001b[43m \u001b[49m\u001b[43mquery_3\u001b[49m\u001b[43m)\u001b[49m)\n\u001b[32m      2\u001b[39m \u001b[38;5;66;03m# resultados_5_años = resultados_5_años.rename(columns = {0: 'jinete', 1: 'caballo', 2: 'n_concursos_realizados', 3: 'n_rondas_cero_obs', 4: 'n_rondas_cero_tmp', 5:'n_rondas_doble_cero'})\u001b[39;00m\n\u001b[32m      3\u001b[39m \u001b[38;5;66;03m# resultados_5_años[\"rondas_doble_cero\"] = resultados_5_años[4] - resultados_5_años[3]\u001b[39;00m\n\u001b[32m      4\u001b[39m \u001b[38;5;66;03m# resultados_5_años = resultados_5_años.sort_values(by = \"rondas_doble_cero\", ascending = False)\u001b[39;00m\n\u001b[32m      5\u001b[39m resultados_5_años[\u001b[33m\"\u001b[39m\u001b[33mdoble_cero\u001b[39m\u001b[33m\"\u001b[39m] = resultados_5_años.apply(\u001b[38;5;28;01mlambda\u001b[39;00m x: \u001b[32m1\u001b[39m \u001b[38;5;28;01mif\u001b[39;00m \n\u001b[32m      6\u001b[39m                                                           ((pd.isna(x[\u001b[32m3\u001b[39m]) \u001b[38;5;129;01mor\u001b[39;00m x[\u001b[32m3\u001b[39m] == \u001b[32m0\u001b[39m) \u001b[38;5;129;01mand\u001b[39;00m (pd.isna(x[\u001b[32m4\u001b[39m]) \u001b[38;5;129;01mor\u001b[39;00m x[\u001b[32m4\u001b[39m] == \u001b[32m0\u001b[39m) \u001b[38;5;129;01mand\u001b[39;00m (pd.isna(x[\u001b[32m5\u001b[39m]) \u001b[38;5;129;01mor\u001b[39;00m x[\u001b[32m5\u001b[39m] == \u001b[32m0\u001b[39m) \u001b[38;5;129;01mand\u001b[39;00m (pd.isna(x[\u001b[32m6\u001b[39m]) \u001b[38;5;129;01mor\u001b[39;00m x[\u001b[32m6\u001b[39m] == \u001b[32m0\u001b[39m)) \n\u001b[32m      7\u001b[39m \n\u001b[32m      8\u001b[39m                                                           \u001b[38;5;28;01melse\u001b[39;00m \u001b[32m0\u001b[39m,axis=\u001b[32m1\u001b[39m)\n",
      "\u001b[36mCell\u001b[39m\u001b[36m \u001b[39m\u001b[32mIn[5]\u001b[39m\u001b[32m, line 2\u001b[39m, in \u001b[36mejecutor_querys\u001b[39m\u001b[34m(cur, query)\u001b[39m\n\u001b[32m      1\u001b[39m \u001b[38;5;28;01mdef\u001b[39;00m\u001b[38;5;250m \u001b[39m\u001b[34mejecutor_querys\u001b[39m(cur, query):\n\u001b[32m----> \u001b[39m\u001b[32m2\u001b[39m     \u001b[43mcur\u001b[49m\u001b[43m.\u001b[49m\u001b[43mexecute\u001b[49m\u001b[43m(\u001b[49m\u001b[43mquery\u001b[49m\u001b[43m)\u001b[49m\n\u001b[32m      3\u001b[39m     \u001b[38;5;28;01mreturn\u001b[39;00m cur.fetchall()\n",
      "\u001b[31mGroupingError\u001b[39m: la columna «p.nombre_prueba» debe aparecer en la cláusula GROUP BY o ser usada en una función de agregación\nLINE 5:         p.nombre_prueba,\n                ^\n"
     ]
    }
   ],
   "source": [
    "resultados_5_años = pd.DataFrame(ejecutor_querys(cur, query_3))\n",
    "# resultados_5_años = resultados_5_años.rename(columns = {0: 'jinete', 1: 'caballo', 2: 'n_concursos_realizados', 3: 'n_rondas_cero_obs', 4: 'n_rondas_cero_tmp', 5:'n_rondas_doble_cero'})\n",
    "# resultados_5_años[\"rondas_doble_cero\"] = resultados_5_años[4] - resultados_5_años[3]\n",
    "# resultados_5_años = resultados_5_años.sort_values(by = \"rondas_doble_cero\", ascending = False)\n",
    "resultados_5_años[\"doble_cero\"] = resultados_5_años.apply(lambda x: 1 if \n",
    "                                                          ((pd.isna(x[3]) or x[3] == 0) and (pd.isna(x[4]) or x[4] == 0) and (pd.isna(x[5]) or x[5] == 0) and (pd.isna(x[6]) or x[6] == 0)) \n",
    "                                                          \n",
    "                                                          else 0,axis=1)\n",
    "resultados_5_años[resultados_5_años[0] == 'rudie wallerbosch']"
   ]
  }
 ],
 "metadata": {
  "kernelspec": {
   "display_name": "venv",
   "language": "python",
   "name": "python3"
  },
  "language_info": {
   "codemirror_mode": {
    "name": "ipython",
    "version": 3
   },
   "file_extension": ".py",
   "mimetype": "text/x-python",
   "name": "python",
   "nbconvert_exporter": "python",
   "pygments_lexer": "ipython3",
   "version": "3.12.4"
  }
 },
 "nbformat": 4,
 "nbformat_minor": 5
}
