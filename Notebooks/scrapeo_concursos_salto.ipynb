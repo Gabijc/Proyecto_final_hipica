{
 "cells": [
  {
   "cell_type": "markdown",
   "id": "780de6d8",
   "metadata": {},
   "source": [
    "# Scrapeo de las competiciones de salto"
   ]
  },
  {
   "cell_type": "code",
   "execution_count": 2,
   "id": "a21a1bc3",
   "metadata": {},
   "outputs": [],
   "source": [
    "# Importamos las librerías necesarias\n",
    "import pandas as pd\n",
    "from selenium import webdriver\n",
    "from selenium.webdriver.common.by import By\n",
    "from webdriver_manager.chrome import ChromeDriverManager\n",
    "import time\n",
    "from selenium.webdriver.support import expected_conditions as EC\n",
    "from selenium.common.exceptions import TimeoutException\n",
    "from selenium.webdriver.support.ui import WebDriverWait\n",
    "from selenium.common.exceptions import NoSuchElementException, UnexpectedAlertPresentException\n",
    "from selenium.webdriver.support.ui import WebDriverWait\n",
    "# import xlrd\n",
    "# from src.soporte_scrapeo_general import get_competiciones, cambio_pestaña, resultados_disciplina, buscador_elementos, guardado_info, competiciones_año, obtencion_año, creacion_dictios_guardado\n",
    "# from src.soporte_scrapeo_salto import extraccion_resultados_jinetes_caballos"
   ]
  },
  {
   "cell_type": "code",
   "execution_count": 2,
   "id": "79435425",
   "metadata": {},
   "outputs": [],
   "source": [
    "# URL inicial\n",
    "url = \"https://rfhe.com/competiciones/\""
   ]
  },
  {
   "cell_type": "code",
   "execution_count": 3,
   "id": "42b5ae11",
   "metadata": {},
   "outputs": [],
   "source": [
    "# inicializamos el driver y lo abrimos\n",
    "driver = get_competiciones(url)"
   ]
  },
  {
   "cell_type": "code",
   "execution_count": 4,
   "id": "ca12df45",
   "metadata": {},
   "outputs": [],
   "source": [
    "# creamos los diccionarios en los que vamos a ir guardando toda la información\n",
    "dictio_concursos, dictio_pruebas, dictio_jinetes, dictio_caballos = creacion_dictios_guardado()"
   ]
  },
  {
   "cell_type": "code",
   "execution_count": 5,
   "id": "5a5e882e",
   "metadata": {},
   "outputs": [],
   "source": [
    "# Seleccionamos el ambito de los concursos y la disciplina, en este caso nacional y completo\n",
    "ambito_buscado, disciplina_buscada = resultados_disciplina(driver, disciplina = \"salto\")"
   ]
  },
  {
   "cell_type": "code",
   "execution_count": 6,
   "id": "11c37010",
   "metadata": {},
   "outputs": [
    {
     "data": {
      "text/plain": [
       "('nacional', 'salto')"
      ]
     },
     "execution_count": 6,
     "metadata": {},
     "output_type": "execute_result"
    }
   ],
   "source": [
    "ambito_buscado, disciplina_buscada"
   ]
  },
  {
   "cell_type": "code",
   "execution_count": 7,
   "id": "c0b5a88e",
   "metadata": {},
   "outputs": [],
   "source": [
    "# Buscamos los concursos de febrero del año que nos aparece\n",
    "competiciones_año(driver)"
   ]
  },
  {
   "cell_type": "code",
   "execution_count": 8,
   "id": "506d5ae8",
   "metadata": {},
   "outputs": [
    {
     "data": {
      "text/plain": [
       "40"
      ]
     },
     "execution_count": 8,
     "metadata": {},
     "output_type": "execute_result"
    }
   ],
   "source": [
    "# Sacamos el total de concursos que hay en el mes de marzo, que compondrá el total de veces que tendrá que iterar el bucle for siguiente\n",
    "maximo_n_concursos = int(buscador_elementos(driver, \"/html/body/form/div/div/div/ul/li[2]/font\").text.split(\" \")[-1].replace(\"(\", \"\").replace(\")\", \"\"))\n",
    "maximo_n_concursos\n"
   ]
  },
  {
   "cell_type": "code",
   "execution_count": 9,
   "id": "d2340cad",
   "metadata": {},
   "outputs": [],
   "source": [
    "# Buscamos el primer concurso del mes de marzo\n",
    "i = 5\n",
    "selector = f\"/html/body/form/div/div/div/div/div[2]/table/tbody/tr[{i}]/td[4]/a\"\n",
    "concurso = buscador_elementos(driver, selector).click()"
   ]
  },
  {
   "cell_type": "code",
   "execution_count": 10,
   "id": "afbdb645",
   "metadata": {},
   "outputs": [],
   "source": [
    "cambio_pestaña(2,driver)"
   ]
  },
  {
   "cell_type": "code",
   "execution_count": 11,
   "id": "8e5b0fac",
   "metadata": {},
   "outputs": [
    {
     "data": {
      "text/plain": [
       "['Nombre: CSN2* RACE',\n",
       " 'Categoría: CSN**',\n",
       " 'Provincia: Madrid',\n",
       " 'Localidad: R.A.C.E.',\n",
       " 'Disciplina: Salto de Obstáculos',\n",
       " 'Fechas: 01 al 02 de Febrero de 2025',\n",
       " 'Federación: Federación Hípica de Madrid',\n",
       " 'Avance: Disponible en PDF  ',\n",
       " '  Fechas incripción: 15/Ene->27/Ene/2025',\n",
       " 'Inscripción: Concurso Finalizado',\n",
       " 'Admitidos: Publicada  Ver',\n",
       " 'Resultados: Ver resultados  Ver']"
      ]
     },
     "execution_count": 11,
     "metadata": {},
     "output_type": "execute_result"
    }
   ],
   "source": [
    "# Sacamos el contenido general del concurso\n",
    "contenido_general =  buscador_elementos(driver, \"/html/body/form/table/tbody/tr[2]/td/table[2]/tbody/tr[1]/td[2]/table\").text.split('\\n')\n",
    "contenido_general"
   ]
  },
  {
   "cell_type": "code",
   "execution_count": 12,
   "id": "9f896d9c",
   "metadata": {},
   "outputs": [],
   "source": [
    "# Guardamos la información del concurso en el diccionario creado\n",
    "guardado_info(dictio_concursos, contenido_general, info = \"concursos\", ambito = ambito_buscado)"
   ]
  },
  {
   "cell_type": "code",
   "execution_count": 13,
   "id": "97e1431f",
   "metadata": {},
   "outputs": [
    {
     "data": {
      "text/plain": [
       "{'Nombre': ['CSN2* RACE'],\n",
       " 'Categoría': ['CSN**'],\n",
       " 'Provincia': ['Madrid'],\n",
       " 'Localidad': ['R.A.C.E.'],\n",
       " 'Disciplina': ['Salto de Obstáculos'],\n",
       " 'Federación': ['Federación Hípica de Madrid'],\n",
       " 'Resultados': ['Ver'],\n",
       " 'País': ['España']}"
      ]
     },
     "execution_count": 13,
     "metadata": {},
     "output_type": "execute_result"
    }
   ],
   "source": [
    "dictio_concursos"
   ]
  },
  {
   "cell_type": "code",
   "execution_count": 14,
   "id": "e6316f32",
   "metadata": {},
   "outputs": [],
   "source": [
    "# Nos vamos a las pruebas del concurso\n",
    "path_boton_pruebas = \"/html/body/form/table/tbody/tr[2]/td/table[2]/tbody/tr[1]/td[2]/table/tbody/tr[20]/td[3]/a\"\n",
    "pruebas = buscador_elementos(driver, path_boton_pruebas).click()\n",
    "cambio_pestaña(3,driver)"
   ]
  },
  {
   "cell_type": "code",
   "execution_count": 15,
   "id": "e0a33665",
   "metadata": {},
   "outputs": [],
   "source": [
    "# Obtenemos la información del concurso que se encuentra en la tabla de las pruebas\n",
    "path_info_restante = \"/html/body/form/table/tbody/tr/td/div/div/table/tbody/tr/td/table/tbody/tr[1]/td/table/tbody/tr[1]/td/div/div/div[1]/div[3]/div/table/tbody/tr[2]/td[2]/table/tbody/tr/td\"\n",
    "info_concurso_restante = buscador_elementos(driver, path_info_restante).text.split(\"\\n\")\n",
    "\n",
    "# Creamos las nuevas claves que sacamos de la info que esta donde las pruebas\n",
    "dictio_concursos[info_concurso_restante[2].strip(\":\")] = []\n",
    "dictio_concursos[info_concurso_restante[4].strip(\":\")] = []\n",
    "dictio_concursos[info_concurso_restante[8].strip(\":\")] = []"
   ]
  },
  {
   "cell_type": "code",
   "execution_count": 16,
   "id": "05267990",
   "metadata": {},
   "outputs": [],
   "source": [
    "# metemos la info del concurso que nos falta\n",
    "guardado_info(diccionario = dictio_concursos, elementos = info_concurso_restante, claves = [\"Inicio\", \"Final\", \"Ámbito\"], indices = [3, 5, -1], info = \"general\")"
   ]
  },
  {
   "cell_type": "code",
   "execution_count": 17,
   "id": "f9ce4a33",
   "metadata": {},
   "outputs": [
    {
     "data": {
      "text/plain": [
       "{'Nombre': ['CSN2* RACE'],\n",
       " 'Categoría': ['CSN**'],\n",
       " 'Provincia': ['Madrid'],\n",
       " 'Localidad': ['R.A.C.E.'],\n",
       " 'Disciplina': ['Salto de Obstáculos'],\n",
       " 'Federación': ['Federación Hípica de Madrid'],\n",
       " 'Resultados': ['Ver'],\n",
       " 'País': ['España'],\n",
       " 'Inicio': ['01/02/2025'],\n",
       " 'Final': ['02/02/2025'],\n",
       " 'Ámbito': ['Nacional']}"
      ]
     },
     "execution_count": 17,
     "metadata": {},
     "output_type": "execute_result"
    }
   ],
   "source": [
    "dictio_concursos"
   ]
  },
  {
   "cell_type": "code",
   "execution_count": 18,
   "id": "4253c108",
   "metadata": {},
   "outputs": [
    {
     "data": {
      "text/plain": [
       "'CSN2* RACE'"
      ]
     },
     "execution_count": 18,
     "metadata": {},
     "output_type": "execute_result"
    }
   ],
   "source": [
    "# Obtenemos el nombre del concurso para luego meterlo en la tabla de pruebas\n",
    "path_nombre_concurso = \"/html/body/form/table/tbody/tr/td/div/div/table/tbody/tr/td/table/tbody/tr[1]/td/table/tbody/tr[1]/td/div/div/div[1]/div[3]/div/table/tbody/tr[2]/td[2]/table/tbody/tr/td/div/div[1]/div/table/tbody/tr/td[2]/table/tbody/tr\"\n",
    "nombre_concurso = buscador_elementos(driver, path_nombre_concurso).text.strip()\n",
    "nombre_concurso"
   ]
  },
  {
   "cell_type": "code",
   "execution_count": 19,
   "id": "f9415fc9",
   "metadata": {},
   "outputs": [
    {
     "data": {
      "text/plain": [
       "['Disciplina',\n",
       " 'Fecha',\n",
       " 'Prueba',\n",
       " 'Categoría',\n",
       " 'Número',\n",
       " 'Resultados',\n",
       " 'Salto de Obstáculos',\n",
       " '01/02/2025',\n",
       " '1,10 - Acc (238.2.1)',\n",
       " 'CSN**',\n",
       " '1',\n",
       " 'Disponibles',\n",
       " 'Salto de Obstáculos',\n",
       " '01/02/2025',\n",
       " '1,20 - A c.c. (238.2.1)',\n",
       " 'CSN**',\n",
       " '2',\n",
       " 'Disponibles',\n",
       " 'Salto de Obstáculos',\n",
       " '01/02/2025',\n",
       " '1,30 - A c.c. (238.2.1)',\n",
       " 'CSN**',\n",
       " '3',\n",
       " 'Disponibles',\n",
       " 'Salto de Obstáculos',\n",
       " '02/02/2025',\n",
       " '1,25 - A c.c. (238.2.1)',\n",
       " 'CSN**',\n",
       " '4',\n",
       " 'Disponibles',\n",
       " 'Salto de Obstáculos',\n",
       " '02/02/2025',\n",
       " '1,35 GP - A.c.c. y desempate (238.2.2)',\n",
       " 'CSN**',\n",
       " '5',\n",
       " 'Disponibles',\n",
       " 'Salto de Obstáculos',\n",
       " '02/02/2025',\n",
       " '1,15 - A c.c. (238.2.1)',\n",
       " 'CSN**',\n",
       " '6',\n",
       " 'Disponibles']"
      ]
     },
     "execution_count": 19,
     "metadata": {},
     "output_type": "execute_result"
    }
   ],
   "source": [
    "# Obtenemos las pruebas del concurso\n",
    "path_pruebas = \"/html/body/form/table/tbody/tr/td/div/div/table/tbody/tr/td/table/tbody/tr[1]/td/table/tbody/tr[1]/td/div/div/div[2]\"\n",
    "pruebas = buscador_elementos(driver, path_pruebas).text.split(\"\\n\")\n",
    "pruebas"
   ]
  },
  {
   "cell_type": "code",
   "execution_count": null,
   "id": "902fc1fe",
   "metadata": {},
   "outputs": [],
   "source": [
    "claves_pruebas = list(dictio_pruebas.keys())\n",
    "guardado_info(diccionario = dictio_pruebas,elementos = pruebas, claves = claves_pruebas, indices = [6, 7, 8, 9, 10], step = 6, guardado = False, info = \"general\")\n",
    "\n",
    "numero_pruebas = len(pruebas[6::6])  # Asumimos que 'Disciplina' tiene una fila por prueba\n",
    "dictio_pruebas[\"Concurso\"].extend([nombre_concurso] * numero_pruebas)"
   ]
  },
  {
   "cell_type": "code",
   "execution_count": 20,
   "id": "9d45c31b",
   "metadata": {},
   "outputs": [],
   "source": [
    "# accedemos a los resultados de la primera prueba\n",
    "path_resultados_pruebas = \"/html/body/form/table/tbody/tr/td/div/div/table/tbody/tr/td/table/tbody/tr[1]/td/table/tbody/tr[1]/td/div/div/div[2]/div[2]/div/table/tbody/tr/td/div/div/table/tbody/tr[1]/td/div/div/table/tbody/tr[1]/td/div/div[3]/div/table/tbody/tr/td/a\"\n",
    "resultados_pruebas = buscador_elementos(driver, path_resultados_pruebas).click()"
   ]
  },
  {
   "cell_type": "code",
   "execution_count": null,
   "id": "e2c7d148",
   "metadata": {},
   "outputs": [],
   "source": [
    "extraccion_resultados_jinetes_caballos(driver, dictio_jinetes, dictio_caballos)"
   ]
  },
  {
   "cell_type": "code",
   "execution_count": null,
   "id": "46d0c7ac",
   "metadata": {},
   "outputs": [
    {
     "name": "stdout",
     "output_type": "stream",
     "text": [
      "alert does not Exist in page\n"
     ]
    },
    {
     "ename": "KeyError",
     "evalue": "'Lic.Jinete'",
     "output_type": "error",
     "traceback": [
      "\u001b[31m---------------------------------------------------------------------------\u001b[39m",
      "\u001b[31mTimeoutException\u001b[39m                          Traceback (most recent call last)",
      "\u001b[36mCell\u001b[39m\u001b[36m \u001b[39m\u001b[32mIn[11]\u001b[39m\u001b[32m, line 111\u001b[39m\n\u001b[32m    110\u001b[39m \u001b[38;5;28;01mtry\u001b[39;00m:\n\u001b[32m--> \u001b[39m\u001b[32m111\u001b[39m     \u001b[43mWebDriverWait\u001b[49m\u001b[43m(\u001b[49m\u001b[43mdriver\u001b[49m\u001b[43m,\u001b[49m\u001b[43m \u001b[49m\u001b[32;43m5\u001b[39;49m\u001b[43m)\u001b[49m\u001b[43m.\u001b[49m\u001b[43muntil\u001b[49m\u001b[43m(\u001b[49m\u001b[43mEC\u001b[49m\u001b[43m.\u001b[49m\u001b[43malert_is_present\u001b[49m\u001b[43m(\u001b[49m\u001b[43m)\u001b[49m\u001b[43m)\u001b[49m\n\u001b[32m    112\u001b[39m     \u001b[38;5;66;03m# switch_to.alert for switching to alert and accept\u001b[39;00m\n",
      "\u001b[36mFile \u001b[39m\u001b[32mc:\\Users\\gabri\\OneDrive\\Desktop\\HackIO\\Proyecto final\\Pruebas_proyecto_final\\venv\\Lib\\site-packages\\selenium\\webdriver\\support\\wait.py:146\u001b[39m, in \u001b[36mWebDriverWait.until\u001b[39m\u001b[34m(self, method, message)\u001b[39m\n\u001b[32m    145\u001b[39m     time.sleep(\u001b[38;5;28mself\u001b[39m._poll)\n\u001b[32m--> \u001b[39m\u001b[32m146\u001b[39m \u001b[38;5;28;01mraise\u001b[39;00m TimeoutException(message, screen, stacktrace)\n",
      "\u001b[31mTimeoutException\u001b[39m: Message: \n",
      "\nDuring handling of the above exception, another exception occurred:\n",
      "\u001b[31mKeyError\u001b[39m                                  Traceback (most recent call last)",
      "\u001b[36mCell\u001b[39m\u001b[36m \u001b[39m\u001b[32mIn[11]\u001b[39m\u001b[32m, line 127\u001b[39m\n\u001b[32m    123\u001b[39m \u001b[38;5;28mprint\u001b[39m(\u001b[33m\"\u001b[39m\u001b[33malert does not Exist in page\u001b[39m\u001b[33m\"\u001b[39m)\n\u001b[32m    125\u001b[39m buscador_elementos(driver, siguiente_prueba).click()\n\u001b[32m--> \u001b[39m\u001b[32m127\u001b[39m \u001b[43mextraccion_resultados\u001b[49m\u001b[43m(\u001b[49m\u001b[43mdriver\u001b[49m\u001b[43m,\u001b[49m\u001b[43m \u001b[49m\u001b[43mresultados_diccionario\u001b[49m\u001b[43m)\u001b[49m\n\u001b[32m    129\u001b[39m jinetes = \u001b[38;5;28mlen\u001b[39m(buscador_elementos(driver, \u001b[33m\"\u001b[39m\u001b[33m#c0-A17\u001b[39m\u001b[33m\"\u001b[39m, busqueda = \u001b[33m\"\u001b[39m\u001b[33mcss_selector\u001b[39m\u001b[33m\"\u001b[39m, cantidad = \u001b[38;5;28;01mFalse\u001b[39;00m))\n\u001b[32m    130\u001b[39m \u001b[38;5;28;01mfor\u001b[39;00m j \u001b[38;5;129;01min\u001b[39;00m \u001b[38;5;28mrange\u001b[39m(\u001b[32m1\u001b[39m, jinetes + \u001b[32m1\u001b[39m):\n",
      "\u001b[36mFile \u001b[39m\u001b[32mc:\\Users\\gabri\\OneDrive\\Desktop\\HackIO\\Proyecto final\\Pruebas_proyecto_final\\Notebooks\\src\\soporte_scrapeo.py:152\u001b[39m, in \u001b[36mextraccion_resultados\u001b[39m\u001b[34m(driver, diccionario)\u001b[39m\n\u001b[32m    149\u001b[39m     guardado_info(diccionario, claves, entrada, [\u001b[32m0\u001b[39m, \u001b[32m2\u001b[39m, \u001b[32m1\u001b[39m, \u001b[32m4\u001b[39m, \u001b[32m3\u001b[39m, \u001b[32m6\u001b[39m, \u001b[32m7\u001b[39m, \u001b[32m8\u001b[39m])\n\u001b[32m    151\u001b[39m \u001b[38;5;28;01melif\u001b[39;00m \u001b[38;5;28mlen\u001b[39m(entrada) == \u001b[32m8\u001b[39m: \u001b[38;5;66;03m# una ronda (con premio)\u001b[39;00m\n\u001b[32m--> \u001b[39m\u001b[32m152\u001b[39m     \u001b[43mguardado_info\u001b[49m\u001b[43m(\u001b[49m\u001b[43mdiccionario\u001b[49m\u001b[43m,\u001b[49m\u001b[43m \u001b[49m\u001b[43mclaves\u001b[49m\u001b[43m,\u001b[49m\u001b[43m \u001b[49m\u001b[43mentrada\u001b[49m\u001b[43m,\u001b[49m\u001b[43m \u001b[49m\u001b[43m[\u001b[49m\u001b[32;43m0\u001b[39;49m\u001b[43m,\u001b[49m\u001b[43m \u001b[49m\u001b[32;43m2\u001b[39;49m\u001b[43m,\u001b[49m\u001b[43m \u001b[49m\u001b[32;43m1\u001b[39;49m\u001b[43m,\u001b[49m\u001b[43m \u001b[49m\u001b[32;43m4\u001b[39;49m\u001b[43m,\u001b[49m\u001b[43m \u001b[49m\u001b[32;43m3\u001b[39;49m\u001b[43m,\u001b[49m\u001b[43m \u001b[49m\u001b[32;43m6\u001b[39;49m\u001b[43m,\u001b[49m\u001b[43m \u001b[49m\u001b[38;5;28;43;01mNone\u001b[39;49;00m\u001b[43m,\u001b[49m\u001b[43m \u001b[49m\u001b[32;43m7\u001b[39;49m\u001b[43m]\u001b[49m\u001b[43m)\u001b[49m\n\u001b[32m    154\u001b[39m \u001b[38;5;28;01mfor\u001b[39;00m resultado \u001b[38;5;129;01min\u001b[39;00m even_rows:\n\u001b[32m    155\u001b[39m     linea = resultado.text.split(\u001b[33m\"\u001b[39m\u001b[38;5;130;01m\\n\u001b[39;00m\u001b[33m\"\u001b[39m)\n",
      "\u001b[36mFile \u001b[39m\u001b[32mc:\\Users\\gabri\\OneDrive\\Desktop\\HackIO\\Proyecto final\\Pruebas_proyecto_final\\Notebooks\\src\\soporte_scrapeo.py:107\u001b[39m, in \u001b[36mguardado_info\u001b[39m\u001b[34m(diccionario, claves, elementos, indices, default, step, guardado)\u001b[39m\n\u001b[32m    104\u001b[39m \u001b[38;5;28;01mif\u001b[39;00m guardado == \u001b[38;5;28;01mTrue\u001b[39;00m:  \n\u001b[32m    106\u001b[39m     \u001b[38;5;28;01mif\u001b[39;00m indice \u001b[38;5;129;01mis\u001b[39;00m \u001b[38;5;129;01mnot\u001b[39;00m \u001b[38;5;28;01mNone\u001b[39;00m \u001b[38;5;129;01mand\u001b[39;00m indice < \u001b[38;5;28mlen\u001b[39m(elementos):\n\u001b[32m--> \u001b[39m\u001b[32m107\u001b[39m         \u001b[43mdiccionario\u001b[49m\u001b[43m[\u001b[49m\u001b[43mclave\u001b[49m\u001b[43m]\u001b[49m.append(elementos[indice])\n\u001b[32m    109\u001b[39m     \u001b[38;5;28;01melif\u001b[39;00m indice \u001b[38;5;129;01mis\u001b[39;00m \u001b[38;5;28;01mNone\u001b[39;00m:    \n\u001b[32m    110\u001b[39m         diccionario[clave].append(default)\n",
      "\u001b[31mKeyError\u001b[39m: 'Lic.Jinete'"
     ]
    }
   ],
   "source": [
    "url = \"https://rfhe.com/competiciones/\"\n",
    "\n",
    "# inicializamos el driver y lo abrimos\n",
    "driver = get_competiciones(url)\n",
    "\n",
    "# Seleccionamos el ambito de los concursos y la disciplina, en este caso nacional y salto\n",
    "ambito_buscado, disciplina_buscada = resultados_disciplina(driver)\n",
    "\n",
    "# Como queremos iterar desde el año 2025, el cual nos aparece de manera automática al abrir la página, hasta 2017, creamos un bucle el cual \n",
    "# va iterando por los años hasta 2017, que es el último año del cual queremos obtener datos.\n",
    "\n",
    "año = obtencion_año(driver)\n",
    "\n",
    "# vamos a buscar solo las competiciones antes de 2017\n",
    "while año > 2017:\n",
    "\n",
    "    # Buscamos los concursos de marzo del año que nos aparece\n",
    "    competiciones_año(driver)\n",
    "\n",
    "    # Sacamos el total de concursos que hay en el mes de marzo, que compondrá el total de veces que tendrá que iterar el bucle for siguiente\n",
    "    #maximo_n_concursos = int(buscador_elementos(driver, \"/html/body/form/div/div/div/ul/li[3]/font\").text.split(\" \")[-1].replace(\"(\", \"\").replace(\")\", \"\"))\n",
    "\n",
    "\n",
    "    #for i in range (5, maximo_n_concursos + 5)\n",
    "    for i in range (5, 7):\n",
    "\n",
    "        try:\n",
    "            \n",
    "            selector = f\"/html/body/form/div/div/div/div/div[3]/table/tbody/tr[{i}]/td[4]/a\"\n",
    "            concurso = buscador_elementos(driver, selector).click()\n",
    "            cambio_pestaña(2,driver)\n",
    "\n",
    "            time.sleep(5)\n",
    "\n",
    "            # Sacamos el contenido general del concurso\n",
    "            contenido_general =  buscador_elementos(driver, \"/html/body/form/table/tbody/tr[2]/td/table[2]/tbody/tr[1]/td[2]/table/tbody\").text.split('\\n')\n",
    "\n",
    "            if i == 5: \n",
    "\n",
    "                elementos = [elemento.split(\":\")[0] for elemento in contenido_general]\n",
    "\n",
    "                indices_a_excluir = [5, 7, 8, 9, 10]\n",
    "\n",
    "                lista_filtrada = [valor for i, valor in enumerate(elementos) if i not in indices_a_excluir]\n",
    "\n",
    "                dictio_concursos = {entrada: [] for entrada in lista_filtrada} \n",
    "                dictio_concursos[\"País\"] = [] \n",
    "\n",
    "                # Guardamos la información del concurso en el diccionario creado\n",
    "                guardado_info(dictio_concursos, contenido_general, info = \"concursos\", ambito = ambito_buscado)\n",
    "\n",
    "                # Nos vamos a las pruebas del concurso\n",
    "                path_boton_pruebas = \"/html/body/form/table/tbody/tr[2]/td/table[2]/tbody/tr[1]/td[2]/table/tbody/tr[20]/td[3]/a\"\n",
    "                pruebas = buscador_elementos(driver, path_boton_pruebas).click()\n",
    "                cambio_pestaña(3,driver)\n",
    "\n",
    "                time.sleep(5)\n",
    "\n",
    "                # Obtenemos la información del concurso que se encuentra en la tabla de las pruebas\n",
    "                path_info_restante = \"/html/body/form/table/tbody/tr/td/div/div/table/tbody/tr/td/table/tbody/tr[1]/td/table/tbody/tr[1]/td/div/div/div[1]/div[3]/div/table/tbody/tr[2]/td[2]/table/tbody/tr/td\"\n",
    "                info_concurso_restante = buscador_elementos(driver, path_info_restante).text.split(\"\\n\")\n",
    "\n",
    "                # Creamos las nuevas claves que sacamos de la info que esta donde las pruebas\n",
    "                dictio_concursos[info_concurso_restante[2].strip(\":\")] = []\n",
    "                dictio_concursos[info_concurso_restante[4].strip(\":\")] = []\n",
    "                dictio_concursos[info_concurso_restante[8].strip(\":\")] = []\n",
    "\n",
    "                # metemos la info del concurso que nos falta\n",
    "                guardado_info(diccionario = dictio_concursos, elementos = info_concurso_restante, claves = [\"Inicio\", \"Final\", \"Ámbito\"], indices = [3, 5, -1], info = \"general\")\n",
    "                \n",
    "                # Obtenemos el nombre del concurso para luego meterlo en la tabla de pruebas\n",
    "                path_nombre_concurso = \"/html/body/form/table/tbody/tr/td/div/div/table/tbody/tr/td/table/tbody/tr[1]/td/table/tbody/tr[1]/td/div/div/div[1]/div[3]/div/table/tbody/tr[2]/td[2]/table/tbody/tr/td/div/div[1]/div/table/tbody/tr/td[2]/table/tbody/tr\"\n",
    "                nombre_concurso = buscador_elementos(driver, path_nombre_concurso).text.strip()\n",
    "\n",
    "                # pruebas del concurso\n",
    "                path_pruebas = \"/html/body/form/table/tbody/tr/td/div/div/table/tbody/tr/td/table/tbody/tr[1]/td/table/tbody/tr[1]/td/div/div/div[2]\"\n",
    "                pruebas = buscador_elementos(driver, path_pruebas).text.split(\"\\n\")\n",
    "\n",
    "                # Creamos el diccionario en el que guardaremos las pruebas\n",
    "                diccionario_pruebas = {encabezado_prueba : [] for encabezado_prueba in pruebas[:5]}\n",
    "                diccionario_pruebas[\"Concurso\"] = []\n",
    "\n",
    "                claves_pruebas = [\"Disciplina\", \"Fecha\", \"Prueba\", \"Categoría\", \"Número\"]\n",
    "                guardado_info(diccionario = diccionario_pruebas,elementos = pruebas, claves = claves_pruebas, indices = [6, 7, 8, 9, 10], step = 6, guardado = False, info = \"general\")\n",
    "\n",
    "                numero_pruebas = len(pruebas[6::6])  # Asumimos que 'Disciplina' tiene una fila por prueba\n",
    "                diccionario_pruebas[\"Concurso\"].extend([nombre_concurso] * numero_pruebas)\n",
    "\n",
    "                dictio_jinetes = {\"Nombre\": [],\n",
    "                                    \"Licencia\": [],\n",
    "                                    \"Sexo\": [],\n",
    "                                    \"País\": [],\n",
    "                                    \"Federación\": [],\n",
    "                                    \"Disciplina\": []}\n",
    "                dictio_caballos = {\"Nombre\": [],\n",
    "                                    \"Licencia\": [],\n",
    "                                    \"Edad\": [],\n",
    "                                    \"País\": [],\n",
    "                                    \"Raza\": [],\n",
    "                                    \"Sexo\": [],\n",
    "                                    \"Federación\": [],\n",
    "                                    \"Disciplina\": []}\n",
    "\n",
    "                # accedemos a los resultados de la primera prueba\n",
    "                path_resultados_pruebas = \"/html/body/form/table/tbody/tr/td/div/div/table/tbody/tr/td/table/tbody/tr[1]/td/table/tbody/tr[1]/td/div/div/div[2]/div[2]/div/table/tbody/tr/td/div/div/table/tbody/tr[1]/td/div/div/table/tbody/tr[1]/td/div/div[3]/div/table/tbody/tr/td/a\"\n",
    "                resultados_pruebas = buscador_elementos(driver, path_resultados_pruebas).click()\n",
    "\n",
    "                # Obtenemos todos los resultados\n",
    "                resultados_prueba = \"/html/body/form/table/tbody/tr/td/div/div/table/tbody/tr/td/table/tbody/tr[1]/td/table/tbody/tr[1]/td/div/div/div[2]/div/table\"\n",
    "                resultados = buscador_elementos(driver, resultados_prueba).text.split(\"\\n\")\n",
    "\n",
    "                # creamos el diccionario en el que iremos guardando los resultados \n",
    "                encabezados_malos = resultados[0:8]\n",
    "                encabezados = [encabezados_malos[0], \n",
    "                                encabezados_malos[1].split(' ')[0], \n",
    "                                encabezados_malos[4] + 'jinete', \n",
    "                                encabezados_malos[1].split(' ')[1], \n",
    "                                encabezados_malos[6] + 'caballo',\n",
    "                                encabezados_malos[2],\n",
    "                                encabezados_malos[2]+ '2',\n",
    "                                encabezados_malos[3]]\n",
    "                                            \n",
    "                # Transformamos la lista en un diccionario vacío mediante el método fromkeys, el cual contendrá como claves los elementos de la lista creada antes, y \n",
    "                # los valores estarán vacíos, ya que los añadiremos a continuación desde los resultados obtenidos. \n",
    "                diccionario_resultados = {encabezado: [] for encabezado in encabezados}\n",
    "                diccionario_resultados[\"Prueba\"] = []\n",
    "\n",
    "                siguiente_prueba = \"/html/body/form/table/tbody/tr/td/div/div/table/tbody/tr/td/table/tbody/tr[1]/td/table/tbody/tr[1]/td/div/div/div[1]/div[2]/div[2]/div[6]/div/table/tbody/tr/td/a\"\n",
    "                jinetes_caballos(driver)   \n",
    "                        \n",
    "                while True:\n",
    "                    try:\n",
    "                        buscador_elementos(driver, siguiente_prueba).click()\n",
    "\n",
    "                        WebDriverWait(driver, 5).until(EC.alert_is_present())\n",
    "                        alert = driver.switch_to.alert\n",
    "                        print(\"alert Exists in page\")\n",
    "\n",
    "                        alert.accept()         \n",
    "                        driver.close()\n",
    "                        cambio_pestaña(2,driver)\n",
    "                        break\n",
    "                                \n",
    "                    except TimeoutException:\n",
    "                        print(\"alert does not Exist in page\")\n",
    "\n",
    "                        buscador_elementos(driver, siguiente_prueba).click()\n",
    "\n",
    "                        extraccion_resultados(driver, diccionario_resultados = diccionario_resultados)\n",
    "                        jinetes_caballos(driver, dictio_jinetes, dictio_caballos)\n",
    "                    \n",
    "                    except UnexpectedAlertPresentException:\n",
    "                        # En caso de que la alerta se dispare justo después del click (por si se salta el `until`)\n",
    "                        alert = driver.switch_to.alert\n",
    "                        print(\"Alerta inesperada después del clic:\", alert.text)\n",
    "                        alert.accept()\n",
    "                        driver.close()\n",
    "                        cambio_pestaña(2, driver)\n",
    "                        break\n",
    "\n",
    "                time.sleep(5)\n",
    "\n",
    "                driver.close()\n",
    "                cambio_pestaña(1, driver)\n",
    "\n",
    "            elif i != 5 and \"Resultados: Ver resultados  Ver\" in contenido_general:\n",
    "                \n",
    "                # Guardamos la información del concurso en el diccionario creado\n",
    "                guardado_info(dictio_concursos, contenido_general, info = \"concursos\", ambito = ambito_buscado)\n",
    "                    \n",
    "                # Accedemos a las pruebas del concurso\n",
    "                try:\n",
    "                    # Nos vamos a las pruebas del concurso\n",
    "                    path_boton_pruebas = \"/html/body/form/table/tbody/tr[2]/td/table[2]/tbody/tr[1]/td[2]/table/tbody/tr[20]/td[3]/a\"\n",
    "                    pruebas = buscador_elementos(driver, path_boton_pruebas).click()\n",
    "\n",
    "                except NoSuchElementException:\n",
    "                    path_boton_pruebas = \"/html/body/form/table/tbody/tr[2]/td/table[2]/tbody/tr[1]/td[2]/table/tbody/tr[18]/td[3]/a\"\n",
    "                    pruebas = buscador_elementos(driver, path_boton_pruebas).click()\n",
    "                \n",
    "                # Nos vamos a la pestaña con las pruebas\n",
    "                cambio_pestaña(3,driver)    \n",
    "\n",
    "                time.sleep(5)\n",
    "\n",
    "                # Obtenemos la información del concurso que se encuentra en la tabla de las pruebas\n",
    "                path_info_restante = \"/html/body/form/table/tbody/tr/td/div/div/table/tbody/tr/td/table/tbody/tr[1]/td/table/tbody/tr[1]/td/div/div/div[1]/div[3]/div/table/tbody/tr[2]/td[2]/table/tbody/tr/td\"\n",
    "                info_concurso_restante = buscador_elementos(driver, path_info_restante).text.split(\"\\n\")\n",
    "\n",
    "                # metemos la info del concurso que nos falta\n",
    "                guardado_info(diccionario = dictio_concursos, elementos = info_concurso_restante, claves = [\"Inicio\", \"Final\", \"Ámbito\"], indices = [3, 5, -1], info = \"general\")\n",
    "\n",
    "                # Obtenemos el nombre del concurso para luego meterlo en la tabla de pruebas\n",
    "                path_nombre_concurso = \"/html/body/form/table/tbody/tr/td/div/div/table/tbody/tr/td/table/tbody/tr[1]/td/table/tbody/tr[1]/td/div/div/div[1]/div[3]/div/table/tbody/tr[2]/td[2]/table/tbody/tr/td/div/div[1]/div/table/tbody/tr/td[2]/table/tbody/tr\"\n",
    "                nombre_concurso = buscador_elementos(driver, path_nombre_concurso).text.strip()\n",
    "\n",
    "                # pruebas del concurso\n",
    "                path_pruebas = \"/html/body/form/table/tbody/tr/td/div/div/table/tbody/tr/td/table/tbody/tr[1]/td/table/tbody/tr[1]/td/div/div/div[2]\"\n",
    "                pruebas = buscador_elementos(driver, path_pruebas).text.split(\"\\n\")\n",
    "                    \n",
    "                claves_pruebas = [\"Disciplina\", \"Fecha\", \"Prueba\", \"Categoría\", \"Número\"]\n",
    "                guardado_info(diccionario = diccionario_pruebas,elementos = pruebas, claves = claves_pruebas, indices = [6, 7, 8, 9, 10], step = 6, guardado = False, info = \"general\")\n",
    "\n",
    "                numero_pruebas = len(pruebas[6::6])  # Asumimos que 'Disciplina' tiene una fila por prueba\n",
    "                diccionario_pruebas[\"Concurso\"].extend([nombre_concurso] * numero_pruebas)\n",
    "                \n",
    "                siguiente_prueba = \"/html/body/form/table/tbody/tr/td/div/div/table/tbody/tr/td/table/tbody/tr[1]/td/table/tbody/tr[1]/td/div/div/div[1]/div[2]/div[2]/div[6]/div/table/tbody/tr/td/a\"\n",
    "                jinetes_caballos(driver)   \n",
    "                        \n",
    "                while True:\n",
    "                    try:\n",
    "                        buscador_elementos(driver, siguiente_prueba).click()\n",
    "\n",
    "                        WebDriverWait(driver, 5).until(EC.alert_is_present())\n",
    "                        alert = driver.switch_to.alert\n",
    "                        print(\"alert Exists in page\")\n",
    "\n",
    "                        alert.accept()         \n",
    "                        driver.close()\n",
    "                        cambio_pestaña(2,driver)\n",
    "                        break\n",
    "                                \n",
    "                    except TimeoutException:\n",
    "                        print(\"alert does not Exist in page\")\n",
    "\n",
    "                        buscador_elementos(driver, siguiente_prueba).click()\n",
    "\n",
    "                        extraccion_resultados(driver, diccionario_resultados = diccionario_resultados)\n",
    "                        jinetes_caballos(driver, dictio_jinetes, dictio_caballos)\n",
    "                    \n",
    "                    except UnexpectedAlertPresentException:\n",
    "                        # En caso de que la alerta se dispare justo después del click (por si se salta el `until`)\n",
    "                        alert = driver.switch_to.alert\n",
    "                        print(\"Alerta inesperada después del clic:\", alert.text)\n",
    "                        alert.accept()\n",
    "                        driver.close()\n",
    "                        cambio_pestaña(2, driver)\n",
    "                        break\n",
    "\n",
    "                time.sleep(5)\n",
    "\n",
    "                driver.close()\n",
    "                cambio_pestaña(1, driver)\n",
    "                \n",
    "            # aqui tenemos los concursos que han sido suspendidos\n",
    "            elif i != 5 and \"Resultados: Ver resultados  Ver\" not in contenido_general:\n",
    "                continue\n",
    "\n",
    "        # Manejamos las competiciones que han sido aplazadas, las cuales no tendremos en cuenta\n",
    "        except NoSuchElementException:\n",
    "\n",
    "            enlace_concurso = driver.find_element(By.XPATH, f\"/html/body/form/div/div/div/div/div[3]/table/tbody/tr[{i}]/td[4]/font\")\n",
    "            print(enlace_concurso.text)\n",
    "            continue\n",
    "\n",
    "        except NoSuchElementException:\n",
    "            driver.refresh()\n",
    "            continue\n",
    "\n",
    "    buscador_elementos(driver,\"/html/body/form/table/tbody/tr[2]/td/table[2]/tbody/tr[2]/td[2]/a\").click()\n",
    "\n",
    "    año = obtencion_año(driver)"
   ]
  }
 ],
 "metadata": {
  "kernelspec": {
   "display_name": "venv",
   "language": "python",
   "name": "python3"
  },
  "language_info": {
   "codemirror_mode": {
    "name": "ipython",
    "version": 3
   },
   "file_extension": ".py",
   "mimetype": "text/x-python",
   "name": "python",
   "nbconvert_exporter": "python",
   "pygments_lexer": "ipython3",
   "version": "3.12.4"
  }
 },
 "nbformat": 4,
 "nbformat_minor": 5
}
