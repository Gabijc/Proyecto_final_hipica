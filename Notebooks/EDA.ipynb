{
 "cells": [
  {
   "cell_type": "markdown",
   "id": "a2cb9e03",
   "metadata": {},
   "source": [
    "# EDA"
   ]
  },
  {
   "cell_type": "code",
   "execution_count": 1,
   "id": "7df2e218",
   "metadata": {},
   "outputs": [],
   "source": [
    "import psycopg2 as ps\n",
    "import pandas as pd\n",
    "import matplotlib.pyplot as plt\n",
    "import seaborn as sns\n",
    "import plotly.express as px"
   ]
  },
  {
   "cell_type": "code",
   "execution_count": 2,
   "id": "e8abdc84",
   "metadata": {},
   "outputs": [],
   "source": [
    "def conexion_BBDD(nombre_BBDD, usuario, contraseña, anfitrion, puerto):\n",
    "\n",
    "    conn = ps.connect(\n",
    "                    dbname = nombre_BBDD, \n",
    "                    user = usuario,\n",
    "                    password = contraseña,\n",
    "                    host = anfitrion,\n",
    "                    port = puerto)\n",
    "\n",
    "    return conn"
   ]
  },
  {
   "cell_type": "code",
   "execution_count": 3,
   "id": "8cc3abc1",
   "metadata": {},
   "outputs": [],
   "source": [
    "dbname = \"BBDD_Hipica\", # base a la que nos queremos conectar\n",
    "user = \"postgres\",\n",
    "password = \"admin\",\n",
    "host = \"localhost\",\n",
    "port = \"5432\" # puerto en el que s eencuentra postgres"
   ]
  },
  {
   "cell_type": "code",
   "execution_count": 4,
   "id": "e7d9ce1b",
   "metadata": {},
   "outputs": [
    {
     "data": {
      "text/plain": [
       "('PostgreSQL 16.4, compiled by Visual C++ build 1940, 64-bit',)"
      ]
     },
     "execution_count": 4,
     "metadata": {},
     "output_type": "execute_result"
    }
   ],
   "source": [
    "conn = conexion_BBDD(dbname[0], user[0], password[0], host[0], port)\n",
    "cur = conn.cursor()\n",
    "# COmprobamos que la conexión está creada y conectada\n",
    "cur.execute(\"SELECT version();\")\n",
    "cur.fetchone() "
   ]
  },
  {
   "cell_type": "markdown",
   "id": "d2309f64",
   "metadata": {},
   "source": [
    "## Análisis de concursos y pruebas"
   ]
  },
  {
   "cell_type": "code",
   "execution_count": 5,
   "id": "51f9999e",
   "metadata": {},
   "outputs": [],
   "source": [
    "def ejecutor_querys(cur, query):\n",
    "    cur.execute(query)\n",
    "    return cur.fetchall()"
   ]
  },
  {
   "cell_type": "code",
   "execution_count": 34,
   "id": "16942a0d",
   "metadata": {},
   "outputs": [],
   "source": [
    "query_concursos_completos = \"\"\"\n",
    "        SELECT *\n",
    "        FROM concursos c;\n",
    "\"\"\"\n",
    "query_n_concursos = \"\"\"\n",
    "        SELECT COUNT(id_concurso)\n",
    "        FROM concursos c;\n",
    "\"\"\"\n",
    "query_fechas_concursos = \"\"\"\n",
    "        SELECT \n",
    "                MIN(fecha_inicio_concurso),\n",
    "                MAX(fecha_fin_concurso)\n",
    "        FROM concursos c;\n",
    "\"\"\"\n",
    "query_concursos_mes = \"\"\"\n",
    "        SELECT \n",
    "                EXTRACT(MONTH FROM fecha_inicio_concurso),\n",
    "                COUNT(id_concurso)\n",
    "        FROM concursos c\n",
    "        GROUP BY EXTRACT(MONTH FROM fecha_inicio_concurso)\n",
    "        ORDER BY COUNT(id_concurso) DESC;\n",
    "\"\"\"\n",
    "query_concursos_ambito = \"\"\"\n",
    "        SELECT \n",
    "                ambito_concurso,\n",
    "                CONCAT((COUNT(id_concurso)) * 100 / (SELECT COUNT(id_concurso) FROM concursos c), ' ', '%')\n",
    "        FROM concursos c\n",
    "        GROUP BY ambito_concurso\n",
    "        ORDER BY COUNT(id_concurso) DESC;\n",
    "\"\"\"\n",
    "query_concursos_federacion = \"\"\"\n",
    "        SELECT \n",
    "                federacion_concurso,\n",
    "                COUNT(id_concurso)\n",
    "        FROM concursos c\n",
    "        GROUP BY federacion_concurso\n",
    "        ORDER BY COUNT(id_concurso) DESC;\n",
    "\"\"\"\n",
    "query_concursos_provincia = \"\"\"\n",
    "        SELECT \n",
    "                provincia_concurso,\n",
    "                COUNT(id_concurso)\n",
    "        FROM concursos c\n",
    "        GROUP BY provincia_concurso\n",
    "        ORDER BY COUNT(id_concurso) DESC;\n",
    "\"\"\"\n",
    "\n",
    "query_concursos_localidad = \"\"\"\n",
    "        SELECT \n",
    "                localidad_concurso,\n",
    "                COUNT(id_concurso)\n",
    "        FROM concursos c\n",
    "        GROUP BY localidad_concurso\n",
    "        ORDER BY COUNT(id_concurso) DESC;\n",
    "\"\"\"\n",
    "\n",
    "query_concursos_localidad = \"\"\"\n",
    "        SELECT \n",
    "                localidad_concurso,\n",
    "                COUNT(id_concurso)\n",
    "        FROM concursos c\n",
    "        GROUP BY localidad_concurso\n",
    "        ORDER BY COUNT(id_concurso) DESC;\n",
    "\"\"\"\n",
    "query_concursos_pruebas_concurso = \"\"\"\n",
    "        \n",
    "        WITH pruebas_concurso AS (\n",
    "                SELECT \n",
    "                        c.id_concurso,\n",
    "                        COUNT(DISTINCT p.id_prueba) as n_pruebas_concurso\n",
    "                FROM resultados r\n",
    "                        JOIN concursos c ON r.id_concurso = c.id_concurso\n",
    "                        JOIN pruebas p ON r.id_prueba = p.id_prueba\n",
    "                GROUP BY c.id_concurso\n",
    "        )\n",
    "        SELECT \n",
    "                ROUND(AVG(n_pruebas_concurso), 0)\n",
    "        FROM pruebas_concurso;\n",
    "\n",
    "\"\"\"\n",
    "\n",
    "query_pruebas = \"\"\"\n",
    "        \n",
    "        SELECT \n",
    "                DISTINCT SUBSTRING(\n",
    "                         nombre_prueba \n",
    "                         FROM POSITION('(2' IN nombre_prueba)\n",
    "                         ) as tipo_prueba, \n",
    "                COUNT(id_prueba)\n",
    "        FROM pruebas p\n",
    "        GROUP BY tipo_prueba\n",
    "        ORDER BY 2 DESC; \n",
    "\n",
    "\"\"\"\n",
    "query_duracion_concursos = \"\"\"\n",
    "        \n",
    "        SELECT \n",
    "                ROUND(AVG(fecha_fin_concurso::date - fecha_inicio_concurso::date), 0)\n",
    "        FROM concursos c; \n",
    "\n",
    "\"\"\"\n",
    "\n",
    "query_dinero_repartido_concursos = \"\"\"\n",
    "        \n",
    "        WITH ConteoJinetesCaballosPorConcurso AS (\n",
    "        SELECT\n",
    "                r.id_concurso,\n",
    "                COUNT(DISTINCT r.id_jinete) AS conteo_jinetes,\n",
    "                COUNT(DISTINCT r.id_caballo) AS conteo_caballos\n",
    "        FROM resultados r\n",
    "        GROUP BY r.id_concurso\n",
    "        ),\n",
    "        DineroTotalPorConcurso AS (\n",
    "        SELECT\n",
    "                r.id_concurso,\n",
    "                SUM(r.dinero_premio) AS total_premio_concurso\n",
    "        FROM resultados r\n",
    "        GROUP BY r.id_concurso\n",
    "        )\n",
    "        SELECT\n",
    "                c.categoria_concurso,\n",
    "                AVG(cjcc.conteo_jinetes) AS media_jinetes,\n",
    "                AVG(cjcc.conteo_caballos) AS media_caballos,\n",
    "                AVG(dtpc.total_premio_concurso) AS media_dinero_premio_por_concurso\n",
    "        FROM concursos c\n",
    "                JOIN ConteoJinetesCaballosPorConcurso cjcc ON c.id_concurso = cjcc.id_concurso\n",
    "                JOIN resultados r ON c.id_concurso = r.id_concurso\n",
    "                JOIN DineroTotalPorConcurso dtpc ON c.id_concurso = dtpc.id_concurso\n",
    "        GROUP BY c.categoria_concurso\n",
    "        ORDER BY 4 DESC;\n",
    "\n",
    "\"\"\""
   ]
  },
  {
   "cell_type": "code",
   "execution_count": 7,
   "id": "81921080",
   "metadata": {},
   "outputs": [],
   "source": [
    "meses = {\n",
    "    1: \"enero\",\n",
    "    2: \"febrero\",\n",
    "    3: \"marzo\",\n",
    "    4: \"abril\",\n",
    "    5: \"mayo\",\n",
    "    6: \"junio\",\n",
    "    7: \"julio\",\n",
    "    8: \"agosto\",\n",
    "    9: \"septiembre\",\n",
    "    10: \"octubre\",\n",
    "    11: \"noviembre\",\n",
    "    12: \"diciembre\"\n",
    "}\n",
    "prueba_norma = {\n",
    "    '(238.2.1)': 'Baremo A con cronómetro',\n",
    "    '(238.2.2)': 'Baremo A con cronómetro y desempate',\n",
    "    '(274.1.5.3)': 'Dos fases, ambas con cronómetro',\n",
    "    '(274.2)': 'Dos fases especial',\n",
    "    '(238.1.1)': 'Baremo A sin cronómetro',\n",
    "    '(274.1.5.2)': 'Dos fases, primera sin cronómetro, segunda con cronómetro',\n",
    "    '(269.3.2)': 'Prueba de potencia',\n",
    "    '(263)': 'Baremo C',\n",
    "    '(273.3.4)': 'Prueba con dos mangas y desempate',\n",
    "    '(239)': 'Baremo A juzgado como Baremo C',\n",
    "    '(264)': 'Prueba de caza',\n",
    "    '(273.3.3.1)': 'Prueba con dos mangas sin desempate',\n",
    "    '(276.2)': 'Prueba con puntuación progresiva',\n",
    "    '(238.1.2)': 'Baremo A sin cronómetro con desempate'\n",
    "}\n",
    "\n"
   ]
  },
  {
   "cell_type": "code",
   "execution_count": 8,
   "id": "b8291366",
   "metadata": {},
   "outputs": [],
   "source": [
    "conn.rollback()"
   ]
  },
  {
   "cell_type": "markdown",
   "id": "0309f095",
   "metadata": {},
   "source": [
    "cuantos caballos por categoría, media de caballos por concurso, y por categoría, concursos que mas caballos han atraído, dinero repartido en premios de media en un concurso de cada categoría, "
   ]
  },
  {
   "cell_type": "code",
   "execution_count": 35,
   "id": "b6921d2b",
   "metadata": {},
   "outputs": [
    {
     "data": {
      "text/html": [
       "<div>\n",
       "<style scoped>\n",
       "    .dataframe tbody tr th:only-of-type {\n",
       "        vertical-align: middle;\n",
       "    }\n",
       "\n",
       "    .dataframe tbody tr th {\n",
       "        vertical-align: top;\n",
       "    }\n",
       "\n",
       "    .dataframe thead th {\n",
       "        text-align: right;\n",
       "    }\n",
       "</style>\n",
       "<table border=\"1\" class=\"dataframe\">\n",
       "  <thead>\n",
       "    <tr style=\"text-align: right;\">\n",
       "      <th></th>\n",
       "      <th>categoria</th>\n",
       "      <th>jinetes</th>\n",
       "      <th>caballos</th>\n",
       "      <th>dinero_medio</th>\n",
       "    </tr>\n",
       "  </thead>\n",
       "  <tbody>\n",
       "    <tr>\n",
       "      <th>0</th>\n",
       "      <td>CSI****</td>\n",
       "      <td>335.25</td>\n",
       "      <td>809.76</td>\n",
       "      <td>393141.89</td>\n",
       "    </tr>\n",
       "    <tr>\n",
       "      <th>1</th>\n",
       "      <td>CSI***</td>\n",
       "      <td>113.11</td>\n",
       "      <td>270.81</td>\n",
       "      <td>262111.37</td>\n",
       "    </tr>\n",
       "    <tr>\n",
       "      <th>2</th>\n",
       "      <td>CSI**</td>\n",
       "      <td>121.86</td>\n",
       "      <td>286.88</td>\n",
       "      <td>91725.00</td>\n",
       "    </tr>\n",
       "    <tr>\n",
       "      <th>3</th>\n",
       "      <td>CSI*</td>\n",
       "      <td>143.44</td>\n",
       "      <td>244.70</td>\n",
       "      <td>83613.54</td>\n",
       "    </tr>\n",
       "    <tr>\n",
       "      <th>4</th>\n",
       "      <td>CSI YH*</td>\n",
       "      <td>154.20</td>\n",
       "      <td>348.28</td>\n",
       "      <td>53165.94</td>\n",
       "    </tr>\n",
       "    <tr>\n",
       "      <th>5</th>\n",
       "      <td>CSN*****</td>\n",
       "      <td>175.92</td>\n",
       "      <td>286.92</td>\n",
       "      <td>37879.63</td>\n",
       "    </tr>\n",
       "    <tr>\n",
       "      <th>6</th>\n",
       "      <td>CSN****</td>\n",
       "      <td>129.00</td>\n",
       "      <td>237.00</td>\n",
       "      <td>26215.00</td>\n",
       "    </tr>\n",
       "    <tr>\n",
       "      <th>7</th>\n",
       "      <td>CSIO Ch/J/Y</td>\n",
       "      <td>77.00</td>\n",
       "      <td>108.00</td>\n",
       "      <td>22900.00</td>\n",
       "    </tr>\n",
       "    <tr>\n",
       "      <th>8</th>\n",
       "      <td>CSN***</td>\n",
       "      <td>77.33</td>\n",
       "      <td>134.87</td>\n",
       "      <td>13119.28</td>\n",
       "    </tr>\n",
       "    <tr>\n",
       "      <th>9</th>\n",
       "      <td>CSN**</td>\n",
       "      <td>124.69</td>\n",
       "      <td>179.20</td>\n",
       "      <td>6156.57</td>\n",
       "    </tr>\n",
       "    <tr>\n",
       "      <th>10</th>\n",
       "      <td>CSNCJ</td>\n",
       "      <td>35.56</td>\n",
       "      <td>44.72</td>\n",
       "      <td>2011.43</td>\n",
       "    </tr>\n",
       "    <tr>\n",
       "      <th>11</th>\n",
       "      <td>CSN*</td>\n",
       "      <td>31.84</td>\n",
       "      <td>37.01</td>\n",
       "      <td>1074.78</td>\n",
       "    </tr>\n",
       "  </tbody>\n",
       "</table>\n",
       "</div>"
      ],
      "text/plain": [
       "      categoria jinetes caballos  dinero_medio\n",
       "0       CSI****  335.25   809.76     393141.89\n",
       "1        CSI***  113.11   270.81     262111.37\n",
       "2         CSI**  121.86   286.88      91725.00\n",
       "3          CSI*  143.44   244.70      83613.54\n",
       "4       CSI YH*  154.20   348.28      53165.94\n",
       "5      CSN*****  175.92   286.92      37879.63\n",
       "6       CSN****  129.00   237.00      26215.00\n",
       "7   CSIO Ch/J/Y   77.00   108.00      22900.00\n",
       "8        CSN***   77.33   134.87      13119.28\n",
       "9         CSN**  124.69   179.20       6156.57\n",
       "10        CSNCJ   35.56    44.72       2011.43\n",
       "11         CSN*   31.84    37.01       1074.78"
      ]
     },
     "execution_count": 35,
     "metadata": {},
     "output_type": "execute_result"
    }
   ],
   "source": [
    "caballos_jinetes_categoria = pd.DataFrame(ejecutor_querys(cur, query_dinero_repartido_concursos))\n",
    "caballos_jinetes_categoria[1] = caballos_jinetes_categoria[1].apply(lambda x: round(x, 2))\n",
    "caballos_jinetes_categoria[2] = caballos_jinetes_categoria[2].apply(lambda x: round(x, 2))\n",
    "caballos_jinetes_categoria[3] = caballos_jinetes_categoria[3].apply(lambda x: round(x, 2))\n",
    "caballos_jinetes_categoria = caballos_jinetes_categoria.rename(columns = {0: \"categoria\", 1: \"jinetes\", 2: \"caballos\", 3: \"dinero_medio\"})\n",
    "caballos_jinetes_categoria"
   ]
  },
  {
   "cell_type": "code",
   "execution_count": 10,
   "id": "7c23c0ec",
   "metadata": {},
   "outputs": [
    {
     "data": {
      "text/plain": [
       "[('(238.2.1)', 450),\n",
       " ('(238.2.2)', 205),\n",
       " ('(274.1.5.3)', 198),\n",
       " ('(274.2)', 126),\n",
       " ('(238.1.1)', 87),\n",
       " ('(274.1.5.2)', 33),\n",
       " ('(269.3.2)', 15),\n",
       " ('(263)', 9),\n",
       " ('(273.3.4)', 9),\n",
       " ('(239)', 2),\n",
       " ('(264)', 2),\n",
       " ('(273.3.3.1)', 2),\n",
       " ('(276.2)', 2),\n",
       " ('(238.1.2)', 1)]"
      ]
     },
     "execution_count": 10,
     "metadata": {},
     "output_type": "execute_result"
    }
   ],
   "source": [
    "tipos_pruebas = ejecutor_querys(cur, query_pruebas)\n",
    "tipos_pruebas "
   ]
  },
  {
   "cell_type": "code",
   "execution_count": 11,
   "id": "fbf7815c",
   "metadata": {},
   "outputs": [],
   "source": [
    "federaciones = ejecutor_querys(cur, query_concursos_federacion)"
   ]
  },
  {
   "cell_type": "code",
   "execution_count": 12,
   "id": "0bff85d4",
   "metadata": {},
   "outputs": [],
   "source": [
    "concursos_provincias = ejecutor_querys(cur, query_concursos_provincia)"
   ]
  },
  {
   "cell_type": "code",
   "execution_count": 13,
   "id": "998f3132",
   "metadata": {},
   "outputs": [],
   "source": [
    "localidades = ejecutor_querys(cur, query_concursos_localidad)"
   ]
  },
  {
   "cell_type": "code",
   "execution_count": 14,
   "id": "990d4675",
   "metadata": {},
   "outputs": [
    {
     "name": "stdout",
     "output_type": "stream",
     "text": [
      "\n",
      "      Se han celebrado un total de 122 concursos, entre el 2025-01-10 y el 2025-04-27. Un 73 % de los concursos han sido de \n",
      "      ámbito internacional, frente a los de ámbito nacional, que representan un 26 % del total. La duración media de los concursos \n",
      "      es de 3 días. \n",
      "\n",
      "      El mes que más concursos se han realizado ha sido febrero, con un total de 41 concursos, y el mes que menos concursos se han realizado ha sido el mes de abril, \n",
      "      con un total de 21 concursos. La provincia en la que más concursos se han realizado ha sido Valencia, y la provincia en la que menos se han realizado ha sido Córdoba.\n",
      "\n",
      "      De media en un concurso se realizan 13 pruebas. Nos encontramos con 14 tipos de pruebas diferentes, siendo las más comunes las siguientes: \n",
      "      - Baremo A con cronómetro\n",
      "      - Baremo A con cronómetro y desempate\n",
      "      - Dos fases, ambas con cronómetro\n",
      "      - Dos fases especial\n",
      "\n",
      "      de media \n",
      "\n",
      "      \n"
     ]
    }
   ],
   "source": [
    "n_concursos = ejecutor_querys(cur, query_n_concursos)\n",
    "fechas_concursos_25 = ejecutor_querys(cur, query_fechas_concursos)\n",
    "n_concursos_mes = ejecutor_querys(cur, query_concursos_mes)\n",
    "n_concursos_ambito= ejecutor_querys(cur, query_concursos_ambito)\n",
    "media_pruebas_concurso = ejecutor_querys(cur, query_concursos_pruebas_concurso)\n",
    "tipos_pruebas = ejecutor_querys(cur, query_pruebas)\n",
    "\n",
    "print(f\"\"\"\n",
    "      Se han celebrado un total de {n_concursos[0][0]} concursos, entre el {str(fechas_concursos_25[0][0])} y el {str(fechas_concursos_25[0][1])}. Un {n_concursos_ambito[0][1]} de los concursos han sido de \n",
    "      ámbito {str(n_concursos_ambito[0][0]).lower()}, frente a los de ámbito {str(n_concursos_ambito[1][0]).lower()}, que representan un {n_concursos_ambito[1][1]} del total. La duración media de los concursos \n",
    "      es de {int(ejecutor_querys(cur, query_duracion_concursos)[0][0])} días. \n",
    "      \n",
    "      El mes que más concursos se han realizado ha sido {meses[int(n_concursos_mes[0][0])]}, con un total de {n_concursos_mes[0][1]} concursos, y el mes que menos concursos se han realizado ha sido el mes de {meses[int(n_concursos_mes[-1][0])]}, \n",
    "      con un total de {n_concursos_mes[-1][1]} concursos. La provincia en la que más concursos se han realizado ha sido {concursos_provincias[0][0]}, y la provincia en la que menos se han realizado ha sido {concursos_provincias[-1][0]}.\n",
    "      \n",
    "      De media en un concurso se realizan {str(media_pruebas_concurso[0][0]).replace('.', ',')} pruebas. Nos encontramos con {len(tipos_pruebas)} tipos de pruebas diferentes, siendo las más comunes las siguientes: \n",
    "      - {prueba_norma[tipos_pruebas[0][0]]}\n",
    "      - {prueba_norma[tipos_pruebas[1][0]]}\n",
    "      - {prueba_norma[tipos_pruebas[2][0]]}\n",
    "      - {prueba_norma[tipos_pruebas[3][0]]}\n",
    "      \n",
    "      de media \n",
    "\n",
    "      \"\"\")\n",
    "\n"
   ]
  },
  {
   "cell_type": "code",
   "execution_count": 15,
   "id": "5b95aecb",
   "metadata": {},
   "outputs": [
    {
     "data": {
      "text/html": [
       "<div>\n",
       "<style scoped>\n",
       "    .dataframe tbody tr th:only-of-type {\n",
       "        vertical-align: middle;\n",
       "    }\n",
       "\n",
       "    .dataframe tbody tr th {\n",
       "        vertical-align: top;\n",
       "    }\n",
       "\n",
       "    .dataframe thead th {\n",
       "        text-align: right;\n",
       "    }\n",
       "</style>\n",
       "<table border=\"1\" class=\"dataframe\">\n",
       "  <thead>\n",
       "    <tr style=\"text-align: right;\">\n",
       "      <th></th>\n",
       "      <th>id_concurso</th>\n",
       "      <th>nombre_concurso</th>\n",
       "      <th>categoria_concurso</th>\n",
       "      <th>pais_concurso</th>\n",
       "      <th>provincia_concurso</th>\n",
       "      <th>localidad_concurso</th>\n",
       "      <th>ambito_concurso</th>\n",
       "      <th>federacion_concurso</th>\n",
       "      <th>fecha_inicio_concurso</th>\n",
       "      <th>fecha_fin_concurso</th>\n",
       "    </tr>\n",
       "  </thead>\n",
       "  <tbody>\n",
       "    <tr>\n",
       "      <th>0</th>\n",
       "      <td>1</td>\n",
       "      <td>CSN3* Invierno</td>\n",
       "      <td>CSN***</td>\n",
       "      <td>Epaña</td>\n",
       "      <td>Sevilla</td>\n",
       "      <td>Real Club Pineda</td>\n",
       "      <td>Nacional</td>\n",
       "      <td>Federación Hípica Andaluza</td>\n",
       "      <td>2025-01-10</td>\n",
       "      <td>2025-01-12</td>\n",
       "    </tr>\n",
       "    <tr>\n",
       "      <th>1</th>\n",
       "      <td>2</td>\n",
       "      <td>SPRING MET I 2025 YH*</td>\n",
       "      <td>CSI YH*</td>\n",
       "      <td>Epaña</td>\n",
       "      <td>Valencia</td>\n",
       "      <td>Centro Ecuestre Oliva Nova</td>\n",
       "      <td>Internacional</td>\n",
       "      <td>Federación Hípica Comunidad Valenciana</td>\n",
       "      <td>2025-01-14</td>\n",
       "      <td>2025-01-16</td>\n",
       "    </tr>\n",
       "    <tr>\n",
       "      <th>2</th>\n",
       "      <td>3</td>\n",
       "      <td>MOURA TOURS VALENCIA - SPRING TOUR</td>\n",
       "      <td>CSI*</td>\n",
       "      <td>Epaña</td>\n",
       "      <td>Valencia</td>\n",
       "      <td>Moura Tours</td>\n",
       "      <td>Internacional</td>\n",
       "      <td>Federación Hípica Comunidad Valenciana</td>\n",
       "      <td>2025-01-20</td>\n",
       "      <td>2025-01-26</td>\n",
       "    </tr>\n",
       "    <tr>\n",
       "      <th>3</th>\n",
       "      <td>4</td>\n",
       "      <td>SPRING MET I 2025 - SILVER 1*</td>\n",
       "      <td>CSI*</td>\n",
       "      <td>Epaña</td>\n",
       "      <td>Valencia</td>\n",
       "      <td>Centro Ecuestre Oliva Nova</td>\n",
       "      <td>Internacional</td>\n",
       "      <td>Federación Hípica Comunidad Valenciana</td>\n",
       "      <td>2025-01-16</td>\n",
       "      <td>2025-01-18</td>\n",
       "    </tr>\n",
       "    <tr>\n",
       "      <th>4</th>\n",
       "      <td>5</td>\n",
       "      <td>SPRING MET I 2025 - GOLD 2*</td>\n",
       "      <td>CSI**</td>\n",
       "      <td>Epaña</td>\n",
       "      <td>Valencia</td>\n",
       "      <td>Centro Ecuestre Oliva Nova</td>\n",
       "      <td>Internacional</td>\n",
       "      <td>Federación Hípica Comunidad Valenciana</td>\n",
       "      <td>2025-01-16</td>\n",
       "      <td>2025-01-19</td>\n",
       "    </tr>\n",
       "  </tbody>\n",
       "</table>\n",
       "</div>"
      ],
      "text/plain": [
       "   id_concurso                     nombre_concurso categoria_concurso  \\\n",
       "0            1                      CSN3* Invierno             CSN***   \n",
       "1            2               SPRING MET I 2025 YH*            CSI YH*   \n",
       "2            3  MOURA TOURS VALENCIA - SPRING TOUR               CSI*   \n",
       "3            4       SPRING MET I 2025 - SILVER 1*               CSI*   \n",
       "4            5         SPRING MET I 2025 - GOLD 2*              CSI**   \n",
       "\n",
       "  pais_concurso provincia_concurso          localidad_concurso  \\\n",
       "0         Epaña            Sevilla            Real Club Pineda   \n",
       "1         Epaña           Valencia  Centro Ecuestre Oliva Nova   \n",
       "2         Epaña           Valencia                 Moura Tours   \n",
       "3         Epaña           Valencia  Centro Ecuestre Oliva Nova   \n",
       "4         Epaña           Valencia  Centro Ecuestre Oliva Nova   \n",
       "\n",
       "  ambito_concurso                     federacion_concurso  \\\n",
       "0        Nacional              Federación Hípica Andaluza   \n",
       "1   Internacional  Federación Hípica Comunidad Valenciana   \n",
       "2   Internacional  Federación Hípica Comunidad Valenciana   \n",
       "3   Internacional  Federación Hípica Comunidad Valenciana   \n",
       "4   Internacional  Federación Hípica Comunidad Valenciana   \n",
       "\n",
       "  fecha_inicio_concurso fecha_fin_concurso  \n",
       "0            2025-01-10         2025-01-12  \n",
       "1            2025-01-14         2025-01-16  \n",
       "2            2025-01-20         2025-01-26  \n",
       "3            2025-01-16         2025-01-18  \n",
       "4            2025-01-16         2025-01-19  "
      ]
     },
     "execution_count": 15,
     "metadata": {},
     "output_type": "execute_result"
    }
   ],
   "source": [
    "concursos = pd.DataFrame(ejecutor_querys(cur, query_concursos_completos)).rename(columns = {0: \"id_concurso\", 1: \"nombre_concurso\", 2: \"categoria_concurso\", 3: \"pais_concurso\", 4: \"provincia_concurso\", 5: \"localidad_concurso\", 6: \"ambito_concurso\", 7: \"federacion_concurso\", 8: \"fecha_inicio_concurso\", 9: \"fecha_fin_concurso\"})\n",
    "concursos.head()"
   ]
  },
  {
   "cell_type": "code",
   "execution_count": 16,
   "id": "02bd568c",
   "metadata": {},
   "outputs": [
    {
     "data": {
      "application/vnd.plotly.v1+json": {
       "config": {
        "plotlyServerURL": "https://plot.ly"
       },
       "data": [
        {
         "domain": {
          "x": [
           0,
           1
          ],
          "y": [
           0,
           1
          ]
         },
         "hovertemplate": "0=%{label}<br>1=%{value}<extra></extra>",
         "labels": [
          "Internacional",
          "Nacional"
         ],
         "legendgroup": "",
         "name": "",
         "showlegend": true,
         "type": "pie",
         "values": {
          "bdata": "SRo=",
          "dtype": "i1"
         }
        }
       ],
       "layout": {
        "height": 500,
        "legend": {
         "tracegroupgap": 0
        },
        "template": {
         "data": {
          "bar": [
           {
            "error_x": {
             "color": "#2a3f5f"
            },
            "error_y": {
             "color": "#2a3f5f"
            },
            "marker": {
             "line": {
              "color": "#E5ECF6",
              "width": 0.5
             },
             "pattern": {
              "fillmode": "overlay",
              "size": 10,
              "solidity": 0.2
             }
            },
            "type": "bar"
           }
          ],
          "barpolar": [
           {
            "marker": {
             "line": {
              "color": "#E5ECF6",
              "width": 0.5
             },
             "pattern": {
              "fillmode": "overlay",
              "size": 10,
              "solidity": 0.2
             }
            },
            "type": "barpolar"
           }
          ],
          "carpet": [
           {
            "aaxis": {
             "endlinecolor": "#2a3f5f",
             "gridcolor": "white",
             "linecolor": "white",
             "minorgridcolor": "white",
             "startlinecolor": "#2a3f5f"
            },
            "baxis": {
             "endlinecolor": "#2a3f5f",
             "gridcolor": "white",
             "linecolor": "white",
             "minorgridcolor": "white",
             "startlinecolor": "#2a3f5f"
            },
            "type": "carpet"
           }
          ],
          "choropleth": [
           {
            "colorbar": {
             "outlinewidth": 0,
             "ticks": ""
            },
            "type": "choropleth"
           }
          ],
          "contour": [
           {
            "colorbar": {
             "outlinewidth": 0,
             "ticks": ""
            },
            "colorscale": [
             [
              0,
              "#0d0887"
             ],
             [
              0.1111111111111111,
              "#46039f"
             ],
             [
              0.2222222222222222,
              "#7201a8"
             ],
             [
              0.3333333333333333,
              "#9c179e"
             ],
             [
              0.4444444444444444,
              "#bd3786"
             ],
             [
              0.5555555555555556,
              "#d8576b"
             ],
             [
              0.6666666666666666,
              "#ed7953"
             ],
             [
              0.7777777777777778,
              "#fb9f3a"
             ],
             [
              0.8888888888888888,
              "#fdca26"
             ],
             [
              1,
              "#f0f921"
             ]
            ],
            "type": "contour"
           }
          ],
          "contourcarpet": [
           {
            "colorbar": {
             "outlinewidth": 0,
             "ticks": ""
            },
            "type": "contourcarpet"
           }
          ],
          "heatmap": [
           {
            "colorbar": {
             "outlinewidth": 0,
             "ticks": ""
            },
            "colorscale": [
             [
              0,
              "#0d0887"
             ],
             [
              0.1111111111111111,
              "#46039f"
             ],
             [
              0.2222222222222222,
              "#7201a8"
             ],
             [
              0.3333333333333333,
              "#9c179e"
             ],
             [
              0.4444444444444444,
              "#bd3786"
             ],
             [
              0.5555555555555556,
              "#d8576b"
             ],
             [
              0.6666666666666666,
              "#ed7953"
             ],
             [
              0.7777777777777778,
              "#fb9f3a"
             ],
             [
              0.8888888888888888,
              "#fdca26"
             ],
             [
              1,
              "#f0f921"
             ]
            ],
            "type": "heatmap"
           }
          ],
          "histogram": [
           {
            "marker": {
             "pattern": {
              "fillmode": "overlay",
              "size": 10,
              "solidity": 0.2
             }
            },
            "type": "histogram"
           }
          ],
          "histogram2d": [
           {
            "colorbar": {
             "outlinewidth": 0,
             "ticks": ""
            },
            "colorscale": [
             [
              0,
              "#0d0887"
             ],
             [
              0.1111111111111111,
              "#46039f"
             ],
             [
              0.2222222222222222,
              "#7201a8"
             ],
             [
              0.3333333333333333,
              "#9c179e"
             ],
             [
              0.4444444444444444,
              "#bd3786"
             ],
             [
              0.5555555555555556,
              "#d8576b"
             ],
             [
              0.6666666666666666,
              "#ed7953"
             ],
             [
              0.7777777777777778,
              "#fb9f3a"
             ],
             [
              0.8888888888888888,
              "#fdca26"
             ],
             [
              1,
              "#f0f921"
             ]
            ],
            "type": "histogram2d"
           }
          ],
          "histogram2dcontour": [
           {
            "colorbar": {
             "outlinewidth": 0,
             "ticks": ""
            },
            "colorscale": [
             [
              0,
              "#0d0887"
             ],
             [
              0.1111111111111111,
              "#46039f"
             ],
             [
              0.2222222222222222,
              "#7201a8"
             ],
             [
              0.3333333333333333,
              "#9c179e"
             ],
             [
              0.4444444444444444,
              "#bd3786"
             ],
             [
              0.5555555555555556,
              "#d8576b"
             ],
             [
              0.6666666666666666,
              "#ed7953"
             ],
             [
              0.7777777777777778,
              "#fb9f3a"
             ],
             [
              0.8888888888888888,
              "#fdca26"
             ],
             [
              1,
              "#f0f921"
             ]
            ],
            "type": "histogram2dcontour"
           }
          ],
          "mesh3d": [
           {
            "colorbar": {
             "outlinewidth": 0,
             "ticks": ""
            },
            "type": "mesh3d"
           }
          ],
          "parcoords": [
           {
            "line": {
             "colorbar": {
              "outlinewidth": 0,
              "ticks": ""
             }
            },
            "type": "parcoords"
           }
          ],
          "pie": [
           {
            "automargin": true,
            "type": "pie"
           }
          ],
          "scatter": [
           {
            "fillpattern": {
             "fillmode": "overlay",
             "size": 10,
             "solidity": 0.2
            },
            "type": "scatter"
           }
          ],
          "scatter3d": [
           {
            "line": {
             "colorbar": {
              "outlinewidth": 0,
              "ticks": ""
             }
            },
            "marker": {
             "colorbar": {
              "outlinewidth": 0,
              "ticks": ""
             }
            },
            "type": "scatter3d"
           }
          ],
          "scattercarpet": [
           {
            "marker": {
             "colorbar": {
              "outlinewidth": 0,
              "ticks": ""
             }
            },
            "type": "scattercarpet"
           }
          ],
          "scattergeo": [
           {
            "marker": {
             "colorbar": {
              "outlinewidth": 0,
              "ticks": ""
             }
            },
            "type": "scattergeo"
           }
          ],
          "scattergl": [
           {
            "marker": {
             "colorbar": {
              "outlinewidth": 0,
              "ticks": ""
             }
            },
            "type": "scattergl"
           }
          ],
          "scattermap": [
           {
            "marker": {
             "colorbar": {
              "outlinewidth": 0,
              "ticks": ""
             }
            },
            "type": "scattermap"
           }
          ],
          "scattermapbox": [
           {
            "marker": {
             "colorbar": {
              "outlinewidth": 0,
              "ticks": ""
             }
            },
            "type": "scattermapbox"
           }
          ],
          "scatterpolar": [
           {
            "marker": {
             "colorbar": {
              "outlinewidth": 0,
              "ticks": ""
             }
            },
            "type": "scatterpolar"
           }
          ],
          "scatterpolargl": [
           {
            "marker": {
             "colorbar": {
              "outlinewidth": 0,
              "ticks": ""
             }
            },
            "type": "scatterpolargl"
           }
          ],
          "scatterternary": [
           {
            "marker": {
             "colorbar": {
              "outlinewidth": 0,
              "ticks": ""
             }
            },
            "type": "scatterternary"
           }
          ],
          "surface": [
           {
            "colorbar": {
             "outlinewidth": 0,
             "ticks": ""
            },
            "colorscale": [
             [
              0,
              "#0d0887"
             ],
             [
              0.1111111111111111,
              "#46039f"
             ],
             [
              0.2222222222222222,
              "#7201a8"
             ],
             [
              0.3333333333333333,
              "#9c179e"
             ],
             [
              0.4444444444444444,
              "#bd3786"
             ],
             [
              0.5555555555555556,
              "#d8576b"
             ],
             [
              0.6666666666666666,
              "#ed7953"
             ],
             [
              0.7777777777777778,
              "#fb9f3a"
             ],
             [
              0.8888888888888888,
              "#fdca26"
             ],
             [
              1,
              "#f0f921"
             ]
            ],
            "type": "surface"
           }
          ],
          "table": [
           {
            "cells": {
             "fill": {
              "color": "#EBF0F8"
             },
             "line": {
              "color": "white"
             }
            },
            "header": {
             "fill": {
              "color": "#C8D4E3"
             },
             "line": {
              "color": "white"
             }
            },
            "type": "table"
           }
          ]
         },
         "layout": {
          "annotationdefaults": {
           "arrowcolor": "#2a3f5f",
           "arrowhead": 0,
           "arrowwidth": 1
          },
          "autotypenumbers": "strict",
          "coloraxis": {
           "colorbar": {
            "outlinewidth": 0,
            "ticks": ""
           }
          },
          "colorscale": {
           "diverging": [
            [
             0,
             "#8e0152"
            ],
            [
             0.1,
             "#c51b7d"
            ],
            [
             0.2,
             "#de77ae"
            ],
            [
             0.3,
             "#f1b6da"
            ],
            [
             0.4,
             "#fde0ef"
            ],
            [
             0.5,
             "#f7f7f7"
            ],
            [
             0.6,
             "#e6f5d0"
            ],
            [
             0.7,
             "#b8e186"
            ],
            [
             0.8,
             "#7fbc41"
            ],
            [
             0.9,
             "#4d9221"
            ],
            [
             1,
             "#276419"
            ]
           ],
           "sequential": [
            [
             0,
             "#0d0887"
            ],
            [
             0.1111111111111111,
             "#46039f"
            ],
            [
             0.2222222222222222,
             "#7201a8"
            ],
            [
             0.3333333333333333,
             "#9c179e"
            ],
            [
             0.4444444444444444,
             "#bd3786"
            ],
            [
             0.5555555555555556,
             "#d8576b"
            ],
            [
             0.6666666666666666,
             "#ed7953"
            ],
            [
             0.7777777777777778,
             "#fb9f3a"
            ],
            [
             0.8888888888888888,
             "#fdca26"
            ],
            [
             1,
             "#f0f921"
            ]
           ],
           "sequentialminus": [
            [
             0,
             "#0d0887"
            ],
            [
             0.1111111111111111,
             "#46039f"
            ],
            [
             0.2222222222222222,
             "#7201a8"
            ],
            [
             0.3333333333333333,
             "#9c179e"
            ],
            [
             0.4444444444444444,
             "#bd3786"
            ],
            [
             0.5555555555555556,
             "#d8576b"
            ],
            [
             0.6666666666666666,
             "#ed7953"
            ],
            [
             0.7777777777777778,
             "#fb9f3a"
            ],
            [
             0.8888888888888888,
             "#fdca26"
            ],
            [
             1,
             "#f0f921"
            ]
           ]
          },
          "colorway": [
           "#636efa",
           "#EF553B",
           "#00cc96",
           "#ab63fa",
           "#FFA15A",
           "#19d3f3",
           "#FF6692",
           "#B6E880",
           "#FF97FF",
           "#FECB52"
          ],
          "font": {
           "color": "#2a3f5f"
          },
          "geo": {
           "bgcolor": "white",
           "lakecolor": "white",
           "landcolor": "#E5ECF6",
           "showlakes": true,
           "showland": true,
           "subunitcolor": "white"
          },
          "hoverlabel": {
           "align": "left"
          },
          "hovermode": "closest",
          "mapbox": {
           "style": "light"
          },
          "paper_bgcolor": "white",
          "plot_bgcolor": "#E5ECF6",
          "polar": {
           "angularaxis": {
            "gridcolor": "white",
            "linecolor": "white",
            "ticks": ""
           },
           "bgcolor": "#E5ECF6",
           "radialaxis": {
            "gridcolor": "white",
            "linecolor": "white",
            "ticks": ""
           }
          },
          "scene": {
           "xaxis": {
            "backgroundcolor": "#E5ECF6",
            "gridcolor": "white",
            "gridwidth": 2,
            "linecolor": "white",
            "showbackground": true,
            "ticks": "",
            "zerolinecolor": "white"
           },
           "yaxis": {
            "backgroundcolor": "#E5ECF6",
            "gridcolor": "white",
            "gridwidth": 2,
            "linecolor": "white",
            "showbackground": true,
            "ticks": "",
            "zerolinecolor": "white"
           },
           "zaxis": {
            "backgroundcolor": "#E5ECF6",
            "gridcolor": "white",
            "gridwidth": 2,
            "linecolor": "white",
            "showbackground": true,
            "ticks": "",
            "zerolinecolor": "white"
           }
          },
          "shapedefaults": {
           "line": {
            "color": "#2a3f5f"
           }
          },
          "ternary": {
           "aaxis": {
            "gridcolor": "white",
            "linecolor": "white",
            "ticks": ""
           },
           "baxis": {
            "gridcolor": "white",
            "linecolor": "white",
            "ticks": ""
           },
           "bgcolor": "#E5ECF6",
           "caxis": {
            "gridcolor": "white",
            "linecolor": "white",
            "ticks": ""
           }
          },
          "title": {
           "x": 0.05
          },
          "xaxis": {
           "automargin": true,
           "gridcolor": "white",
           "linecolor": "white",
           "ticks": "",
           "title": {
            "standoff": 15
           },
           "zerolinecolor": "white",
           "zerolinewidth": 2
          },
          "yaxis": {
           "automargin": true,
           "gridcolor": "white",
           "linecolor": "white",
           "ticks": "",
           "title": {
            "standoff": 15
           },
           "zerolinecolor": "white",
           "zerolinewidth": 2
          }
         }
        },
        "title": {
         "text": "Porcentaje de concursos por ámbito"
        },
        "width": 800
       }
      }
     },
     "metadata": {},
     "output_type": "display_data"
    }
   ],
   "source": [
    "df = pd.DataFrame(n_concursos_ambito)\n",
    "# Convert percentage strings to integers\n",
    "df[1] = df[1].str.replace('%', '').str.strip().astype(int)\n",
    "fig = px.pie(df, values=1, names=0, title = 'Porcentaje de concursos por ámbito')\n",
    "fig.update_layout(width=800, height=500)\n",
    "fig.show()"
   ]
  },
  {
   "cell_type": "code",
   "execution_count": 17,
   "id": "adf195a7",
   "metadata": {},
   "outputs": [
    {
     "data": {
      "text/plain": [
       "{'Asturias': ['Club Hipico Astur'],\n",
       " 'Barcelona': ['Real Club De Polo De Barcelona', 'Open Sports Club'],\n",
       " 'Cantabria': ['Heras Horses & Events'],\n",
       " 'Cádiz': ['Dehesa Montenmedio'],\n",
       " 'Córdoba': ['Palma Del Rio'],\n",
       " 'Granada': ['Granada'],\n",
       " 'Madrid': ['Club Hipico Las Cadenas',\n",
       "  'R.A.C.E.',\n",
       "  'Las Cadenas',\n",
       "  'R.S.H.E.C.C.'],\n",
       " 'Murcia': ['Club Aros'],\n",
       " 'Segovia': ['Cenro Ecuestre De Castilla Y León'],\n",
       " 'Sevilla': ['Real Club Pineda'],\n",
       " 'Tenerife': ['C.H Nueva Atalaya', 'C.H. Del Sur Los Migueles'],\n",
       " 'Valencia': ['Centro Ecuestre Oliva Nova',\n",
       "  'Moura Tours',\n",
       "  'Ceon',\n",
       "  'Mouratours Valencia',\n",
       "  'Mouratours'],\n",
       " 'Zamora': ['Equus Duri']}"
      ]
     },
     "execution_count": 17,
     "metadata": {},
     "output_type": "execute_result"
    }
   ],
   "source": [
    "# Suponiendo que tu DataFrame se llama df\n",
    "diccionario = concursos.groupby('provincia_concurso')['localidad_concurso'].unique().apply(list).to_dict()\n",
    "diccionario"
   ]
  },
  {
   "cell_type": "markdown",
   "id": "dd137c0e",
   "metadata": {},
   "source": [
    "## Análisis de jinetes y caballos (binomios)"
   ]
  },
  {
   "cell_type": "code",
   "execution_count": 26,
   "id": "1c70da08",
   "metadata": {},
   "outputs": [],
   "source": [
    "query_jinetes = \"\"\"\n",
    "        \n",
    "        SELECT \n",
    "            DISTINCT COUNT(id_jinete)\n",
    "        FROM jinetes j; \n",
    "\n",
    "\"\"\"\n",
    "query_caballos = \"\"\"\n",
    "        \n",
    "        SELECT \n",
    "            DISTINCT COUNT(id_caballo)\n",
    "        FROM caballos c; \n",
    "\n",
    "\"\"\"\n",
    "\n",
    "query_binomios = \"\"\"\n",
    "\n",
    "        SELECT \n",
    "            DISTINCT COUNT(CONCAT(j.id_jinete, '-', c.id_caballo))\n",
    "        FROM resultados r\n",
    "            JOIN jinetes j ON r.id_jinete = j.id_jinete\n",
    "            JOIN caballos c ON r.id_caballo = c.id_caballo\n",
    "\"\"\"\n",
    "\n",
    "query_resultados_jinete = \"\"\"\n",
    "\n",
    "        SELECT \n",
    "            j.nombre_jinete,\n",
    "            ROUND(AVG(r.puesto))\n",
    "        FROM resultados r\n",
    "            JOIN jinetes j ON r.id_jinete = j.id_jinete\n",
    "            JOIN resultados_salto rs ON r.id_resultado = rs.id_resultado\n",
    "        GROUP BY j.nombre_jinete\n",
    "        ORDER BY 2 ASC;\n",
    "\n",
    "\"\"\"\n",
    "tipos_categorias = \"\"\"\n",
    "        SELECT \n",
    "            DISTINCT categoria_concurso\n",
    "        FROM concursos c;\n",
    "\"\"\"\n",
    "\n",
    "query_resultados_jinete_2 = \"\"\"\n",
    "        SELECT \n",
    "            c.categoria_concurso,\n",
    "            p.nombre_prueba\n",
    "\n",
    "        FROM resultados r\n",
    "        JOIN jinetes j ON r.id_jinete = j.id_jinete\n",
    "        JOIN concursos c ON r.id_concurso = c.id_concurso\n",
    "        JOIN resultados_salto rs ON r.id_resultado = rs.id_resultado\n",
    "        JOIN pruebas p ON r.id_prueba = p.id_prueba\n",
    "        GROUP BY c.categoria_concurso, p.nombre_prueba\n",
    "\n",
    "        ;\n",
    "\"\"\"\n",
    "dinero_concurso_categoria = \"\"\"\n",
    "        WITH DineroTotalPorConcurso AS (\n",
    "        SELECT\n",
    "            r.id_concurso,\n",
    "            SUM(r.dinero_premio) AS total_premio_concurso\n",
    "        FROM resultados r\n",
    "        GROUP BY r.id_concurso\n",
    "        )\n",
    "        SELECT\n",
    "            c.categoria_concurso,\n",
    "            AVG(dtpc.total_premio_concurso) AS media_dinero_premio_por_concurso\n",
    "        FROM concursos c\n",
    "        JOIN DineroTotalPorConcurso dtpc ON c.id_concurso = dtpc.id_concurso\n",
    "        GROUP BY c.categoria_concurso\n",
    "        ORDER BY c.categoria_concurso ;\n",
    "        \"\"\"\n",
    "\n"
   ]
  },
  {
   "cell_type": "code",
   "execution_count": 19,
   "id": "d1b4e5c0",
   "metadata": {},
   "outputs": [],
   "source": [
    "conn.rollback()"
   ]
  },
  {
   "cell_type": "markdown",
   "id": "b59886c5",
   "metadata": {},
   "source": [
    "en cada tipo de prueba, que jinete es mejor/ al revés, y ver que jinete como overall es mejor y el mejor caballo, hacer un top 10. Ver si hay correlacion entre ganar y haber sido/mas rapido/tener mas o menos puntos en cada tipo de prueba. Dividir por categoría"
   ]
  },
  {
   "cell_type": "code",
   "execution_count": 27,
   "id": "0bef456d",
   "metadata": {},
   "outputs": [
    {
     "data": {
      "text/plain": [
       "[('CSI YH*', 27653.0),\n",
       " ('CSI*', 30654.958333333332),\n",
       " ('CSI**', 95267.16666666667),\n",
       " ('CSI***', 191423.87333333338),\n",
       " ('CSI****', 375993.0),\n",
       " ('CSIO Ch/J/Y', 22900.0),\n",
       " ('CSN*', 515.0),\n",
       " ('CSN**', 5542.944166666667),\n",
       " ('CSN***', 11167.205555555554),\n",
       " ('CSN****', 26215.0),\n",
       " ('CSN*****', 37170.0),\n",
       " ('CSNCJ', 1585.3333333333333)]"
      ]
     },
     "execution_count": 27,
     "metadata": {},
     "output_type": "execute_result"
    }
   ],
   "source": [
    "ejecutor_querys(cur , dinero_concurso_categoria)"
   ]
  },
  {
   "cell_type": "code",
   "execution_count": 20,
   "id": "e785bb6d",
   "metadata": {},
   "outputs": [
    {
     "name": "stdout",
     "output_type": "stream",
     "text": [
      "\n",
      "      Ha habido una participación de un total de 72680 binomios en los concursos. A continuación realizamos un análisis de los binomios, en función\n",
      "      de los resultados obtenidos en los concursos.\n",
      "      \n"
     ]
    }
   ],
   "source": [
    "print(f\"\"\"\n",
    "      Ha habido una participación de un total de {ejecutor_querys(cur, query_binomios)[0][0]} binomios en los concursos. A continuación realizamos un análisis de los binomios, en función\n",
    "      de los resultados obtenidos en los concursos.\n",
    "      \"\"\")"
   ]
  },
  {
   "cell_type": "code",
   "execution_count": 21,
   "id": "f54477ac",
   "metadata": {},
   "outputs": [],
   "source": [
    "pd.set_option('display.max_columns', None)"
   ]
  },
  {
   "cell_type": "markdown",
   "id": "cd05e695",
   "metadata": {},
   "source": [
    "- CSNCJ:nacional caballos jovenes\n",
    "- CSIO Ch/J/Y: internacional children, junior, young rider\n",
    "- CSI YH: internacional young horse"
   ]
  },
  {
   "cell_type": "markdown",
   "id": "57eeb6c1",
   "metadata": {},
   "source": [
    "## Dividimos entre categorías nacionales e internacionales"
   ]
  },
  {
   "cell_type": "code",
   "execution_count": 22,
   "id": "e76a44a4",
   "metadata": {},
   "outputs": [],
   "source": [
    "conn.rollback()"
   ]
  },
  {
   "cell_type": "code",
   "execution_count": 23,
   "id": "56de9877",
   "metadata": {},
   "outputs": [],
   "source": [
    "df = pd.DataFrame(ejecutor_querys(cur, query_resultados_jinete_2))\n",
    "diccionario_agrupado = df.groupby(0)[1].apply(list).to_dict()"
   ]
  },
  {
   "cell_type": "code",
   "execution_count": 24,
   "id": "59f621c3",
   "metadata": {},
   "outputs": [
    {
     "data": {
      "text/plain": [
       "{'CSI YH*': ['5 años - 1,20 - A.c.c. y desempate (238.2.2)',\n",
       "  '6 años - 1,30 - A c.c. (238.2.1)',\n",
       "  '1,10 - A c.c. (238.2.1)',\n",
       "  '1,35 (G) - Dos Fases (274.1.5.3)',\n",
       "  '6 años - 1,20 - 2 fases Asc / Acc (274.1.5.2)',\n",
       "  '5 años - 1,15 - A.c.c. y desempate (238.2.2)',\n",
       "  '7 años - 1,30 - A c.c. (238.2.1)',\n",
       "  '8 años - 1,45 - A.c.c y desempate (238.2.2)',\n",
       "  '8 años - 1,45 - A.c.c. (238.2.1)',\n",
       "  '6 años - 1,25 - Dos Fases Especial (274.2)',\n",
       "  '1,40 (G) - Dos Fases (274.1.5.3)',\n",
       "  '7 años - 1,25 - A c.c. (238.2.1)',\n",
       "  '1,20 - A c.c. (238.2.1)',\n",
       "  '7 años - 1,30 - Dos Fases (274.1.5.3)',\n",
       "  '7 años - 1,35 - A sin cronómetro (238.1.1)',\n",
       "  '5 años - 1,10 - Dos Fases (274.1.5.3)',\n",
       "  '5 años - 1,15 - Dos Fases (274.1.5.3)',\n",
       "  '6 años - 1,25 - A.c.c. y desempate (238.2.2)',\n",
       "  '7 años - 1,35 - Dos Fases (274.1.5.3)',\n",
       "  '1,20 - A.c.c. y desempate (238.2.2)',\n",
       "  '7 años - 8 años - A.c.c (238.2.1)',\n",
       "  '1,35 (G) - A.c.c. y desempate (238.2.2)',\n",
       "  '8 años - 1,40 - A.c.c. (238.2.1)',\n",
       "  '5 años - 1,05 - A sin cronómetro (238.1.1)',\n",
       "  '7 años - 1,35 - Dos Fases Especial (274.2)',\n",
       "  '6 años - 1,25 - A sin cronómetro (238.1.1)',\n",
       "  '5 años - 1,20 - A sin cronómetro (238.1.1)',\n",
       "  '7 años - 1,40 - A.c.c. y desempate (238.2.2)',\n",
       "  '6 años - 1,15 - A sin cronómetro (238.1.1)',\n",
       "  '6 años - 1,15 - Dos Fases (274.1.5.3)',\n",
       "  '8 años - 1,40 - Dos Fases Especial (274.2)',\n",
       "  '7 años - 1,30 - Acc y desempate (238.2.2)',\n",
       "  '7 años - 1,35 - A.c.c. y desempate (238.2.2)',\n",
       "  '5 años - 1,15 - Dos Fases Especial (274.2)',\n",
       "  '6 años - 1,25 - A c.c. (238.2.1)',\n",
       "  '6 años - 1,20 - Dos Fases (274.1.5.3)',\n",
       "  '7 años - 1,30 - A sin cronómetro (238.1.1)',\n",
       "  '6 años - 1,30 - A.c.c. y desempate (238.2.2)',\n",
       "  '6 años - 1,20 - A.c.c. y desempate (238.2.2)',\n",
       "  '1,50 (GP) - A.c.c. y desempate (238.2.2)',\n",
       "  '6 años - 1,20 - A sin cronómetro (238.1.1)',\n",
       "  '1,20 - Dos Fases Especial (274.2)',\n",
       "  '1,40 (GP) - A.c.c. y desempate (238.2.2)',\n",
       "  '1,35 (G) - A c.c. (238.2.1)',\n",
       "  '1,10 - Dos Fases (274.1.5.3)',\n",
       "  '7 años - 1,40 - A c.c. (238.2.1)',\n",
       "  '1,45 (G) - A c.c. (238.2.1)',\n",
       "  '5 años - 1,15 - A sin cronómetro (238.1.1)',\n",
       "  '1,40 (G) - A.c.c. y desempate (238.2.2)',\n",
       "  '1,30 - Dos Fases Especial (274.2)',\n",
       "  '6 años - 1,25 - Dos Fases (274.1.5.3)',\n",
       "  '7 años - 8 años - Dos Fases (274.1.5.3)',\n",
       "  '1,30 - A c.c. (238.2.1)',\n",
       "  '1,40 (G) - A c.c. (238.2.1)',\n",
       "  '7 años - 1,35 - A c.c. (238.2.1)',\n",
       "  '7 años - 8 años - A.c.c y desempate (238.2.2)',\n",
       "  '5 años - 1,10 - A sin cronómetro (238.1.1)',\n",
       "  '5 años - 1,05 - A c.c. (238.2.1)',\n",
       "  '1,45 (G) - A.c.c. y desempate (238.2.2)',\n",
       "  '6 años - 1,20 - A c.c. (238.2.1)'],\n",
       " 'CSI*': ['5 años - 1,10 - Dos Fases (274.1.5.3)',\n",
       "  '1,30 - Dos Fases Especial (274.2)',\n",
       "  '1,10 - Dos Fases (274.1.5.3)',\n",
       "  '7 años - 1,30 - Acc y desempate (238.2.2)',\n",
       "  '1,10 - A.c.c. y desempate (238.2.2)',\n",
       "  '1,20 - Dos Fases (274.1.5.3)',\n",
       "  '1,35 (G) - Dos Fases (274.1.5.3)',\n",
       "  '1,25 - Dos Fases (274.1.5.3)',\n",
       "  '1,40 (G) - Dos Fases (274.1.5.3)',\n",
       "  '7 años - 1,30 - Dos Fases (274.1.5.3)',\n",
       "  '7 años - 1,30 - A c.c. (238.2.1)',\n",
       "  '1,30 - A.c.c. y desempate (238.2.2)',\n",
       "  '1,20 - A.c.c. y desempate (238.2.2)',\n",
       "  '1,30 - A c.c. (238.2.1)',\n",
       "  '1,20 - A c.c. (238.2.1)',\n",
       "  '5 años - 1,10 - A sin cronómetro (238.1.1)',\n",
       "  '1,40 (GP) - A.c.c. y desempate (238.2.2)',\n",
       "  '6 años - 1,20 - A c.c. (238.2.1)',\n",
       "  '1,35 (G) - A.c.c. y desempate (238.2.2)',\n",
       "  '1,10 - A c.c. (238.2.1)',\n",
       "  '1,50 (GP) - A.c.c. y desempate (238.2.2)',\n",
       "  '1,40 (G) - A.c.c. y desempate al cronómetro (238.2.2)',\n",
       "  '1,40 (G) - A c.c. (238.2.1)',\n",
       "  '1,25 - Velocidad y Manejabilidad (263)',\n",
       "  '1,40 (G) - DOS FASES (A c/c - A c/c) (274.1.5.3)',\n",
       "  '1,45 (G) - A c.c. (238.2.1)',\n",
       "  '1,30 - Dificultades Progresivas (269.3.2)',\n",
       "  '1,20 - Dos Fases Especial (274.2)',\n",
       "  '6 años - 1,20 - A.c.c. y desempate (238.2.2)',\n",
       "  '1,45 (G) - A.c.c. y desempate (238.2.2)',\n",
       "  '1,35 (G) - A c.c. (238.2.1)',\n",
       "  '1,40 (G) - A.c.c. y desempate (238.2.2)',\n",
       "  '1,25 - A c.c. (238.2.1)',\n",
       "  '6 años - 1,20 - Dos Fases (274.1.5.3)'],\n",
       " 'CSI**': ['1,25 - A c.c. (238.2.1)',\n",
       "  '1,45 (G) - Dos Fases (274.1.5.3)',\n",
       "  '1,10 - Dos Fases (274.1.5.3)',\n",
       "  '1,20 - A c.c. (238.2.1)',\n",
       "  '1,45 (G) - A c.c. (238.2.1)',\n",
       "  '1,10 - A c.c. (238.2.1)',\n",
       "  '1,45 (GP) - A.c.c. y desempate (238.2.2)',\n",
       "  '1,45 (G) - A.c.c. y desempate (238.2.2)',\n",
       "  '1,20 - Dos Fases (274.1.5.3)',\n",
       "  '1,35 (G) - A c.c. (238.2.1)',\n",
       "  '1,15 - A c.c. (238.2.1)',\n",
       "  '1,30 - A c.c. (238.2.1)',\n",
       "  '1,40 (G) - A c.c. (238.2.1)',\n",
       "  '1,40 (G) - A.c.c. y desempate (238.2.2)',\n",
       "  '1,35 (G) - Dos Fases (274.1.5.3)',\n",
       "  '1,30 - Dos Fases (274.1.5.3)',\n",
       "  '1,40 (G) - Dos Fases (274.1.5.3)'],\n",
       " 'CSI***': ['5 años - 1,10 - Dos Fases (274.1.5.3)',\n",
       "  '1,10 - Dos Fases (274.1.5.3)',\n",
       "  '1,40 (G) - Dos Fases (274.1.5.3)',\n",
       "  '1,40 (G) - A.c.c. y desempate al cronómetro (238.2.2)',\n",
       "  '1,50 (GP) - A.c.c. y desempate (238.2.2)',\n",
       "  '1,35 (G) - A.c.c. y desempate (238.2.2)',\n",
       "  '1,45 (G) - A.c.c. y desempate (238.2.2)',\n",
       "  '6 años - 1,20 - A.c.c. y desempate (238.2.2)',\n",
       "  '1,20 - A.c.c. y desempate (238.2.2)',\n",
       "  '1,40 (GP) - GRAN PREMIO - A c/c y un desempate (238.2.2)',\n",
       "  '1,35 (P) - A c.c. (238.2.1)',\n",
       "  '6 años - 1,20 - A c.c. (238.2.1)',\n",
       "  '1,30 - Dos Fases Especial (274.2)',\n",
       "  '1,20 - A c.c. (238.2.1)',\n",
       "  '1,20 - Dos Fases Especial (274.2)',\n",
       "  '1,45 (G) - A c.c. (238.2.1)',\n",
       "  '1,35 (G) - A c.c. (238.2.1)',\n",
       "  '1,30 (P) - A c.c. (238.2.1)',\n",
       "  '1,40 (GP) - A.c.c. y desempate (238.2.2)',\n",
       "  '1,15 - A c.c. (238.2.1)',\n",
       "  '1,30 - Dos Fases (274.1.5.3)',\n",
       "  '1,40 (P) - A.c.c. y desempate (238.2.2)',\n",
       "  '1,45 (G) - Dos Fases (274.1.5.3)',\n",
       "  '1,50 (G) - A.c.c. y desempate (238.2.2)',\n",
       "  '7 años - 1,30 - A c.c. (238.2.1)',\n",
       "  '1,20 - Dos Fases (274.1.5.3)',\n",
       "  '1,10 - A c.c. (238.2.1)',\n",
       "  '1,40 (G) - A c.c. (238.2.1)',\n",
       "  '5 años - 1,10 - A sin cronómetro (238.1.1)',\n",
       "  '1,35 (M) - A c.c. (238.2.1)',\n",
       "  '1,25 - A c.c. (238.2.1)',\n",
       "  '1,35 (G) - Dos Fases (274.1.5.3)',\n",
       "  '6 años - 1,20 - Dos Fases (274.1.5.3)',\n",
       "  '7 años - 1,30 - Acc y desempate (238.2.2)',\n",
       "  '1,45 (P) - A c.c. (238.2.1)',\n",
       "  '1,30 - A.c.c. y desempate (238.2.2)',\n",
       "  '1,40 (G) - A.c.c. y desempate (238.2.2)',\n",
       "  '1,30 - A c.c. (238.2.1)',\n",
       "  '7 años - 1,30 - Dos Fases (274.1.5.3)'],\n",
       " 'CSI****': ['1,45 (M) - Dos Fases (274.1.5.3)',\n",
       "  '1,20 - A c.c. (238.2.1)',\n",
       "  '1.15 - Acc (238.2.1)',\n",
       "  '1,40 (G) - A c.c. (238.2.1)',\n",
       "  '1,50 (G) - A c.c. (238.2.1)',\n",
       "  '1,20 - Dos Fases Especial (274.2)',\n",
       "  '1.20 - Acc (238.2.1)',\n",
       "  '1,10 - A c.c. (238.2.1)',\n",
       "  '1,45 (G) - A c.c. (238.2.1)',\n",
       "  '5 años - 1,10 - Dos Fases (274.1.5.3)',\n",
       "  '1,35 (P) - A c.c. (238.2.1)',\n",
       "  '1,50 (G) - DOS FASES (A c/c - A c/c) (274.1.5.3)',\n",
       "  '1,40 (GP) - A.c.c. y desempate (238.2.2)',\n",
       "  '1,55 (GP) - A.c.c. y desempate (238.2.2)',\n",
       "  '1,45 (P) - A c.c. (238.2.1)',\n",
       "  '1,40 (G) - A.c.c. y desempate (238.2.2)',\n",
       "  '1,35 (P) - DOS FASES (A c/c - A c/c) (274.1.5.3)',\n",
       "  '1,35 (M) - A c.c. (238.2.1)',\n",
       "  '1,35 (G) - Dos Fases (274.1.5.3)',\n",
       "  '1,40 (P) - DOS FASES (A c/c - A c/c) (274.1.5.3)',\n",
       "  'CLASSIC TOUR A - 2 fases Asc / Acc (274.1.5.2)',\n",
       "  '1,20 - A.c.c. y desempate (238.2.2)',\n",
       "  '1,30 - Dos Fases (274.1.5.3)',\n",
       "  '1,45 (P) - DOS FASES (A c/c - A c/c) (274.1.5.3)',\n",
       "  '1,40 (G) - 2 fases Asc / Acc (274.1.5.2)',\n",
       "  '6 años - 1,20 - A.c.c. y desempate (238.2.2)',\n",
       "  '1,40 (M) - 2 fases Asc / Acc (274.1.5.2)',\n",
       "  '1,35 (G) - A c.c. (238.2.1)',\n",
       "  '1,40 (M) - A c.c. (238.2.1)',\n",
       "  '1,30 - 2 fases Asc / Acc (274.1.5.2)',\n",
       "  '7 años - 1,30 - A c.c. (238.2.1)',\n",
       "  '1,30 - Accumulator (269.3.2)',\n",
       "  '1,50 (G) - A con cronometro sin desempate (238.2.1)',\n",
       "  '1,40 (G) - Dos Fases (274.1.5.3)',\n",
       "  '1,50 (G) - A.c.c. y desempate (238.2.2)',\n",
       "  '1,50 (GP) - A.c.c. y desempate (238.2.2)',\n",
       "  '1,35 (G) - 2 fases Asc / Acc (274.1.5.2)',\n",
       "  '1,45 (M) - A con cronometro sin desempate (238.2.1)',\n",
       "  '1.20 - DOS FASES (274.1.5.3)',\n",
       "  '1.20 - 2 FASES (274.1.5.2)',\n",
       "  '1,45 (GP) - Dos Mangas (273.3.4)',\n",
       "  'CLASSIC TOUR A - A c.c. (238.2.1)',\n",
       "  '1,45 (G) - 2 fases Asc / Acc (274.1.5.2)',\n",
       "  '1,30 - A c.c. (238.2.1)',\n",
       "  '1,10 - Dos Fases (274.1.5.3)',\n",
       "  '7 años - 1,30 - Acc y desempate (238.2.2)',\n",
       "  '5 años - 1,10 - A sin cronómetro (238.1.1)',\n",
       "  '1,45 (G) - Dos Fases (274.1.5.3)',\n",
       "  '1,45 (GP) - A.c.c. y desempate (238.2.2)',\n",
       "  '1,40 (P) - A c.c. (238.2.1)',\n",
       "  '6 años - 1,20 - A c.c. (238.2.1)',\n",
       "  '1,35 (G) - A.c.c. y desempate (238.2.2)',\n",
       "  '1,50 (GP) - Dos Mangas (273.3.4)'],\n",
       " 'CSIO Ch/J/Y': ['J - 1,40 m. - A c.c. (238.2.1)',\n",
       "  'YR - CN - C.N. (264)',\n",
       "  'Ch - 1,30 m. - A.c.c. y desempate (238.2.2)',\n",
       "  'YR - 1,40 m. - 2 fases Asc / Acc (274.1.5.2)',\n",
       "  'Ch - 1,30 m. - A c.c. (238.2.1)',\n",
       "  'YR - 1,45 m. - A c.c. (238.2.1)',\n",
       "  'J - 1,35 m. - 2 fases Asc / Acc (274.1.5.2)',\n",
       "  'Ch - 1,25 m. - A c.c. (238.2.1)',\n",
       "  'YR - 1,45 m. - A.c.c. y desempate (238.2.2)',\n",
       "  'J - 1,40 m. - A.c.c. y desempate (238.2.2)',\n",
       "  'Ch - CN - C.N. (264)',\n",
       "  'Ch - 1,30 m. - Dos Fases (274.1.5.3)',\n",
       "  'YR - 1,40 m. - A c.c. (238.2.1)',\n",
       "  'J - 1,35 m. - Dos Fases (274.1.5.3)',\n",
       "  'Ch - 1,25 m. - 2 fases Asc / Acc (274.1.5.2)',\n",
       "  'J - 1,35 m. - A c.c. (238.2.1)'],\n",
       " 'CSN*': ['1,20 - Dificultades Progresivas (269.3.2)',\n",
       "  '1,30 GP - Dos Mangas (A.c.c. - A.c.c.) sin desempate (273.3.3.1)',\n",
       "  '1,30 - Caza (239)',\n",
       "  '1,20 - A c.c. (238.2.1)',\n",
       "  '1,20 - C (239)',\n",
       "  '1,30 GP - A.c.c. y desempate (238.2.2)',\n",
       "  '1,30 - Dificultades Progresivas (269.3.2)',\n",
       "  '1,10 - Acc (238.2.1)',\n",
       "  '1,20 - Dos Fases Especial (274.2)',\n",
       "  '1,30 - A c.c. (238.2.1)',\n",
       "  '1,20 - A.c.c. y desempate (238.2.2)'],\n",
       " 'CSN**': ['1,00 - A sin cronómetro (238.1.1)',\n",
       "  '1,30 - A c.c. (238.2.1)',\n",
       "  '1,15 - Dos Fases Especial (274.2)',\n",
       "  '1,05 - A sin cronómetro (238.1.1)',\n",
       "  '1,20 - A.c.c. y desempate al cronómetro (238.2.2)',\n",
       "  '1,20 - Velocidad y Manejabilidad (263)',\n",
       "  '1,25 - Velocidad y Manejabilidad (263)',\n",
       "  '1,20 - A c.c. (238.2.1)',\n",
       "  '1,10 - Dos Fases Especial (274.2)',\n",
       "  '1,20 - Dos Fases Especial (274.2)',\n",
       "  '1,30 - Dificultades Progresivas (269.3.2)',\n",
       "  '1,30 (GP) - A.c.c. y desempate al cronómetro (238.2.2)',\n",
       "  '1,30 - Dos Fases Especial (274.2)',\n",
       "  '1,35 - A.c.c. y desempate al cronómetro (238.2.2)',\n",
       "  '1,35 GP - Dos Mangas (A c/c - A c/c) (273.3.3.1)',\n",
       "  '1,15 - Acc (238.1.1)',\n",
       "  '1,25 - A c.c. (238.2.1)',\n",
       "  '1,30 - Velocidad y Manejabilidad (263)',\n",
       "  '1,35 GP - A.c.c. y desempate (238.2.2)',\n",
       "  '1,10 - Dos Fases (274.1.5.3)',\n",
       "  '1,10 - Acc (238.2.1)',\n",
       "  '1,05 - Dos Fases Especial (274.2)',\n",
       "  '1,15 - A c.c. (238.2.1)',\n",
       "  '1,10 - Acc y desempate (238.2.1)'],\n",
       " 'CSN***': ['1,25 - Dos Fases Especial (274.2)',\n",
       "  '1,30 - Velocidad y Manejabilidad (263)',\n",
       "  '1,30 - A.s.c. y desempate al cronómetro (238.1.2)',\n",
       "  '1,40 - A.c.c. y desempate al cronómetro (238.2.2)',\n",
       "  '1,20 - A c.c. (238.2.1)',\n",
       "  '1,10 - Dos Fases Especial (274.2)',\n",
       "  '1,35 - Dos fases Especial (Art. 274.2) (274.2)',\n",
       "  '1,25 - Dificultades Progresivas (269.3.2)',\n",
       "  '1,30 - A c.c. (238.2.1)',\n",
       "  '1,40 gp - A.c.c. y desempate al cronómetro (238.2.2)',\n",
       "  '1,20 - Dificultades Progresivas (269.3.2)',\n",
       "  '1,10 - A con cronómetro (238.2.1)',\n",
       "  '1,40 - A c.c. (238.2.1)',\n",
       "  '1,30 - Manga Ganadora (276.2)',\n",
       "  '1,30 - Dos fases Especial (Art. 274.2) (274.2)',\n",
       "  '1.35 GP - Acc y desempate (238.2.2)',\n",
       "  '1,35 - A c.c. (238.2.1)',\n",
       "  '1,35 - Dos Fases (274.1.5.3)',\n",
       "  '1,20 - Dos fases Especial (Art. 274.2) (274.2)',\n",
       "  '1,30 - A.c.c. y desempate al cronómetro (238.2.2)'],\n",
       " 'CSN****': ['1,25 - Dos Fases Especial (274.2)',\n",
       "  '1,30 - Dos Fases Especial (274.2)',\n",
       "  '1,35 GP - A.c.c. y desempate (238.2.2)',\n",
       "  '1,45 (GP) - A.c.c. y desempate al cronómetro (238.2.2)',\n",
       "  '1,40 - A c.c. (238.2.1)',\n",
       "  '1,20 - A c.c. (238.2.1)',\n",
       "  '1,30 - A c.c. (238.2.1)',\n",
       "  '1,40 - Dos Fases Especial (274.2)'],\n",
       " 'CSN*****': ['1,20 - A c.c. (238.2.1)',\n",
       "  '1,30 - Dos Fases Especial (274.2)',\n",
       "  '1,45 - A c.c. (238.2.1)',\n",
       "  '1,35 - A c.c. (238.2.1)',\n",
       "  '1,35 - A.c.c. y desempate al cronómetro (238.2.2)',\n",
       "  '1,30 - A c.c. (238.2.1)',\n",
       "  '1,40 gp - A.c.c. y desempate al cronómetro (238.2.2)',\n",
       "  '1,40 - Dos Fases Especial (274.2)',\n",
       "  '1.45 GP - Acc con desempate (238.2.2)',\n",
       "  '1,10 - Dos Fases Especial (274.2)',\n",
       "  '1,20 - Dos Fases Especial (274.2)',\n",
       "  '1,50 (GP) - A.c.c. y desempate (238.2.2)',\n",
       "  '1,45 - Dos Fases Especial (274.2)',\n",
       "  '1,35 - Dos Fases Especial (274.2)',\n",
       "  '1,40 - A c.c. (238.2.1)',\n",
       "  '1,10 - A.c.c (238.2.1)'],\n",
       " 'CSNCJ': ['7 años - 1,30 - A c.c. (238.2.1)',\n",
       "  '7 años - 1,30 - Dos Fases Especial (274.2)',\n",
       "  '6 años - 1,20 - A c.c. (238.2.1)',\n",
       "  '6 años - 1,20 - Dos Fases Especial (274.2)',\n",
       "  '7 años - 1,35 - A c.c. (238.2.1)',\n",
       "  '5 años - 1,10 - Dos Fases Especial (274.2)',\n",
       "  '5 años - 1,10 - A sin cronómetro (238.1.1)',\n",
       "  '5 años - 1,15 - A sin cronómetro (238.1.1)',\n",
       "  '5 años - 1,10 - A c.c. (238.2.1)',\n",
       "  '6 años - 1,25 - A c.c. (238.2.1)']}"
      ]
     },
     "execution_count": 24,
     "metadata": {},
     "output_type": "execute_result"
    }
   ],
   "source": [
    "diccionario_agrupado"
   ]
  },
  {
   "cell_type": "markdown",
   "id": "17052a96",
   "metadata": {},
   "source": [
    "\n",
    "\n",
    "caballos y jinetes, categoría en los que han participado, y altura de obstáculos, cantidad de veces que pasa a jump off, top caballos por edad, 5, 6, 7, años (nº rounds hechos, cantidad de doble 0s y ya sacar %). top caballos x competicion: 1,40, 1,50, 1,60, 5*, 6*.\n",
    "\n",
    "comparar performance de un jinete con diferentes caballos"
   ]
  },
  {
   "cell_type": "markdown",
   "id": "9b42e5df",
   "metadata": {},
   "source": [
    "### Análisis caballos 5 años\n",
    "\n",
    "Dentro de las pruebas de caballos de 5 años nos encontramos solo con las siguientes:\n",
    "- A.c.c. y desempate (238.2.2)',\n",
    "- Dos Fases Especial (274.2)',\n",
    "- A sin cronómetro (238.1.1)',\n",
    "- A c.c. (238.2.1)',\n",
    "- Dos Fases (274.1.5.3)',\n",
    "- A.c.c. y desempate (238.2.2)',\n",
    "\n",
    "Son pruebas que tendrán solo dos rondas como mucho, ya sea con desempate o sin desempate. Las alturas de los obstáculos se encuentran entre 1,05 y 1,20. "
   ]
  },
  {
   "cell_type": "code",
   "execution_count": 113,
   "id": "499afc99",
   "metadata": {},
   "outputs": [],
   "source": [
    "query = \"\"\" \n",
    "    SELECT \n",
    "        j.nombre_jinete,\n",
    "        c.nombre_caballo,\n",
    "        COUNT(r.id_resultado),\n",
    "        COUNT(CASE WHEN rs.puntos_obs_r1 = 0.0 THEN 1 ELSE NULL END),\n",
    "        COUNT(CASE WHEN rs.puntos_tmp_r1 = 0.0 THEN 1 ELSE NULL END),\n",
    "        COUNT(CASE WHEN rs.puntos_obs_r1 = 0.0 AND rs.puntos_tmp_r1 = 0.0 THEN 1 ELSE NULL END) \n",
    "    FROM resultados r\n",
    "        JOIN pruebas p ON r.id_prueba = p.id_prueba\n",
    "        JOIN jinetes j ON r.id_jinete = j.id_jinete\n",
    "        JOIN caballos c ON r.id_caballo = c.id_caballo\n",
    "        JOIN resultados_salto rs ON r.id_resultado = rs.id_resultado\n",
    "    WHERE nombre_prueba LIKE '%5 años%'\n",
    "    GROUP BY j.nombre_jinete, c.nombre_caballo\n",
    "    ORDER BY 6 DESC;\n",
    "\"\"\"\n",
    "query_2 = \"\"\" \n",
    "\n",
    "    SELECT \n",
    "        nombre_prueba\n",
    "    FROM pruebas\n",
    "    WHERE nombre_prueba LIKE '%5 años%';\n",
    "\"\"\""
   ]
  },
  {
   "cell_type": "code",
   "execution_count": 104,
   "id": "18a0e3c1",
   "metadata": {},
   "outputs": [],
   "source": [
    "conn.rollback()"
   ]
  },
  {
   "cell_type": "code",
   "execution_count": 114,
   "id": "665d01ca",
   "metadata": {},
   "outputs": [
    {
     "data": {
      "text/html": [
       "<div>\n",
       "<style scoped>\n",
       "    .dataframe tbody tr th:only-of-type {\n",
       "        vertical-align: middle;\n",
       "    }\n",
       "\n",
       "    .dataframe tbody tr th {\n",
       "        vertical-align: top;\n",
       "    }\n",
       "\n",
       "    .dataframe thead th {\n",
       "        text-align: right;\n",
       "    }\n",
       "</style>\n",
       "<table border=\"1\" class=\"dataframe\">\n",
       "  <thead>\n",
       "    <tr style=\"text-align: right;\">\n",
       "      <th></th>\n",
       "      <th>jinete</th>\n",
       "      <th>caballo</th>\n",
       "      <th>n_concursos_realizados</th>\n",
       "      <th>n_rondas_cero_obs</th>\n",
       "      <th>n_rondas_cero_tmp</th>\n",
       "      <th>n_rondas_doble_cero</th>\n",
       "    </tr>\n",
       "  </thead>\n",
       "  <tbody>\n",
       "    <tr>\n",
       "      <th>0</th>\n",
       "      <td>phillip spivey</td>\n",
       "      <td>be zalkow</td>\n",
       "      <td>14</td>\n",
       "      <td>9</td>\n",
       "      <td>2</td>\n",
       "      <td>0</td>\n",
       "    </tr>\n",
       "    <tr>\n",
       "      <th>1</th>\n",
       "      <td>brian gómez sosa</td>\n",
       "      <td>muscarias as de picas</td>\n",
       "      <td>6</td>\n",
       "      <td>2</td>\n",
       "      <td>1</td>\n",
       "      <td>0</td>\n",
       "    </tr>\n",
       "    <tr>\n",
       "      <th>2</th>\n",
       "      <td>andrea bassan</td>\n",
       "      <td>umayrah  sv  z</td>\n",
       "      <td>6</td>\n",
       "      <td>3</td>\n",
       "      <td>1</td>\n",
       "      <td>0</td>\n",
       "    </tr>\n",
       "    <tr>\n",
       "      <th>3</th>\n",
       "      <td>valerio ielapi</td>\n",
       "      <td>pilot h</td>\n",
       "      <td>6</td>\n",
       "      <td>5</td>\n",
       "      <td>0</td>\n",
       "      <td>0</td>\n",
       "    </tr>\n",
       "    <tr>\n",
       "      <th>4</th>\n",
       "      <td>hugo álvarez amaro</td>\n",
       "      <td>caloua quick ps</td>\n",
       "      <td>6</td>\n",
       "      <td>3</td>\n",
       "      <td>3</td>\n",
       "      <td>0</td>\n",
       "    </tr>\n",
       "    <tr>\n",
       "      <th>...</th>\n",
       "      <td>...</td>\n",
       "      <td>...</td>\n",
       "      <td>...</td>\n",
       "      <td>...</td>\n",
       "      <td>...</td>\n",
       "      <td>...</td>\n",
       "    </tr>\n",
       "    <tr>\n",
       "      <th>359</th>\n",
       "      <td>hubert artymowicz</td>\n",
       "      <td>pretty rock</td>\n",
       "      <td>6</td>\n",
       "      <td>0</td>\n",
       "      <td>2</td>\n",
       "      <td>0</td>\n",
       "    </tr>\n",
       "    <tr>\n",
       "      <th>360</th>\n",
       "      <td>damien jehanno</td>\n",
       "      <td>kyliana champeix</td>\n",
       "      <td>6</td>\n",
       "      <td>3</td>\n",
       "      <td>3</td>\n",
       "      <td>0</td>\n",
       "    </tr>\n",
       "    <tr>\n",
       "      <th>361</th>\n",
       "      <td>ole kristoffer meland</td>\n",
       "      <td>uncle luc van de vlasbloemhoeve</td>\n",
       "      <td>7</td>\n",
       "      <td>1</td>\n",
       "      <td>2</td>\n",
       "      <td>0</td>\n",
       "    </tr>\n",
       "    <tr>\n",
       "      <th>362</th>\n",
       "      <td>kevin gielen</td>\n",
       "      <td>charly van het cauterhof z</td>\n",
       "      <td>2</td>\n",
       "      <td>2</td>\n",
       "      <td>0</td>\n",
       "      <td>0</td>\n",
       "    </tr>\n",
       "    <tr>\n",
       "      <th>363</th>\n",
       "      <td>valentine belooussoff</td>\n",
       "      <td>kasparoff du bidou</td>\n",
       "      <td>8</td>\n",
       "      <td>6</td>\n",
       "      <td>2</td>\n",
       "      <td>0</td>\n",
       "    </tr>\n",
       "  </tbody>\n",
       "</table>\n",
       "<p>364 rows × 6 columns</p>\n",
       "</div>"
      ],
      "text/plain": [
       "                    jinete                          caballo  \\\n",
       "0           phillip spivey                        be zalkow   \n",
       "1         brian gómez sosa            muscarias as de picas   \n",
       "2            andrea bassan                   umayrah  sv  z   \n",
       "3           valerio ielapi                          pilot h   \n",
       "4       hugo álvarez amaro                  caloua quick ps   \n",
       "..                     ...                              ...   \n",
       "359      hubert artymowicz                      pretty rock   \n",
       "360         damien jehanno                 kyliana champeix   \n",
       "361  ole kristoffer meland  uncle luc van de vlasbloemhoeve   \n",
       "362           kevin gielen       charly van het cauterhof z   \n",
       "363  valentine belooussoff               kasparoff du bidou   \n",
       "\n",
       "     n_concursos_realizados  n_rondas_cero_obs  n_rondas_cero_tmp  \\\n",
       "0                        14                  9                  2   \n",
       "1                         6                  2                  1   \n",
       "2                         6                  3                  1   \n",
       "3                         6                  5                  0   \n",
       "4                         6                  3                  3   \n",
       "..                      ...                ...                ...   \n",
       "359                       6                  0                  2   \n",
       "360                       6                  3                  3   \n",
       "361                       7                  1                  2   \n",
       "362                       2                  2                  0   \n",
       "363                       8                  6                  2   \n",
       "\n",
       "     n_rondas_doble_cero  \n",
       "0                      0  \n",
       "1                      0  \n",
       "2                      0  \n",
       "3                      0  \n",
       "4                      0  \n",
       "..                   ...  \n",
       "359                    0  \n",
       "360                    0  \n",
       "361                    0  \n",
       "362                    0  \n",
       "363                    0  \n",
       "\n",
       "[364 rows x 6 columns]"
      ]
     },
     "execution_count": 114,
     "metadata": {},
     "output_type": "execute_result"
    }
   ],
   "source": [
    "resultados_5_años = pd.DataFrame(ejecutor_querys(cur, query))\n",
    "resultados_5_años = resultados_5_años.rename(columns = {0: 'jinete', 1: 'caballo', 2: 'n_concursos_realizados', 3: 'n_rondas_cero_obs', 4: 'n_rondas_cero_tmp', 5:'n_rondas_doble_cero'})\n",
    "# resultados_5_años[\"rondas_doble_cero\"] = resultados_5_años[4] - resultados_5_años[3]\n",
    "# resultados_5_años = resultados_5_años.sort_values(by = \"rondas_doble_cero\", ascending = False)\n",
    "resultados_5_años"
   ]
  }
 ],
 "metadata": {
  "kernelspec": {
   "display_name": "venv",
   "language": "python",
   "name": "python3"
  },
  "language_info": {
   "codemirror_mode": {
    "name": "ipython",
    "version": 3
   },
   "file_extension": ".py",
   "mimetype": "text/x-python",
   "name": "python",
   "nbconvert_exporter": "python",
   "pygments_lexer": "ipython3",
   "version": "3.12.4"
  }
 },
 "nbformat": 4,
 "nbformat_minor": 5
}
