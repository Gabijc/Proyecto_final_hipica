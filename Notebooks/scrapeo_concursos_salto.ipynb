{
 "cells": [
  {
   "cell_type": "markdown",
   "id": "780de6d8",
   "metadata": {},
   "source": [
    "# Scrapeo de las competiciones de salto"
   ]
  },
  {
   "cell_type": "code",
   "execution_count": 2,
   "id": "a21a1bc3",
   "metadata": {},
   "outputs": [],
   "source": [
    "# Importamos las librerías necesarias\n",
    "import pandas as pd\n",
    "from selenium import webdriver\n",
    "from selenium.webdriver.common.by import By\n",
    "from webdriver_manager.chrome import ChromeDriverManager\n",
    "import time\n",
    "from selenium.webdriver.support import expected_conditions as EC\n",
    "from selenium.common.exceptions import TimeoutException\n",
    "from selenium.webdriver.support.ui import WebDriverWait\n",
    "from selenium.common.exceptions import NoSuchElementException, UnexpectedAlertPresentException\n",
    "from selenium.webdriver.support.ui import WebDriverWait\n",
    "# import xlrd\n",
    "# from src.soporte_scrapeo_general import get_competiciones, cambio_pestaña, resultados_disciplina, buscador_elementos, guardado_info, competiciones_año, obtencion_año, creacion_dictios_guardado\n",
    "# from src.soporte_scrapeo_salto import extraccion_resultados_jinetes_caballos"
   ]
  },
  {
   "cell_type": "code",
   "execution_count": 2,
   "id": "79435425",
   "metadata": {},
   "outputs": [],
   "source": [
    "# URL inicial\n",
    "url = \"https://rfhe.com/competiciones/\""
   ]
  },
  {
   "cell_type": "code",
   "execution_count": 3,
   "id": "42b5ae11",
   "metadata": {},
   "outputs": [],
   "source": [
    "# inicializamos el driver y lo abrimos\n",
    "driver = get_competiciones(url)"
   ]
  },
  {
   "cell_type": "code",
   "execution_count": 4,
   "id": "ca12df45",
   "metadata": {},
   "outputs": [],
   "source": [
    "# creamos los diccionarios en los que vamos a ir guardando toda la información\n",
    "dictio_concursos, dictio_pruebas, dictio_jinetes, dictio_caballos = creacion_dictios_guardado()"
   ]
  },
  {
   "cell_type": "code",
   "execution_count": 5,
   "id": "5a5e882e",
   "metadata": {},
   "outputs": [],
   "source": [
    "# Seleccionamos el ambito de los concursos y la disciplina, en este caso nacional y completo\n",
    "ambito_buscado, disciplina_buscada = resultados_disciplina(driver, disciplina = \"salto\")"
   ]
  },
  {
   "cell_type": "code",
   "execution_count": 6,
   "id": "11c37010",
   "metadata": {},
   "outputs": [
    {
     "data": {
      "text/plain": [
       "('nacional', 'salto')"
      ]
     },
     "execution_count": 6,
     "metadata": {},
     "output_type": "execute_result"
    }
   ],
   "source": [
    "ambito_buscado, disciplina_buscada"
   ]
  },
  {
   "cell_type": "code",
   "execution_count": 7,
   "id": "c0b5a88e",
   "metadata": {},
   "outputs": [],
   "source": [
    "# Buscamos los concursos de febrero del año que nos aparece\n",
    "competiciones_año(driver)"
   ]
  },
  {
   "cell_type": "code",
   "execution_count": 8,
   "id": "506d5ae8",
   "metadata": {},
   "outputs": [
    {
     "data": {
      "text/plain": [
       "40"
      ]
     },
     "execution_count": 8,
     "metadata": {},
     "output_type": "execute_result"
    }
   ],
   "source": [
    "# Sacamos el total de concursos que hay en el mes de marzo, que compondrá el total de veces que tendrá que iterar el bucle for siguiente\n",
    "maximo_n_concursos = int(buscador_elementos(driver, \"/html/body/form/div/div/div/ul/li[2]/font\").text.split(\" \")[-1].replace(\"(\", \"\").replace(\")\", \"\"))\n",
    "maximo_n_concursos\n"
   ]
  },
  {
   "cell_type": "code",
   "execution_count": 9,
   "id": "d2340cad",
   "metadata": {},
   "outputs": [],
   "source": [
    "# Buscamos el primer concurso del mes de marzo\n",
    "i = 5\n",
    "selector = f\"/html/body/form/div/div/div/div/div[2]/table/tbody/tr[{i}]/td[4]/a\"\n",
    "concurso = buscador_elementos(driver, selector).click()"
   ]
  },
  {
   "cell_type": "code",
   "execution_count": 10,
   "id": "afbdb645",
   "metadata": {},
   "outputs": [],
   "source": [
    "cambio_pestaña(2,driver)"
   ]
  },
  {
   "cell_type": "code",
   "execution_count": 11,
   "id": "8e5b0fac",
   "metadata": {},
   "outputs": [
    {
     "data": {
      "text/plain": [
       "['Nombre: CSN2* RACE',\n",
       " 'Categoría: CSN**',\n",
       " 'Provincia: Madrid',\n",
       " 'Localidad: R.A.C.E.',\n",
       " 'Disciplina: Salto de Obstáculos',\n",
       " 'Fechas: 01 al 02 de Febrero de 2025',\n",
       " 'Federación: Federación Hípica de Madrid',\n",
       " 'Avance: Disponible en PDF  ',\n",
       " '  Fechas incripción: 15/Ene->27/Ene/2025',\n",
       " 'Inscripción: Concurso Finalizado',\n",
       " 'Admitidos: Publicada  Ver',\n",
       " 'Resultados: Ver resultados  Ver']"
      ]
     },
     "execution_count": 11,
     "metadata": {},
     "output_type": "execute_result"
    }
   ],
   "source": [
    "# Sacamos el contenido general del concurso\n",
    "contenido_general =  buscador_elementos(driver, \"/html/body/form/table/tbody/tr[2]/td/table[2]/tbody/tr[1]/td[2]/table\").text.split('\\n')\n",
    "contenido_general"
   ]
  },
  {
   "cell_type": "code",
   "execution_count": 12,
   "id": "9f896d9c",
   "metadata": {},
   "outputs": [],
   "source": [
    "# Guardamos la información del concurso en el diccionario creado\n",
    "guardado_info(dictio_concursos, contenido_general, info = \"concursos\", ambito = ambito_buscado)"
   ]
  },
  {
   "cell_type": "code",
   "execution_count": 13,
   "id": "97e1431f",
   "metadata": {},
   "outputs": [
    {
     "data": {
      "text/plain": [
       "{'Nombre': ['CSN2* RACE'],\n",
       " 'Categoría': ['CSN**'],\n",
       " 'Provincia': ['Madrid'],\n",
       " 'Localidad': ['R.A.C.E.'],\n",
       " 'Disciplina': ['Salto de Obstáculos'],\n",
       " 'Federación': ['Federación Hípica de Madrid'],\n",
       " 'Resultados': ['Ver'],\n",
       " 'País': ['España']}"
      ]
     },
     "execution_count": 13,
     "metadata": {},
     "output_type": "execute_result"
    }
   ],
   "source": [
    "dictio_concursos"
   ]
  },
  {
   "cell_type": "code",
   "execution_count": 14,
   "id": "e6316f32",
   "metadata": {},
   "outputs": [],
   "source": [
    "# Nos vamos a las pruebas del concurso\n",
    "path_boton_pruebas = \"/html/body/form/table/tbody/tr[2]/td/table[2]/tbody/tr[1]/td[2]/table/tbody/tr[20]/td[3]/a\"\n",
    "pruebas = buscador_elementos(driver, path_boton_pruebas).click()\n",
    "cambio_pestaña(3,driver)"
   ]
  },
  {
   "cell_type": "code",
   "execution_count": 15,
   "id": "e0a33665",
   "metadata": {},
   "outputs": [],
   "source": [
    "# Obtenemos la información del concurso que se encuentra en la tabla de las pruebas\n",
    "path_info_restante = \"/html/body/form/table/tbody/tr/td/div/div/table/tbody/tr/td/table/tbody/tr[1]/td/table/tbody/tr[1]/td/div/div/div[1]/div[3]/div/table/tbody/tr[2]/td[2]/table/tbody/tr/td\"\n",
    "info_concurso_restante = buscador_elementos(driver, path_info_restante).text.split(\"\\n\")\n",
    "\n",
    "# Creamos las nuevas claves que sacamos de la info que esta donde las pruebas\n",
    "dictio_concursos[info_concurso_restante[2].strip(\":\")] = []\n",
    "dictio_concursos[info_concurso_restante[4].strip(\":\")] = []\n",
    "dictio_concursos[info_concurso_restante[8].strip(\":\")] = []"
   ]
  },
  {
   "cell_type": "code",
   "execution_count": 16,
   "id": "05267990",
   "metadata": {},
   "outputs": [],
   "source": [
    "# metemos la info del concurso que nos falta\n",
    "guardado_info(diccionario = dictio_concursos, elementos = info_concurso_restante, claves = [\"Inicio\", \"Final\", \"Ámbito\"], indices = [3, 5, -1], info = \"general\")"
   ]
  },
  {
   "cell_type": "code",
   "execution_count": 17,
   "id": "f9ce4a33",
   "metadata": {},
   "outputs": [
    {
     "data": {
      "text/plain": [
       "{'Nombre': ['CSN2* RACE'],\n",
       " 'Categoría': ['CSN**'],\n",
       " 'Provincia': ['Madrid'],\n",
       " 'Localidad': ['R.A.C.E.'],\n",
       " 'Disciplina': ['Salto de Obstáculos'],\n",
       " 'Federación': ['Federación Hípica de Madrid'],\n",
       " 'Resultados': ['Ver'],\n",
       " 'País': ['España'],\n",
       " 'Inicio': ['01/02/2025'],\n",
       " 'Final': ['02/02/2025'],\n",
       " 'Ámbito': ['Nacional']}"
      ]
     },
     "execution_count": 17,
     "metadata": {},
     "output_type": "execute_result"
    }
   ],
   "source": [
    "dictio_concursos"
   ]
  },
  {
   "cell_type": "code",
   "execution_count": 18,
   "id": "4253c108",
   "metadata": {},
   "outputs": [
    {
     "data": {
      "text/plain": [
       "'CSN2* RACE'"
      ]
     },
     "execution_count": 18,
     "metadata": {},
     "output_type": "execute_result"
    }
   ],
   "source": [
    "# Obtenemos el nombre del concurso para luego meterlo en la tabla de pruebas\n",
    "path_nombre_concurso = \"/html/body/form/table/tbody/tr/td/div/div/table/tbody/tr/td/table/tbody/tr[1]/td/table/tbody/tr[1]/td/div/div/div[1]/div[3]/div/table/tbody/tr[2]/td[2]/table/tbody/tr/td/div/div[1]/div/table/tbody/tr/td[2]/table/tbody/tr\"\n",
    "nombre_concurso = buscador_elementos(driver, path_nombre_concurso).text.strip()\n",
    "nombre_concurso"
   ]
  },
  {
   "cell_type": "code",
   "execution_count": 19,
   "id": "f9415fc9",
   "metadata": {},
   "outputs": [
    {
     "data": {
      "text/plain": [
       "['Disciplina',\n",
       " 'Fecha',\n",
       " 'Prueba',\n",
       " 'Categoría',\n",
       " 'Número',\n",
       " 'Resultados',\n",
       " 'Salto de Obstáculos',\n",
       " '01/02/2025',\n",
       " '1,10 - Acc (238.2.1)',\n",
       " 'CSN**',\n",
       " '1',\n",
       " 'Disponibles',\n",
       " 'Salto de Obstáculos',\n",
       " '01/02/2025',\n",
       " '1,20 - A c.c. (238.2.1)',\n",
       " 'CSN**',\n",
       " '2',\n",
       " 'Disponibles',\n",
       " 'Salto de Obstáculos',\n",
       " '01/02/2025',\n",
       " '1,30 - A c.c. (238.2.1)',\n",
       " 'CSN**',\n",
       " '3',\n",
       " 'Disponibles',\n",
       " 'Salto de Obstáculos',\n",
       " '02/02/2025',\n",
       " '1,25 - A c.c. (238.2.1)',\n",
       " 'CSN**',\n",
       " '4',\n",
       " 'Disponibles',\n",
       " 'Salto de Obstáculos',\n",
       " '02/02/2025',\n",
       " '1,35 GP - A.c.c. y desempate (238.2.2)',\n",
       " 'CSN**',\n",
       " '5',\n",
       " 'Disponibles',\n",
       " 'Salto de Obstáculos',\n",
       " '02/02/2025',\n",
       " '1,15 - A c.c. (238.2.1)',\n",
       " 'CSN**',\n",
       " '6',\n",
       " 'Disponibles']"
      ]
     },
     "execution_count": 19,
     "metadata": {},
     "output_type": "execute_result"
    }
   ],
   "source": [
    "# Obtenemos las pruebas del concurso\n",
    "path_pruebas = \"/html/body/form/table/tbody/tr/td/div/div/table/tbody/tr/td/table/tbody/tr[1]/td/table/tbody/tr[1]/td/div/div/div[2]\"\n",
    "pruebas = buscador_elementos(driver, path_pruebas).text.split(\"\\n\")\n",
    "pruebas"
   ]
  },
  {
   "cell_type": "code",
   "execution_count": null,
   "id": "902fc1fe",
   "metadata": {},
   "outputs": [],
   "source": [
    "claves_pruebas = list(dictio_pruebas.keys())\n",
    "guardado_info(diccionario = dictio_pruebas,elementos = pruebas, claves = claves_pruebas, indices = [6, 7, 8, 9, 10], step = 6, guardado = False, info = \"general\")\n",
    "\n",
    "numero_pruebas = len(pruebas[6::6])  # Asumimos que 'Disciplina' tiene una fila por prueba\n",
    "dictio_pruebas[\"Concurso\"].extend([nombre_concurso] * numero_pruebas)"
   ]
  },
  {
   "cell_type": "code",
   "execution_count": 20,
   "id": "9d45c31b",
   "metadata": {},
   "outputs": [],
   "source": [
    "# accedemos a los resultados de la primera prueba\n",
    "path_resultados_pruebas = \"/html/body/form/table/tbody/tr/td/div/div/table/tbody/tr/td/table/tbody/tr[1]/td/table/tbody/tr[1]/td/div/div/div[2]/div[2]/div/table/tbody/tr/td/div/div/table/tbody/tr[1]/td/div/div/table/tbody/tr[1]/td/div/div[3]/div/table/tbody/tr/td/a\"\n",
    "resultados_pruebas = buscador_elementos(driver, path_resultados_pruebas).click()"
   ]
  },
  {
   "cell_type": "code",
   "execution_count": null,
   "id": "e2c7d148",
   "metadata": {},
   "outputs": [],
   "source": [
    "# url inicial\n",
    "url = \"https://rfhe.com/competiciones/\"\n",
    "\n",
    "\n",
    "# inicializamos el driver y lo abrimos\n",
    "driver = get_competiciones(url)\n",
    "\n",
    "dictio_concursos_completo_nac, dictio_pruebas_completo_nac, dictio_jinetes_completo_nac, dictio_caballos_completo_nac = creacion_dictios_guardado()\n",
    "\n",
    "time.sleep(8)\n",
    "\n",
    "# Seleccionamos el ambito de los concursos y la disciplina, en este caso nacional y completo\n",
    "ambito_buscado, disciplina_buscada = resultados_disciplina(driver, disciplina = \"completo\")\n",
    "\n",
    "time.sleep(5)\n",
    "\n",
    "año = obtencion_año(driver)\n",
    "\n",
    "while año >= 2024:\n",
    "\n",
    "    # Buscamos los concursos de febrero del año que nos aparece\n",
    "    competiciones_año(driver)\n",
    "\n",
    "    time.sleep(3)\n",
    "    # Sacamos el total de concursos que hay en el mes de febrero, que compondrá el total de veces que tendrá que iterar el bucle for siguiente\n",
    "\n",
    "    maximo_n_concursos = int(buscador_elementos(driver, \"/html/body/form/div/div/div/ul/li[2]/font\").text.split(\" \")[-1].replace(\"(\", \"\").replace(\")\", \"\"))\n",
    "\n",
    "    for i in range(5, maximo_n_concursos + 5):\n",
    "        try:\n",
    "            time.sleep(4)\n",
    "            # clickamos en el concurso\n",
    "            selector = f\"/html/body/form/div/div/div/div/div[2]/table/tbody/tr[{i}]/td[4]/a\"\n",
    "            time.sleep(1)\n",
    "            concurso = buscador_elementos(driver, selector).click()\n",
    "\n",
    "            time.sleep(5)\n",
    "\n",
    "            # Sacamos el contenido general del concurso\n",
    "            contenido_general =  buscador_elementos(driver, \"/html/body/form/table/tbody/tr[2]/td/table[2]/tbody/tr[1]/td[2]/table\").text.split('\\n')\n",
    "            \n",
    "            if i == 5 and año == 2025:\n",
    "\n",
    "                # Guardamos la información del concurso en el diccionario creado\n",
    "                guardado_info(dictio_concursos_completo_nac, contenido_general, info = \"concursos\", ambito = ambito_buscado)\n",
    "\n",
    "                # Nos vamos a las pruebas del concurso\n",
    "                path_boton_pruebas = \"/html/body/form/table/tbody/tr[2]/td/table[2]/tbody/tr[1]/td[2]/table/tbody/tr[20]/td[3]/a\" \n",
    "                pruebas = buscador_elementos(driver, path_boton_pruebas).click()\n",
    "                cambio_pestaña(2,driver)\n",
    "\n",
    "                time.sleep(3)\n",
    "\n",
    "                # Obtenemos la información del concurso que se encuentra en la tabla de las pruebas\n",
    "                path_info_restante = \"/html/body/form/table/tbody/tr/td/div/div/table/tbody/tr/td/table/tbody/tr[1]/td/table/tbody/tr[1]/td/div/div/div[1]/div[3]/div/table/tbody/tr[2]/td[2]/table/tbody/tr/td\"\n",
    "                info_concurso_restante = buscador_elementos(driver, path_info_restante).text.split(\"\\n\")\n",
    "\n",
    "                # Creamos las nuevas claves que sacamos de la info que esta donde las pruebas\n",
    "                dictio_concursos_completo_nac[info_concurso_restante[2].strip(\":\")] = []\n",
    "                dictio_concursos_completo_nac[info_concurso_restante[4].strip(\":\")] = []\n",
    "                dictio_concursos_completo_nac[info_concurso_restante[8].strip(\":\")] = []\n",
    "                \n",
    "                # metemos la info del concurso que nos falta\n",
    "                guardado_info(diccionario = dictio_concursos_completo_nac, elementos = info_concurso_restante, claves = [\"Inicio\", \"Final\", \"Ámbito\"], indices = [3, 5, -1], info = \"general\")\n",
    "\n",
    "                # Obtenemos el nombre del concurso para luego meterlo en la tabla de pruebas\n",
    "                path_nombre_concurso = \"/html/body/form/table/tbody/tr/td/div/div/table/tbody/tr/td/table/tbody/tr[1]/td/table/tbody/tr[1]/td/div/div/div[1]/div[3]/div/table/tbody/tr[2]/td[2]/table/tbody/tr/td/div/div[1]/div/table/tbody/tr/td[2]/table/tbody/tr\"\n",
    "                nombre_concurso = buscador_elementos(driver, path_nombre_concurso).text.strip()\n",
    "\n",
    "                # Obtenemos las pruebas del concurso\n",
    "                path_pruebas = \"/html/body/form/table/tbody/tr/td/div/div/table/tbody/tr/td/table/tbody/tr[1]/td/table/tbody/tr[1]/td/div/div/div[2]\"\n",
    "                pruebas = buscador_elementos(driver, path_pruebas).text.split(\"\\n\")\n",
    "                \n",
    "                claves_pruebas = list(dictio_pruebas_completo_nac.keys())\n",
    "                guardado_info(diccionario = dictio_pruebas_completo_nac, elementos = pruebas, claves = claves_pruebas, indices = [6, 7, 8, 9, 10], step = 6, guardado = False, info = \"general\")\n",
    "\n",
    "                numero_pruebas = len(pruebas[6::6])  # Asumimos que 'Disciplina' tiene una fila por prueba\n",
    "                dictio_pruebas_completo_nac[\"Concurso\"].extend([nombre_concurso] * numero_pruebas)\n",
    "\n",
    "                # accedemos a los resultados de la primera prueba\n",
    "                path_resultados_pruebas = \"/html/body/form/table/tbody/tr/td/div/div/table/tbody/tr/td/table/tbody/tr[1]/td/table/tbody/tr[1]/td/div/div/div[2]/div[2]/div/table/tbody/tr/td/div/div/table/tbody/tr[1]/td/div/div/table/tbody/tr[1]/td/div/div[3]/div/table/tbody/tr/td/a\"\n",
    "                resultados_pruebas = buscador_elementos(driver, path_resultados_pruebas).click()\n",
    "\n",
    "                time.sleep(4)\n",
    "\n",
    "                extraccion_resultados_jinetes_caballos(driver, dictio_jinetes_completo_nac, dictio_caballos_completo_nac)\n",
    "\n",
    "                driver.close()\n",
    "                cambio_pestaña(1,driver)\n",
    "\n",
    "            if i == 5 and año < 2025:\n",
    "\n",
    "                # Guardamos la información del concurso en el diccionario creado\n",
    "                guardado_info(dictio_concursos_completo_nac, contenido_general, info = \"concursos\", ambito = ambito_buscado)\n",
    "\n",
    "                # Nos vamos a las pruebas del concurso\n",
    "                path_boton_pruebas = \"/html/body/form/table/tbody/tr[2]/td/table[2]/tbody/tr[1]/td[2]/table/tbody/tr[20]/td[3]/a\" \n",
    "                pruebas = buscador_elementos(driver, path_boton_pruebas).click()\n",
    "                cambio_pestaña(2,driver)\n",
    "\n",
    "                time.sleep(3)\n",
    "\n",
    "                # Obtenemos la información del concurso que se encuentra en la tabla de las pruebas\n",
    "                path_info_restante = \"/html/body/form/table/tbody/tr/td/div/div/table/tbody/tr/td/table/tbody/tr[1]/td/table/tbody/tr[1]/td/div/div/div[1]/div[3]/div/table/tbody/tr[2]/td[2]/table/tbody/tr/td\"\n",
    "                info_concurso_restante = buscador_elementos(driver, path_info_restante).text.split(\"\\n\")\n",
    "                \n",
    "                # metemos la info del concurso que nos falta\n",
    "                guardado_info(diccionario = dictio_concursos_completo_nac, elementos = info_concurso_restante, claves = [\"Inicio\", \"Final\", \"Ámbito\"], indices = [3, 5, -1], info = \"general\")\n",
    "\n",
    "                # Obtenemos el nombre del concurso para luego meterlo en la tabla de pruebas\n",
    "                path_nombre_concurso = \"/html/body/form/table/tbody/tr/td/div/div/table/tbody/tr/td/table/tbody/tr[1]/td/table/tbody/tr[1]/td/div/div/div[1]/div[3]/div/table/tbody/tr[2]/td[2]/table/tbody/tr/td/div/div[1]/div/table/tbody/tr/td[2]/table/tbody/tr\"\n",
    "                nombre_concurso = buscador_elementos(driver, path_nombre_concurso).text.strip()\n",
    "\n",
    "                # Obtenemos las pruebas del concurso\n",
    "                path_pruebas = \"/html/body/form/table/tbody/tr/td/div/div/table/tbody/tr/td/table/tbody/tr[1]/td/table/tbody/tr[1]/td/div/div/div[2]\"\n",
    "                pruebas = buscador_elementos(driver, path_pruebas).text.split(\"\\n\")\n",
    "                \n",
    "                claves_pruebas = list(dictio_pruebas_completo_nac.keys())\n",
    "                guardado_info(diccionario = dictio_pruebas_completo_nac, elementos = pruebas, claves = claves_pruebas, indices = [6, 7, 8, 9, 10], step = 6, guardado = False, info = \"general\")\n",
    "\n",
    "                numero_pruebas = len(pruebas[6::6])  # Asumimos que 'Disciplina' tiene una fila por prueba\n",
    "                dictio_pruebas_completo_nac[\"Concurso\"].extend([nombre_concurso] * numero_pruebas)\n",
    "\n",
    "                # accedemos a los resultados de la primera prueba\n",
    "                path_resultados_pruebas = \"/html/body/form/table/tbody/tr/td/div/div/table/tbody/tr/td/table/tbody/tr[1]/td/table/tbody/tr[1]/td/div/div/div[2]/div[2]/div/table/tbody/tr/td/div/div/table/tbody/tr[1]/td/div/div/table/tbody/tr[1]/td/div/div[3]/div/table/tbody/tr/td/a\"\n",
    "                resultados_pruebas = buscador_elementos(driver, path_resultados_pruebas).click()\n",
    "\n",
    "                time.sleep(4)\n",
    "\n",
    "                extraccion_resultados_jinetes_caballos(driver, dictio_jinetes_completo_nac, dictio_caballos_completo_nac)\n",
    "\n",
    "                driver.close()\n",
    "                cambio_pestaña(1,driver)\n",
    "                \n",
    "            elif i != 5 and \"Resultados: Ver resultados  Ver\" in contenido_general:\n",
    "\n",
    "                # Guardamos la información del concurso en el diccionario creado\n",
    "                guardado_info(dictio_concursos_completo_nac, contenido_general, info = \"concursos\", ambito = ambito_buscado)\n",
    "\n",
    "                # Nos vamos a las pruebas del concurso\n",
    "                path_boton_pruebas = \"/html/body/form/table/tbody/tr[2]/td/table[2]/tbody/tr[1]/td[2]/table/tbody/tr[20]/td[3]/a\" \n",
    "                pruebas = buscador_elementos(driver, path_boton_pruebas).click()\n",
    "                cambio_pestaña(2,driver)\n",
    "\n",
    "                time.sleep(3)\n",
    "\n",
    "                # Obtenemos la información del concurso que se encuentra en la tabla de las pruebas\n",
    "                path_info_restante = \"/html/body/form/table/tbody/tr/td/div/div/table/tbody/tr/td/table/tbody/tr[1]/td/table/tbody/tr[1]/td/div/div/div[1]/div[3]/div/table/tbody/tr[2]/td[2]/table/tbody/tr/td\"\n",
    "                info_concurso_restante = buscador_elementos(driver, path_info_restante).text.split(\"\\n\")\n",
    "                \n",
    "                # metemos la info del concurso que nos falta\n",
    "                guardado_info(diccionario = dictio_concursos_completo_nac, elementos = info_concurso_restante, claves = [\"Inicio\", \"Final\", \"Ámbito\"], indices = [3, 5, -1], info = \"general\")\n",
    "\n",
    "                # Obtenemos el nombre del concurso para luego meterlo en la tabla de pruebas\n",
    "                path_nombre_concurso = \"/html/body/form/table/tbody/tr/td/div/div/table/tbody/tr/td/table/tbody/tr[1]/td/table/tbody/tr[1]/td/div/div/div[1]/div[3]/div/table/tbody/tr[2]/td[2]/table/tbody/tr/td/div/div[1]/div/table/tbody/tr/td[2]/table/tbody/tr\"\n",
    "                nombre_concurso = buscador_elementos(driver, path_nombre_concurso).text.strip()\n",
    "\n",
    "                # Obtenemos las pruebas del concurso\n",
    "                path_pruebas = \"/html/body/form/table/tbody/tr/td/div/div/table/tbody/tr/td/table/tbody/tr[1]/td/table/tbody/tr[1]/td/div/div/div[2]\"\n",
    "                pruebas = buscador_elementos(driver, path_pruebas).text.split(\"\\n\")\n",
    "                \n",
    "                claves_pruebas = list(dictio_pruebas_completo_nac.keys())\n",
    "                guardado_info(diccionario = dictio_pruebas_completo_nac, elementos = pruebas, claves = claves_pruebas, indices = [6, 7, 8, 9, 10], step = 6, guardado = False, info = \"general\")\n",
    "\n",
    "                numero_pruebas = len(pruebas[6::6])  # Asumimos que 'Disciplina' tiene una fila por prueba\n",
    "                dictio_pruebas_completo_nac[\"Concurso\"].extend([nombre_concurso] * numero_pruebas)\n",
    "\n",
    "                # accedemos a los resultados de la primera prueba\n",
    "                path_resultados_pruebas = \"/html/body/form/table/tbody/tr/td/div/div/table/tbody/tr/td/table/tbody/tr[1]/td/table/tbody/tr[1]/td/div/div/div[2]/div[2]/div/table/tbody/tr/td/div/div/table/tbody/tr[1]/td/div/div/table/tbody/tr[1]/td/div/div[3]/div/table/tbody/tr/td/a\"\n",
    "                resultados_pruebas = buscador_elementos(driver, path_resultados_pruebas).click()\n",
    "                \n",
    "                time.sleep(4)\n",
    "\n",
    "                extraccion_resultados_jinetes_caballos(driver, dictio_jinetes_completo_nac, dictio_caballos_completo_nac)\n",
    "\n",
    "                driver.close()\n",
    "                cambio_pestaña(1,driver)\n",
    "\n",
    "            # aqui tenemos los concursos que han sido suspendidos\n",
    "            elif i != 5 and \"Resultados: Ver resultados  Ver\" not in contenido_general:\n",
    "                    continue\n",
    "            \n",
    "        # Manejamos las competiciones que han sido aplazadas, las cuales no tendremos en cuenta\n",
    "        except NoSuchElementException:\n",
    "\n",
    "            enlace_concurso = driver.find_element(By.XPATH, f\"/html/body/form/div/div/div/div/div[3]/table/tbody/tr[{i}]/td[4]/font\")\n",
    "            print(enlace_concurso.text)\n",
    "            continue\n",
    "\n",
    "        except NoSuchElementException:\n",
    "            driver.refresh()\n",
    "            continue\n",
    "        \n",
    "        driver.back()\n",
    "\n",
    "    buscador_elementos(driver,\"/html/body/form/table/tbody/tr[2]/td/table[2]/tbody/tr[2]/td[2]/a\").click()\n",
    "                               \n",
    "            \n",
    "    año = obtencion_año(driver)"
   ]
  },
  {
   "cell_type": "markdown",
   "id": "c5d513dc",
   "metadata": {},
   "source": [
    "## Concursos nacionales"
   ]
  },
  {
   "cell_type": "code",
   "execution_count": null,
   "id": "b3433763",
   "metadata": {},
   "outputs": [],
   "source": [
    "# url inicial\n",
    "url = \"https://rfhe.com/competiciones/\"\n",
    "\n",
    "dictio_concursos_salto_nac, dictio_pruebas_salto_nac, dictio_jinetes_salto_nac, dictio_caballos_salto_nac = creacion_dictios_guardado()\n",
    "urls_resultados = []\n",
    "\n",
    "driver = get_competiciones(url)\n",
    "time.sleep(2)\n",
    "\n",
    "# Seleccionamos el ambito de los concursos y la disciplina, en este caso nacional y completo\n",
    "ambito_buscado, disciplina_buscada = resultados_disciplina(driver, disciplina = \"salto\")\n",
    "cambio_pestaña(1,driver)\n",
    "time.sleep(2)\n",
    "\n",
    "año = obtencion_año(driver)\n",
    "\n",
    "while año >= 2017:\n",
    "\n",
    "    # vamos a todos los concursos del año en el que estemos\n",
    "    competiciones_año(driver)\n",
    "\n",
    "    maximo_n_concursos = int(buscador_elementos(driver, \"/html/body/form/div/div/div/ul/li[13]/font\").text.split(\" \")[-1].replace(\"(\", \"\").replace(\")\", \"\"))\n",
    "    if año == 2025:\n",
    "        rango = range(5,139)\n",
    "    elif año < 2025:\n",
    "        rango = range(5, maximo_n_concursos + 5) \n",
    "\n",
    "    for i in rango:\n",
    "\n",
    "        try:\n",
    "            concurso_bueno = buscador_elementos(driver,f\"/html/body/form/div/div/div/div/div[13]/table/tbody/tr[{i}]/td[4]/a\")\n",
    "            print(concurso_bueno.text)\n",
    "            time.sleep(1)\n",
    "            try:\n",
    "                concurso_bueno.click()\n",
    "                cambio_pestaña(2, driver)\n",
    "                time.sleep(2)\n",
    "                contenido_general =  buscador_elementos(driver, \"/html/body/form/table/tbody/tr[2]/td/table[2]/tbody/tr[1]/td[2]/table\").text.split('\\n')\n",
    "                                                                \n",
    "                if \"Resultados: Ver resultados  Ver\" not in contenido_general:\n",
    "                    driver.back()\n",
    "                    time.sleep(1)\n",
    "\n",
    "                elif \"Resultados: Ver resultados  Ver\" in contenido_general:\n",
    "                    print(contenido_general)\n",
    "                    \n",
    "                    extraccion_info_concursos(driver, diccionario_concursos=dictio_concursos_salto_nac, ambito_buscado=ambito_buscado, contenido_general=contenido_general)\n",
    "                    cambio_pestaña(3, driver)\n",
    "                    time.sleep(1)\n",
    "\n",
    "                    if i == 5 and año == 2025:\n",
    "                        extraccion_info_pruebas(driver, dictio_concursos_salto_nac, dictio_pruebas_salto_nac, urls_resultados, es_primer_concurso=True)\n",
    "                    else:\n",
    "                        extraccion_info_pruebas(driver, dictio_concursos_salto_nac, dictio_pruebas_salto_nac, urls_resultados)\n",
    "\n",
    "                    driver.close()\n",
    "                    cambio_pestaña(2, driver)\n",
    "                    driver.close()\n",
    "                    cambio_pestaña(1, driver)\n",
    "                    time.sleep(2)\n",
    "\n",
    "            except NoSuchElementException:\n",
    "                raise NoSuchElementException\n",
    "\n",
    "        except NoSuchElementException:\n",
    "            concurso_bueno = buscador_elementos(driver,f\"/html/body/form/div/div/div/div/div[13]/table/tbody/tr[{i}]/td[4]/font\").text\n",
    "            print(concurso_bueno)\n",
    "    \n",
    "    buscador_elementos(driver,\"/html/body/form/table/tbody/tr[2]/td/table[2]/tbody/tr[2]/td[2]/a\").click()        \n",
    "    año = obtencion_año(driver)\n",
    "driver.quit()"
   ]
  },
  {
   "cell_type": "markdown",
   "id": "48964c88",
   "metadata": {},
   "source": [
    "## Concursos internacionales"
   ]
  },
  {
   "cell_type": "code",
   "execution_count": null,
   "id": "206457f6",
   "metadata": {},
   "outputs": [],
   "source": [
    "# url inicial\n",
    "url = \"https://rfhe.com/competiciones/\"\n",
    "\n",
    "dictio_concursos_salto_int, dictio_pruebas_salto_int, dictio_jinetes_salto_int, dictio_caballos_salto_int = creacion_dictios_guardado()\n",
    "urls_resultados_salto_int = []\n",
    "\n",
    "# inicializamos el driver y lo abrimos\n",
    "driver = get_competiciones(url)\n",
    "time.sleep(2)\n",
    "\n",
    "# Seleccionamos el ambito de los concursos y la disciplina, en este caso nacional y completo\n",
    "ambito_buscado, disciplina_buscada = resultados_disciplina(driver, ambito = \"internacional\", disciplina = \"salto\")\n",
    "cambio_pestaña(1,driver)\n",
    "time.sleep(2)\n",
    "\n",
    "año = obtencion_año(driver)\n",
    "\n",
    "while año >= 2024:\n",
    "\n",
    "    # Buscamos los concursos del año que nos aparece\n",
    "    competiciones_año(driver)\n",
    "\n",
    "    time.sleep(3)\n",
    "\n",
    "    maximo_n_concursos = int(buscador_elementos(driver, \"/html/body/form/div/div/div/ul/li[13]/font\").text.split(\" \")[-1].replace(\"(\", \"\").replace(\")\", \"\"))\n",
    "    if año == 2025:\n",
    "        rango = range(5,33)\n",
    "    elif año < 2025:\n",
    "        rango = range(5, maximo_n_concursos + 5) \n",
    "\n",
    "    for i in rango:\n",
    "        \n",
    "        try:\n",
    "            concurso_bueno = buscador_elementos(driver,f\"/html/body/form/div/div/div/div/div[13]/table/tbody/tr[{i}]/td[4]/a\")\n",
    "            print(concurso_bueno.text)\n",
    "            time.sleep(1)\n",
    "            try:\n",
    "                concurso_bueno.click()\n",
    "                cambio_pestaña(2, driver)\n",
    "                time.sleep(2)\n",
    "                contenido_general = buscador_elementos(driver, \"/html/body/table/tbody/tr[2]/td/table[2]/tbody/tr[1]/td[2]/table\").text.split('\\n')\n",
    "                                                                \n",
    "                if \"Resultados: Ver resultados  Ver\" not in contenido_general:\n",
    "                    driver.close()\n",
    "                    cambio_pestaña(1, driver)\n",
    "                    time.sleep(1) \n",
    "                \n",
    "                elif \"Resultados: Ver resultados  Ver\" in contenido_general:\n",
    "                    extraccion_info_concursos(driver, diccionario_concursos=dictio_concursos_salto_int, ambito_buscado=ambito_buscado, contenido_general=contenido_general)\n",
    "                    cambio_pestaña(3,driver)\n",
    "                    if i == 5 and año == 2025:\n",
    "                        extraccion_info_pruebas(driver, dictio_concursos_salto_int, dictio_pruebas_salto_int, urls_resultados_salto_int, es_primer_concurso=True)\n",
    "                    else:\n",
    "                        extraccion_info_pruebas(driver, dictio_concursos_salto_int, dictio_pruebas_salto_int, urls_resultados_salto_int)\n",
    "                    driver.close()\n",
    "                    cambio_pestaña(2, driver)\n",
    "                    driver.close()\n",
    "                    cambio_pestaña(1, driver)\n",
    "                    time.sleep(2)\n",
    "\n",
    "            except NoSuchElementException:\n",
    "                raise NoSuchElementException\n",
    "\n",
    "        except NoSuchElementException:\n",
    "            concurso_bueno = buscador_elementos(driver,f\"/html/body/form/div/div/div/div/div[13]/table/tbody/tr[{i}]/td[4]/font\").text\n",
    "            print(concurso_bueno)\n",
    "    \n",
    "    buscador_elementos(driver,\"/html/body/form/table/tbody/tr[2]/td/table[2]/tbody/tr[2]/td[2]/a\").click()\n",
    "    time.sleep(3)        \n",
    "    año = obtencion_año(driver)\n",
    "driver.quit()"
   ]
  }
 ],
 "metadata": {
  "kernelspec": {
   "display_name": "venv",
   "language": "python",
   "name": "python3"
  },
  "language_info": {
   "codemirror_mode": {
    "name": "ipython",
    "version": 3
   },
   "file_extension": ".py",
   "mimetype": "text/x-python",
   "name": "python",
   "nbconvert_exporter": "python",
   "pygments_lexer": "ipython3",
   "version": "3.12.4"
  }
 },
 "nbformat": 4,
 "nbformat_minor": 5
}
