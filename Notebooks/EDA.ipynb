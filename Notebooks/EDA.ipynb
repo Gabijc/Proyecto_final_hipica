{
 "cells": [
  {
   "cell_type": "markdown",
   "id": "a2cb9e03",
   "metadata": {},
   "source": [
    "# EDA"
   ]
  },
  {
   "cell_type": "code",
   "execution_count": 1,
   "id": "7df2e218",
   "metadata": {},
   "outputs": [],
   "source": [
    "import psycopg2 as ps\n",
    "import pandas as pd\n",
    "import matplotlib.pyplot as plt\n",
    "import seaborn as sns\n",
    "import plotly.express as px"
   ]
  },
  {
   "cell_type": "code",
   "execution_count": 2,
   "id": "e8abdc84",
   "metadata": {},
   "outputs": [],
   "source": [
    "def conexion_BBDD(nombre_BBDD, usuario, contraseña, anfitrion, puerto):\n",
    "\n",
    "    conn = ps.connect(\n",
    "                    dbname = nombre_BBDD, \n",
    "                    user = usuario,\n",
    "                    password = contraseña,\n",
    "                    host = anfitrion,\n",
    "                    port = puerto)\n",
    "\n",
    "    return conn"
   ]
  },
  {
   "cell_type": "code",
   "execution_count": 3,
   "id": "8cc3abc1",
   "metadata": {},
   "outputs": [],
   "source": [
    "dbname = \"BBDD_Hipica\", # base a la que nos queremos conectar\n",
    "user = \"postgres\",\n",
    "password = \"admin\",\n",
    "host = \"localhost\",\n",
    "port = \"5432\" # puerto en el que s eencuentra postgres"
   ]
  },
  {
   "cell_type": "code",
   "execution_count": 4,
   "id": "e7d9ce1b",
   "metadata": {},
   "outputs": [
    {
     "data": {
      "text/plain": [
       "('PostgreSQL 16.4, compiled by Visual C++ build 1940, 64-bit',)"
      ]
     },
     "execution_count": 4,
     "metadata": {},
     "output_type": "execute_result"
    }
   ],
   "source": [
    "conn = conexion_BBDD(dbname[0], user[0], password[0], host[0], port)\n",
    "cur = conn.cursor()\n",
    "# COmprobamos que la conexión está creada y conectada\n",
    "cur.execute(\"SELECT version();\")\n",
    "cur.fetchone() "
   ]
  },
  {
   "cell_type": "markdown",
   "id": "d2309f64",
   "metadata": {},
   "source": [
    "## Análisis de concursos y pruebas"
   ]
  },
  {
   "cell_type": "code",
   "execution_count": 5,
   "id": "51f9999e",
   "metadata": {},
   "outputs": [],
   "source": [
    "def ejecutor_querys(cur, query):\n",
    "    cur.execute(query)\n",
    "    return cur.fetchall()"
   ]
  },
  {
   "cell_type": "code",
   "execution_count": null,
   "id": "16942a0d",
   "metadata": {},
   "outputs": [],
   "source": [
    "query_concursos_completos = \"\"\"\n",
    "        SELECT *\n",
    "        FROM concursos c;\n",
    "\"\"\"\n",
    "query_n_concursos = \"\"\"\n",
    "        SELECT COUNT(id_concurso)\n",
    "        FROM concursos c;\n",
    "\"\"\"\n",
    "query_fechas_concursos = \"\"\"\n",
    "        SELECT \n",
    "                MIN(fecha_inicio_concurso),\n",
    "                MAX(fecha_fin_concurso)\n",
    "        FROM concursos c;\n",
    "\"\"\"\n",
    "query_concursos_mes = \"\"\"\n",
    "        SELECT \n",
    "                EXTRACT(MONTH FROM fecha_inicio_concurso),\n",
    "                COUNT(id_concurso)\n",
    "        FROM concursos c\n",
    "        GROUP BY EXTRACT(MONTH FROM fecha_inicio_concurso)\n",
    "        ORDER BY COUNT(id_concurso) DESC;\n",
    "\"\"\"\n",
    "query_concursos_ambito = \"\"\"\n",
    "        SELECT \n",
    "                ambito_concurso,\n",
    "                CONCAT((COUNT(id_concurso)) * 100 / (SELECT COUNT(id_concurso) FROM concursos c), ' ', '%')\n",
    "        FROM concursos c\n",
    "        GROUP BY ambito_concurso\n",
    "        ORDER BY COUNT(id_concurso) DESC;\n",
    "\"\"\"\n",
    "query_concursos_federacion = \"\"\"\n",
    "        SELECT \n",
    "                federacion_concurso,\n",
    "                COUNT(id_concurso)\n",
    "        FROM concursos c\n",
    "        GROUP BY federacion_concurso\n",
    "        ORDER BY COUNT(id_concurso) DESC;\n",
    "\"\"\"\n",
    "query_concursos_provincia = \"\"\"\n",
    "        SELECT \n",
    "                provincia_concurso,\n",
    "                COUNT(id_concurso)\n",
    "        FROM concursos c\n",
    "        GROUP BY provincia_concurso\n",
    "        ORDER BY COUNT(id_concurso) DESC;\n",
    "\"\"\"\n",
    "\n",
    "query_concursos_localidad = \"\"\"\n",
    "        SELECT \n",
    "                localidad_concurso,\n",
    "                COUNT(id_concurso)\n",
    "        FROM concursos c\n",
    "        GROUP BY localidad_concurso\n",
    "        ORDER BY COUNT(id_concurso) DESC;\n",
    "\"\"\"\n",
    "\n",
    "query_concursos_localidad = \"\"\"\n",
    "        SELECT \n",
    "                localidad_concurso,\n",
    "                COUNT(id_concurso)\n",
    "        FROM concursos c\n",
    "        GROUP BY localidad_concurso\n",
    "        ORDER BY COUNT(id_concurso) DESC;\n",
    "\"\"\"\n",
    "query_concursos_pruebas_concurso = \"\"\"\n",
    "        \n",
    "        WITH pruebas_concurso AS (\n",
    "                SELECT \n",
    "                        c.id_concurso,\n",
    "                        COUNT(DISTINCT p.id_prueba) as n_pruebas_concurso\n",
    "                FROM resultados r\n",
    "                        JOIN concursos c ON r.id_concurso = c.id_concurso\n",
    "                        JOIN pruebas p ON r.id_prueba = p.id_prueba\n",
    "                GROUP BY c.id_concurso\n",
    "        )\n",
    "        SELECT \n",
    "                ROUND(AVG(n_pruebas_concurso), 0)\n",
    "        FROM pruebas_concurso;\n",
    "\n",
    "\"\"\"\n",
    "# para tipos de pruebas: SELECT CHARINDEX('OM', 'Customer') AS MatchPosition;"
   ]
  },
  {
   "cell_type": "code",
   "execution_count": 57,
   "id": "81921080",
   "metadata": {},
   "outputs": [],
   "source": [
    "meses = {\n",
    "    1: \"enero\",\n",
    "    2: \"febrero\",\n",
    "    3: \"marzo\",\n",
    "    4: \"abril\",\n",
    "    5: \"mayo\",\n",
    "    6: \"junio\",\n",
    "    7: \"julio\",\n",
    "    8: \"agosto\",\n",
    "    9: \"septiembre\",\n",
    "    10: \"octubre\",\n",
    "    11: \"noviembre\",\n",
    "    12: \"diciembre\"\n",
    "}\n"
   ]
  },
  {
   "cell_type": "code",
   "execution_count": 143,
   "id": "b8291366",
   "metadata": {},
   "outputs": [],
   "source": [
    "conn.rollback()"
   ]
  },
  {
   "cell_type": "code",
   "execution_count": 131,
   "id": "fbf7815c",
   "metadata": {},
   "outputs": [],
   "source": [
    "federaciones = ejecutor_querys(cur, query_concursos_federacion)"
   ]
  },
  {
   "cell_type": "code",
   "execution_count": 132,
   "id": "0bff85d4",
   "metadata": {},
   "outputs": [],
   "source": [
    "concursos_provincias = ejecutor_querys(cur, query_concursos_provincia)"
   ]
  },
  {
   "cell_type": "code",
   "execution_count": 133,
   "id": "998f3132",
   "metadata": {},
   "outputs": [],
   "source": [
    "localidades = ejecutor_querys(cur, query_concursos_localidad)"
   ]
  },
  {
   "cell_type": "code",
   "execution_count": 161,
   "id": "990d4675",
   "metadata": {},
   "outputs": [
    {
     "name": "stdout",
     "output_type": "stream",
     "text": [
      "\n",
      "      Se han celebrado un total de 122 concursos, entre el 2025-01-10 y el 2025-04-27. Un 73 % de los concursos han sido de \n",
      "      ámbito internacional, frente a los de ámbito nacional, que representan un 26 % del total.\n",
      "\n",
      "      El mes que más concursos se han realizado ha sido febrero, con un total de 41 concursos, y el mes que menos concursos se han realizado ha sido el mes de abril, \n",
      "      con un total de 21 concursos. La provincia en la que más concursos se han realizado ha sido Valencia, y la provincia en la que menos se han realizado ha sido Córdoba.\n",
      "\n",
      "      De media en un concurso se realizan 13 pruebas. \n",
      "\n",
      "      \n"
     ]
    }
   ],
   "source": [
    "n_concursos = ejecutor_querys(cur, query_n_concursos)\n",
    "fechas_concursos_25 = ejecutor_querys(cur, query_fechas_concursos)\n",
    "n_concursos_mes = ejecutor_querys(cur, query_concursos_mes)\n",
    "n_concursos_ambito= ejecutor_querys(cur, query_concursos_ambito)\n",
    "media_pruebas_concurso = ejecutor_querys(cur, query_concursos_pruebas_concurso)\n",
    "print(f\"\"\"\n",
    "      Se han celebrado un total de {n_concursos[0][0]} concursos, entre el {str(fechas_concursos_25[0][0])} y el {str(fechas_concursos_25[0][1])}. Un {n_concursos_ambito[0][1]} de los concursos han sido de \n",
    "      ámbito {str(n_concursos_ambito[0][0]).lower()}, frente a los de ámbito {str(n_concursos_ambito[1][0]).lower()}, que representan un {n_concursos_ambito[1][1]} del total.\n",
    "      \n",
    "      El mes que más concursos se han realizado ha sido {meses[int(n_concursos_mes[0][0])]}, con un total de {n_concursos_mes[0][1]} concursos, y el mes que menos concursos se han realizado ha sido el mes de {meses[int(n_concursos_mes[-1][0])]}, \n",
    "      con un total de {n_concursos_mes[-1][1]} concursos. La provincia en la que más concursos se han realizado ha sido {concursos_provincias[0][0]}, y la provincia en la que menos se han realizado ha sido {concursos_provincias[-1][0]}.\n",
    "      \n",
    "      De media en un concurso se realizan {str(media_pruebas_concurso[0][0]).replace('.', ',')} pruebas. \n",
    "      \n",
    "      \"\"\")\n",
    "\n"
   ]
  },
  {
   "cell_type": "code",
   "execution_count": 126,
   "id": "5b95aecb",
   "metadata": {},
   "outputs": [
    {
     "data": {
      "text/html": [
       "<div>\n",
       "<style scoped>\n",
       "    .dataframe tbody tr th:only-of-type {\n",
       "        vertical-align: middle;\n",
       "    }\n",
       "\n",
       "    .dataframe tbody tr th {\n",
       "        vertical-align: top;\n",
       "    }\n",
       "\n",
       "    .dataframe thead th {\n",
       "        text-align: right;\n",
       "    }\n",
       "</style>\n",
       "<table border=\"1\" class=\"dataframe\">\n",
       "  <thead>\n",
       "    <tr style=\"text-align: right;\">\n",
       "      <th></th>\n",
       "      <th>id_concurso</th>\n",
       "      <th>nombre_concurso</th>\n",
       "      <th>categoria_concurso</th>\n",
       "      <th>pais_concurso</th>\n",
       "      <th>provincia_concurso</th>\n",
       "      <th>localidad_concurso</th>\n",
       "      <th>ambito_concurso</th>\n",
       "      <th>federacion_concurso</th>\n",
       "      <th>fecha_inicio_concurso</th>\n",
       "      <th>fecha_fin_concurso</th>\n",
       "    </tr>\n",
       "  </thead>\n",
       "  <tbody>\n",
       "    <tr>\n",
       "      <th>0</th>\n",
       "      <td>1</td>\n",
       "      <td>CSN3* Invierno</td>\n",
       "      <td>CSN***</td>\n",
       "      <td>Epaña</td>\n",
       "      <td>Sevilla</td>\n",
       "      <td>Real Club Pineda</td>\n",
       "      <td>Nacional</td>\n",
       "      <td>Federación Hípica Andaluza</td>\n",
       "      <td>2025-01-10</td>\n",
       "      <td>2025-01-12</td>\n",
       "    </tr>\n",
       "    <tr>\n",
       "      <th>1</th>\n",
       "      <td>2</td>\n",
       "      <td>SPRING MET I 2025 YH*</td>\n",
       "      <td>CSI YH*</td>\n",
       "      <td>Epaña</td>\n",
       "      <td>Valencia</td>\n",
       "      <td>Centro Ecuestre Oliva Nova</td>\n",
       "      <td>Internacional</td>\n",
       "      <td>Federación Hípica Comunidad Valenciana</td>\n",
       "      <td>2025-01-14</td>\n",
       "      <td>2025-01-16</td>\n",
       "    </tr>\n",
       "    <tr>\n",
       "      <th>2</th>\n",
       "      <td>3</td>\n",
       "      <td>MOURA TOURS VALENCIA - SPRING TOUR</td>\n",
       "      <td>CSI*</td>\n",
       "      <td>Epaña</td>\n",
       "      <td>Valencia</td>\n",
       "      <td>Moura Tours</td>\n",
       "      <td>Internacional</td>\n",
       "      <td>Federación Hípica Comunidad Valenciana</td>\n",
       "      <td>2025-01-20</td>\n",
       "      <td>2025-01-26</td>\n",
       "    </tr>\n",
       "    <tr>\n",
       "      <th>3</th>\n",
       "      <td>4</td>\n",
       "      <td>SPRING MET I 2025 - SILVER 1*</td>\n",
       "      <td>CSI*</td>\n",
       "      <td>Epaña</td>\n",
       "      <td>Valencia</td>\n",
       "      <td>Centro Ecuestre Oliva Nova</td>\n",
       "      <td>Internacional</td>\n",
       "      <td>Federación Hípica Comunidad Valenciana</td>\n",
       "      <td>2025-01-16</td>\n",
       "      <td>2025-01-18</td>\n",
       "    </tr>\n",
       "    <tr>\n",
       "      <th>4</th>\n",
       "      <td>5</td>\n",
       "      <td>SPRING MET I 2025 - GOLD 2*</td>\n",
       "      <td>CSI**</td>\n",
       "      <td>Epaña</td>\n",
       "      <td>Valencia</td>\n",
       "      <td>Centro Ecuestre Oliva Nova</td>\n",
       "      <td>Internacional</td>\n",
       "      <td>Federación Hípica Comunidad Valenciana</td>\n",
       "      <td>2025-01-16</td>\n",
       "      <td>2025-01-19</td>\n",
       "    </tr>\n",
       "  </tbody>\n",
       "</table>\n",
       "</div>"
      ],
      "text/plain": [
       "   id_concurso                     nombre_concurso categoria_concurso  \\\n",
       "0            1                      CSN3* Invierno             CSN***   \n",
       "1            2               SPRING MET I 2025 YH*            CSI YH*   \n",
       "2            3  MOURA TOURS VALENCIA - SPRING TOUR               CSI*   \n",
       "3            4       SPRING MET I 2025 - SILVER 1*               CSI*   \n",
       "4            5         SPRING MET I 2025 - GOLD 2*              CSI**   \n",
       "\n",
       "  pais_concurso provincia_concurso          localidad_concurso  \\\n",
       "0         Epaña            Sevilla            Real Club Pineda   \n",
       "1         Epaña           Valencia  Centro Ecuestre Oliva Nova   \n",
       "2         Epaña           Valencia                 Moura Tours   \n",
       "3         Epaña           Valencia  Centro Ecuestre Oliva Nova   \n",
       "4         Epaña           Valencia  Centro Ecuestre Oliva Nova   \n",
       "\n",
       "  ambito_concurso                     federacion_concurso  \\\n",
       "0        Nacional              Federación Hípica Andaluza   \n",
       "1   Internacional  Federación Hípica Comunidad Valenciana   \n",
       "2   Internacional  Federación Hípica Comunidad Valenciana   \n",
       "3   Internacional  Federación Hípica Comunidad Valenciana   \n",
       "4   Internacional  Federación Hípica Comunidad Valenciana   \n",
       "\n",
       "  fecha_inicio_concurso fecha_fin_concurso  \n",
       "0            2025-01-10         2025-01-12  \n",
       "1            2025-01-14         2025-01-16  \n",
       "2            2025-01-20         2025-01-26  \n",
       "3            2025-01-16         2025-01-18  \n",
       "4            2025-01-16         2025-01-19  "
      ]
     },
     "execution_count": 126,
     "metadata": {},
     "output_type": "execute_result"
    }
   ],
   "source": [
    "concursos = pd.DataFrame(ejecutor_querys(cur, query_concursos_completos)).rename(columns = {0: \"id_concurso\", 1: \"nombre_concurso\", 2: \"categoria_concurso\", 3: \"pais_concurso\", 4: \"provincia_concurso\", 5: \"localidad_concurso\", 6: \"ambito_concurso\", 7: \"federacion_concurso\", 8: \"fecha_inicio_concurso\", 9: \"fecha_fin_concurso\"})\n",
    "concursos.head()"
   ]
  },
  {
   "cell_type": "code",
   "execution_count": 130,
   "id": "adf195a7",
   "metadata": {},
   "outputs": [
    {
     "data": {
      "text/plain": [
       "{'Asturias': ['Club Hipico Astur'],\n",
       " 'Barcelona': ['Real Club De Polo De Barcelona', 'Open Sports Club'],\n",
       " 'Cantabria': ['Heras Horses & Events'],\n",
       " 'Cádiz': ['Dehesa Montenmedio'],\n",
       " 'Córdoba': ['Palma Del Rio'],\n",
       " 'Granada': ['Granada'],\n",
       " 'Madrid': ['Club Hipico Las Cadenas',\n",
       "  'R.A.C.E.',\n",
       "  'Las Cadenas',\n",
       "  'R.S.H.E.C.C.'],\n",
       " 'Murcia': ['Club Aros'],\n",
       " 'Segovia': ['Cenro Ecuestre De Castilla Y León'],\n",
       " 'Sevilla': ['Real Club Pineda'],\n",
       " 'Tenerife': ['C.H Nueva Atalaya', 'C.H. Del Sur Los Migueles'],\n",
       " 'Valencia': ['Centro Ecuestre Oliva Nova',\n",
       "  'Moura Tours',\n",
       "  'Ceon',\n",
       "  'Mouratours Valencia',\n",
       "  'Mouratours'],\n",
       " 'Zamora': ['Equus Duri']}"
      ]
     },
     "execution_count": 130,
     "metadata": {},
     "output_type": "execute_result"
    }
   ],
   "source": [
    "# Suponiendo que tu DataFrame se llama df\n",
    "diccionario = concursos.groupby('provincia_concurso')['localidad_concurso'].unique().apply(list).to_dict()\n",
    "diccionario"
   ]
  },
  {
   "cell_type": "markdown",
   "id": "dd137c0e",
   "metadata": {},
   "source": [
    "## Análisis de jinetes"
   ]
  },
  {
   "cell_type": "markdown",
   "id": "a5745a34",
   "metadata": {},
   "source": [
    "## Análisis de caballos"
   ]
  },
  {
   "cell_type": "markdown",
   "id": "972ec7bd",
   "metadata": {},
   "source": [
    "## Análisis de pruebas"
   ]
  },
  {
   "cell_type": "markdown",
   "id": "d86f66fa",
   "metadata": {},
   "source": [
    "## Análisis de resultados"
   ]
  }
 ],
 "metadata": {
  "kernelspec": {
   "display_name": "venv",
   "language": "python",
   "name": "python3"
  },
  "language_info": {
   "codemirror_mode": {
    "name": "ipython",
    "version": 3
   },
   "file_extension": ".py",
   "mimetype": "text/x-python",
   "name": "python",
   "nbconvert_exporter": "python",
   "pygments_lexer": "ipython3",
   "version": "3.12.4"
  }
 },
 "nbformat": 4,
 "nbformat_minor": 5
}
