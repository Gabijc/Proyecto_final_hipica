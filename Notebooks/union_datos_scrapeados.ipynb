{
 "cells": [
  {
   "cell_type": "code",
   "execution_count": 1,
   "id": "e5c7d8e0",
   "metadata": {},
   "outputs": [],
   "source": [
    "import json\n",
    "import pandas as pd"
   ]
  },
  {
   "cell_type": "markdown",
   "id": "57beb9d2",
   "metadata": {},
   "source": [
    "# Salto"
   ]
  },
  {
   "cell_type": "code",
   "execution_count": 2,
   "id": "2f2e7682",
   "metadata": {},
   "outputs": [
    {
     "name": "stdout",
     "output_type": "stream",
     "text": [
      "La longitud de Nombre es: 149\n",
      "La longitud de Categoría es: 149\n",
      "La longitud de Provincia es: 149\n",
      "La longitud de Localidad es: 149\n",
      "La longitud de Disciplina es: 149\n",
      "La longitud de Federación es: 149\n",
      "La longitud de Resultados es: 149\n",
      "La longitud de País es: 149\n",
      "La longitud de Inicio es: 148\n",
      "La longitud de Final es: 148\n",
      "La longitud de Ambito es: 148\n"
     ]
    }
   ],
   "source": [
    "with open('../data/data_salto/concursos/concursos_salto_internacional_2025.json', 'r', encoding='utf-8') as file:\n",
    "    datos_pruebas = json.load(file)\n",
    "\n",
    "# Ver la longitud de cada lista dentro del JSON\n",
    "for key, value in datos_pruebas.items():\n",
    "    if isinstance(value, list):  # Verificamos si el valor es una lista\n",
    "        print(f\"La longitud de {key} es: {len(value)}\")"
   ]
  },
  {
   "cell_type": "code",
   "execution_count": 3,
   "id": "53f225d7",
   "metadata": {},
   "outputs": [
    {
     "name": "stdout",
     "output_type": "stream",
     "text": [
      "\n",
      "🔎 Valores faltantes en la lista 'Inicio':\n",
      "- Índice 148 → concurso: CSI1* Opglabbeek | Inicio: (sin fecha) | Final: (sin fecha)\n",
      "\n",
      "🔎 Valores faltantes en la lista 'Final':\n",
      "- Índice 148 → concurso: CSI1* Opglabbeek | Inicio: (sin fecha) | Final: (sin fecha)\n",
      "\n",
      "🔎 Valores faltantes en la lista 'Ambito':\n",
      "- Índice 148 → concurso: CSI1* Opglabbeek | Inicio: (sin fecha) | Final: (sin fecha)\n"
     ]
    }
   ],
   "source": [
    "import json\n",
    "\n",
    "# Cargar el JSON\n",
    "with open('../data/data_salto/concursos/concursos_salto_internacional_2025.json', 'r', encoding='utf-8') as file:\n",
    "    datos_concursos = json.load(file)\n",
    "\n",
    "# Obtener la longitud de referencia\n",
    "longitud_maxima = max(len(v) for v in datos_concursos.values() if isinstance(v, list))\n",
    "\n",
    "# Listas a revisar\n",
    "listas_objetivo = [\"Inicio\", \"Final\", \"Ambito\"]\n",
    "\n",
    "# Detectar y mostrar valores faltantes\n",
    "for key in listas_objetivo:\n",
    "    lista = datos_concursos[key]\n",
    "    indices_presentes = set(range(len(lista)))\n",
    "    indices_totales = set(range(longitud_maxima))\n",
    "    indices_faltantes = sorted(indices_totales - indices_presentes)\n",
    "\n",
    "    print(f\"\\n🔎 Valores faltantes en la lista '{key}':\")\n",
    "\n",
    "    for idx in indices_faltantes:\n",
    "        nombre = datos_concursos[\"Nombre\"][idx] if idx < len(datos_concursos[\"Nombre\"]) else \"(sin nombre)\"\n",
    "        fecha_inicio = datos_concursos[\"Inicio\"][idx] if idx < len(datos_concursos[\"Inicio\"]) else \"(sin fecha)\"\n",
    "        fecha_final = datos_concursos[\"Final\"][idx] if idx < len(datos_concursos[\"Final\"]) else \"(sin fecha)\"\n",
    "        print(f\"- Índice {idx} → concurso: {nombre} | Inicio: {fecha_inicio} | Final: {fecha_final}\")\n",
    "\n"
   ]
  },
  {
   "cell_type": "code",
   "execution_count": 4,
   "id": "cfbdf9d7",
   "metadata": {},
   "outputs": [
    {
     "name": "stdout",
     "output_type": "stream",
     "text": [
      "La longitud de Disciplina es: 1144\n",
      "La longitud de Fecha es: 1144\n",
      "La longitud de Prueba es: 1144\n",
      "La longitud de Categoría es: 1142\n",
      "La longitud de Número es: 1141\n",
      "La longitud de Concurso es: 1144\n"
     ]
    }
   ],
   "source": [
    "with open('../data/data_salto/pruebas/pruebas_salto_internacional_2025.json', 'r', encoding='utf-8') as file:\n",
    "    datos_pruebas = json.load(file)\n",
    "\n",
    "# Ver la longitud de cada lista dentro del JSON\n",
    "for key, value in datos_pruebas.items():\n",
    "    if isinstance(value, list):  # Verificamos si el valor es una lista\n",
    "        print(f\"La longitud de {key} es: {len(value)}\")"
   ]
  },
  {
   "cell_type": "code",
   "execution_count": 7,
   "id": "74195840",
   "metadata": {},
   "outputs": [
    {
     "name": "stdout",
     "output_type": "stream",
     "text": [
      "\n",
      "🔍 Faltantes en 'Prueba':\n",
      "- Índice 14957 → concurso: 'CSI2* LIER (BEL)' | fecha: 115-125 - Two phases, both atc T A\n",
      "- Índice 14958 → concurso: 'CSI2* LIER (BEL)' | fecha: CSI YH*\n",
      "- Índice 14959 → concurso: 'CSI2* LIER (BEL)' | fecha: Disponibles\n",
      "- Índice 14960 → concurso: 'CSI2* LIER (BEL)' | fecha: Salto de Obstáculos\n",
      "- Índice 14961 → concurso: 'CSI2* LIER (BEL)' | fecha: 16/12/2020\n",
      "- Índice 14962 → concurso: 'CSI2* LIER (BEL)' | fecha: 16/12/2020\n",
      "- Índice 14963 → concurso: 'CSI2* LIER (BEL)' | fecha: 17/12/2020\n",
      "- Índice 14964 → concurso: 'CSI2* LIER (BEL)' | fecha: 17/12/2020\n",
      "- Índice 14965 → concurso: 'CSIYH LIER (BEL)' | fecha: 18/12/2020\n",
      "- Índice 14966 → concurso: 'CSIYH LIER (BEL)' | fecha: 18/12/2020\n",
      "- Índice 14967 → concurso: 'CSIYH LIER (BEL)' | fecha: 19/12/2020\n",
      "- Índice 14968 → concurso: 'CSIYH LIER (BEL)' | fecha: 19/12/2020\n",
      "- Índice 14969 → concurso: 'CSIYH LIER (BEL)' | fecha: 20/12/2020\n",
      "- Índice 14970 → concurso: 'CSI2* LIER (BEL)' | fecha: (sin fecha)\n",
      "- Índice 14971 → concurso: 'CSI2* LIER (BEL)' | fecha: (sin fecha)\n",
      "- Índice 14972 → concurso: 'CSI2* LIER (BEL)' | fecha: (sin fecha)\n",
      "- Índice 14973 → concurso: 'CSI2* LIER (BEL)' | fecha: (sin fecha)\n",
      "- Índice 14974 → concurso: 'CSI2* LIER (BEL)' | fecha: (sin fecha)\n",
      "- Índice 14975 → concurso: 'CSI2* LIER (BEL)' | fecha: (sin fecha)\n",
      "- Índice 14976 → concurso: 'CSI2* LIER (BEL)' | fecha: (sin fecha)\n",
      "- Índice 14977 → concurso: 'CSI2* LIER (BEL)' | fecha: (sin fecha)\n",
      "- Índice 14978 → concurso: 'CSI2* LIER (BEL)' | fecha: (sin fecha)\n",
      "\n",
      "🔍 Faltantes en 'Categoría':\n",
      "- Índice 14808 → concurso: 'CSI1* LIER (BEL)' | fecha: Disponibles\n",
      "- Índice 14809 → concurso: 'CSI1* LIER (BEL)' | fecha: Salto de Obstáculos\n",
      "- Índice 14810 → concurso: 'CSI1* LIER (BEL)' | fecha: 10/11/2020\n",
      "- Índice 14811 → concurso: 'CSI1* LIER (BEL)' | fecha: 140 - T A, one round atc\n",
      "- Índice 14812 → concurso: 'CSI1* LIER (BEL)' | fecha: CSI****\n",
      "- Índice 14813 → concurso: 'CSI1* LIER (BEL)' | fecha: Disponibles\n",
      "- Índice 14814 → concurso: 'CSIYH LIER (BEL)' | fecha: Salto de Obstáculos\n",
      "- Índice 14815 → concurso: 'CSIYH LIER (BEL)' | fecha: 12/11/2020\n",
      "- Índice 14816 → concurso: 'CSIYH LIER (BEL)' | fecha: 135 - \"Temps différé\". First phase not atc T A. Second phase T A atc, pts of both phases are aggregated\n",
      "- Índice 14817 → concurso: 'CSIYH LIER (BEL)' | fecha: CSI****\n",
      "- Índice 14818 → concurso: 'CSIYH LIER (BEL)' | fecha: Disponibles\n",
      "- Índice 14819 → concurso: 'CSI4* VILAMOURA (POR)' | fecha: Salto de Obstáculos\n",
      "- Índice 14820 → concurso: 'CSI4* VILAMOURA (POR)' | fecha: 12/11/2020\n",
      "- Índice 14821 → concurso: 'CSI4* VILAMOURA (POR)' | fecha: 110 - T A, one round atc\n",
      "- Índice 14822 → concurso: 'CSI4* VILAMOURA (POR)' | fecha: CSI*\n",
      "- Índice 14823 → concurso: 'CSI4* VILAMOURA (POR)' | fecha: Disponibles\n",
      "- Índice 14824 → concurso: 'CSI4* VILAMOURA (POR)' | fecha: Salto de Obstáculos\n",
      "- Índice 14825 → concurso: 'CSI4* VILAMOURA (POR)' | fecha: 14/11/2020\n",
      "- Índice 14826 → concurso: 'CSI4* VILAMOURA (POR)' | fecha: 120-125 - T A, one round atc\n",
      "- Índice 14827 → concurso: 'CSI4* VILAMOURA (POR)' | fecha: CSI YH*\n",
      "- Índice 14828 → concurso: 'CSI4* VILAMOURA (POR)' | fecha: Disponibles\n",
      "- Índice 14829 → concurso: 'CSI1* VILAMOURA (POR)' | fecha: Salto de Obstáculos\n",
      "- Índice 14830 → concurso: 'CSI1* VILAMOURA (POR)' | fecha: 16/11/2020\n",
      "- Índice 14831 → concurso: 'CSI1* VILAMOURA (POR)' | fecha: 125-130 - \"Temps différé\". First phase not atc T A. Second phase T A atc, pts of both phases are aggregated\n",
      "- Índice 14832 → concurso: 'CSI1* VILAMOURA (POR)' | fecha: CSI YH*\n",
      "- Índice 14833 → concurso: 'CSI1* VILAMOURA (POR)' | fecha: 12/11/2020\n",
      "- Índice 14834 → concurso: 'CSIYH VILAMOURA (POR)' | fecha: 12/11/2020\n",
      "- Índice 14835 → concurso: 'CSIYH VILAMOURA (POR)' | fecha: 12/11/2020\n",
      "- Índice 14836 → concurso: 'CSIYH VILAMOURA (POR)' | fecha: 13/11/2020\n",
      "- Índice 14837 → concurso: 'CSIYH VILAMOURA (POR)' | fecha: 13/11/2020\n",
      "- Índice 14838 → concurso: 'CSIYH VILAMOURA (POR)' | fecha: 13/11/2020\n",
      "- Índice 14839 → concurso: 'CSIYH VILAMOURA (POR)' | fecha: 14/11/2020\n",
      "- Índice 14840 → concurso: 'CSIYH VILAMOURA (POR)' | fecha: 14/11/2020\n",
      "- Índice 14841 → concurso: 'CSIYH VILAMOURA (POR)' | fecha: 15/11/2020\n",
      "- Índice 14842 → concurso: 'CSI2* OPGLABBEEK (BEL)' | fecha: 15/11/2020\n",
      "- Índice 14843 → concurso: 'CSI2* OPGLABBEEK (BEL)' | fecha: 12/11/2020\n",
      "- Índice 14844 → concurso: 'CSI2* OPGLABBEEK (BEL)' | fecha: 12/11/2020\n",
      "- Índice 14845 → concurso: 'CSI2* OPGLABBEEK (BEL)' | fecha: 12/11/2020\n",
      "- Índice 14846 → concurso: 'CSI2* OPGLABBEEK (BEL)' | fecha: 13/11/2020\n",
      "- Índice 14847 → concurso: 'CSI2* OPGLABBEEK (BEL)' | fecha: 13/11/2020\n",
      "- Índice 14848 → concurso: 'CSI2* OPGLABBEEK (BEL)' | fecha: 14/11/2020\n",
      "- Índice 14849 → concurso: 'CSI2* OPGLABBEEK (BEL)' | fecha: 14/11/2020\n",
      "- Índice 14850 → concurso: 'CSI2* OPGLABBEEK (BEL)' | fecha: 14/11/2020\n",
      "- Índice 14851 → concurso: 'CSI2* OPGLABBEEK (BEL)' | fecha: 15/11/2020\n",
      "- Índice 14852 → concurso: 'CSIYH OPGLABBEEK (BEL)' | fecha: 17/11/2020\n",
      "- Índice 14853 → concurso: 'CSIYH OPGLABBEEK (BEL)' | fecha: 17/11/2020\n",
      "- Índice 14854 → concurso: 'CSIYH OPGLABBEEK (BEL)' | fecha: 17/11/2020\n",
      "- Índice 14855 → concurso: 'CSIYH OPGLABBEEK (BEL)' | fecha: 18/11/2020\n",
      "- Índice 14856 → concurso: 'CSIYH OPGLABBEEK (BEL)' | fecha: 18/11/2020\n",
      "- Índice 14857 → concurso: 'CSIYH OPGLABBEEK (BEL)' | fecha: 18/11/2020\n",
      "- Índice 14858 → concurso: 'CSIYH OPGLABBEEK (BEL)' | fecha: 19/11/2020\n",
      "- Índice 14859 → concurso: 'CSIYH OPGLABBEEK (BEL)' | fecha: 19/11/2020\n",
      "- Índice 14860 → concurso: 'CSIYH OPGLABBEEK (BEL)' | fecha: 19/11/2020\n",
      "- Índice 14861 → concurso: 'CSIO3* VILAMOURA (POR)' | fecha: 19/11/2020\n",
      "- Índice 14862 → concurso: 'CSIO3* VILAMOURA (POR)' | fecha: 19/11/2020\n",
      "- Índice 14863 → concurso: 'CSIO3* VILAMOURA (POR)' | fecha: 19/11/2020\n",
      "- Índice 14864 → concurso: 'CSIO3* VILAMOURA (POR)' | fecha: 20/11/2020\n",
      "- Índice 14865 → concurso: 'CSIO3* VILAMOURA (POR)' | fecha: 20/11/2020\n",
      "- Índice 14866 → concurso: 'CSIO3* VILAMOURA (POR)' | fecha: 21/11/2020\n",
      "- Índice 14867 → concurso: 'CSIO3* VILAMOURA (POR)' | fecha: 21/11/2020\n",
      "- Índice 14868 → concurso: 'CSIO3* VILAMOURA (POR)' | fecha: 22/11/2020\n",
      "- Índice 14869 → concurso: 'CSIO3* VILAMOURA (POR)' | fecha: 22/11/2020\n",
      "- Índice 14870 → concurso: 'CSI2* LIER (BEL)' | fecha: 19/11/2020\n",
      "- Índice 14871 → concurso: 'CSI2* LIER (BEL)' | fecha: 115-125 - Two phases, both atc T A\n",
      "- Índice 14872 → concurso: 'CSI2* LIER (BEL)' | fecha: CSI YH*\n",
      "- Índice 14873 → concurso: 'CSI2* LIER (BEL)' | fecha: Disponibles\n",
      "- Índice 14874 → concurso: 'CSI2* LIER (BEL)' | fecha: Salto de Obstáculos\n",
      "- Índice 14875 → concurso: 'CSI2* LIER (BEL)' | fecha: 25/11/2020\n",
      "- Índice 14876 → concurso: 'CSI2* LIER (BEL)' | fecha: 25/11/2020\n",
      "- Índice 14877 → concurso: 'CSI2* LIER (BEL)' | fecha: 27/11/2020\n",
      "- Índice 14878 → concurso: 'CSI2* LIER (BEL)' | fecha: 28/11/2020\n",
      "- Índice 14879 → concurso: 'CSIYH LIER (BEL)' | fecha: 29/11/2020\n",
      "- Índice 14880 → concurso: 'CSIYH LIER (BEL)' | fecha: 26/11/2020\n",
      "- Índice 14881 → concurso: 'CSIYH LIER (BEL)' | fecha: 27/11/2020\n",
      "- Índice 14882 → concurso: 'CSIYH LIER (BEL)' | fecha: 27/11/2020\n",
      "- Índice 14883 → concurso: 'CSIYH LIER (BEL)' | fecha: 27/11/2020\n",
      "- Índice 14884 → concurso: 'CSI4* Wellington FL (USA)' | fecha: 28/11/2020\n",
      "- Índice 14885 → concurso: 'CSI4* Wellington FL (USA)' | fecha: 28/11/2020\n",
      "- Índice 14886 → concurso: 'CSI4* Wellington FL (USA)' | fecha: 28/11/2020\n",
      "- Índice 14887 → concurso: 'CSI4* Wellington FL (USA)' | fecha: 29/11/2020\n",
      "- Índice 14888 → concurso: 'CSI4* Wellington FL (USA)' | fecha: 29/11/2020\n",
      "- Índice 14889 → concurso: 'CSI1* Chazey sur Ain (FRA)' | fecha: 29/11/2020\n",
      "- Índice 14890 → concurso: 'CSI1* Chazey sur Ain (FRA)' | fecha: 26/11/2020\n",
      "- Índice 14891 → concurso: 'CSI1* Chazey sur Ain (FRA)' | fecha: 27/11/2020\n",
      "- Índice 14892 → concurso: 'CSI1* Chazey sur Ain (FRA)' | fecha: 28/11/2020\n",
      "- Índice 14893 → concurso: 'CSI1* Chazey sur Ain (FRA)' | fecha: 26/11/2020\n",
      "- Índice 14894 → concurso: 'CSI1* Chazey sur Ain (FRA)' | fecha: 26/11/2020\n",
      "- Índice 14895 → concurso: 'CSI1* Chazey sur Ain (FRA)' | fecha: 27/11/2020\n",
      "- Índice 14896 → concurso: 'CSI1* Chazey sur Ain (FRA)' | fecha: 27/11/2020\n",
      "- Índice 14897 → concurso: 'CSI1* Chazey sur Ain (FRA)' | fecha: 27/11/2020\n",
      "- Índice 14898 → concurso: 'CSI1* Chazey sur Ain (FRA)' | fecha: 28/11/2020\n",
      "- Índice 14899 → concurso: 'CSIYH Chazey sur Ain (FRA)' | fecha: 28/11/2020\n",
      "- Índice 14900 → concurso: 'CSIYH Chazey sur Ain (FRA)' | fecha: 29/11/2020\n",
      "- Índice 14901 → concurso: 'CSIYH Chazey sur Ain (FRA)' | fecha: 29/11/2020\n",
      "- Índice 14902 → concurso: 'CSI2* OPGLABBEEK (BEL)' | fecha: 26/11/2020\n",
      "- Índice 14903 → concurso: 'CSI2* OPGLABBEEK (BEL)' | fecha: 26/11/2020\n",
      "- Índice 14904 → concurso: 'CSI2* OPGLABBEEK (BEL)' | fecha: 26/11/2020\n",
      "- Índice 14905 → concurso: 'CSI2* OPGLABBEEK (BEL)' | fecha: 27/11/2020\n",
      "- Índice 14906 → concurso: 'CSI2* OPGLABBEEK (BEL)' | fecha: 27/11/2020\n",
      "- Índice 14907 → concurso: 'CSI2* OPGLABBEEK (BEL)' | fecha: 28/11/2020\n",
      "- Índice 14908 → concurso: 'CSI2* OPGLABBEEK (BEL)' | fecha: 28/11/2020\n",
      "- Índice 14909 → concurso: 'CSI2* OPGLABBEEK (BEL)' | fecha: 28/11/2020\n",
      "- Índice 14910 → concurso: 'CSI2* OPGLABBEEK (BEL)' | fecha: 29/11/2020\n",
      "- Índice 14911 → concurso: 'CSIYH OPGLABBEEK (BEL)' | fecha: 03/12/2020\n",
      "- Índice 14912 → concurso: 'CSIYH OPGLABBEEK (BEL)' | fecha: 03/12/2020\n",
      "- Índice 14913 → concurso: 'CSIYH OPGLABBEEK (BEL)' | fecha: 04/12/2020\n",
      "- Índice 14914 → concurso: 'CSIYH OPGLABBEEK (BEL)' | fecha: 04/12/2020\n",
      "- Índice 14915 → concurso: 'CSIYH OPGLABBEEK (BEL)' | fecha: 04/12/2020\n",
      "- Índice 14916 → concurso: 'CSIYH OPGLABBEEK (BEL)' | fecha: 05/12/2020\n",
      "- Índice 14917 → concurso: 'CSIYH OPGLABBEEK (BEL)' | fecha: 05/12/2020\n",
      "- Índice 14918 → concurso: 'CSIYH OPGLABBEEK (BEL)' | fecha: 06/12/2020\n",
      "- Índice 14919 → concurso: 'CSIYH OPGLABBEEK (BEL)' | fecha: 06/12/2020\n",
      "- Índice 14920 → concurso: 'CSI2* OPGLABBEEK (BEL)' | fecha: 03/12/2020\n",
      "- Índice 14921 → concurso: 'CSI2* OPGLABBEEK (BEL)' | fecha: 03/12/2020\n",
      "- Índice 14922 → concurso: 'CSI2* OPGLABBEEK (BEL)' | fecha: 03/12/2020\n",
      "- Índice 14923 → concurso: 'CSI2* OPGLABBEEK (BEL)' | fecha: 04/12/2020\n",
      "- Índice 14924 → concurso: 'CSI2* OPGLABBEEK (BEL)' | fecha: 04/12/2020\n",
      "- Índice 14925 → concurso: 'CSI2* OPGLABBEEK (BEL)' | fecha: 05/12/2020\n",
      "- Índice 14926 → concurso: 'CSI2* OPGLABBEEK (BEL)' | fecha: 05/12/2020\n",
      "- Índice 14927 → concurso: 'CSI2* OPGLABBEEK (BEL)' | fecha: 05/12/2020\n",
      "- Índice 14928 → concurso: 'CSI2* OPGLABBEEK (BEL)' | fecha: 06/12/2020\n",
      "- Índice 14929 → concurso: 'CSIYH OPGLABBEEK (BEL)' | fecha: 04/12/2020\n",
      "- Índice 14930 → concurso: 'CSIYH OPGLABBEEK (BEL)' | fecha: 04/12/2020\n",
      "- Índice 14931 → concurso: 'CSIYH OPGLABBEEK (BEL)' | fecha: 04/12/2020\n",
      "- Índice 14932 → concurso: 'CSIYH OPGLABBEEK (BEL)' | fecha: 04/12/2020\n",
      "- Índice 14933 → concurso: 'CSIYH OPGLABBEEK (BEL)' | fecha: 05/12/2020\n",
      "- Índice 14934 → concurso: 'CSIYH OPGLABBEEK (BEL)' | fecha: 05/12/2020\n",
      "- Índice 14935 → concurso: 'CSIYH OPGLABBEEK (BEL)' | fecha: 05/12/2020\n",
      "- Índice 14936 → concurso: 'CSIYH OPGLABBEEK (BEL)' | fecha: 05/12/2020\n",
      "- Índice 14937 → concurso: 'CSIYH OPGLABBEEK (BEL)' | fecha: 06/12/2020\n",
      "- Índice 14938 → concurso: 'CSI2* ORNAGO (ITA)' | fecha: 06/12/2020\n",
      "- Índice 14939 → concurso: 'CSI2* ORNAGO (ITA)' | fecha: 06/12/2020\n",
      "- Índice 14940 → concurso: 'CSI2* ORNAGO (ITA)' | fecha: 06/12/2020\n",
      "- Índice 14941 → concurso: 'CSI2* ORNAGO (ITA)' | fecha: 04/12/2020\n",
      "- Índice 14942 → concurso: 'CSI2* ORNAGO (ITA)' | fecha: 04/12/2020\n",
      "- Índice 14943 → concurso: 'CSI2* ORNAGO (ITA)' | fecha: 05/12/2020\n",
      "- Índice 14944 → concurso: 'CSI2* ORNAGO (ITA)' | fecha: 05/12/2020\n",
      "- Índice 14945 → concurso: 'CSI2* ORNAGO (ITA)' | fecha: 06/12/2020\n",
      "- Índice 14946 → concurso: 'CSI2* ORNAGO (ITA)' | fecha: 06/12/2020\n",
      "- Índice 14947 → concurso: 'CSI2* ORNAGO (ITA)' | fecha: 09/12/2020\n",
      "- Índice 14948 → concurso: 'CSI2* ORNAGO (ITA)' | fecha: 09/12/2020\n",
      "- Índice 14949 → concurso: 'CSI2* ORNAGO (ITA)' | fecha: 10/12/2020\n",
      "- Índice 14950 → concurso: 'CSIYH ORNAGO (ITA)' | fecha: 10/12/2020\n",
      "- Índice 14951 → concurso: 'CSIYH ORNAGO (ITA)' | fecha: 11/12/2020\n",
      "- Índice 14952 → concurso: 'CSIYH ORNAGO (ITA)' | fecha: 11/12/2020\n",
      "- Índice 14953 → concurso: 'CSIYH ORNAGO (ITA)' | fecha: 12/12/2020\n",
      "- Índice 14954 → concurso: 'CSIYH ORNAGO (ITA)' | fecha: 12/12/2020\n",
      "- Índice 14955 → concurso: 'CSIYH ORNAGO (ITA)' | fecha: 13/12/2020\n",
      "- Índice 14956 → concurso: 'CSI2* LIER (BEL)' | fecha: 09/12/2020\n",
      "- Índice 14957 → concurso: 'CSI2* LIER (BEL)' | fecha: 115-125 - Two phases, both atc T A\n",
      "- Índice 14958 → concurso: 'CSI2* LIER (BEL)' | fecha: CSI YH*\n",
      "- Índice 14959 → concurso: 'CSI2* LIER (BEL)' | fecha: Disponibles\n",
      "- Índice 14960 → concurso: 'CSI2* LIER (BEL)' | fecha: Salto de Obstáculos\n",
      "- Índice 14961 → concurso: 'CSI2* LIER (BEL)' | fecha: 16/12/2020\n",
      "- Índice 14962 → concurso: 'CSI2* LIER (BEL)' | fecha: 16/12/2020\n",
      "- Índice 14963 → concurso: 'CSI2* LIER (BEL)' | fecha: 17/12/2020\n",
      "- Índice 14964 → concurso: 'CSI2* LIER (BEL)' | fecha: 17/12/2020\n",
      "- Índice 14965 → concurso: 'CSIYH LIER (BEL)' | fecha: 18/12/2020\n",
      "- Índice 14966 → concurso: 'CSIYH LIER (BEL)' | fecha: 18/12/2020\n",
      "- Índice 14967 → concurso: 'CSIYH LIER (BEL)' | fecha: 19/12/2020\n",
      "- Índice 14968 → concurso: 'CSIYH LIER (BEL)' | fecha: 19/12/2020\n",
      "- Índice 14969 → concurso: 'CSIYH LIER (BEL)' | fecha: 20/12/2020\n",
      "- Índice 14970 → concurso: 'CSI2* LIER (BEL)' | fecha: (sin fecha)\n",
      "- Índice 14971 → concurso: 'CSI2* LIER (BEL)' | fecha: (sin fecha)\n",
      "- Índice 14972 → concurso: 'CSI2* LIER (BEL)' | fecha: (sin fecha)\n",
      "- Índice 14973 → concurso: 'CSI2* LIER (BEL)' | fecha: (sin fecha)\n",
      "- Índice 14974 → concurso: 'CSI2* LIER (BEL)' | fecha: (sin fecha)\n",
      "- Índice 14975 → concurso: 'CSI2* LIER (BEL)' | fecha: (sin fecha)\n",
      "- Índice 14976 → concurso: 'CSI2* LIER (BEL)' | fecha: (sin fecha)\n",
      "- Índice 14977 → concurso: 'CSI2* LIER (BEL)' | fecha: (sin fecha)\n",
      "- Índice 14978 → concurso: 'CSI2* LIER (BEL)' | fecha: (sin fecha)\n",
      "\n",
      "🔍 Faltantes en 'Fecha':\n",
      "- Índice 14970 → concurso: 'CSI2* LIER (BEL)' | fecha: (sin fecha)\n",
      "- Índice 14971 → concurso: 'CSI2* LIER (BEL)' | fecha: (sin fecha)\n",
      "- Índice 14972 → concurso: 'CSI2* LIER (BEL)' | fecha: (sin fecha)\n",
      "- Índice 14973 → concurso: 'CSI2* LIER (BEL)' | fecha: (sin fecha)\n",
      "- Índice 14974 → concurso: 'CSI2* LIER (BEL)' | fecha: (sin fecha)\n",
      "- Índice 14975 → concurso: 'CSI2* LIER (BEL)' | fecha: (sin fecha)\n",
      "- Índice 14976 → concurso: 'CSI2* LIER (BEL)' | fecha: (sin fecha)\n",
      "- Índice 14977 → concurso: 'CSI2* LIER (BEL)' | fecha: (sin fecha)\n",
      "- Índice 14978 → concurso: 'CSI2* LIER (BEL)' | fecha: (sin fecha)\n"
     ]
    }
   ],
   "source": [
    "import json\n",
    "\n",
    "# Cargar datos de pruebas\n",
    "with open('../data/data_salto/pruebas/pruebas_salto_internacional_2020.json', 'r', encoding='utf-8') as file:\n",
    "    datos_pruebas = json.load(file)\n",
    "\n",
    "# Longitud total según el campo más largo\n",
    "longitud_total = len(datos_pruebas[\"Concurso\"])\n",
    "\n",
    "# Campos a verificar\n",
    "campos_objetivo = [\"Prueba\", \"Categoría\", \"Fecha\"]  # puedes añadir más si quieres\n",
    "\n",
    "# Verificar faltantes y mostrar con fecha si existe\n",
    "for campo in campos_objetivo:\n",
    "    if campo not in datos_pruebas:\n",
    "        continue\n",
    "    \n",
    "    lista = datos_pruebas[campo]\n",
    "    indices_faltantes = set(range(longitud_total)) - set(range(len(lista)))\n",
    "    \n",
    "    if indices_faltantes:\n",
    "        print(f\"\\n🔍 Faltantes en '{campo}':\")\n",
    "        for i in sorted(indices_faltantes):\n",
    "            fecha = datos_pruebas[\"Fecha\"][i] if i < len(datos_pruebas[\"Fecha\"]) else \"(sin fecha)\"\n",
    "            concurso = datos_pruebas[\"Concurso\"][i] if i < len(datos_pruebas[\"Concurso\"]) else \"(sin concurso)\"\n",
    "            print(f\"- Índice {i} → concurso: '{concurso}' | fecha: {fecha}\")\n",
    "\n",
    "\n"
   ]
  },
  {
   "cell_type": "code",
   "execution_count": 9,
   "id": "bc5d4d80",
   "metadata": {},
   "outputs": [
    {
     "name": "stdout",
     "output_type": "stream",
     "text": [
      "La longitud de Nombre es: 149\n",
      "La longitud de Categoría es: 149\n",
      "La longitud de Provincia es: 149\n",
      "La longitud de Localidad es: 149\n",
      "La longitud de Disciplina es: 149\n",
      "La longitud de Federación es: 149\n",
      "La longitud de Resultados es: 149\n",
      "La longitud de País es: 149\n",
      "La longitud de Inicio es: 148\n",
      "La longitud de Final es: 148\n",
      "La longitud de Ambito es: 148\n"
     ]
    }
   ],
   "source": [
    "with open('../data/data_salto/concursos/concursos_salto_internacional_2025.json', 'r', encoding='utf-8') as file:\n",
    "    datos_pruebas = json.load(file)\n",
    "\n",
    "# Ver la longitud de cada lista dentro del JSON\n",
    "for key, value in datos_pruebas.items():\n",
    "    if isinstance(value, list):  # Verificamos si el valor es una lista\n",
    "        print(f\"La longitud de {key} es: {len(value)}\")"
   ]
  },
  {
   "cell_type": "code",
   "execution_count": 10,
   "id": "bc3a59ce",
   "metadata": {},
   "outputs": [
    {
     "name": "stdout",
     "output_type": "stream",
     "text": [
      "La longitud de Disciplina es: 1144\n",
      "La longitud de Fecha es: 1144\n",
      "La longitud de Prueba es: 1144\n",
      "La longitud de Categoría es: 1142\n",
      "La longitud de Número es: 1141\n",
      "La longitud de Concurso es: 1144\n"
     ]
    }
   ],
   "source": [
    "with open('../data/data_salto/pruebas/pruebas_salto_internacional_2025.json', 'r', encoding='utf-8') as file:\n",
    "    datos_pruebas = json.load(file)\n",
    "\n",
    "# Ver la longitud de cada lista dentro del JSON\n",
    "for key, value in datos_pruebas.items():\n",
    "    if isinstance(value, list):  # Verificamos si el valor es una lista\n",
    "        print(f\"La longitud de {key} es: {len(value)}\")"
   ]
  },
  {
   "cell_type": "markdown",
   "id": "b9cfc508",
   "metadata": {},
   "source": [
    "# Completo"
   ]
  },
  {
   "cell_type": "code",
   "execution_count": 38,
   "id": "a4760fff",
   "metadata": {},
   "outputs": [
    {
     "name": "stdout",
     "output_type": "stream",
     "text": [
      "La longitud de Disciplina es: 561\n",
      "La longitud de Fecha es: 561\n",
      "La longitud de Prueba es: 561\n",
      "La longitud de Categoría es: 561\n",
      "La longitud de Número es: 561\n",
      "La longitud de Concurso es: 561\n"
     ]
    }
   ],
   "source": [
    "with open('../data/data_completo/pruebas/pruebas_completo_nacional_2020.json', 'r', encoding='utf-8') as file:\n",
    "    datos_pruebas = json.load(file)\n",
    "\n",
    "# Ver la longitud de cada lista dentro del JSON\n",
    "for key, value in datos_pruebas.items():\n",
    "    if isinstance(value, list):  # Verificamos si el valor es una lista\n",
    "        print(f\"La longitud de {key} es: {len(value)}\")"
   ]
  },
  {
   "cell_type": "code",
   "execution_count": 39,
   "id": "fa2d94b1",
   "metadata": {},
   "outputs": [
    {
     "name": "stdout",
     "output_type": "stream",
     "text": [
      "La longitud de Disciplina es: 496\n",
      "La longitud de Fecha es: 496\n",
      "La longitud de Prueba es: 496\n",
      "La longitud de Categoría es: 496\n",
      "La longitud de Número es: 496\n",
      "La longitud de Concurso es: 496\n"
     ]
    }
   ],
   "source": [
    "with open('../data/data_completo/pruebas/pruebas_completo_internacional_2020.json', 'r', encoding='utf-8') as file:\n",
    "    datos_pruebas = json.load(file)\n",
    "\n",
    "# Ver la longitud de cada lista dentro del JSON\n",
    "for key, value in datos_pruebas.items():\n",
    "    if isinstance(value, list):  # Verificamos si el valor es una lista\n",
    "        print(f\"La longitud de {key} es: {len(value)}\")"
   ]
  },
  {
   "cell_type": "code",
   "execution_count": 40,
   "id": "34903273",
   "metadata": {},
   "outputs": [
    {
     "name": "stdout",
     "output_type": "stream",
     "text": [
      "La longitud de Nombre es: 480\n",
      "La longitud de Categoría es: 480\n",
      "La longitud de Provincia es: 480\n",
      "La longitud de Localidad es: 480\n",
      "La longitud de Disciplina es: 480\n",
      "La longitud de Federación es: 480\n",
      "La longitud de Resultados es: 480\n",
      "La longitud de País es: 480\n",
      "La longitud de Inicio es: 477\n",
      "La longitud de Final es: 477\n",
      "La longitud de Ambito es: 477\n"
     ]
    }
   ],
   "source": [
    "with open('../data/data_completo/concursos/concursos_completo_internacional_2020.json', 'r', encoding='utf-8') as file:\n",
    "    datos_pruebas = json.load(file)\n",
    "\n",
    "# Ver la longitud de cada lista dentro del JSON\n",
    "for key, value in datos_pruebas.items():\n",
    "    if isinstance(value, list):  # Verificamos si el valor es una lista\n",
    "        print(f\"La longitud de {key} es: {len(value)}\")"
   ]
  },
  {
   "cell_type": "code",
   "execution_count": 41,
   "id": "7f078e82",
   "metadata": {},
   "outputs": [
    {
     "name": "stdout",
     "output_type": "stream",
     "text": [
      "La longitud de Nombre es: 223\n",
      "La longitud de Categoría es: 223\n",
      "La longitud de Provincia es: 223\n",
      "La longitud de Localidad es: 223\n",
      "La longitud de Disciplina es: 223\n",
      "La longitud de Federación es: 223\n",
      "La longitud de Resultados es: 223\n",
      "La longitud de País es: 223\n",
      "La longitud de Inicio es: 223\n",
      "La longitud de Final es: 223\n",
      "La longitud de Ambito es: 223\n"
     ]
    }
   ],
   "source": [
    "with open('../data/data_completo/concursos/concursos_completo_nacional_2020.json', 'r', encoding='utf-8') as file:\n",
    "    datos_pruebas = json.load(file)\n",
    "\n",
    "# Ver la longitud de cada lista dentro del JSON\n",
    "for key, value in datos_pruebas.items():\n",
    "    if isinstance(value, list):  # Verificamos si el valor es una lista\n",
    "        print(f\"La longitud de {key} es: {len(value)}\")"
   ]
  }
 ],
 "metadata": {
  "kernelspec": {
   "display_name": "venv",
   "language": "python",
   "name": "python3"
  },
  "language_info": {
   "codemirror_mode": {
    "name": "ipython",
    "version": 3
   },
   "file_extension": ".py",
   "mimetype": "text/x-python",
   "name": "python",
   "nbconvert_exporter": "python",
   "pygments_lexer": "ipython3",
   "version": "3.12.4"
  }
 },
 "nbformat": 4,
 "nbformat_minor": 5
}
