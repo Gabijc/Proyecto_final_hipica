{
 "cells": [
  {
   "cell_type": "code",
   "execution_count": 1,
   "id": "e5c7d8e0",
   "metadata": {},
   "outputs": [],
   "source": [
    "import json\n",
    "import pandas as pd"
   ]
  },
  {
   "cell_type": "markdown",
   "id": "57beb9d2",
   "metadata": {},
   "source": [
    "# Salto"
   ]
  },
  {
   "cell_type": "code",
   "execution_count": 34,
   "id": "2f2e7682",
   "metadata": {},
   "outputs": [
    {
     "name": "stdout",
     "output_type": "stream",
     "text": [
      "La longitud de Nombre es: 1936\n",
      "La longitud de Categoría es: 1936\n",
      "La longitud de Provincia es: 1936\n",
      "La longitud de Localidad es: 1936\n",
      "La longitud de Disciplina es: 1936\n",
      "La longitud de Federación es: 1936\n",
      "La longitud de Resultados es: 1936\n",
      "La longitud de País es: 1936\n",
      "La longitud de Inicio es: 1935\n",
      "La longitud de Final es: 1935\n",
      "La longitud de Ambito es: 1935\n"
     ]
    }
   ],
   "source": [
    "with open('../data/data_salto/concursos/concursos_salto_internacional_2020.json', 'r', encoding='utf-8') as file:\n",
    "    datos_pruebas = json.load(file)\n",
    "\n",
    "# Ver la longitud de cada lista dentro del JSON\n",
    "for key, value in datos_pruebas.items():\n",
    "    if isinstance(value, list):  # Verificamos si el valor es una lista\n",
    "        print(f\"La longitud de {key} es: {len(value)}\")"
   ]
  },
  {
   "cell_type": "code",
   "execution_count": 35,
   "id": "cfbdf9d7",
   "metadata": {},
   "outputs": [
    {
     "name": "stdout",
     "output_type": "stream",
     "text": [
      "La longitud de Disciplina es: 14979\n",
      "La longitud de Fecha es: 14970\n",
      "La longitud de Prueba es: 14957\n",
      "La longitud de Categoría es: 14808\n",
      "La longitud de Número es: 14797\n",
      "La longitud de Concurso es: 14979\n"
     ]
    }
   ],
   "source": [
    "with open('../data/data_salto/pruebas/pruebas_salto_internacional_2020.json', 'r', encoding='utf-8') as file:\n",
    "    datos_pruebas = json.load(file)\n",
    "\n",
    "# Ver la longitud de cada lista dentro del JSON\n",
    "for key, value in datos_pruebas.items():\n",
    "    if isinstance(value, list):  # Verificamos si el valor es una lista\n",
    "        print(f\"La longitud de {key} es: {len(value)}\")"
   ]
  },
  {
   "cell_type": "code",
   "execution_count": 36,
   "id": "bc5d4d80",
   "metadata": {},
   "outputs": [
    {
     "name": "stdout",
     "output_type": "stream",
     "text": [
      "La longitud de Nombre es: 1300\n",
      "La longitud de Categoría es: 1300\n",
      "La longitud de Provincia es: 1300\n",
      "La longitud de Localidad es: 1300\n",
      "La longitud de Disciplina es: 1300\n",
      "La longitud de Federación es: 1300\n",
      "La longitud de Resultados es: 1300\n",
      "La longitud de País es: 1300\n",
      "La longitud de Inicio es: 1296\n",
      "La longitud de Final es: 1296\n",
      "La longitud de Ambito es: 1296\n"
     ]
    }
   ],
   "source": [
    "with open('../data/data_salto/concursos/concursos_salto_nacional_2020.json', 'r', encoding='utf-8') as file:\n",
    "    datos_pruebas = json.load(file)\n",
    "\n",
    "# Ver la longitud de cada lista dentro del JSON\n",
    "for key, value in datos_pruebas.items():\n",
    "    if isinstance(value, list):  # Verificamos si el valor es una lista\n",
    "        print(f\"La longitud de {key} es: {len(value)}\")"
   ]
  },
  {
   "cell_type": "code",
   "execution_count": 37,
   "id": "bc3a59ce",
   "metadata": {},
   "outputs": [
    {
     "name": "stdout",
     "output_type": "stream",
     "text": [
      "La longitud de Disciplina es: 13393\n",
      "La longitud de Fecha es: 13393\n",
      "La longitud de Prueba es: 13393\n",
      "La longitud de Categoría es: 13393\n",
      "La longitud de Número es: 13393\n",
      "La longitud de Concurso es: 13393\n"
     ]
    }
   ],
   "source": [
    "with open('../data/data_salto/pruebas/pruebas_salto_nacional_2020.json', 'r', encoding='utf-8') as file:\n",
    "    datos_pruebas = json.load(file)\n",
    "\n",
    "# Ver la longitud de cada lista dentro del JSON\n",
    "for key, value in datos_pruebas.items():\n",
    "    if isinstance(value, list):  # Verificamos si el valor es una lista\n",
    "        print(f\"La longitud de {key} es: {len(value)}\")"
   ]
  },
  {
   "cell_type": "markdown",
   "id": "b9cfc508",
   "metadata": {},
   "source": [
    "# Completo"
   ]
  },
  {
   "cell_type": "code",
   "execution_count": 38,
   "id": "a4760fff",
   "metadata": {},
   "outputs": [
    {
     "name": "stdout",
     "output_type": "stream",
     "text": [
      "La longitud de Disciplina es: 561\n",
      "La longitud de Fecha es: 561\n",
      "La longitud de Prueba es: 561\n",
      "La longitud de Categoría es: 561\n",
      "La longitud de Número es: 561\n",
      "La longitud de Concurso es: 561\n"
     ]
    }
   ],
   "source": [
    "with open('../data/data_completo/pruebas/pruebas_completo_nacional_2020.json', 'r', encoding='utf-8') as file:\n",
    "    datos_pruebas = json.load(file)\n",
    "\n",
    "# Ver la longitud de cada lista dentro del JSON\n",
    "for key, value in datos_pruebas.items():\n",
    "    if isinstance(value, list):  # Verificamos si el valor es una lista\n",
    "        print(f\"La longitud de {key} es: {len(value)}\")"
   ]
  },
  {
   "cell_type": "code",
   "execution_count": 39,
   "id": "fa2d94b1",
   "metadata": {},
   "outputs": [
    {
     "name": "stdout",
     "output_type": "stream",
     "text": [
      "La longitud de Disciplina es: 496\n",
      "La longitud de Fecha es: 496\n",
      "La longitud de Prueba es: 496\n",
      "La longitud de Categoría es: 496\n",
      "La longitud de Número es: 496\n",
      "La longitud de Concurso es: 496\n"
     ]
    }
   ],
   "source": [
    "with open('../data/data_completo/pruebas/pruebas_completo_internacional_2020.json', 'r', encoding='utf-8') as file:\n",
    "    datos_pruebas = json.load(file)\n",
    "\n",
    "# Ver la longitud de cada lista dentro del JSON\n",
    "for key, value in datos_pruebas.items():\n",
    "    if isinstance(value, list):  # Verificamos si el valor es una lista\n",
    "        print(f\"La longitud de {key} es: {len(value)}\")"
   ]
  },
  {
   "cell_type": "code",
   "execution_count": 40,
   "id": "34903273",
   "metadata": {},
   "outputs": [
    {
     "name": "stdout",
     "output_type": "stream",
     "text": [
      "La longitud de Nombre es: 480\n",
      "La longitud de Categoría es: 480\n",
      "La longitud de Provincia es: 480\n",
      "La longitud de Localidad es: 480\n",
      "La longitud de Disciplina es: 480\n",
      "La longitud de Federación es: 480\n",
      "La longitud de Resultados es: 480\n",
      "La longitud de País es: 480\n",
      "La longitud de Inicio es: 477\n",
      "La longitud de Final es: 477\n",
      "La longitud de Ambito es: 477\n"
     ]
    }
   ],
   "source": [
    "with open('../data/data_completo/concursos/concursos_completo_internacional_2020.json', 'r', encoding='utf-8') as file:\n",
    "    datos_pruebas = json.load(file)\n",
    "\n",
    "# Ver la longitud de cada lista dentro del JSON\n",
    "for key, value in datos_pruebas.items():\n",
    "    if isinstance(value, list):  # Verificamos si el valor es una lista\n",
    "        print(f\"La longitud de {key} es: {len(value)}\")"
   ]
  },
  {
   "cell_type": "code",
   "execution_count": 41,
   "id": "7f078e82",
   "metadata": {},
   "outputs": [
    {
     "name": "stdout",
     "output_type": "stream",
     "text": [
      "La longitud de Nombre es: 223\n",
      "La longitud de Categoría es: 223\n",
      "La longitud de Provincia es: 223\n",
      "La longitud de Localidad es: 223\n",
      "La longitud de Disciplina es: 223\n",
      "La longitud de Federación es: 223\n",
      "La longitud de Resultados es: 223\n",
      "La longitud de País es: 223\n",
      "La longitud de Inicio es: 223\n",
      "La longitud de Final es: 223\n",
      "La longitud de Ambito es: 223\n"
     ]
    }
   ],
   "source": [
    "with open('../data/data_completo/concursos/concursos_completo_nacional_2020.json', 'r', encoding='utf-8') as file:\n",
    "    datos_pruebas = json.load(file)\n",
    "\n",
    "# Ver la longitud de cada lista dentro del JSON\n",
    "for key, value in datos_pruebas.items():\n",
    "    if isinstance(value, list):  # Verificamos si el valor es una lista\n",
    "        print(f\"La longitud de {key} es: {len(value)}\")"
   ]
  }
 ],
 "metadata": {
  "kernelspec": {
   "display_name": "venv",
   "language": "python",
   "name": "python3"
  },
  "language_info": {
   "codemirror_mode": {
    "name": "ipython",
    "version": 3
   },
   "file_extension": ".py",
   "mimetype": "text/x-python",
   "name": "python",
   "nbconvert_exporter": "python",
   "pygments_lexer": "ipython3",
   "version": "3.12.4"
  }
 },
 "nbformat": 4,
 "nbformat_minor": 5
}
