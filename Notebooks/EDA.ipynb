{
 "cells": [
  {
   "cell_type": "markdown",
   "id": "a2cb9e03",
   "metadata": {},
   "source": [
    "# EDA"
   ]
  },
  {
   "cell_type": "code",
   "execution_count": 91,
   "id": "7df2e218",
   "metadata": {},
   "outputs": [],
   "source": [
    "import psycopg2 as ps\n",
    "import pandas as pd\n",
    "import matplotlib.pyplot as plt\n",
    "import seaborn as sns\n",
    "import plotly.express as px\n",
    "import re\n",
    "import numpy as np\n",
    "import plotly.graph_objects as go "
   ]
  },
  {
   "cell_type": "code",
   "execution_count": 2,
   "id": "e8abdc84",
   "metadata": {},
   "outputs": [],
   "source": [
    "def conexion_BBDD(nombre_BBDD, usuario, contraseña, anfitrion, puerto):\n",
    "\n",
    "    conn = ps.connect(\n",
    "                    dbname = nombre_BBDD, \n",
    "                    user = usuario,\n",
    "                    password = contraseña,\n",
    "                    host = anfitrion,\n",
    "                    port = puerto)\n",
    "\n",
    "    return conn"
   ]
  },
  {
   "cell_type": "code",
   "execution_count": 3,
   "id": "8cc3abc1",
   "metadata": {},
   "outputs": [],
   "source": [
    "dbname = \"BBDD_Hipica\", # base a la que nos queremos conectar\n",
    "user = \"postgres\",\n",
    "password = \"admin\",\n",
    "host = \"localhost\",\n",
    "port = \"5432\" # puerto en el que s eencuentra postgres"
   ]
  },
  {
   "cell_type": "code",
   "execution_count": 4,
   "id": "e7d9ce1b",
   "metadata": {},
   "outputs": [
    {
     "data": {
      "text/plain": [
       "('PostgreSQL 16.4, compiled by Visual C++ build 1940, 64-bit',)"
      ]
     },
     "execution_count": 4,
     "metadata": {},
     "output_type": "execute_result"
    }
   ],
   "source": [
    "conn = conexion_BBDD(dbname[0], user[0], password[0], host[0], port)\n",
    "cur = conn.cursor()\n",
    "# COmprobamos que la conexión está creada y conectada\n",
    "cur.execute(\"SELECT version();\")\n",
    "cur.fetchone() "
   ]
  },
  {
   "cell_type": "markdown",
   "id": "d2309f64",
   "metadata": {},
   "source": [
    "## Análisis de concursos y pruebas"
   ]
  },
  {
   "cell_type": "code",
   "execution_count": 5,
   "id": "51f9999e",
   "metadata": {},
   "outputs": [],
   "source": [
    "def ejecutor_querys(cur, query):\n",
    "    cur.execute(query)\n",
    "    return cur.fetchall()"
   ]
  },
  {
   "cell_type": "code",
   "execution_count": 6,
   "id": "e9a744d8",
   "metadata": {},
   "outputs": [],
   "source": [
    "conn.rollback()"
   ]
  },
  {
   "cell_type": "code",
   "execution_count": 7,
   "id": "6749e209",
   "metadata": {},
   "outputs": [
    {
     "data": {
      "text/plain": [
       "[('caloua quick ps',),\n",
       " ('casaspezia',),\n",
       " ('el especal particular kc z',),\n",
       " ('idiego van het kapoelhof z',),\n",
       " ('juno de llamosas',),\n",
       " ('milme',),\n",
       " ('o-tanagra',),\n",
       " ('oswald b',),\n",
       " ('pillot bmg',),\n",
       " ('thunderbird van de derkes lp',),\n",
       " (\"umbreo van d'abdijhoeve\",),\n",
       " ('usus dc',)]"
      ]
     },
     "execution_count": 7,
     "metadata": {},
     "output_type": "execute_result"
    }
   ],
   "source": [
    "def concursos_seleccionado(jinete):\n",
    "    query = f\"\"\" \n",
    "                SELECT \n",
    "                    DISTINCT c.nombre_caballo\n",
    "                FROM resultados r\n",
    "                    JOIN caballos c ON r.id_caballo = c.id_caballo\n",
    "                    JOIN jinetes j ON r.id_jinete = j.id_jinete\n",
    "                WHERE j.nombre_jinete = '{jinete}';\n",
    "        \"\"\"\n",
    "    return ejecutor_querys(cur, query)\n",
    "\n",
    "caballos = list(concursos_seleccionado('hugo álvarez amaro'))\n",
    "caballos"
   ]
  },
  {
   "cell_type": "code",
   "execution_count": 8,
   "id": "1678358d",
   "metadata": {},
   "outputs": [
    {
     "data": {
      "text/plain": [
       "['blai panareda molons',\n",
       " 'maxime harmegnies',\n",
       " 'francisco caba guil',\n",
       " 'nuno tiago gomes',\n",
       " 'rachel sandoz',\n",
       " 'sandra matamoros sierra',\n",
       " 'hannah åkerblom',\n",
       " 'filippa fant',\n",
       " 'ida palmos',\n",
       " 'carlota vilarrubi jorda',\n",
       " 'daphne devred chaix',\n",
       " 'scott brash',\n",
       " 'alejandro martín moreno',\n",
       " 'jaime perez soria',\n",
       " 'luciano emanuel caneo',\n",
       " 'carolina amorim baptista',\n",
       " 'callie menut',\n",
       " 'alexandra andre illes',\n",
       " 'izzy waldman',\n",
       " 'jessica geurts',\n",
       " 'javier prats rivera',\n",
       " 'pierre potin',\n",
       " 'fanny rivon',\n",
       " 'franziska meierhans',\n",
       " 'gerard saballs maruny',\n",
       " 'borja herraiz de castro',\n",
       " 'charlotte butler',\n",
       " 'natalia martin esquerda',\n",
       " 'caroline knudsen',\n",
       " 'enara cid rivela',\n",
       " 'jai sabharwal',\n",
       " 'martina gusmini',\n",
       " 'william ligier de la prade',\n",
       " 'joaquín cuesta puissant',\n",
       " 'yoel álvarez gonzález',\n",
       " 'pau sánchez crous',\n",
       " 'greta maria teresa de salvia',\n",
       " 'candela puertas palomo',\n",
       " 'karim tazi',\n",
       " 'irati osoro aldaz',\n",
       " 'alba conde ortiz',\n",
       " 'ruben romp',\n",
       " 'charlotte deloy',\n",
       " 'alba garcía gonzález',\n",
       " 'mathieu billot',\n",
       " 'ricardo jurado narváez',\n",
       " 'antonia platt',\n",
       " 'conor drain',\n",
       " 'joana serret ryan',\n",
       " 'lucrezia ricci',\n",
       " 'amanda delgado pérez',\n",
       " 'isabella beecroft-luckett',\n",
       " 'castora ortiz agüera',\n",
       " 'lorena martínez reyero',\n",
       " 'frederikke hoffmann koenigsfeldt',\n",
       " 'minori kurokawa',\n",
       " 'emiliana lione',\n",
       " 'ugo berrittella',\n",
       " 'thibault philippaerts',\n",
       " 'mickey seaquist fernandez-cavada',\n",
       " 'charles dubrule',\n",
       " 'dominique joassin',\n",
       " 'fiorenzo ammendola',\n",
       " 'marie delleuse',\n",
       " 'lea gellbäck',\n",
       " 'carlos garcía sánchez',\n",
       " 'eugenia de borbón vargas',\n",
       " 'marta rodríguez hernández',\n",
       " 'pietro busbani',\n",
       " 'janita markkanen',\n",
       " 'mike van belle',\n",
       " 'maria pilar alvarez galvez',\n",
       " 'alejandra masoliver sagardoy',\n",
       " 'fabien gippet',\n",
       " 'john whitaker',\n",
       " 'mathilda hansson',\n",
       " 'alvaro gil gómez',\n",
       " 'maria kuzmina',\n",
       " 'imogen sims',\n",
       " 'megan carlton',\n",
       " 'eleanora ljungman',\n",
       " 'paolo paini',\n",
       " 'martina agüero león',\n",
       " 'luisa horta osorio',\n",
       " 'greta zalite',\n",
       " 'anna svedberg',\n",
       " 'alice janout',\n",
       " 'bárbara gil gómez',\n",
       " 'dylan ringot',\n",
       " 'philippa bisang',\n",
       " 'anna nobel',\n",
       " 'yahya abou-khadour montaño',\n",
       " 'carlos zarate posadas',\n",
       " 'olivier robert',\n",
       " 'angelina charlize zweig',\n",
       " 'daan bernaerts',\n",
       " 'vasco pereira escudeiro',\n",
       " 'jaume ximenis torres',\n",
       " 'julia stebletsova',\n",
       " 'joao paulo pereira dos santos',\n",
       " 'jason foley',\n",
       " 'fiona little',\n",
       " 'jorge cervera nebot',\n",
       " 'caroline toombes',\n",
       " 'soukaina ouaddar',\n",
       " 'salvador astolfi núñez',\n",
       " 'nina sucko',\n",
       " 'alejandro restrepo gomez',\n",
       " 'javier carlos catalan gil',\n",
       " 'romane baudat longchambon',\n",
       " 'susana epaillard',\n",
       " 'alejandro maldonado isasi',\n",
       " 'alessia arrigo zazadze',\n",
       " 'bryony jones',\n",
       " 'chloe michellier',\n",
       " 'alice laruça',\n",
       " 'louise clibburn',\n",
       " 'abigail hamper',\n",
       " 'marta pereira gubau',\n",
       " 'groria hevia gómez',\n",
       " 'israel cantero macías',\n",
       " 'federica fernandez salazar',\n",
       " 'hugo álvarez amaro',\n",
       " 'lola roquet montaña',\n",
       " 'monika guillon',\n",
       " 'felix mccartney',\n",
       " 'alexandre boudarel',\n",
       " 'kyle timm',\n",
       " 'bart jay junior vandecasteele',\n",
       " 'joe corica',\n",
       " 'lea battikha',\n",
       " \"charles o'reilly hyland\",\n",
       " 'cristobal boetto',\n",
       " 'jaime gabarron jiménez',\n",
       " 'emilie paillot',\n",
       " 'pedro pons mórente',\n",
       " 'isabella locatelli',\n",
       " 'jennifer billington',\n",
       " 'martina ramón vilanova',\n",
       " 'will edwards',\n",
       " 'tatiana troiani',\n",
       " 'ana mateos bernaldez',\n",
       " 'nerea onaindia barroeta',\n",
       " 'natacha lefetz',\n",
       " 'amelia perry',\n",
       " 'federico giralt ponce',\n",
       " 'marina seguí martínez',\n",
       " 'daniela bouldstridge ripoll',\n",
       " 'apolline cozien',\n",
       " 'isabel montesa domene',\n",
       " 'clemence rodriguez',\n",
       " 'anna siwicka',\n",
       " 'nadezda dizanova',\n",
       " 'jude burgess',\n",
       " 'stepehen lohoar',\n",
       " 'marie diverres',\n",
       " 'eva savin',\n",
       " 'oliver singleton nuesch',\n",
       " 'tony andre',\n",
       " 'daan adams',\n",
       " 'miguel barbosa marques pinto',\n",
       " 'francesco correddu',\n",
       " 'karina trutschler',\n",
       " 'sorcha gamble',\n",
       " 'stephen wentzel',\n",
       " 'logan fiechter',\n",
       " 'alberto márquez galobardes',\n",
       " 'luna renoux',\n",
       " 'cameron hanley',\n",
       " 'ryan lockwood',\n",
       " 'eleonora sanna',\n",
       " 'juan riva gil',\n",
       " 'liesje vrolijk',\n",
       " 'mariana alexandre rodrigues',\n",
       " 'sara maria hank guerreiro',\n",
       " 'tilly shaw',\n",
       " 'brian gómez sosa',\n",
       " 'ainara vallez espinosa',\n",
       " 'lily rose cain',\n",
       " 'niall talbot',\n",
       " 'justin tuff',\n",
       " 'lauren edwards',\n",
       " 'veera salminen',\n",
       " 'jörne sprehe',\n",
       " 'borja bidón daurella',\n",
       " 'sara garcia-fiz same',\n",
       " 'paula perea díaz',\n",
       " 'sacha beghuin',\n",
       " 'scarlett frank',\n",
       " 'barbara cardo rodriguez',\n",
       " 'eva ballardini',\n",
       " 'telmo busca roca',\n",
       " 'alana mcculloch',\n",
       " 'vincent elbers',\n",
       " 'carolina aresu garcía obregon',\n",
       " \"guy jonqueres d'oriola\",\n",
       " 'daniel ovies rodríguez',\n",
       " 'marie deroubaix',\n",
       " 'lorena casas pessino',\n",
       " 'martina tous garcia',\n",
       " 'melissa laenen',\n",
       " 'jenny connors',\n",
       " 'christian rhomberg',\n",
       " 'esther barroso torío',\n",
       " 'adriana pina latorre',\n",
       " 'andrea persson',\n",
       " 'oliver tuff',\n",
       " 'ricardas vismeris',\n",
       " 'francesca young',\n",
       " 'vince nanning',\n",
       " 'efe siyahi',\n",
       " 'romy orfait',\n",
       " 'mounir belkouch',\n",
       " 'sonia lopez mihi',\n",
       " 'primitivo nieves goyoaga',\n",
       " 'ruth reay',\n",
       " 'olivia tapias fernández',\n",
       " 'kim emmen',\n",
       " 'elicia marie lynch',\n",
       " 'karin gea martín',\n",
       " 'jacek polikowski',\n",
       " 'karen sofie oedemark',\n",
       " 'martin dinesen neergaard',\n",
       " 'maria frutuoso de melo',\n",
       " 'maria francisca torres ramos',\n",
       " 'selina kündig',\n",
       " 'sergi toledo alamo',\n",
       " 'manuel movellan haya',\n",
       " 'siri endresen',\n",
       " 'joao duarte silva',\n",
       " 'alexandra bernardino',\n",
       " 'carlota tomas pires',\n",
       " 'andrea enrico herholdt',\n",
       " 'camilla siekmann',\n",
       " 'kristina klebanova',\n",
       " 'amandine le pelley',\n",
       " 'adrián hidalgo jiménez',\n",
       " 'paula miguel martin',\n",
       " 'carly dimes',\n",
       " 'katie reilly',\n",
       " 'carolina marsa wamsteker',\n",
       " 'jordi artigas puig',\n",
       " 'stephan de freitas barcha',\n",
       " 'borja de valdenebro del rey',\n",
       " 'molly hughes bravo',\n",
       " 'andré reichmann',\n",
       " 'michiel brusse',\n",
       " 'lucia gonzalez arroyo',\n",
       " 'lauriane helmer',\n",
       " 'sofia sjoborg',\n",
       " 'iñigo alonso berges',\n",
       " 'hannah smith',\n",
       " 'natalia olaso manzanaro',\n",
       " 'gianluca brugnoli',\n",
       " 'joão victor castro',\n",
       " 'carolina guillén muñoz',\n",
       " 'carlota barrón villodas',\n",
       " 'guillermo carballal gutiérrez',\n",
       " 'barbara orejas gonzalez',\n",
       " 'maria ines sequeiros',\n",
       " 'wilm vermeir',\n",
       " 'olivier camy sarthy',\n",
       " 'mercedes diz claro',\n",
       " 'harry allen',\n",
       " 'emilie francois',\n",
       " 'juliette herpoel',\n",
       " 'natalia arribas martín',\n",
       " 'aurelien leroy',\n",
       " 'dalma mercédesz ferencz',\n",
       " 'lovisa stintzing',\n",
       " 'laetitia surin',\n",
       " 'alice alonso dubost',\n",
       " 'julie anne verneuil',\n",
       " 'andrés bader castañeda',\n",
       " 'audrey fransen',\n",
       " 'ameli karajic',\n",
       " 'hugo breul',\n",
       " 'roi calviño rabon',\n",
       " 'laia artigas vilanova',\n",
       " 'maría xercavins gimeno',\n",
       " 'angel cerdido calderon',\n",
       " 'roger artigas dilmé',\n",
       " 'rudie wallerbosch',\n",
       " 'eevi-pirre rautiainen',\n",
       " 'alejandra cabrera marrodan',\n",
       " 'julia ganowska',\n",
       " 'leticia riva gil',\n",
       " 'pablo garrido pérez',\n",
       " 'eila gil arias',\n",
       " 'marina marki drivenes',\n",
       " 'christina gachoud',\n",
       " 'bartosz adamus',\n",
       " 'pippa de redelijkheid',\n",
       " 'valentine belooussoff',\n",
       " 'izac ketteridge',\n",
       " 'luis plaza vidal',\n",
       " 'hanna cecilie wicklund',\n",
       " 'peter kaus',\n",
       " 'sonsoles lasaosa astier',\n",
       " 'adriana ladow',\n",
       " 'anouck racary',\n",
       " 'lucas de heredia muñoz-rojas',\n",
       " 'ana maria fernandez vallejo',\n",
       " 'javier morón romero',\n",
       " 'holly huyton',\n",
       " 'magdalene rose mikkelsen',\n",
       " 'alexis goulet',\n",
       " 'laura díez collado',\n",
       " 'ivón rodriguez farrarons',\n",
       " 'laura beatobe lacorzana',\n",
       " 'chloe winchester',\n",
       " 'isabell hoverath',\n",
       " 'sara fernández rebollo',\n",
       " 'olivier philippaerts',\n",
       " 'michaela wood',\n",
       " 'alexa mitrunen',\n",
       " 'laurent brogniez',\n",
       " 'simona donolato',\n",
       " 'miguel madrigal garcia',\n",
       " 'miren melgosa borde',\n",
       " 'lucas barcia iglesias',\n",
       " 'liam riba jones',\n",
       " 'eowyn jordanger',\n",
       " 'ana garcia-torres solano',\n",
       " 'mans thijssen',\n",
       " 'pål flam',\n",
       " 'tess carmichael',\n",
       " 'gilles botton',\n",
       " 'olivia de rothschild',\n",
       " 'carl hedin',\n",
       " 'megan james',\n",
       " 'ioli mytilineou',\n",
       " 'jaume garau de montis',\n",
       " 'sofía velasco lázaro',\n",
       " 'carlos calvo jimenez',\n",
       " 'christina thomas',\n",
       " 'panna széles',\n",
       " 'maria fernandez fandiño',\n",
       " 'alejandro del corral albarracín',\n",
       " 'anne-charlotte bøgh-sørensen',\n",
       " 'maxi marie probst',\n",
       " 'flavio faria ferreira',\n",
       " 'heidi bratlie larsen',\n",
       " 'valentina pucher fuentes',\n",
       " 'rachel ramachio lago',\n",
       " 'simon prouve',\n",
       " 'elliott dowler',\n",
       " 'ben hobday',\n",
       " 'marine scauflaire',\n",
       " 'luca maria moneta',\n",
       " 'bruno chaves pessanha',\n",
       " 'benjamin ghelfi',\n",
       " 'helena muñoz verhagen',\n",
       " 'alejandra llagostera suárez',\n",
       " 'erik hernani ijalba',\n",
       " 'roger yves bost',\n",
       " 'olivia guíu vicente',\n",
       " 'emeric george',\n",
       " 'marina alejandra gonzalez crespo',\n",
       " 'yu-hsuan tseng',\n",
       " 'henri jonqueres d oriola',\n",
       " 'carmen bernal medina',\n",
       " 'santiago cambronero alvarez',\n",
       " 'miguel simón núñez',\n",
       " 'pedro moreno montojo',\n",
       " 'marie masse',\n",
       " 'aisling byrne',\n",
       " 'enrique poggio ruiz',\n",
       " 'christopher franks',\n",
       " 'ralph slaats',\n",
       " 'sophie charlotte cox',\n",
       " 'ghali chaoui',\n",
       " 'taylor kain',\n",
       " 'carmen garcía de fuentes area',\n",
       " 'fiona isabel predojevic',\n",
       " 'nídia cabañas vilar',\n",
       " 'patricia razquin fernández de bobadilla',\n",
       " 'henry wach bastida',\n",
       " 'manon foucher',\n",
       " 'klara winkler',\n",
       " 'anna delgove alday',\n",
       " 'claudia michel rodriguez',\n",
       " 'núria guinovart barceló',\n",
       " 'lisa klopman',\n",
       " 'florence schwizer-seydoux',\n",
       " 'saara kojola',\n",
       " 'ignacio carrasco jurado',\n",
       " 'asger skov rosenkilde',\n",
       " 'nadège janssen',\n",
       " 'abbie crippen',\n",
       " 'maverick van lent',\n",
       " 'maia alessandra san roman albesi',\n",
       " 'mia thomassen',\n",
       " 'andrej pavlovic',\n",
       " 'amber rose',\n",
       " 'juliette detimmerman',\n",
       " 'alain jufer',\n",
       " 'paloma rubio muñoz',\n",
       " 'iñigo gonzalez oraindi',\n",
       " 'paola alea caballero',\n",
       " 'andrea garcía de castro vidal',\n",
       " 'juan díaz iglesias',\n",
       " 'celia cobo teran',\n",
       " 'frederic lagrange',\n",
       " 'luis ortiz agüera',\n",
       " 'alejandra porcel cirera',\n",
       " 'iria sierra larregui',\n",
       " 'mariano martínez bastida',\n",
       " 'matilde di pretoro',\n",
       " 'soren kohnke',\n",
       " 'paulina parra villalba',\n",
       " 'carlota de lázaro bolinches',\n",
       " 'douglas duffin',\n",
       " 'fernando de los santos garcía',\n",
       " 'claudia gonzalez del valle bernaldo de quiros',\n",
       " 'lars n pedersen',\n",
       " 'eder lópez vázquez',\n",
       " 'paula perez amaral de sousa',\n",
       " 'alex tejada beroiz',\n",
       " 'klara wichmann',\n",
       " 'elise delsol',\n",
       " 'ari gonzález barros',\n",
       " 'fabian delleuse',\n",
       " \"charlize o'connor cabau\",\n",
       " 'valentina burgueño buda',\n",
       " 'victoria sprogis',\n",
       " 'thibaut keller',\n",
       " 'fernando oliva lópez',\n",
       " 'annika gustafsson',\n",
       " 'holly samantha cox',\n",
       " 'vanessa-joy nägele',\n",
       " 'núria farré farrés',\n",
       " 'sara ortega garcía',\n",
       " 'hannah downes',\n",
       " 'natalia alcalde de la ossa',\n",
       " 'william fletcher',\n",
       " 'adriane lucile gagnaire',\n",
       " 'elena barrionuevo paez',\n",
       " 'maría gonzález herrero',\n",
       " 'queralt lara sanchez',\n",
       " 'marta bartolomé redondo',\n",
       " 'lucia crespo montoro',\n",
       " 'ilaria sutera',\n",
       " 'konstantin deeken künnemann',\n",
       " 'zahara kirby casola',\n",
       " 'benjamin saurugg',\n",
       " 'roine carlsson',\n",
       " 'salome jobert',\n",
       " 'julia hardisson martín',\n",
       " 'rania dindane',\n",
       " 'mauro jr matteucci',\n",
       " 'emma garcia ferrandez',\n",
       " 'celine pozo',\n",
       " 'pablo moralejo antúnez',\n",
       " 'mika schmidt',\n",
       " 'mehdi gara',\n",
       " 'alex sagarduy bengoa',\n",
       " 'juan ignacio lasquetty alonso',\n",
       " 'eline werner stenberg',\n",
       " 'ahmed sekkate',\n",
       " 'elisa longo',\n",
       " 'águeda de carvajal fernández',\n",
       " 'cecilia brogniez',\n",
       " 'diego gonzález dolz',\n",
       " 'kerry allan',\n",
       " 'laura mestre lópez',\n",
       " 'inés bermúdez zaragoza',\n",
       " 'anna granberg',\n",
       " 'vera ferreira pinto',\n",
       " 'marc houtzager',\n",
       " 'toby parsons',\n",
       " 'stephane darre',\n",
       " 'abbie oakey',\n",
       " 'carlos lópez-fanjul tartiere',\n",
       " 'martin alonso dubost',\n",
       " 'marta torrado del barco',\n",
       " 'alwin van de pol',\n",
       " 'tressy muhr',\n",
       " 'saskia norum',\n",
       " 'elena laita jiménez',\n",
       " 'marta fernández andrade',\n",
       " 'ayla boudraa',\n",
       " 'elena fernandez-novell sadurní',\n",
       " 'nermina pieters - mekic',\n",
       " 'robin muhr',\n",
       " 'jennifer wistbacka',\n",
       " 'linda hestad valland',\n",
       " 'ekain azkarraga grajales',\n",
       " 'grace shuddall hughes',\n",
       " 'clementine mathieu',\n",
       " 'natalia cerdeiras megias',\n",
       " 'josé antonio rodríguez medina',\n",
       " 'giulia locatelli',\n",
       " 'francesco turturiello',\n",
       " \"margarita d'agostino vargas\",\n",
       " 'louise charlott bouissou duclos',\n",
       " 'mar valdes caparros',\n",
       " 'ane aizpuru ruiloba',\n",
       " 'nina rinderknecht',\n",
       " 'wout-jan van der schans',\n",
       " 'ana gonzález menéndez',\n",
       " 'carola pedemonte',\n",
       " 'clem mcmahon',\n",
       " 'pieter devos',\n",
       " 'georgina gonzalez pie',\n",
       " 'zoe osterhoff',\n",
       " 'jerome lassime',\n",
       " 'gustavo cuicchi quero',\n",
       " 'mohamed bennani',\n",
       " 'nanna adams',\n",
       " 'martina astillero montesinos',\n",
       " 'valeria guadalupe vega contreras',\n",
       " 'aiert hormaetxe uriguen',\n",
       " 'noah keller',\n",
       " 'maría josé moriel novoa',\n",
       " 'yessica del carmen oliva medina',\n",
       " 'mienie vos',\n",
       " 'lenika victoria conrad',\n",
       " 'annabelle brown',\n",
       " 'rogier linssen',\n",
       " 'lucía sánchez ceballos',\n",
       " 'karin ernsting',\n",
       " 'candela fernández campoamor',\n",
       " 'hugo vicente marco',\n",
       " 'alia perrier',\n",
       " 'maría bañuls sañudo',\n",
       " 'lenka durisinova',\n",
       " 'sara sangiovanni',\n",
       " 'jing-de joshua tan',\n",
       " 'vincent hamel',\n",
       " 'diane esvan',\n",
       " 'valentina jarl',\n",
       " 'tristan lematre',\n",
       " 'amalie marie litland',\n",
       " 'nerea robles aguirre',\n",
       " 'lucia amezcua leahy',\n",
       " 'andrea gamo olmeda',\n",
       " 'christian fioravanti',\n",
       " 'daniela martinez rodriguez',\n",
       " 'jamie wingrove',\n",
       " 'emma kallio',\n",
       " 'leigh ofer -',\n",
       " \"fiona juzgado o'daly\",\n",
       " 'marta fernández fernández',\n",
       " 'marisa ros zapata',\n",
       " 'sofia federica bonini',\n",
       " 'chloe bilote',\n",
       " 'gonzalo menéndez menéndez',\n",
       " 'olivia dresler',\n",
       " 'lucía moreira blanco',\n",
       " 'alejandro fernández sanchez',\n",
       " 'maría eugenia zegri de olivar',\n",
       " 'petra heikkinen',\n",
       " 'lou favede',\n",
       " 'lily elliot',\n",
       " 'frantz ducci',\n",
       " 'cristina cuatrecasas barcelo',\n",
       " 'pablo gómez leal',\n",
       " 'irene zuazua de la torre',\n",
       " 'dakotah boluda de vlas',\n",
       " 'elena appendino putsche',\n",
       " 'felipa xara-brasil',\n",
       " 'olivia cobiella lajo',\n",
       " 'iñaki lorenzo simón',\n",
       " 'carmen gordaliza gomez-escolar',\n",
       " 'emma augier de moussac',\n",
       " 'emily flockett',\n",
       " 'enrique rodríguez negre',\n",
       " 'santiago núñez riva',\n",
       " 'dominique hendrickx',\n",
       " 'georgia attwood',\n",
       " 'leticia vázquez queijas',\n",
       " 'bart haselbekke',\n",
       " 'leonie bussmann-wöhle',\n",
       " 'eduardo ortega polo',\n",
       " 'koen vereecke',\n",
       " 'jill smits',\n",
       " 'stephanie servais',\n",
       " 'maria freitas de anta',\n",
       " 'megan laseur',\n",
       " 'tereza praskova',\n",
       " 'sylvie plaskow',\n",
       " 'alessandro bertini',\n",
       " 'alejandra fernandez-peña raventós',\n",
       " 'freya banks clark',\n",
       " 'chloe fagan',\n",
       " 'lucía muguiro camarero',\n",
       " 'laura jackson',\n",
       " 'rodrigo silva morgado',\n",
       " 'laura bauman',\n",
       " 'alex barr',\n",
       " 'valérie maupas',\n",
       " 'bárbara sánchez panadero',\n",
       " 'alfredo marijuan guerra',\n",
       " 'zoe lia',\n",
       " 'françois bossu',\n",
       " 'josefina goess-saurau',\n",
       " 'juan rodríguez fernández',\n",
       " 'matilde pais',\n",
       " 'josh kindell',\n",
       " 'eleanor utku',\n",
       " 'eduardo gonzalez garcia',\n",
       " 'adrian whiteway',\n",
       " 'dorothee amar',\n",
       " 'laura roquet puignero',\n",
       " 'martina caceres gerez',\n",
       " 'maría cruz-conde lacoba',\n",
       " 'isabel pallero dávila',\n",
       " 'alexander wagner',\n",
       " 'richard jenkinson',\n",
       " 'marina verdiere',\n",
       " 'leanne bailey',\n",
       " 'ema balkova',\n",
       " 'mirari balanzategui barrenechea',\n",
       " 'alvaro troncoso moreno',\n",
       " 'martina nebot sanchez',\n",
       " 'agueda isabel martin briones',\n",
       " 'david horvath',\n",
       " 'lukasz piksa',\n",
       " 'ana luisa de la chica quesada',\n",
       " 'daniel gadea mallada',\n",
       " 'alicia garcía tapetado',\n",
       " 'mia lerchl',\n",
       " 'vanessa ingrid pecina',\n",
       " 'alejandro maestre maroño',\n",
       " 'sanne thijssen',\n",
       " 'alex bishop',\n",
       " 'megan broadway',\n",
       " 'sara palacios velasco',\n",
       " \"max o'reilly hyland\",\n",
       " 'katherine brewer',\n",
       " 'magdalena segovia guerrero',\n",
       " 'mia sophie krämer',\n",
       " 'carmen balaguer soliveres',\n",
       " 'bianca babanitz',\n",
       " 'óscar le gal pérez',\n",
       " 'thibault vermeulen',\n",
       " 'mario villapalos rodríguez',\n",
       " 'francesco slocovich',\n",
       " 'elise foucart',\n",
       " 'martina suarez padilla',\n",
       " 'nadia sierra larregui',\n",
       " 'julio arias cueva',\n",
       " 'olivia álvarez garcía',\n",
       " 'mª nieves garcía pérez',\n",
       " 'emeline emmel',\n",
       " 'francisco almansa aguilar',\n",
       " 'candela baro amieva',\n",
       " 'francesco colasanti',\n",
       " 'peter bulthuis',\n",
       " 'giacomo lanzi motto',\n",
       " 'marlon modolo zanotelli',\n",
       " 'safouane laamal',\n",
       " 'luis felipe costa',\n",
       " 'sonia hungerbühler',\n",
       " 'alejandra melian santana',\n",
       " 'fanny skalli',\n",
       " 'vittoria fuser',\n",
       " 'malo lescanne',\n",
       " 'alice villa',\n",
       " 'cristina casado revuelta',\n",
       " 'carolina bustamante alonso',\n",
       " 'gonzalo senra chover',\n",
       " 'raffaele valente',\n",
       " 'cayetana calderón bañuls',\n",
       " 'aina del campo amella',\n",
       " 'sandra cebrian vicente',\n",
       " 'ana eliza aguiar ramos',\n",
       " 'patrick hickey',\n",
       " 'javier bosch cebrián',\n",
       " 'enrique garcia-gallardo garcía',\n",
       " 'maxine sordet',\n",
       " 'paloma carmona tuesta',\n",
       " 'grace mullaney',\n",
       " 'matilde hughes bravo',\n",
       " 'simon yde',\n",
       " 'esther bengtsson',\n",
       " 'olivier bujard',\n",
       " 'nina mandic',\n",
       " 'jade laderach',\n",
       " 'charlotte berghmans',\n",
       " 'nicolas belin',\n",
       " 'othmane aqallal',\n",
       " 'charlotte lutz',\n",
       " 'alexia michelle chávez corsain',\n",
       " 'juan carrillo de mendoza osborne',\n",
       " 'rayane el ouarzazi',\n",
       " 'mathias lemaire .',\n",
       " 'laura jiménez heras',\n",
       " 'alejandro córdoba pérez',\n",
       " 'tom reilly',\n",
       " 'louise joassin',\n",
       " 'gerrit nieberg',\n",
       " 'chantal fernández saez',\n",
       " 'martina garcía gutiérrez',\n",
       " 'james winter',\n",
       " 'sabrina palopoli boschi',\n",
       " 'clara gómez-pomar ruiz',\n",
       " 'iwan carpenter',\n",
       " 'neri pieraccini',\n",
       " 'benjamin clark',\n",
       " 'alix ragot',\n",
       " 'maria vittoria gaffuri',\n",
       " 'martina bonelli',\n",
       " 'pieter stubbe',\n",
       " 'erin characklis',\n",
       " 'mariana paredes bermudez',\n",
       " 'jeroen appelen',\n",
       " 'faye louise vos',\n",
       " 'maryam amiri',\n",
       " 'ana godoy manzana',\n",
       " 'ixone barcena reyes',\n",
       " 'rodrigo guzmán ballesteros',\n",
       " 'aleksandra wypchlo',\n",
       " 'anna power',\n",
       " 'oliver close',\n",
       " 'amelia gardiner',\n",
       " 'eileen thomel',\n",
       " 'thaís salvador parés',\n",
       " 'nora el sayed hansen',\n",
       " 'gerardo menéndez mieres',\n",
       " 'emily elliott',\n",
       " 'maxime boutron',\n",
       " 'natalia garcia rodriguez',\n",
       " 'suzanne leriche',\n",
       " 'marta bier johannpeter',\n",
       " 'peter rogenmoser',\n",
       " 'bertine hagen berentsen',\n",
       " 'andres vereecke',\n",
       " 'manfredi macchiarella',\n",
       " 'alexandra woivre gómez',\n",
       " 'henk van de pol',\n",
       " 'marieta susin mateo',\n",
       " 'josé maría soler adell',\n",
       " 'enzo fernando paduano',\n",
       " 'emma giulia redento',\n",
       " 'gabriela menendez-abascal sitges',\n",
       " 'ángela gonzález muñoz',\n",
       " 'alexandre relvas',\n",
       " 'eva gomy',\n",
       " 'tom harrison',\n",
       " 'laura mantel',\n",
       " 'axel vandoorne',\n",
       " 'thomas lambert',\n",
       " 'jesus folch redondo',\n",
       " 'sandrine verge',\n",
       " 'raúl bodega blas',\n",
       " 'audrey coudrin',\n",
       " 'alfonso vázquez aymerich',\n",
       " 'brice grugeon',\n",
       " 'abdennour dahbi skali',\n",
       " 'lucca meyer',\n",
       " 'fredrik b. seim',\n",
       " 'jordan thompson',\n",
       " 'jules van hoydonck',\n",
       " 'nellie wennerhorn',\n",
       " 'andrea bassan',\n",
       " 'christoffer lindenberg',\n",
       " 'britt erp, van',\n",
       " 'borja oria riu',\n",
       " 'jonathan hansson',\n",
       " 'nick nanning',\n",
       " 'riccardo pisani',\n",
       " 'joanne mcglory',\n",
       " 'júlia stolarczyk okarma',\n",
       " 'anaelle alfano',\n",
       " 'charlotte triay',\n",
       " 'rita álvarez tristancho',\n",
       " 'domitille charlotte debiesse',\n",
       " 'lena marie zins',\n",
       " 'natalia bernal lluch',\n",
       " 'emmelie melssen',\n",
       " 'daniel fitzgerald',\n",
       " 'daniel ocaña sanchez',\n",
       " 'jens baackmann',\n",
       " 'sira accola',\n",
       " 'anna jázmin nyiri',\n",
       " 'moa behrens',\n",
       " 'antonio hidalgo del toro',\n",
       " 'chloe reynolds',\n",
       " 'lara dervaux',\n",
       " 'sarah williams',\n",
       " 'ilse komar',\n",
       " 'ruusa puikkonen',\n",
       " 'amelie soupasse',\n",
       " 'juan marcos rueda dominguez',\n",
       " 'martina raposo roca',\n",
       " 'pau canals ripoll',\n",
       " 'jérôme denutte',\n",
       " 'olivia skinner',\n",
       " 'marie gerdes',\n",
       " 'liza récsey',\n",
       " 'pablo medal rionda',\n",
       " 'maia-lykke knutsen',\n",
       " 'rehana kumbhar',\n",
       " 'alex codina leria',\n",
       " 'amy inglis',\n",
       " 'francesc martí elías',\n",
       " 'cornelia emilie kasin',\n",
       " 'marco hanke',\n",
       " 'izabella stone',\n",
       " 'nora garcia urtasun',\n",
       " 'gerco schröder',\n",
       " 'meryl molin coiffe',\n",
       " 'maxim godecharle',\n",
       " 'günter schmaus',\n",
       " 'badr khiati',\n",
       " 'delia conejero gil',\n",
       " 'manuela pinho',\n",
       " 'amelie gachoud',\n",
       " 'carlos eduardo mota ribas',\n",
       " 'laura hetzel',\n",
       " 'lisa-marie arvai',\n",
       " 'irene vázquez aymerich',\n",
       " 'mencia arroyo perianes',\n",
       " 'mia grey',\n",
       " 'léa de coulon',\n",
       " 'scott dollemore',\n",
       " 'sandra frutos bednarova',\n",
       " 'helene pillgram evers',\n",
       " 'valentina sagardi diez',\n",
       " 'linda naeve',\n",
       " 'ninon claude',\n",
       " 'charlotte leoni',\n",
       " 'lucia esteban moyano',\n",
       " 'sergi segura montane',\n",
       " 'louise deloraine',\n",
       " 'francisco gaviño gonzález',\n",
       " 'rocío sainz de rozas de la cámara',\n",
       " 'johanna magnusson',\n",
       " 'filipe malta da costa',\n",
       " 'gianmarco ferretti',\n",
       " 'rocio pérez sánchez',\n",
       " 'selma andersson kristiansen',\n",
       " 'alejandra gómez-sainz gónzalez',\n",
       " 'nicola jane bartropp',\n",
       " 'heloise roquette',\n",
       " 'kevin gonzález de zarate fernández',\n",
       " 'konstantin e. van damme',\n",
       " 'alexa ferrer',\n",
       " 'daniela marsa wamsteker',\n",
       " 'olivia gent',\n",
       " 'charlotte fievet .',\n",
       " 'maya de la joya fernández-longoria',\n",
       " 'katia bosque izquierdo',\n",
       " 'isobel stenning',\n",
       " 'nicolas giordano',\n",
       " 'sérgio azevedo cunha',\n",
       " 'gabriella bastelli',\n",
       " 'lucas hernandez gonzalez',\n",
       " 'lily freeman-attwood',\n",
       " 'jack geaney',\n",
       " 'finn hutton',\n",
       " 'emma sozzi',\n",
       " 'sofía lópez iglesias',\n",
       " 'jordan gann',\n",
       " 'martina rodriguez valero',\n",
       " 'jaime balbas encarnacao',\n",
       " 'andries schepers',\n",
       " 'louise whitaker',\n",
       " 'line karlsen raaholt',\n",
       " 'sebastián alejo machado',\n",
       " 'nicolas ehlis roger',\n",
       " 'michel robert',\n",
       " 'axelle lagoubie',\n",
       " 'nora carles blanch',\n",
       " 'elicia lynch',\n",
       " 'valentina cortijo garcia',\n",
       " 'jean pierre frei',\n",
       " 'michelle haab',\n",
       " 'neal vanderwegen',\n",
       " 'raphael sales',\n",
       " 'eloise guy',\n",
       " 'jimena cobos velasco',\n",
       " 'paula nieto carpio',\n",
       " 'nel batkiewicz',\n",
       " 'marta de la fuente roldán',\n",
       " 'aurora sanz urmeneta',\n",
       " 'jacobo fernández pérez',\n",
       " 'pepe rubio romero',\n",
       " 'silvia zango garcia',\n",
       " 'amelia keen',\n",
       " 'laia coll fernandez',\n",
       " 'javier ruiz poggio',\n",
       " 'olympe zouin virag',\n",
       " 'ildefonso maldonado lópez  de carrizosa',\n",
       " 'caterina pinteño miralles',\n",
       " 'diego berrocal garnacho',\n",
       " 'edouard petillon',\n",
       " 'olivier gomy',\n",
       " 'dominika knox',\n",
       " 'sara retorta blommaerts',\n",
       " 'remi letournel',\n",
       " 'katerina bubakova',\n",
       " 'mathilde longy',\n",
       " 'eve giron',\n",
       " 'marçal piró patau',\n",
       " 'camilla bosio',\n",
       " 'inge carton',\n",
       " 'chloe chu',\n",
       " 'nicolas bruylants',\n",
       " 'sian mileham',\n",
       " 'pablo valle espinedo',\n",
       " 'hedda hagen berentsen',\n",
       " 'anna mathilde buskoven',\n",
       " 'guillermo josé bouzas grau',\n",
       " 'julien epaillard',\n",
       " 'yifan zhang',\n",
       " 'lisa marie kreutz',\n",
       " 'anthony philippaerts',\n",
       " 'rachele rinaldini',\n",
       " 'paula arnaiz cuenca',\n",
       " 'abigaele christiaens',\n",
       " 'lumir richet',\n",
       " \"isabel o'brien\",\n",
       " 'ruby barrs',\n",
       " 'luisa de filippo',\n",
       " 'ane menoyo lopategui',\n",
       " 'juan carlos tellez lópez',\n",
       " 'claudia julia puchol',\n",
       " 'josé manuel domínguez mateos',\n",
       " 'carlota uson jaume',\n",
       " 'piergiorgio bucci',\n",
       " 'estelle van tricht',\n",
       " 'remy ellis',\n",
       " 'cayetana gonzález garcía',\n",
       " 'carmen artime valdes',\n",
       " 'francisco miguens malta da costa',\n",
       " 'roberto franchin',\n",
       " 'camilla mazzocco',\n",
       " 'ivan conde real de asua',\n",
       " 'sara gonzalez abejaro',\n",
       " 'lisa maria rudigier',\n",
       " 'isabell bengtsson',\n",
       " 'nikita van der meerschen',\n",
       " 'nicolas zabala alfonso',\n",
       " 'ted bastian-mason',\n",
       " 'gabriela ramón van der elst',\n",
       " 'paula fernández de la cueva ripa',\n",
       " 'alejandra nicolás hidalgo',\n",
       " 'maría sainz de rozas de la cámara',\n",
       " 'paola poli',\n",
       " 'alfonso gomez-moran martinez',\n",
       " 'luis alberto teran de la piedra',\n",
       " 'enrique gonzalez',\n",
       " 'lance whitehouse',\n",
       " 'charlotte van wesel',\n",
       " 'elizabeth barratt',\n",
       " 'estelle gerard',\n",
       " 'rafael tapias villanueva',\n",
       " 'josé carlos garcía herrainz',\n",
       " 'rebecca marsh',\n",
       " 'elisabet góngora lasús',\n",
       " 'laurence crot',\n",
       " 'manuel vázquez herranz',\n",
       " 'taisie de gruchy',\n",
       " 'lavinia ludovica romano',\n",
       " 'guy williams',\n",
       " 'amanda ratcliffe',\n",
       " 'alessandra de lucca',\n",
       " 'antonio benito blázquez',\n",
       " 'jasmin ranta-aho',\n",
       " 'chloe aston',\n",
       " 'aleksandra hearst',\n",
       " 'hubert artymowicz',\n",
       " 'irene alonso vázquez',\n",
       " 'abdullah alaoui',\n",
       " 'tim gredley',\n",
       " 'sienna white',\n",
       " 'bautista rodríguez debray',\n",
       " 'carl-hugo westergren',\n",
       " 'luigi polesello',\n",
       " 'thibault pigeon',\n",
       " 'alberto león busquier',\n",
       " 'jil verheij',\n",
       " 'andrea marchese',\n",
       " 'ana torres windisch',\n",
       " 'andrea bormioli',\n",
       " 'lorenzo toscano',\n",
       " 'antonio rodríguez de tembleque lópez',\n",
       " 'eleanor hall mcateer',\n",
       " 'adrien florian santacreu',\n",
       " 'catalina campos fernández',\n",
       " 'gonzalo de almeida barradas',\n",
       " 'agustina alvarez',\n",
       " 'daniela haase',\n",
       " 'roelof bril',\n",
       " 'clara capdevila burguera',\n",
       " 'camille courtial',\n",
       " 'ashlee harrison',\n",
       " 'sebastian adams',\n",
       " 'andreas schou',\n",
       " 'ruby payne',\n",
       " 'cecilia sierra trejo',\n",
       " 'anouk de ruijter',\n",
       " 'lászló tóth',\n",
       " 'claudia desprini',\n",
       " 'cecilie hatteland',\n",
       " 'sabrina tastet',\n",
       " 'sarica brun',\n",
       " ...]"
      ]
     },
     "execution_count": 8,
     "metadata": {},
     "output_type": "execute_result"
    }
   ],
   "source": [
    "query = \"\"\" \n",
    "        SELECT DISTINCT nombre_jinete\n",
    "        FROM jinetes\n",
    "\"\"\"\n",
    "\n",
    "lista_nombres = [tupla[0] for tupla in ejecutor_querys(cur, query)]\n",
    "lista_nombres"
   ]
  },
  {
   "cell_type": "code",
   "execution_count": 9,
   "id": "174a3b31",
   "metadata": {},
   "outputs": [],
   "source": [
    "import re\n",
    "def extraer_altura_y_edad(texto):\n",
    "    altura = None\n",
    "    edad = None\n",
    "\n",
    "    match_altura = re.search(r'(\\d{1,2}[,.]\\d{2})\\s?(?:m\\.?)?', texto)\n",
    "    if match_altura:\n",
    "        altura = match_altura.group(1).replace(',', '.')\n",
    "\n",
    "    match_edad = re.search(r'\\b([5-8])\\s?años\\b', texto, flags=re.IGNORECASE)\n",
    "    if match_edad:\n",
    "        edad = f\"{match_edad.group(1)} años\"\n",
    "\n",
    "    return altura, edad\n"
   ]
  },
  {
   "cell_type": "code",
   "execution_count": 10,
   "id": "5e6c0c17",
   "metadata": {},
   "outputs": [],
   "source": [
    "conn.rollback()"
   ]
  },
  {
   "cell_type": "code",
   "execution_count": 11,
   "id": "c57ba974",
   "metadata": {},
   "outputs": [],
   "source": [
    "def info_jinete_caballo(jinete_entrada, caballo_entrada):\n",
    "    query_prueba = f\"\"\" \n",
    "            SELECT \n",
    "                j.nombre_jinete,\n",
    "                c.nombre_caballo,\n",
    "                rs.puntos_obs_r1,\n",
    "                rs.puntos_tmp_r1,\n",
    "                rs.tiempo_r1,\n",
    "                rs.puntos_obs_r2,\n",
    "                rs.puntos_tmp_r2,\n",
    "                rs.tiempo_r2,\n",
    "                rs.puntos_obs_r3,\n",
    "                rs.puntos_tmp_r3,\n",
    "                rs.tiempo_r3,\n",
    "                p.nombre_prueba,\n",
    "                co.nombre_concurso,\n",
    "                r.estado,\n",
    "                p.fecha_prueba,\n",
    "                r.puesto,\n",
    "                co.fecha_inicio_concurso,\n",
    "                co.fecha_fin_concurso\n",
    "            FROM resultados r\n",
    "                JOIN caballos c ON r.id_caballo = c.id_caballo\n",
    "                JOIN jinetes j ON r.id_jinete = j.id_jinete\n",
    "                JOIN resultados_salto rs ON r.id_resultado = rs.id_resultado\n",
    "                JOIN pruebas p ON r.id_prueba = p.id_prueba\n",
    "                JOIN concursos co ON r.id_concurso = co.id_concurso\n",
    "            WHERE j.nombre_jinete = '{jinete_entrada}' AND c.nombre_caballo = '{caballo_entrada}';\n",
    "    \"\"\"\n",
    "    binomio = pd.DataFrame(ejecutor_querys(cur, query_prueba)).rename(columns = {0: 'jinete', 1: 'caballo', 2: 'puntos_obs_r1', 3: 'puntos_tmp_r1', 4: 'tiempo_r1',\n",
    "                                                                    5: 'puntos_obs_r2', 6: 'puntos_tmp_r2', 7: 'tiempo_r2',\n",
    "                                                                    8: 'puntos_obs_r3', 9: 'puntos_tmp_r3', 10: 'tiempo_r3',\n",
    "                                                                    11: 'prueba', 12: 'concurso', 13: 'estado', 14: 'fecha_prueba', 15: 'puesto'})\n",
    "    # METRICAS\n",
    "    n_concursos = len(binomio['concurso'].unique()) # numero de concursos en los que el caballo ha competido con el jinete seleccionado\n",
    "    n_caballos_corridos = len(caballos) # numero de cabllos que el jinete seleccionado corre actualmente/ha corrido este año\n",
    "    porcentaje_recorridos_finalizados = round(len(binomio[binomio[\"estado\"] == \"FIN\"])/len(binomio) * 100, 2) # porcentaje de pruebas finalizadas\n",
    "\n",
    "    tipos_pruebas_altura = binomio['prueba'].apply(extraer_altura_y_edad)\n",
    "    alturas = []\n",
    "    edad = []\n",
    "    for elemento in tipos_pruebas_altura:\n",
    "        if pd.notna(elemento[0]):\n",
    "            alturas.append(elemento[0])\n",
    "        if pd.notna(elemento[1]):\n",
    "            edad.append(elemento[1])\n",
    "        else:\n",
    "            continue\n",
    "    alturas_buenas = list(set(alturas)) # alturas en las que el jinete ha competido con el caballo seleccionado\n",
    "    edad_bueno = list(set(edad)) # si es caballo joven o no \n",
    "\n",
    "\n",
    "    tiempos = binomio[['tiempo_r1', 'tiempo_r2', 'tiempo_r3']].apply(pd.to_numeric, errors='coerce')\n",
    "    promedio_tiempo = round(tiempos.stack().mean(), 2) # promedio de tiempo que realiza el caballo en un recorrido\n",
    "\n",
    "    # Solo filas con estado FIN (salida a pista válida)\n",
    "    df_fin = binomio[binomio['estado'] == 'FIN']\n",
    "\n",
    "    # Vamos a revisar todas las rondas para contar las salidas y calcular puntos\n",
    "    rondas = ['r1', 'r2', 'r3']\n",
    "\n",
    "    # Creamos listas para guardar resultados de cada salida a pista (cada ronda válida)\n",
    "    salidas_pista = []\n",
    "\n",
    "    for _, fila in df_fin.iterrows():\n",
    "        for r in rondas:\n",
    "            p_obs = fila[f'puntos_obs_{r}']\n",
    "            p_tmp = fila[f'puntos_tmp_{r}']\n",
    "            tiempo = fila[f'tiempo_{r}']\n",
    "            \n",
    "            # Comprobar si salió a pista: alguna de estas 3 columnas tiene un valor numérico válido\n",
    "            if pd.notna(p_obs) or pd.notna(p_tmp) or pd.notna(tiempo):\n",
    "                # Asegurarnos que p_obs sea número, sino 0 para contar correctamente\n",
    "                p_obs_val = p_obs if pd.notna(p_obs) else 0\n",
    "                salidas_pista.append(p_obs_val)\n",
    "\n",
    "    # Número de salidas a pista\n",
    "    num_salidas = len(salidas_pista) # numero de recorridos/salidas a pista que ha realizado el cabllo con el jinete seleccionado\n",
    "\n",
    "    # Promedio de puntos en obstáculos por salida\n",
    "    promedio_puntos_obs = round(np.mean(salidas_pista)) # promedio de puntos de obstaculos que realiza el caballo en una salida a pista \n",
    "\n",
    "    # Porcentaje de salidas con 0 puntos en obstáculos\n",
    "    veces_cero = sum(1 for x in salidas_pista if x == 0) # numero de veces que el caballo ha hecho cero puntos en obstaculos\n",
    "    promedio_veces_cero = (veces_cero / num_salidas if num_salidas > 0 else np.nan)*100\n",
    "    jinete = binomio['jinete'].unique()[0]\n",
    "    caballo = binomio['caballo'].unique()[0]\n",
    "    edad_caballo = edad_bueno[0] if edad_bueno else \"No joven\"\n",
    "    return jinete, caballo, edad_caballo, n_concursos, alturas_buenas, promedio_puntos_obs, promedio_veces_cero, binomio\n"
   ]
  },
  {
   "cell_type": "code",
   "execution_count": 27,
   "id": "92277045",
   "metadata": {},
   "outputs": [
    {
     "data": {
      "text/html": [
       "<div>\n",
       "<style scoped>\n",
       "    .dataframe tbody tr th:only-of-type {\n",
       "        vertical-align: middle;\n",
       "    }\n",
       "\n",
       "    .dataframe tbody tr th {\n",
       "        vertical-align: top;\n",
       "    }\n",
       "\n",
       "    .dataframe thead th {\n",
       "        text-align: right;\n",
       "    }\n",
       "</style>\n",
       "<table border=\"1\" class=\"dataframe\">\n",
       "  <thead>\n",
       "    <tr style=\"text-align: right;\">\n",
       "      <th></th>\n",
       "      <th>jinete</th>\n",
       "      <th>caballo</th>\n",
       "      <th>puntos_obs_r1</th>\n",
       "      <th>puntos_tmp_r1</th>\n",
       "      <th>tiempo_r1</th>\n",
       "      <th>puntos_obs_r2</th>\n",
       "      <th>puntos_tmp_r2</th>\n",
       "      <th>tiempo_r2</th>\n",
       "      <th>puntos_obs_r3</th>\n",
       "      <th>puntos_tmp_r3</th>\n",
       "      <th>tiempo_r3</th>\n",
       "      <th>prueba</th>\n",
       "      <th>concurso</th>\n",
       "      <th>estado</th>\n",
       "      <th>fecha_prueba</th>\n",
       "      <th>puesto</th>\n",
       "      <th>16</th>\n",
       "      <th>17</th>\n",
       "    </tr>\n",
       "  </thead>\n",
       "  <tbody>\n",
       "    <tr>\n",
       "      <th>0</th>\n",
       "      <td>hugo álvarez amaro</td>\n",
       "      <td>casaspezia</td>\n",
       "      <td>0.0</td>\n",
       "      <td>NaN</td>\n",
       "      <td>67.78</td>\n",
       "      <td>NaN</td>\n",
       "      <td>None</td>\n",
       "      <td>NaN</td>\n",
       "      <td>None</td>\n",
       "      <td>None</td>\n",
       "      <td>None</td>\n",
       "      <td>1,50 (G) - A c.c. (238.2.1)</td>\n",
       "      <td>CSI4* - 1st Week XXXI Andalucía Sunshine Tour ...</td>\n",
       "      <td>FIN</td>\n",
       "      <td>2025-02-06</td>\n",
       "      <td>14.0</td>\n",
       "      <td>2025-02-06</td>\n",
       "      <td>2025-02-09</td>\n",
       "    </tr>\n",
       "    <tr>\n",
       "      <th>1</th>\n",
       "      <td>hugo álvarez amaro</td>\n",
       "      <td>casaspezia</td>\n",
       "      <td>12.0</td>\n",
       "      <td>0.0</td>\n",
       "      <td>70.51</td>\n",
       "      <td>NaN</td>\n",
       "      <td>None</td>\n",
       "      <td>NaN</td>\n",
       "      <td>None</td>\n",
       "      <td>None</td>\n",
       "      <td>None</td>\n",
       "      <td>1,50 (G) - A c.c. (238.2.1)</td>\n",
       "      <td>CSI4* - 1st Week XXXI Andalucía Sunshine Tour ...</td>\n",
       "      <td>FIN</td>\n",
       "      <td>2025-02-07</td>\n",
       "      <td>42.0</td>\n",
       "      <td>2025-02-06</td>\n",
       "      <td>2025-02-09</td>\n",
       "    </tr>\n",
       "    <tr>\n",
       "      <th>2</th>\n",
       "      <td>hugo álvarez amaro</td>\n",
       "      <td>casaspezia</td>\n",
       "      <td>4.0</td>\n",
       "      <td>0.0</td>\n",
       "      <td>75.78</td>\n",
       "      <td>NaN</td>\n",
       "      <td>None</td>\n",
       "      <td>NaN</td>\n",
       "      <td>None</td>\n",
       "      <td>None</td>\n",
       "      <td>None</td>\n",
       "      <td>1,55 (GP) - A.c.c. y desempate (238.2.2)</td>\n",
       "      <td>CSI4* - 1st Week XXXI Andalucía Sunshine Tour ...</td>\n",
       "      <td>FIN</td>\n",
       "      <td>2025-02-09</td>\n",
       "      <td>12.0</td>\n",
       "      <td>2025-02-06</td>\n",
       "      <td>2025-02-09</td>\n",
       "    </tr>\n",
       "    <tr>\n",
       "      <th>3</th>\n",
       "      <td>hugo álvarez amaro</td>\n",
       "      <td>casaspezia</td>\n",
       "      <td>8.0</td>\n",
       "      <td>0.0</td>\n",
       "      <td>70.99</td>\n",
       "      <td>NaN</td>\n",
       "      <td>None</td>\n",
       "      <td>NaN</td>\n",
       "      <td>None</td>\n",
       "      <td>None</td>\n",
       "      <td>None</td>\n",
       "      <td>1,50 (GP) - A.c.c. y desempate (238.2.2)</td>\n",
       "      <td>CSI4* - 2nd Week XXXI Andalucía Sunshine Tour ...</td>\n",
       "      <td>FIN</td>\n",
       "      <td>2025-02-14</td>\n",
       "      <td>52.0</td>\n",
       "      <td>2025-02-13</td>\n",
       "      <td>2025-02-16</td>\n",
       "    </tr>\n",
       "    <tr>\n",
       "      <th>4</th>\n",
       "      <td>hugo álvarez amaro</td>\n",
       "      <td>casaspezia</td>\n",
       "      <td>4.0</td>\n",
       "      <td>0.0</td>\n",
       "      <td>79.24</td>\n",
       "      <td>NaN</td>\n",
       "      <td>None</td>\n",
       "      <td>NaN</td>\n",
       "      <td>None</td>\n",
       "      <td>None</td>\n",
       "      <td>None</td>\n",
       "      <td>1,50 (GP) - A.c.c. y desempate (238.2.2)</td>\n",
       "      <td>CSI4* - 2nd Week XXXI Andalucía Sunshine Tour ...</td>\n",
       "      <td>FIN</td>\n",
       "      <td>2025-02-16</td>\n",
       "      <td>27.0</td>\n",
       "      <td>2025-02-13</td>\n",
       "      <td>2025-02-16</td>\n",
       "    </tr>\n",
       "  </tbody>\n",
       "</table>\n",
       "</div>"
      ],
      "text/plain": [
       "               jinete     caballo  puntos_obs_r1  puntos_tmp_r1  tiempo_r1  \\\n",
       "0  hugo álvarez amaro  casaspezia            0.0            NaN      67.78   \n",
       "1  hugo álvarez amaro  casaspezia           12.0            0.0      70.51   \n",
       "2  hugo álvarez amaro  casaspezia            4.0            0.0      75.78   \n",
       "3  hugo álvarez amaro  casaspezia            8.0            0.0      70.99   \n",
       "4  hugo álvarez amaro  casaspezia            4.0            0.0      79.24   \n",
       "\n",
       "   puntos_obs_r2 puntos_tmp_r2  tiempo_r2 puntos_obs_r3 puntos_tmp_r3  \\\n",
       "0            NaN          None        NaN          None          None   \n",
       "1            NaN          None        NaN          None          None   \n",
       "2            NaN          None        NaN          None          None   \n",
       "3            NaN          None        NaN          None          None   \n",
       "4            NaN          None        NaN          None          None   \n",
       "\n",
       "  tiempo_r3                                    prueba  \\\n",
       "0      None               1,50 (G) - A c.c. (238.2.1)   \n",
       "1      None               1,50 (G) - A c.c. (238.2.1)   \n",
       "2      None  1,55 (GP) - A.c.c. y desempate (238.2.2)   \n",
       "3      None  1,50 (GP) - A.c.c. y desempate (238.2.2)   \n",
       "4      None  1,50 (GP) - A.c.c. y desempate (238.2.2)   \n",
       "\n",
       "                                            concurso estado fecha_prueba  \\\n",
       "0  CSI4* - 1st Week XXXI Andalucía Sunshine Tour ...    FIN   2025-02-06   \n",
       "1  CSI4* - 1st Week XXXI Andalucía Sunshine Tour ...    FIN   2025-02-07   \n",
       "2  CSI4* - 1st Week XXXI Andalucía Sunshine Tour ...    FIN   2025-02-09   \n",
       "3  CSI4* - 2nd Week XXXI Andalucía Sunshine Tour ...    FIN   2025-02-14   \n",
       "4  CSI4* - 2nd Week XXXI Andalucía Sunshine Tour ...    FIN   2025-02-16   \n",
       "\n",
       "   puesto          16          17  \n",
       "0    14.0  2025-02-06  2025-02-09  \n",
       "1    42.0  2025-02-06  2025-02-09  \n",
       "2    12.0  2025-02-06  2025-02-09  \n",
       "3    52.0  2025-02-13  2025-02-16  \n",
       "4    27.0  2025-02-13  2025-02-16  "
      ]
     },
     "execution_count": 27,
     "metadata": {},
     "output_type": "execute_result"
    }
   ],
   "source": [
    "df = info_jinete_caballo('hugo álvarez amaro', 'casaspezia')[-1]\n",
    "df.head()"
   ]
  },
  {
   "cell_type": "code",
   "execution_count": 13,
   "id": "a95d2947",
   "metadata": {},
   "outputs": [
    {
     "ename": "NameError",
     "evalue": "name 'jinete' is not defined",
     "output_type": "error",
     "traceback": [
      "\u001b[31m---------------------------------------------------------------------------\u001b[39m",
      "\u001b[31mNameError\u001b[39m                                 Traceback (most recent call last)",
      "\u001b[36mCell\u001b[39m\u001b[36m \u001b[39m\u001b[32mIn[13]\u001b[39m\u001b[32m, line 4\u001b[39m\n\u001b[32m      1\u001b[39m tabla_md = \u001b[33mf\u001b[39m\u001b[33m\"\"\"\u001b[39m\n\u001b[32m      2\u001b[39m \u001b[33m| Métrica               | Valor                        |\u001b[39m\n\u001b[32m      3\u001b[39m \u001b[33m|-----------------------|------------------------------|\u001b[39m\n\u001b[32m----> \u001b[39m\u001b[32m4\u001b[39m \u001b[33m| Jinete                | \u001b[39m\u001b[38;5;132;01m{\u001b[39;00m\u001b[43mjinete\u001b[49m\u001b[38;5;132;01m}\u001b[39;00m\u001b[33m                     |\u001b[39m\n\u001b[32m      5\u001b[39m \u001b[33m| Caballo               | \u001b[39m\u001b[38;5;132;01m{\u001b[39;00mcaballo\u001b[38;5;132;01m}\u001b[39;00m\u001b[33m                    |\u001b[39m\n\u001b[32m      6\u001b[39m \u001b[33m| Edad caballo          | \u001b[39m\u001b[38;5;132;01m{\u001b[39;00medad_caballo\u001b[38;5;132;01m}\u001b[39;00m\u001b[33m               |\u001b[39m\n\u001b[32m      7\u001b[39m \u001b[33m| Concursos realizados  | \u001b[39m\u001b[38;5;132;01m{\u001b[39;00mn_concursos\u001b[38;5;132;01m}\u001b[39;00m\u001b[33m                |\u001b[39m\n\u001b[32m      8\u001b[39m \u001b[33m| Altura óbstaculos     | \u001b[39m\u001b[38;5;132;01m{\u001b[39;00malturas_buenas\u001b[38;5;132;01m}\u001b[39;00m\u001b[33m             |\u001b[39m\n\u001b[32m      9\u001b[39m \u001b[33m| Pots_medios_salida    | \u001b[39m\u001b[38;5;132;01m{\u001b[39;00mpromedio_puntos_obs\u001b[38;5;132;01m}\u001b[39;00m\u001b[33m        |\u001b[39m\n\u001b[32m     10\u001b[39m \u001b[33m| Promedio_cero_obs     | \u001b[39m\u001b[38;5;132;01m{\u001b[39;00mpromedio_veces_cero\u001b[38;5;132;01m}\u001b[39;00m\u001b[33m        |\u001b[39m\n\u001b[32m     11\u001b[39m \u001b[33m\"\"\"\u001b[39m\n\u001b[32m     13\u001b[39m \u001b[38;5;28mprint\u001b[39m(tabla_md)\n",
      "\u001b[31mNameError\u001b[39m: name 'jinete' is not defined"
     ]
    }
   ],
   "source": [
    "tabla_md = f\"\"\"\n",
    "| Métrica               | Valor                        |\n",
    "|-----------------------|------------------------------|\n",
    "| Jinete                | {jinete}                     |\n",
    "| Caballo               | {caballo}                    |\n",
    "| Edad caballo          | {edad_caballo}               |\n",
    "| Concursos realizados  | {n_concursos}                |\n",
    "| Altura óbstaculos     | {alturas_buenas}             |\n",
    "| Pots_medios_salida    | {promedio_puntos_obs}        |\n",
    "| Promedio_cero_obs     | {promedio_veces_cero}        |\n",
    "\"\"\"\n",
    "\n",
    "print(tabla_md)\n"
   ]
  },
  {
   "cell_type": "code",
   "execution_count": 15,
   "id": "dc03641c",
   "metadata": {},
   "outputs": [
    {
     "data": {
      "application/vnd.plotly.v1+json": {
       "config": {
        "plotlyServerURL": "https://plot.ly"
       },
       "data": [
        {
         "domain": {
          "x": [
           0,
           1
          ],
          "y": [
           0,
           1
          ]
         },
         "hovertemplate": "estado=%{label}<br>count=%{value}<extra></extra>",
         "labels": [
          "FIN",
          "RET"
         ],
         "legendgroup": "",
         "name": "",
         "showlegend": true,
         "textfont": {
          "color": "white"
         },
         "textinfo": "percent",
         "type": "pie",
         "values": {
          "bdata": "DQI=",
          "dtype": "i1"
         }
        }
       ],
       "layout": {
        "height": 400,
        "legend": {
         "tracegroupgap": 0
        },
        "piecolorway": [
         "#4c78a8",
         "#54a24b"
        ],
        "template": {
         "data": {
          "bar": [
           {
            "error_x": {
             "color": "#2a3f5f"
            },
            "error_y": {
             "color": "#2a3f5f"
            },
            "marker": {
             "line": {
              "color": "#E5ECF6",
              "width": 0.5
             },
             "pattern": {
              "fillmode": "overlay",
              "size": 10,
              "solidity": 0.2
             }
            },
            "type": "bar"
           }
          ],
          "barpolar": [
           {
            "marker": {
             "line": {
              "color": "#E5ECF6",
              "width": 0.5
             },
             "pattern": {
              "fillmode": "overlay",
              "size": 10,
              "solidity": 0.2
             }
            },
            "type": "barpolar"
           }
          ],
          "carpet": [
           {
            "aaxis": {
             "endlinecolor": "#2a3f5f",
             "gridcolor": "white",
             "linecolor": "white",
             "minorgridcolor": "white",
             "startlinecolor": "#2a3f5f"
            },
            "baxis": {
             "endlinecolor": "#2a3f5f",
             "gridcolor": "white",
             "linecolor": "white",
             "minorgridcolor": "white",
             "startlinecolor": "#2a3f5f"
            },
            "type": "carpet"
           }
          ],
          "choropleth": [
           {
            "colorbar": {
             "outlinewidth": 0,
             "ticks": ""
            },
            "type": "choropleth"
           }
          ],
          "contour": [
           {
            "colorbar": {
             "outlinewidth": 0,
             "ticks": ""
            },
            "colorscale": [
             [
              0,
              "#0d0887"
             ],
             [
              0.1111111111111111,
              "#46039f"
             ],
             [
              0.2222222222222222,
              "#7201a8"
             ],
             [
              0.3333333333333333,
              "#9c179e"
             ],
             [
              0.4444444444444444,
              "#bd3786"
             ],
             [
              0.5555555555555556,
              "#d8576b"
             ],
             [
              0.6666666666666666,
              "#ed7953"
             ],
             [
              0.7777777777777778,
              "#fb9f3a"
             ],
             [
              0.8888888888888888,
              "#fdca26"
             ],
             [
              1,
              "#f0f921"
             ]
            ],
            "type": "contour"
           }
          ],
          "contourcarpet": [
           {
            "colorbar": {
             "outlinewidth": 0,
             "ticks": ""
            },
            "type": "contourcarpet"
           }
          ],
          "heatmap": [
           {
            "colorbar": {
             "outlinewidth": 0,
             "ticks": ""
            },
            "colorscale": [
             [
              0,
              "#0d0887"
             ],
             [
              0.1111111111111111,
              "#46039f"
             ],
             [
              0.2222222222222222,
              "#7201a8"
             ],
             [
              0.3333333333333333,
              "#9c179e"
             ],
             [
              0.4444444444444444,
              "#bd3786"
             ],
             [
              0.5555555555555556,
              "#d8576b"
             ],
             [
              0.6666666666666666,
              "#ed7953"
             ],
             [
              0.7777777777777778,
              "#fb9f3a"
             ],
             [
              0.8888888888888888,
              "#fdca26"
             ],
             [
              1,
              "#f0f921"
             ]
            ],
            "type": "heatmap"
           }
          ],
          "histogram": [
           {
            "marker": {
             "pattern": {
              "fillmode": "overlay",
              "size": 10,
              "solidity": 0.2
             }
            },
            "type": "histogram"
           }
          ],
          "histogram2d": [
           {
            "colorbar": {
             "outlinewidth": 0,
             "ticks": ""
            },
            "colorscale": [
             [
              0,
              "#0d0887"
             ],
             [
              0.1111111111111111,
              "#46039f"
             ],
             [
              0.2222222222222222,
              "#7201a8"
             ],
             [
              0.3333333333333333,
              "#9c179e"
             ],
             [
              0.4444444444444444,
              "#bd3786"
             ],
             [
              0.5555555555555556,
              "#d8576b"
             ],
             [
              0.6666666666666666,
              "#ed7953"
             ],
             [
              0.7777777777777778,
              "#fb9f3a"
             ],
             [
              0.8888888888888888,
              "#fdca26"
             ],
             [
              1,
              "#f0f921"
             ]
            ],
            "type": "histogram2d"
           }
          ],
          "histogram2dcontour": [
           {
            "colorbar": {
             "outlinewidth": 0,
             "ticks": ""
            },
            "colorscale": [
             [
              0,
              "#0d0887"
             ],
             [
              0.1111111111111111,
              "#46039f"
             ],
             [
              0.2222222222222222,
              "#7201a8"
             ],
             [
              0.3333333333333333,
              "#9c179e"
             ],
             [
              0.4444444444444444,
              "#bd3786"
             ],
             [
              0.5555555555555556,
              "#d8576b"
             ],
             [
              0.6666666666666666,
              "#ed7953"
             ],
             [
              0.7777777777777778,
              "#fb9f3a"
             ],
             [
              0.8888888888888888,
              "#fdca26"
             ],
             [
              1,
              "#f0f921"
             ]
            ],
            "type": "histogram2dcontour"
           }
          ],
          "mesh3d": [
           {
            "colorbar": {
             "outlinewidth": 0,
             "ticks": ""
            },
            "type": "mesh3d"
           }
          ],
          "parcoords": [
           {
            "line": {
             "colorbar": {
              "outlinewidth": 0,
              "ticks": ""
             }
            },
            "type": "parcoords"
           }
          ],
          "pie": [
           {
            "automargin": true,
            "type": "pie"
           }
          ],
          "scatter": [
           {
            "fillpattern": {
             "fillmode": "overlay",
             "size": 10,
             "solidity": 0.2
            },
            "type": "scatter"
           }
          ],
          "scatter3d": [
           {
            "line": {
             "colorbar": {
              "outlinewidth": 0,
              "ticks": ""
             }
            },
            "marker": {
             "colorbar": {
              "outlinewidth": 0,
              "ticks": ""
             }
            },
            "type": "scatter3d"
           }
          ],
          "scattercarpet": [
           {
            "marker": {
             "colorbar": {
              "outlinewidth": 0,
              "ticks": ""
             }
            },
            "type": "scattercarpet"
           }
          ],
          "scattergeo": [
           {
            "marker": {
             "colorbar": {
              "outlinewidth": 0,
              "ticks": ""
             }
            },
            "type": "scattergeo"
           }
          ],
          "scattergl": [
           {
            "marker": {
             "colorbar": {
              "outlinewidth": 0,
              "ticks": ""
             }
            },
            "type": "scattergl"
           }
          ],
          "scattermap": [
           {
            "marker": {
             "colorbar": {
              "outlinewidth": 0,
              "ticks": ""
             }
            },
            "type": "scattermap"
           }
          ],
          "scattermapbox": [
           {
            "marker": {
             "colorbar": {
              "outlinewidth": 0,
              "ticks": ""
             }
            },
            "type": "scattermapbox"
           }
          ],
          "scatterpolar": [
           {
            "marker": {
             "colorbar": {
              "outlinewidth": 0,
              "ticks": ""
             }
            },
            "type": "scatterpolar"
           }
          ],
          "scatterpolargl": [
           {
            "marker": {
             "colorbar": {
              "outlinewidth": 0,
              "ticks": ""
             }
            },
            "type": "scatterpolargl"
           }
          ],
          "scatterternary": [
           {
            "marker": {
             "colorbar": {
              "outlinewidth": 0,
              "ticks": ""
             }
            },
            "type": "scatterternary"
           }
          ],
          "surface": [
           {
            "colorbar": {
             "outlinewidth": 0,
             "ticks": ""
            },
            "colorscale": [
             [
              0,
              "#0d0887"
             ],
             [
              0.1111111111111111,
              "#46039f"
             ],
             [
              0.2222222222222222,
              "#7201a8"
             ],
             [
              0.3333333333333333,
              "#9c179e"
             ],
             [
              0.4444444444444444,
              "#bd3786"
             ],
             [
              0.5555555555555556,
              "#d8576b"
             ],
             [
              0.6666666666666666,
              "#ed7953"
             ],
             [
              0.7777777777777778,
              "#fb9f3a"
             ],
             [
              0.8888888888888888,
              "#fdca26"
             ],
             [
              1,
              "#f0f921"
             ]
            ],
            "type": "surface"
           }
          ],
          "table": [
           {
            "cells": {
             "fill": {
              "color": "#EBF0F8"
             },
             "line": {
              "color": "white"
             }
            },
            "header": {
             "fill": {
              "color": "#C8D4E3"
             },
             "line": {
              "color": "white"
             }
            },
            "type": "table"
           }
          ]
         },
         "layout": {
          "annotationdefaults": {
           "arrowcolor": "#2a3f5f",
           "arrowhead": 0,
           "arrowwidth": 1
          },
          "autotypenumbers": "strict",
          "coloraxis": {
           "colorbar": {
            "outlinewidth": 0,
            "ticks": ""
           }
          },
          "colorscale": {
           "diverging": [
            [
             0,
             "#8e0152"
            ],
            [
             0.1,
             "#c51b7d"
            ],
            [
             0.2,
             "#de77ae"
            ],
            [
             0.3,
             "#f1b6da"
            ],
            [
             0.4,
             "#fde0ef"
            ],
            [
             0.5,
             "#f7f7f7"
            ],
            [
             0.6,
             "#e6f5d0"
            ],
            [
             0.7,
             "#b8e186"
            ],
            [
             0.8,
             "#7fbc41"
            ],
            [
             0.9,
             "#4d9221"
            ],
            [
             1,
             "#276419"
            ]
           ],
           "sequential": [
            [
             0,
             "#0d0887"
            ],
            [
             0.1111111111111111,
             "#46039f"
            ],
            [
             0.2222222222222222,
             "#7201a8"
            ],
            [
             0.3333333333333333,
             "#9c179e"
            ],
            [
             0.4444444444444444,
             "#bd3786"
            ],
            [
             0.5555555555555556,
             "#d8576b"
            ],
            [
             0.6666666666666666,
             "#ed7953"
            ],
            [
             0.7777777777777778,
             "#fb9f3a"
            ],
            [
             0.8888888888888888,
             "#fdca26"
            ],
            [
             1,
             "#f0f921"
            ]
           ],
           "sequentialminus": [
            [
             0,
             "#0d0887"
            ],
            [
             0.1111111111111111,
             "#46039f"
            ],
            [
             0.2222222222222222,
             "#7201a8"
            ],
            [
             0.3333333333333333,
             "#9c179e"
            ],
            [
             0.4444444444444444,
             "#bd3786"
            ],
            [
             0.5555555555555556,
             "#d8576b"
            ],
            [
             0.6666666666666666,
             "#ed7953"
            ],
            [
             0.7777777777777778,
             "#fb9f3a"
            ],
            [
             0.8888888888888888,
             "#fdca26"
            ],
            [
             1,
             "#f0f921"
            ]
           ]
          },
          "colorway": [
           "#636efa",
           "#EF553B",
           "#00cc96",
           "#ab63fa",
           "#FFA15A",
           "#19d3f3",
           "#FF6692",
           "#B6E880",
           "#FF97FF",
           "#FECB52"
          ],
          "font": {
           "color": "#2a3f5f"
          },
          "geo": {
           "bgcolor": "white",
           "lakecolor": "white",
           "landcolor": "#E5ECF6",
           "showlakes": true,
           "showland": true,
           "subunitcolor": "white"
          },
          "hoverlabel": {
           "align": "left"
          },
          "hovermode": "closest",
          "mapbox": {
           "style": "light"
          },
          "paper_bgcolor": "white",
          "plot_bgcolor": "#E5ECF6",
          "polar": {
           "angularaxis": {
            "gridcolor": "white",
            "linecolor": "white",
            "ticks": ""
           },
           "bgcolor": "#E5ECF6",
           "radialaxis": {
            "gridcolor": "white",
            "linecolor": "white",
            "ticks": ""
           }
          },
          "scene": {
           "xaxis": {
            "backgroundcolor": "#E5ECF6",
            "gridcolor": "white",
            "gridwidth": 2,
            "linecolor": "white",
            "showbackground": true,
            "ticks": "",
            "zerolinecolor": "white"
           },
           "yaxis": {
            "backgroundcolor": "#E5ECF6",
            "gridcolor": "white",
            "gridwidth": 2,
            "linecolor": "white",
            "showbackground": true,
            "ticks": "",
            "zerolinecolor": "white"
           },
           "zaxis": {
            "backgroundcolor": "#E5ECF6",
            "gridcolor": "white",
            "gridwidth": 2,
            "linecolor": "white",
            "showbackground": true,
            "ticks": "",
            "zerolinecolor": "white"
           }
          },
          "shapedefaults": {
           "line": {
            "color": "#2a3f5f"
           }
          },
          "ternary": {
           "aaxis": {
            "gridcolor": "white",
            "linecolor": "white",
            "ticks": ""
           },
           "baxis": {
            "gridcolor": "white",
            "linecolor": "white",
            "ticks": ""
           },
           "bgcolor": "#E5ECF6",
           "caxis": {
            "gridcolor": "white",
            "linecolor": "white",
            "ticks": ""
           }
          },
          "title": {
           "x": 0.05
          },
          "xaxis": {
           "automargin": true,
           "gridcolor": "white",
           "linecolor": "white",
           "ticks": "",
           "title": {
            "standoff": 15
           },
           "zerolinecolor": "white",
           "zerolinewidth": 2
          },
          "yaxis": {
           "automargin": true,
           "gridcolor": "white",
           "linecolor": "white",
           "ticks": "",
           "title": {
            "standoff": 15
           },
           "zerolinecolor": "white",
           "zerolinewidth": 2
          }
         }
        },
        "title": {
         "font": {
          "size": 16,
          "weight": "bold"
         },
         "text": "Porcentaje de finalización pruebas",
         "x": 0.5
        },
        "width": 600
       }
      }
     },
     "metadata": {},
     "output_type": "display_data"
    }
   ],
   "source": [
    "colores = ['#4c78a8', '#54a24b']\n",
    "estado_counts = df['estado'].value_counts().reset_index()\n",
    "estado_counts.columns = ['estado', 'count']\n",
    "fig = px.pie(estado_counts, values=\"count\", names=\"estado\", title='Porcentaje de finalización pruebas', color_discrete_sequence=colores)\n",
    "fig.update_traces(textinfo='percent', textfont_color='white')\n",
    "fig.update_layout(width=600, height=400, title_x=0.5, title_font=dict(size = 16, weight='bold'))\n",
    "fig.show()"
   ]
  },
  {
   "cell_type": "code",
   "execution_count": 28,
   "id": "337efa7f",
   "metadata": {},
   "outputs": [
    {
     "name": "stderr",
     "output_type": "stream",
     "text": [
      "C:\\Users\\gabri\\AppData\\Local\\Temp\\ipykernel_5076\\1027582355.py:5: FutureWarning:\n",
      "\n",
      "Downcasting object dtype arrays on .fillna, .ffill, .bfill is deprecated and will change in a future version. Call result.infer_objects(copy=False) instead. To opt-in to the future behavior, set `pd.set_option('future.no_silent_downcasting', True)`\n",
      "\n"
     ]
    },
    {
     "data": {
      "application/vnd.plotly.v1+json": {
       "config": {
        "plotlyServerURL": "https://plot.ly"
       },
       "data": [
        {
         "hovertemplate": "Fecha de prueba=%{x}<br>Puntos por obstáculos=%{marker.color}<extra></extra>",
         "legendgroup": "",
         "marker": {
          "color": {
           "bdata": "AAAAAAAAAAAAAAAAAAAoQAAAAAAAABBAAAAAAAAAIEAAAAAAAAAQQAAAAAAAAAAAAAAAAAAAAAAAAAAAAAAAAAAAAAAAAAAAAAAAAAAAEEAAAAAAAAAAAAAAAAAAAAAAAAAAAAAAKEAAAAAAAAAgQAAAAAAAAAAA",
           "dtype": "f8"
          },
          "coloraxis": "coloraxis",
          "pattern": {
           "shape": ""
          }
         },
         "name": "",
         "orientation": "v",
         "showlegend": false,
         "textposition": "auto",
         "type": "bar",
         "x": [
          "2025-02-06T00:00:00.000000000",
          "2025-02-07T00:00:00.000000000",
          "2025-02-09T00:00:00.000000000",
          "2025-02-14T00:00:00.000000000",
          "2025-02-16T00:00:00.000000000",
          "2025-02-21T00:00:00.000000000",
          "2025-02-22T00:00:00.000000000",
          "2025-03-13T00:00:00.000000000",
          "2025-03-14T00:00:00.000000000",
          "2025-03-16T00:00:00.000000000",
          "2025-03-20T00:00:00.000000000",
          "2025-03-21T00:00:00.000000000",
          "2025-04-25T00:00:00.000000000",
          "2025-04-26T00:00:00.000000000",
          "2025-04-27T00:00:00.000000000"
         ],
         "xaxis": "x",
         "y": {
          "bdata": "AAAAAAAAAAAAAAAAAAAoQAAAAAAAABBAAAAAAAAAIEAAAAAAAAAQQAAAAAAAAAAAAAAAAAAAAAAAAAAAAAAAAAAAAAAAAAAAAAAAAAAAEEAAAAAAAAAAAAAAAAAAAAAAAAAAAAAAKEAAAAAAAAAgQAAAAAAAAAAA",
          "dtype": "f8"
         },
         "yaxis": "y"
        }
       ],
       "layout": {
        "barmode": "relative",
        "coloraxis": {
         "colorbar": {
          "title": {
           "text": "Puntos por obstáculos"
          }
         },
         "colorscale": [
          [
           0,
           "rgb(255,245,240)"
          ],
          [
           0.125,
           "rgb(254,224,210)"
          ],
          [
           0.25,
           "rgb(252,187,161)"
          ],
          [
           0.375,
           "rgb(252,146,114)"
          ],
          [
           0.5,
           "rgb(251,106,74)"
          ],
          [
           0.625,
           "rgb(239,59,44)"
          ],
          [
           0.75,
           "rgb(203,24,29)"
          ],
          [
           0.875,
           "rgb(165,15,21)"
          ],
          [
           1,
           "rgb(103,0,13)"
          ]
         ]
        },
        "legend": {
         "tracegroupgap": 0
        },
        "template": {
         "data": {
          "bar": [
           {
            "error_x": {
             "color": "#2a3f5f"
            },
            "error_y": {
             "color": "#2a3f5f"
            },
            "marker": {
             "line": {
              "color": "#E5ECF6",
              "width": 0.5
             },
             "pattern": {
              "fillmode": "overlay",
              "size": 10,
              "solidity": 0.2
             }
            },
            "type": "bar"
           }
          ],
          "barpolar": [
           {
            "marker": {
             "line": {
              "color": "#E5ECF6",
              "width": 0.5
             },
             "pattern": {
              "fillmode": "overlay",
              "size": 10,
              "solidity": 0.2
             }
            },
            "type": "barpolar"
           }
          ],
          "carpet": [
           {
            "aaxis": {
             "endlinecolor": "#2a3f5f",
             "gridcolor": "white",
             "linecolor": "white",
             "minorgridcolor": "white",
             "startlinecolor": "#2a3f5f"
            },
            "baxis": {
             "endlinecolor": "#2a3f5f",
             "gridcolor": "white",
             "linecolor": "white",
             "minorgridcolor": "white",
             "startlinecolor": "#2a3f5f"
            },
            "type": "carpet"
           }
          ],
          "choropleth": [
           {
            "colorbar": {
             "outlinewidth": 0,
             "ticks": ""
            },
            "type": "choropleth"
           }
          ],
          "contour": [
           {
            "colorbar": {
             "outlinewidth": 0,
             "ticks": ""
            },
            "colorscale": [
             [
              0,
              "#0d0887"
             ],
             [
              0.1111111111111111,
              "#46039f"
             ],
             [
              0.2222222222222222,
              "#7201a8"
             ],
             [
              0.3333333333333333,
              "#9c179e"
             ],
             [
              0.4444444444444444,
              "#bd3786"
             ],
             [
              0.5555555555555556,
              "#d8576b"
             ],
             [
              0.6666666666666666,
              "#ed7953"
             ],
             [
              0.7777777777777778,
              "#fb9f3a"
             ],
             [
              0.8888888888888888,
              "#fdca26"
             ],
             [
              1,
              "#f0f921"
             ]
            ],
            "type": "contour"
           }
          ],
          "contourcarpet": [
           {
            "colorbar": {
             "outlinewidth": 0,
             "ticks": ""
            },
            "type": "contourcarpet"
           }
          ],
          "heatmap": [
           {
            "colorbar": {
             "outlinewidth": 0,
             "ticks": ""
            },
            "colorscale": [
             [
              0,
              "#0d0887"
             ],
             [
              0.1111111111111111,
              "#46039f"
             ],
             [
              0.2222222222222222,
              "#7201a8"
             ],
             [
              0.3333333333333333,
              "#9c179e"
             ],
             [
              0.4444444444444444,
              "#bd3786"
             ],
             [
              0.5555555555555556,
              "#d8576b"
             ],
             [
              0.6666666666666666,
              "#ed7953"
             ],
             [
              0.7777777777777778,
              "#fb9f3a"
             ],
             [
              0.8888888888888888,
              "#fdca26"
             ],
             [
              1,
              "#f0f921"
             ]
            ],
            "type": "heatmap"
           }
          ],
          "histogram": [
           {
            "marker": {
             "pattern": {
              "fillmode": "overlay",
              "size": 10,
              "solidity": 0.2
             }
            },
            "type": "histogram"
           }
          ],
          "histogram2d": [
           {
            "colorbar": {
             "outlinewidth": 0,
             "ticks": ""
            },
            "colorscale": [
             [
              0,
              "#0d0887"
             ],
             [
              0.1111111111111111,
              "#46039f"
             ],
             [
              0.2222222222222222,
              "#7201a8"
             ],
             [
              0.3333333333333333,
              "#9c179e"
             ],
             [
              0.4444444444444444,
              "#bd3786"
             ],
             [
              0.5555555555555556,
              "#d8576b"
             ],
             [
              0.6666666666666666,
              "#ed7953"
             ],
             [
              0.7777777777777778,
              "#fb9f3a"
             ],
             [
              0.8888888888888888,
              "#fdca26"
             ],
             [
              1,
              "#f0f921"
             ]
            ],
            "type": "histogram2d"
           }
          ],
          "histogram2dcontour": [
           {
            "colorbar": {
             "outlinewidth": 0,
             "ticks": ""
            },
            "colorscale": [
             [
              0,
              "#0d0887"
             ],
             [
              0.1111111111111111,
              "#46039f"
             ],
             [
              0.2222222222222222,
              "#7201a8"
             ],
             [
              0.3333333333333333,
              "#9c179e"
             ],
             [
              0.4444444444444444,
              "#bd3786"
             ],
             [
              0.5555555555555556,
              "#d8576b"
             ],
             [
              0.6666666666666666,
              "#ed7953"
             ],
             [
              0.7777777777777778,
              "#fb9f3a"
             ],
             [
              0.8888888888888888,
              "#fdca26"
             ],
             [
              1,
              "#f0f921"
             ]
            ],
            "type": "histogram2dcontour"
           }
          ],
          "mesh3d": [
           {
            "colorbar": {
             "outlinewidth": 0,
             "ticks": ""
            },
            "type": "mesh3d"
           }
          ],
          "parcoords": [
           {
            "line": {
             "colorbar": {
              "outlinewidth": 0,
              "ticks": ""
             }
            },
            "type": "parcoords"
           }
          ],
          "pie": [
           {
            "automargin": true,
            "type": "pie"
           }
          ],
          "scatter": [
           {
            "fillpattern": {
             "fillmode": "overlay",
             "size": 10,
             "solidity": 0.2
            },
            "type": "scatter"
           }
          ],
          "scatter3d": [
           {
            "line": {
             "colorbar": {
              "outlinewidth": 0,
              "ticks": ""
             }
            },
            "marker": {
             "colorbar": {
              "outlinewidth": 0,
              "ticks": ""
             }
            },
            "type": "scatter3d"
           }
          ],
          "scattercarpet": [
           {
            "marker": {
             "colorbar": {
              "outlinewidth": 0,
              "ticks": ""
             }
            },
            "type": "scattercarpet"
           }
          ],
          "scattergeo": [
           {
            "marker": {
             "colorbar": {
              "outlinewidth": 0,
              "ticks": ""
             }
            },
            "type": "scattergeo"
           }
          ],
          "scattergl": [
           {
            "marker": {
             "colorbar": {
              "outlinewidth": 0,
              "ticks": ""
             }
            },
            "type": "scattergl"
           }
          ],
          "scattermap": [
           {
            "marker": {
             "colorbar": {
              "outlinewidth": 0,
              "ticks": ""
             }
            },
            "type": "scattermap"
           }
          ],
          "scattermapbox": [
           {
            "marker": {
             "colorbar": {
              "outlinewidth": 0,
              "ticks": ""
             }
            },
            "type": "scattermapbox"
           }
          ],
          "scatterpolar": [
           {
            "marker": {
             "colorbar": {
              "outlinewidth": 0,
              "ticks": ""
             }
            },
            "type": "scatterpolar"
           }
          ],
          "scatterpolargl": [
           {
            "marker": {
             "colorbar": {
              "outlinewidth": 0,
              "ticks": ""
             }
            },
            "type": "scatterpolargl"
           }
          ],
          "scatterternary": [
           {
            "marker": {
             "colorbar": {
              "outlinewidth": 0,
              "ticks": ""
             }
            },
            "type": "scatterternary"
           }
          ],
          "surface": [
           {
            "colorbar": {
             "outlinewidth": 0,
             "ticks": ""
            },
            "colorscale": [
             [
              0,
              "#0d0887"
             ],
             [
              0.1111111111111111,
              "#46039f"
             ],
             [
              0.2222222222222222,
              "#7201a8"
             ],
             [
              0.3333333333333333,
              "#9c179e"
             ],
             [
              0.4444444444444444,
              "#bd3786"
             ],
             [
              0.5555555555555556,
              "#d8576b"
             ],
             [
              0.6666666666666666,
              "#ed7953"
             ],
             [
              0.7777777777777778,
              "#fb9f3a"
             ],
             [
              0.8888888888888888,
              "#fdca26"
             ],
             [
              1,
              "#f0f921"
             ]
            ],
            "type": "surface"
           }
          ],
          "table": [
           {
            "cells": {
             "fill": {
              "color": "#EBF0F8"
             },
             "line": {
              "color": "white"
             }
            },
            "header": {
             "fill": {
              "color": "#C8D4E3"
             },
             "line": {
              "color": "white"
             }
            },
            "type": "table"
           }
          ]
         },
         "layout": {
          "annotationdefaults": {
           "arrowcolor": "#2a3f5f",
           "arrowhead": 0,
           "arrowwidth": 1
          },
          "autotypenumbers": "strict",
          "coloraxis": {
           "colorbar": {
            "outlinewidth": 0,
            "ticks": ""
           }
          },
          "colorscale": {
           "diverging": [
            [
             0,
             "#8e0152"
            ],
            [
             0.1,
             "#c51b7d"
            ],
            [
             0.2,
             "#de77ae"
            ],
            [
             0.3,
             "#f1b6da"
            ],
            [
             0.4,
             "#fde0ef"
            ],
            [
             0.5,
             "#f7f7f7"
            ],
            [
             0.6,
             "#e6f5d0"
            ],
            [
             0.7,
             "#b8e186"
            ],
            [
             0.8,
             "#7fbc41"
            ],
            [
             0.9,
             "#4d9221"
            ],
            [
             1,
             "#276419"
            ]
           ],
           "sequential": [
            [
             0,
             "#0d0887"
            ],
            [
             0.1111111111111111,
             "#46039f"
            ],
            [
             0.2222222222222222,
             "#7201a8"
            ],
            [
             0.3333333333333333,
             "#9c179e"
            ],
            [
             0.4444444444444444,
             "#bd3786"
            ],
            [
             0.5555555555555556,
             "#d8576b"
            ],
            [
             0.6666666666666666,
             "#ed7953"
            ],
            [
             0.7777777777777778,
             "#fb9f3a"
            ],
            [
             0.8888888888888888,
             "#fdca26"
            ],
            [
             1,
             "#f0f921"
            ]
           ],
           "sequentialminus": [
            [
             0,
             "#0d0887"
            ],
            [
             0.1111111111111111,
             "#46039f"
            ],
            [
             0.2222222222222222,
             "#7201a8"
            ],
            [
             0.3333333333333333,
             "#9c179e"
            ],
            [
             0.4444444444444444,
             "#bd3786"
            ],
            [
             0.5555555555555556,
             "#d8576b"
            ],
            [
             0.6666666666666666,
             "#ed7953"
            ],
            [
             0.7777777777777778,
             "#fb9f3a"
            ],
            [
             0.8888888888888888,
             "#fdca26"
            ],
            [
             1,
             "#f0f921"
            ]
           ]
          },
          "colorway": [
           "#636efa",
           "#EF553B",
           "#00cc96",
           "#ab63fa",
           "#FFA15A",
           "#19d3f3",
           "#FF6692",
           "#B6E880",
           "#FF97FF",
           "#FECB52"
          ],
          "font": {
           "color": "#2a3f5f"
          },
          "geo": {
           "bgcolor": "white",
           "lakecolor": "white",
           "landcolor": "#E5ECF6",
           "showlakes": true,
           "showland": true,
           "subunitcolor": "white"
          },
          "hoverlabel": {
           "align": "left"
          },
          "hovermode": "closest",
          "mapbox": {
           "style": "light"
          },
          "paper_bgcolor": "white",
          "plot_bgcolor": "#E5ECF6",
          "polar": {
           "angularaxis": {
            "gridcolor": "white",
            "linecolor": "white",
            "ticks": ""
           },
           "bgcolor": "#E5ECF6",
           "radialaxis": {
            "gridcolor": "white",
            "linecolor": "white",
            "ticks": ""
           }
          },
          "scene": {
           "xaxis": {
            "backgroundcolor": "#E5ECF6",
            "gridcolor": "white",
            "gridwidth": 2,
            "linecolor": "white",
            "showbackground": true,
            "ticks": "",
            "zerolinecolor": "white"
           },
           "yaxis": {
            "backgroundcolor": "#E5ECF6",
            "gridcolor": "white",
            "gridwidth": 2,
            "linecolor": "white",
            "showbackground": true,
            "ticks": "",
            "zerolinecolor": "white"
           },
           "zaxis": {
            "backgroundcolor": "#E5ECF6",
            "gridcolor": "white",
            "gridwidth": 2,
            "linecolor": "white",
            "showbackground": true,
            "ticks": "",
            "zerolinecolor": "white"
           }
          },
          "shapedefaults": {
           "line": {
            "color": "#2a3f5f"
           }
          },
          "ternary": {
           "aaxis": {
            "gridcolor": "white",
            "linecolor": "white",
            "ticks": ""
           },
           "baxis": {
            "gridcolor": "white",
            "linecolor": "white",
            "ticks": ""
           },
           "bgcolor": "#E5ECF6",
           "caxis": {
            "gridcolor": "white",
            "linecolor": "white",
            "ticks": ""
           }
          },
          "title": {
           "x": 0.05
          },
          "xaxis": {
           "automargin": true,
           "gridcolor": "white",
           "linecolor": "white",
           "ticks": "",
           "title": {
            "standoff": 15
           },
           "zerolinecolor": "white",
           "zerolinewidth": 2
          },
          "yaxis": {
           "automargin": true,
           "gridcolor": "white",
           "linecolor": "white",
           "ticks": "",
           "title": {
            "standoff": 15
           },
           "zerolinecolor": "white",
           "zerolinewidth": 2
          }
         }
        },
        "title": {
         "text": "Puntos en obstáculos por fecha de prueba"
        },
        "xaxis": {
         "anchor": "y",
         "domain": [
          0,
          1
         ],
         "title": {
          "text": "Fecha"
         }
        },
        "yaxis": {
         "anchor": "x",
         "domain": [
          0,
          1
         ],
         "title": {
          "text": "Puntos de obstáculos"
         }
        }
       }
      }
     },
     "metadata": {},
     "output_type": "display_data"
    }
   ],
   "source": [
    "\n",
    "\n",
    "# Nos aseguramos de que la fecha sea tipo datetime\n",
    "df['fecha_prueba'] = pd.to_datetime(df['fecha_prueba'])\n",
    "\n",
    "# Creamos una nueva columna con la suma total de puntos por obstáculos\n",
    "df['puntos_obs_totales'] = df[['puntos_obs_r1', 'puntos_obs_r2', 'puntos_obs_r3']].fillna(0).sum(axis=1)\n",
    "\n",
    "# Agrupamos por fecha de prueba y sumamos los puntos de obstáculos por día\n",
    "df_grouped = df.groupby('fecha_prueba', as_index=False)['puntos_obs_totales'].sum()\n",
    "\n",
    "# Ordenamos por fecha\n",
    "df_grouped = df_grouped.sort_values('fecha_prueba')\n",
    "\n",
    "# Creamos el gráfico de barras\n",
    "fig = px.bar(\n",
    "    df_grouped,\n",
    "    x='fecha_prueba',\n",
    "    y='puntos_obs_totales',\n",
    "    title='Puntos en obstáculos por fecha de prueba',\n",
    "    labels={\n",
    "        'fecha_prueba': 'Fecha de prueba',\n",
    "        'puntos_obs_totales': 'Puntos por obstáculos'\n",
    "    },\n",
    "    color='puntos_obs_totales',\n",
    "    color_continuous_scale='Reds'\n",
    ")\n",
    "\n",
    "fig.update_layout(xaxis_title='Fecha', yaxis_title='Puntos de obstáculos')\n",
    "fig.show()"
   ]
  },
  {
   "cell_type": "code",
   "execution_count": 34,
   "id": "c969a8a3",
   "metadata": {},
   "outputs": [
    {
     "data": {
      "application/vnd.plotly.v1+json": {
       "config": {
        "plotlyServerURL": "https://plot.ly"
       },
       "data": [
        {
         "bingroup": "x",
         "hovertemplate": "Puesto (Finishing Position)=%{x}<br>count=%{y}<extra></extra>",
         "legendgroup": "",
         "marker": {
          "color": "#636efa",
          "pattern": {
           "shape": ""
          }
         },
         "name": "",
         "orientation": "v",
         "showlegend": false,
         "type": "histogram",
         "x": {
          "bdata": "AAAAAAAALEAAAAAAAABFQAAAAAAAAChAAAAAAAAASkAAAAAAAAA7QAAAAAAAAPh/AAAAAAAA+H8AAAAAAADwPwAAAAAAACRAAAAAAAAAN0AAAAAAAAAQQAAAAAAAABhAAAAAAACAUEAAAAAAAAA8QAAAAAAAABRA",
          "dtype": "f8"
         },
         "xaxis": "x",
         "yaxis": "y"
        }
       ],
       "layout": {
        "barmode": "relative",
        "legend": {
         "tracegroupgap": 0
        },
        "template": {
         "data": {
          "bar": [
           {
            "error_x": {
             "color": "#2a3f5f"
            },
            "error_y": {
             "color": "#2a3f5f"
            },
            "marker": {
             "line": {
              "color": "#E5ECF6",
              "width": 0.5
             },
             "pattern": {
              "fillmode": "overlay",
              "size": 10,
              "solidity": 0.2
             }
            },
            "type": "bar"
           }
          ],
          "barpolar": [
           {
            "marker": {
             "line": {
              "color": "#E5ECF6",
              "width": 0.5
             },
             "pattern": {
              "fillmode": "overlay",
              "size": 10,
              "solidity": 0.2
             }
            },
            "type": "barpolar"
           }
          ],
          "carpet": [
           {
            "aaxis": {
             "endlinecolor": "#2a3f5f",
             "gridcolor": "white",
             "linecolor": "white",
             "minorgridcolor": "white",
             "startlinecolor": "#2a3f5f"
            },
            "baxis": {
             "endlinecolor": "#2a3f5f",
             "gridcolor": "white",
             "linecolor": "white",
             "minorgridcolor": "white",
             "startlinecolor": "#2a3f5f"
            },
            "type": "carpet"
           }
          ],
          "choropleth": [
           {
            "colorbar": {
             "outlinewidth": 0,
             "ticks": ""
            },
            "type": "choropleth"
           }
          ],
          "contour": [
           {
            "colorbar": {
             "outlinewidth": 0,
             "ticks": ""
            },
            "colorscale": [
             [
              0,
              "#0d0887"
             ],
             [
              0.1111111111111111,
              "#46039f"
             ],
             [
              0.2222222222222222,
              "#7201a8"
             ],
             [
              0.3333333333333333,
              "#9c179e"
             ],
             [
              0.4444444444444444,
              "#bd3786"
             ],
             [
              0.5555555555555556,
              "#d8576b"
             ],
             [
              0.6666666666666666,
              "#ed7953"
             ],
             [
              0.7777777777777778,
              "#fb9f3a"
             ],
             [
              0.8888888888888888,
              "#fdca26"
             ],
             [
              1,
              "#f0f921"
             ]
            ],
            "type": "contour"
           }
          ],
          "contourcarpet": [
           {
            "colorbar": {
             "outlinewidth": 0,
             "ticks": ""
            },
            "type": "contourcarpet"
           }
          ],
          "heatmap": [
           {
            "colorbar": {
             "outlinewidth": 0,
             "ticks": ""
            },
            "colorscale": [
             [
              0,
              "#0d0887"
             ],
             [
              0.1111111111111111,
              "#46039f"
             ],
             [
              0.2222222222222222,
              "#7201a8"
             ],
             [
              0.3333333333333333,
              "#9c179e"
             ],
             [
              0.4444444444444444,
              "#bd3786"
             ],
             [
              0.5555555555555556,
              "#d8576b"
             ],
             [
              0.6666666666666666,
              "#ed7953"
             ],
             [
              0.7777777777777778,
              "#fb9f3a"
             ],
             [
              0.8888888888888888,
              "#fdca26"
             ],
             [
              1,
              "#f0f921"
             ]
            ],
            "type": "heatmap"
           }
          ],
          "histogram": [
           {
            "marker": {
             "pattern": {
              "fillmode": "overlay",
              "size": 10,
              "solidity": 0.2
             }
            },
            "type": "histogram"
           }
          ],
          "histogram2d": [
           {
            "colorbar": {
             "outlinewidth": 0,
             "ticks": ""
            },
            "colorscale": [
             [
              0,
              "#0d0887"
             ],
             [
              0.1111111111111111,
              "#46039f"
             ],
             [
              0.2222222222222222,
              "#7201a8"
             ],
             [
              0.3333333333333333,
              "#9c179e"
             ],
             [
              0.4444444444444444,
              "#bd3786"
             ],
             [
              0.5555555555555556,
              "#d8576b"
             ],
             [
              0.6666666666666666,
              "#ed7953"
             ],
             [
              0.7777777777777778,
              "#fb9f3a"
             ],
             [
              0.8888888888888888,
              "#fdca26"
             ],
             [
              1,
              "#f0f921"
             ]
            ],
            "type": "histogram2d"
           }
          ],
          "histogram2dcontour": [
           {
            "colorbar": {
             "outlinewidth": 0,
             "ticks": ""
            },
            "colorscale": [
             [
              0,
              "#0d0887"
             ],
             [
              0.1111111111111111,
              "#46039f"
             ],
             [
              0.2222222222222222,
              "#7201a8"
             ],
             [
              0.3333333333333333,
              "#9c179e"
             ],
             [
              0.4444444444444444,
              "#bd3786"
             ],
             [
              0.5555555555555556,
              "#d8576b"
             ],
             [
              0.6666666666666666,
              "#ed7953"
             ],
             [
              0.7777777777777778,
              "#fb9f3a"
             ],
             [
              0.8888888888888888,
              "#fdca26"
             ],
             [
              1,
              "#f0f921"
             ]
            ],
            "type": "histogram2dcontour"
           }
          ],
          "mesh3d": [
           {
            "colorbar": {
             "outlinewidth": 0,
             "ticks": ""
            },
            "type": "mesh3d"
           }
          ],
          "parcoords": [
           {
            "line": {
             "colorbar": {
              "outlinewidth": 0,
              "ticks": ""
             }
            },
            "type": "parcoords"
           }
          ],
          "pie": [
           {
            "automargin": true,
            "type": "pie"
           }
          ],
          "scatter": [
           {
            "fillpattern": {
             "fillmode": "overlay",
             "size": 10,
             "solidity": 0.2
            },
            "type": "scatter"
           }
          ],
          "scatter3d": [
           {
            "line": {
             "colorbar": {
              "outlinewidth": 0,
              "ticks": ""
             }
            },
            "marker": {
             "colorbar": {
              "outlinewidth": 0,
              "ticks": ""
             }
            },
            "type": "scatter3d"
           }
          ],
          "scattercarpet": [
           {
            "marker": {
             "colorbar": {
              "outlinewidth": 0,
              "ticks": ""
             }
            },
            "type": "scattercarpet"
           }
          ],
          "scattergeo": [
           {
            "marker": {
             "colorbar": {
              "outlinewidth": 0,
              "ticks": ""
             }
            },
            "type": "scattergeo"
           }
          ],
          "scattergl": [
           {
            "marker": {
             "colorbar": {
              "outlinewidth": 0,
              "ticks": ""
             }
            },
            "type": "scattergl"
           }
          ],
          "scattermap": [
           {
            "marker": {
             "colorbar": {
              "outlinewidth": 0,
              "ticks": ""
             }
            },
            "type": "scattermap"
           }
          ],
          "scattermapbox": [
           {
            "marker": {
             "colorbar": {
              "outlinewidth": 0,
              "ticks": ""
             }
            },
            "type": "scattermapbox"
           }
          ],
          "scatterpolar": [
           {
            "marker": {
             "colorbar": {
              "outlinewidth": 0,
              "ticks": ""
             }
            },
            "type": "scatterpolar"
           }
          ],
          "scatterpolargl": [
           {
            "marker": {
             "colorbar": {
              "outlinewidth": 0,
              "ticks": ""
             }
            },
            "type": "scatterpolargl"
           }
          ],
          "scatterternary": [
           {
            "marker": {
             "colorbar": {
              "outlinewidth": 0,
              "ticks": ""
             }
            },
            "type": "scatterternary"
           }
          ],
          "surface": [
           {
            "colorbar": {
             "outlinewidth": 0,
             "ticks": ""
            },
            "colorscale": [
             [
              0,
              "#0d0887"
             ],
             [
              0.1111111111111111,
              "#46039f"
             ],
             [
              0.2222222222222222,
              "#7201a8"
             ],
             [
              0.3333333333333333,
              "#9c179e"
             ],
             [
              0.4444444444444444,
              "#bd3786"
             ],
             [
              0.5555555555555556,
              "#d8576b"
             ],
             [
              0.6666666666666666,
              "#ed7953"
             ],
             [
              0.7777777777777778,
              "#fb9f3a"
             ],
             [
              0.8888888888888888,
              "#fdca26"
             ],
             [
              1,
              "#f0f921"
             ]
            ],
            "type": "surface"
           }
          ],
          "table": [
           {
            "cells": {
             "fill": {
              "color": "#EBF0F8"
             },
             "line": {
              "color": "white"
             }
            },
            "header": {
             "fill": {
              "color": "#C8D4E3"
             },
             "line": {
              "color": "white"
             }
            },
            "type": "table"
           }
          ]
         },
         "layout": {
          "annotationdefaults": {
           "arrowcolor": "#2a3f5f",
           "arrowhead": 0,
           "arrowwidth": 1
          },
          "autotypenumbers": "strict",
          "coloraxis": {
           "colorbar": {
            "outlinewidth": 0,
            "ticks": ""
           }
          },
          "colorscale": {
           "diverging": [
            [
             0,
             "#8e0152"
            ],
            [
             0.1,
             "#c51b7d"
            ],
            [
             0.2,
             "#de77ae"
            ],
            [
             0.3,
             "#f1b6da"
            ],
            [
             0.4,
             "#fde0ef"
            ],
            [
             0.5,
             "#f7f7f7"
            ],
            [
             0.6,
             "#e6f5d0"
            ],
            [
             0.7,
             "#b8e186"
            ],
            [
             0.8,
             "#7fbc41"
            ],
            [
             0.9,
             "#4d9221"
            ],
            [
             1,
             "#276419"
            ]
           ],
           "sequential": [
            [
             0,
             "#0d0887"
            ],
            [
             0.1111111111111111,
             "#46039f"
            ],
            [
             0.2222222222222222,
             "#7201a8"
            ],
            [
             0.3333333333333333,
             "#9c179e"
            ],
            [
             0.4444444444444444,
             "#bd3786"
            ],
            [
             0.5555555555555556,
             "#d8576b"
            ],
            [
             0.6666666666666666,
             "#ed7953"
            ],
            [
             0.7777777777777778,
             "#fb9f3a"
            ],
            [
             0.8888888888888888,
             "#fdca26"
            ],
            [
             1,
             "#f0f921"
            ]
           ],
           "sequentialminus": [
            [
             0,
             "#0d0887"
            ],
            [
             0.1111111111111111,
             "#46039f"
            ],
            [
             0.2222222222222222,
             "#7201a8"
            ],
            [
             0.3333333333333333,
             "#9c179e"
            ],
            [
             0.4444444444444444,
             "#bd3786"
            ],
            [
             0.5555555555555556,
             "#d8576b"
            ],
            [
             0.6666666666666666,
             "#ed7953"
            ],
            [
             0.7777777777777778,
             "#fb9f3a"
            ],
            [
             0.8888888888888888,
             "#fdca26"
            ],
            [
             1,
             "#f0f921"
            ]
           ]
          },
          "colorway": [
           "#636efa",
           "#EF553B",
           "#00cc96",
           "#ab63fa",
           "#FFA15A",
           "#19d3f3",
           "#FF6692",
           "#B6E880",
           "#FF97FF",
           "#FECB52"
          ],
          "font": {
           "color": "#2a3f5f"
          },
          "geo": {
           "bgcolor": "white",
           "lakecolor": "white",
           "landcolor": "#E5ECF6",
           "showlakes": true,
           "showland": true,
           "subunitcolor": "white"
          },
          "hoverlabel": {
           "align": "left"
          },
          "hovermode": "closest",
          "mapbox": {
           "style": "light"
          },
          "paper_bgcolor": "white",
          "plot_bgcolor": "#E5ECF6",
          "polar": {
           "angularaxis": {
            "gridcolor": "white",
            "linecolor": "white",
            "ticks": ""
           },
           "bgcolor": "#E5ECF6",
           "radialaxis": {
            "gridcolor": "white",
            "linecolor": "white",
            "ticks": ""
           }
          },
          "scene": {
           "xaxis": {
            "backgroundcolor": "#E5ECF6",
            "gridcolor": "white",
            "gridwidth": 2,
            "linecolor": "white",
            "showbackground": true,
            "ticks": "",
            "zerolinecolor": "white"
           },
           "yaxis": {
            "backgroundcolor": "#E5ECF6",
            "gridcolor": "white",
            "gridwidth": 2,
            "linecolor": "white",
            "showbackground": true,
            "ticks": "",
            "zerolinecolor": "white"
           },
           "zaxis": {
            "backgroundcolor": "#E5ECF6",
            "gridcolor": "white",
            "gridwidth": 2,
            "linecolor": "white",
            "showbackground": true,
            "ticks": "",
            "zerolinecolor": "white"
           }
          },
          "shapedefaults": {
           "line": {
            "color": "#2a3f5f"
           }
          },
          "ternary": {
           "aaxis": {
            "gridcolor": "white",
            "linecolor": "white",
            "ticks": ""
           },
           "baxis": {
            "gridcolor": "white",
            "linecolor": "white",
            "ticks": ""
           },
           "bgcolor": "#E5ECF6",
           "caxis": {
            "gridcolor": "white",
            "linecolor": "white",
            "ticks": ""
           }
          },
          "title": {
           "x": 0.05
          },
          "xaxis": {
           "automargin": true,
           "gridcolor": "white",
           "linecolor": "white",
           "ticks": "",
           "title": {
            "standoff": 15
           },
           "zerolinecolor": "white",
           "zerolinewidth": 2
          },
          "yaxis": {
           "automargin": true,
           "gridcolor": "white",
           "linecolor": "white",
           "ticks": "",
           "title": {
            "standoff": 15
           },
           "zerolinecolor": "white",
           "zerolinewidth": 2
          }
         }
        },
        "title": {
         "text": "Distribución de Puestos de hugo álvarez amaro con casaspezia"
        },
        "xaxis": {
         "anchor": "y",
         "domain": [
          0,
          1
         ],
         "title": {
          "text": "Puesto (Finishing Position)"
         }
        },
        "yaxis": {
         "anchor": "x",
         "domain": [
          0,
          1
         ],
         "title": {
          "text": "count"
         }
        }
       }
      }
     },
     "metadata": {},
     "output_type": "display_data"
    }
   ],
   "source": [
    "import plotly.express as px\n",
    "\n",
    "# Assuming you want to focus on 'casaspezia' ridden by 'hugo álvarez amaro'\n",
    "rider_of_interest = 'hugo álvarez amaro'\n",
    "horse_of_interest = 'casaspezia'\n",
    "\n",
    "filtered_df = df[(df['jinete'] == rider_of_interest) & (df['caballo'] == horse_of_interest)].copy()\n",
    "\n",
    "if not filtered_df.empty:\n",
    "    fig = px.histogram(\n",
    "        filtered_df,\n",
    "        x='puesto',\n",
    "        title=f'Distribución de Puestos de {rider_of_interest} con {horse_of_interest}',\n",
    "        labels={'puesto': 'Puesto (Finishing Position)'}\n",
    "    )\n",
    "    fig.show()\n",
    "else:\n",
    "    print(f\"No data found for the rider '{rider_of_interest}' and horse '{horse_of_interest}'.\")"
   ]
  },
  {
   "cell_type": "code",
   "execution_count": 30,
   "id": "e38e67ee",
   "metadata": {},
   "outputs": [
    {
     "data": {
      "application/vnd.plotly.v1+json": {
       "config": {
        "plotlyServerURL": "https://plot.ly"
       },
       "data": [
        {
         "customdata": [
          [
           "1,50 (G) - A c.c. (238.2.1)",
           "CSI4* - 1st Week XXXI Andalucía Sunshine Tour 2025",
           "FIN"
          ],
          [
           "1,50 (G) - A c.c. (238.2.1)",
           "CSI4* - 1st Week XXXI Andalucía Sunshine Tour 2025",
           "FIN"
          ],
          [
           "1,55 (GP) - A.c.c. y desempate (238.2.2)",
           "CSI4* - 1st Week XXXI Andalucía Sunshine Tour 2025",
           "FIN"
          ],
          [
           "1,50 (GP) - A.c.c. y desempate (238.2.2)",
           "CSI4* - 2nd Week XXXI Andalucía Sunshine Tour 2025",
           "FIN"
          ],
          [
           "1,50 (GP) - A.c.c. y desempate (238.2.2)",
           "CSI4* - 2nd Week XXXI Andalucía Sunshine Tour 2025",
           "FIN"
          ],
          [
           "1,50 (G) - A c.c. (238.2.1)",
           "CSI4* - 3rd Week XXXI Andalucía Sunshine Tour 2025",
           "RET"
          ],
          [
           "1,45 (GP) - A.c.c. y desempate (238.2.2)",
           "CSI4* - 3rd Week XXXI Andalucía Sunshine Tour 2025",
           "RET"
          ],
          [
           "1,35 (G) - A c.c. (238.2.1)",
           "CSI4* - 6th Week XXXI Andalucía Sunshine Tour 2025",
           "FIN"
          ],
          [
           "1,50 (GP) - Dos Mangas (273.3.4)",
           "CSI4* - 6th Week XXXI Andalucía Sunshine Tour 2025",
           "FIN"
          ],
          [
           "1,55 (GP) - A.c.c. y desempate (238.2.2)",
           "CSI4* - 6th Week XXXI Andalucía Sunshine Tour 2025",
           "FIN"
          ],
          [
           "1,45 (M) - A con cronometro sin desempate (238.2.1)",
           "CSI4* - 7th Week XXXI Andalucía Sunshine Tour 2025",
           "FIN"
          ],
          [
           "1,50 (GP) - Dos Mangas (273.3.4)",
           "CSI4* - 7th Week XXXI Andalucía Sunshine Tour 2025",
           "FIN"
          ],
          [
           "1,45 (G) - A c.c. (238.2.1)",
           "SPRING MET IV - CSI3* GOLD",
           "FIN"
          ],
          [
           "1,50 (G) - A.c.c. y desempate (238.2.2)",
           "SPRING MET IV - CSI3* GOLD",
           "FIN"
          ],
          [
           "1,50 (GP) - A.c.c. y desempate (238.2.2)",
           "SPRING MET IV - CSI3* GOLD",
           "FIN"
          ]
         ],
         "hovertemplate": "fecha_prueba=%{x}<br>puesto=%{y}<br>prueba=%{customdata[0]}<br>concurso=%{customdata[1]}<br>estado=%{customdata[2]}<extra></extra>",
         "legendgroup": "",
         "line": {
          "color": "#636efa",
          "dash": "solid"
         },
         "marker": {
          "symbol": "circle"
         },
         "mode": "lines",
         "name": "",
         "orientation": "v",
         "showlegend": false,
         "type": "scatter",
         "x": [
          "2025-02-06T00:00:00.000000000",
          "2025-02-07T00:00:00.000000000",
          "2025-02-09T00:00:00.000000000",
          "2025-02-14T00:00:00.000000000",
          "2025-02-16T00:00:00.000000000",
          "2025-02-21T00:00:00.000000000",
          "2025-02-22T00:00:00.000000000",
          "2025-03-13T00:00:00.000000000",
          "2025-03-14T00:00:00.000000000",
          "2025-03-16T00:00:00.000000000",
          "2025-03-20T00:00:00.000000000",
          "2025-03-21T00:00:00.000000000",
          "2025-04-25T00:00:00.000000000",
          "2025-04-26T00:00:00.000000000",
          "2025-04-27T00:00:00.000000000"
         ],
         "xaxis": "x",
         "y": {
          "bdata": "AAAAAAAALEAAAAAAAABFQAAAAAAAAChAAAAAAAAASkAAAAAAAAA7QAAAAAAAAPh/AAAAAAAA+H8AAAAAAADwPwAAAAAAACRAAAAAAAAAN0AAAAAAAAAQQAAAAAAAABhAAAAAAACAUEAAAAAAAAA8QAAAAAAAABRA",
          "dtype": "f8"
         },
         "yaxis": "y"
        }
       ],
       "layout": {
        "legend": {
         "tracegroupgap": 0
        },
        "template": {
         "data": {
          "bar": [
           {
            "error_x": {
             "color": "#2a3f5f"
            },
            "error_y": {
             "color": "#2a3f5f"
            },
            "marker": {
             "line": {
              "color": "#E5ECF6",
              "width": 0.5
             },
             "pattern": {
              "fillmode": "overlay",
              "size": 10,
              "solidity": 0.2
             }
            },
            "type": "bar"
           }
          ],
          "barpolar": [
           {
            "marker": {
             "line": {
              "color": "#E5ECF6",
              "width": 0.5
             },
             "pattern": {
              "fillmode": "overlay",
              "size": 10,
              "solidity": 0.2
             }
            },
            "type": "barpolar"
           }
          ],
          "carpet": [
           {
            "aaxis": {
             "endlinecolor": "#2a3f5f",
             "gridcolor": "white",
             "linecolor": "white",
             "minorgridcolor": "white",
             "startlinecolor": "#2a3f5f"
            },
            "baxis": {
             "endlinecolor": "#2a3f5f",
             "gridcolor": "white",
             "linecolor": "white",
             "minorgridcolor": "white",
             "startlinecolor": "#2a3f5f"
            },
            "type": "carpet"
           }
          ],
          "choropleth": [
           {
            "colorbar": {
             "outlinewidth": 0,
             "ticks": ""
            },
            "type": "choropleth"
           }
          ],
          "contour": [
           {
            "colorbar": {
             "outlinewidth": 0,
             "ticks": ""
            },
            "colorscale": [
             [
              0,
              "#0d0887"
             ],
             [
              0.1111111111111111,
              "#46039f"
             ],
             [
              0.2222222222222222,
              "#7201a8"
             ],
             [
              0.3333333333333333,
              "#9c179e"
             ],
             [
              0.4444444444444444,
              "#bd3786"
             ],
             [
              0.5555555555555556,
              "#d8576b"
             ],
             [
              0.6666666666666666,
              "#ed7953"
             ],
             [
              0.7777777777777778,
              "#fb9f3a"
             ],
             [
              0.8888888888888888,
              "#fdca26"
             ],
             [
              1,
              "#f0f921"
             ]
            ],
            "type": "contour"
           }
          ],
          "contourcarpet": [
           {
            "colorbar": {
             "outlinewidth": 0,
             "ticks": ""
            },
            "type": "contourcarpet"
           }
          ],
          "heatmap": [
           {
            "colorbar": {
             "outlinewidth": 0,
             "ticks": ""
            },
            "colorscale": [
             [
              0,
              "#0d0887"
             ],
             [
              0.1111111111111111,
              "#46039f"
             ],
             [
              0.2222222222222222,
              "#7201a8"
             ],
             [
              0.3333333333333333,
              "#9c179e"
             ],
             [
              0.4444444444444444,
              "#bd3786"
             ],
             [
              0.5555555555555556,
              "#d8576b"
             ],
             [
              0.6666666666666666,
              "#ed7953"
             ],
             [
              0.7777777777777778,
              "#fb9f3a"
             ],
             [
              0.8888888888888888,
              "#fdca26"
             ],
             [
              1,
              "#f0f921"
             ]
            ],
            "type": "heatmap"
           }
          ],
          "histogram": [
           {
            "marker": {
             "pattern": {
              "fillmode": "overlay",
              "size": 10,
              "solidity": 0.2
             }
            },
            "type": "histogram"
           }
          ],
          "histogram2d": [
           {
            "colorbar": {
             "outlinewidth": 0,
             "ticks": ""
            },
            "colorscale": [
             [
              0,
              "#0d0887"
             ],
             [
              0.1111111111111111,
              "#46039f"
             ],
             [
              0.2222222222222222,
              "#7201a8"
             ],
             [
              0.3333333333333333,
              "#9c179e"
             ],
             [
              0.4444444444444444,
              "#bd3786"
             ],
             [
              0.5555555555555556,
              "#d8576b"
             ],
             [
              0.6666666666666666,
              "#ed7953"
             ],
             [
              0.7777777777777778,
              "#fb9f3a"
             ],
             [
              0.8888888888888888,
              "#fdca26"
             ],
             [
              1,
              "#f0f921"
             ]
            ],
            "type": "histogram2d"
           }
          ],
          "histogram2dcontour": [
           {
            "colorbar": {
             "outlinewidth": 0,
             "ticks": ""
            },
            "colorscale": [
             [
              0,
              "#0d0887"
             ],
             [
              0.1111111111111111,
              "#46039f"
             ],
             [
              0.2222222222222222,
              "#7201a8"
             ],
             [
              0.3333333333333333,
              "#9c179e"
             ],
             [
              0.4444444444444444,
              "#bd3786"
             ],
             [
              0.5555555555555556,
              "#d8576b"
             ],
             [
              0.6666666666666666,
              "#ed7953"
             ],
             [
              0.7777777777777778,
              "#fb9f3a"
             ],
             [
              0.8888888888888888,
              "#fdca26"
             ],
             [
              1,
              "#f0f921"
             ]
            ],
            "type": "histogram2dcontour"
           }
          ],
          "mesh3d": [
           {
            "colorbar": {
             "outlinewidth": 0,
             "ticks": ""
            },
            "type": "mesh3d"
           }
          ],
          "parcoords": [
           {
            "line": {
             "colorbar": {
              "outlinewidth": 0,
              "ticks": ""
             }
            },
            "type": "parcoords"
           }
          ],
          "pie": [
           {
            "automargin": true,
            "type": "pie"
           }
          ],
          "scatter": [
           {
            "fillpattern": {
             "fillmode": "overlay",
             "size": 10,
             "solidity": 0.2
            },
            "type": "scatter"
           }
          ],
          "scatter3d": [
           {
            "line": {
             "colorbar": {
              "outlinewidth": 0,
              "ticks": ""
             }
            },
            "marker": {
             "colorbar": {
              "outlinewidth": 0,
              "ticks": ""
             }
            },
            "type": "scatter3d"
           }
          ],
          "scattercarpet": [
           {
            "marker": {
             "colorbar": {
              "outlinewidth": 0,
              "ticks": ""
             }
            },
            "type": "scattercarpet"
           }
          ],
          "scattergeo": [
           {
            "marker": {
             "colorbar": {
              "outlinewidth": 0,
              "ticks": ""
             }
            },
            "type": "scattergeo"
           }
          ],
          "scattergl": [
           {
            "marker": {
             "colorbar": {
              "outlinewidth": 0,
              "ticks": ""
             }
            },
            "type": "scattergl"
           }
          ],
          "scattermap": [
           {
            "marker": {
             "colorbar": {
              "outlinewidth": 0,
              "ticks": ""
             }
            },
            "type": "scattermap"
           }
          ],
          "scattermapbox": [
           {
            "marker": {
             "colorbar": {
              "outlinewidth": 0,
              "ticks": ""
             }
            },
            "type": "scattermapbox"
           }
          ],
          "scatterpolar": [
           {
            "marker": {
             "colorbar": {
              "outlinewidth": 0,
              "ticks": ""
             }
            },
            "type": "scatterpolar"
           }
          ],
          "scatterpolargl": [
           {
            "marker": {
             "colorbar": {
              "outlinewidth": 0,
              "ticks": ""
             }
            },
            "type": "scatterpolargl"
           }
          ],
          "scatterternary": [
           {
            "marker": {
             "colorbar": {
              "outlinewidth": 0,
              "ticks": ""
             }
            },
            "type": "scatterternary"
           }
          ],
          "surface": [
           {
            "colorbar": {
             "outlinewidth": 0,
             "ticks": ""
            },
            "colorscale": [
             [
              0,
              "#0d0887"
             ],
             [
              0.1111111111111111,
              "#46039f"
             ],
             [
              0.2222222222222222,
              "#7201a8"
             ],
             [
              0.3333333333333333,
              "#9c179e"
             ],
             [
              0.4444444444444444,
              "#bd3786"
             ],
             [
              0.5555555555555556,
              "#d8576b"
             ],
             [
              0.6666666666666666,
              "#ed7953"
             ],
             [
              0.7777777777777778,
              "#fb9f3a"
             ],
             [
              0.8888888888888888,
              "#fdca26"
             ],
             [
              1,
              "#f0f921"
             ]
            ],
            "type": "surface"
           }
          ],
          "table": [
           {
            "cells": {
             "fill": {
              "color": "#EBF0F8"
             },
             "line": {
              "color": "white"
             }
            },
            "header": {
             "fill": {
              "color": "#C8D4E3"
             },
             "line": {
              "color": "white"
             }
            },
            "type": "table"
           }
          ]
         },
         "layout": {
          "annotationdefaults": {
           "arrowcolor": "#2a3f5f",
           "arrowhead": 0,
           "arrowwidth": 1
          },
          "autotypenumbers": "strict",
          "coloraxis": {
           "colorbar": {
            "outlinewidth": 0,
            "ticks": ""
           }
          },
          "colorscale": {
           "diverging": [
            [
             0,
             "#8e0152"
            ],
            [
             0.1,
             "#c51b7d"
            ],
            [
             0.2,
             "#de77ae"
            ],
            [
             0.3,
             "#f1b6da"
            ],
            [
             0.4,
             "#fde0ef"
            ],
            [
             0.5,
             "#f7f7f7"
            ],
            [
             0.6,
             "#e6f5d0"
            ],
            [
             0.7,
             "#b8e186"
            ],
            [
             0.8,
             "#7fbc41"
            ],
            [
             0.9,
             "#4d9221"
            ],
            [
             1,
             "#276419"
            ]
           ],
           "sequential": [
            [
             0,
             "#0d0887"
            ],
            [
             0.1111111111111111,
             "#46039f"
            ],
            [
             0.2222222222222222,
             "#7201a8"
            ],
            [
             0.3333333333333333,
             "#9c179e"
            ],
            [
             0.4444444444444444,
             "#bd3786"
            ],
            [
             0.5555555555555556,
             "#d8576b"
            ],
            [
             0.6666666666666666,
             "#ed7953"
            ],
            [
             0.7777777777777778,
             "#fb9f3a"
            ],
            [
             0.8888888888888888,
             "#fdca26"
            ],
            [
             1,
             "#f0f921"
            ]
           ],
           "sequentialminus": [
            [
             0,
             "#0d0887"
            ],
            [
             0.1111111111111111,
             "#46039f"
            ],
            [
             0.2222222222222222,
             "#7201a8"
            ],
            [
             0.3333333333333333,
             "#9c179e"
            ],
            [
             0.4444444444444444,
             "#bd3786"
            ],
            [
             0.5555555555555556,
             "#d8576b"
            ],
            [
             0.6666666666666666,
             "#ed7953"
            ],
            [
             0.7777777777777778,
             "#fb9f3a"
            ],
            [
             0.8888888888888888,
             "#fdca26"
            ],
            [
             1,
             "#f0f921"
            ]
           ]
          },
          "colorway": [
           "#636efa",
           "#EF553B",
           "#00cc96",
           "#ab63fa",
           "#FFA15A",
           "#19d3f3",
           "#FF6692",
           "#B6E880",
           "#FF97FF",
           "#FECB52"
          ],
          "font": {
           "color": "#2a3f5f"
          },
          "geo": {
           "bgcolor": "white",
           "lakecolor": "white",
           "landcolor": "#E5ECF6",
           "showlakes": true,
           "showland": true,
           "subunitcolor": "white"
          },
          "hoverlabel": {
           "align": "left"
          },
          "hovermode": "closest",
          "mapbox": {
           "style": "light"
          },
          "paper_bgcolor": "white",
          "plot_bgcolor": "#E5ECF6",
          "polar": {
           "angularaxis": {
            "gridcolor": "white",
            "linecolor": "white",
            "ticks": ""
           },
           "bgcolor": "#E5ECF6",
           "radialaxis": {
            "gridcolor": "white",
            "linecolor": "white",
            "ticks": ""
           }
          },
          "scene": {
           "xaxis": {
            "backgroundcolor": "#E5ECF6",
            "gridcolor": "white",
            "gridwidth": 2,
            "linecolor": "white",
            "showbackground": true,
            "ticks": "",
            "zerolinecolor": "white"
           },
           "yaxis": {
            "backgroundcolor": "#E5ECF6",
            "gridcolor": "white",
            "gridwidth": 2,
            "linecolor": "white",
            "showbackground": true,
            "ticks": "",
            "zerolinecolor": "white"
           },
           "zaxis": {
            "backgroundcolor": "#E5ECF6",
            "gridcolor": "white",
            "gridwidth": 2,
            "linecolor": "white",
            "showbackground": true,
            "ticks": "",
            "zerolinecolor": "white"
           }
          },
          "shapedefaults": {
           "line": {
            "color": "#2a3f5f"
           }
          },
          "ternary": {
           "aaxis": {
            "gridcolor": "white",
            "linecolor": "white",
            "ticks": ""
           },
           "baxis": {
            "gridcolor": "white",
            "linecolor": "white",
            "ticks": ""
           },
           "bgcolor": "#E5ECF6",
           "caxis": {
            "gridcolor": "white",
            "linecolor": "white",
            "ticks": ""
           }
          },
          "title": {
           "x": 0.05
          },
          "xaxis": {
           "automargin": true,
           "gridcolor": "white",
           "linecolor": "white",
           "ticks": "",
           "title": {
            "standoff": 15
           },
           "zerolinecolor": "white",
           "zerolinewidth": 2
          },
          "yaxis": {
           "automargin": true,
           "gridcolor": "white",
           "linecolor": "white",
           "ticks": "",
           "title": {
            "standoff": 15
           },
           "zerolinecolor": "white",
           "zerolinewidth": 2
          }
         }
        },
        "title": {
         "text": "Puesto de hugo álvarez amaro con casaspezia Over Time"
        },
        "xaxis": {
         "anchor": "y",
         "domain": [
          0,
          1
         ],
         "title": {
          "text": "Fecha de la Prueba"
         }
        },
        "yaxis": {
         "anchor": "x",
         "domain": [
          0,
          1
         ],
         "title": {
          "text": "Puesto"
         }
        }
       }
      }
     },
     "metadata": {},
     "output_type": "display_data"
    }
   ],
   "source": [
    "import plotly.express as px\n",
    "\n",
    "# Assuming you want to focus on 'casaspezia' ridden by 'hugo álvarez amaro'\n",
    "rider_of_interest = 'hugo álvarez amaro'\n",
    "horse_of_interest = 'casaspezia'\n",
    "\n",
    "filtered_df = df[(df['jinete'] == rider_of_interest) & (df['caballo'] == horse_of_interest)].copy()\n",
    "\n",
    "# Ensure 'fecha_prueba' is in datetime format\n",
    "filtered_df['fecha_prueba'] = pd.to_datetime(filtered_df['fecha_prueba'])\n",
    "\n",
    "if not filtered_df.empty:\n",
    "    fig = px.line(\n",
    "        filtered_df,\n",
    "        x='fecha_prueba',\n",
    "        y='puesto',\n",
    "        hover_data=['prueba', 'concurso', 'estado', 'puesto'],\n",
    "        title=f'Puesto de {rider_of_interest} con {horse_of_interest} Over Time',\n",
    "    )\n",
    "\n",
    "    fig.update_layout(\n",
    "        xaxis_title='Fecha de la Prueba',\n",
    "        yaxis_title='Puesto',\n",
    "    )\n",
    "\n",
    "    fig.show()\n",
    "else:\n",
    "    print(f\"No data found for the rider '{rider_of_interest}' and horse '{horse_of_interest}'.\")"
   ]
  },
  {
   "cell_type": "code",
   "execution_count": 33,
   "id": "4d350570",
   "metadata": {},
   "outputs": [
    {
     "data": {
      "application/vnd.plotly.v1+json": {
       "config": {
        "plotlyServerURL": "https://plot.ly"
       },
       "data": [
        {
         "customdata": [
          [
           "2025-02-06T00:00:00",
           "1,50 (G) - A c.c. (238.2.1)",
           "CSI4* - 1st Week XXXI Andalucía Sunshine Tour 2025",
           14
          ],
          [
           "2025-02-07T00:00:00",
           "1,50 (G) - A c.c. (238.2.1)",
           "CSI4* - 1st Week XXXI Andalucía Sunshine Tour 2025",
           42
          ],
          [
           "2025-02-09T00:00:00",
           "1,55 (GP) - A.c.c. y desempate (238.2.2)",
           "CSI4* - 1st Week XXXI Andalucía Sunshine Tour 2025",
           12
          ],
          [
           "2025-02-14T00:00:00",
           "1,50 (GP) - A.c.c. y desempate (238.2.2)",
           "CSI4* - 2nd Week XXXI Andalucía Sunshine Tour 2025",
           52
          ],
          [
           "2025-02-16T00:00:00",
           "1,50 (GP) - A.c.c. y desempate (238.2.2)",
           "CSI4* - 2nd Week XXXI Andalucía Sunshine Tour 2025",
           27
          ],
          [
           "2025-02-21T00:00:00",
           "1,50 (G) - A c.c. (238.2.1)",
           "CSI4* - 3rd Week XXXI Andalucía Sunshine Tour 2025",
           null
          ],
          [
           "2025-02-22T00:00:00",
           "1,45 (GP) - A.c.c. y desempate (238.2.2)",
           "CSI4* - 3rd Week XXXI Andalucía Sunshine Tour 2025",
           null
          ],
          [
           "2025-03-13T00:00:00",
           "1,35 (G) - A c.c. (238.2.1)",
           "CSI4* - 6th Week XXXI Andalucía Sunshine Tour 2025",
           1
          ],
          [
           "2025-03-14T00:00:00",
           "1,50 (GP) - Dos Mangas (273.3.4)",
           "CSI4* - 6th Week XXXI Andalucía Sunshine Tour 2025",
           10
          ],
          [
           "2025-03-16T00:00:00",
           "1,55 (GP) - A.c.c. y desempate (238.2.2)",
           "CSI4* - 6th Week XXXI Andalucía Sunshine Tour 2025",
           23
          ],
          [
           "2025-03-20T00:00:00",
           "1,45 (M) - A con cronometro sin desempate (238.2.1)",
           "CSI4* - 7th Week XXXI Andalucía Sunshine Tour 2025",
           4
          ],
          [
           "2025-03-21T00:00:00",
           "1,50 (GP) - Dos Mangas (273.3.4)",
           "CSI4* - 7th Week XXXI Andalucía Sunshine Tour 2025",
           6
          ],
          [
           "2025-04-25T00:00:00",
           "1,45 (G) - A c.c. (238.2.1)",
           "SPRING MET IV - CSI3* GOLD",
           66
          ],
          [
           "2025-04-26T00:00:00",
           "1,50 (G) - A.c.c. y desempate (238.2.2)",
           "SPRING MET IV - CSI3* GOLD",
           28
          ],
          [
           "2025-04-27T00:00:00",
           "1,50 (GP) - A.c.c. y desempate (238.2.2)",
           "SPRING MET IV - CSI3* GOLD",
           5
          ]
         ],
         "hovertemplate": "Tiempo Medio (R1, R2, R3)=%{x}<br>Puntos de Obstáculos Medios (R1, R2, R3)=%{y}<br>fecha_prueba=%{customdata[0]}<br>prueba=%{customdata[1]}<br>concurso=%{customdata[2]}<br>puesto=%{customdata[3]}<extra></extra>",
         "legendgroup": "",
         "marker": {
          "color": "#636efa",
          "symbol": "circle"
         },
         "mode": "markers",
         "name": "",
         "orientation": "v",
         "showlegend": false,
         "type": "scatter",
         "x": [
          67.78,
          70.51,
          75.78,
          70.99,
          79.24,
          null,
          null,
          61.33,
          74.2,
          77.29,
          64.66,
          65.41,
          64.81,
          74.91,
          56.80500000000001
         ],
         "xaxis": "x",
         "y": [
          0,
          12,
          4,
          8,
          4,
          null,
          null,
          0,
          0,
          4,
          0,
          0,
          12,
          8,
          0
         ],
         "yaxis": "y"
        }
       ],
       "layout": {
        "legend": {
         "tracegroupgap": 0
        },
        "template": {
         "data": {
          "bar": [
           {
            "error_x": {
             "color": "#2a3f5f"
            },
            "error_y": {
             "color": "#2a3f5f"
            },
            "marker": {
             "line": {
              "color": "#E5ECF6",
              "width": 0.5
             },
             "pattern": {
              "fillmode": "overlay",
              "size": 10,
              "solidity": 0.2
             }
            },
            "type": "bar"
           }
          ],
          "barpolar": [
           {
            "marker": {
             "line": {
              "color": "#E5ECF6",
              "width": 0.5
             },
             "pattern": {
              "fillmode": "overlay",
              "size": 10,
              "solidity": 0.2
             }
            },
            "type": "barpolar"
           }
          ],
          "carpet": [
           {
            "aaxis": {
             "endlinecolor": "#2a3f5f",
             "gridcolor": "white",
             "linecolor": "white",
             "minorgridcolor": "white",
             "startlinecolor": "#2a3f5f"
            },
            "baxis": {
             "endlinecolor": "#2a3f5f",
             "gridcolor": "white",
             "linecolor": "white",
             "minorgridcolor": "white",
             "startlinecolor": "#2a3f5f"
            },
            "type": "carpet"
           }
          ],
          "choropleth": [
           {
            "colorbar": {
             "outlinewidth": 0,
             "ticks": ""
            },
            "type": "choropleth"
           }
          ],
          "contour": [
           {
            "colorbar": {
             "outlinewidth": 0,
             "ticks": ""
            },
            "colorscale": [
             [
              0,
              "#0d0887"
             ],
             [
              0.1111111111111111,
              "#46039f"
             ],
             [
              0.2222222222222222,
              "#7201a8"
             ],
             [
              0.3333333333333333,
              "#9c179e"
             ],
             [
              0.4444444444444444,
              "#bd3786"
             ],
             [
              0.5555555555555556,
              "#d8576b"
             ],
             [
              0.6666666666666666,
              "#ed7953"
             ],
             [
              0.7777777777777778,
              "#fb9f3a"
             ],
             [
              0.8888888888888888,
              "#fdca26"
             ],
             [
              1,
              "#f0f921"
             ]
            ],
            "type": "contour"
           }
          ],
          "contourcarpet": [
           {
            "colorbar": {
             "outlinewidth": 0,
             "ticks": ""
            },
            "type": "contourcarpet"
           }
          ],
          "heatmap": [
           {
            "colorbar": {
             "outlinewidth": 0,
             "ticks": ""
            },
            "colorscale": [
             [
              0,
              "#0d0887"
             ],
             [
              0.1111111111111111,
              "#46039f"
             ],
             [
              0.2222222222222222,
              "#7201a8"
             ],
             [
              0.3333333333333333,
              "#9c179e"
             ],
             [
              0.4444444444444444,
              "#bd3786"
             ],
             [
              0.5555555555555556,
              "#d8576b"
             ],
             [
              0.6666666666666666,
              "#ed7953"
             ],
             [
              0.7777777777777778,
              "#fb9f3a"
             ],
             [
              0.8888888888888888,
              "#fdca26"
             ],
             [
              1,
              "#f0f921"
             ]
            ],
            "type": "heatmap"
           }
          ],
          "histogram": [
           {
            "marker": {
             "pattern": {
              "fillmode": "overlay",
              "size": 10,
              "solidity": 0.2
             }
            },
            "type": "histogram"
           }
          ],
          "histogram2d": [
           {
            "colorbar": {
             "outlinewidth": 0,
             "ticks": ""
            },
            "colorscale": [
             [
              0,
              "#0d0887"
             ],
             [
              0.1111111111111111,
              "#46039f"
             ],
             [
              0.2222222222222222,
              "#7201a8"
             ],
             [
              0.3333333333333333,
              "#9c179e"
             ],
             [
              0.4444444444444444,
              "#bd3786"
             ],
             [
              0.5555555555555556,
              "#d8576b"
             ],
             [
              0.6666666666666666,
              "#ed7953"
             ],
             [
              0.7777777777777778,
              "#fb9f3a"
             ],
             [
              0.8888888888888888,
              "#fdca26"
             ],
             [
              1,
              "#f0f921"
             ]
            ],
            "type": "histogram2d"
           }
          ],
          "histogram2dcontour": [
           {
            "colorbar": {
             "outlinewidth": 0,
             "ticks": ""
            },
            "colorscale": [
             [
              0,
              "#0d0887"
             ],
             [
              0.1111111111111111,
              "#46039f"
             ],
             [
              0.2222222222222222,
              "#7201a8"
             ],
             [
              0.3333333333333333,
              "#9c179e"
             ],
             [
              0.4444444444444444,
              "#bd3786"
             ],
             [
              0.5555555555555556,
              "#d8576b"
             ],
             [
              0.6666666666666666,
              "#ed7953"
             ],
             [
              0.7777777777777778,
              "#fb9f3a"
             ],
             [
              0.8888888888888888,
              "#fdca26"
             ],
             [
              1,
              "#f0f921"
             ]
            ],
            "type": "histogram2dcontour"
           }
          ],
          "mesh3d": [
           {
            "colorbar": {
             "outlinewidth": 0,
             "ticks": ""
            },
            "type": "mesh3d"
           }
          ],
          "parcoords": [
           {
            "line": {
             "colorbar": {
              "outlinewidth": 0,
              "ticks": ""
             }
            },
            "type": "parcoords"
           }
          ],
          "pie": [
           {
            "automargin": true,
            "type": "pie"
           }
          ],
          "scatter": [
           {
            "fillpattern": {
             "fillmode": "overlay",
             "size": 10,
             "solidity": 0.2
            },
            "type": "scatter"
           }
          ],
          "scatter3d": [
           {
            "line": {
             "colorbar": {
              "outlinewidth": 0,
              "ticks": ""
             }
            },
            "marker": {
             "colorbar": {
              "outlinewidth": 0,
              "ticks": ""
             }
            },
            "type": "scatter3d"
           }
          ],
          "scattercarpet": [
           {
            "marker": {
             "colorbar": {
              "outlinewidth": 0,
              "ticks": ""
             }
            },
            "type": "scattercarpet"
           }
          ],
          "scattergeo": [
           {
            "marker": {
             "colorbar": {
              "outlinewidth": 0,
              "ticks": ""
             }
            },
            "type": "scattergeo"
           }
          ],
          "scattergl": [
           {
            "marker": {
             "colorbar": {
              "outlinewidth": 0,
              "ticks": ""
             }
            },
            "type": "scattergl"
           }
          ],
          "scattermap": [
           {
            "marker": {
             "colorbar": {
              "outlinewidth": 0,
              "ticks": ""
             }
            },
            "type": "scattermap"
           }
          ],
          "scattermapbox": [
           {
            "marker": {
             "colorbar": {
              "outlinewidth": 0,
              "ticks": ""
             }
            },
            "type": "scattermapbox"
           }
          ],
          "scatterpolar": [
           {
            "marker": {
             "colorbar": {
              "outlinewidth": 0,
              "ticks": ""
             }
            },
            "type": "scatterpolar"
           }
          ],
          "scatterpolargl": [
           {
            "marker": {
             "colorbar": {
              "outlinewidth": 0,
              "ticks": ""
             }
            },
            "type": "scatterpolargl"
           }
          ],
          "scatterternary": [
           {
            "marker": {
             "colorbar": {
              "outlinewidth": 0,
              "ticks": ""
             }
            },
            "type": "scatterternary"
           }
          ],
          "surface": [
           {
            "colorbar": {
             "outlinewidth": 0,
             "ticks": ""
            },
            "colorscale": [
             [
              0,
              "#0d0887"
             ],
             [
              0.1111111111111111,
              "#46039f"
             ],
             [
              0.2222222222222222,
              "#7201a8"
             ],
             [
              0.3333333333333333,
              "#9c179e"
             ],
             [
              0.4444444444444444,
              "#bd3786"
             ],
             [
              0.5555555555555556,
              "#d8576b"
             ],
             [
              0.6666666666666666,
              "#ed7953"
             ],
             [
              0.7777777777777778,
              "#fb9f3a"
             ],
             [
              0.8888888888888888,
              "#fdca26"
             ],
             [
              1,
              "#f0f921"
             ]
            ],
            "type": "surface"
           }
          ],
          "table": [
           {
            "cells": {
             "fill": {
              "color": "#EBF0F8"
             },
             "line": {
              "color": "white"
             }
            },
            "header": {
             "fill": {
              "color": "#C8D4E3"
             },
             "line": {
              "color": "white"
             }
            },
            "type": "table"
           }
          ]
         },
         "layout": {
          "annotationdefaults": {
           "arrowcolor": "#2a3f5f",
           "arrowhead": 0,
           "arrowwidth": 1
          },
          "autotypenumbers": "strict",
          "coloraxis": {
           "colorbar": {
            "outlinewidth": 0,
            "ticks": ""
           }
          },
          "colorscale": {
           "diverging": [
            [
             0,
             "#8e0152"
            ],
            [
             0.1,
             "#c51b7d"
            ],
            [
             0.2,
             "#de77ae"
            ],
            [
             0.3,
             "#f1b6da"
            ],
            [
             0.4,
             "#fde0ef"
            ],
            [
             0.5,
             "#f7f7f7"
            ],
            [
             0.6,
             "#e6f5d0"
            ],
            [
             0.7,
             "#b8e186"
            ],
            [
             0.8,
             "#7fbc41"
            ],
            [
             0.9,
             "#4d9221"
            ],
            [
             1,
             "#276419"
            ]
           ],
           "sequential": [
            [
             0,
             "#0d0887"
            ],
            [
             0.1111111111111111,
             "#46039f"
            ],
            [
             0.2222222222222222,
             "#7201a8"
            ],
            [
             0.3333333333333333,
             "#9c179e"
            ],
            [
             0.4444444444444444,
             "#bd3786"
            ],
            [
             0.5555555555555556,
             "#d8576b"
            ],
            [
             0.6666666666666666,
             "#ed7953"
            ],
            [
             0.7777777777777778,
             "#fb9f3a"
            ],
            [
             0.8888888888888888,
             "#fdca26"
            ],
            [
             1,
             "#f0f921"
            ]
           ],
           "sequentialminus": [
            [
             0,
             "#0d0887"
            ],
            [
             0.1111111111111111,
             "#46039f"
            ],
            [
             0.2222222222222222,
             "#7201a8"
            ],
            [
             0.3333333333333333,
             "#9c179e"
            ],
            [
             0.4444444444444444,
             "#bd3786"
            ],
            [
             0.5555555555555556,
             "#d8576b"
            ],
            [
             0.6666666666666666,
             "#ed7953"
            ],
            [
             0.7777777777777778,
             "#fb9f3a"
            ],
            [
             0.8888888888888888,
             "#fdca26"
            ],
            [
             1,
             "#f0f921"
            ]
           ]
          },
          "colorway": [
           "#636efa",
           "#EF553B",
           "#00cc96",
           "#ab63fa",
           "#FFA15A",
           "#19d3f3",
           "#FF6692",
           "#B6E880",
           "#FF97FF",
           "#FECB52"
          ],
          "font": {
           "color": "#2a3f5f"
          },
          "geo": {
           "bgcolor": "white",
           "lakecolor": "white",
           "landcolor": "#E5ECF6",
           "showlakes": true,
           "showland": true,
           "subunitcolor": "white"
          },
          "hoverlabel": {
           "align": "left"
          },
          "hovermode": "closest",
          "mapbox": {
           "style": "light"
          },
          "paper_bgcolor": "white",
          "plot_bgcolor": "#E5ECF6",
          "polar": {
           "angularaxis": {
            "gridcolor": "white",
            "linecolor": "white",
            "ticks": ""
           },
           "bgcolor": "#E5ECF6",
           "radialaxis": {
            "gridcolor": "white",
            "linecolor": "white",
            "ticks": ""
           }
          },
          "scene": {
           "xaxis": {
            "backgroundcolor": "#E5ECF6",
            "gridcolor": "white",
            "gridwidth": 2,
            "linecolor": "white",
            "showbackground": true,
            "ticks": "",
            "zerolinecolor": "white"
           },
           "yaxis": {
            "backgroundcolor": "#E5ECF6",
            "gridcolor": "white",
            "gridwidth": 2,
            "linecolor": "white",
            "showbackground": true,
            "ticks": "",
            "zerolinecolor": "white"
           },
           "zaxis": {
            "backgroundcolor": "#E5ECF6",
            "gridcolor": "white",
            "gridwidth": 2,
            "linecolor": "white",
            "showbackground": true,
            "ticks": "",
            "zerolinecolor": "white"
           }
          },
          "shapedefaults": {
           "line": {
            "color": "#2a3f5f"
           }
          },
          "ternary": {
           "aaxis": {
            "gridcolor": "white",
            "linecolor": "white",
            "ticks": ""
           },
           "baxis": {
            "gridcolor": "white",
            "linecolor": "white",
            "ticks": ""
           },
           "bgcolor": "#E5ECF6",
           "caxis": {
            "gridcolor": "white",
            "linecolor": "white",
            "ticks": ""
           }
          },
          "title": {
           "x": 0.05
          },
          "xaxis": {
           "automargin": true,
           "gridcolor": "white",
           "linecolor": "white",
           "ticks": "",
           "title": {
            "standoff": 15
           },
           "zerolinecolor": "white",
           "zerolinewidth": 2
          },
          "yaxis": {
           "automargin": true,
           "gridcolor": "white",
           "linecolor": "white",
           "ticks": "",
           "title": {
            "standoff": 15
           },
           "zerolinecolor": "white",
           "zerolinewidth": 2
          }
         }
        },
        "title": {
         "text": "Relación entre Tiempo Medio y Puntos Medios para hugo álvarez amaro con casaspezia"
        },
        "xaxis": {
         "anchor": "y",
         "domain": [
          0,
          1
         ],
         "title": {
          "text": "Tiempo Medio (R1, R2, R3)"
         }
        },
        "yaxis": {
         "anchor": "x",
         "domain": [
          0,
          1
         ],
         "title": {
          "text": "Puntos de Obstáculos Medios (R1, R2, R3)"
         }
        }
       }
      }
     },
     "metadata": {},
     "output_type": "display_data"
    },
    {
     "name": "stdout",
     "output_type": "stream",
     "text": [
      "Correlación entre Tiempo Medio y Puntos Medios: 0.28\n"
     ]
    }
   ],
   "source": [
    "import plotly.express as px\n",
    "import pandas as pd\n",
    "\n",
    "# Assuming you want to focus on 'casaspezia' ridden by 'hugo álvarez amaro'\n",
    "rider_of_interest = 'hugo álvarez amaro'\n",
    "horse_of_interest = 'casaspezia'\n",
    "\n",
    "filtered_df = df[(df['jinete'] == rider_of_interest) & (df['caballo'] == horse_of_interest)].copy()\n",
    "\n",
    "# Calculate the average time across available rounds\n",
    "time_cols = ['tiempo_r1', 'tiempo_r2', 'tiempo_r3']\n",
    "filtered_df['media_tiempo'] = filtered_df[time_cols].mean(axis=1)\n",
    "\n",
    "# Calculate the average obstacle points across available rounds\n",
    "puntos_obs_cols = ['puntos_obs_r1', 'puntos_obs_r2', 'puntos_obs_r3']\n",
    "filtered_df['media_puntos_obs'] = filtered_df[puntos_obs_cols].mean(axis=1)\n",
    "\n",
    "# Create the scatter plot of average time vs. average obstacle points\n",
    "fig = px.scatter(\n",
    "    filtered_df,\n",
    "    x='media_tiempo',\n",
    "    y='media_puntos_obs',\n",
    "    hover_data=['fecha_prueba', 'prueba', 'concurso', 'puesto'],\n",
    "    title=f'Relación entre Tiempo Medio y Puntos Medios para {rider_of_interest} con {horse_of_interest}',\n",
    "    labels={'media_tiempo': 'Tiempo Medio (R1, R2, R3)', 'media_puntos_obs': 'Puntos de Obstáculos Medios (R1, R2, R3)'}\n",
    ")\n",
    "\n",
    "fig.show()\n",
    "\n",
    "# Calculate the correlation coefficient between the averages\n",
    "correlation_avg = filtered_df['media_tiempo'].corr(filtered_df['media_puntos_obs'])\n",
    "print(f\"Correlación entre Tiempo Medio y Puntos Medios: {correlation_avg:.2f}\")"
   ]
  },
  {
   "cell_type": "code",
   "execution_count": 20,
   "id": "13507608",
   "metadata": {},
   "outputs": [
    {
     "data": {
      "text/plain": [
       "[('Open Sports Club',),\n",
       " ('C.H Nueva Atalaya',),\n",
       " ('Club Hipico Las Cadenas',),\n",
       " ('Club Hipico Astur',),\n",
       " ('Las Cadenas',),\n",
       " ('Mouratours Valencia',),\n",
       " ('Granada',),\n",
       " ('R.A.C.E.',),\n",
       " ('Real Club De Polo De Barcelona',),\n",
       " ('R.S.H.E.C.C.',),\n",
       " ('Real Club Pineda',),\n",
       " ('C.H. Del Sur Los Migueles',),\n",
       " ('Palma Del Rio',),\n",
       " ('Ceon',),\n",
       " ('Cenro Ecuestre De Castilla Y León',),\n",
       " ('Club Aros',),\n",
       " ('Mouratours',),\n",
       " ('Equus Duri',),\n",
       " ('Centro Ecuestre Oliva Nova',),\n",
       " ('Dehesa Montenmedio',),\n",
       " ('Heras Horses & Events',),\n",
       " ('Moura Tours',)]"
      ]
     },
     "execution_count": 20,
     "metadata": {},
     "output_type": "execute_result"
    }
   ],
   "source": [
    "query_pruebas = \"\"\"\n",
    "        \n",
    "        SELECT DISTINCT\n",
    "            localidad_concurso\n",
    "        FROM concursos c; \n",
    "\n",
    "\"\"\"\n",
    "ejecutor_querys(cur, query_pruebas)"
   ]
  },
  {
   "cell_type": "code",
   "execution_count": null,
   "id": "16942a0d",
   "metadata": {},
   "outputs": [],
   "source": [
    "query_concursos_completos = \"\"\"\n",
    "        SELECT *\n",
    "        FROM concursos c;\n",
    "\"\"\"\n",
    "query_n_concursos = \"\"\"\n",
    "        SELECT COUNT(id_concurso)\n",
    "        FROM concursos c;\n",
    "\"\"\"\n",
    "query_fechas_concursos = \"\"\"\n",
    "        SELECT \n",
    "                MIN(fecha_inicio_concurso),\n",
    "                MAX(fecha_fin_concurso)\n",
    "        FROM concursos c;\n",
    "\"\"\"\n",
    "query_concursos_mes = \"\"\"\n",
    "        SELECT \n",
    "                EXTRACT(MONTH FROM fecha_inicio_concurso),\n",
    "                COUNT(id_concurso)\n",
    "        FROM concursos c\n",
    "        GROUP BY EXTRACT(MONTH FROM fecha_inicio_concurso)\n",
    "        ORDER BY COUNT(id_concurso) DESC;\n",
    "\"\"\"\n",
    "query_concursos_ambito = \"\"\"\n",
    "        SELECT \n",
    "                ambito_concurso,\n",
    "                CONCAT((COUNT(id_concurso)) * 100 / (SELECT COUNT(id_concurso) FROM concursos c), ' ', '%')\n",
    "        FROM concursos c\n",
    "        GROUP BY ambito_concurso\n",
    "        ORDER BY COUNT(id_concurso) DESC;\n",
    "\"\"\"\n",
    "query_concursos_federacion = \"\"\"\n",
    "        SELECT \n",
    "                federacion_concurso,\n",
    "                COUNT(id_concurso)\n",
    "        FROM concursos c\n",
    "        GROUP BY federacion_concurso\n",
    "        ORDER BY COUNT(id_concurso) DESC;\n",
    "\"\"\"\n",
    "query_concursos_provincia = \"\"\"\n",
    "        SELECT \n",
    "                provincia_concurso,\n",
    "                COUNT(id_concurso)\n",
    "        FROM concursos c\n",
    "        GROUP BY provincia_concurso\n",
    "        ORDER BY COUNT(id_concurso) DESC;\n",
    "\"\"\"\n",
    "\n",
    "query_concursos_localidad = \"\"\"\n",
    "        SELECT \n",
    "                localidad_concurso,\n",
    "                COUNT(id_concurso)\n",
    "        FROM concursos c\n",
    "        GROUP BY localidad_concurso\n",
    "        ORDER BY COUNT(id_concurso) DESC;\n",
    "\"\"\"\n",
    "\n",
    "query_concursos_pruebas_concurso = \"\"\"\n",
    "        \n",
    "        WITH pruebas_concurso AS (\n",
    "                SELECT \n",
    "                        c.id_concurso,\n",
    "                        COUNT(DISTINCT p.id_prueba) as n_pruebas_concurso\n",
    "                FROM resultados r\n",
    "                        JOIN concursos c ON r.id_concurso = c.id_concurso\n",
    "                        JOIN pruebas p ON r.id_prueba = p.id_prueba\n",
    "                GROUP BY c.id_concurso\n",
    "        )\n",
    "        SELECT \n",
    "                ROUND(AVG(n_pruebas_concurso), 0)\n",
    "        FROM pruebas_concurso;\n",
    "\n",
    "\"\"\"\n",
    "\n",
    "query_pruebas = \"\"\"\n",
    "        \n",
    "        SELECT \n",
    "                DISTINCT SUBSTRING(\n",
    "                         nombre_prueba \n",
    "                         FROM POSITION('(2' IN nombre_prueba)\n",
    "                         ) as tipo_prueba, \n",
    "                COUNT(id_prueba)\n",
    "        FROM pruebas p\n",
    "        GROUP BY tipo_prueba\n",
    "        ORDER BY 2 DESC; \n",
    "\n",
    "\"\"\"\n",
    "query_duracion_concursos = \"\"\"\n",
    "        \n",
    "        SELECT \n",
    "                ROUND(AVG(fecha_fin_concurso::date - fecha_inicio_concurso::date), 0)\n",
    "        FROM concursos c; \n",
    "\n",
    "\"\"\"\n",
    "\n",
    "query_dinero_repartido_concursos = \"\"\"\n",
    "        \n",
    "        WITH ConteoJinetesCaballosPorConcurso AS (\n",
    "        SELECT\n",
    "                r.id_concurso,\n",
    "                COUNT(DISTINCT r.id_jinete) AS conteo_jinetes,\n",
    "                COUNT(DISTINCT r.id_caballo) AS conteo_caballos\n",
    "        FROM resultados r\n",
    "        GROUP BY r.id_concurso\n",
    "        ),\n",
    "        DineroTotalPorConcurso AS (\n",
    "        SELECT\n",
    "                r.id_concurso,\n",
    "                SUM(r.dinero_premio) AS total_premio_concurso\n",
    "        FROM resultados r\n",
    "        GROUP BY r.id_concurso\n",
    "        )\n",
    "        SELECT\n",
    "                c.categoria_concurso,\n",
    "                AVG(cjcc.conteo_jinetes) AS media_jinetes,\n",
    "                AVG(cjcc.conteo_caballos) AS media_caballos,\n",
    "                AVG(dtpc.total_premio_concurso) AS media_dinero_premio_por_concurso\n",
    "        FROM concursos c\n",
    "                JOIN ConteoJinetesCaballosPorConcurso cjcc ON c.id_concurso = cjcc.id_concurso\n",
    "                JOIN resultados r ON c.id_concurso = r.id_concurso\n",
    "                JOIN DineroTotalPorConcurso dtpc ON c.id_concurso = dtpc.id_concurso\n",
    "        GROUP BY c.categoria_concurso\n",
    "        ORDER BY 4 DESC;\n",
    "\n",
    "\"\"\""
   ]
  },
  {
   "cell_type": "code",
   "execution_count": 88,
   "id": "81921080",
   "metadata": {},
   "outputs": [],
   "source": [
    "meses = {\n",
    "    1: \"enero\",\n",
    "    2: \"febrero\",\n",
    "    3: \"marzo\",\n",
    "    4: \"abril\",\n",
    "    5: \"mayo\",\n",
    "    6: \"junio\",\n",
    "    7: \"julio\",\n",
    "    8: \"agosto\",\n",
    "    9: \"septiembre\",\n",
    "    10: \"octubre\",\n",
    "    11: \"noviembre\",\n",
    "    12: \"diciembre\"\n",
    "}\n",
    "prueba_norma = {\n",
    "    '(238.2.1)': 'Baremo A con cronómetro',\n",
    "    '(238.2.2)': 'Baremo A con cronómetro y desempate',\n",
    "    '(274.1.5.3)': 'Dos fases, ambas con cronómetro',\n",
    "    '(274.2)': 'Dos fases especial',\n",
    "    '(238.1.1)': 'Baremo A sin cronómetro',\n",
    "    '(274.1.5.2)': 'Dos fases, primera sin cronómetro, segunda con cronómetro',\n",
    "    '(269.3.2)': 'Prueba de potencia',\n",
    "    '(263)': 'Baremo C',\n",
    "    '(273.3.4)': 'Prueba con dos mangas y desempate',\n",
    "    '(239)': 'Baremo A juzgado como Baremo C',\n",
    "    '(264)': 'Prueba de caza',\n",
    "    '(273.3.3.1)': 'Prueba con dos mangas sin desempate',\n",
    "    '(276.2)': 'Prueba con puntuación progresiva',\n",
    "    '(238.1.2)': 'Baremo A sin cronómetro con desempate'\n",
    "}\n",
    "\n"
   ]
  },
  {
   "cell_type": "code",
   "execution_count": null,
   "id": "b8291366",
   "metadata": {},
   "outputs": [],
   "source": [
    "conn.rollback()"
   ]
  },
  {
   "cell_type": "markdown",
   "id": "0309f095",
   "metadata": {},
   "source": [
    "cuantos caballos por categoría, media de caballos por concurso, y por categoría, concursos que mas caballos han atraído, dinero repartido en premios de media en un concurso de cada categoría, "
   ]
  },
  {
   "cell_type": "code",
   "execution_count": null,
   "id": "b6921d2b",
   "metadata": {},
   "outputs": [
    {
     "data": {
      "text/html": [
       "<div>\n",
       "<style scoped>\n",
       "    .dataframe tbody tr th:only-of-type {\n",
       "        vertical-align: middle;\n",
       "    }\n",
       "\n",
       "    .dataframe tbody tr th {\n",
       "        vertical-align: top;\n",
       "    }\n",
       "\n",
       "    .dataframe thead th {\n",
       "        text-align: right;\n",
       "    }\n",
       "</style>\n",
       "<table border=\"1\" class=\"dataframe\">\n",
       "  <thead>\n",
       "    <tr style=\"text-align: right;\">\n",
       "      <th></th>\n",
       "      <th>categoria</th>\n",
       "      <th>jinetes</th>\n",
       "      <th>caballos</th>\n",
       "      <th>dinero_medio</th>\n",
       "    </tr>\n",
       "  </thead>\n",
       "  <tbody>\n",
       "    <tr>\n",
       "      <th>0</th>\n",
       "      <td>CSI****</td>\n",
       "      <td>335.25</td>\n",
       "      <td>809.76</td>\n",
       "      <td>393141.89</td>\n",
       "    </tr>\n",
       "    <tr>\n",
       "      <th>1</th>\n",
       "      <td>CSI***</td>\n",
       "      <td>113.11</td>\n",
       "      <td>270.81</td>\n",
       "      <td>262111.37</td>\n",
       "    </tr>\n",
       "    <tr>\n",
       "      <th>2</th>\n",
       "      <td>CSI**</td>\n",
       "      <td>121.86</td>\n",
       "      <td>286.88</td>\n",
       "      <td>91725.00</td>\n",
       "    </tr>\n",
       "    <tr>\n",
       "      <th>3</th>\n",
       "      <td>CSI*</td>\n",
       "      <td>143.44</td>\n",
       "      <td>244.70</td>\n",
       "      <td>83613.54</td>\n",
       "    </tr>\n",
       "    <tr>\n",
       "      <th>4</th>\n",
       "      <td>CSI YH*</td>\n",
       "      <td>154.20</td>\n",
       "      <td>348.28</td>\n",
       "      <td>53165.94</td>\n",
       "    </tr>\n",
       "    <tr>\n",
       "      <th>5</th>\n",
       "      <td>CSN*****</td>\n",
       "      <td>175.92</td>\n",
       "      <td>286.92</td>\n",
       "      <td>37879.63</td>\n",
       "    </tr>\n",
       "    <tr>\n",
       "      <th>6</th>\n",
       "      <td>CSN****</td>\n",
       "      <td>129.00</td>\n",
       "      <td>237.00</td>\n",
       "      <td>26215.00</td>\n",
       "    </tr>\n",
       "    <tr>\n",
       "      <th>7</th>\n",
       "      <td>CSIO Ch/J/Y</td>\n",
       "      <td>77.00</td>\n",
       "      <td>108.00</td>\n",
       "      <td>22900.00</td>\n",
       "    </tr>\n",
       "    <tr>\n",
       "      <th>8</th>\n",
       "      <td>CSN***</td>\n",
       "      <td>77.33</td>\n",
       "      <td>134.87</td>\n",
       "      <td>13119.28</td>\n",
       "    </tr>\n",
       "    <tr>\n",
       "      <th>9</th>\n",
       "      <td>CSN**</td>\n",
       "      <td>124.69</td>\n",
       "      <td>179.20</td>\n",
       "      <td>6156.57</td>\n",
       "    </tr>\n",
       "    <tr>\n",
       "      <th>10</th>\n",
       "      <td>CSNCJ</td>\n",
       "      <td>35.56</td>\n",
       "      <td>44.72</td>\n",
       "      <td>2011.43</td>\n",
       "    </tr>\n",
       "    <tr>\n",
       "      <th>11</th>\n",
       "      <td>CSN*</td>\n",
       "      <td>31.84</td>\n",
       "      <td>37.01</td>\n",
       "      <td>1074.78</td>\n",
       "    </tr>\n",
       "  </tbody>\n",
       "</table>\n",
       "</div>"
      ],
      "text/plain": [
       "      categoria jinetes caballos  dinero_medio\n",
       "0       CSI****  335.25   809.76     393141.89\n",
       "1        CSI***  113.11   270.81     262111.37\n",
       "2         CSI**  121.86   286.88      91725.00\n",
       "3          CSI*  143.44   244.70      83613.54\n",
       "4       CSI YH*  154.20   348.28      53165.94\n",
       "5      CSN*****  175.92   286.92      37879.63\n",
       "6       CSN****  129.00   237.00      26215.00\n",
       "7   CSIO Ch/J/Y   77.00   108.00      22900.00\n",
       "8        CSN***   77.33   134.87      13119.28\n",
       "9         CSN**  124.69   179.20       6156.57\n",
       "10        CSNCJ   35.56    44.72       2011.43\n",
       "11         CSN*   31.84    37.01       1074.78"
      ]
     },
     "execution_count": 11,
     "metadata": {},
     "output_type": "execute_result"
    }
   ],
   "source": [
    "caballos_jinetes_categoria = pd.DataFrame(ejecutor_querys(cur, query_dinero_repartido_concursos))\n",
    "caballos_jinetes_categoria[1] = caballos_jinetes_categoria[1].apply(lambda x: round(x, 2))\n",
    "caballos_jinetes_categoria[2] = caballos_jinetes_categoria[2].apply(lambda x: round(x, 2))\n",
    "caballos_jinetes_categoria[3] = caballos_jinetes_categoria[3].apply(lambda x: round(x, 2))\n",
    "caballos_jinetes_categoria = caballos_jinetes_categoria.rename(columns = {0: \"categoria\", 1: \"jinetes\", 2: \"caballos\", 3: \"dinero_medio\"})\n",
    "caballos_jinetes_categoria"
   ]
  },
  {
   "cell_type": "code",
   "execution_count": null,
   "id": "7c23c0ec",
   "metadata": {},
   "outputs": [
    {
     "data": {
      "text/plain": [
       "[('(238.2.1)', 450),\n",
       " ('(238.2.2)', 205),\n",
       " ('(274.1.5.3)', 198),\n",
       " ('(274.2)', 126),\n",
       " ('(238.1.1)', 87),\n",
       " ('(274.1.5.2)', 33),\n",
       " ('(269.3.2)', 15),\n",
       " ('(263)', 9),\n",
       " ('(273.3.4)', 9),\n",
       " ('(239)', 2),\n",
       " ('(264)', 2),\n",
       " ('(273.3.3.1)', 2),\n",
       " ('(276.2)', 2),\n",
       " ('(238.1.2)', 1)]"
      ]
     },
     "execution_count": 12,
     "metadata": {},
     "output_type": "execute_result"
    }
   ],
   "source": [
    "tipos_pruebas = ejecutor_querys(cur, query_pruebas)\n",
    "tipos_pruebas "
   ]
  },
  {
   "cell_type": "code",
   "execution_count": null,
   "id": "fbf7815c",
   "metadata": {},
   "outputs": [],
   "source": [
    "federaciones = ejecutor_querys(cur, query_concursos_federacion)"
   ]
  },
  {
   "cell_type": "code",
   "execution_count": null,
   "id": "0bff85d4",
   "metadata": {},
   "outputs": [
    {
     "data": {
      "text/html": [
       "<div>\n",
       "<style scoped>\n",
       "    .dataframe tbody tr th:only-of-type {\n",
       "        vertical-align: middle;\n",
       "    }\n",
       "\n",
       "    .dataframe tbody tr th {\n",
       "        vertical-align: top;\n",
       "    }\n",
       "\n",
       "    .dataframe thead th {\n",
       "        text-align: right;\n",
       "    }\n",
       "</style>\n",
       "<table border=\"1\" class=\"dataframe\">\n",
       "  <thead>\n",
       "    <tr style=\"text-align: right;\">\n",
       "      <th></th>\n",
       "      <th>0</th>\n",
       "      <th>1</th>\n",
       "      <th>2</th>\n",
       "    </tr>\n",
       "  </thead>\n",
       "  <tbody>\n",
       "    <tr>\n",
       "      <th>0</th>\n",
       "      <td>Valencia</td>\n",
       "      <td>75</td>\n",
       "      <td>61.48</td>\n",
       "    </tr>\n",
       "    <tr>\n",
       "      <th>1</th>\n",
       "      <td>Cádiz</td>\n",
       "      <td>19</td>\n",
       "      <td>15.57</td>\n",
       "    </tr>\n",
       "    <tr>\n",
       "      <th>2</th>\n",
       "      <td>Madrid</td>\n",
       "      <td>7</td>\n",
       "      <td>5.74</td>\n",
       "    </tr>\n",
       "    <tr>\n",
       "      <th>3</th>\n",
       "      <td>Sevilla</td>\n",
       "      <td>4</td>\n",
       "      <td>3.28</td>\n",
       "    </tr>\n",
       "    <tr>\n",
       "      <th>4</th>\n",
       "      <td>Barcelona</td>\n",
       "      <td>4</td>\n",
       "      <td>3.28</td>\n",
       "    </tr>\n",
       "    <tr>\n",
       "      <th>5</th>\n",
       "      <td>Tenerife</td>\n",
       "      <td>3</td>\n",
       "      <td>2.46</td>\n",
       "    </tr>\n",
       "    <tr>\n",
       "      <th>6</th>\n",
       "      <td>Granada</td>\n",
       "      <td>2</td>\n",
       "      <td>1.64</td>\n",
       "    </tr>\n",
       "    <tr>\n",
       "      <th>7</th>\n",
       "      <td>Cantabria</td>\n",
       "      <td>2</td>\n",
       "      <td>1.64</td>\n",
       "    </tr>\n",
       "    <tr>\n",
       "      <th>8</th>\n",
       "      <td>Zamora</td>\n",
       "      <td>2</td>\n",
       "      <td>1.64</td>\n",
       "    </tr>\n",
       "    <tr>\n",
       "      <th>9</th>\n",
       "      <td>Asturias</td>\n",
       "      <td>1</td>\n",
       "      <td>0.82</td>\n",
       "    </tr>\n",
       "    <tr>\n",
       "      <th>10</th>\n",
       "      <td>Murcia</td>\n",
       "      <td>1</td>\n",
       "      <td>0.82</td>\n",
       "    </tr>\n",
       "    <tr>\n",
       "      <th>11</th>\n",
       "      <td>Segovia</td>\n",
       "      <td>1</td>\n",
       "      <td>0.82</td>\n",
       "    </tr>\n",
       "    <tr>\n",
       "      <th>12</th>\n",
       "      <td>Córdoba</td>\n",
       "      <td>1</td>\n",
       "      <td>0.82</td>\n",
       "    </tr>\n",
       "  </tbody>\n",
       "</table>\n",
       "</div>"
      ],
      "text/plain": [
       "            0   1      2\n",
       "0    Valencia  75  61.48\n",
       "1       Cádiz  19  15.57\n",
       "2      Madrid   7   5.74\n",
       "3     Sevilla   4   3.28\n",
       "4   Barcelona   4   3.28\n",
       "5    Tenerife   3   2.46\n",
       "6     Granada   2   1.64\n",
       "7   Cantabria   2   1.64\n",
       "8      Zamora   2   1.64\n",
       "9    Asturias   1   0.82\n",
       "10     Murcia   1   0.82\n",
       "11    Segovia   1   0.82\n",
       "12    Córdoba   1   0.82"
      ]
     },
     "execution_count": 14,
     "metadata": {},
     "output_type": "execute_result"
    }
   ],
   "source": [
    "concursos_provincias = ejecutor_querys(cur, query_concursos_provincia)\n",
    "concursos = pd.DataFrame(concursos_provincias)\n",
    "concursos[2] = round((concursos[1]/concursos[1].sum())*100, 2)\n",
    "concursos"
   ]
  },
  {
   "cell_type": "code",
   "execution_count": null,
   "id": "fb052889",
   "metadata": {},
   "outputs": [
    {
     "data": {
      "application/vnd.plotly.v1+json": {
       "config": {
        "plotlyServerURL": "https://plot.ly"
       },
       "data": [
        {
         "hovertemplate": "Provincia=%{x}<br>Nº concursos=%{y}<extra></extra>",
         "legendgroup": "",
         "marker": {
          "color": "#636efa",
          "pattern": {
           "shape": ""
          }
         },
         "name": "",
         "orientation": "v",
         "showlegend": false,
         "textposition": "auto",
         "type": "bar",
         "x": [
          "Valencia",
          "Cádiz",
          "Madrid",
          "Sevilla",
          "Barcelona",
          "Tenerife",
          "Granada",
          "Cantabria",
          "Zamora",
          "Asturias",
          "Murcia",
          "Segovia",
          "Córdoba"
         ],
         "xaxis": "x",
         "y": {
          "bdata": "SxMHBAQDAgICAQEBAQ==",
          "dtype": "i1"
         },
         "yaxis": "y"
        }
       ],
       "layout": {
        "barmode": "relative",
        "height": 400,
        "legend": {
         "tracegroupgap": 0
        },
        "plot_bgcolor": "white",
        "template": {
         "data": {
          "bar": [
           {
            "error_x": {
             "color": "#2a3f5f"
            },
            "error_y": {
             "color": "#2a3f5f"
            },
            "marker": {
             "line": {
              "color": "#E5ECF6",
              "width": 0.5
             },
             "pattern": {
              "fillmode": "overlay",
              "size": 10,
              "solidity": 0.2
             }
            },
            "type": "bar"
           }
          ],
          "barpolar": [
           {
            "marker": {
             "line": {
              "color": "#E5ECF6",
              "width": 0.5
             },
             "pattern": {
              "fillmode": "overlay",
              "size": 10,
              "solidity": 0.2
             }
            },
            "type": "barpolar"
           }
          ],
          "carpet": [
           {
            "aaxis": {
             "endlinecolor": "#2a3f5f",
             "gridcolor": "white",
             "linecolor": "white",
             "minorgridcolor": "white",
             "startlinecolor": "#2a3f5f"
            },
            "baxis": {
             "endlinecolor": "#2a3f5f",
             "gridcolor": "white",
             "linecolor": "white",
             "minorgridcolor": "white",
             "startlinecolor": "#2a3f5f"
            },
            "type": "carpet"
           }
          ],
          "choropleth": [
           {
            "colorbar": {
             "outlinewidth": 0,
             "ticks": ""
            },
            "type": "choropleth"
           }
          ],
          "contour": [
           {
            "colorbar": {
             "outlinewidth": 0,
             "ticks": ""
            },
            "colorscale": [
             [
              0,
              "#0d0887"
             ],
             [
              0.1111111111111111,
              "#46039f"
             ],
             [
              0.2222222222222222,
              "#7201a8"
             ],
             [
              0.3333333333333333,
              "#9c179e"
             ],
             [
              0.4444444444444444,
              "#bd3786"
             ],
             [
              0.5555555555555556,
              "#d8576b"
             ],
             [
              0.6666666666666666,
              "#ed7953"
             ],
             [
              0.7777777777777778,
              "#fb9f3a"
             ],
             [
              0.8888888888888888,
              "#fdca26"
             ],
             [
              1,
              "#f0f921"
             ]
            ],
            "type": "contour"
           }
          ],
          "contourcarpet": [
           {
            "colorbar": {
             "outlinewidth": 0,
             "ticks": ""
            },
            "type": "contourcarpet"
           }
          ],
          "heatmap": [
           {
            "colorbar": {
             "outlinewidth": 0,
             "ticks": ""
            },
            "colorscale": [
             [
              0,
              "#0d0887"
             ],
             [
              0.1111111111111111,
              "#46039f"
             ],
             [
              0.2222222222222222,
              "#7201a8"
             ],
             [
              0.3333333333333333,
              "#9c179e"
             ],
             [
              0.4444444444444444,
              "#bd3786"
             ],
             [
              0.5555555555555556,
              "#d8576b"
             ],
             [
              0.6666666666666666,
              "#ed7953"
             ],
             [
              0.7777777777777778,
              "#fb9f3a"
             ],
             [
              0.8888888888888888,
              "#fdca26"
             ],
             [
              1,
              "#f0f921"
             ]
            ],
            "type": "heatmap"
           }
          ],
          "histogram": [
           {
            "marker": {
             "pattern": {
              "fillmode": "overlay",
              "size": 10,
              "solidity": 0.2
             }
            },
            "type": "histogram"
           }
          ],
          "histogram2d": [
           {
            "colorbar": {
             "outlinewidth": 0,
             "ticks": ""
            },
            "colorscale": [
             [
              0,
              "#0d0887"
             ],
             [
              0.1111111111111111,
              "#46039f"
             ],
             [
              0.2222222222222222,
              "#7201a8"
             ],
             [
              0.3333333333333333,
              "#9c179e"
             ],
             [
              0.4444444444444444,
              "#bd3786"
             ],
             [
              0.5555555555555556,
              "#d8576b"
             ],
             [
              0.6666666666666666,
              "#ed7953"
             ],
             [
              0.7777777777777778,
              "#fb9f3a"
             ],
             [
              0.8888888888888888,
              "#fdca26"
             ],
             [
              1,
              "#f0f921"
             ]
            ],
            "type": "histogram2d"
           }
          ],
          "histogram2dcontour": [
           {
            "colorbar": {
             "outlinewidth": 0,
             "ticks": ""
            },
            "colorscale": [
             [
              0,
              "#0d0887"
             ],
             [
              0.1111111111111111,
              "#46039f"
             ],
             [
              0.2222222222222222,
              "#7201a8"
             ],
             [
              0.3333333333333333,
              "#9c179e"
             ],
             [
              0.4444444444444444,
              "#bd3786"
             ],
             [
              0.5555555555555556,
              "#d8576b"
             ],
             [
              0.6666666666666666,
              "#ed7953"
             ],
             [
              0.7777777777777778,
              "#fb9f3a"
             ],
             [
              0.8888888888888888,
              "#fdca26"
             ],
             [
              1,
              "#f0f921"
             ]
            ],
            "type": "histogram2dcontour"
           }
          ],
          "mesh3d": [
           {
            "colorbar": {
             "outlinewidth": 0,
             "ticks": ""
            },
            "type": "mesh3d"
           }
          ],
          "parcoords": [
           {
            "line": {
             "colorbar": {
              "outlinewidth": 0,
              "ticks": ""
             }
            },
            "type": "parcoords"
           }
          ],
          "pie": [
           {
            "automargin": true,
            "type": "pie"
           }
          ],
          "scatter": [
           {
            "fillpattern": {
             "fillmode": "overlay",
             "size": 10,
             "solidity": 0.2
            },
            "type": "scatter"
           }
          ],
          "scatter3d": [
           {
            "line": {
             "colorbar": {
              "outlinewidth": 0,
              "ticks": ""
             }
            },
            "marker": {
             "colorbar": {
              "outlinewidth": 0,
              "ticks": ""
             }
            },
            "type": "scatter3d"
           }
          ],
          "scattercarpet": [
           {
            "marker": {
             "colorbar": {
              "outlinewidth": 0,
              "ticks": ""
             }
            },
            "type": "scattercarpet"
           }
          ],
          "scattergeo": [
           {
            "marker": {
             "colorbar": {
              "outlinewidth": 0,
              "ticks": ""
             }
            },
            "type": "scattergeo"
           }
          ],
          "scattergl": [
           {
            "marker": {
             "colorbar": {
              "outlinewidth": 0,
              "ticks": ""
             }
            },
            "type": "scattergl"
           }
          ],
          "scattermap": [
           {
            "marker": {
             "colorbar": {
              "outlinewidth": 0,
              "ticks": ""
             }
            },
            "type": "scattermap"
           }
          ],
          "scattermapbox": [
           {
            "marker": {
             "colorbar": {
              "outlinewidth": 0,
              "ticks": ""
             }
            },
            "type": "scattermapbox"
           }
          ],
          "scatterpolar": [
           {
            "marker": {
             "colorbar": {
              "outlinewidth": 0,
              "ticks": ""
             }
            },
            "type": "scatterpolar"
           }
          ],
          "scatterpolargl": [
           {
            "marker": {
             "colorbar": {
              "outlinewidth": 0,
              "ticks": ""
             }
            },
            "type": "scatterpolargl"
           }
          ],
          "scatterternary": [
           {
            "marker": {
             "colorbar": {
              "outlinewidth": 0,
              "ticks": ""
             }
            },
            "type": "scatterternary"
           }
          ],
          "surface": [
           {
            "colorbar": {
             "outlinewidth": 0,
             "ticks": ""
            },
            "colorscale": [
             [
              0,
              "#0d0887"
             ],
             [
              0.1111111111111111,
              "#46039f"
             ],
             [
              0.2222222222222222,
              "#7201a8"
             ],
             [
              0.3333333333333333,
              "#9c179e"
             ],
             [
              0.4444444444444444,
              "#bd3786"
             ],
             [
              0.5555555555555556,
              "#d8576b"
             ],
             [
              0.6666666666666666,
              "#ed7953"
             ],
             [
              0.7777777777777778,
              "#fb9f3a"
             ],
             [
              0.8888888888888888,
              "#fdca26"
             ],
             [
              1,
              "#f0f921"
             ]
            ],
            "type": "surface"
           }
          ],
          "table": [
           {
            "cells": {
             "fill": {
              "color": "#EBF0F8"
             },
             "line": {
              "color": "white"
             }
            },
            "header": {
             "fill": {
              "color": "#C8D4E3"
             },
             "line": {
              "color": "white"
             }
            },
            "type": "table"
           }
          ]
         },
         "layout": {
          "annotationdefaults": {
           "arrowcolor": "#2a3f5f",
           "arrowhead": 0,
           "arrowwidth": 1
          },
          "autotypenumbers": "strict",
          "coloraxis": {
           "colorbar": {
            "outlinewidth": 0,
            "ticks": ""
           }
          },
          "colorscale": {
           "diverging": [
            [
             0,
             "#8e0152"
            ],
            [
             0.1,
             "#c51b7d"
            ],
            [
             0.2,
             "#de77ae"
            ],
            [
             0.3,
             "#f1b6da"
            ],
            [
             0.4,
             "#fde0ef"
            ],
            [
             0.5,
             "#f7f7f7"
            ],
            [
             0.6,
             "#e6f5d0"
            ],
            [
             0.7,
             "#b8e186"
            ],
            [
             0.8,
             "#7fbc41"
            ],
            [
             0.9,
             "#4d9221"
            ],
            [
             1,
             "#276419"
            ]
           ],
           "sequential": [
            [
             0,
             "#0d0887"
            ],
            [
             0.1111111111111111,
             "#46039f"
            ],
            [
             0.2222222222222222,
             "#7201a8"
            ],
            [
             0.3333333333333333,
             "#9c179e"
            ],
            [
             0.4444444444444444,
             "#bd3786"
            ],
            [
             0.5555555555555556,
             "#d8576b"
            ],
            [
             0.6666666666666666,
             "#ed7953"
            ],
            [
             0.7777777777777778,
             "#fb9f3a"
            ],
            [
             0.8888888888888888,
             "#fdca26"
            ],
            [
             1,
             "#f0f921"
            ]
           ],
           "sequentialminus": [
            [
             0,
             "#0d0887"
            ],
            [
             0.1111111111111111,
             "#46039f"
            ],
            [
             0.2222222222222222,
             "#7201a8"
            ],
            [
             0.3333333333333333,
             "#9c179e"
            ],
            [
             0.4444444444444444,
             "#bd3786"
            ],
            [
             0.5555555555555556,
             "#d8576b"
            ],
            [
             0.6666666666666666,
             "#ed7953"
            ],
            [
             0.7777777777777778,
             "#fb9f3a"
            ],
            [
             0.8888888888888888,
             "#fdca26"
            ],
            [
             1,
             "#f0f921"
            ]
           ]
          },
          "colorway": [
           "#636efa",
           "#EF553B",
           "#00cc96",
           "#ab63fa",
           "#FFA15A",
           "#19d3f3",
           "#FF6692",
           "#B6E880",
           "#FF97FF",
           "#FECB52"
          ],
          "font": {
           "color": "#2a3f5f"
          },
          "geo": {
           "bgcolor": "white",
           "lakecolor": "white",
           "landcolor": "#E5ECF6",
           "showlakes": true,
           "showland": true,
           "subunitcolor": "white"
          },
          "hoverlabel": {
           "align": "left"
          },
          "hovermode": "closest",
          "mapbox": {
           "style": "light"
          },
          "paper_bgcolor": "white",
          "plot_bgcolor": "#E5ECF6",
          "polar": {
           "angularaxis": {
            "gridcolor": "white",
            "linecolor": "white",
            "ticks": ""
           },
           "bgcolor": "#E5ECF6",
           "radialaxis": {
            "gridcolor": "white",
            "linecolor": "white",
            "ticks": ""
           }
          },
          "scene": {
           "xaxis": {
            "backgroundcolor": "#E5ECF6",
            "gridcolor": "white",
            "gridwidth": 2,
            "linecolor": "white",
            "showbackground": true,
            "ticks": "",
            "zerolinecolor": "white"
           },
           "yaxis": {
            "backgroundcolor": "#E5ECF6",
            "gridcolor": "white",
            "gridwidth": 2,
            "linecolor": "white",
            "showbackground": true,
            "ticks": "",
            "zerolinecolor": "white"
           },
           "zaxis": {
            "backgroundcolor": "#E5ECF6",
            "gridcolor": "white",
            "gridwidth": 2,
            "linecolor": "white",
            "showbackground": true,
            "ticks": "",
            "zerolinecolor": "white"
           }
          },
          "shapedefaults": {
           "line": {
            "color": "#2a3f5f"
           }
          },
          "ternary": {
           "aaxis": {
            "gridcolor": "white",
            "linecolor": "white",
            "ticks": ""
           },
           "baxis": {
            "gridcolor": "white",
            "linecolor": "white",
            "ticks": ""
           },
           "bgcolor": "#E5ECF6",
           "caxis": {
            "gridcolor": "white",
            "linecolor": "white",
            "ticks": ""
           }
          },
          "title": {
           "x": 0.05
          },
          "xaxis": {
           "automargin": true,
           "gridcolor": "white",
           "linecolor": "white",
           "ticks": "",
           "title": {
            "standoff": 15
           },
           "zerolinecolor": "white",
           "zerolinewidth": 2
          },
          "yaxis": {
           "automargin": true,
           "gridcolor": "white",
           "linecolor": "white",
           "ticks": "",
           "title": {
            "standoff": 15
           },
           "zerolinecolor": "white",
           "zerolinewidth": 2
          }
         }
        },
        "title": {
         "font": {
          "size": 15,
          "weight": "bold"
         },
         "text": "Concursos por provincia",
         "x": 0.5
        },
        "width": 800,
        "xaxis": {
         "anchor": "y",
         "domain": [
          0,
          1
         ],
         "title": {
          "font": {
           "size": 12,
           "weight": "bold"
          },
          "text": "Provincia"
         }
        },
        "yaxis": {
         "anchor": "x",
         "domain": [
          0,
          1
         ],
         "title": {
          "font": {
           "size": 12,
           "weight": "bold"
          },
          "text": "Nº concursos"
         }
        }
       }
      }
     },
     "metadata": {},
     "output_type": "display_data"
    }
   ],
   "source": [
    "# Convert concursos_provincias to DataFrame for plotting\n",
    "df_provincias = pd.DataFrame(concursos_provincias, columns=['Provincia', 'Nº concursos'])\n",
    "\n",
    "fig = px.bar(df_provincias, x='Provincia', y='Nº concursos', title = \"Concursos por provincia\")\n",
    "fig.update_layout(\n",
    "    width=800, \n",
    "    height=400,\n",
    "    title_font=dict(size = 15, weight='bold'),\n",
    "    title_x=0.5,\n",
    "    xaxis_title=dict(text='Provincia', font=dict(size = 12, weight='bold')),\n",
    "    yaxis_title=dict(text='Nº concursos', font=dict(size = 12, weight='bold')),\n",
    "    plot_bgcolor='white'\n",
    ")\n",
    "fig.show()"
   ]
  },
  {
   "cell_type": "code",
   "execution_count": null,
   "id": "998f3132",
   "metadata": {},
   "outputs": [],
   "source": [
    "localidades = ejecutor_querys(cur, query_concursos_localidad)"
   ]
  },
  {
   "cell_type": "code",
   "execution_count": null,
   "id": "fde03789",
   "metadata": {},
   "outputs": [
    {
     "data": {
      "text/html": [
       "<div>\n",
       "<style scoped>\n",
       "    .dataframe tbody tr th:only-of-type {\n",
       "        vertical-align: middle;\n",
       "    }\n",
       "\n",
       "    .dataframe tbody tr th {\n",
       "        vertical-align: top;\n",
       "    }\n",
       "\n",
       "    .dataframe thead th {\n",
       "        text-align: right;\n",
       "    }\n",
       "</style>\n",
       "<table border=\"1\" class=\"dataframe\">\n",
       "  <thead>\n",
       "    <tr style=\"text-align: right;\">\n",
       "      <th></th>\n",
       "      <th>0</th>\n",
       "      <th>1</th>\n",
       "    </tr>\n",
       "  </thead>\n",
       "  <tbody>\n",
       "    <tr>\n",
       "      <th>2</th>\n",
       "      <td>enero</td>\n",
       "      <td>27</td>\n",
       "    </tr>\n",
       "    <tr>\n",
       "      <th>0</th>\n",
       "      <td>febrero</td>\n",
       "      <td>41</td>\n",
       "    </tr>\n",
       "    <tr>\n",
       "      <th>1</th>\n",
       "      <td>marzo</td>\n",
       "      <td>33</td>\n",
       "    </tr>\n",
       "    <tr>\n",
       "      <th>3</th>\n",
       "      <td>abril</td>\n",
       "      <td>21</td>\n",
       "    </tr>\n",
       "  </tbody>\n",
       "</table>\n",
       "</div>"
      ],
      "text/plain": [
       "         0   1\n",
       "2    enero  27\n",
       "0  febrero  41\n",
       "1    marzo  33\n",
       "3    abril  21"
      ]
     },
     "execution_count": 17,
     "metadata": {},
     "output_type": "execute_result"
    }
   ],
   "source": [
    "df_mes = ejecutor_querys(cur, query_concursos_mes)\n",
    "df = pd.DataFrame(df_mes)\n",
    "df = df.sort_values(by=0, ascending=True)\n",
    "df[0] = df[0].apply(lambda x: meses[int(x)])\n",
    "df\n",
    "# cosita = pd.DataFrame(cosos)\n",
    "# pd.DataFrame(cosita.groupby(8)[0].count())"
   ]
  },
  {
   "cell_type": "code",
   "execution_count": null,
   "id": "44730b8c",
   "metadata": {},
   "outputs": [],
   "source": [
    "import plotly.graph_objects as go"
   ]
  },
  {
   "cell_type": "code",
   "execution_count": null,
   "id": "077c48dc",
   "metadata": {},
   "outputs": [
    {
     "data": {
      "application/vnd.plotly.v1+json": {
       "config": {
        "plotlyServerURL": "https://plot.ly"
       },
       "data": [
        {
         "hovertemplate": "0=%{x}<br>1=%{y}<extra></extra>",
         "legendgroup": "",
         "line": {
          "color": "#636efa",
          "dash": "solid"
         },
         "marker": {
          "symbol": "circle"
         },
         "mode": "lines",
         "name": "",
         "orientation": "v",
         "showlegend": false,
         "type": "scatter",
         "x": [
          "enero",
          "febrero",
          "marzo",
          "abril"
         ],
         "xaxis": "x",
         "y": {
          "bdata": "GykhFQ==",
          "dtype": "i1"
         },
         "yaxis": "y"
        },
        {
         "mode": "text",
         "showlegend": false,
         "text": {
          "bdata": "AAAAAAAAO0AAAAAAAIBEQAAAAAAAgEBAAAAAAAAANUA=",
          "dtype": "f8"
         },
         "textfont": {
          "weight": "bold"
         },
         "textposition": "top center",
         "type": "scatter",
         "x": [
          "enero",
          "febrero",
          "marzo",
          "abril"
         ],
         "y": {
          "bdata": "GykhFQ==",
          "dtype": "i1"
         }
        }
       ],
       "layout": {
        "legend": {
         "orientation": "h",
         "tracegroupgap": 0,
         "x": 1,
         "xanchor": "right",
         "y": 1.02,
         "yanchor": "bottom"
        },
        "plot_bgcolor": "white",
        "template": {
         "data": {
          "bar": [
           {
            "error_x": {
             "color": "#2a3f5f"
            },
            "error_y": {
             "color": "#2a3f5f"
            },
            "marker": {
             "line": {
              "color": "#E5ECF6",
              "width": 0.5
             },
             "pattern": {
              "fillmode": "overlay",
              "size": 10,
              "solidity": 0.2
             }
            },
            "type": "bar"
           }
          ],
          "barpolar": [
           {
            "marker": {
             "line": {
              "color": "#E5ECF6",
              "width": 0.5
             },
             "pattern": {
              "fillmode": "overlay",
              "size": 10,
              "solidity": 0.2
             }
            },
            "type": "barpolar"
           }
          ],
          "carpet": [
           {
            "aaxis": {
             "endlinecolor": "#2a3f5f",
             "gridcolor": "white",
             "linecolor": "white",
             "minorgridcolor": "white",
             "startlinecolor": "#2a3f5f"
            },
            "baxis": {
             "endlinecolor": "#2a3f5f",
             "gridcolor": "white",
             "linecolor": "white",
             "minorgridcolor": "white",
             "startlinecolor": "#2a3f5f"
            },
            "type": "carpet"
           }
          ],
          "choropleth": [
           {
            "colorbar": {
             "outlinewidth": 0,
             "ticks": ""
            },
            "type": "choropleth"
           }
          ],
          "contour": [
           {
            "colorbar": {
             "outlinewidth": 0,
             "ticks": ""
            },
            "colorscale": [
             [
              0,
              "#0d0887"
             ],
             [
              0.1111111111111111,
              "#46039f"
             ],
             [
              0.2222222222222222,
              "#7201a8"
             ],
             [
              0.3333333333333333,
              "#9c179e"
             ],
             [
              0.4444444444444444,
              "#bd3786"
             ],
             [
              0.5555555555555556,
              "#d8576b"
             ],
             [
              0.6666666666666666,
              "#ed7953"
             ],
             [
              0.7777777777777778,
              "#fb9f3a"
             ],
             [
              0.8888888888888888,
              "#fdca26"
             ],
             [
              1,
              "#f0f921"
             ]
            ],
            "type": "contour"
           }
          ],
          "contourcarpet": [
           {
            "colorbar": {
             "outlinewidth": 0,
             "ticks": ""
            },
            "type": "contourcarpet"
           }
          ],
          "heatmap": [
           {
            "colorbar": {
             "outlinewidth": 0,
             "ticks": ""
            },
            "colorscale": [
             [
              0,
              "#0d0887"
             ],
             [
              0.1111111111111111,
              "#46039f"
             ],
             [
              0.2222222222222222,
              "#7201a8"
             ],
             [
              0.3333333333333333,
              "#9c179e"
             ],
             [
              0.4444444444444444,
              "#bd3786"
             ],
             [
              0.5555555555555556,
              "#d8576b"
             ],
             [
              0.6666666666666666,
              "#ed7953"
             ],
             [
              0.7777777777777778,
              "#fb9f3a"
             ],
             [
              0.8888888888888888,
              "#fdca26"
             ],
             [
              1,
              "#f0f921"
             ]
            ],
            "type": "heatmap"
           }
          ],
          "histogram": [
           {
            "marker": {
             "pattern": {
              "fillmode": "overlay",
              "size": 10,
              "solidity": 0.2
             }
            },
            "type": "histogram"
           }
          ],
          "histogram2d": [
           {
            "colorbar": {
             "outlinewidth": 0,
             "ticks": ""
            },
            "colorscale": [
             [
              0,
              "#0d0887"
             ],
             [
              0.1111111111111111,
              "#46039f"
             ],
             [
              0.2222222222222222,
              "#7201a8"
             ],
             [
              0.3333333333333333,
              "#9c179e"
             ],
             [
              0.4444444444444444,
              "#bd3786"
             ],
             [
              0.5555555555555556,
              "#d8576b"
             ],
             [
              0.6666666666666666,
              "#ed7953"
             ],
             [
              0.7777777777777778,
              "#fb9f3a"
             ],
             [
              0.8888888888888888,
              "#fdca26"
             ],
             [
              1,
              "#f0f921"
             ]
            ],
            "type": "histogram2d"
           }
          ],
          "histogram2dcontour": [
           {
            "colorbar": {
             "outlinewidth": 0,
             "ticks": ""
            },
            "colorscale": [
             [
              0,
              "#0d0887"
             ],
             [
              0.1111111111111111,
              "#46039f"
             ],
             [
              0.2222222222222222,
              "#7201a8"
             ],
             [
              0.3333333333333333,
              "#9c179e"
             ],
             [
              0.4444444444444444,
              "#bd3786"
             ],
             [
              0.5555555555555556,
              "#d8576b"
             ],
             [
              0.6666666666666666,
              "#ed7953"
             ],
             [
              0.7777777777777778,
              "#fb9f3a"
             ],
             [
              0.8888888888888888,
              "#fdca26"
             ],
             [
              1,
              "#f0f921"
             ]
            ],
            "type": "histogram2dcontour"
           }
          ],
          "mesh3d": [
           {
            "colorbar": {
             "outlinewidth": 0,
             "ticks": ""
            },
            "type": "mesh3d"
           }
          ],
          "parcoords": [
           {
            "line": {
             "colorbar": {
              "outlinewidth": 0,
              "ticks": ""
             }
            },
            "type": "parcoords"
           }
          ],
          "pie": [
           {
            "automargin": true,
            "type": "pie"
           }
          ],
          "scatter": [
           {
            "fillpattern": {
             "fillmode": "overlay",
             "size": 10,
             "solidity": 0.2
            },
            "type": "scatter"
           }
          ],
          "scatter3d": [
           {
            "line": {
             "colorbar": {
              "outlinewidth": 0,
              "ticks": ""
             }
            },
            "marker": {
             "colorbar": {
              "outlinewidth": 0,
              "ticks": ""
             }
            },
            "type": "scatter3d"
           }
          ],
          "scattercarpet": [
           {
            "marker": {
             "colorbar": {
              "outlinewidth": 0,
              "ticks": ""
             }
            },
            "type": "scattercarpet"
           }
          ],
          "scattergeo": [
           {
            "marker": {
             "colorbar": {
              "outlinewidth": 0,
              "ticks": ""
             }
            },
            "type": "scattergeo"
           }
          ],
          "scattergl": [
           {
            "marker": {
             "colorbar": {
              "outlinewidth": 0,
              "ticks": ""
             }
            },
            "type": "scattergl"
           }
          ],
          "scattermap": [
           {
            "marker": {
             "colorbar": {
              "outlinewidth": 0,
              "ticks": ""
             }
            },
            "type": "scattermap"
           }
          ],
          "scattermapbox": [
           {
            "marker": {
             "colorbar": {
              "outlinewidth": 0,
              "ticks": ""
             }
            },
            "type": "scattermapbox"
           }
          ],
          "scatterpolar": [
           {
            "marker": {
             "colorbar": {
              "outlinewidth": 0,
              "ticks": ""
             }
            },
            "type": "scatterpolar"
           }
          ],
          "scatterpolargl": [
           {
            "marker": {
             "colorbar": {
              "outlinewidth": 0,
              "ticks": ""
             }
            },
            "type": "scatterpolargl"
           }
          ],
          "scatterternary": [
           {
            "marker": {
             "colorbar": {
              "outlinewidth": 0,
              "ticks": ""
             }
            },
            "type": "scatterternary"
           }
          ],
          "surface": [
           {
            "colorbar": {
             "outlinewidth": 0,
             "ticks": ""
            },
            "colorscale": [
             [
              0,
              "#0d0887"
             ],
             [
              0.1111111111111111,
              "#46039f"
             ],
             [
              0.2222222222222222,
              "#7201a8"
             ],
             [
              0.3333333333333333,
              "#9c179e"
             ],
             [
              0.4444444444444444,
              "#bd3786"
             ],
             [
              0.5555555555555556,
              "#d8576b"
             ],
             [
              0.6666666666666666,
              "#ed7953"
             ],
             [
              0.7777777777777778,
              "#fb9f3a"
             ],
             [
              0.8888888888888888,
              "#fdca26"
             ],
             [
              1,
              "#f0f921"
             ]
            ],
            "type": "surface"
           }
          ],
          "table": [
           {
            "cells": {
             "fill": {
              "color": "#EBF0F8"
             },
             "line": {
              "color": "white"
             }
            },
            "header": {
             "fill": {
              "color": "#C8D4E3"
             },
             "line": {
              "color": "white"
             }
            },
            "type": "table"
           }
          ]
         },
         "layout": {
          "annotationdefaults": {
           "arrowcolor": "#2a3f5f",
           "arrowhead": 0,
           "arrowwidth": 1
          },
          "autotypenumbers": "strict",
          "coloraxis": {
           "colorbar": {
            "outlinewidth": 0,
            "ticks": ""
           }
          },
          "colorscale": {
           "diverging": [
            [
             0,
             "#8e0152"
            ],
            [
             0.1,
             "#c51b7d"
            ],
            [
             0.2,
             "#de77ae"
            ],
            [
             0.3,
             "#f1b6da"
            ],
            [
             0.4,
             "#fde0ef"
            ],
            [
             0.5,
             "#f7f7f7"
            ],
            [
             0.6,
             "#e6f5d0"
            ],
            [
             0.7,
             "#b8e186"
            ],
            [
             0.8,
             "#7fbc41"
            ],
            [
             0.9,
             "#4d9221"
            ],
            [
             1,
             "#276419"
            ]
           ],
           "sequential": [
            [
             0,
             "#0d0887"
            ],
            [
             0.1111111111111111,
             "#46039f"
            ],
            [
             0.2222222222222222,
             "#7201a8"
            ],
            [
             0.3333333333333333,
             "#9c179e"
            ],
            [
             0.4444444444444444,
             "#bd3786"
            ],
            [
             0.5555555555555556,
             "#d8576b"
            ],
            [
             0.6666666666666666,
             "#ed7953"
            ],
            [
             0.7777777777777778,
             "#fb9f3a"
            ],
            [
             0.8888888888888888,
             "#fdca26"
            ],
            [
             1,
             "#f0f921"
            ]
           ],
           "sequentialminus": [
            [
             0,
             "#0d0887"
            ],
            [
             0.1111111111111111,
             "#46039f"
            ],
            [
             0.2222222222222222,
             "#7201a8"
            ],
            [
             0.3333333333333333,
             "#9c179e"
            ],
            [
             0.4444444444444444,
             "#bd3786"
            ],
            [
             0.5555555555555556,
             "#d8576b"
            ],
            [
             0.6666666666666666,
             "#ed7953"
            ],
            [
             0.7777777777777778,
             "#fb9f3a"
            ],
            [
             0.8888888888888888,
             "#fdca26"
            ],
            [
             1,
             "#f0f921"
            ]
           ]
          },
          "colorway": [
           "#636efa",
           "#EF553B",
           "#00cc96",
           "#ab63fa",
           "#FFA15A",
           "#19d3f3",
           "#FF6692",
           "#B6E880",
           "#FF97FF",
           "#FECB52"
          ],
          "font": {
           "color": "#2a3f5f"
          },
          "geo": {
           "bgcolor": "white",
           "lakecolor": "white",
           "landcolor": "#E5ECF6",
           "showlakes": true,
           "showland": true,
           "subunitcolor": "white"
          },
          "hoverlabel": {
           "align": "left"
          },
          "hovermode": "closest",
          "mapbox": {
           "style": "light"
          },
          "paper_bgcolor": "white",
          "plot_bgcolor": "#E5ECF6",
          "polar": {
           "angularaxis": {
            "gridcolor": "white",
            "linecolor": "white",
            "ticks": ""
           },
           "bgcolor": "#E5ECF6",
           "radialaxis": {
            "gridcolor": "white",
            "linecolor": "white",
            "ticks": ""
           }
          },
          "scene": {
           "xaxis": {
            "backgroundcolor": "#E5ECF6",
            "gridcolor": "white",
            "gridwidth": 2,
            "linecolor": "white",
            "showbackground": true,
            "ticks": "",
            "zerolinecolor": "white"
           },
           "yaxis": {
            "backgroundcolor": "#E5ECF6",
            "gridcolor": "white",
            "gridwidth": 2,
            "linecolor": "white",
            "showbackground": true,
            "ticks": "",
            "zerolinecolor": "white"
           },
           "zaxis": {
            "backgroundcolor": "#E5ECF6",
            "gridcolor": "white",
            "gridwidth": 2,
            "linecolor": "white",
            "showbackground": true,
            "ticks": "",
            "zerolinecolor": "white"
           }
          },
          "shapedefaults": {
           "line": {
            "color": "#2a3f5f"
           }
          },
          "ternary": {
           "aaxis": {
            "gridcolor": "white",
            "linecolor": "white",
            "ticks": ""
           },
           "baxis": {
            "gridcolor": "white",
            "linecolor": "white",
            "ticks": ""
           },
           "bgcolor": "#E5ECF6",
           "caxis": {
            "gridcolor": "white",
            "linecolor": "white",
            "ticks": ""
           }
          },
          "title": {
           "x": 0.05
          },
          "xaxis": {
           "automargin": true,
           "gridcolor": "white",
           "linecolor": "white",
           "ticks": "",
           "title": {
            "standoff": 15
           },
           "zerolinecolor": "white",
           "zerolinewidth": 2
          },
          "yaxis": {
           "automargin": true,
           "gridcolor": "white",
           "linecolor": "white",
           "ticks": "",
           "title": {
            "standoff": 15
           },
           "zerolinecolor": "white",
           "zerolinewidth": 2
          }
         }
        },
        "title": {
         "font": {
          "size": 20,
          "weight": "bold"
         },
         "text": "Concursos por mes",
         "x": 0.45
        },
        "xaxis": {
         "anchor": "y",
         "domain": [
          0,
          1
         ],
         "title": {
          "font": {
           "weight": "bold"
          },
          "text": "Fecha"
         }
        },
        "yaxis": {
         "anchor": "x",
         "domain": [
          0,
          1
         ],
         "gridcolor": "lightgray",
         "showgrid": true,
         "showticklabels": false,
         "title": {
          "font": {
           "weight": "bold"
          },
          "text": "Valor"
         }
        }
       }
      }
     },
     "metadata": {},
     "output_type": "display_data"
    }
   ],
   "source": [
    "fig = px.line(df, x=0, y=1, title='Concursos por mes')\n",
    "fig.update_layout(\n",
    "    title_font=dict(size = 20, weight='bold'),\n",
    "    title_x=0.45,\n",
    "    xaxis_title=dict(text='Fecha', font=dict(weight='bold')),\n",
    "    yaxis_title=dict(text='Valor', font=dict(weight='bold')),\n",
    "    plot_bgcolor='white',\n",
    "    yaxis=dict(showgrid=True, gridcolor='lightgray', showticklabels=False),\n",
    "    # xaxis=dict(showline=True, tickfont=dict(weight='bold')),\n",
    "    legend=dict(orientation=\"h\", yanchor=\"bottom\", y=1.02, xanchor=\"right\", x=1)\n",
    ")\n",
    "x_data = fig.data[0]['x']\n",
    "y_data = fig.data[0]['y']\n",
    "\n",
    "# Añade una nueva traza con los números\n",
    "fig.add_trace(go.Scatter(x=x_data, y=y_data,\n",
    "                         mode='text',\n",
    "                         text=y_data,\n",
    "                         textposition=\"top center\",\n",
    "                         showlegend=False,\n",
    "                         textfont=dict(weight='bold')))\n",
    "fig.show()"
   ]
  },
  {
   "cell_type": "code",
   "execution_count": null,
   "id": "990d4675",
   "metadata": {},
   "outputs": [
    {
     "name": "stdout",
     "output_type": "stream",
     "text": [
      "\n",
      "      Se han celebrado un total de 122 concursos, entre el 2025-01-10 y el 2025-04-27. Un 73 % de los concursos han sido de \n",
      "      ámbito internacional, frente a los de ámbito nacional, que representan un 26 % del total. La duración media de los concursos \n",
      "      es de 3 días. \n",
      "\n",
      "      El mes que más concursos se han realizado ha sido febrero, con un total de 41 concursos, y el mes que menos concursos se han realizado ha sido el mes de abril, \n",
      "      con un total de 21 concursos. La provincia en la que más concursos se han realizado ha sido Valencia, y la provincia en la que menos se han realizado ha sido Córdoba.\n",
      "\n",
      "      De media en un concurso se realizan 13 pruebas. Nos encontramos con 14 tipos de pruebas diferentes, siendo las más comunes las siguientes: \n",
      "      - Baremo A con cronómetro\n",
      "      - Baremo A con cronómetro y desempate\n",
      "      - Dos fases, ambas con cronómetro\n",
      "      - Dos fases especial\n",
      "\n",
      "      de media \n",
      "\n",
      "      \n"
     ]
    }
   ],
   "source": [
    "n_concursos = ejecutor_querys(cur, query_n_concursos)\n",
    "fechas_concursos_25 = ejecutor_querys(cur, query_fechas_concursos)\n",
    "n_concursos_mes = ejecutor_querys(cur, query_concursos_mes)\n",
    "n_concursos_ambito= ejecutor_querys(cur, query_concursos_ambito)\n",
    "media_pruebas_concurso = ejecutor_querys(cur, query_concursos_pruebas_concurso)\n",
    "tipos_pruebas = ejecutor_querys(cur, query_pruebas)\n",
    "\n",
    "print(f\"\"\"\n",
    "      Se han celebrado un total de {n_concursos[0][0]} concursos, entre el {str(fechas_concursos_25[0][0])} y el {str(fechas_concursos_25[0][1])}. Un {n_concursos_ambito[0][1]} de los concursos han sido de \n",
    "      ámbito {str(n_concursos_ambito[0][0]).lower()}, frente a los de ámbito {str(n_concursos_ambito[1][0]).lower()}, que representan un {n_concursos_ambito[1][1]} del total. La duración media de los concursos \n",
    "      es de {int(ejecutor_querys(cur, query_duracion_concursos)[0][0])} días. \n",
    "      \n",
    "      El mes que más concursos se han realizado ha sido {meses[int(n_concursos_mes[0][0])]}, con un total de {n_concursos_mes[0][1]} concursos, y el mes que menos concursos se han realizado ha sido el mes de {meses[int(n_concursos_mes[-1][0])]}, \n",
    "      con un total de {n_concursos_mes[-1][1]} concursos. La provincia en la que más concursos se han realizado ha sido {concursos_provincias[0][0]}, y la provincia en la que menos se han realizado ha sido {concursos_provincias[-1][0]}.\n",
    "      \n",
    "      De media en un concurso se realizan {str(media_pruebas_concurso[0][0]).replace('.', ',')} pruebas. Nos encontramos con {len(tipos_pruebas)} tipos de pruebas diferentes, siendo las más comunes las siguientes: \n",
    "      - {prueba_norma[tipos_pruebas[0][0]]}\n",
    "      - {prueba_norma[tipos_pruebas[1][0]]}\n",
    "      - {prueba_norma[tipos_pruebas[2][0]]}\n",
    "      - {prueba_norma[tipos_pruebas[3][0]]}\n",
    "      \n",
    "      de media \n",
    "\n",
    "      \"\"\")\n",
    "\n"
   ]
  },
  {
   "cell_type": "code",
   "execution_count": null,
   "id": "5b95aecb",
   "metadata": {},
   "outputs": [
    {
     "data": {
      "text/html": [
       "<div>\n",
       "<style scoped>\n",
       "    .dataframe tbody tr th:only-of-type {\n",
       "        vertical-align: middle;\n",
       "    }\n",
       "\n",
       "    .dataframe tbody tr th {\n",
       "        vertical-align: top;\n",
       "    }\n",
       "\n",
       "    .dataframe thead th {\n",
       "        text-align: right;\n",
       "    }\n",
       "</style>\n",
       "<table border=\"1\" class=\"dataframe\">\n",
       "  <thead>\n",
       "    <tr style=\"text-align: right;\">\n",
       "      <th></th>\n",
       "      <th>id_concurso</th>\n",
       "      <th>nombre_concurso</th>\n",
       "      <th>categoria_concurso</th>\n",
       "      <th>pais_concurso</th>\n",
       "      <th>provincia_concurso</th>\n",
       "      <th>localidad_concurso</th>\n",
       "      <th>ambito_concurso</th>\n",
       "      <th>federacion_concurso</th>\n",
       "      <th>fecha_inicio_concurso</th>\n",
       "      <th>fecha_fin_concurso</th>\n",
       "    </tr>\n",
       "  </thead>\n",
       "  <tbody>\n",
       "    <tr>\n",
       "      <th>0</th>\n",
       "      <td>1</td>\n",
       "      <td>CSN3* Invierno</td>\n",
       "      <td>CSN***</td>\n",
       "      <td>Epaña</td>\n",
       "      <td>Sevilla</td>\n",
       "      <td>Real Club Pineda</td>\n",
       "      <td>Nacional</td>\n",
       "      <td>Federación Hípica Andaluza</td>\n",
       "      <td>2025-01-10</td>\n",
       "      <td>2025-01-12</td>\n",
       "    </tr>\n",
       "    <tr>\n",
       "      <th>1</th>\n",
       "      <td>2</td>\n",
       "      <td>SPRING MET I 2025 YH*</td>\n",
       "      <td>CSI YH*</td>\n",
       "      <td>Epaña</td>\n",
       "      <td>Valencia</td>\n",
       "      <td>Centro Ecuestre Oliva Nova</td>\n",
       "      <td>Internacional</td>\n",
       "      <td>Federación Hípica Comunidad Valenciana</td>\n",
       "      <td>2025-01-14</td>\n",
       "      <td>2025-01-16</td>\n",
       "    </tr>\n",
       "    <tr>\n",
       "      <th>2</th>\n",
       "      <td>3</td>\n",
       "      <td>MOURA TOURS VALENCIA - SPRING TOUR</td>\n",
       "      <td>CSI*</td>\n",
       "      <td>Epaña</td>\n",
       "      <td>Valencia</td>\n",
       "      <td>Moura Tours</td>\n",
       "      <td>Internacional</td>\n",
       "      <td>Federación Hípica Comunidad Valenciana</td>\n",
       "      <td>2025-01-20</td>\n",
       "      <td>2025-01-26</td>\n",
       "    </tr>\n",
       "    <tr>\n",
       "      <th>3</th>\n",
       "      <td>4</td>\n",
       "      <td>SPRING MET I 2025 - SILVER 1*</td>\n",
       "      <td>CSI*</td>\n",
       "      <td>Epaña</td>\n",
       "      <td>Valencia</td>\n",
       "      <td>Centro Ecuestre Oliva Nova</td>\n",
       "      <td>Internacional</td>\n",
       "      <td>Federación Hípica Comunidad Valenciana</td>\n",
       "      <td>2025-01-16</td>\n",
       "      <td>2025-01-18</td>\n",
       "    </tr>\n",
       "    <tr>\n",
       "      <th>4</th>\n",
       "      <td>5</td>\n",
       "      <td>SPRING MET I 2025 - GOLD 2*</td>\n",
       "      <td>CSI**</td>\n",
       "      <td>Epaña</td>\n",
       "      <td>Valencia</td>\n",
       "      <td>Centro Ecuestre Oliva Nova</td>\n",
       "      <td>Internacional</td>\n",
       "      <td>Federación Hípica Comunidad Valenciana</td>\n",
       "      <td>2025-01-16</td>\n",
       "      <td>2025-01-19</td>\n",
       "    </tr>\n",
       "  </tbody>\n",
       "</table>\n",
       "</div>"
      ],
      "text/plain": [
       "   id_concurso                     nombre_concurso categoria_concurso  \\\n",
       "0            1                      CSN3* Invierno             CSN***   \n",
       "1            2               SPRING MET I 2025 YH*            CSI YH*   \n",
       "2            3  MOURA TOURS VALENCIA - SPRING TOUR               CSI*   \n",
       "3            4       SPRING MET I 2025 - SILVER 1*               CSI*   \n",
       "4            5         SPRING MET I 2025 - GOLD 2*              CSI**   \n",
       "\n",
       "  pais_concurso provincia_concurso          localidad_concurso  \\\n",
       "0         Epaña            Sevilla            Real Club Pineda   \n",
       "1         Epaña           Valencia  Centro Ecuestre Oliva Nova   \n",
       "2         Epaña           Valencia                 Moura Tours   \n",
       "3         Epaña           Valencia  Centro Ecuestre Oliva Nova   \n",
       "4         Epaña           Valencia  Centro Ecuestre Oliva Nova   \n",
       "\n",
       "  ambito_concurso                     federacion_concurso  \\\n",
       "0        Nacional              Federación Hípica Andaluza   \n",
       "1   Internacional  Federación Hípica Comunidad Valenciana   \n",
       "2   Internacional  Federación Hípica Comunidad Valenciana   \n",
       "3   Internacional  Federación Hípica Comunidad Valenciana   \n",
       "4   Internacional  Federación Hípica Comunidad Valenciana   \n",
       "\n",
       "  fecha_inicio_concurso fecha_fin_concurso  \n",
       "0            2025-01-10         2025-01-12  \n",
       "1            2025-01-14         2025-01-16  \n",
       "2            2025-01-20         2025-01-26  \n",
       "3            2025-01-16         2025-01-18  \n",
       "4            2025-01-16         2025-01-19  "
      ]
     },
     "execution_count": 21,
     "metadata": {},
     "output_type": "execute_result"
    }
   ],
   "source": [
    "concursos = pd.DataFrame(ejecutor_querys(cur, query_concursos_completos)).rename(columns = {0: \"id_concurso\", 1: \"nombre_concurso\", 2: \"categoria_concurso\", 3: \"pais_concurso\", 4: \"provincia_concurso\", 5: \"localidad_concurso\", 6: \"ambito_concurso\", 7: \"federacion_concurso\", 8: \"fecha_inicio_concurso\", 9: \"fecha_fin_concurso\"})\n",
    "concursos.head()"
   ]
  },
  {
   "cell_type": "code",
   "execution_count": null,
   "id": "02bd568c",
   "metadata": {},
   "outputs": [
    {
     "data": {
      "application/vnd.plotly.v1+json": {
       "config": {
        "plotlyServerURL": "https://plot.ly"
       },
       "data": [
        {
         "domain": {
          "x": [
           0,
           1
          ],
          "y": [
           0,
           1
          ]
         },
         "hovertemplate": "0=%{label}<br>1=%{value}<extra></extra>",
         "labels": [
          "Internacional",
          "Nacional"
         ],
         "legendgroup": "",
         "name": "",
         "showlegend": true,
         "textfont": {
          "color": "white"
         },
         "textinfo": "percent",
         "type": "pie",
         "values": {
          "bdata": "SRo=",
          "dtype": "i1"
         }
        }
       ],
       "layout": {
        "height": 400,
        "legend": {
         "tracegroupgap": 0
        },
        "piecolorway": [
         "#4c78a8",
         "#54a24b"
        ],
        "template": {
         "data": {
          "bar": [
           {
            "error_x": {
             "color": "#2a3f5f"
            },
            "error_y": {
             "color": "#2a3f5f"
            },
            "marker": {
             "line": {
              "color": "#E5ECF6",
              "width": 0.5
             },
             "pattern": {
              "fillmode": "overlay",
              "size": 10,
              "solidity": 0.2
             }
            },
            "type": "bar"
           }
          ],
          "barpolar": [
           {
            "marker": {
             "line": {
              "color": "#E5ECF6",
              "width": 0.5
             },
             "pattern": {
              "fillmode": "overlay",
              "size": 10,
              "solidity": 0.2
             }
            },
            "type": "barpolar"
           }
          ],
          "carpet": [
           {
            "aaxis": {
             "endlinecolor": "#2a3f5f",
             "gridcolor": "white",
             "linecolor": "white",
             "minorgridcolor": "white",
             "startlinecolor": "#2a3f5f"
            },
            "baxis": {
             "endlinecolor": "#2a3f5f",
             "gridcolor": "white",
             "linecolor": "white",
             "minorgridcolor": "white",
             "startlinecolor": "#2a3f5f"
            },
            "type": "carpet"
           }
          ],
          "choropleth": [
           {
            "colorbar": {
             "outlinewidth": 0,
             "ticks": ""
            },
            "type": "choropleth"
           }
          ],
          "contour": [
           {
            "colorbar": {
             "outlinewidth": 0,
             "ticks": ""
            },
            "colorscale": [
             [
              0,
              "#0d0887"
             ],
             [
              0.1111111111111111,
              "#46039f"
             ],
             [
              0.2222222222222222,
              "#7201a8"
             ],
             [
              0.3333333333333333,
              "#9c179e"
             ],
             [
              0.4444444444444444,
              "#bd3786"
             ],
             [
              0.5555555555555556,
              "#d8576b"
             ],
             [
              0.6666666666666666,
              "#ed7953"
             ],
             [
              0.7777777777777778,
              "#fb9f3a"
             ],
             [
              0.8888888888888888,
              "#fdca26"
             ],
             [
              1,
              "#f0f921"
             ]
            ],
            "type": "contour"
           }
          ],
          "contourcarpet": [
           {
            "colorbar": {
             "outlinewidth": 0,
             "ticks": ""
            },
            "type": "contourcarpet"
           }
          ],
          "heatmap": [
           {
            "colorbar": {
             "outlinewidth": 0,
             "ticks": ""
            },
            "colorscale": [
             [
              0,
              "#0d0887"
             ],
             [
              0.1111111111111111,
              "#46039f"
             ],
             [
              0.2222222222222222,
              "#7201a8"
             ],
             [
              0.3333333333333333,
              "#9c179e"
             ],
             [
              0.4444444444444444,
              "#bd3786"
             ],
             [
              0.5555555555555556,
              "#d8576b"
             ],
             [
              0.6666666666666666,
              "#ed7953"
             ],
             [
              0.7777777777777778,
              "#fb9f3a"
             ],
             [
              0.8888888888888888,
              "#fdca26"
             ],
             [
              1,
              "#f0f921"
             ]
            ],
            "type": "heatmap"
           }
          ],
          "histogram": [
           {
            "marker": {
             "pattern": {
              "fillmode": "overlay",
              "size": 10,
              "solidity": 0.2
             }
            },
            "type": "histogram"
           }
          ],
          "histogram2d": [
           {
            "colorbar": {
             "outlinewidth": 0,
             "ticks": ""
            },
            "colorscale": [
             [
              0,
              "#0d0887"
             ],
             [
              0.1111111111111111,
              "#46039f"
             ],
             [
              0.2222222222222222,
              "#7201a8"
             ],
             [
              0.3333333333333333,
              "#9c179e"
             ],
             [
              0.4444444444444444,
              "#bd3786"
             ],
             [
              0.5555555555555556,
              "#d8576b"
             ],
             [
              0.6666666666666666,
              "#ed7953"
             ],
             [
              0.7777777777777778,
              "#fb9f3a"
             ],
             [
              0.8888888888888888,
              "#fdca26"
             ],
             [
              1,
              "#f0f921"
             ]
            ],
            "type": "histogram2d"
           }
          ],
          "histogram2dcontour": [
           {
            "colorbar": {
             "outlinewidth": 0,
             "ticks": ""
            },
            "colorscale": [
             [
              0,
              "#0d0887"
             ],
             [
              0.1111111111111111,
              "#46039f"
             ],
             [
              0.2222222222222222,
              "#7201a8"
             ],
             [
              0.3333333333333333,
              "#9c179e"
             ],
             [
              0.4444444444444444,
              "#bd3786"
             ],
             [
              0.5555555555555556,
              "#d8576b"
             ],
             [
              0.6666666666666666,
              "#ed7953"
             ],
             [
              0.7777777777777778,
              "#fb9f3a"
             ],
             [
              0.8888888888888888,
              "#fdca26"
             ],
             [
              1,
              "#f0f921"
             ]
            ],
            "type": "histogram2dcontour"
           }
          ],
          "mesh3d": [
           {
            "colorbar": {
             "outlinewidth": 0,
             "ticks": ""
            },
            "type": "mesh3d"
           }
          ],
          "parcoords": [
           {
            "line": {
             "colorbar": {
              "outlinewidth": 0,
              "ticks": ""
             }
            },
            "type": "parcoords"
           }
          ],
          "pie": [
           {
            "automargin": true,
            "type": "pie"
           }
          ],
          "scatter": [
           {
            "fillpattern": {
             "fillmode": "overlay",
             "size": 10,
             "solidity": 0.2
            },
            "type": "scatter"
           }
          ],
          "scatter3d": [
           {
            "line": {
             "colorbar": {
              "outlinewidth": 0,
              "ticks": ""
             }
            },
            "marker": {
             "colorbar": {
              "outlinewidth": 0,
              "ticks": ""
             }
            },
            "type": "scatter3d"
           }
          ],
          "scattercarpet": [
           {
            "marker": {
             "colorbar": {
              "outlinewidth": 0,
              "ticks": ""
             }
            },
            "type": "scattercarpet"
           }
          ],
          "scattergeo": [
           {
            "marker": {
             "colorbar": {
              "outlinewidth": 0,
              "ticks": ""
             }
            },
            "type": "scattergeo"
           }
          ],
          "scattergl": [
           {
            "marker": {
             "colorbar": {
              "outlinewidth": 0,
              "ticks": ""
             }
            },
            "type": "scattergl"
           }
          ],
          "scattermap": [
           {
            "marker": {
             "colorbar": {
              "outlinewidth": 0,
              "ticks": ""
             }
            },
            "type": "scattermap"
           }
          ],
          "scattermapbox": [
           {
            "marker": {
             "colorbar": {
              "outlinewidth": 0,
              "ticks": ""
             }
            },
            "type": "scattermapbox"
           }
          ],
          "scatterpolar": [
           {
            "marker": {
             "colorbar": {
              "outlinewidth": 0,
              "ticks": ""
             }
            },
            "type": "scatterpolar"
           }
          ],
          "scatterpolargl": [
           {
            "marker": {
             "colorbar": {
              "outlinewidth": 0,
              "ticks": ""
             }
            },
            "type": "scatterpolargl"
           }
          ],
          "scatterternary": [
           {
            "marker": {
             "colorbar": {
              "outlinewidth": 0,
              "ticks": ""
             }
            },
            "type": "scatterternary"
           }
          ],
          "surface": [
           {
            "colorbar": {
             "outlinewidth": 0,
             "ticks": ""
            },
            "colorscale": [
             [
              0,
              "#0d0887"
             ],
             [
              0.1111111111111111,
              "#46039f"
             ],
             [
              0.2222222222222222,
              "#7201a8"
             ],
             [
              0.3333333333333333,
              "#9c179e"
             ],
             [
              0.4444444444444444,
              "#bd3786"
             ],
             [
              0.5555555555555556,
              "#d8576b"
             ],
             [
              0.6666666666666666,
              "#ed7953"
             ],
             [
              0.7777777777777778,
              "#fb9f3a"
             ],
             [
              0.8888888888888888,
              "#fdca26"
             ],
             [
              1,
              "#f0f921"
             ]
            ],
            "type": "surface"
           }
          ],
          "table": [
           {
            "cells": {
             "fill": {
              "color": "#EBF0F8"
             },
             "line": {
              "color": "white"
             }
            },
            "header": {
             "fill": {
              "color": "#C8D4E3"
             },
             "line": {
              "color": "white"
             }
            },
            "type": "table"
           }
          ]
         },
         "layout": {
          "annotationdefaults": {
           "arrowcolor": "#2a3f5f",
           "arrowhead": 0,
           "arrowwidth": 1
          },
          "autotypenumbers": "strict",
          "coloraxis": {
           "colorbar": {
            "outlinewidth": 0,
            "ticks": ""
           }
          },
          "colorscale": {
           "diverging": [
            [
             0,
             "#8e0152"
            ],
            [
             0.1,
             "#c51b7d"
            ],
            [
             0.2,
             "#de77ae"
            ],
            [
             0.3,
             "#f1b6da"
            ],
            [
             0.4,
             "#fde0ef"
            ],
            [
             0.5,
             "#f7f7f7"
            ],
            [
             0.6,
             "#e6f5d0"
            ],
            [
             0.7,
             "#b8e186"
            ],
            [
             0.8,
             "#7fbc41"
            ],
            [
             0.9,
             "#4d9221"
            ],
            [
             1,
             "#276419"
            ]
           ],
           "sequential": [
            [
             0,
             "#0d0887"
            ],
            [
             0.1111111111111111,
             "#46039f"
            ],
            [
             0.2222222222222222,
             "#7201a8"
            ],
            [
             0.3333333333333333,
             "#9c179e"
            ],
            [
             0.4444444444444444,
             "#bd3786"
            ],
            [
             0.5555555555555556,
             "#d8576b"
            ],
            [
             0.6666666666666666,
             "#ed7953"
            ],
            [
             0.7777777777777778,
             "#fb9f3a"
            ],
            [
             0.8888888888888888,
             "#fdca26"
            ],
            [
             1,
             "#f0f921"
            ]
           ],
           "sequentialminus": [
            [
             0,
             "#0d0887"
            ],
            [
             0.1111111111111111,
             "#46039f"
            ],
            [
             0.2222222222222222,
             "#7201a8"
            ],
            [
             0.3333333333333333,
             "#9c179e"
            ],
            [
             0.4444444444444444,
             "#bd3786"
            ],
            [
             0.5555555555555556,
             "#d8576b"
            ],
            [
             0.6666666666666666,
             "#ed7953"
            ],
            [
             0.7777777777777778,
             "#fb9f3a"
            ],
            [
             0.8888888888888888,
             "#fdca26"
            ],
            [
             1,
             "#f0f921"
            ]
           ]
          },
          "colorway": [
           "#636efa",
           "#EF553B",
           "#00cc96",
           "#ab63fa",
           "#FFA15A",
           "#19d3f3",
           "#FF6692",
           "#B6E880",
           "#FF97FF",
           "#FECB52"
          ],
          "font": {
           "color": "#2a3f5f"
          },
          "geo": {
           "bgcolor": "white",
           "lakecolor": "white",
           "landcolor": "#E5ECF6",
           "showlakes": true,
           "showland": true,
           "subunitcolor": "white"
          },
          "hoverlabel": {
           "align": "left"
          },
          "hovermode": "closest",
          "mapbox": {
           "style": "light"
          },
          "paper_bgcolor": "white",
          "plot_bgcolor": "#E5ECF6",
          "polar": {
           "angularaxis": {
            "gridcolor": "white",
            "linecolor": "white",
            "ticks": ""
           },
           "bgcolor": "#E5ECF6",
           "radialaxis": {
            "gridcolor": "white",
            "linecolor": "white",
            "ticks": ""
           }
          },
          "scene": {
           "xaxis": {
            "backgroundcolor": "#E5ECF6",
            "gridcolor": "white",
            "gridwidth": 2,
            "linecolor": "white",
            "showbackground": true,
            "ticks": "",
            "zerolinecolor": "white"
           },
           "yaxis": {
            "backgroundcolor": "#E5ECF6",
            "gridcolor": "white",
            "gridwidth": 2,
            "linecolor": "white",
            "showbackground": true,
            "ticks": "",
            "zerolinecolor": "white"
           },
           "zaxis": {
            "backgroundcolor": "#E5ECF6",
            "gridcolor": "white",
            "gridwidth": 2,
            "linecolor": "white",
            "showbackground": true,
            "ticks": "",
            "zerolinecolor": "white"
           }
          },
          "shapedefaults": {
           "line": {
            "color": "#2a3f5f"
           }
          },
          "ternary": {
           "aaxis": {
            "gridcolor": "white",
            "linecolor": "white",
            "ticks": ""
           },
           "baxis": {
            "gridcolor": "white",
            "linecolor": "white",
            "ticks": ""
           },
           "bgcolor": "#E5ECF6",
           "caxis": {
            "gridcolor": "white",
            "linecolor": "white",
            "ticks": ""
           }
          },
          "title": {
           "x": 0.05
          },
          "xaxis": {
           "automargin": true,
           "gridcolor": "white",
           "linecolor": "white",
           "ticks": "",
           "title": {
            "standoff": 15
           },
           "zerolinecolor": "white",
           "zerolinewidth": 2
          },
          "yaxis": {
           "automargin": true,
           "gridcolor": "white",
           "linecolor": "white",
           "ticks": "",
           "title": {
            "standoff": 15
           },
           "zerolinecolor": "white",
           "zerolinewidth": 2
          }
         }
        },
        "title": {
         "font": {
          "size": 16,
          "weight": "bold"
         },
         "text": "Porcentaje de concursos por ámbito",
         "x": 0.5
        },
        "width": 600
       }
      }
     },
     "metadata": {},
     "output_type": "display_data"
    }
   ],
   "source": [
    "df = pd.DataFrame(n_concursos_ambito)\n",
    "# Convert percentage strings to integers\n",
    "df[1] = df[1].str.replace('%', '').str.strip().astype(int)\n",
    "colores = ['#4c78a8', '#54a24b']\n",
    "fig = px.pie(df, values=1, names=0, title='Porcentaje de concursos por ámbito', color_discrete_sequence=colores)\n",
    "fig.update_traces(textinfo='percent', textfont_color='white')\n",
    "fig.update_layout(width=600, height=400, title_x=0.5, title_font=dict(size = 16, weight='bold'))\n",
    "fig.write_image(\"concursos_por_ambito.png\")\n",
    "fig.show()"
   ]
  },
  {
   "cell_type": "code",
   "execution_count": null,
   "id": "adf195a7",
   "metadata": {},
   "outputs": [
    {
     "data": {
      "text/plain": [
       "{'Asturias': ['Club Hipico Astur'],\n",
       " 'Barcelona': ['Real Club De Polo De Barcelona', 'Open Sports Club'],\n",
       " 'Cantabria': ['Heras Horses & Events'],\n",
       " 'Cádiz': ['Dehesa Montenmedio'],\n",
       " 'Córdoba': ['Palma Del Rio'],\n",
       " 'Granada': ['Granada'],\n",
       " 'Madrid': ['Club Hipico Las Cadenas',\n",
       "  'R.A.C.E.',\n",
       "  'Las Cadenas',\n",
       "  'R.S.H.E.C.C.'],\n",
       " 'Murcia': ['Club Aros'],\n",
       " 'Segovia': ['Cenro Ecuestre De Castilla Y León'],\n",
       " 'Sevilla': ['Real Club Pineda'],\n",
       " 'Tenerife': ['C.H Nueva Atalaya', 'C.H. Del Sur Los Migueles'],\n",
       " 'Valencia': ['Centro Ecuestre Oliva Nova',\n",
       "  'Moura Tours',\n",
       "  'Ceon',\n",
       "  'Mouratours Valencia',\n",
       "  'Mouratours'],\n",
       " 'Zamora': ['Equus Duri']}"
      ]
     },
     "execution_count": 23,
     "metadata": {},
     "output_type": "execute_result"
    }
   ],
   "source": [
    "# Suponiendo que tu DataFrame se llama df\n",
    "diccionario = concursos.groupby('provincia_concurso')['localidad_concurso'].unique().apply(list).to_dict()\n",
    "diccionario"
   ]
  },
  {
   "cell_type": "code",
   "execution_count": null,
   "id": "fd4c3925",
   "metadata": {},
   "outputs": [
    {
     "data": {
      "text/html": [
       "<div>\n",
       "<style scoped>\n",
       "    .dataframe tbody tr th:only-of-type {\n",
       "        vertical-align: middle;\n",
       "    }\n",
       "\n",
       "    .dataframe tbody tr th {\n",
       "        vertical-align: top;\n",
       "    }\n",
       "\n",
       "    .dataframe thead th {\n",
       "        text-align: right;\n",
       "    }\n",
       "</style>\n",
       "<table border=\"1\" class=\"dataframe\">\n",
       "  <thead>\n",
       "    <tr style=\"text-align: right;\">\n",
       "      <th></th>\n",
       "      <th>0</th>\n",
       "      <th>1</th>\n",
       "      <th>2</th>\n",
       "      <th>3</th>\n",
       "      <th>4</th>\n",
       "      <th>5</th>\n",
       "      <th>6</th>\n",
       "      <th>7</th>\n",
       "      <th>8</th>\n",
       "      <th>9</th>\n",
       "    </tr>\n",
       "  </thead>\n",
       "  <tbody>\n",
       "    <tr>\n",
       "      <th>0</th>\n",
       "      <td>20</td>\n",
       "      <td>CSN2* LAS CADENAS</td>\n",
       "      <td>CSN**</td>\n",
       "      <td>Epaña</td>\n",
       "      <td>Madrid</td>\n",
       "      <td>Club Hipico Las Cadenas</td>\n",
       "      <td>Nacional</td>\n",
       "      <td>Federación Hípica de Madrid</td>\n",
       "      <td>2025-01-25</td>\n",
       "      <td>2025-01-26</td>\n",
       "    </tr>\n",
       "    <tr>\n",
       "      <th>1</th>\n",
       "      <td>46</td>\n",
       "      <td>CSN2* LAS CADENAS</td>\n",
       "      <td>CSN**</td>\n",
       "      <td>Epaña</td>\n",
       "      <td>Madrid</td>\n",
       "      <td>Las Cadenas</td>\n",
       "      <td>Nacional</td>\n",
       "      <td>Federación Hípica de Madrid</td>\n",
       "      <td>2025-02-15</td>\n",
       "      <td>2025-02-16</td>\n",
       "    </tr>\n",
       "    <tr>\n",
       "      <th>2</th>\n",
       "      <td>100</td>\n",
       "      <td>CSN2* LAS CADENAS</td>\n",
       "      <td>CSN**</td>\n",
       "      <td>Epaña</td>\n",
       "      <td>Madrid</td>\n",
       "      <td>Club Hipico Las Cadenas</td>\n",
       "      <td>Nacional</td>\n",
       "      <td>Federación Hípica de Madrid</td>\n",
       "      <td>2025-03-29</td>\n",
       "      <td>2025-03-30</td>\n",
       "    </tr>\n",
       "  </tbody>\n",
       "</table>\n",
       "</div>"
      ],
      "text/plain": [
       "     0                  1      2      3       4                        5  \\\n",
       "0   20  CSN2* LAS CADENAS  CSN**  Epaña  Madrid  Club Hipico Las Cadenas   \n",
       "1   46  CSN2* LAS CADENAS  CSN**  Epaña  Madrid              Las Cadenas   \n",
       "2  100  CSN2* LAS CADENAS  CSN**  Epaña  Madrid  Club Hipico Las Cadenas   \n",
       "\n",
       "          6                            7           8           9  \n",
       "0  Nacional  Federación Hípica de Madrid  2025-01-25  2025-01-26  \n",
       "1  Nacional  Federación Hípica de Madrid  2025-02-15  2025-02-16  \n",
       "2  Nacional  Federación Hípica de Madrid  2025-03-29  2025-03-30  "
      ]
     },
     "execution_count": 24,
     "metadata": {},
     "output_type": "execute_result"
    }
   ],
   "source": [
    "query1 = \"\"\"\n",
    "        SELECT *\n",
    "        FROM concursos c\n",
    "        WHERE c.nombre_concurso = 'CSN2* LAS CADENAS';\n",
    "\"\"\"\n",
    "cur.execute(query1)\n",
    "cosita = pd.DataFrame(cur.fetchall())\n",
    "cosita"
   ]
  },
  {
   "cell_type": "markdown",
   "id": "dd137c0e",
   "metadata": {},
   "source": [
    "## Análisis de jinetes y caballos (binomios)"
   ]
  },
  {
   "cell_type": "code",
   "execution_count": 128,
   "id": "15e9c1cb",
   "metadata": {},
   "outputs": [],
   "source": [
    "conn.rollback()"
   ]
  },
  {
   "cell_type": "code",
   "execution_count": 19,
   "id": "b58e40fa",
   "metadata": {},
   "outputs": [],
   "source": [
    "pd.set_option('display.max_columns', None)  # Mostrar todas las columnas"
   ]
  },
  {
   "cell_type": "code",
   "execution_count": 148,
   "id": "bc5a55f3",
   "metadata": {},
   "outputs": [],
   "source": [
    "def graficos_provincias (provincia, grafico_buscado):\n",
    "\n",
    "    if grafico_buscado == 'ambitos':\n",
    "        query_concursos_ambito_provincia = f\"\"\"\n",
    "\n",
    "                WITH seleccion_provincia AS (\n",
    "                    SELECT *\n",
    "                    FROM concursos\n",
    "                    WHERE provincia_concurso = '{provincia}'\n",
    "                )\n",
    "                SELECT \n",
    "                    ambito_concurso,\n",
    "                    CONCAT((COUNT(id_concurso)) * 100 / (SELECT COUNT(id_concurso) FROM seleccion_provincia), ' ', '%')\n",
    "                FROM seleccion_provincia\n",
    "                GROUP BY ambito_concurso\n",
    "                ORDER BY COUNT(id_concurso) DESC;\n",
    "        \"\"\"\n",
    "        df = pd.DataFrame(ejecutor_querys(cur, query_concursos_ambito_provincia))\n",
    "        df[1] = df[1].str.replace('%', '').str.strip().astype(int)\n",
    "        colores = ['#4c78a8', '#54a24b']\n",
    "        fig2 = px.pie(df, values=1, names=0, title='Porcentaje de concursos por ámbito', color_discrete_sequence=colores)\n",
    "        fig2.update_traces(textinfo='percent', textfont_color='white')\n",
    "        fig2.update_layout(width=600, \n",
    "                                    height=400, \n",
    "                                    title_x=0.5, \n",
    "                                    title_font=dict(size=16, weight='bold'))\n",
    "        fig2.show()\n",
    "\n",
    "    elif grafico_buscado == 'temporal':\n",
    "        query_concursos_ambito_provincia = f\"\"\"\n",
    "                WITH seleccion_provincia AS (\n",
    "                    SELECT *\n",
    "                    FROM concursos\n",
    "                    WHERE provincia_concurso = '{provincia}'\n",
    "                )\n",
    "                SELECT \n",
    "                        EXTRACT(MONTH FROM fecha_inicio_concurso),\n",
    "                        COUNT(id_concurso)\n",
    "                FROM seleccion_provincia\n",
    "                GROUP BY EXTRACT(MONTH FROM fecha_inicio_concurso)\n",
    "                ORDER BY COUNT(id_concurso) DESC;\n",
    "        \"\"\"\n",
    "        df = pd.DataFrame(ejecutor_querys(cur, query_concursos_ambito_provincia)).sort_values(by=0, ascending=True)\n",
    "        df[0] = df[0].apply(lambda x: meses[int(x)])\n",
    "        fig1 = px.bar(df, x=0, y=1, title='Concursos por mes')\n",
    "        fig1.update_traces(width=0.2)\n",
    "        fig1.update_layout(\n",
    "                width=800, \n",
    "                height=400,\n",
    "                title_font=dict(size = 15, weight='bold'),\n",
    "                title_x=0.5,\n",
    "                xaxis_title=dict(text='Provincia', font=dict(size = 12, weight='bold')),\n",
    "                yaxis_title=dict(text='Nº concursos', font=dict(size = 12, weight='bold')),\n",
    "                plot_bgcolor='white'\n",
    "            )\n",
    "        fig1.show()\n",
    "\n",
    "    elif grafico_buscado == 'localidades':\n",
    "        query_concursos_ambito_provincia = f\"\"\"\n",
    "                WITH seleccion_provincia AS (\n",
    "                    SELECT *\n",
    "                    FROM concursos\n",
    "                    WHERE provincia_concurso = '{provincia}'\n",
    "                )\n",
    "                SELECT \n",
    "                        DISTINCT s.localidad_concurso,\n",
    "                        COUNT(s.id_concurso),\n",
    "                        SUM(r.dinero_premio)\n",
    "                FROM seleccion_provincia s\n",
    "                    JOIN resultados r on s.id_concurso = r.id_concurso\n",
    "                GROUP BY DISTINCT localidad_concurso;\n",
    "        \"\"\"\n",
    "        return pd.DataFrame(ejecutor_querys(cur, query_concursos_ambito_provincia))\n",
    "    \n",
    "    elif grafico_buscado == 'categorias':\n",
    "        query_concursos_ambito_provincia = f\"\"\"\n",
    "                WITH seleccion_provincia AS (\n",
    "                    SELECT *\n",
    "                    FROM concursos\n",
    "                    WHERE provincia_concurso = '{provincia}'\n",
    "                )\n",
    "                SELECT \n",
    "                        DISTINCT s.categoria_concurso,\n",
    "                        COUNT( DISTINCT s.id_concurso),\n",
    "                        SUM(r.dinero_premio)\n",
    "                FROM seleccion_provincia s\n",
    "                    JOIN resultados r on s.id_concurso = r.id_concurso\n",
    "                GROUP BY DISTINCT s.categoria_concurso;\n",
    "        \"\"\"\n",
    "        # return pd.DataFrame(ejecutor_querys(cur, query_concursos_ambito_provincia))\n",
    "        fig = px.bar(pd.DataFrame(ejecutor_querys(cur, query_concursos_ambito_provincia)), x = 0, y = 1, title = \"Concursos por categoria\")\n",
    "        fig.update_layout(\n",
    "                                    width=800, \n",
    "                                    height=400,\n",
    "                                    title_font=dict(size = 15, weight='bold'),\n",
    "                                    title_x=0.5,\n",
    "                                    xaxis_title=dict(text='Categoría', font=dict(size = 12, weight='bold')),\n",
    "                                    yaxis_title=dict(text='Nº concursos', font=dict(size = 12, weight='bold')))\n",
    "        fig.show()\n"
   ]
  },
  {
   "cell_type": "code",
   "execution_count": 150,
   "id": "208b9e4e",
   "metadata": {},
   "outputs": [
    {
     "data": {
      "text/html": [
       "<div>\n",
       "<style scoped>\n",
       "    .dataframe tbody tr th:only-of-type {\n",
       "        vertical-align: middle;\n",
       "    }\n",
       "\n",
       "    .dataframe tbody tr th {\n",
       "        vertical-align: top;\n",
       "    }\n",
       "\n",
       "    .dataframe thead th {\n",
       "        text-align: right;\n",
       "    }\n",
       "</style>\n",
       "<table border=\"1\" class=\"dataframe\">\n",
       "  <thead>\n",
       "    <tr style=\"text-align: right;\">\n",
       "      <th></th>\n",
       "      <th>0</th>\n",
       "      <th>1</th>\n",
       "      <th>2</th>\n",
       "    </tr>\n",
       "  </thead>\n",
       "  <tbody>\n",
       "    <tr>\n",
       "      <th>0</th>\n",
       "      <td>Centro Ecuestre Oliva Nova</td>\n",
       "      <td>20188</td>\n",
       "      <td>1624733.59</td>\n",
       "    </tr>\n",
       "    <tr>\n",
       "      <th>1</th>\n",
       "      <td>Ceon</td>\n",
       "      <td>4740</td>\n",
       "      <td>488331.64</td>\n",
       "    </tr>\n",
       "    <tr>\n",
       "      <th>2</th>\n",
       "      <td>Moura Tours</td>\n",
       "      <td>14572</td>\n",
       "      <td>3069973.14</td>\n",
       "    </tr>\n",
       "    <tr>\n",
       "      <th>3</th>\n",
       "      <td>Mouratours</td>\n",
       "      <td>781</td>\n",
       "      <td>44255.00</td>\n",
       "    </tr>\n",
       "    <tr>\n",
       "      <th>4</th>\n",
       "      <td>Mouratours Valencia</td>\n",
       "      <td>147</td>\n",
       "      <td>2406.00</td>\n",
       "    </tr>\n",
       "  </tbody>\n",
       "</table>\n",
       "</div>"
      ],
      "text/plain": [
       "                            0      1           2\n",
       "0  Centro Ecuestre Oliva Nova  20188  1624733.59\n",
       "1                        Ceon   4740   488331.64\n",
       "2                 Moura Tours  14572  3069973.14\n",
       "3                  Mouratours    781    44255.00\n",
       "4         Mouratours Valencia    147     2406.00"
      ]
     },
     "execution_count": 150,
     "metadata": {},
     "output_type": "execute_result"
    }
   ],
   "source": [
    "graficos_provincias('Valencia', 'localidades')"
   ]
  },
  {
   "cell_type": "code",
   "execution_count": 68,
   "id": "9116822d",
   "metadata": {},
   "outputs": [
    {
     "data": {
      "text/plain": [
       "[]"
      ]
     },
     "execution_count": 68,
     "metadata": {},
     "output_type": "execute_result"
    }
   ],
   "source": [
    "query_concursos_ambito_provincia = \"\"\"\n",
    "\n",
    "        WITH seleccion_provincia AS (\n",
    "            SELECT *\n",
    "            FROM concursos\n",
    "            WHERE nombre_concurso = 'Córdoba'\n",
    "        )\n",
    "        SELECT *\n",
    "        FROM seleccion_provincia;\n",
    "\n",
    "\"\"\"\n",
    "ejecutor_querys(cur, query_concursos_ambito_provincia)"
   ]
  },
  {
   "cell_type": "code",
   "execution_count": null,
   "id": "5c92bec6",
   "metadata": {},
   "outputs": [],
   "source": [
    "\n"
   ]
  },
  {
   "cell_type": "code",
   "execution_count": 40,
   "id": "445df24a",
   "metadata": {},
   "outputs": [],
   "source": [
    "conn.rollback()"
   ]
  },
  {
   "cell_type": "code",
   "execution_count": 44,
   "id": "ad7eaf6d",
   "metadata": {},
   "outputs": [
    {
     "data": {
      "text/plain": [
       "np.int64(122)"
      ]
     },
     "execution_count": 44,
     "metadata": {},
     "output_type": "execute_result"
    }
   ],
   "source": [
    "query_categorias = \"\"\"\n",
    "        SELECT \n",
    "            categoria_concurso,\n",
    "            COUNT(id_concurso)\n",
    "        FROM concursos c\n",
    "        GROUP BY categoria_concurso\n",
    "        ORDER BY 1 DESC;\n",
    "\"\"\"\n",
    "\n",
    "pd.DataFrame(ejecutor_querys(cur, query_categorias))[1].sum()"
   ]
  },
  {
   "cell_type": "code",
   "execution_count": 45,
   "id": "847f8c1c",
   "metadata": {},
   "outputs": [
    {
     "data": {
      "text/plain": [
       "['Segovia',\n",
       " 'Madrid',\n",
       " 'Sevilla',\n",
       " 'Barcelona',\n",
       " 'Murcia',\n",
       " 'Tenerife',\n",
       " 'Asturias',\n",
       " 'Zamora',\n",
       " 'Valencia',\n",
       " 'Cantabria',\n",
       " 'Cádiz',\n",
       " 'Córdoba',\n",
       " 'Granada']"
      ]
     },
     "execution_count": 45,
     "metadata": {},
     "output_type": "execute_result"
    }
   ],
   "source": [
    "nombres_provincias = [row[0] for row in ejecutor_querys(cur, \"\"\"SELECT DISTINCT provincia_concurso FROM concursos c;\"\"\")]\n",
    "nombres_provincias"
   ]
  },
  {
   "cell_type": "code",
   "execution_count": 37,
   "id": "16de2d47",
   "metadata": {},
   "outputs": [
    {
     "data": {
      "text/plain": [
       "np.int64(122)"
      ]
     },
     "execution_count": 37,
     "metadata": {},
     "output_type": "execute_result"
    }
   ],
   "source": [
    "query_concursos_provincia = \"\"\"\n",
    "        SELECT \n",
    "                provincia_concurso,\n",
    "                COUNT(id_concurso)\n",
    "        FROM concursos c\n",
    "        GROUP BY provincia_concurso\n",
    "        ORDER BY COUNT(id_concurso) DESC;\n",
    "\"\"\"\n",
    "\n",
    "pd.DataFrame(ejecutor_querys(cur, query_concursos_provincia))[1].sum()"
   ]
  },
  {
   "cell_type": "code",
   "execution_count": null,
   "id": "148a6919",
   "metadata": {},
   "outputs": [],
   "source": [
    "query_categorias = \"\"\"\n",
    "        SELECT \n",
    "            DISTINCT c.categoria_concurso,\n",
    "            COUNT(DISTINCT c.id_concurso),\n",
    "            SUM(r.dinero_premio)\n",
    "        FROM resultados r\n",
    "            JOIN concursos c ON r.id_concurso = c.id_concurso\n",
    "        GROUP BY DISTINCT categoria_concurso\n",
    "        ORDER BY 2 DESC;\n",
    "\"\"\"\n",
    "\n",
    "pd.DataFrame(ejecutor_querys(cur, query_categorias))[1].sum()"
   ]
  },
  {
   "cell_type": "code",
   "execution_count": 23,
   "id": "7485b063",
   "metadata": {},
   "outputs": [
    {
     "data": {
      "text/html": [
       "<div>\n",
       "<style scoped>\n",
       "    .dataframe tbody tr th:only-of-type {\n",
       "        vertical-align: middle;\n",
       "    }\n",
       "\n",
       "    .dataframe tbody tr th {\n",
       "        vertical-align: top;\n",
       "    }\n",
       "\n",
       "    .dataframe thead th {\n",
       "        text-align: right;\n",
       "    }\n",
       "</style>\n",
       "<table border=\"1\" class=\"dataframe\">\n",
       "  <thead>\n",
       "    <tr style=\"text-align: right;\">\n",
       "      <th></th>\n",
       "      <th>concurso</th>\n",
       "      <th>categoria_concurso</th>\n",
       "      <th>pais_concurso</th>\n",
       "      <th>provincia_concurso</th>\n",
       "      <th>localidad_concurso</th>\n",
       "      <th>provincia_concurso</th>\n",
       "      <th>ambito_concurso</th>\n",
       "      <th>federacion_concurso</th>\n",
       "      <th>feha_inicio_concurso</th>\n",
       "      <th>fecha_fin_concurso</th>\n",
       "      <th>id_prueba</th>\n",
       "      <th>nombre_prueba</th>\n",
       "      <th>fecha_prueba</th>\n",
       "    </tr>\n",
       "  </thead>\n",
       "  <tbody>\n",
       "    <tr>\n",
       "      <th>0</th>\n",
       "      <td>CSN3* Invierno</td>\n",
       "      <td>CSN***</td>\n",
       "      <td>Epaña</td>\n",
       "      <td>Sevilla</td>\n",
       "      <td>Real Club Pineda</td>\n",
       "      <td>Nacional</td>\n",
       "      <td>Federación Hípica Andaluza</td>\n",
       "      <td>2025-01-10</td>\n",
       "      <td>2025-01-12</td>\n",
       "      <td>1</td>\n",
       "      <td>1,30 - A c.c. (238.2.1)</td>\n",
       "      <td>2025-01-10</td>\n",
       "      <td>450.0</td>\n",
       "    </tr>\n",
       "    <tr>\n",
       "      <th>1</th>\n",
       "      <td>CSN3* Invierno</td>\n",
       "      <td>CSN***</td>\n",
       "      <td>Epaña</td>\n",
       "      <td>Sevilla</td>\n",
       "      <td>Real Club Pineda</td>\n",
       "      <td>Nacional</td>\n",
       "      <td>Federación Hípica Andaluza</td>\n",
       "      <td>2025-01-10</td>\n",
       "      <td>2025-01-12</td>\n",
       "      <td>1</td>\n",
       "      <td>1,30 - A c.c. (238.2.1)</td>\n",
       "      <td>2025-01-10</td>\n",
       "      <td>300.0</td>\n",
       "    </tr>\n",
       "    <tr>\n",
       "      <th>2</th>\n",
       "      <td>CSN3* Invierno</td>\n",
       "      <td>CSN***</td>\n",
       "      <td>Epaña</td>\n",
       "      <td>Sevilla</td>\n",
       "      <td>Real Club Pineda</td>\n",
       "      <td>Nacional</td>\n",
       "      <td>Federación Hípica Andaluza</td>\n",
       "      <td>2025-01-10</td>\n",
       "      <td>2025-01-12</td>\n",
       "      <td>1</td>\n",
       "      <td>1,30 - A c.c. (238.2.1)</td>\n",
       "      <td>2025-01-10</td>\n",
       "      <td>200.0</td>\n",
       "    </tr>\n",
       "    <tr>\n",
       "      <th>3</th>\n",
       "      <td>CSN3* Invierno</td>\n",
       "      <td>CSN***</td>\n",
       "      <td>Epaña</td>\n",
       "      <td>Sevilla</td>\n",
       "      <td>Real Club Pineda</td>\n",
       "      <td>Nacional</td>\n",
       "      <td>Federación Hípica Andaluza</td>\n",
       "      <td>2025-01-10</td>\n",
       "      <td>2025-01-12</td>\n",
       "      <td>1</td>\n",
       "      <td>1,30 - A c.c. (238.2.1)</td>\n",
       "      <td>2025-01-10</td>\n",
       "      <td>150.0</td>\n",
       "    </tr>\n",
       "    <tr>\n",
       "      <th>4</th>\n",
       "      <td>CSN3* Invierno</td>\n",
       "      <td>CSN***</td>\n",
       "      <td>Epaña</td>\n",
       "      <td>Sevilla</td>\n",
       "      <td>Real Club Pineda</td>\n",
       "      <td>Nacional</td>\n",
       "      <td>Federación Hípica Andaluza</td>\n",
       "      <td>2025-01-10</td>\n",
       "      <td>2025-01-12</td>\n",
       "      <td>1</td>\n",
       "      <td>1,30 - A c.c. (238.2.1)</td>\n",
       "      <td>2025-01-10</td>\n",
       "      <td>125.0</td>\n",
       "    </tr>\n",
       "    <tr>\n",
       "      <th>...</th>\n",
       "      <td>...</td>\n",
       "      <td>...</td>\n",
       "      <td>...</td>\n",
       "      <td>...</td>\n",
       "      <td>...</td>\n",
       "      <td>...</td>\n",
       "      <td>...</td>\n",
       "      <td>...</td>\n",
       "      <td>...</td>\n",
       "      <td>...</td>\n",
       "      <td>...</td>\n",
       "      <td>...</td>\n",
       "      <td>...</td>\n",
       "    </tr>\n",
       "    <tr>\n",
       "      <th>72675</th>\n",
       "      <td>CSN3* Invierno</td>\n",
       "      <td>CSN***</td>\n",
       "      <td>Epaña</td>\n",
       "      <td>Sevilla</td>\n",
       "      <td>Real Club Pineda</td>\n",
       "      <td>Nacional</td>\n",
       "      <td>Federación Hípica Andaluza</td>\n",
       "      <td>2025-01-10</td>\n",
       "      <td>2025-01-12</td>\n",
       "      <td>1141</td>\n",
       "      <td>1,35 - Dos fases Especial (Art. 274.2) (274.2)</td>\n",
       "      <td>2025-01-10</td>\n",
       "      <td>0.0</td>\n",
       "    </tr>\n",
       "    <tr>\n",
       "      <th>72676</th>\n",
       "      <td>CSN3* Invierno</td>\n",
       "      <td>CSN***</td>\n",
       "      <td>Epaña</td>\n",
       "      <td>Sevilla</td>\n",
       "      <td>Real Club Pineda</td>\n",
       "      <td>Nacional</td>\n",
       "      <td>Federación Hípica Andaluza</td>\n",
       "      <td>2025-01-10</td>\n",
       "      <td>2025-01-12</td>\n",
       "      <td>1141</td>\n",
       "      <td>1,35 - Dos fases Especial (Art. 274.2) (274.2)</td>\n",
       "      <td>2025-01-10</td>\n",
       "      <td>0.0</td>\n",
       "    </tr>\n",
       "    <tr>\n",
       "      <th>72677</th>\n",
       "      <td>CSN3* Invierno</td>\n",
       "      <td>CSN***</td>\n",
       "      <td>Epaña</td>\n",
       "      <td>Sevilla</td>\n",
       "      <td>Real Club Pineda</td>\n",
       "      <td>Nacional</td>\n",
       "      <td>Federación Hípica Andaluza</td>\n",
       "      <td>2025-01-10</td>\n",
       "      <td>2025-01-12</td>\n",
       "      <td>1141</td>\n",
       "      <td>1,35 - Dos fases Especial (Art. 274.2) (274.2)</td>\n",
       "      <td>2025-01-10</td>\n",
       "      <td>0.0</td>\n",
       "    </tr>\n",
       "    <tr>\n",
       "      <th>72678</th>\n",
       "      <td>CSN3* Invierno</td>\n",
       "      <td>CSN***</td>\n",
       "      <td>Epaña</td>\n",
       "      <td>Sevilla</td>\n",
       "      <td>Real Club Pineda</td>\n",
       "      <td>Nacional</td>\n",
       "      <td>Federación Hípica Andaluza</td>\n",
       "      <td>2025-01-10</td>\n",
       "      <td>2025-01-12</td>\n",
       "      <td>1141</td>\n",
       "      <td>1,35 - Dos fases Especial (Art. 274.2) (274.2)</td>\n",
       "      <td>2025-01-10</td>\n",
       "      <td>0.0</td>\n",
       "    </tr>\n",
       "    <tr>\n",
       "      <th>72679</th>\n",
       "      <td>CSN3* Invierno</td>\n",
       "      <td>CSN***</td>\n",
       "      <td>Epaña</td>\n",
       "      <td>Sevilla</td>\n",
       "      <td>Real Club Pineda</td>\n",
       "      <td>Nacional</td>\n",
       "      <td>Federación Hípica Andaluza</td>\n",
       "      <td>2025-01-10</td>\n",
       "      <td>2025-01-12</td>\n",
       "      <td>1141</td>\n",
       "      <td>1,35 - Dos fases Especial (Art. 274.2) (274.2)</td>\n",
       "      <td>2025-01-10</td>\n",
       "      <td>0.0</td>\n",
       "    </tr>\n",
       "  </tbody>\n",
       "</table>\n",
       "<p>72680 rows × 13 columns</p>\n",
       "</div>"
      ],
      "text/plain": [
       "             concurso categoria_concurso pais_concurso provincia_concurso  \\\n",
       "0      CSN3* Invierno             CSN***         Epaña            Sevilla   \n",
       "1      CSN3* Invierno             CSN***         Epaña            Sevilla   \n",
       "2      CSN3* Invierno             CSN***         Epaña            Sevilla   \n",
       "3      CSN3* Invierno             CSN***         Epaña            Sevilla   \n",
       "4      CSN3* Invierno             CSN***         Epaña            Sevilla   \n",
       "...               ...                ...           ...                ...   \n",
       "72675  CSN3* Invierno             CSN***         Epaña            Sevilla   \n",
       "72676  CSN3* Invierno             CSN***         Epaña            Sevilla   \n",
       "72677  CSN3* Invierno             CSN***         Epaña            Sevilla   \n",
       "72678  CSN3* Invierno             CSN***         Epaña            Sevilla   \n",
       "72679  CSN3* Invierno             CSN***         Epaña            Sevilla   \n",
       "\n",
       "      localidad_concurso provincia_concurso             ambito_concurso  \\\n",
       "0       Real Club Pineda           Nacional  Federación Hípica Andaluza   \n",
       "1       Real Club Pineda           Nacional  Federación Hípica Andaluza   \n",
       "2       Real Club Pineda           Nacional  Federación Hípica Andaluza   \n",
       "3       Real Club Pineda           Nacional  Federación Hípica Andaluza   \n",
       "4       Real Club Pineda           Nacional  Federación Hípica Andaluza   \n",
       "...                  ...                ...                         ...   \n",
       "72675   Real Club Pineda           Nacional  Federación Hípica Andaluza   \n",
       "72676   Real Club Pineda           Nacional  Federación Hípica Andaluza   \n",
       "72677   Real Club Pineda           Nacional  Federación Hípica Andaluza   \n",
       "72678   Real Club Pineda           Nacional  Federación Hípica Andaluza   \n",
       "72679   Real Club Pineda           Nacional  Federación Hípica Andaluza   \n",
       "\n",
       "      federacion_concurso feha_inicio_concurso  fecha_fin_concurso  \\\n",
       "0              2025-01-10           2025-01-12                   1   \n",
       "1              2025-01-10           2025-01-12                   1   \n",
       "2              2025-01-10           2025-01-12                   1   \n",
       "3              2025-01-10           2025-01-12                   1   \n",
       "4              2025-01-10           2025-01-12                   1   \n",
       "...                   ...                  ...                 ...   \n",
       "72675          2025-01-10           2025-01-12                1141   \n",
       "72676          2025-01-10           2025-01-12                1141   \n",
       "72677          2025-01-10           2025-01-12                1141   \n",
       "72678          2025-01-10           2025-01-12                1141   \n",
       "72679          2025-01-10           2025-01-12                1141   \n",
       "\n",
       "                                            id_prueba nombre_prueba  \\\n",
       "0                             1,30 - A c.c. (238.2.1)    2025-01-10   \n",
       "1                             1,30 - A c.c. (238.2.1)    2025-01-10   \n",
       "2                             1,30 - A c.c. (238.2.1)    2025-01-10   \n",
       "3                             1,30 - A c.c. (238.2.1)    2025-01-10   \n",
       "4                             1,30 - A c.c. (238.2.1)    2025-01-10   \n",
       "...                                               ...           ...   \n",
       "72675  1,35 - Dos fases Especial (Art. 274.2) (274.2)    2025-01-10   \n",
       "72676  1,35 - Dos fases Especial (Art. 274.2) (274.2)    2025-01-10   \n",
       "72677  1,35 - Dos fases Especial (Art. 274.2) (274.2)    2025-01-10   \n",
       "72678  1,35 - Dos fases Especial (Art. 274.2) (274.2)    2025-01-10   \n",
       "72679  1,35 - Dos fases Especial (Art. 274.2) (274.2)    2025-01-10   \n",
       "\n",
       "       fecha_prueba  \n",
       "0             450.0  \n",
       "1             300.0  \n",
       "2             200.0  \n",
       "3             150.0  \n",
       "4             125.0  \n",
       "...             ...  \n",
       "72675           0.0  \n",
       "72676           0.0  \n",
       "72677           0.0  \n",
       "72678           0.0  \n",
       "72679           0.0  \n",
       "\n",
       "[72680 rows x 13 columns]"
      ]
     },
     "execution_count": 23,
     "metadata": {},
     "output_type": "execute_result"
    }
   ],
   "source": [
    "query_prueba = f\"\"\" \n",
    "            SELECT \n",
    "                co.nombre_concurso,\n",
    "                co.categoria_concurso, \n",
    "                co.pais_concurso,\n",
    "                co.provincia_concurso,\n",
    "                co.localidad_concurso, \n",
    "                co.ambito_concurso,\n",
    "                co.federacion_concurso,\n",
    "                co.fecha_inicio_concurso,\n",
    "                co.fecha_fin_concurso,\n",
    "                p.id_prueba,\n",
    "                p.nombre_prueba,\n",
    "                p.fecha_prueba,\n",
    "                r.dinero_premio\n",
    "            FROM resultados r\n",
    "                JOIN caballos c ON r.id_caballo = c.id_caballo\n",
    "                JOIN jinetes j ON r.id_jinete = j.id_jinete\n",
    "                JOIN pruebas p ON r.id_prueba = p.id_prueba\n",
    "                JOIN concursos co ON r.id_concurso = co.id_concurso;\n",
    "    \"\"\"\n",
    "cosita = pd.DataFrame(ejecutor_querys(cur, query_prueba)).rename(columns = {0: 'concurso', 1: 'categoria_concurso', 2: 'pais_concurso', 3: 'provincia_concurso', 4: 'localidad_concurso',\n",
    "                                                                    5: 'provincia_concurso', 6: 'ambito_concurso', 7: 'federacion_concurso',\n",
    "                                                                    8: 'feha_inicio_concurso', 9: 'fecha_fin_concurso', 10: 'id_prueba',\n",
    "                                                                    11: 'nombre_prueba', 12: 'fecha_prueba', 13: 'dinero_premio'})\n",
    "cosita"
   ]
  },
  {
   "cell_type": "code",
   "execution_count": 16,
   "id": "b7814161",
   "metadata": {},
   "outputs": [
    {
     "data": {
      "text/plain": [
       "[(3274,)]"
      ]
     },
     "execution_count": 16,
     "metadata": {},
     "output_type": "execute_result"
    }
   ],
   "source": [
    "query_jinetes = \"\"\"\n",
    "        \n",
    "        SELECT \n",
    "            DISTINCT COUNT(id_jinete)\n",
    "        FROM jinetes; \n",
    "\"\"\"\n",
    "ejecutor_querys(cur, query_caballos)"
   ]
  },
  {
   "cell_type": "code",
   "execution_count": null,
   "id": "1c70da08",
   "metadata": {},
   "outputs": [],
   "source": [
    "query_jinetes = \"\"\"\n",
    "        \n",
    "        SELECT \n",
    "            DISTINCT COUNT(id_jinete)\n",
    "        FROM jinetes j; \n",
    "\n",
    "\"\"\"\n",
    "query_caballos = \"\"\"\n",
    "        \n",
    "        SELECT \n",
    "            DISTINCT COUNT(id_caballo)\n",
    "        FROM caballos c; \n",
    "\n",
    "\"\"\"\n",
    "\n",
    "query_binomios = \"\"\"\n",
    "\n",
    "        SELECT \n",
    "            DISTINCT COUNT(CONCAT(j.id_jinete, '-', c.id_caballo))\n",
    "        FROM resultados r\n",
    "            JOIN jinetes j ON r.id_jinete = j.id_jinete\n",
    "            JOIN caballos c ON r.id_caballo = c.id_caballo\n",
    "\"\"\"\n",
    "\n",
    "query_resultados_jinete = \"\"\"\n",
    "\n",
    "        SELECT \n",
    "            j.nombre_jinete,\n",
    "            ROUND(AVG(r.puesto))\n",
    "        FROM resultados r\n",
    "            JOIN jinetes j ON r.id_jinete = j.id_jinete\n",
    "            JOIN resultados_salto rs ON r.id_resultado = rs.id_resultado\n",
    "        GROUP BY j.nombre_jinete\n",
    "        ORDER BY 2 ASC;\n",
    "\n",
    "\"\"\"\n",
    "tipos_categorias = \"\"\"\n",
    "        SELECT \n",
    "            DISTINCT categoria_concurso\n",
    "        FROM concursos c;\n",
    "\"\"\"\n",
    "\n",
    "query_resultados_jinete_2 = \"\"\"\n",
    "        SELECT \n",
    "            c.categoria_concurso,\n",
    "            p.nombre_prueba\n",
    "\n",
    "        FROM resultados r\n",
    "        JOIN jinetes j ON r.id_jinete = j.id_jinete\n",
    "        JOIN concursos c ON r.id_concurso = c.id_concurso\n",
    "        JOIN resultados_salto rs ON r.id_resultado = rs.id_resultado\n",
    "        JOIN pruebas p ON r.id_prueba = p.id_prueba\n",
    "        GROUP BY c.categoria_concurso, p.nombre_prueba\n",
    "\n",
    "        ;\n",
    "\"\"\"\n",
    "dinero_concurso_categoria = \"\"\"\n",
    "        WITH DineroTotalPorConcurso AS (\n",
    "        SELECT\n",
    "            r.id_concurso,\n",
    "            SUM(r.dinero_premio) AS total_premio_concurso\n",
    "        FROM resultados r\n",
    "        GROUP BY r.id_concurso\n",
    "        )\n",
    "        SELECT\n",
    "            c.categoria_concurso,\n",
    "            AVG(dtpc.total_premio_concurso) AS media_dinero_premio_por_concurso\n",
    "        FROM concursos c\n",
    "            JOIN DineroTotalPorConcurso dtpc ON c.id_concurso = dtpc.id_concurso\n",
    "        GROUP BY c.categoria_concurso\n",
    "        ORDER BY c.categoria_concurso ;\n",
    "        \"\"\"\n",
    "caballos_medios_jinete = \"\"\" \n",
    "    SELECT\n",
    "    AVG(caballos_distintos) AS promedio_caballos_por_jinete\n",
    "    FROM (\n",
    "        SELECT\n",
    "            j.id_jinete,\n",
    "            COUNT(DISTINCT r.id_caballo) AS caballos_distintos\n",
    "        FROM\n",
    "            resultados r\n",
    "        JOIN\n",
    "            jinetes j ON r.id_jinete = j.id_jinete\n",
    "        GROUP BY\n",
    "            j.id_jinete\n",
    "    );\n",
    "\"\"\"\n"
   ]
  },
  {
   "cell_type": "code",
   "execution_count": null,
   "id": "d1b4e5c0",
   "metadata": {},
   "outputs": [],
   "source": [
    "conn.rollback()"
   ]
  },
  {
   "cell_type": "markdown",
   "id": "b59886c5",
   "metadata": {},
   "source": [
    "en cada tipo de prueba, que jinete es mejor/ al revés, y ver que jinete como overall es mejor y el mejor caballo, hacer un top 10. Ver si hay correlacion entre ganar y haber sido/mas rapido/tener mas o menos puntos en cada tipo de prueba. Dividir por categoría"
   ]
  },
  {
   "cell_type": "code",
   "execution_count": null,
   "id": "097e1bb1",
   "metadata": {},
   "outputs": [
    {
     "data": {
      "text/plain": [
       "3"
      ]
     },
     "execution_count": 27,
     "metadata": {},
     "output_type": "execute_result"
    }
   ],
   "source": [
    "coso = ejecutor_querys(cur, caballos_medios_jinete)\n",
    "round(coso[0][0])"
   ]
  },
  {
   "cell_type": "code",
   "execution_count": null,
   "id": "0bef456d",
   "metadata": {},
   "outputs": [
    {
     "data": {
      "text/html": [
       "<div>\n",
       "<style scoped>\n",
       "    .dataframe tbody tr th:only-of-type {\n",
       "        vertical-align: middle;\n",
       "    }\n",
       "\n",
       "    .dataframe tbody tr th {\n",
       "        vertical-align: top;\n",
       "    }\n",
       "\n",
       "    .dataframe thead th {\n",
       "        text-align: right;\n",
       "    }\n",
       "</style>\n",
       "<table border=\"1\" class=\"dataframe\">\n",
       "  <thead>\n",
       "    <tr style=\"text-align: right;\">\n",
       "      <th></th>\n",
       "      <th>categoria</th>\n",
       "      <th>premio_medio_repartido</th>\n",
       "    </tr>\n",
       "  </thead>\n",
       "  <tbody>\n",
       "    <tr>\n",
       "      <th>4</th>\n",
       "      <td>CSI****</td>\n",
       "      <td>375993.00</td>\n",
       "    </tr>\n",
       "    <tr>\n",
       "      <th>3</th>\n",
       "      <td>CSI***</td>\n",
       "      <td>191423.87</td>\n",
       "    </tr>\n",
       "    <tr>\n",
       "      <th>2</th>\n",
       "      <td>CSI**</td>\n",
       "      <td>95267.17</td>\n",
       "    </tr>\n",
       "    <tr>\n",
       "      <th>10</th>\n",
       "      <td>CSN*****</td>\n",
       "      <td>37170.00</td>\n",
       "    </tr>\n",
       "    <tr>\n",
       "      <th>1</th>\n",
       "      <td>CSI*</td>\n",
       "      <td>30654.96</td>\n",
       "    </tr>\n",
       "    <tr>\n",
       "      <th>0</th>\n",
       "      <td>CSI YH*</td>\n",
       "      <td>27653.00</td>\n",
       "    </tr>\n",
       "    <tr>\n",
       "      <th>9</th>\n",
       "      <td>CSN****</td>\n",
       "      <td>26215.00</td>\n",
       "    </tr>\n",
       "    <tr>\n",
       "      <th>5</th>\n",
       "      <td>CSIO Ch/J/Y</td>\n",
       "      <td>22900.00</td>\n",
       "    </tr>\n",
       "    <tr>\n",
       "      <th>8</th>\n",
       "      <td>CSN***</td>\n",
       "      <td>11167.21</td>\n",
       "    </tr>\n",
       "    <tr>\n",
       "      <th>7</th>\n",
       "      <td>CSN**</td>\n",
       "      <td>5542.94</td>\n",
       "    </tr>\n",
       "    <tr>\n",
       "      <th>11</th>\n",
       "      <td>CSNCJ</td>\n",
       "      <td>1585.33</td>\n",
       "    </tr>\n",
       "    <tr>\n",
       "      <th>6</th>\n",
       "      <td>CSN*</td>\n",
       "      <td>515.00</td>\n",
       "    </tr>\n",
       "  </tbody>\n",
       "</table>\n",
       "</div>"
      ],
      "text/plain": [
       "      categoria  premio_medio_repartido\n",
       "4       CSI****               375993.00\n",
       "3        CSI***               191423.87\n",
       "2         CSI**                95267.17\n",
       "10     CSN*****                37170.00\n",
       "1          CSI*                30654.96\n",
       "0       CSI YH*                27653.00\n",
       "9       CSN****                26215.00\n",
       "5   CSIO Ch/J/Y                22900.00\n",
       "8        CSN***                11167.21\n",
       "7         CSN**                 5542.94\n",
       "11        CSNCJ                 1585.33\n",
       "6          CSN*                  515.00"
      ]
     },
     "execution_count": 28,
     "metadata": {},
     "output_type": "execute_result"
    }
   ],
   "source": [
    "categorias_premios = pd.DataFrame(ejecutor_querys(cur , dinero_concurso_categoria))\n",
    "categorias_premios[1] = categorias_premios[1].apply(lambda x: round(x, 2))\n",
    "categorias_premios = categorias_premios.rename(columns = {0: \"categoria\", 1: \"premio_medio_repartido\"})\n",
    "categorias_premios.sort_values(by = \"premio_medio_repartido\", ascending = False, inplace = True)\n",
    "categorias_premios"
   ]
  },
  {
   "cell_type": "code",
   "execution_count": null,
   "id": "4b36fd29",
   "metadata": {},
   "outputs": [],
   "source": [
    "query_binomios = \"\"\"\n",
    "    SELECT \n",
    "        COUNT(DISTINCT (id_jinete, id_caballo))\n",
    "    FROM resultados r\n",
    "\"\"\"\n"
   ]
  },
  {
   "cell_type": "code",
   "execution_count": null,
   "id": "b1ef1810",
   "metadata": {},
   "outputs": [],
   "source": [
    "conn.rollback()"
   ]
  },
  {
   "cell_type": "code",
   "execution_count": null,
   "id": "d75cce52",
   "metadata": {},
   "outputs": [
    {
     "data": {
      "text/plain": [
       "[(9012,)]"
      ]
     },
     "execution_count": 31,
     "metadata": {},
     "output_type": "execute_result"
    }
   ],
   "source": [
    "ejecutor_querys(cur, query_binomios)"
   ]
  },
  {
   "cell_type": "code",
   "execution_count": null,
   "id": "e785bb6d",
   "metadata": {},
   "outputs": [
    {
     "name": "stdout",
     "output_type": "stream",
     "text": [
      "\n",
      "      Ha habido una participación de un total de 9012 binomios en los concursos. A continuación realizamos un análisis de los binomios, en función\n",
      "      de los resultados obtenidos en los concursos.\n",
      "      \n"
     ]
    }
   ],
   "source": [
    "print(f\"\"\"\n",
    "      Ha habido una participación de un total de {ejecutor_querys(cur, query_binomios)[0][0]} binomios en los concursos. A continuación realizamos un análisis de los binomios, en función\n",
    "      de los resultados obtenidos en los concursos.\n",
    "      \"\"\")"
   ]
  },
  {
   "cell_type": "code",
   "execution_count": null,
   "id": "f54477ac",
   "metadata": {},
   "outputs": [],
   "source": [
    "pd.set_option('display.max_columns', None)"
   ]
  },
  {
   "cell_type": "markdown",
   "id": "cd05e695",
   "metadata": {},
   "source": [
    "- CSNCJ:nacional caballos jovenes\n",
    "- CSIO Ch/J/Y: internacional children, junior, young rider\n",
    "- CSI YH: internacional young horse"
   ]
  },
  {
   "cell_type": "markdown",
   "id": "57eeb6c1",
   "metadata": {},
   "source": [
    "## Dividimos entre categorías nacionales e internacionales"
   ]
  },
  {
   "cell_type": "code",
   "execution_count": null,
   "id": "e76a44a4",
   "metadata": {},
   "outputs": [],
   "source": [
    "conn.rollback()"
   ]
  },
  {
   "cell_type": "code",
   "execution_count": null,
   "id": "56de9877",
   "metadata": {},
   "outputs": [],
   "source": [
    "df = pd.DataFrame(ejecutor_querys(cur, query_resultados_jinete_2))\n",
    "diccionario_agrupado = df.groupby(0)[1].apply(list).to_dict()"
   ]
  },
  {
   "cell_type": "markdown",
   "id": "52ddc54e",
   "metadata": {},
   "source": [
    "- uno general, que selecciono el concurso y puedo ver métricas del mismo, puedo ver los resultados por ej, y métricas. En esta página tendré una visión general de los concursos, y luego por concurso, los filtros serán concurso y fecha, de manera que puedo filtrar por concurso y por fecha. \n",
    "- uno de binomios, en el que elijo el jinete con x caballo, y otro jinete con x caballo para comparar rendimientos. calculo por binomio la media de puntos de obstáculos que hacen en una salida a pista, la media de puntos de tiempo que hacen en una salida a pista, y el tiempo. mirar si filtrar por ronda. \n"
   ]
  },
  {
   "cell_type": "code",
   "execution_count": null,
   "id": "59f621c3",
   "metadata": {},
   "outputs": [
    {
     "data": {
      "text/plain": [
       "{'CSI YH*': ['5 años - 1,20 - A.c.c. y desempate (238.2.2)',\n",
       "  '6 años - 1,30 - A c.c. (238.2.1)',\n",
       "  '1,10 - A c.c. (238.2.1)',\n",
       "  '1,35 (G) - Dos Fases (274.1.5.3)',\n",
       "  '6 años - 1,20 - 2 fases Asc / Acc (274.1.5.2)',\n",
       "  '5 años - 1,15 - A.c.c. y desempate (238.2.2)',\n",
       "  '7 años - 1,30 - A c.c. (238.2.1)',\n",
       "  '8 años - 1,45 - A.c.c y desempate (238.2.2)',\n",
       "  '8 años - 1,45 - A.c.c. (238.2.1)',\n",
       "  '6 años - 1,25 - Dos Fases Especial (274.2)',\n",
       "  '1,40 (G) - Dos Fases (274.1.5.3)',\n",
       "  '7 años - 1,25 - A c.c. (238.2.1)',\n",
       "  '1,20 - A c.c. (238.2.1)',\n",
       "  '7 años - 1,30 - Dos Fases (274.1.5.3)',\n",
       "  '7 años - 1,35 - A sin cronómetro (238.1.1)',\n",
       "  '5 años - 1,10 - Dos Fases (274.1.5.3)',\n",
       "  '5 años - 1,15 - Dos Fases (274.1.5.3)',\n",
       "  '6 años - 1,25 - A.c.c. y desempate (238.2.2)',\n",
       "  '7 años - 1,35 - Dos Fases (274.1.5.3)',\n",
       "  '1,20 - A.c.c. y desempate (238.2.2)',\n",
       "  '7 años - 8 años - A.c.c (238.2.1)',\n",
       "  '1,35 (G) - A.c.c. y desempate (238.2.2)',\n",
       "  '8 años - 1,40 - A.c.c. (238.2.1)',\n",
       "  '5 años - 1,05 - A sin cronómetro (238.1.1)',\n",
       "  '7 años - 1,35 - Dos Fases Especial (274.2)',\n",
       "  '6 años - 1,25 - A sin cronómetro (238.1.1)',\n",
       "  '5 años - 1,20 - A sin cronómetro (238.1.1)',\n",
       "  '7 años - 1,40 - A.c.c. y desempate (238.2.2)',\n",
       "  '6 años - 1,15 - A sin cronómetro (238.1.1)',\n",
       "  '6 años - 1,15 - Dos Fases (274.1.5.3)',\n",
       "  '8 años - 1,40 - Dos Fases Especial (274.2)',\n",
       "  '7 años - 1,30 - Acc y desempate (238.2.2)',\n",
       "  '7 años - 1,35 - A.c.c. y desempate (238.2.2)',\n",
       "  '5 años - 1,15 - Dos Fases Especial (274.2)',\n",
       "  '6 años - 1,25 - A c.c. (238.2.1)',\n",
       "  '6 años - 1,20 - Dos Fases (274.1.5.3)',\n",
       "  '7 años - 1,30 - A sin cronómetro (238.1.1)',\n",
       "  '6 años - 1,30 - A.c.c. y desempate (238.2.2)',\n",
       "  '6 años - 1,20 - A.c.c. y desempate (238.2.2)',\n",
       "  '1,50 (GP) - A.c.c. y desempate (238.2.2)',\n",
       "  '6 años - 1,20 - A sin cronómetro (238.1.1)',\n",
       "  '1,20 - Dos Fases Especial (274.2)',\n",
       "  '1,40 (GP) - A.c.c. y desempate (238.2.2)',\n",
       "  '1,35 (G) - A c.c. (238.2.1)',\n",
       "  '1,10 - Dos Fases (274.1.5.3)',\n",
       "  '7 años - 1,40 - A c.c. (238.2.1)',\n",
       "  '1,45 (G) - A c.c. (238.2.1)',\n",
       "  '5 años - 1,15 - A sin cronómetro (238.1.1)',\n",
       "  '1,40 (G) - A.c.c. y desempate (238.2.2)',\n",
       "  '1,30 - Dos Fases Especial (274.2)',\n",
       "  '6 años - 1,25 - Dos Fases (274.1.5.3)',\n",
       "  '7 años - 8 años - Dos Fases (274.1.5.3)',\n",
       "  '1,30 - A c.c. (238.2.1)',\n",
       "  '1,40 (G) - A c.c. (238.2.1)',\n",
       "  '7 años - 1,35 - A c.c. (238.2.1)',\n",
       "  '7 años - 8 años - A.c.c y desempate (238.2.2)',\n",
       "  '5 años - 1,10 - A sin cronómetro (238.1.1)',\n",
       "  '5 años - 1,05 - A c.c. (238.2.1)',\n",
       "  '1,45 (G) - A.c.c. y desempate (238.2.2)',\n",
       "  '6 años - 1,20 - A c.c. (238.2.1)'],\n",
       " 'CSI*': ['5 años - 1,10 - Dos Fases (274.1.5.3)',\n",
       "  '1,30 - Dos Fases Especial (274.2)',\n",
       "  '1,10 - Dos Fases (274.1.5.3)',\n",
       "  '7 años - 1,30 - Acc y desempate (238.2.2)',\n",
       "  '1,10 - A.c.c. y desempate (238.2.2)',\n",
       "  '1,20 - Dos Fases (274.1.5.3)',\n",
       "  '1,35 (G) - Dos Fases (274.1.5.3)',\n",
       "  '1,25 - Dos Fases (274.1.5.3)',\n",
       "  '1,40 (G) - Dos Fases (274.1.5.3)',\n",
       "  '7 años - 1,30 - Dos Fases (274.1.5.3)',\n",
       "  '7 años - 1,30 - A c.c. (238.2.1)',\n",
       "  '1,30 - A.c.c. y desempate (238.2.2)',\n",
       "  '1,20 - A.c.c. y desempate (238.2.2)',\n",
       "  '1,30 - A c.c. (238.2.1)',\n",
       "  '1,20 - A c.c. (238.2.1)',\n",
       "  '5 años - 1,10 - A sin cronómetro (238.1.1)',\n",
       "  '1,40 (GP) - A.c.c. y desempate (238.2.2)',\n",
       "  '6 años - 1,20 - A c.c. (238.2.1)',\n",
       "  '1,35 (G) - A.c.c. y desempate (238.2.2)',\n",
       "  '1,10 - A c.c. (238.2.1)',\n",
       "  '1,50 (GP) - A.c.c. y desempate (238.2.2)',\n",
       "  '1,40 (G) - A.c.c. y desempate al cronómetro (238.2.2)',\n",
       "  '1,40 (G) - A c.c. (238.2.1)',\n",
       "  '1,25 - Velocidad y Manejabilidad (263)',\n",
       "  '1,40 (G) - DOS FASES (A c/c - A c/c) (274.1.5.3)',\n",
       "  '1,45 (G) - A c.c. (238.2.1)',\n",
       "  '1,30 - Dificultades Progresivas (269.3.2)',\n",
       "  '1,20 - Dos Fases Especial (274.2)',\n",
       "  '6 años - 1,20 - A.c.c. y desempate (238.2.2)',\n",
       "  '1,45 (G) - A.c.c. y desempate (238.2.2)',\n",
       "  '1,35 (G) - A c.c. (238.2.1)',\n",
       "  '1,40 (G) - A.c.c. y desempate (238.2.2)',\n",
       "  '1,25 - A c.c. (238.2.1)',\n",
       "  '6 años - 1,20 - Dos Fases (274.1.5.3)'],\n",
       " 'CSI**': ['1,25 - A c.c. (238.2.1)',\n",
       "  '1,45 (G) - Dos Fases (274.1.5.3)',\n",
       "  '1,10 - Dos Fases (274.1.5.3)',\n",
       "  '1,20 - A c.c. (238.2.1)',\n",
       "  '1,45 (G) - A c.c. (238.2.1)',\n",
       "  '1,10 - A c.c. (238.2.1)',\n",
       "  '1,45 (GP) - A.c.c. y desempate (238.2.2)',\n",
       "  '1,45 (G) - A.c.c. y desempate (238.2.2)',\n",
       "  '1,20 - Dos Fases (274.1.5.3)',\n",
       "  '1,35 (G) - A c.c. (238.2.1)',\n",
       "  '1,15 - A c.c. (238.2.1)',\n",
       "  '1,30 - A c.c. (238.2.1)',\n",
       "  '1,40 (G) - A c.c. (238.2.1)',\n",
       "  '1,40 (G) - A.c.c. y desempate (238.2.2)',\n",
       "  '1,35 (G) - Dos Fases (274.1.5.3)',\n",
       "  '1,30 - Dos Fases (274.1.5.3)',\n",
       "  '1,40 (G) - Dos Fases (274.1.5.3)'],\n",
       " 'CSI***': ['5 años - 1,10 - Dos Fases (274.1.5.3)',\n",
       "  '1,10 - Dos Fases (274.1.5.3)',\n",
       "  '1,40 (G) - Dos Fases (274.1.5.3)',\n",
       "  '1,40 (G) - A.c.c. y desempate al cronómetro (238.2.2)',\n",
       "  '1,50 (GP) - A.c.c. y desempate (238.2.2)',\n",
       "  '1,35 (G) - A.c.c. y desempate (238.2.2)',\n",
       "  '1,45 (G) - A.c.c. y desempate (238.2.2)',\n",
       "  '6 años - 1,20 - A.c.c. y desempate (238.2.2)',\n",
       "  '1,20 - A.c.c. y desempate (238.2.2)',\n",
       "  '1,40 (GP) - GRAN PREMIO - A c/c y un desempate (238.2.2)',\n",
       "  '1,35 (P) - A c.c. (238.2.1)',\n",
       "  '6 años - 1,20 - A c.c. (238.2.1)',\n",
       "  '1,30 - Dos Fases Especial (274.2)',\n",
       "  '1,20 - A c.c. (238.2.1)',\n",
       "  '1,20 - Dos Fases Especial (274.2)',\n",
       "  '1,45 (G) - A c.c. (238.2.1)',\n",
       "  '1,35 (G) - A c.c. (238.2.1)',\n",
       "  '1,30 (P) - A c.c. (238.2.1)',\n",
       "  '1,40 (GP) - A.c.c. y desempate (238.2.2)',\n",
       "  '1,15 - A c.c. (238.2.1)',\n",
       "  '1,30 - Dos Fases (274.1.5.3)',\n",
       "  '1,40 (P) - A.c.c. y desempate (238.2.2)',\n",
       "  '1,45 (G) - Dos Fases (274.1.5.3)',\n",
       "  '1,50 (G) - A.c.c. y desempate (238.2.2)',\n",
       "  '7 años - 1,30 - A c.c. (238.2.1)',\n",
       "  '1,20 - Dos Fases (274.1.5.3)',\n",
       "  '1,10 - A c.c. (238.2.1)',\n",
       "  '1,40 (G) - A c.c. (238.2.1)',\n",
       "  '5 años - 1,10 - A sin cronómetro (238.1.1)',\n",
       "  '1,35 (M) - A c.c. (238.2.1)',\n",
       "  '1,25 - A c.c. (238.2.1)',\n",
       "  '1,35 (G) - Dos Fases (274.1.5.3)',\n",
       "  '6 años - 1,20 - Dos Fases (274.1.5.3)',\n",
       "  '7 años - 1,30 - Acc y desempate (238.2.2)',\n",
       "  '1,45 (P) - A c.c. (238.2.1)',\n",
       "  '1,30 - A.c.c. y desempate (238.2.2)',\n",
       "  '1,40 (G) - A.c.c. y desempate (238.2.2)',\n",
       "  '1,30 - A c.c. (238.2.1)',\n",
       "  '7 años - 1,30 - Dos Fases (274.1.5.3)'],\n",
       " 'CSI****': ['1,45 (M) - Dos Fases (274.1.5.3)',\n",
       "  '1,20 - A c.c. (238.2.1)',\n",
       "  '1.15 - Acc (238.2.1)',\n",
       "  '1,40 (G) - A c.c. (238.2.1)',\n",
       "  '1,50 (G) - A c.c. (238.2.1)',\n",
       "  '1,20 - Dos Fases Especial (274.2)',\n",
       "  '1.20 - Acc (238.2.1)',\n",
       "  '1,10 - A c.c. (238.2.1)',\n",
       "  '1,45 (G) - A c.c. (238.2.1)',\n",
       "  '5 años - 1,10 - Dos Fases (274.1.5.3)',\n",
       "  '1,35 (P) - A c.c. (238.2.1)',\n",
       "  '1,50 (G) - DOS FASES (A c/c - A c/c) (274.1.5.3)',\n",
       "  '1,40 (GP) - A.c.c. y desempate (238.2.2)',\n",
       "  '1,55 (GP) - A.c.c. y desempate (238.2.2)',\n",
       "  '1,45 (P) - A c.c. (238.2.1)',\n",
       "  '1,40 (G) - A.c.c. y desempate (238.2.2)',\n",
       "  '1,35 (P) - DOS FASES (A c/c - A c/c) (274.1.5.3)',\n",
       "  '1,35 (M) - A c.c. (238.2.1)',\n",
       "  '1,35 (G) - Dos Fases (274.1.5.3)',\n",
       "  '1,40 (P) - DOS FASES (A c/c - A c/c) (274.1.5.3)',\n",
       "  'CLASSIC TOUR A - 2 fases Asc / Acc (274.1.5.2)',\n",
       "  '1,20 - A.c.c. y desempate (238.2.2)',\n",
       "  '1,30 - Dos Fases (274.1.5.3)',\n",
       "  '1,45 (P) - DOS FASES (A c/c - A c/c) (274.1.5.3)',\n",
       "  '1,40 (G) - 2 fases Asc / Acc (274.1.5.2)',\n",
       "  '6 años - 1,20 - A.c.c. y desempate (238.2.2)',\n",
       "  '1,40 (M) - 2 fases Asc / Acc (274.1.5.2)',\n",
       "  '1,35 (G) - A c.c. (238.2.1)',\n",
       "  '1,40 (M) - A c.c. (238.2.1)',\n",
       "  '1,30 - 2 fases Asc / Acc (274.1.5.2)',\n",
       "  '7 años - 1,30 - A c.c. (238.2.1)',\n",
       "  '1,30 - Accumulator (269.3.2)',\n",
       "  '1,50 (G) - A con cronometro sin desempate (238.2.1)',\n",
       "  '1,40 (G) - Dos Fases (274.1.5.3)',\n",
       "  '1,50 (G) - A.c.c. y desempate (238.2.2)',\n",
       "  '1,50 (GP) - A.c.c. y desempate (238.2.2)',\n",
       "  '1,35 (G) - 2 fases Asc / Acc (274.1.5.2)',\n",
       "  '1,45 (M) - A con cronometro sin desempate (238.2.1)',\n",
       "  '1.20 - DOS FASES (274.1.5.3)',\n",
       "  '1.20 - 2 FASES (274.1.5.2)',\n",
       "  '1,45 (GP) - Dos Mangas (273.3.4)',\n",
       "  'CLASSIC TOUR A - A c.c. (238.2.1)',\n",
       "  '1,45 (G) - 2 fases Asc / Acc (274.1.5.2)',\n",
       "  '1,30 - A c.c. (238.2.1)',\n",
       "  '1,10 - Dos Fases (274.1.5.3)',\n",
       "  '7 años - 1,30 - Acc y desempate (238.2.2)',\n",
       "  '5 años - 1,10 - A sin cronómetro (238.1.1)',\n",
       "  '1,45 (G) - Dos Fases (274.1.5.3)',\n",
       "  '1,45 (GP) - A.c.c. y desempate (238.2.2)',\n",
       "  '1,40 (P) - A c.c. (238.2.1)',\n",
       "  '6 años - 1,20 - A c.c. (238.2.1)',\n",
       "  '1,35 (G) - A.c.c. y desempate (238.2.2)',\n",
       "  '1,50 (GP) - Dos Mangas (273.3.4)'],\n",
       " 'CSIO Ch/J/Y': ['J - 1,40 m. - A c.c. (238.2.1)',\n",
       "  'YR - CN - C.N. (264)',\n",
       "  'Ch - 1,30 m. - A.c.c. y desempate (238.2.2)',\n",
       "  'YR - 1,40 m. - 2 fases Asc / Acc (274.1.5.2)',\n",
       "  'Ch - 1,30 m. - A c.c. (238.2.1)',\n",
       "  'YR - 1,45 m. - A c.c. (238.2.1)',\n",
       "  'J - 1,35 m. - 2 fases Asc / Acc (274.1.5.2)',\n",
       "  'Ch - 1,25 m. - A c.c. (238.2.1)',\n",
       "  'YR - 1,45 m. - A.c.c. y desempate (238.2.2)',\n",
       "  'J - 1,40 m. - A.c.c. y desempate (238.2.2)',\n",
       "  'Ch - CN - C.N. (264)',\n",
       "  'Ch - 1,30 m. - Dos Fases (274.1.5.3)',\n",
       "  'YR - 1,40 m. - A c.c. (238.2.1)',\n",
       "  'J - 1,35 m. - Dos Fases (274.1.5.3)',\n",
       "  'Ch - 1,25 m. - 2 fases Asc / Acc (274.1.5.2)',\n",
       "  'J - 1,35 m. - A c.c. (238.2.1)'],\n",
       " 'CSN*': ['1,20 - Dificultades Progresivas (269.3.2)',\n",
       "  '1,30 GP - Dos Mangas (A.c.c. - A.c.c.) sin desempate (273.3.3.1)',\n",
       "  '1,30 - Caza (239)',\n",
       "  '1,20 - A c.c. (238.2.1)',\n",
       "  '1,20 - C (239)',\n",
       "  '1,30 GP - A.c.c. y desempate (238.2.2)',\n",
       "  '1,30 - Dificultades Progresivas (269.3.2)',\n",
       "  '1,10 - Acc (238.2.1)',\n",
       "  '1,20 - Dos Fases Especial (274.2)',\n",
       "  '1,30 - A c.c. (238.2.1)',\n",
       "  '1,20 - A.c.c. y desempate (238.2.2)'],\n",
       " 'CSN**': ['1,00 - A sin cronómetro (238.1.1)',\n",
       "  '1,30 - A c.c. (238.2.1)',\n",
       "  '1,15 - Dos Fases Especial (274.2)',\n",
       "  '1,05 - A sin cronómetro (238.1.1)',\n",
       "  '1,20 - A.c.c. y desempate al cronómetro (238.2.2)',\n",
       "  '1,20 - Velocidad y Manejabilidad (263)',\n",
       "  '1,25 - Velocidad y Manejabilidad (263)',\n",
       "  '1,20 - A c.c. (238.2.1)',\n",
       "  '1,10 - Dos Fases Especial (274.2)',\n",
       "  '1,20 - Dos Fases Especial (274.2)',\n",
       "  '1,30 - Dificultades Progresivas (269.3.2)',\n",
       "  '1,30 (GP) - A.c.c. y desempate al cronómetro (238.2.2)',\n",
       "  '1,30 - Dos Fases Especial (274.2)',\n",
       "  '1,35 - A.c.c. y desempate al cronómetro (238.2.2)',\n",
       "  '1,35 GP - Dos Mangas (A c/c - A c/c) (273.3.3.1)',\n",
       "  '1,15 - Acc (238.1.1)',\n",
       "  '1,25 - A c.c. (238.2.1)',\n",
       "  '1,30 - Velocidad y Manejabilidad (263)',\n",
       "  '1,35 GP - A.c.c. y desempate (238.2.2)',\n",
       "  '1,10 - Dos Fases (274.1.5.3)',\n",
       "  '1,10 - Acc (238.2.1)',\n",
       "  '1,05 - Dos Fases Especial (274.2)',\n",
       "  '1,15 - A c.c. (238.2.1)',\n",
       "  '1,10 - Acc y desempate (238.2.1)'],\n",
       " 'CSN***': ['1,25 - Dos Fases Especial (274.2)',\n",
       "  '1,30 - Velocidad y Manejabilidad (263)',\n",
       "  '1,30 - A.s.c. y desempate al cronómetro (238.1.2)',\n",
       "  '1,40 - A.c.c. y desempate al cronómetro (238.2.2)',\n",
       "  '1,20 - A c.c. (238.2.1)',\n",
       "  '1,10 - Dos Fases Especial (274.2)',\n",
       "  '1,35 - Dos fases Especial (Art. 274.2) (274.2)',\n",
       "  '1,25 - Dificultades Progresivas (269.3.2)',\n",
       "  '1,30 - A c.c. (238.2.1)',\n",
       "  '1,40 gp - A.c.c. y desempate al cronómetro (238.2.2)',\n",
       "  '1,20 - Dificultades Progresivas (269.3.2)',\n",
       "  '1,10 - A con cronómetro (238.2.1)',\n",
       "  '1,40 - A c.c. (238.2.1)',\n",
       "  '1,30 - Manga Ganadora (276.2)',\n",
       "  '1,30 - Dos fases Especial (Art. 274.2) (274.2)',\n",
       "  '1.35 GP - Acc y desempate (238.2.2)',\n",
       "  '1,35 - A c.c. (238.2.1)',\n",
       "  '1,35 - Dos Fases (274.1.5.3)',\n",
       "  '1,20 - Dos fases Especial (Art. 274.2) (274.2)',\n",
       "  '1,30 - A.c.c. y desempate al cronómetro (238.2.2)'],\n",
       " 'CSN****': ['1,25 - Dos Fases Especial (274.2)',\n",
       "  '1,30 - Dos Fases Especial (274.2)',\n",
       "  '1,35 GP - A.c.c. y desempate (238.2.2)',\n",
       "  '1,45 (GP) - A.c.c. y desempate al cronómetro (238.2.2)',\n",
       "  '1,40 - A c.c. (238.2.1)',\n",
       "  '1,20 - A c.c. (238.2.1)',\n",
       "  '1,30 - A c.c. (238.2.1)',\n",
       "  '1,40 - Dos Fases Especial (274.2)'],\n",
       " 'CSN*****': ['1,20 - A c.c. (238.2.1)',\n",
       "  '1,30 - Dos Fases Especial (274.2)',\n",
       "  '1,45 - A c.c. (238.2.1)',\n",
       "  '1,35 - A c.c. (238.2.1)',\n",
       "  '1,35 - A.c.c. y desempate al cronómetro (238.2.2)',\n",
       "  '1,30 - A c.c. (238.2.1)',\n",
       "  '1,40 gp - A.c.c. y desempate al cronómetro (238.2.2)',\n",
       "  '1,40 - Dos Fases Especial (274.2)',\n",
       "  '1.45 GP - Acc con desempate (238.2.2)',\n",
       "  '1,10 - Dos Fases Especial (274.2)',\n",
       "  '1,20 - Dos Fases Especial (274.2)',\n",
       "  '1,50 (GP) - A.c.c. y desempate (238.2.2)',\n",
       "  '1,45 - Dos Fases Especial (274.2)',\n",
       "  '1,35 - Dos Fases Especial (274.2)',\n",
       "  '1,40 - A c.c. (238.2.1)',\n",
       "  '1,10 - A.c.c (238.2.1)'],\n",
       " 'CSNCJ': ['7 años - 1,30 - A c.c. (238.2.1)',\n",
       "  '7 años - 1,30 - Dos Fases Especial (274.2)',\n",
       "  '6 años - 1,20 - A c.c. (238.2.1)',\n",
       "  '6 años - 1,20 - Dos Fases Especial (274.2)',\n",
       "  '7 años - 1,35 - A c.c. (238.2.1)',\n",
       "  '5 años - 1,10 - Dos Fases Especial (274.2)',\n",
       "  '5 años - 1,10 - A sin cronómetro (238.1.1)',\n",
       "  '5 años - 1,15 - A sin cronómetro (238.1.1)',\n",
       "  '5 años - 1,10 - A c.c. (238.2.1)',\n",
       "  '6 años - 1,25 - A c.c. (238.2.1)']}"
      ]
     },
     "execution_count": 36,
     "metadata": {},
     "output_type": "execute_result"
    }
   ],
   "source": [
    "diccionario_agrupado"
   ]
  },
  {
   "cell_type": "markdown",
   "id": "17052a96",
   "metadata": {},
   "source": [
    "\n",
    "\n",
    "caballos y jinetes, categoría en los que han participado, y altura de obstáculos, cantidad de veces que pasa a jump off, top caballos por edad, 5, 6, 7, años (nº rounds hechos, cantidad de doble 0s y ya sacar %). top caballos x competicion: 1,40, 1,50, 1,60, 5*, 6*.\n",
    "\n",
    "comparar performance de un jinete con diferentes caballos"
   ]
  },
  {
   "cell_type": "markdown",
   "id": "9b42e5df",
   "metadata": {},
   "source": [
    "### Análisis caballos 5 años\n",
    "\n",
    "Dentro de las pruebas de caballos de 5 años nos encontramos solo con las siguientes:\n",
    "- A.c.c. y desempate (238.2.2)',\n",
    "- Dos Fases Especial (274.2)',\n",
    "- A sin cronómetro (238.1.1)',\n",
    "- A c.c. (238.2.1)',\n",
    "- Dos Fases (274.1.5.3)',\n",
    "- A.c.c. y desempate (238.2.2)',\n",
    "\n",
    "Son pruebas que tendrán solo dos rondas como mucho, ya sea con desempate o sin desempate. Las alturas de los obstáculos se encuentran entre 1,05 y 1,20. "
   ]
  },
  {
   "cell_type": "code",
   "execution_count": null,
   "id": "499afc99",
   "metadata": {},
   "outputs": [],
   "source": [
    "query = \"\"\" \n",
    "    SELECT \n",
    "        j.nombre_jinete,\n",
    "        c.nombre_caballo,\n",
    "        COUNT(r.id_resultado)\n",
    "    FROM resultados r\n",
    "        JOIN pruebas p ON r.id_prueba = p.id_prueba\n",
    "        JOIN jinetes j ON r.id_jinete = j.id_jinete\n",
    "        JOIN caballos c ON r.id_caballo = c.id_caballo\n",
    "        JOIN resultados_salto rs ON r.id_resultado = rs.id_resultado\n",
    "    GROUP BY j.nombre_jinete, c.nombre_caballo;\n",
    "\"\"\"\n",
    "query_2 = \"\"\" \n",
    "\n",
    "    SELECT \n",
    "        nombre_prueba\n",
    "    FROM pruebas\n",
    "    WHERE nombre_prueba LIKE '%5 años%';\n",
    "\"\"\"\n",
    "\n",
    "query_4 = \"\"\" \n",
    "    SELECT \n",
    "        COUNT(DISTINCT c.id_caballo)\n",
    "    FROM resultados r\n",
    "        JOIN pruebas p ON r.id_prueba = p.id_prueba\n",
    "        JOIN jinetes j ON r.id_jinete = j.id_jinete\n",
    "        JOIN caballos c ON r.id_caballo = c.id_caballo\n",
    "        JOIN resultados_salto rs ON r.id_resultado = rs.id_resultado\n",
    "    WHERE p.nombre_prueba LIKE '%5 años%';\n",
    "\"\"\"\n",
    "\n",
    "query_5 = \"\"\"\n",
    "    SELECT\n",
    "        CASE\n",
    "            WHEN p.nombre_prueba LIKE '%5 años%' THEN '5 años'\n",
    "            WHEN p.nombre_prueba LIKE '%6 años%' THEN '6 años'\n",
    "            WHEN p.nombre_prueba LIKE '%7 años%' THEN '7 años'\n",
    "            ELSE 'Otra edad'\n",
    "        END AS edad_referenciada,\n",
    "        COUNT(DISTINCT c.id_caballo) AS numero_caballos\n",
    "    FROM resultados r\n",
    "        JOIN pruebas p ON r.id_prueba = p.id_prueba\n",
    "        JOIN caballos c ON r.id_caballo = c.id_caballo\n",
    "    GROUP BY\n",
    "        edad_referenciada;\n",
    "\"\"\""
   ]
  },
  {
   "cell_type": "code",
   "execution_count": null,
   "id": "18a0e3c1",
   "metadata": {},
   "outputs": [],
   "source": [
    "conn.rollback()"
   ]
  },
  {
   "cell_type": "code",
   "execution_count": null,
   "id": "ad2ec4ca",
   "metadata": {},
   "outputs": [],
   "source": [
    "import numpy as np"
   ]
  },
  {
   "cell_type": "code",
   "execution_count": null,
   "id": "74d199f1",
   "metadata": {},
   "outputs": [],
   "source": [
    "query_cinco = \"\"\" \n",
    "    SELECT \n",
    "        COUNT(DISTINCT c.id_caballo)\n",
    "    FROM resultados r\n",
    "        JOIN pruebas p ON r.id_prueba = p.id_prueba\n",
    "        JOIN jinetes j ON r.id_jinete = j.id_jinete\n",
    "        JOIN caballos c ON r.id_caballo = c.id_caballo\n",
    "        JOIN resultados_salto rs ON r.id_resultado = rs.id_resultado\n",
    "    WHERE p.nombre_prueba LIKE '%5 años%';\n",
    "\"\"\"\n",
    "query_6 = \"\"\" \n",
    "    SELECT \n",
    "        COUNT(DISTINCT c.id_caballo)\n",
    "    FROM resultados r\n",
    "        JOIN pruebas p ON r.id_prueba = p.id_prueba\n",
    "        JOIN jinetes j ON r.id_jinete = j.id_jinete\n",
    "        JOIN caballos c ON r.id_caballo = c.id_caballo\n",
    "        JOIN resultados_salto rs ON r.id_resultado = rs.id_resultado\n",
    "    WHERE p.nombre_prueba LIKE '%6 años%';\n",
    "\"\"\"\n",
    "query_7 = \"\"\" \n",
    "    SELECT \n",
    "        COUNT(DISTINCT c.id_caballo)\n",
    "    FROM resultados r\n",
    "        JOIN pruebas p ON r.id_prueba = p.id_prueba\n",
    "        JOIN jinetes j ON r.id_jinete = j.id_jinete\n",
    "        JOIN caballos c ON r.id_caballo = c.id_caballo\n",
    "        JOIN resultados_salto rs ON r.id_resultado = rs.id_resultado\n",
    "    WHERE p.nombre_prueba LIKE '%7 años%';\n",
    "\"\"\"\n",
    "query_todos = \"\"\" \n",
    "    SELECT \n",
    "        COUNT(DISTINCT c.id_caballo)\n",
    "    FROM resultados r\n",
    "        JOIN pruebas p ON r.id_prueba = p.id_prueba\n",
    "        JOIN jinetes j ON r.id_jinete = j.id_jinete\n",
    "        JOIN caballos c ON r.id_caballo = c.id_caballo\n",
    "        JOIN resultados_salto rs ON r.id_resultado = rs.id_resultado;\n",
    "\"\"\""
   ]
  },
  {
   "cell_type": "code",
   "execution_count": null,
   "id": "fc7f4eb8",
   "metadata": {},
   "outputs": [],
   "source": [
    "conn.rollback()"
   ]
  },
  {
   "cell_type": "code",
   "execution_count": null,
   "id": "7a8b4a48",
   "metadata": {},
   "outputs": [
    {
     "name": "stdout",
     "output_type": "stream",
     "text": [
      "[(347,)] [(701,)] [(738,)] [(8332,)] 1786 21.44\n"
     ]
    }
   ],
   "source": [
    "cinco_años = ejecutor_querys(cur, query_cinco)\n",
    "seis_años = ejecutor_querys(cur, query_6)\n",
    "siete_años = ejecutor_querys(cur, query_7)\n",
    "todos = ejecutor_querys(cur, query_todos)\n",
    "caballos_jovenes = sum([cinco_años[0][0], seis_años[0][0], siete_años[0][0]])\n",
    "porcentaje_caballos_jovenes = round((caballos_jovenes / todos[0][0]) * 100, 2)\n",
    "print(cinco_años, seis_años, siete_años, todos, caballos_jovenes, porcentaje_caballos_jovenes)"
   ]
  },
  {
   "cell_type": "code",
   "execution_count": null,
   "id": "1f18a0e3",
   "metadata": {},
   "outputs": [],
   "source": [
    "query_top_10_5_años = \"\"\" \n",
    "    SELECT \n",
    "        j.nombre_jinete,\n",
    "        c.nombre_caballo,\n",
    "        COUNT(r.id_resultado),\n",
    "        SUM(CASE WHEN r.puesto BETWEEN 1 AND 3 THEN 1 ELSE 0 END)\n",
    "    FROM resultados r\n",
    "        JOIN pruebas p ON r.id_prueba = p.id_prueba\n",
    "        JOIN jinetes j ON r.id_jinete = j.id_jinete\n",
    "        JOIN caballos c ON r.id_caballo = c.id_caballo\n",
    "        JOIN resultados_salto rs ON r.id_resultado = rs.id_resultado\n",
    "    WHERE p.nombre_prueba LIKE '%5 años%'\n",
    "    GROUP BY j.nombre_jinete, c.nombre_caballo\n",
    "    ORDER BY 4 DESC;\n",
    "\"\"\"\n",
    "\n",
    "\n",
    "query_top_10_6_años = \"\"\" \n",
    "    SELECT \n",
    "        j.nombre_jinete,\n",
    "        c.nombre_caballo,\n",
    "        COUNT(r.id_resultado),\n",
    "        SUM(CASE WHEN r.puesto BETWEEN 1 AND 3 THEN 1 ELSE 0 END)\n",
    "    FROM resultados r\n",
    "        JOIN pruebas p ON r.id_prueba = p.id_prueba\n",
    "        JOIN jinetes j ON r.id_jinete = j.id_jinete\n",
    "        JOIN caballos c ON r.id_caballo = c.id_caballo\n",
    "        JOIN resultados_salto rs ON r.id_resultado = rs.id_resultado\n",
    "    WHERE p.nombre_prueba LIKE '%6 años%'\n",
    "    GROUP BY j.nombre_jinete, c.nombre_caballo\n",
    "    ORDER BY 4 DESC;\n",
    "\"\"\"\n",
    "\n",
    "\n",
    "query_top_10_7_años = \"\"\" \n",
    "    SELECT \n",
    "        j.nombre_jinete,\n",
    "        c.nombre_caballo,\n",
    "        COUNT(r.id_resultado),\n",
    "        SUM(CASE WHEN r.puesto BETWEEN 1 AND 3 THEN 1 ELSE 0 END)\n",
    "    FROM resultados r\n",
    "        JOIN pruebas p ON r.id_prueba = p.id_prueba\n",
    "        JOIN jinetes j ON r.id_jinete = j.id_jinete\n",
    "        JOIN caballos c ON r.id_caballo = c.id_caballo\n",
    "        JOIN resultados_salto rs ON r.id_resultado = rs.id_resultado\n",
    "    WHERE p.nombre_prueba LIKE '%7 años%'\n",
    "    GROUP BY j.nombre_jinete, c.nombre_caballo\n",
    "    ORDER BY 4 DESC;\n",
    "\"\"\"\n",
    "\n",
    "query_top_10 = \"\"\" \n",
    "    SELECT \n",
    "        j.nombre_jinete,\n",
    "        c.nombre_caballo,\n",
    "        COUNT(r.id_resultado),\n",
    "        SUM(CASE WHEN r.puesto BETWEEN 1 AND 3 THEN 1 ELSE 0 END)\n",
    "    FROM resultados r\n",
    "        JOIN pruebas p ON r.id_prueba = p.id_prueba\n",
    "        JOIN jinetes j ON r.id_jinete = j.id_jinete\n",
    "        JOIN caballos c ON r.id_caballo = c.id_caballo\n",
    "        JOIN resultados_salto rs ON r.id_resultado = rs.id_resultado\n",
    "    WHERE p.nombre_prueba NOT LIKE '%7 años%' AND p.nombre_prueba NOT LIKE '%5 años%' AND p.nombre_prueba NOT LIKE '%6 años%'\n",
    "    GROUP BY j.nombre_jinete, c.nombre_caballo\n",
    "    ORDER BY 4 DESC;\n",
    "\"\"\"\n"
   ]
  },
  {
   "cell_type": "code",
   "execution_count": null,
   "id": "dd932a1f",
   "metadata": {},
   "outputs": [
    {
     "data": {
      "text/html": [
       "<div>\n",
       "<style scoped>\n",
       "    .dataframe tbody tr th:only-of-type {\n",
       "        vertical-align: middle;\n",
       "    }\n",
       "\n",
       "    .dataframe tbody tr th {\n",
       "        vertical-align: top;\n",
       "    }\n",
       "\n",
       "    .dataframe thead th {\n",
       "        text-align: right;\n",
       "    }\n",
       "</style>\n",
       "<table border=\"1\" class=\"dataframe\">\n",
       "  <thead>\n",
       "    <tr style=\"text-align: right;\">\n",
       "      <th></th>\n",
       "      <th>0</th>\n",
       "      <th>1</th>\n",
       "      <th>2</th>\n",
       "      <th>3</th>\n",
       "    </tr>\n",
       "  </thead>\n",
       "  <tbody>\n",
       "    <tr>\n",
       "      <th>0</th>\n",
       "      <td>oliver fletcher</td>\n",
       "      <td>krack bleu c</td>\n",
       "      <td>18</td>\n",
       "      <td>15</td>\n",
       "    </tr>\n",
       "    <tr>\n",
       "      <th>1</th>\n",
       "      <td>james smith</td>\n",
       "      <td>dominican 2000 z</td>\n",
       "      <td>47</td>\n",
       "      <td>15</td>\n",
       "    </tr>\n",
       "    <tr>\n",
       "      <th>2</th>\n",
       "      <td>charlotte bevan</td>\n",
       "      <td>cupido quality z</td>\n",
       "      <td>24</td>\n",
       "      <td>15</td>\n",
       "    </tr>\n",
       "    <tr>\n",
       "      <th>3</th>\n",
       "      <td>sabine comet</td>\n",
       "      <td>flipper du chateau</td>\n",
       "      <td>18</td>\n",
       "      <td>15</td>\n",
       "    </tr>\n",
       "    <tr>\n",
       "      <th>4</th>\n",
       "      <td>james smith</td>\n",
       "      <td>juno rose 23</td>\n",
       "      <td>33</td>\n",
       "      <td>14</td>\n",
       "    </tr>\n",
       "    <tr>\n",
       "      <th>...</th>\n",
       "      <td>...</td>\n",
       "      <td>...</td>\n",
       "      <td>...</td>\n",
       "      <td>...</td>\n",
       "    </tr>\n",
       "    <tr>\n",
       "      <th>7422</th>\n",
       "      <td>jackson reed stephenson</td>\n",
       "      <td>domination f z</td>\n",
       "      <td>17</td>\n",
       "      <td>0</td>\n",
       "    </tr>\n",
       "    <tr>\n",
       "      <th>7423</th>\n",
       "      <td>leigh ofer -</td>\n",
       "      <td>carambola</td>\n",
       "      <td>5</td>\n",
       "      <td>0</td>\n",
       "    </tr>\n",
       "    <tr>\n",
       "      <th>7424</th>\n",
       "      <td>georgie tiplady</td>\n",
       "      <td>premier george</td>\n",
       "      <td>8</td>\n",
       "      <td>0</td>\n",
       "    </tr>\n",
       "    <tr>\n",
       "      <th>7425</th>\n",
       "      <td>ugo berrittella</td>\n",
       "      <td>cornetto quality z</td>\n",
       "      <td>9</td>\n",
       "      <td>0</td>\n",
       "    </tr>\n",
       "    <tr>\n",
       "      <th>7426</th>\n",
       "      <td>luis márquez méndez</td>\n",
       "      <td>maxime</td>\n",
       "      <td>10</td>\n",
       "      <td>0</td>\n",
       "    </tr>\n",
       "  </tbody>\n",
       "</table>\n",
       "<p>7427 rows × 4 columns</p>\n",
       "</div>"
      ],
      "text/plain": [
       "                            0                   1   2   3\n",
       "0             oliver fletcher        krack bleu c  18  15\n",
       "1                 james smith    dominican 2000 z  47  15\n",
       "2             charlotte bevan    cupido quality z  24  15\n",
       "3                sabine comet  flipper du chateau  18  15\n",
       "4                 james smith        juno rose 23  33  14\n",
       "...                       ...                 ...  ..  ..\n",
       "7422  jackson reed stephenson      domination f z  17   0\n",
       "7423             leigh ofer -           carambola   5   0\n",
       "7424          georgie tiplady      premier george   8   0\n",
       "7425          ugo berrittella  cornetto quality z   9   0\n",
       "7426      luis márquez méndez              maxime  10   0\n",
       "\n",
       "[7427 rows x 4 columns]"
      ]
     },
     "execution_count": 44,
     "metadata": {},
     "output_type": "execute_result"
    }
   ],
   "source": [
    "resultados = pd.DataFrame(ejecutor_querys(cur, query_top_10))\n",
    "# resultados_5_años[\"coso\"] = round((resultados_5_años[3]/resultados_5_años[2])*100, 2)\n",
    "resultados\n"
   ]
  },
  {
   "cell_type": "code",
   "execution_count": null,
   "id": "271bb54c",
   "metadata": {},
   "outputs": [
    {
     "ename": "NameError",
     "evalue": "name 'query_3' is not defined",
     "output_type": "error",
     "traceback": [
      "\u001b[31m---------------------------------------------------------------------------\u001b[39m",
      "\u001b[31mNameError\u001b[39m                                 Traceback (most recent call last)",
      "\u001b[36mCell\u001b[39m\u001b[36m \u001b[39m\u001b[32mIn[45]\u001b[39m\u001b[32m, line 1\u001b[39m\n\u001b[32m----> \u001b[39m\u001b[32m1\u001b[39m resultados_5_años = pd.DataFrame(ejecutor_querys(cur, \u001b[43mquery_3\u001b[49m))\n\u001b[32m      2\u001b[39m resultados_5_años[\u001b[33m\"\u001b[39m\u001b[33mdoble_cero\u001b[39m\u001b[33m\"\u001b[39m] = resultados_5_años.apply(\u001b[38;5;28;01mlambda\u001b[39;00m x: \u001b[32m1\u001b[39m \u001b[38;5;28;01mif\u001b[39;00m  ((pd.isna(x[\u001b[32m2\u001b[39m]) \u001b[38;5;129;01mor\u001b[39;00m x[\u001b[32m2\u001b[39m] == \u001b[32m0\u001b[39m) \u001b[38;5;129;01mand\u001b[39;00m (pd.isna(x[\u001b[32m3\u001b[39m]) \u001b[38;5;129;01mor\u001b[39;00m x[\u001b[32m3\u001b[39m] == \u001b[32m0\u001b[39m)) \u001b[38;5;28;01melse\u001b[39;00m \u001b[32m0\u001b[39m,axis=\u001b[32m1\u001b[39m)\n\u001b[32m      3\u001b[39m resultados_5_años[pd.isna(resultados_5_años[\u001b[32m2\u001b[39m])]\n",
      "\u001b[31mNameError\u001b[39m: name 'query_3' is not defined"
     ]
    }
   ],
   "source": [
    "resultados_5_años = pd.DataFrame(ejecutor_querys(cur, query_3))\n",
    "resultados_5_años[\"doble_cero\"] = resultados_5_años.apply(lambda x: 1 if  ((pd.isna(x[2]) or x[2] == 0) and (pd.isna(x[3]) or x[3] == 0)) else 0,axis=1)\n",
    "resultados_5_años[pd.isna(resultados_5_años[2])]"
   ]
  },
  {
   "cell_type": "code",
   "execution_count": null,
   "id": "2ecbff2e",
   "metadata": {},
   "outputs": [
    {
     "data": {
      "text/html": [
       "<div>\n",
       "<style scoped>\n",
       "    .dataframe tbody tr th:only-of-type {\n",
       "        vertical-align: middle;\n",
       "    }\n",
       "\n",
       "    .dataframe tbody tr th {\n",
       "        vertical-align: top;\n",
       "    }\n",
       "\n",
       "    .dataframe thead th {\n",
       "        text-align: right;\n",
       "    }\n",
       "</style>\n",
       "<table border=\"1\" class=\"dataframe\">\n",
       "  <thead>\n",
       "    <tr style=\"text-align: right;\">\n",
       "      <th></th>\n",
       "      <th>0</th>\n",
       "      <th>1</th>\n",
       "      <th>doble_cero</th>\n",
       "      <th>4</th>\n",
       "    </tr>\n",
       "  </thead>\n",
       "  <tbody>\n",
       "    <tr>\n",
       "      <th>318</th>\n",
       "      <td>rudie wallerbosch</td>\n",
       "      <td>cosi celeste du perchet</td>\n",
       "      <td>25</td>\n",
       "      <td>25</td>\n",
       "    </tr>\n",
       "    <tr>\n",
       "      <th>49</th>\n",
       "      <td>bernardo moura</td>\n",
       "      <td>extasy de vilamoura z</td>\n",
       "      <td>13</td>\n",
       "      <td>22</td>\n",
       "    </tr>\n",
       "    <tr>\n",
       "      <th>29</th>\n",
       "      <td>ana gonzález menéndez</td>\n",
       "      <td>diamant de chalina</td>\n",
       "      <td>8</td>\n",
       "      <td>21</td>\n",
       "    </tr>\n",
       "    <tr>\n",
       "      <th>7</th>\n",
       "      <td>alejandro fernández sanchez</td>\n",
       "      <td>quiron del amor</td>\n",
       "      <td>16</td>\n",
       "      <td>20</td>\n",
       "    </tr>\n",
       "    <tr>\n",
       "      <th>40</th>\n",
       "      <td>aurelia pollet</td>\n",
       "      <td>kamelia gesmeray</td>\n",
       "      <td>18</td>\n",
       "      <td>18</td>\n",
       "    </tr>\n",
       "    <tr>\n",
       "      <th>...</th>\n",
       "      <td>...</td>\n",
       "      <td>...</td>\n",
       "      <td>...</td>\n",
       "      <td>...</td>\n",
       "    </tr>\n",
       "    <tr>\n",
       "      <th>245</th>\n",
       "      <td>marco pellegrino</td>\n",
       "      <td>kemerald de kreisker</td>\n",
       "      <td>1</td>\n",
       "      <td>1</td>\n",
       "    </tr>\n",
       "    <tr>\n",
       "      <th>237</th>\n",
       "      <td>luis mateos bernaldez</td>\n",
       "      <td>perry</td>\n",
       "      <td>1</td>\n",
       "      <td>1</td>\n",
       "    </tr>\n",
       "    <tr>\n",
       "      <th>229</th>\n",
       "      <td>lorenzo pradas freire</td>\n",
       "      <td>hermes van’t keijtershof z</td>\n",
       "      <td>1</td>\n",
       "      <td>1</td>\n",
       "    </tr>\n",
       "    <tr>\n",
       "      <th>78</th>\n",
       "      <td>christopher smith</td>\n",
       "      <td>billy becks</td>\n",
       "      <td>1</td>\n",
       "      <td>1</td>\n",
       "    </tr>\n",
       "    <tr>\n",
       "      <th>25</th>\n",
       "      <td>alvaro mateos bernaldez</td>\n",
       "      <td>perry</td>\n",
       "      <td>1</td>\n",
       "      <td>1</td>\n",
       "    </tr>\n",
       "  </tbody>\n",
       "</table>\n",
       "<p>364 rows × 4 columns</p>\n",
       "</div>"
      ],
      "text/plain": [
       "                               0                           1  doble_cero   4\n",
       "318            rudie wallerbosch     cosi celeste du perchet          25  25\n",
       "49                bernardo moura       extasy de vilamoura z          13  22\n",
       "29         ana gonzález menéndez          diamant de chalina           8  21\n",
       "7    alejandro fernández sanchez             quiron del amor          16  20\n",
       "40                aurelia pollet            kamelia gesmeray          18  18\n",
       "..                           ...                         ...         ...  ..\n",
       "245             marco pellegrino        kemerald de kreisker           1   1\n",
       "237        luis mateos bernaldez                       perry           1   1\n",
       "229        lorenzo pradas freire  hermes van’t keijtershof z           1   1\n",
       "78             christopher smith                 billy becks           1   1\n",
       "25       alvaro mateos bernaldez                       perry           1   1\n",
       "\n",
       "[364 rows x 4 columns]"
      ]
     },
     "execution_count": 88,
     "metadata": {},
     "output_type": "execute_result"
    }
   ],
   "source": [
    "resultados_5_años_unicos = resultados_5_años.groupby([0, 1]).agg({\"doble_cero\": \"sum\", 4: \"count\"}).reset_index()\n",
    "resultados_5_años_unicos.sort_values(by = 4, ascending= False)"
   ]
  },
  {
   "cell_type": "code",
   "execution_count": null,
   "id": "9c56b2f6",
   "metadata": {},
   "outputs": [
    {
     "data": {
      "text/plain": [
       "347"
      ]
     },
     "execution_count": 79,
     "metadata": {},
     "output_type": "execute_result"
    }
   ],
   "source": [
    "len(resultados_5_años[1].unique())"
   ]
  },
  {
   "cell_type": "code",
   "execution_count": null,
   "id": "665d01ca",
   "metadata": {},
   "outputs": [
    {
     "ename": "GroupingError",
     "evalue": "la columna «p.nombre_prueba» debe aparecer en la cláusula GROUP BY o ser usada en una función de agregación\nLINE 5:         p.nombre_prueba,\n                ^\n",
     "output_type": "error",
     "traceback": [
      "\u001b[31m---------------------------------------------------------------------------\u001b[39m",
      "\u001b[31mGroupingError\u001b[39m                             Traceback (most recent call last)",
      "\u001b[36mCell\u001b[39m\u001b[36m \u001b[39m\u001b[32mIn[70]\u001b[39m\u001b[32m, line 1\u001b[39m\n\u001b[32m----> \u001b[39m\u001b[32m1\u001b[39m resultados_5_años = pd.DataFrame(\u001b[43mejecutor_querys\u001b[49m\u001b[43m(\u001b[49m\u001b[43mcur\u001b[49m\u001b[43m,\u001b[49m\u001b[43m \u001b[49m\u001b[43mquery_3\u001b[49m\u001b[43m)\u001b[49m)\n\u001b[32m      2\u001b[39m \u001b[38;5;66;03m# resultados_5_años = resultados_5_años.rename(columns = {0: 'jinete', 1: 'caballo', 2: 'n_concursos_realizados', 3: 'n_rondas_cero_obs', 4: 'n_rondas_cero_tmp', 5:'n_rondas_doble_cero'})\u001b[39;00m\n\u001b[32m      3\u001b[39m \u001b[38;5;66;03m# resultados_5_años[\"rondas_doble_cero\"] = resultados_5_años[4] - resultados_5_años[3]\u001b[39;00m\n\u001b[32m      4\u001b[39m \u001b[38;5;66;03m# resultados_5_años = resultados_5_años.sort_values(by = \"rondas_doble_cero\", ascending = False)\u001b[39;00m\n\u001b[32m      5\u001b[39m resultados_5_años[\u001b[33m\"\u001b[39m\u001b[33mdoble_cero\u001b[39m\u001b[33m\"\u001b[39m] = resultados_5_años.apply(\u001b[38;5;28;01mlambda\u001b[39;00m x: \u001b[32m1\u001b[39m \u001b[38;5;28;01mif\u001b[39;00m \n\u001b[32m      6\u001b[39m                                                           ((pd.isna(x[\u001b[32m3\u001b[39m]) \u001b[38;5;129;01mor\u001b[39;00m x[\u001b[32m3\u001b[39m] == \u001b[32m0\u001b[39m) \u001b[38;5;129;01mand\u001b[39;00m (pd.isna(x[\u001b[32m4\u001b[39m]) \u001b[38;5;129;01mor\u001b[39;00m x[\u001b[32m4\u001b[39m] == \u001b[32m0\u001b[39m) \u001b[38;5;129;01mand\u001b[39;00m (pd.isna(x[\u001b[32m5\u001b[39m]) \u001b[38;5;129;01mor\u001b[39;00m x[\u001b[32m5\u001b[39m] == \u001b[32m0\u001b[39m) \u001b[38;5;129;01mand\u001b[39;00m (pd.isna(x[\u001b[32m6\u001b[39m]) \u001b[38;5;129;01mor\u001b[39;00m x[\u001b[32m6\u001b[39m] == \u001b[32m0\u001b[39m)) \n\u001b[32m      7\u001b[39m \n\u001b[32m      8\u001b[39m                                                           \u001b[38;5;28;01melse\u001b[39;00m \u001b[32m0\u001b[39m,axis=\u001b[32m1\u001b[39m)\n",
      "\u001b[36mCell\u001b[39m\u001b[36m \u001b[39m\u001b[32mIn[5]\u001b[39m\u001b[32m, line 2\u001b[39m, in \u001b[36mejecutor_querys\u001b[39m\u001b[34m(cur, query)\u001b[39m\n\u001b[32m      1\u001b[39m \u001b[38;5;28;01mdef\u001b[39;00m\u001b[38;5;250m \u001b[39m\u001b[34mejecutor_querys\u001b[39m(cur, query):\n\u001b[32m----> \u001b[39m\u001b[32m2\u001b[39m     \u001b[43mcur\u001b[49m\u001b[43m.\u001b[49m\u001b[43mexecute\u001b[49m\u001b[43m(\u001b[49m\u001b[43mquery\u001b[49m\u001b[43m)\u001b[49m\n\u001b[32m      3\u001b[39m     \u001b[38;5;28;01mreturn\u001b[39;00m cur.fetchall()\n",
      "\u001b[31mGroupingError\u001b[39m: la columna «p.nombre_prueba» debe aparecer en la cláusula GROUP BY o ser usada en una función de agregación\nLINE 5:         p.nombre_prueba,\n                ^\n"
     ]
    }
   ],
   "source": [
    "resultados_5_años = pd.DataFrame(ejecutor_querys(cur, query_3))\n",
    "# resultados_5_años = resultados_5_años.rename(columns = {0: 'jinete', 1: 'caballo', 2: 'n_concursos_realizados', 3: 'n_rondas_cero_obs', 4: 'n_rondas_cero_tmp', 5:'n_rondas_doble_cero'})\n",
    "# resultados_5_años[\"rondas_doble_cero\"] = resultados_5_años[4] - resultados_5_años[3]\n",
    "# resultados_5_años = resultados_5_años.sort_values(by = \"rondas_doble_cero\", ascending = False)\n",
    "resultados_5_años[\"doble_cero\"] = resultados_5_años.apply(lambda x: 1 if \n",
    "                                                          ((pd.isna(x[3]) or x[3] == 0) and (pd.isna(x[4]) or x[4] == 0) and (pd.isna(x[5]) or x[5] == 0) and (pd.isna(x[6]) or x[6] == 0)) \n",
    "                                                          \n",
    "                                                          else 0,axis=1)\n",
    "resultados_5_años[resultados_5_años[0] == 'rudie wallerbosch']"
   ]
  }
 ],
 "metadata": {
  "kernelspec": {
   "display_name": "venv",
   "language": "python",
   "name": "python3"
  },
  "language_info": {
   "codemirror_mode": {
    "name": "ipython",
    "version": 3
   },
   "file_extension": ".py",
   "mimetype": "text/x-python",
   "name": "python",
   "nbconvert_exporter": "python",
   "pygments_lexer": "ipython3",
   "version": "3.12.4"
  }
 },
 "nbformat": 4,
 "nbformat_minor": 5
}
